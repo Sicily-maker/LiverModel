{
 "cells": [
  {
   "cell_type": "markdown",
   "metadata": {},
   "source": [
    "# Liver Model Construction: Notebook"
   ]
  },
  {
   "cell_type": "code",
   "execution_count": 1,
   "metadata": {},
   "outputs": [
    {
     "name": "stdout",
     "output_type": "stream",
     "text": [
      "MASSpy version: 0.1.6\n"
     ]
    }
   ],
   "source": [
    "import os\n",
    "import re\n",
    "import warnings\n",
    "# from cobra.io import \n",
    "from cobra.io.json import *\n",
    "import escher\n",
    "import mass\n",
    "import numpy as np\n",
    "import pandas as pd\n",
    "import equilibrator_api\n",
    "from equilibrator_api import ComponentContribution, Q_\n",
    "import sympy as sym\n",
    "from cobra import Model, Reaction, Metabolite, DictList\n",
    "import cobra.test\n",
    "from os.path import join\n",
    "from mass.util import qcqa,qcqa_model\n",
    "from mass import (\n",
    "    MassConfiguration, MassMetabolite, MassModel,\n",
    "    MassReaction, Simulation, UnitDefinition)\n",
    "from mass.io.json import save_json_model as save_json_mass_model\n",
    "from mass.visualization import plot_comparison, plot_time_profile, plot_ensemble_phase_portrait, plot_ensemble_time_profile\n",
    "mass_config = MassConfiguration()\n",
    "mass_config.irreversible_Keq = float(\"inf\")\n",
    "print(\"MASSpy version: {0}\".format(mass.__version__))\n",
    "from six import iteritems\n",
    "import matplotlib.pyplot as plt\n",
    "from mass.thermo import (\n",
    "    ConcSolver, sample_concentrations,\n",
    "    update_model_with_concentration_solution)\n",
    "import cobra_dict as c_d\n",
    "import csv\n",
    "import altair as alt\n",
    "from minspan.minspan import minspan,nnz\n"
   ]
  },
  {
   "cell_type": "code",
   "execution_count": 2,
   "metadata": {},
   "outputs": [],
   "source": [
    "maps_dir = os.path.abspath(\"maps\")\n",
    "data_dir = os.path.abspath(\"data\")\n",
    "dir = os.path.abspath(\"\")\n",
    "model_dir = os.path.abspath(\"models\")\n",
    "minspan_dir= os.path.abspath(\"minspans_csv\")"
   ]
  },
  {
   "cell_type": "markdown",
   "metadata": {},
   "source": [
    "### Getting reactions and metabolite data from RECON 3D"
   ]
  },
  {
   "cell_type": "code",
   "execution_count": 3,
   "metadata": {},
   "outputs": [],
   "source": [
    "# making dataframe of metabolites\n",
    "\n",
    "csv_met = os.path.join(data_dir,\"gly_gluco_no_compts_met_df.csv\")\n",
    "met_csv_df = pd.read_csv(csv_met,index_col=\"id\")\n",
    "metabolite_info=met_csv_df.to_dict(orient='index')\n",
    "\n",
    "# making dataframe of reactions\n",
    "# csv_rxn = os.path.join(data_dir,\"gly_gluco_reaction_df.csv\")\n",
    "# rxn_csv_df = pd.read_csv(csv_rxn,index_col=\"id\") \n",
    "# reaction_info = rxn_csv_df.to_dict(orient='index')"
   ]
  },
  {
   "cell_type": "markdown",
   "metadata": {},
   "source": [
    "### Loading cobra model"
   ]
  },
  {
   "cell_type": "code",
   "execution_count": 4,
   "metadata": {},
   "outputs": [
    {
     "name": "stdout",
     "output_type": "stream",
     "text": [
      "Set parameter Username\n",
      "\n",
      "--------------------------------------------\n",
      "Warning: your license will expire in 12 days\n",
      "--------------------------------------------\n",
      "\n",
      "Academic license - for non-commercial use only - expires 2022-04-30\n"
     ]
    }
   ],
   "source": [
    "# Initiate empty model\n",
    "trial= cobra.Model()"
   ]
  },
  {
   "cell_type": "code",
   "execution_count": 5,
   "metadata": {},
   "outputs": [],
   "source": [
    "#  Add all the remaining metabolites involved in the pathway\n",
    "for met_id, info in metabolite_info.items():\n",
    "    met = cobra.Metabolite(met_id, name=info['name'], formula=info['formula'], \n",
    "                           charge=info['charge'], \n",
    "                        #    compartment=info['compartment']\n",
    "                           )\n",
    "    trial.add_metabolites(met)"
   ]
  },
  {
   "cell_type": "code",
   "execution_count": 6,
   "metadata": {},
   "outputs": [],
   "source": [
    "# Loading reaction data as JSON file to maintain data types as dictionaries \n",
    "rxn_json = os.path.join(data_dir,\"gly_gluco_no_compt_reaction_df.json\")\n",
    "with open(rxn_json) as json_file:\n",
    "    rxn_data = json.load(json_file)"
   ]
  },
  {
   "cell_type": "code",
   "execution_count": 7,
   "metadata": {},
   "outputs": [],
   "source": [
    "for reaction, info in rxn_data.items():\n",
    "    reaction_obj = cobra.Reaction(reaction)\n",
    "    reaction_obj.id=reaction\n",
    "    reaction= reaction_obj.id\n",
    "    reaction_obj.lower_bound = info['lower_bound']\n",
    "    reaction_obj.upper_bound = info['upper_bound']\n",
    "    reaction_obj.name = info['name']\n",
    "    trial.add_reaction(reaction_obj)\n",
    "    temp=info['metabolites']\n",
    "    reaction_obj.add_metabolites(temp)\n",
    "    # print(reaction)"
   ]
  },
  {
   "cell_type": "code",
   "execution_count": 8,
   "metadata": {},
   "outputs": [],
   "source": [
    "#adding NADHM \n",
    "nadhm = {'nadh': -1, 'h': 1, 'nad': 1}\n",
    "rxn = cobra.Reaction('NADHM')\n",
    "trial.add_reaction(rxn)\n",
    "rxn.add_metabolites(nadhm)\n",
    "\n",
    "\n",
    "\n",
    "\n",
    "# peptm = {'pep': -1, 'pi': -1, 'pi': 1, 'pep':1}\n",
    "# rxn2 = cobra.Reaction('PEPtm')\n",
    "# trial.add_reaction(rxn2)\n",
    "# rxn2.add_metabolites(peptm)\n",
    "\n",
    "\n",
    "\n",
    "g6pase = {'g6p': -1, 'h2o': -1, 'pi': 1, 'glc__D':1}\n",
    "rxn3 = cobra.Reaction('G6PP')\n",
    "trial.add_reaction(rxn3)\n",
    "rxn3.add_metabolites(g6pase)\n",
    "trial.reactions.G6PP.lower_bound=0\n",
    "\n"
   ]
  },
  {
   "cell_type": "code",
   "execution_count": null,
   "metadata": {},
   "outputs": [],
   "source": [
    "#Mass balance check\n",
    "# for r in trial.reactions:\n",
    "#     print(r.id,  r.check_mass_balance())"
   ]
  },
  {
   "cell_type": "code",
   "execution_count": 9,
   "metadata": {},
   "outputs": [],
   "source": [
    "trial.metabolites.h.charge= 1\n",
    "# trial.metabolites.h.charge= 1\n",
    "# trial.metabolites.h_e.charge= 1\n",
    "trial.metabolites.pi.charge= -2\n",
    "# trial.metabolites.pi_m.charge= -2"
   ]
  },
  {
   "cell_type": "code",
   "execution_count": 10,
   "metadata": {},
   "outputs": [
    {
     "name": "stdout",
     "output_type": "stream",
     "text": [
      "HEX1 {}\n",
      "PGI {}\n",
      "FBP {}\n",
      "PFK {}\n",
      "FBA {}\n",
      "TPI {}\n",
      "GAPD {}\n",
      "PGK {}\n",
      "PGM {}\n",
      "ENO {}\n",
      "PEPCKm {}\n",
      "PYK {}\n",
      "PCm {}\n",
      "LDH_L {}\n",
      "ATPM {}\n",
      "NADHM {'charge': 2}\n",
      "G6PP {}\n"
     ]
    }
   ],
   "source": [
    "#Mass balance check\n",
    "for r in trial.reactions:\n",
    "    print(r.id,  r.check_mass_balance())"
   ]
  },
  {
   "cell_type": "code",
   "execution_count": null,
   "metadata": {},
   "outputs": [],
   "source": [
    "# adding transport reactions to see if that changes anything\n",
    "# co2tm = {'co2_c': -1, 'co2_m': 1}\n",
    "# rxn = cobra.Reaction('CO2tm')\n",
    "# rxn.lower_bound=-1000\n",
    "# trial.add_reaction(rxn)\n",
    "# rxn.add_metabolites(co2tm)\n",
    "\n",
    "\n",
    "\n",
    "# atptm = {'adp': -1,'atp': -1, 'atp': 1,'adp': 1}\n",
    "# rxn = cobra.Reaction('ATPtm')\n",
    "# rxn.lower_bound=0\n",
    "# trial.add_reaction(rxn)\n",
    "# rxn.add_metabolites(atptm)\n",
    "\n",
    "\n",
    "\n",
    "\n",
    "\n",
    "# htm = {'h': -1, 'h': 1}\n",
    "# rxn = cobra.Reaction('Htm')\n",
    "# rxn.lower_bound=0\n",
    "# trial.add_reaction(rxn)\n",
    "# rxn.add_metabolites(htm)\n",
    "\n",
    "\n",
    "\n",
    "# pit2m = {'h_c': -1,'pi_c': -1, 'h_m': 1,'pi_m': 1}\n",
    "# rxn = cobra.Reaction('PIt2m')\n",
    "# rxn.lower_bound=-1000\n",
    "# trial.add_reaction(rxn)\n",
    "# rxn.add_metabolites(pit2m)\n"
   ]
  },
  {
   "cell_type": "code",
   "execution_count": 15,
   "metadata": {},
   "outputs": [
    {
     "name": "stdout",
     "output_type": "stream",
     "text": [
      "{}\n"
     ]
    }
   ],
   "source": [
    "print(trial.reactions.FBA.check_mass_balance())"
   ]
  },
  {
   "cell_type": "code",
   "execution_count": null,
   "metadata": {},
   "outputs": [],
   "source": [
    "for met in ['glc__D_c', \n",
    "\n",
    "'h2o_c', 'h_c', 'pi_c','lac__L_c'\n",
    ",'o2_c','co2_c',\n",
    "\n",
    "'hco3_m', 'gtp_m',\n",
    "\n",
    "     'gdp_m',\n",
    "    #  'co2_m' ,\n",
    "        #  'h_m',\n",
    "     'pi_m', \n",
    "    'amp_c',\n",
    "    # seems to be very important (adp_m)\n",
    "    'adp_m',\n",
    "    'atp_m',\n",
    "    # 'amp_m',\n",
    "    'pyr_c', \n",
    "     ]:\n",
    "    rxn = cobra.Reaction('EX_%s' % met)\n",
    "    trial.add_reaction(rxn)\n",
    "    rxn.add_metabolites({met: -1})\n",
    "    if met == 'glc__D_c':\n",
    "        rxn.lower_bound = -1 # by convention negative exchange flux = uptake\n",
    "    elif met == 'pyr_c':\n",
    "        rxn.lower_bound = -1000\n",
    "    elif met == 'co2_c':\n",
    "        rxn.lower_bound = -1000  #which bound upper or lower\n",
    "    else:\n",
    "        rxn.lower_bound = -1000"
   ]
  },
  {
   "cell_type": "code",
   "execution_count": null,
   "metadata": {},
   "outputs": [],
   "source": [
    "# adk1m = {'amp_m': -1,'atp_m': -1, 'adp_m': 2}\n",
    "# rxn = cobra.Reaction('ADK1m')\n",
    "# rxn.lower_bound=-1000\n",
    "# trial.add_reaction(rxn)\n",
    "# rxn.add_metabolites(adk1m)\n",
    "\n",
    "\n",
    "# O2tm = {'o2_c': -1, 'o2_m': 1}\n",
    "# rxn = cobra.Reaction('O2tm')\n",
    "# rxn.lower_bound=-1000\n",
    "# trial.add_reaction(rxn)\n",
    "# rxn.add_metabolites(O2tm)\n",
    "\n",
    "# trial.reactions.CO2tm"
   ]
  },
  {
   "cell_type": "code",
   "execution_count": null,
   "metadata": {},
   "outputs": [],
   "source": [
    "# for met in ['glc__D_c', 'pyr_c', 'h2o_c', 'h_c', 'pi_c','lac__L_c','amp_c','o2_c'\n",
    "# 'atp_m','hco3_m', 'gtp_m','co2_c'\n",
    "#     'h_m', 'pi_m', 'adp_m', 'gdp_m', 'co2_m' ]:\n",
    "#     rxn = cobra.Reaction('EX_%s' % met)\n",
    "#     trial.add_reaction(rxn)\n",
    "#     rxn.add_metabolites({met: -1})\n",
    "#     if met == 'glc__D_c':\n",
    "#         rxn.lower_bound = -1 # by convention negative exchange flux = uptake\n",
    "#     elif met == 'lac__L_c':\n",
    "#         rxn.lower_bound = 0\n",
    "#     else:\n",
    "#         rxn.lower_bound = -1000"
   ]
  },
  {
   "cell_type": "code",
   "execution_count": null,
   "metadata": {},
   "outputs": [],
   "source": [
    "#View all the reactions that we need build\n",
    "escher_builder = escher.Builder(\n",
    "    model=trial,\n",
    "    map_json=os.path.join(\n",
    "        maps_dir,\"Glycolysis_Gluconeogenesis_2.json\"),highlight_missing=True)\n",
    "\n",
    "escher_builder"
   ]
  },
  {
   "cell_type": "code",
   "execution_count": null,
   "metadata": {},
   "outputs": [],
   "source": [
    "# import tempfile\n",
    "# from pprint import pprint\n",
    "# from cobra.io import write_sbml_model, validate_sbml_model\n",
    "# with tempfile.NamedTemporaryFile(suffix='.xml') as f_sbml:\n",
    "#     write_sbml_model(trial, filename=f_sbml.name)\n",
    "#     report = validate_sbml_model(filename=f_sbml.name)\n",
    "\n",
    "# print(report)\n",
    "\n"
   ]
  },
  {
   "cell_type": "markdown",
   "metadata": {},
   "source": [
    "Trying out fluxes from https://www.ncbi.nlm.nih.gov/pmc/articles/PMC6405515/ Network Modeling of Liver Metabolism to Predict Plasma Metabolite Changes During Short-Term Fasting in the Laboratory Rat"
   ]
  },
  {
   "cell_type": "code",
   "execution_count": null,
   "metadata": {},
   "outputs": [],
   "source": [
    "# from cobra.flux_analysis.moma import moma"
   ]
  },
  {
   "cell_type": "code",
   "execution_count": null,
   "metadata": {},
   "outputs": [],
   "source": [
    "# moma?\n",
    "print(trial.reactions.FBA.check_mass_balance())"
   ]
  },
  {
   "cell_type": "code",
   "execution_count": null,
   "metadata": {},
   "outputs": [],
   "source": [
    "trial.objective = 'EX_glc__D_c'\n",
    "flux_solution = trial.optimize()\n",
    "flux_solution.fluxes"
   ]
  },
  {
   "cell_type": "code",
   "execution_count": null,
   "metadata": {},
   "outputs": [],
   "source": [
    "#Escher FBA: shows the solutions on the map\n",
    "initial_flux_data = {\n",
    "    reaction: flux\n",
    "    for reaction, flux in flux_solution.fluxes.items()}\n",
    "\n",
    "#view all the reactions that we need build\n",
    "escher_builder = escher.Builder(\n",
    "    model=trial,\n",
    "    map_json=os.path.join(\n",
    "        maps_dir,\"Glycolysis_Gluconeogenesis_2.json\")\n",
    "    , reaction_data=initial_flux_data)\n",
    "\n",
    "# Display map in notebook\n",
    "escher_builder"
   ]
  },
  {
   "cell_type": "code",
   "execution_count": null,
   "metadata": {},
   "outputs": [],
   "source": [
    "\n",
    "from cobra.io import json\n",
    "import cobra.test\n",
    "import os\n",
    "from os.path import join\n",
    "from glob import glob"
   ]
  },
  {
   "cell_type": "code",
   "execution_count": null,
   "metadata": {},
   "outputs": [],
   "source": [
    "gly_gluco_json = os.path.join(model_dir,\"glycolysis_gluconeogenesis.json\")\n",
    "json.save_json_model(model=trial, filename=gly_gluco_json)"
   ]
  },
  {
   "cell_type": "code",
   "execution_count": null,
   "metadata": {},
   "outputs": [],
   "source": [
    "# import cplex \n",
    "# import gurobipy "
   ]
  },
  {
   "cell_type": "code",
   "execution_count": null,
   "metadata": {},
   "outputs": [],
   "source": [
    "for model_file in glob(gly_gluco_json):\n",
    "    model_name = model_file.split('/')[-1]\n",
    "    if 'model' not in model_name:\n",
    "        continue\n",
    "    print(model_name)\n",
    "    model= load_json_model(model_file)\n",
    "    if 'NADPHM' in model.reactions:\n",
    "        model.remove_reactions(['NADPHM'])\n",
    "    # media = ['EX_lac__L_c', 'EX_pyr_c', 'EX_octa_c', 'EX_gln__L_c', 'EX_acetone_c', 'EX_bhb_c',\n",
    "    #          'EX_glu__L_c', 'EX_ser__L_c', 'EX_cys__L_c', 'EX_gly_c', 'EX_ala__L_c', 'EX_so3_c',\n",
    "    #         'EX_etoh_c', 'EX_fru_c']\n",
    "    media = ['EX_glc__D_c']\n",
    "    for met in media:\n",
    "        if met in model.reactions:\n",
    "            model.reactions.get_by_id(met).lower_bound = -1000.\n",
    "\n",
    "    rxns = [i.id for i in model.reactions]\n",
    "    # removed blocke reactions because it included ['PEPCKm', 'PCm', 'PYRt2m', 'ADK1', 'PEPtm', 'EX_h2o_c', 'EX_pi_c']\n",
    "    # blocked = cobra.flux_analysis.find_blocked_reactions(model)\n",
    "    # print(blocked)\n",
    "    # model.remove_reactions(blocked)\n",
    "\n",
    "    solved_fluxes = minspan(model, cores=3, verbose=False, timelimit=60)\n",
    "    \n",
    "    df = pd.DataFrame(solved_fluxes.copy(), index=[i.id for i in model.reactions])\n",
    "    df = df/df.abs().max()\n",
    "    for col in range(len(df.columns)):\n",
    "        column=df.iloc[:,col]\n",
    "        vals = column.values\n",
    "        min_val = min([abs(i) for i in vals if i != 0])\n",
    "        corr_fac=1/min_val\n",
    "        # print(corr_fac)\n",
    "        vals=vals*abs(corr_fac)\n",
    "        df['Norm'+ str(col)]=vals\n",
    "    csv_dir = os.path.join(minspan_dir,\"gly_gluco_csv.csv\")\n",
    "    df.to_csv(csv_dir)\n",
    "    # csv_minspan_dir = os.path.join(minspan_dir,\"liver_csv_minspan.csv\")\n",
    "## WHere it's stored\n",
    "csv_minspan_dir = os.path.join(minspan_dir,\"gly_gluco_csv.csv\")"
   ]
  },
  {
   "cell_type": "code",
   "execution_count": null,
   "metadata": {},
   "outputs": [],
   "source": [
    "# solved_fluxes = minspan(gluco, cores=3, verbose=False, timelimit=60)\n",
    "\n",
    "# df = pd.DataFrame(solved_fluxes.copy(), index=[i.id for i in gluco.reactions])\n",
    "# df = df/df.abs().max()\n",
    "# for col in range(len(df.columns)):\n",
    "#     column=df.iloc[:,col]\n",
    "#     vals = column.values\n",
    "#     min_val = min([abs(i) for i in vals if i != 0])\n",
    "#     corr_fac=1/min_val\n",
    "#     # print(corr_fac)\n",
    "#     vals=vals*abs(corr_fac)\n",
    "#     df['Norm'+ str(col)]=vals\n",
    "# csv_dir = os.path.join(minspan_dir,\"gluco_csv.csv\")\n",
    "# df.to_csv(csv_dir)"
   ]
  },
  {
   "cell_type": "code",
   "execution_count": null,
   "metadata": {},
   "outputs": [],
   "source": [
    "# making dataframe \n",
    "df = pd.read_csv(csv_minspan_dir,index_col=0) \n",
    "df"
   ]
  },
  {
   "cell_type": "code",
   "execution_count": null,
   "metadata": {},
   "outputs": [],
   "source": [
    "import escher\n",
    "from escher import Builder"
   ]
  },
  {
   "cell_type": "code",
   "execution_count": null,
   "metadata": {},
   "outputs": [],
   "source": [
    "initial_minspan_data = {\n",
    "    reaction: flux\n",
    "    for reaction, flux in df.iloc[:,18].iteritems()}"
   ]
  },
  {
   "cell_type": "code",
   "execution_count": null,
   "metadata": {},
   "outputs": [],
   "source": [
    "# #view all the reactions that we need build\n",
    "# escher_builder = escher.Builder(\n",
    "#     model=trial,\n",
    "#     map_json=os.path.join(\n",
    "#         maps_dir,\"Glycolysis_Gluconeogenesis.json\")\n",
    "#     , reaction_data=initial_flux_data)\n",
    "\n",
    "\n",
    "# New instance to prevent modifications to the existing maps\n",
    "escher_builder = Builder(\n",
    "    model=trial,\n",
    "    map_json=os.path.join(\n",
    "        maps_dir,\"Glycolysis_Gluconeogenesis_2.json\"),\n",
    "    reaction_data=initial_minspan_data)\n",
    "\n",
    "# Display map in notebook\n",
    "escher_builder"
   ]
  },
  {
   "cell_type": "code",
   "execution_count": null,
   "metadata": {},
   "outputs": [],
   "source": [
    "from cobra.io import json"
   ]
  },
  {
   "cell_type": "code",
   "execution_count": null,
   "metadata": {},
   "outputs": [],
   "source": [
    "core_json = os.path.join(model_dir,\"Glycolysis_Gluconeogenesis.json\")\n",
    "json.save_json_model(model=trial, filename=core_json)"
   ]
  },
  {
   "cell_type": "markdown",
   "metadata": {},
   "source": [
    "### Making Df of metabolites and reactions, exporting them, and importing to form MASS model"
   ]
  },
  {
   "cell_type": "code",
   "execution_count": null,
   "metadata": {},
   "outputs": [],
   "source": [
    "from cobra_dict import metabolite_to_dict as metabolite_to_dict\n",
    "from cobra_dict import reaction_to_dict as reaction_to_dict"
   ]
  },
  {
   "cell_type": "code",
   "execution_count": null,
   "metadata": {},
   "outputs": [],
   "source": [
    "met_df=pd.DataFrame()\n",
    "for met in trial.metabolites:\n",
    "    cobra_met= trial.metabolites.get_by_id(met.id)\n",
    "    m=metabolite_to_dict(cobra_met)\n",
    "    df_2=pd.DataFrame.from_dict(m,orient='index')\n",
    "    df_2=df_2.T\n",
    "    met_df=met_df.append(df_2)\n",
    "met_df=met_df.set_index('id')\n",
    "met_df"
   ]
  },
  {
   "cell_type": "code",
   "execution_count": null,
   "metadata": {},
   "outputs": [],
   "source": [
    "csv_met_cobra = os.path.join(data_dir,\"gly_gluco_cobra_met.csv\")\n",
    "met_df.to_csv(csv_met_cobra)"
   ]
  },
  {
   "cell_type": "code",
   "execution_count": null,
   "metadata": {},
   "outputs": [],
   "source": [
    "rxn_df=pd.DataFrame()\n",
    "for rxn in trial.reactions:\n",
    "    cobra_rxn= trial.reactions.get_by_id(rxn.id)\n",
    "    r=reaction_to_dict(cobra_rxn)\n",
    "#     print(r)\n",
    "    df=pd.DataFrame.from_dict(r,orient='index')\n",
    "    df=df.T\n",
    "    rxn_df=rxn_df.append(df)\n",
    "rxn_df=rxn_df.set_index('id')\n",
    "# rxn_df"
   ]
  },
  {
   "cell_type": "code",
   "execution_count": null,
   "metadata": {},
   "outputs": [],
   "source": [
    "json_rxn_cobra = os.path.join(data_dir,\"gly_gluco_cobra_rxn.json\")\n",
    "rxn_df.to_json(json_rxn_cobra,orient=\"index\")"
   ]
  },
  {
   "cell_type": "markdown",
   "metadata": {},
   "source": [
    "## Making MASS model of glycolysis"
   ]
  },
  {
   "cell_type": "code",
   "execution_count": null,
   "metadata": {},
   "outputs": [],
   "source": [
    "liver= MassModel(\"Core_Model\", array_type='DataFrame', dtype=np.int64)"
   ]
  },
  {
   "cell_type": "markdown",
   "metadata": {},
   "source": [
    "#### Add the pathway metabolites and their information to a new MASS model from COBRA model"
   ]
  },
  {
   "cell_type": "code",
   "execution_count": null,
   "metadata": {},
   "outputs": [],
   "source": [
    "# making dataframe of metabolites\n",
    "import json\n",
    "met_csv_df = pd.read_csv(csv_met_cobra,index_col=\"id\")\n",
    "mass_metabolite_info=met_csv_df.to_dict(orient='index')\n",
    "\n",
    "# Loading reaction data as JSON file to maintain data types as dictionaries \n",
    "\n",
    "with open(json_rxn_cobra) as json_file:\n",
    "    mass_rxn_data = json.load(json_file)"
   ]
  },
  {
   "cell_type": "code",
   "execution_count": null,
   "metadata": {},
   "outputs": [],
   "source": [
    "#  Add all the remaining metabolites involved in the pathway\n",
    "for met_id, info in mass_metabolite_info.items():\n",
    "    met = MassMetabolite(met_id, name=info['name'], formula=info['formula'], \n",
    "                           charge=info['charge'], compartment=info['compartment'])\n",
    "    liver.add_metabolites(met)"
   ]
  },
  {
   "cell_type": "code",
   "execution_count": null,
   "metadata": {},
   "outputs": [],
   "source": [
    "for reaction, info in mass_rxn_data.items():\n",
    "    reaction_obj = MassReaction(reaction)\n",
    "    reaction_obj.id = reaction\n",
    "    reaction= reaction_obj.id\n",
    "    reaction_obj.lower_bound = info['lower_bound']\n",
    "    reaction_obj.upper_bound = info['upper_bound']\n",
    "    reaction_obj.name = info['name']\n",
    "    liver.add_reactions(reaction_obj)\n",
    "    temp=info['metabolites']\n",
    "    reaction_obj.add_metabolites(temp)\n",
    "    # print(reaction)"
   ]
  },
  {
   "cell_type": "code",
   "execution_count": null,
   "metadata": {},
   "outputs": [],
   "source": [
    "liver.reactions.PGK.reverse_stoichiometry(inplace=True)\n",
    "liver.reactions.PGM.reverse_stoichiometry(inplace=True)"
   ]
  },
  {
   "cell_type": "markdown",
   "metadata": {},
   "source": [
    "## Setting initial conditions"
   ]
  },
  {
   "cell_type": "code",
   "execution_count": null,
   "metadata": {},
   "outputs": [],
   "source": [
    "import csv\n",
    "import openpyxl"
   ]
  },
  {
   "cell_type": "code",
   "execution_count": null,
   "metadata": {},
   "outputs": [],
   "source": [
    "#Function to load data from the excel sheet\n",
    "def load_data(filepath, sheet_name):\n",
    "    \"\"\"Load Liver data from an excel sheet\"\"\"\n",
    "    df = pd.read_excel(engine='openpyxl',\n",
    "        io=filepath,\n",
    "        sheet_name=sheet_name,\n",
    "        index_col=0)\n",
    "    return df"
   ]
  },
  {
   "cell_type": "code",
   "execution_count": null,
   "metadata": {},
   "outputs": [],
   "source": [
    "#Compare Results\n",
    "excel_ic = os.path.join(data_dir,\"Concentrations.xlsx\")\n",
    "# ic_df = pd.read_csv(csv_ic)\n",
    "# ic_df.set_index()\n",
    "ic_info_all = load_data(\n",
    "    filepath=excel_ic,\n",
    "    sheet_name=\"Concentrations\")\n",
    "ic_info_all.reset_index(level='ID', col_level=1, inplace=True)\n",
    "ic_info_all"
   ]
  },
  {
   "cell_type": "code",
   "execution_count": null,
   "metadata": {},
   "outputs": [],
   "source": [
    "conc_df =pd.DataFrame(ic_info_all.loc[:,[\"ID\",\"Concentration (M)\"]])\n",
    "conc_df.set_index('ID',drop=True,inplace=True)\n",
    "conc_df"
   ]
  },
  {
   "cell_type": "code",
   "execution_count": null,
   "metadata": {},
   "outputs": [],
   "source": [
    "ic_info= pd.DataFrame()\n",
    "# ic_info.append"
   ]
  },
  {
   "cell_type": "code",
   "execution_count": null,
   "metadata": {},
   "outputs": [],
   "source": [
    "print(\"Initial Conditions\\n------------------\")\n",
    "\n",
    "for reaction in liver.reactions:\n",
    "    #Setting inital condition of metabolties from HEPATOKIN  #M \n",
    "    for met in reaction.metabolites:\n",
    "        if met.id in conc_df.index:\n",
    "            mid=met.id\n",
    "            metabolite = reaction.metabolites\n",
    "            ic_value = conc_df.loc[mid,'Concentration (M)']\n",
    "            row = [mid,ic_value]\n",
    "            # column = [ic_value]\n",
    "            ic_info.append(row)\n",
    "            met.ic =  ic_value            \n",
    "for metabolite, ic_value in liver.initial_conditions.items():\n",
    "    print(\"{0}: {1}\".format(metabolite, ic_value))"
   ]
  },
  {
   "cell_type": "code",
   "execution_count": null,
   "metadata": {},
   "outputs": [],
   "source": [
    "ic_info"
   ]
  },
  {
   "cell_type": "markdown",
   "metadata": {},
   "source": [
    "### Getting Standard and Physiological Gibbs energies of reactions to get Keq of reactions"
   ]
  },
  {
   "cell_type": "code",
   "execution_count": null,
   "metadata": {},
   "outputs": [],
   "source": [
    "met_list = []\n",
    "liver.boundary_conditions\n",
    "for reaction in liver.boundary_conditions:\n",
    "    print(reaction)"
   ]
  },
  {
   "cell_type": "code",
   "execution_count": null,
   "metadata": {},
   "outputs": [],
   "source": [
    "# for reaction in liver.boundary:\n",
    "#     excluded_reactions.append(reaction.id)\n",
    "#     reaction.Keq=1    # Setting Keq\n",
    "#     print(reaction,reaction.Keq)"
   ]
  },
  {
   "cell_type": "code",
   "execution_count": null,
   "metadata": {},
   "outputs": [],
   "source": [
    "# Reactions that we don't want to get Keq from equilibrator [exchanges and psuedoreactions] SET THESE MANUALLY\n",
    "# Setting Keq and kf for boundary reactions\n",
    "print(\"Boundary Reactions and Values\\n-----------------------------\")\n",
    "excluded_reactions=[\"ATPM\", \"NADHM\",\"PYRt2m\",\"PEPtm\"]\n",
    "\n",
    "for reaction in liver.boundary:\n",
    "    excluded_reactions.append(reaction.id)\n",
    "    reaction.Keq=1    # Setting Keq\n",
    "    reaction.kf=1e6     # Setting kf\n",
    "    #Setting boundary condition metabolties from ic of metabolite from HEPATOKIN   \n",
    "    for met in reaction.reactants:\n",
    "        if met.id in conc_df.index:\n",
    "            mid=met.id\n",
    "            boundary_met = reaction.boundary_metabolite\n",
    "            bcvalue = conc_df.loc[mid,'Concentration (M)']\n",
    "            liver.boundary_conditions[boundary_met] =  bcvalue\n",
    "            bc_value = liver.boundary_conditions.get(boundary_met)\n",
    "            print(\"{0}\\n{1}: {2}\\n\".format(reaction, boundary_met, bc_value))"
   ]
  },
  {
   "cell_type": "code",
   "execution_count": null,
   "metadata": {},
   "outputs": [],
   "source": [
    "reaction_str= []\n",
    "cc = ComponentContribution()\n",
    "# optional: changing the aqueous environment parameters\n",
    "cc.p_h = Q_(7.4)\n",
    "cc.p_mg = Q_(3.31)\n",
    "cc.ionic_strength = Q_(\"0.144M\")\n",
    "cc.temperature = Q_(\"310.15K\")\n",
    "R = 0.00831446261815324 #R = 0.00831446261815324 kJ/mol\n",
    "from numpy import *\n",
    "Keq_df=pd.DataFrame(columns=[\"Reaction\",\"Keq\"])\n",
    "# Keq_df"
   ]
  },
  {
   "cell_type": "code",
   "execution_count": null,
   "metadata": {},
   "outputs": [],
   "source": [
    "# Getting Keq from equilibrator by forming a reaction string that it can parse through\n",
    "for reaction in liver.reactions:\n",
    "    if reaction.id not in excluded_reactions:\n",
    "        reactants = []\n",
    "        #forming reaction string \n",
    "        for met in reaction.reactants:\n",
    "            id_coeff= reaction.get_coefficient(met)\n",
    "            new_id = met.id.rpartition(\"_\" + str(met.compartment))[0] #removing compartment lettes, for eg \"_c\"\n",
    "            if id_coeff == 1 or id_coeff == -1:\n",
    "                new_id = \"bigg.metabolite:\" + new_id\n",
    "            else:\n",
    "                new_id = str(id_coeff) + \" bigg.metabolite:\" + new_id\n",
    "\n",
    "            reactants.append(new_id)   \n",
    "        reactants_string= \" + \".join(reactants)\n",
    "        reactants_string = str(reactants_string + \" = \")\n",
    "\n",
    "        # Forming product string\n",
    "        products = []\n",
    "        for met in reaction.products:\n",
    "            new_id = met.id.rpartition(\"_\" + str(met.compartment))[0] # removing compartment lettes, for eg \"_c\"\n",
    "            new_id = \"bigg.metabolite:\" + new_id\n",
    "            products.append(new_id)   \n",
    "        products_string= \" + \".join(products)\n",
    "\n",
    "        #final reaction to parse\n",
    "        reaction_to_parse = reactants_string + products_string         \n",
    "        # print(reaction_to_parse)\n",
    "        rxn_parsed = cc.parse_reaction_formula(reaction_to_parse)\n",
    "        print(reaction.id)\n",
    "\n",
    "        #Getting Gibbs energies\n",
    "        dG0_prime = cc.standard_dg_prime(rxn_parsed)\n",
    "    #         print(f\"ΔG'° = {dG0_prime}\")\n",
    "        dGm_prime = cc.physiological_dg_prime(rxn_parsed)\n",
    "        dG_prime_value_in_kj_per_mol = dGm_prime.value.m_as(\"kJ/mol\")\n",
    "        dG0prime_value_in_kj_per_mol = dG0_prime.value.m_as(\"kJ/mol\")\n",
    "    #     print(f\"ΔG'm = {dG_prime_value_in_kj_per_mol}\")\n",
    "        delG = dG_prime_value_in_kj_per_mol\n",
    "\n",
    "        # Calculating Keq from delG\n",
    "        a = exp(-delG/ (R*310.15)) \n",
    "        reaction.Keq = a\n",
    "        print(f\"Keq = {a}\")\n",
    "#         list_keq=[reaction,a]\n",
    "#         rxn_keq=pd.DataFrame(list_keq)\n",
    "        df = pd.DataFrame([[reaction,a]], columns=[\"Reaction\",\"Keq\"])\n",
    "        Keq_df.append(df)\n",
    "\n",
    "# Keq_df    "
   ]
  },
  {
   "cell_type": "code",
   "execution_count": null,
   "metadata": {},
   "outputs": [],
   "source": [
    "liver.reactions.NADHM.Keq=float(\"inf\")\n",
    "liver.reactions.ATPM.Keq=float(\"inf\")\n",
    "liver.reactions.PEPtm.Keq=1\n",
    "liver.reactions.PYRt2m.Keq=1"
   ]
  },
  {
   "cell_type": "code",
   "execution_count": null,
   "metadata": {},
   "outputs": [],
   "source": [
    "print(\"Equilibrium Constants\\n---------------------\")\n",
    "for reaction in liver.reactions:\n",
    "    print(\"{0}: {1}\".format(reaction.Keq_str, reaction.Keq))"
   ]
  },
  {
   "cell_type": "markdown",
   "metadata": {},
   "source": [
    "##  Set Fluxes"
   ]
  },
  {
   "cell_type": "code",
   "execution_count": null,
   "metadata": {},
   "outputs": [],
   "source": [
    "flux_solution"
   ]
  },
  {
   "cell_type": "markdown",
   "metadata": {},
   "source": [
    "### Getting minspan paths from file to form fluxes"
   ]
  },
  {
   "cell_type": "code",
   "execution_count": null,
   "metadata": {},
   "outputs": [],
   "source": [
    "# making dataframe of reactions\n",
    "\n",
    "minspans = pd.read_csv(csv_minspan_dir,index_col=0) "
   ]
  },
  {
   "cell_type": "code",
   "execution_count": null,
   "metadata": {},
   "outputs": [],
   "source": [
    "l=int(len(minspans.columns)/2)\n",
    "minspans.iloc[:,-l:]"
   ]
  },
  {
   "cell_type": "code",
   "execution_count": null,
   "metadata": {},
   "outputs": [],
   "source": []
  },
  {
   "cell_type": "markdown",
   "metadata": {},
   "source": [
    "#### Getting fluxes from FBA"
   ]
  },
  {
   "cell_type": "code",
   "execution_count": null,
   "metadata": {},
   "outputs": [],
   "source": [
    "reaction_list=[]\n",
    "for reaction in liver.reactions:\n",
    "    reaction_list.append(reaction.id)\n"
   ]
  },
  {
   "cell_type": "code",
   "execution_count": null,
   "metadata": {},
   "outputs": [],
   "source": [
    "for reaction, flux in flux_solution[reaction_list].iteritems():\n",
    "    reaction = liver.reactions.get_by_id(reaction)\n",
    "    reaction.steady_state_flux = flux * 1278.605 / 1000 # mmol/gdW*hr --> mmol/L * hr ---> mol/L*hr\n",
    "    print(\"{0}: {1}\".format(reaction.flux_symbol_str,\n",
    "                            reaction.steady_state_flux))"
   ]
  },
  {
   "cell_type": "markdown",
   "metadata": {},
   "source": [
    "# work on this function"
   ]
  },
  {
   "cell_type": "code",
   "execution_count": null,
   "metadata": {},
   "outputs": [],
   "source": [
    "minspan_paths = [\n",
    "    [1, 1, 1, 1, 1, 2, 2, 2, 2, 2, 2, 0, 0, 0, 2, 2, 0, 1, 0, 2, 0],\n",
    "    [0, 0, 0, 0, 0, 0, 0, 0, 0, 0, -1, 0, 0, 1, -1, 0, 1, 0, 0, 2, 0],\n",
    "    [0, 0, 0, 0, 0, 0, 0, 0, 0, 0, 0, 1, 0, 0, 0, 0, 0, 0, 1, 0, 0]]"
   ]
  },
  {
   "cell_type": "code",
   "execution_count": null,
   "metadata": {},
   "outputs": [],
   "source": [
    "def compute_steady_state_fluxes(\n",
    "    self, pathways, independent_fluxes, update_reactions=False\n",
    "):"
   ]
  },
  {
   "cell_type": "code",
   "execution_count": null,
   "metadata": {},
   "outputs": [],
   "source": [
    "    def compute_steady_state_fluxes(\n",
    "        self, pathways, independent_fluxes, update_reactions=False\n",
    "    ):\n",
    "        r\"\"\"Calculate the unique steady state flux for each reaction.\n",
    "\n",
    "        The unique steady state flux for each reaction in the\n",
    "        :class:`MassModel` is calculated using defined pathways, independently\n",
    "        defined fluxes, and steady state concentrations, where index of values\n",
    "        in the pathways must correspond to the index of the reaction in\n",
    "        :attr:`MassModel.reactions`.\n",
    "\n",
    "        Notes\n",
    "        -----\n",
    "        The number of individually defined fluxes must be the same as the\n",
    "        number of pathways in order to determine the solution. For best\n",
    "        results, the number of pathways to specify must equal the dimension\n",
    "        of the right nullspace.\n",
    "\n",
    "        Parameters\n",
    "        ----------\n",
    "        pathways : array-like\n",
    "            An array-like object that define the pathways through the reaction\n",
    "            network of the model. The given pathway vectors must be the same\n",
    "            length as the number of reactions in the model, with indicies of\n",
    "            values in the pathway vector corresponding to the indicies of\n",
    "            reactions in the :attr:`reactions` attribute.\n",
    "        independent_fluxes : dict\n",
    "            A ``dict`` of steady state fluxes where :class:`~.MassReaction`\\ s\n",
    "            are keys and fluxes are values to utilize in order to calculate\n",
    "            all other steady state fluxes. Must be the same length as the\n",
    "            number of specified pathways.\n",
    "        update_reactions : bool\n",
    "            If ``True`` then update the :attr:`.MassReaction.steady_state_flux`\n",
    "            with the calculated steady state flux value for each reaction.\n",
    "\n",
    "        Return\n",
    "        ------\n",
    "        dict\n",
    "            A ``dict`` where key:value pairs are the :class:`~.MassReaction`\\ s\n",
    "            with their corresponding calculated steady state fluxes.\n",
    "\n",
    "        Warnings\n",
    "        --------\n",
    "        The indicies of the values in the pathway vector must correspond to the\n",
    "        indicies of the reactions in the :attr:`reactions` attribute in order\n",
    "        for the method to work as intended.\n",
    "\n",
    "        \"\"\"\n",
    "        # Check inputs:\n",
    "        if not isinstance(pathways, (np.ndarray, list)):\n",
    "            raise TypeError(\n",
    "                \"Pathways must be numpy.ndarrays or array-like, \"\n",
    "                \"such as a list of lists.\"\n",
    "            )\n",
    "        pathways = np.array(pathways)\n",
    "        if len(self.reactions) != pathways.shape[1]:\n",
    "            raise ValueError(\n",
    "                \"Pathways must have the same number of columns as\"\n",
    "                \" the number of reactions in the model.\"\n",
    "            )\n",
    "        if not isinstance(independent_fluxes, dict):\n",
    "            raise TypeError(\"independent_fluxes must be a dict\")\n",
    "        if not isinstance(update_reactions, bool):\n",
    "            raise TypeError(\"update_reactions must be a bool\")\n",
    "\n",
    "        coeffs = []\n",
    "        values = []\n",
    "        # do get by ID\n",
    "        for i, rxn in enumerate(self.reactions):\n",
    "            if rxn in independent_fluxes:\n",
    "                \n",
    "                values.append(independent_fluxes[rxn])\n",
    "                \n",
    "                coeffs.append([path[i] for path in pathways])\n",
    "        # Inverse coefficient matrix\n",
    "        coeffs = np.linalg.inv(coeffs)\n",
    "\n",
    "        # Obtain the inner product of values and coefficients,\n",
    "        # then obtain the inner product of the pathways and first inner product\n",
    "        flux_vector = np.inner(pathways.T, np.inner(coeffs, values))\n",
    "        # Update the reactions if desired\n",
    "        steady_state_fluxes = {}\n",
    "        for i, rxn in enumerate(self.reactions):\n",
    "            steady_state_flux = flux_vector[i]\n",
    "            steady_state_fluxes.update({rxn: steady_state_flux})\n",
    "            if update_reactions:\n",
    "                rxn.steady_state_flux = steady_state_flux\n",
    "\n",
    "        return steady_state_fluxes"
   ]
  },
  {
   "cell_type": "code",
   "execution_count": null,
   "metadata": {},
   "outputs": [],
   "source": [
    "# minspan_paths = [\n",
    "# list(df.iloc[:,5].values)]\n",
    "# liver.compute_steady_state_fluxes(\n",
    "#     pathways=minspan_paths,\n",
    "#     independent_fluxes={\n",
    "#         # SK_glc__D_c: 1.12,\n",
    "#         # NADHM: .2 * 1.12,\n",
    "#         # DM_amp_c: 0.014\n",
    "#         },\n",
    "#     update_reactions=True)"
   ]
  },
  {
   "cell_type": "markdown",
   "metadata": {},
   "source": [
    "## Set H2O/H Constants"
   ]
  },
  {
   "cell_type": "code",
   "execution_count": null,
   "metadata": {},
   "outputs": [],
   "source": [
    "# Set concentrations of hydrogen, water as fixed\n",
    "# Assume hydrogen in all compartments are fixed \n",
    "for metabolite in [\n",
    "    \"h_c\",\n",
    "#     'h_e',\n",
    "'h_m',\n",
    "#     'h2o_r','h2o_e',\n",
    "    \"h2o_c\",\n",
    "#     \"glc__D_e\", \"pi_e\",\n",
    "'pi_m',\n",
    "    'pi_c'\n",
    "                  ]:\n",
    "    metabolite = liver.metabolites.get_by_id(metabolite)\n",
    "    metabolite.fixed = True"
   ]
  },
  {
   "cell_type": "code",
   "execution_count": null,
   "metadata": {},
   "outputs": [],
   "source": [
    "for metabolite in [\n",
    "    'h_m',\n",
    "\"h_c\", \n",
    "#     'h_e',\n",
    "\"h2o_c\",\n",
    "#     'h2o_r','h2o_e' \n",
    "]:\n",
    "    metabolite = liver.metabolites.get_by_id(metabolite)\n",
    "    metabolite.ic = 1 #M"
   ]
  },
  {
   "cell_type": "code",
   "execution_count": null,
   "metadata": {},
   "outputs": [],
   "source": []
  },
  {
   "cell_type": "code",
   "execution_count": null,
   "metadata": {},
   "outputs": [],
   "source": [
    "liver.reactions"
   ]
  },
  {
   "cell_type": "code",
   "execution_count": null,
   "metadata": {},
   "outputs": [],
   "source": [
    "#Formulate QP minimization list for concentrations\n",
    "conc_solver = ConcSolver(\n",
    "    liver, \n",
    "    excluded_metabolites=[\n",
    "    \"h_c\",'h2o_c',\n",
    "    \n",
    "#         'h_e',\n",
    " 'h_m',\n",
    "#     'h2o_r','h2o_e',\n",
    "        'pi_m',\n",
    "    'pi_c',\n",
    "#     \"pi_e\",\n",
    "\"glc__D_c\",\n",
    "#     \"glc__D_e\", \"lac__L_e\",\n",
    "#     \"pyr_e\"\n",
    "    ], \n",
    "    excluded_reactions=[\n",
    "        # \"Ht\", \"H2Ot\", \"H2Oter\",'PIter','PIt',\n",
    "#     'G6Pter','GLCter','GLCt1',\n",
    "'PYRt2m','PEPtm',\n",
    "'NADHM','ATPM',\n",
    "'CO2tm', 'ATPtm', 'Htm','PIt2m'\n",
    "    # 'L_LACt2r','PYRt2'\n",
    "    ],\n",
    "\n",
    "    constraint_buffer=1)\n",
    "\n",
    "conc_solver.setup_feasible_qp_problem(\n",
    "fixed_conc_bounds=list(liver.fixed))\n",
    "# fixed_Keq_bounds=liver.reactions.list_attr(\"Keq_str\")\n",
    "    \n",
    "#assumption: provide uncertainity to allow for a variance for the Keqs rather than staying fixed\n",
    "#conc_solver.setup_feasible_qp_problem(Keq_percent_deviation=0.1)\n",
    "\n",
    "conc_solution = conc_solver.optimize()\n",
    "conc_solution"
   ]
  },
  {
   "cell_type": "code",
   "execution_count": null,
   "metadata": {},
   "outputs": [],
   "source": [
    "conc_solution.concentrations"
   ]
  },
  {
   "cell_type": "code",
   "execution_count": null,
   "metadata": {},
   "outputs": [],
   "source": [
    "conc_df.index"
   ]
  },
  {
   "cell_type": "code",
   "execution_count": null,
   "metadata": {},
   "outputs": [],
   "source": [
    "conc_comparison_fig, ax = plt.subplots(nrows=1, ncols=1,\n",
    "                                       figsize=(5, 5))\n",
    "\n",
    "plot_comparison(\n",
    "    x=conc_df[\"Concentration (M)\"], y=conc_solution,\n",
    "    compare=\"concentrations\",\n",
    "    observable=[mid for mid in conc_df.index], ax=ax,\n",
    "    legend=\"right outside\", plot_function=\"loglog\", \n",
    "    xlim=(1e-6,0.02), ylim=(1e-6,1e-1),\n",
    "    xy_line=True,\n",
    "    xy_legend=\"best\", xlabel=\"Initial [mol/L]\", ylabel=\"Adjusted [mol/L]\")\n",
    "\n",
    "conc_comparison_fig.tight_layout()\n",
    "update_model_with_concentration_solution(\n",
    "    liver, conc_solution, concentrations=True, inplace=True);"
   ]
  },
  {
   "cell_type": "code",
   "execution_count": null,
   "metadata": {},
   "outputs": [],
   "source": [
    "# Keq_data = pd.read_csv(\"./data/analysis_data/equilibrium_constants.csv\", index_col=0)\n",
    "\n",
    "# Keq_data_comparison_fig, ax = plt.subplots(nrows=1, ncols=1, figsize=(5, 5))\n",
    "# plot_comparison(\n",
    "#     x=Keq_data[\"Initial\"], y=Keq_data[\"Adjusted\"], ax=ax,\n",
    "#     title=\"Equilibrium Constants comparison\",\n",
    "#     legend=\"right outside\", plot_function=\"loglog\",\n",
    "#     xlim=(1e-5, 1e5), ylim=(1e-5, 1e5), \n",
    "#     xy_line=True,\n",
    "#     xy_legend=\"best\", xlabel=\"Initial\", ylabel=\"Adjusted\")\n",
    "\n",
    "# Keq_data_comparison_fig.tight_layout()"
   ]
  },
  {
   "cell_type": "code",
   "execution_count": null,
   "metadata": {},
   "outputs": [],
   "source": [
    "Boundary= [\n",
    "    \"ATPM\",\n",
    "    \n",
    "#     'EX_nad_c',\n",
    "    # \"EX_lac__L_c\"\n",
    "]\n",
    "for x in Boundary:\n",
    "    a=liver.reactions.get_by_id(x)\n",
    "    a.kf=1e6"
   ]
  },
  {
   "cell_type": "code",
   "execution_count": null,
   "metadata": {},
   "outputs": [],
   "source": [
    " liver.steady_state_fluxes.items()"
   ]
  },
  {
   "cell_type": "code",
   "execution_count": null,
   "metadata": {},
   "outputs": [],
   "source": [
    "liver.calculate_PERCs(fluxes={\n",
    "                r: v for r, v in liver.steady_state_fluxes.items()\n",
    "                if not (r.boundary  or\n",
    "#                        or r== liver.reactions.GLCter or r== glycogenolysis.reactions.PIter\n",
    "#                                or r== glycogenolysis.reactions.G6Pter or r== glycogenolysis.reactions.PIt or \n",
    "                                r== liver.reactions.PYRt2m or \n",
    "#                                 r== glycogenolysis.reactions.L_LACt2r or \n",
    "#                                 r== glycogenolysis.reactions.PYRt2 or \n",
    "                                r== liver.reactions.PEPtm or \n",
    "                                r== liver.reactions.CO2tm or \n",
    "                                r== liver.reactions.ATPtm or \n",
    "r== liver.reactions.PIt2m or r== liver.reactions.Htm\n",
    "# r== glycogenolysis.reactions.GLCt1 r== liver.reactions.Keq_ATPtm\n",
    "#                                 or r== glycogenolysis.reactions.Ht\n",
    "                       )\n",
    "}, update_reactions=True)\n",
    "print(percs)                      \n",
    "\n",
    "print(\"Forward Rate Constants\\n----------------------\")\n",
    "for reaction in liver.reactions:\n",
    "    print(\"{0}: {1:.6f}\".format(reaction.kf_str, reaction.kf))"
   ]
  },
  {
   "cell_type": "code",
   "execution_count": null,
   "metadata": {},
   "outputs": [],
   "source": [
    "#Function to add underscore in front of metabolite identifiers which start with a number\n",
    "## fix this only after getting Keq from equlibrator because bigg doesn't have _13dpg for example\n",
    "def prefix_number_id(id_str):\n",
    "    \"\"\"Prefix identifiers that start with numbers.\"\"\"\n",
    "    if re.match(r\"^\\d\", id_str):\n",
    "        id_str = \"_\" + id_str\n",
    "    return id_str"
   ]
  },
  {
   "cell_type": "code",
   "execution_count": null,
   "metadata": {},
   "outputs": [],
   "source": [
    "#Loop to edit the names using \"prefix_number_id\" function defined earlier\n",
    "for metabolite in liver.metabolites:\n",
    "    new_met_id = prefix_number_id(metabolite.id)\n",
    "    metabolite.id = new_met_id\n",
    "liver.repair()"
   ]
  },
  {
   "cell_type": "code",
   "execution_count": null,
   "metadata": {},
   "outputs": [],
   "source": [
    "qcqa_model(liver, parameters=True, concentrations=True,\n",
    "           fluxes=True, superfluous=True, elemental=True)"
   ]
  },
  {
   "cell_type": "code",
   "execution_count": null,
   "metadata": {},
   "outputs": [],
   "source": [
    "# Setup simulation object\n",
    "simG=Simulation(liver, verbose=True)\n",
    "# Simulate from 0 to 1000 with 10001 points in the output\n",
    "conc_sol, flux_sol = simG.simulate(liver, time=(0, 1e8))\n",
    "# Quickly render and display time profiles\n",
    "conc_sol.view_time_profile()"
   ]
  },
  {
   "cell_type": "code",
   "execution_count": null,
   "metadata": {},
   "outputs": [],
   "source": [
    "#function to set x label and y label\n",
    "def set_x_label(xlabel):\n",
    "    if xlabel==None:\n",
    "        xlabel=\"Time\"\n",
    "    else:\n",
    "        xlabel=xlabel\n",
    "    return xlabel\n",
    "        \n",
    "def set_y_label(ylabel):        \n",
    "    if ylabel==None:\n",
    "        ylabel=\"Concentrations\"\n",
    "    else:\n",
    "        ylabel=ylabel\n",
    "    return ylabel\n"
   ]
  },
  {
   "cell_type": "code",
   "execution_count": null,
   "metadata": {},
   "outputs": [],
   "source": [
    "#function to make plot typelinear log\n",
    "def set_plot_type(plot_type):\n",
    "    if plot_type == None:\n",
    "        x_plot_type = 'log'\n",
    "        y_plot_type = 'log'\n",
    "    elif plot_type == \"logx\":\n",
    "        x_plot_type = 'log'\n",
    "        y_plot_type = 'linear'\n",
    "    elif plot_type == \"logy\":\n",
    "        x_plot_type = 'linear'\n",
    "        y_plot_type = 'log'\n",
    "    elif plot_type == \"linear\":\n",
    "        x_plot_type = 'linear'\n",
    "        y_plot_type = 'linear'\n",
    "    elif plot_type == \"logxlogy\":\n",
    "        x_plot_type = 'log'\n",
    "        y_plot_type = 'log'\n",
    "    return x_plot_type,y_plot_type\n"
   ]
  },
  {
   "cell_type": "code",
   "execution_count": null,
   "metadata": {},
   "outputs": [],
   "source": [
    "def view_all_conc_sol(conc_sol,\n",
    "#                       dynamic=True\n",
    "                      xlim=None,ylim=None,plot_type=None,xlabel=None,ylabel=None,width=None,height=None):\n",
    "    \"\"\"Generate an interactable time profile which can zoom into the plot with interactive tooltip\"\"\"\n",
    "    #Shift click to click multiple\n",
    "    \n",
    "    data=conc_sol.to_frame()\n",
    "    data = data.reset_index().melt('Time', var_name='Metabolites', value_name='Concentrations')\n",
    "    \n",
    "    # Setting X limit and Y limit\n",
    "    def set_ylim(ylim):\n",
    "        if ylim == None:\n",
    "            conc=data['Concentrations']\n",
    "            ylim_max=max(conc)\n",
    "            ylim=[1e-5,ylim_max]\n",
    "        else:\n",
    "            ylim=ylim\n",
    "        return ylim\n",
    "    \n",
    "    def set_xlim(xlim):\n",
    "        if xlim == None:\n",
    "            xlim_max=data['Time'].iloc[-1]\n",
    "            xlim=[1e-5,xlim_max]\n",
    "\n",
    "        else:\n",
    "            xlim=xlim\n",
    "        return xlim\n",
    "    xlim=set_xlim(xlim)\n",
    "    ylim=set_ylim(ylim)\n",
    "        \n",
    "       \n",
    "    # Setting type of plot\n",
    "    x_plot_type=set_plot_type(plot_type)[0]\n",
    "    y_plot_type=set_plot_type(plot_type)[1]\n",
    "        \n",
    "    # Setting x label and y label\n",
    "    xlabel=set_x_label(xlabel)\n",
    "    ylabel=set_y_label(ylabel)\n",
    "    # Setting width and height\n",
    "    if width==None:\n",
    "        width=500\n",
    "    else:\n",
    "        width=width\n",
    "        \n",
    "    if height==None:\n",
    "        height=300\n",
    "    else:\n",
    "        height=height\n",
    "    \n",
    "    alt.data_transformers.disable_max_rows()\n",
    "    selection = alt.selection_multi(fields=['Metabolites'])\n",
    "    color = alt.condition(selection,\n",
    "                          alt.Color('Metabolites:N', legend=None),\n",
    "                          alt.value('lightgray'))\n",
    "\n",
    "    line = alt.Chart(data).mark_line(clip=True).encode(alt.X('Time:Q',\n",
    "                                                             title=xlabel,\n",
    "                                                             scale=alt.Scale(type = x_plot_type,\n",
    "                                                                             padding = 10,\n",
    "                                                                             domain = xlim,\n",
    "#                   zero=True,\n",
    "                              ),\n",
    "              axis=alt.Axis(tickCount=5)),\n",
    "        alt.Y('Concentrations:Q',\n",
    "              title=ylabel,\n",
    "              scale=alt.Scale(type=y_plot_type,\n",
    "                              padding = 10,\n",
    "                              domain = ylim,\n",
    "#                   zero=True, \n",
    "                             ),\n",
    "               axis=alt.Axis(grid=False,\n",
    "                             tickCount=5)),\n",
    "        color=color,\n",
    "        tooltip= [\"Metabolites\"]+[\"Time\"]+[\"Concentrations\"]\n",
    "    ).properties(width=width, height=height).interactive()\n",
    "\n",
    "    \n",
    "    \n",
    "#         if dynamic == False:\n",
    "#             A = alt.layer(line)\n",
    "#         else:\n",
    "    legend = alt.Chart(data).mark_point().encode(\n",
    "        y=alt.Y('Metabolites:N', axis=alt.Axis(orient='right')),\n",
    "        color=color\n",
    "    ).add_selection(\n",
    "        selection\n",
    "    )\n",
    "    A= line | legend\n",
    "    return A"
   ]
  },
  {
   "cell_type": "code",
   "execution_count": null,
   "metadata": {},
   "outputs": [],
   "source": [
    "view_all_conc_sol(conc_sol,plot_type='logxlogy')"
   ]
  },
  {
   "cell_type": "code",
   "execution_count": null,
   "metadata": {},
   "outputs": [],
   "source": []
  }
 ],
 "metadata": {
  "kernelspec": {
   "display_name": "Python 3 (ipykernel)",
   "language": "python",
   "name": "python3"
  },
  "language_info": {
   "codemirror_mode": {
    "name": "ipython",
    "version": 3
   },
   "file_extension": ".py",
   "mimetype": "text/x-python",
   "name": "python",
   "nbconvert_exporter": "python",
   "pygments_lexer": "ipython3",
   "version": "3.8.12"
  }
 },
 "nbformat": 4,
 "nbformat_minor": 4
}
