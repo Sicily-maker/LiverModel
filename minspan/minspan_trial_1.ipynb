{
 "cells": [
  {
   "cell_type": "markdown",
   "metadata": {},
   "source": [
    "## Making toy model to test minspan algo"
   ]
  },
  {
   "cell_type": "code",
   "execution_count": 1,
   "metadata": {},
   "outputs": [],
   "source": [
    "from os import path\n",
    "\n",
    "import matplotlib.pyplot as plt\n",
    "\n",
    "from cobra import DictList\n",
    "from cobra import Model, Reaction, Metabolite\n",
    "\n",
    "from mass import (\n",
    "    MassConfiguration, MassMetabolite, MassModel,\n",
    "    MassReaction, Simulation, UnitDefinition)\n",
    "from mass.io import json, sbml\n",
    "from mass.util import qcqa_model\n",
    "from cobra.io.json import save_json_model as save_json_model\n",
    "from cobra.io.json import load_json_model as load_json_model\n",
    "from cobra.io import *\n",
    "import os\n",
    "import re\n",
    "import warnings\n",
    "from cobra.io.json import load_json_model as load_json_cobra_model\n",
    "import escher\n",
    "import mass\n",
    "import numpy as np\n",
    "import pandas as pd\n",
    "import equilibrator_api\n",
    "from equilibrator_api import ComponentContribution, Q_\n",
    "import sympy as sym\n",
    "from cobra import Model, Reaction, Metabolite\n",
    "import cobra.test\n",
    "from os.path import join\n",
    "from mass.util import qcqa\n",
    "from mass.util import qcqa_model\n",
    "from cobra import DictList\n",
    "from glob import glob\n",
    "\n",
    "# mass_config.irreversible_Keq = float(\"inf\")"
   ]
  },
  {
   "cell_type": "markdown",
   "metadata": {},
   "source": []
  },
  {
   "cell_type": "code",
   "execution_count": 2,
   "metadata": {},
   "outputs": [],
   "source": [
    "a = Metabolite('A',compartment='c')\n",
    "b= Metabolite('B',compartment='c')\n",
    "c = Metabolite('C',compartment='c')\n",
    "d = Metabolite('D',compartment='c')\n",
    "e = Metabolite('E',compartment='c')\n",
    "f = Metabolite('F',compartment='c')\n",
    "g = Metabolite('G',compartment='c')\n",
    "h = Metabolite('H',compartment='c')\n",
    "i = Metabolite('I',compartment='c')\n",
    "j = Metabolite('J',compartment='c')\n",
    "atp = Metabolite('atp',compartment='c')\n",
    "adp = Metabolite('adp',compartment='c')\n",
    "nadh = Metabolite('nadh',compartment='c')\n",
    "nad = Metabolite('nad',compartment='c')"
   ]
  },
  {
   "cell_type": "code",
   "execution_count": 3,
   "metadata": {},
   "outputs": [],
   "source": [
    "v1 = Reaction('v1', lower_bound=0)\n",
    "v2 = Reaction('v2', lower_bound=0)\n",
    "v3 = Reaction('v3', lower_bound=0)\n",
    "v4 = Reaction('v4', lower_bound=0)\n",
    "v5 = Reaction('v5', lower_bound=0)\n",
    "v6 = Reaction('v6', lower_bound=-1000)\n",
    "v7 = Reaction('v7', lower_bound=-1000)\n",
    "v8 = Reaction('v8', lower_bound=-1000)\n",
    "v9 = Reaction('v9', lower_bound=-1000)\n",
    "v10 = Reaction('v10', lower_bound=0)\n",
    "\n"
   ]
  },
  {
   "cell_type": "code",
   "execution_count": 4,
   "metadata": {},
   "outputs": [
    {
     "data": {
      "text/plain": [
       "True"
      ]
     },
     "execution_count": 4,
     "metadata": {},
     "output_type": "execute_result"
    }
   ],
   "source": [
    "v6.reversibility"
   ]
  },
  {
   "cell_type": "code",
   "execution_count": 5,
   "metadata": {},
   "outputs": [],
   "source": [
    "v1.add_metabolites({a : -1,atp : -1, b : 1, adp : 1})\n",
    "v2.add_metabolites({b : -1,nad : -1, c : 1, nadh : 1})\n",
    "v3.add_metabolites({c : -1,adp : -1, d : 1, atp : 1})\n",
    "v4.add_metabolites({d : -1,nadh: -1, e : 1, nad : 1})\n",
    "v5.add_metabolites({d : -1,nad : -1, f : 1, nadh : 1})\n",
    "v6.add_metabolites({f : -1,nadh : -1, g : 1, nad : 1})\n",
    "v7.add_metabolites({f : -1,h : 1})\n",
    "v8.add_metabolites({g : -1,atp : -1, i : 1, adp : 1})\n",
    "v9.add_metabolites({i : -1,nadh : -1, h : 1, nad : 1})\n",
    "v10.add_metabolites({g : -1, j : 1})"
   ]
  },
  {
   "cell_type": "code",
   "execution_count": 6,
   "metadata": {},
   "outputs": [],
   "source": [
    "trial = Model('Minspan_trial1')"
   ]
  },
  {
   "cell_type": "code",
   "execution_count": 7,
   "metadata": {},
   "outputs": [],
   "source": [
    "trial.add_reactions([v1,v2,v3,v4,v5,v6,v7,v8,v9,v10])"
   ]
  },
  {
   "cell_type": "code",
   "execution_count": 8,
   "metadata": {},
   "outputs": [],
   "source": [
    "vA = Reaction('vA', lower_bound=-0)\n",
    "vE = Reaction('vE', lower_bound=0)\n",
    "vH = Reaction('vH', lower_bound=-1000)\n",
    "vJ = Reaction('vJ', lower_bound=-1000)\n",
    "vatp = Reaction('vatp', lower_bound=-1000)\n",
    "vadp = Reaction('vadp', lower_bound=-1000)\n",
    "vnadh = Reaction('vnadh', lower_bound=-1000)\n",
    "vnad = Reaction('vnad', lower_bound=-1000)"
   ]
  },
  {
   "cell_type": "code",
   "execution_count": 9,
   "metadata": {},
   "outputs": [],
   "source": [
    "vA.add_metabolites({a : 1})\n",
    "vE.add_metabolites({e : -1})\n",
    "vH.add_metabolites({h : -1})\n",
    "vJ.add_metabolites({j : -1})\n",
    "vatp.add_metabolites({atp : 1})\n",
    "vadp.add_metabolites({adp : 1})\n",
    "vnadh.add_metabolites({nadh : 1})\n",
    "vnad.add_metabolites({nad : 1})"
   ]
  },
  {
   "cell_type": "code",
   "execution_count": 10,
   "metadata": {},
   "outputs": [],
   "source": [
    "trial.add_reactions([vA,vE,vH,vJ,vatp,vadp,vnadh,vnad])"
   ]
  },
  {
   "cell_type": "code",
   "execution_count": null,
   "metadata": {},
   "outputs": [],
   "source": []
  },
  {
   "cell_type": "code",
   "execution_count": 11,
   "metadata": {},
   "outputs": [],
   "source": [
    "# trial.add_metabolites([\n",
    "#     Metabolite(\n",
    "#     'a_e',\n",
    "#     name='A',\n",
    "#     compartment='e'\n",
    "#     ),\n",
    "#     Metabolite(\n",
    "#     'e_e',\n",
    "#     name='E',\n",
    "#     compartment='e'\n",
    "#     ),\n",
    "#     Metabolite(\n",
    "#     'h_e',\n",
    "#     name='H',\n",
    "#     compartment='e'\n",
    "#     ),\n",
    "#     Metabolite(\n",
    "#     'j_e',\n",
    "#     name='J',\n",
    "#     compartment='e'\n",
    "#     ),\n",
    "#     Metabolite(\n",
    "#     'atp_e',\n",
    "#     name='atp',\n",
    "#     compartment='e'\n",
    "#     ),\n",
    "#     Metabolite(\n",
    "#     'adp_e',\n",
    "#     name='adp',\n",
    "#     compartment='e'\n",
    "#     ),\n",
    "#     Metabolite(\n",
    "#     'nadh_e',\n",
    "#     name='nadh',\n",
    "#     compartment='e'\n",
    "#     ),\n",
    "#     Metabolite(\n",
    "#     'nad_e',\n",
    "#     name='nad',\n",
    "#     compartment='e'\n",
    "#     ),\n",
    "# ])\n",
    "\n"
   ]
  },
  {
   "cell_type": "code",
   "execution_count": 12,
   "metadata": {},
   "outputs": [],
   "source": [
    "# create exchange reaction\n",
    "# trial.add_boundary(trial.metabolites.get_by_id(\"a_e\"), type=\"exchange\") # need to make it unidirectioonal\n",
    "# trial.add_boundary(trial.metabolites.get_by_id(\"e_e\"), type=\"demand\")\n",
    "# trial.add_boundary(trial.metabolites.get_by_id(\"h_e\"), type=\"exchange\")\n",
    "# trial.add_boundary(trial.metabolites.get_by_id(\"j_e\"), type=\"exchange\")\n",
    "# trial.add_boundary(trial.metabolites.get_by_id(\"atp_e\"), type=\"exchange\")\n",
    "# trial.add_boundary(trial.metabolites.get_by_id(\"adp_e\"), type=\"exchange\")\n",
    "# trial.add_boundary(trial.metabolites.get_by_id(\"nadh_e\"), type=\"exchange\")\n",
    "# trial.add_boundary(trial.metabolites.get_by_id(\"nad_e\"), type=\"exchange\")\n",
    "\n"
   ]
  },
  {
   "cell_type": "code",
   "execution_count": 13,
   "metadata": {},
   "outputs": [
    {
     "name": "stdout",
     "output_type": "stream",
     "text": [
      "exchanges [<Reaction vA at 0x1987aa9f910>, <Reaction vE at 0x1987aa9f8b0>, <Reaction vH at 0x1987aa9f940>, <Reaction vJ at 0x1987aa9f8e0>, <Reaction vatp at 0x1987aa9f970>, <Reaction vadp at 0x1987aa9f9a0>, <Reaction vnadh at 0x1987aa9f9d0>, <Reaction vnad at 0x1987aa9fa00>]\n",
      "sinks []\n",
      "demands []\n"
     ]
    }
   ],
   "source": [
    "print(\"exchanges\", trial.exchanges)\n",
    "print(\"sinks\", trial.sinks)\n",
    "print(\"demands\", trial.demands)"
   ]
  },
  {
   "cell_type": "code",
   "execution_count": 14,
   "metadata": {},
   "outputs": [
    {
     "name": "stdout",
     "output_type": "stream",
     "text": [
      "18\n",
      "14\n"
     ]
    }
   ],
   "source": [
    "print(len(trial.reactions))\n",
    "print(len(trial.metabolites))"
   ]
  },
  {
   "cell_type": "code",
   "execution_count": null,
   "metadata": {},
   "outputs": [],
   "source": []
  },
  {
   "cell_type": "code",
   "execution_count": 15,
   "metadata": {},
   "outputs": [],
   "source": [
    "dir = os.path.abspath(\"\")\n",
    "trial_json = os.path.join(dir,\"trial_json\")\n",
    "cobra.io.save_json_model(trial, trial_json)\n",
    "# trial_json\n",
    "# ('/home/sbrg-cjlloyd/fba4l/fba4l/models/*.json'):"
   ]
  },
  {
   "cell_type": "code",
   "execution_count": 16,
   "metadata": {},
   "outputs": [],
   "source": [
    "# model_name = model_file\n",
    "# if 'model' not in model_name:\n",
    "#     continue\n",
    "# print(model_name)\n",
    "model= load_json_model(trial_json)"
   ]
  },
  {
   "cell_type": "code",
   "execution_count": 17,
   "metadata": {},
   "outputs": [],
   "source": [
    "if 'NADPHM' in model.reactions:\n",
    "    model.remove_reactions(['NADPHM'])\n",
    "# media = ['EX_lac__L_c', 'EX_pyr_c', 'EX_octa_c', 'EX_gln__L_c', 'EX_acetone_c', 'EX_bhb_c',\n",
    "#          'EX_glu__L_c', 'EX_ser__L_c', 'EX_cys__L_c', 'EX_gly_c', 'EX_ala__L_c', 'EX_so3_c',\n",
    "#         'EX_etoh_c', 'EX_fru_c']\n",
    "media = ['EX_glc__D_c']\n",
    "for met in media:\n",
    "    if met in model.reactions:\n",
    "        model.reactions.get_by_id(met).lower_bound = -1000."
   ]
  },
  {
   "cell_type": "code",
   "execution_count": 18,
   "metadata": {},
   "outputs": [],
   "source": [
    "# rxns = [i.id for i in model.reactions]\n",
    "# blocked = cobra.flux_analysis.find_blocked_reactions(model)\n",
    "# print(blocked)\n",
    "# model.remove_reactions(blocked)"
   ]
  },
  {
   "cell_type": "code",
   "execution_count": 19,
   "metadata": {},
   "outputs": [],
   "source": [
    "cobra_config = cobra.Configuration()"
   ]
  },
  {
   "cell_type": "code",
   "execution_count": 20,
   "metadata": {},
   "outputs": [],
   "source": [
    "import minspan\n",
    "from minspan import minspan,nnz"
   ]
  },
  {
   "cell_type": "code",
   "execution_count": 24,
   "metadata": {},
   "outputs": [
    {
     "data": {
      "text/plain": [
       "<optlang.glpk_interface.Model at 0x19854201910>"
      ]
     },
     "execution_count": 24,
     "metadata": {},
     "output_type": "execute_result"
    }
   ],
   "source": [
    "trial.solver.add()"
   ]
  },
  {
   "cell_type": "code",
   "execution_count": 23,
   "metadata": {},
   "outputs": [
    {
     "ename": "SolverNotFound",
     "evalue": "'gurobi' is not a valid solver interface.  Please pick one from glpk_exact, glpk, scipy.",
     "output_type": "error",
     "traceback": [
      "\u001b[1;31m---------------------------------------------------------------------------\u001b[0m",
      "\u001b[1;31mSolverNotFound\u001b[0m                            Traceback (most recent call last)",
      "\u001b[1;32m~\\AppData\\Local\\Temp/ipykernel_18512/11677325.py\u001b[0m in \u001b[0;36m<module>\u001b[1;34m\u001b[0m\n\u001b[0;32m      4\u001b[0m \u001b[0mcobra\u001b[0m\u001b[1;33m.\u001b[0m\u001b[0mutil\u001b[0m\u001b[1;33m.\u001b[0m\u001b[0msolvers\u001b[0m\u001b[1;33m.\u001b[0m\u001b[0mupdate\u001b[0m\u001b[1;33m\u001b[0m\u001b[1;33m\u001b[0m\u001b[0m\n\u001b[0;32m      5\u001b[0m \u001b[1;33m\u001b[0m\u001b[0m\n\u001b[1;32m----> 6\u001b[1;33m \u001b[0mcobra_config\u001b[0m\u001b[1;33m.\u001b[0m\u001b[0msolver\u001b[0m\u001b[1;33m=\u001b[0m\u001b[1;34m\"gurobi\"\u001b[0m\u001b[1;33m\u001b[0m\u001b[1;33m\u001b[0m\u001b[0m\n\u001b[0m",
      "\u001b[1;32m~\\miniconda3\\envs\\massliver\\lib\\site-packages\\cobra\\core\\configuration.py\u001b[0m in \u001b[0;36msolver\u001b[1;34m(self, value)\u001b[0m\n\u001b[0;32m    116\u001b[0m         \u001b[1;32mif\u001b[0m \u001b[0misinstance\u001b[0m\u001b[1;33m(\u001b[0m\u001b[0mvalue\u001b[0m\u001b[1;33m,\u001b[0m \u001b[0mstr\u001b[0m\u001b[1;33m)\u001b[0m\u001b[1;33m:\u001b[0m\u001b[1;33m\u001b[0m\u001b[1;33m\u001b[0m\u001b[0m\n\u001b[0;32m    117\u001b[0m             \u001b[1;32mif\u001b[0m \u001b[0mvalue\u001b[0m \u001b[1;32mnot\u001b[0m \u001b[1;32min\u001b[0m \u001b[0mSOLVERS\u001b[0m\u001b[1;33m:\u001b[0m\u001b[1;33m\u001b[0m\u001b[1;33m\u001b[0m\u001b[0m\n\u001b[1;32m--> 118\u001b[1;33m                 \u001b[1;32mraise\u001b[0m \u001b[0mnot_valid_interface\u001b[0m\u001b[1;33m\u001b[0m\u001b[1;33m\u001b[0m\u001b[0m\n\u001b[0m\u001b[0;32m    119\u001b[0m             \u001b[0minterface\u001b[0m \u001b[1;33m=\u001b[0m \u001b[0mSOLVERS\u001b[0m\u001b[1;33m[\u001b[0m\u001b[0mvalue\u001b[0m\u001b[1;33m]\u001b[0m\u001b[1;33m\u001b[0m\u001b[1;33m\u001b[0m\u001b[0m\n\u001b[0;32m    120\u001b[0m         \u001b[1;32melif\u001b[0m \u001b[0misinstance\u001b[0m\u001b[1;33m(\u001b[0m\u001b[0mvalue\u001b[0m\u001b[1;33m,\u001b[0m \u001b[0mtypes\u001b[0m\u001b[1;33m.\u001b[0m\u001b[0mModuleType\u001b[0m\u001b[1;33m)\u001b[0m \u001b[1;32mand\u001b[0m \u001b[0mhasattr\u001b[0m\u001b[1;33m(\u001b[0m\u001b[0mvalue\u001b[0m\u001b[1;33m,\u001b[0m \u001b[1;34m\"Model\"\u001b[0m\u001b[1;33m)\u001b[0m\u001b[1;33m:\u001b[0m\u001b[1;33m\u001b[0m\u001b[1;33m\u001b[0m\u001b[0m\n",
      "\u001b[1;31mSolverNotFound\u001b[0m: 'gurobi' is not a valid solver interface.  Please pick one from glpk_exact, glpk, scipy."
     ]
    }
   ],
   "source": [
    "# for key, value in cobra.util.solvers:\n",
    "#     print(key,value)\n",
    "# cobra.util.solver.choose_solver(model,solver=\"cplex\")\n",
    "cobra.util.solvers.update\n",
    "\n",
    "cobra_config.solver=\"gurobi\""
   ]
  },
  {
   "cell_type": "code",
   "execution_count": 22,
   "metadata": {},
   "outputs": [
    {
     "data": {
      "text/latex": [
       "$\\displaystyle v_{1}$"
      ],
      "text/plain": [
       "0 <= v1 <= 1000.0"
      ]
     },
     "execution_count": 22,
     "metadata": {},
     "output_type": "execute_result"
    }
   ],
   "source": [
    "# for v in trial.variables.items():\n",
    "#     print(v)\n",
    "# # create the solver object\n",
    "# lp = solver.create_problem(problem, objective_sense=\"minimize\")\n",
    "trial.variables[\"v1\"]"
   ]
  },
  {
   "cell_type": "code",
   "execution_count": 23,
   "metadata": {},
   "outputs": [
    {
     "ename": "AttributeError",
     "evalue": "module 'cobra' has no attribute 'solvers'",
     "output_type": "error",
     "traceback": [
      "\u001b[1;31m---------------------------------------------------------------------------\u001b[0m",
      "\u001b[1;31mAttributeError\u001b[0m                            Traceback (most recent call last)",
      "\u001b[1;32m~\\AppData\\Local\\Temp/ipykernel_22952/78529032.py\u001b[0m in \u001b[0;36m<module>\u001b[1;34m\u001b[0m\n\u001b[1;32m----> 1\u001b[1;33m \u001b[0msolved_fluxes\u001b[0m \u001b[1;33m=\u001b[0m \u001b[0mminspan\u001b[0m\u001b[1;33m(\u001b[0m\u001b[0mmodel\u001b[0m\u001b[1;33m,\u001b[0m \u001b[0mcores\u001b[0m\u001b[1;33m=\u001b[0m\u001b[1;36m3\u001b[0m\u001b[1;33m,\u001b[0m \u001b[0mverbose\u001b[0m\u001b[1;33m=\u001b[0m\u001b[1;32mFalse\u001b[0m\u001b[1;33m,\u001b[0m \u001b[0mtimelimit\u001b[0m\u001b[1;33m=\u001b[0m\u001b[1;36m60\u001b[0m\u001b[1;33m,\u001b[0m\u001b[0msolver_name\u001b[0m\u001b[1;33m=\u001b[0m\u001b[1;34m\"gurobi\"\u001b[0m\u001b[1;33m)\u001b[0m\u001b[1;33m\u001b[0m\u001b[1;33m\u001b[0m\u001b[0m\n\u001b[0m\u001b[0;32m      2\u001b[0m \u001b[0mprint\u001b[0m\u001b[1;33m(\u001b[0m\u001b[0msolved_fluxes\u001b[0m\u001b[1;33m)\u001b[0m\u001b[1;33m\u001b[0m\u001b[1;33m\u001b[0m\u001b[0m\n\u001b[0;32m      3\u001b[0m \u001b[0mdf\u001b[0m \u001b[1;33m=\u001b[0m \u001b[0mpd\u001b[0m\u001b[1;33m.\u001b[0m\u001b[0mDataFrame\u001b[0m\u001b[1;33m(\u001b[0m\u001b[0msolved_fluxes\u001b[0m\u001b[1;33m.\u001b[0m\u001b[0mcopy\u001b[0m\u001b[1;33m(\u001b[0m\u001b[1;33m)\u001b[0m\u001b[1;33m,\u001b[0m \u001b[0mindex\u001b[0m\u001b[1;33m=\u001b[0m\u001b[1;33m[\u001b[0m\u001b[0mi\u001b[0m\u001b[1;33m.\u001b[0m\u001b[0mid\u001b[0m \u001b[1;32mfor\u001b[0m \u001b[0mi\u001b[0m \u001b[1;32min\u001b[0m \u001b[0mmodel\u001b[0m\u001b[1;33m.\u001b[0m\u001b[0mreactions\u001b[0m\u001b[1;33m]\u001b[0m\u001b[1;33m)\u001b[0m\u001b[1;33m\u001b[0m\u001b[1;33m\u001b[0m\u001b[0m\n\u001b[0;32m      4\u001b[0m \u001b[0mdf\u001b[0m \u001b[1;33m=\u001b[0m \u001b[0mdf\u001b[0m\u001b[1;33m/\u001b[0m\u001b[0mdf\u001b[0m\u001b[1;33m.\u001b[0m\u001b[0mabs\u001b[0m\u001b[1;33m(\u001b[0m\u001b[1;33m)\u001b[0m\u001b[1;33m.\u001b[0m\u001b[0mmax\u001b[0m\u001b[1;33m(\u001b[0m\u001b[1;33m)\u001b[0m\u001b[1;33m\u001b[0m\u001b[1;33m\u001b[0m\u001b[0m\n\u001b[0;32m      5\u001b[0m \u001b[0mdf\u001b[0m\u001b[1;33m.\u001b[0m\u001b[0mto_csv\u001b[0m\u001b[1;33m(\u001b[0m\u001b[0mdir\u001b[0m \u001b[1;33m%\u001b[0m \u001b[0mmodel_name\u001b[0m\u001b[1;33m)\u001b[0m\u001b[1;33m\u001b[0m\u001b[1;33m\u001b[0m\u001b[0m\n",
      "\u001b[1;32mc:\\Users\\sicil\\LiverModel\\minspan\\minspan.py\u001b[0m in \u001b[0;36mminspan\u001b[1;34m(model, starting_fluxes, coverage, cores, processes, mapper, timelimit, verbose, solver_name, first_round_cores, first_round_timelimit)\u001b[0m\n\u001b[0;32m    487\u001b[0m             \u001b[1;31m# function because the multiprocessing map function only takes a\u001b[0m\u001b[1;33m\u001b[0m\u001b[1;33m\u001b[0m\u001b[1;33m\u001b[0m\u001b[0m\n\u001b[0;32m    488\u001b[0m             \u001b[1;31m# single iterable.\u001b[0m\u001b[1;33m\u001b[0m\u001b[1;33m\u001b[0m\u001b[1;33m\u001b[0m\u001b[0m\n\u001b[1;32m--> 489\u001b[1;33m             flux_vectors = list(mapper(calculate_minspan_column_helper,\n\u001b[0m\u001b[0;32m    490\u001b[0m                 zip(repeat(model_pickle), repeat(fluxes), column_indices,\n\u001b[0;32m    491\u001b[0m                     \u001b[0mrepeat\u001b[0m\u001b[1;33m(\u001b[0m\u001b[0mN\u001b[0m\u001b[1;33m)\u001b[0m\u001b[1;33m,\u001b[0m \u001b[0mrepeat\u001b[0m\u001b[1;33m(\u001b[0m\u001b[0muse_cores\u001b[0m\u001b[1;33m)\u001b[0m\u001b[1;33m,\u001b[0m \u001b[0mrepeat\u001b[0m\u001b[1;33m(\u001b[0m\u001b[0muse_timelimit\u001b[0m\u001b[1;33m)\u001b[0m\u001b[1;33m,\u001b[0m\u001b[1;33m\u001b[0m\u001b[1;33m\u001b[0m\u001b[0m\n",
      "\u001b[1;32mc:\\Users\\sicil\\LiverModel\\minspan\\minspan.py\u001b[0m in \u001b[0;36mcalculate_minspan_column_helper\u001b[1;34m(args)\u001b[0m\n\u001b[0;32m    194\u001b[0m \u001b[1;33m\u001b[0m\u001b[0m\n\u001b[0;32m    195\u001b[0m \u001b[1;32mdef\u001b[0m \u001b[0mcalculate_minspan_column_helper\u001b[0m\u001b[1;33m(\u001b[0m\u001b[0margs\u001b[0m\u001b[1;33m)\u001b[0m\u001b[1;33m:\u001b[0m\u001b[1;33m\u001b[0m\u001b[1;33m\u001b[0m\u001b[0m\n\u001b[1;32m--> 196\u001b[1;33m     \u001b[1;32mreturn\u001b[0m \u001b[0mcalculate_minspan_column\u001b[0m\u001b[1;33m(\u001b[0m\u001b[1;33m*\u001b[0m\u001b[0margs\u001b[0m\u001b[1;33m)\u001b[0m\u001b[1;33m\u001b[0m\u001b[1;33m\u001b[0m\u001b[0m\n\u001b[0m\u001b[0;32m    197\u001b[0m \u001b[1;33m\u001b[0m\u001b[0m\n\u001b[0;32m    198\u001b[0m \u001b[1;33m\u001b[0m\u001b[0m\n",
      "\u001b[1;32mc:\\Users\\sicil\\LiverModel\\minspan\\minspan.py\u001b[0m in \u001b[0;36mcalculate_minspan_column\u001b[1;34m(model_pickle, original_fluxes, column_index, N, solver_name, cores, timelimit, verbose)\u001b[0m\n\u001b[0;32m    205\u001b[0m     \u001b[0mlinearly\u001b[0m \u001b[0mindependent\u001b[0m \u001b[0mof\u001b[0m \u001b[0mall\u001b[0m \u001b[0mother\u001b[0m \u001b[0mcolumns\u001b[0m\u001b[1;33m.\u001b[0m\u001b[1;33m\u001b[0m\u001b[1;33m\u001b[0m\u001b[0m\n\u001b[0;32m    206\u001b[0m     \"\"\"\n\u001b[1;32m--> 207\u001b[1;33m     \u001b[0msolver\u001b[0m \u001b[1;33m=\u001b[0m \u001b[0mcobra\u001b[0m\u001b[1;33m.\u001b[0m\u001b[0msolvers\u001b[0m\u001b[1;33m.\u001b[0m\u001b[0msolver_dict\u001b[0m\u001b[1;33m[\u001b[0m\u001b[0msolver_name\u001b[0m\u001b[1;33m]\u001b[0m\u001b[1;33m\u001b[0m\u001b[1;33m\u001b[0m\u001b[0m\n\u001b[0m\u001b[0;32m    208\u001b[0m     \u001b[0mn\u001b[0m \u001b[1;33m=\u001b[0m \u001b[0mN\u001b[0m\u001b[1;33m.\u001b[0m\u001b[0mshape\u001b[0m\u001b[1;33m[\u001b[0m\u001b[1;36m0\u001b[0m\u001b[1;33m]\u001b[0m\u001b[1;33m\u001b[0m\u001b[1;33m\u001b[0m\u001b[0m\n\u001b[0;32m    209\u001b[0m     \u001b[0mfluxes\u001b[0m \u001b[1;33m=\u001b[0m \u001b[0moriginal_fluxes\u001b[0m\u001b[1;33m.\u001b[0m\u001b[0mcopy\u001b[0m\u001b[1;33m(\u001b[0m\u001b[1;33m)\u001b[0m\u001b[1;33m\u001b[0m\u001b[1;33m\u001b[0m\u001b[0m\n",
      "\u001b[1;31mAttributeError\u001b[0m: module 'cobra' has no attribute 'solvers'"
     ]
    }
   ],
   "source": [
    "solved_fluxes = minspan(model, cores=3, verbose=False, timelimit=60,solver_name=\"gurobi\")\n",
    "print(solved_fluxes)\n",
    "df = pd.DataFrame(solved_fluxes.copy(), index=[i.id for i in model.reactions])\n",
    "df = df/df.abs().max()\n",
    "df.to_csv(dir % model_name)\n",
    "df"
   ]
  },
  {
   "cell_type": "code",
   "execution_count": null,
   "metadata": {},
   "outputs": [],
   "source": [
    "# df"
   ]
  },
  {
   "cell_type": "code",
   "execution_count": null,
   "metadata": {},
   "outputs": [],
   "source": []
  }
 ],
 "metadata": {
  "interpreter": {
   "hash": "47617ef91c57040f324d0d309b22e5ef5668d4be6a46473e64f0486748e04983"
  },
  "kernelspec": {
   "display_name": "Python 3.8.12 64-bit ('massliver': conda)",
   "language": "python",
   "name": "python3"
  },
  "language_info": {
   "codemirror_mode": {
    "name": "ipython",
    "version": 3
   },
   "file_extension": ".py",
   "mimetype": "text/x-python",
   "name": "python",
   "nbconvert_exporter": "python",
   "pygments_lexer": "ipython3",
   "version": "3.8.12"
  },
  "orig_nbformat": 4
 },
 "nbformat": 4,
 "nbformat_minor": 2
}
