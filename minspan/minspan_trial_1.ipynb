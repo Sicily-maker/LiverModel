{
 "cells": [
  {
   "cell_type": "markdown",
   "metadata": {},
   "source": [
    "## Making toy model to test minspan algo"
   ]
  },
  {
   "cell_type": "code",
   "execution_count": 1,
   "metadata": {},
   "outputs": [],
   "source": [
    "from os import path\n",
    "\n",
    "import matplotlib.pyplot as plt\n",
    "\n",
    "from cobra import DictList\n",
    "from cobra import Model, Reaction, Metabolite\n",
    "\n",
    "from mass import (\n",
    "    MassConfiguration, MassMetabolite, MassModel,\n",
    "    MassReaction, Simulation, UnitDefinition)\n",
    "from mass.io import json, sbml\n",
    "from mass.util import qcqa_model\n",
    "from cobra.io.json import save_json_model as save_json_model\n",
    "from cobra.io.json import load_json_model as load_json_model\n",
    "from cobra.io import *\n",
    "import os\n",
    "import re\n",
    "import warnings\n",
    "from cobra.io.json import load_json_model as load_json_cobra_model\n",
    "import escher\n",
    "import mass\n",
    "import numpy as np\n",
    "import pandas as pd\n",
    "import equilibrator_api\n",
    "from equilibrator_api import ComponentContribution, Q_\n",
    "import sympy as sym\n",
    "from cobra import Model, Reaction, Metabolite\n",
    "import cobra.test\n",
    "from os.path import join\n",
    "from mass.util import qcqa\n",
    "from mass.util import qcqa_model\n",
    "from cobra import DictList\n",
    "from glob import glob\n",
    "\n",
    "# mass_config.irreversible_Keq = float(\"inf\")"
   ]
  },
  {
   "cell_type": "markdown",
   "metadata": {},
   "source": []
  },
  {
   "cell_type": "code",
   "execution_count": 2,
   "metadata": {},
   "outputs": [],
   "source": [
    "a = Metabolite('A',compartment='c')\n",
    "b= Metabolite('B',compartment='c')\n",
    "c = Metabolite('C',compartment='c')\n",
    "d = Metabolite('D',compartment='c')\n",
    "e = Metabolite('E',compartment='c')\n",
    "f = Metabolite('F',compartment='c')\n",
    "g = Metabolite('G',compartment='c')\n",
    "h = Metabolite('H',compartment='c')\n",
    "i = Metabolite('I',compartment='c')\n",
    "j = Metabolite('J',compartment='c')\n",
    "atp = Metabolite('atp',compartment='c')\n",
    "adp = Metabolite('adp',compartment='c')\n",
    "nadh = Metabolite('nadh',compartment='c')\n",
    "nad = Metabolite('nad',compartment='c')"
   ]
  },
  {
   "cell_type": "code",
   "execution_count": 3,
   "metadata": {},
   "outputs": [],
   "source": [
    "v1 = Reaction('v1', lower_bound=0)\n",
    "v2 = Reaction('v2', lower_bound=0)\n",
    "v3 = Reaction('v3', lower_bound=0)\n",
    "v4 = Reaction('v4', lower_bound=0)\n",
    "v5 = Reaction('v5', lower_bound=0)\n",
    "v6 = Reaction('v6', lower_bound=-1000)\n",
    "v7 = Reaction('v7', lower_bound=-1000)\n",
    "v8 = Reaction('v8', lower_bound=-1000)\n",
    "v9 = Reaction('v9', lower_bound=-1000)\n",
    "v10 = Reaction('v10', lower_bound=0)\n",
    "\n"
   ]
  },
  {
   "cell_type": "code",
   "execution_count": 4,
   "metadata": {},
   "outputs": [
    {
     "data": {
      "text/plain": [
       "True"
      ]
     },
     "execution_count": 4,
     "metadata": {},
     "output_type": "execute_result"
    }
   ],
   "source": [
    "v6.reversibility"
   ]
  },
  {
   "cell_type": "code",
   "execution_count": 5,
   "metadata": {},
   "outputs": [],
   "source": [
    "v1.add_metabolites({a : -1,atp : -1, b : 1, adp : 1})\n",
    "v2.add_metabolites({b : -1,nad : -1, c : 1, nadh : 1})\n",
    "v3.add_metabolites({c : -1,adp : -1, d : 1, atp : 1})\n",
    "v4.add_metabolites({d : -1,nadh: -1, e : 1, nad : 1})\n",
    "v5.add_metabolites({d : -1,nad : -1, f : 1, nadh : 1})\n",
    "v6.add_metabolites({f : -1,nadh : -1, g : 1, nad : 1})\n",
    "v7.add_metabolites({f : -1,h : 1})\n",
    "v8.add_metabolites({g : -1,atp : -1, i : 1, adp : 1})\n",
    "v9.add_metabolites({i : -1,nadh : -1, h : 1, nad : 1})\n",
    "v10.add_metabolites({g : -1, j : 1})"
   ]
  },
  {
   "cell_type": "code",
   "execution_count": 6,
   "metadata": {},
   "outputs": [
    {
     "name": "stdout",
     "output_type": "stream",
     "text": [
      "Restricted license - for non-production use only - expires 2023-10-25\n"
     ]
    }
   ],
   "source": [
    "trial = Model('Minspan_trial1')"
   ]
  },
  {
   "cell_type": "code",
   "execution_count": 7,
   "metadata": {},
   "outputs": [],
   "source": [
    "trial.add_reactions([v1,v2,v3,v4,v5,v6,v7,v8,v9,v10])"
   ]
  },
  {
   "cell_type": "code",
   "execution_count": 8,
   "metadata": {},
   "outputs": [],
   "source": [
    "vA = Reaction('vA', lower_bound=-0)\n",
    "vE = Reaction('vE', lower_bound=0)\n",
    "vH = Reaction('vH', lower_bound=-1000)\n",
    "vJ = Reaction('vJ', lower_bound=-1000)\n",
    "vatp = Reaction('vatp', lower_bound=-1000)\n",
    "vadp = Reaction('vadp', lower_bound=-1000)\n",
    "vnadh = Reaction('vnadh', lower_bound=-1000)\n",
    "vnad = Reaction('vnad', lower_bound=-1000)"
   ]
  },
  {
   "cell_type": "code",
   "execution_count": 9,
   "metadata": {},
   "outputs": [],
   "source": [
    "vA.add_metabolites({a : 1})\n",
    "vE.add_metabolites({e : -1})\n",
    "vH.add_metabolites({h : -1})\n",
    "vJ.add_metabolites({j : -1})\n",
    "vatp.add_metabolites({atp : 1})\n",
    "vadp.add_metabolites({adp : 1})\n",
    "vnadh.add_metabolites({nadh : 1})\n",
    "vnad.add_metabolites({nad : 1})"
   ]
  },
  {
   "cell_type": "code",
   "execution_count": 10,
   "metadata": {},
   "outputs": [],
   "source": [
    "trial.add_reactions([vA,vE,vH,vJ,vatp,vadp,vnadh,vnad])"
   ]
  },
  {
   "cell_type": "code",
   "execution_count": null,
   "metadata": {},
   "outputs": [],
   "source": []
  },
  {
   "cell_type": "code",
   "execution_count": 11,
   "metadata": {},
   "outputs": [],
   "source": [
    "# trial.add_metabolites([\n",
    "#     Metabolite(\n",
    "#     'a_e',\n",
    "#     name='A',\n",
    "#     compartment='e'\n",
    "#     ),\n",
    "#     Metabolite(\n",
    "#     'e_e',\n",
    "#     name='E',\n",
    "#     compartment='e'\n",
    "#     ),\n",
    "#     Metabolite(\n",
    "#     'h_e',\n",
    "#     name='H',\n",
    "#     compartment='e'\n",
    "#     ),\n",
    "#     Metabolite(\n",
    "#     'j_e',\n",
    "#     name='J',\n",
    "#     compartment='e'\n",
    "#     ),\n",
    "#     Metabolite(\n",
    "#     'atp_e',\n",
    "#     name='atp',\n",
    "#     compartment='e'\n",
    "#     ),\n",
    "#     Metabolite(\n",
    "#     'adp_e',\n",
    "#     name='adp',\n",
    "#     compartment='e'\n",
    "#     ),\n",
    "#     Metabolite(\n",
    "#     'nadh_e',\n",
    "#     name='nadh',\n",
    "#     compartment='e'\n",
    "#     ),\n",
    "#     Metabolite(\n",
    "#     'nad_e',\n",
    "#     name='nad',\n",
    "#     compartment='e'\n",
    "#     ),\n",
    "# ])\n",
    "\n"
   ]
  },
  {
   "cell_type": "code",
   "execution_count": 12,
   "metadata": {},
   "outputs": [],
   "source": [
    "# create exchange reaction\n",
    "# trial.add_boundary(trial.metabolites.get_by_id(\"a_e\"), type=\"exchange\") # need to make it unidirectioonal\n",
    "# trial.add_boundary(trial.metabolites.get_by_id(\"e_e\"), type=\"demand\")\n",
    "# trial.add_boundary(trial.metabolites.get_by_id(\"h_e\"), type=\"exchange\")\n",
    "# trial.add_boundary(trial.metabolites.get_by_id(\"j_e\"), type=\"exchange\")\n",
    "# trial.add_boundary(trial.metabolites.get_by_id(\"atp_e\"), type=\"exchange\")\n",
    "# trial.add_boundary(trial.metabolites.get_by_id(\"adp_e\"), type=\"exchange\")\n",
    "# trial.add_boundary(trial.metabolites.get_by_id(\"nadh_e\"), type=\"exchange\")\n",
    "# trial.add_boundary(trial.metabolites.get_by_id(\"nad_e\"), type=\"exchange\")\n",
    "\n"
   ]
  },
  {
   "cell_type": "code",
   "execution_count": 13,
   "metadata": {},
   "outputs": [
    {
     "name": "stdout",
     "output_type": "stream",
     "text": [
      "exchanges [<Reaction vA at 0x21562b85cd0>, <Reaction vE at 0x21562b85c70>, <Reaction vH at 0x21562b85d00>, <Reaction vJ at 0x21562b85ca0>, <Reaction vatp at 0x21562b85d30>, <Reaction vadp at 0x21562b85d60>, <Reaction vnadh at 0x21562b85d90>, <Reaction vnad at 0x21562b85dc0>]\n",
      "sinks []\n",
      "demands []\n"
     ]
    }
   ],
   "source": [
    "print(\"exchanges\", trial.exchanges)\n",
    "print(\"sinks\", trial.sinks)\n",
    "print(\"demands\", trial.demands)"
   ]
  },
  {
   "cell_type": "code",
   "execution_count": 14,
   "metadata": {},
   "outputs": [
    {
     "name": "stdout",
     "output_type": "stream",
     "text": [
      "18\n",
      "14\n"
     ]
    }
   ],
   "source": [
    "print(len(trial.reactions))\n",
    "print(len(trial.metabolites))"
   ]
  },
  {
   "cell_type": "code",
   "execution_count": null,
   "metadata": {},
   "outputs": [],
   "source": []
  },
  {
   "cell_type": "code",
   "execution_count": 15,
   "metadata": {},
   "outputs": [],
   "source": [
    "dir = os.path.abspath(\"\")\n",
    "trial_json = os.path.join(dir,\"trial_json\")\n",
    "cobra.io.save_json_model(trial, trial_json)\n",
    "# trial_json\n",
    "# ('/home/sbrg-cjlloyd/fba4l/fba4l/models/*.json'):"
   ]
  },
  {
   "cell_type": "code",
   "execution_count": 16,
   "metadata": {},
   "outputs": [],
   "source": [
    "# model_name = model_file\n",
    "# if 'model' not in model_name:\n",
    "#     continue\n",
    "# print(model_name)\n",
    "model= load_json_model(trial_json)"
   ]
  },
  {
   "cell_type": "code",
   "execution_count": 17,
   "metadata": {},
   "outputs": [],
   "source": [
    "if 'NADPHM' in model.reactions:\n",
    "    model.remove_reactions(['NADPHM'])\n",
    "# media = ['EX_lac__L_c', 'EX_pyr_c', 'EX_octa_c', 'EX_gln__L_c', 'EX_acetone_c', 'EX_bhb_c',\n",
    "#          'EX_glu__L_c', 'EX_ser__L_c', 'EX_cys__L_c', 'EX_gly_c', 'EX_ala__L_c', 'EX_so3_c',\n",
    "#         'EX_etoh_c', 'EX_fru_c']\n",
    "media = ['EX_glc__D_c']\n",
    "for met in media:\n",
    "    if met in model.reactions:\n",
    "        model.reactions.get_by_id(met).lower_bound = -1000."
   ]
  },
  {
   "cell_type": "code",
   "execution_count": 18,
   "metadata": {},
   "outputs": [],
   "source": [
    "# rxns = [i.id for i in model.reactions]\n",
    "# blocked = cobra.flux_analysis.find_blocked_reactions(model)\n",
    "# print(blocked)\n",
    "# model.remove_reactions(blocked)"
   ]
  },
  {
   "cell_type": "code",
   "execution_count": 19,
   "metadata": {},
   "outputs": [],
   "source": [
    "cobra_config = cobra.Configuration()"
   ]
  },
  {
   "cell_type": "code",
   "execution_count": 20,
   "metadata": {},
   "outputs": [],
   "source": [
    "import minspan\n",
    "from minspan import minspan,nnz"
   ]
  },
  {
   "cell_type": "code",
   "execution_count": 21,
   "metadata": {},
   "outputs": [
    {
     "data": {
      "text/plain": [
       "{'cplex': <module 'optlang.cplex_interface' from 'C:\\\\Users\\\\sicil\\\\miniconda3\\\\envs\\\\massliver\\\\lib\\\\site-packages\\\\optlang\\\\cplex_interface.py'>,\n",
       " 'glpk_exact': <module 'optlang.glpk_exact_interface' from 'C:\\\\Users\\\\sicil\\\\miniconda3\\\\envs\\\\massliver\\\\lib\\\\site-packages\\\\optlang\\\\glpk_exact_interface.py'>,\n",
       " 'glpk': <module 'optlang.glpk_interface' from 'C:\\\\Users\\\\sicil\\\\miniconda3\\\\envs\\\\massliver\\\\lib\\\\site-packages\\\\optlang\\\\glpk_interface.py'>,\n",
       " 'gurobi': <module 'optlang.gurobi_interface' from 'C:\\\\Users\\\\sicil\\\\miniconda3\\\\envs\\\\massliver\\\\lib\\\\site-packages\\\\optlang\\\\gurobi_interface.py'>,\n",
       " 'scipy': <module 'optlang.scipy_interface' from 'C:\\\\Users\\\\sicil\\\\miniconda3\\\\envs\\\\massliver\\\\lib\\\\site-packages\\\\optlang\\\\scipy_interface.py'>}"
      ]
     },
     "execution_count": 21,
     "metadata": {},
     "output_type": "execute_result"
    }
   ],
   "source": [
    "# for key, value in cobra.util.solver.choose_solver:\n",
    "#     print(key,value)\n",
    "# cobra.util.solver.choose_solver(model,solver=\"cplex\")\n",
    "cobra.util.solvers\n",
    "\n",
    "# cobra_config.solver=\"gurobi\""
   ]
  },
  {
   "cell_type": "code",
   "execution_count": 22,
   "metadata": {},
   "outputs": [
    {
     "data": {
      "text/latex": [
       "$\\displaystyle v_{1}$"
      ],
      "text/plain": [
       "0 <= v1 <= 1000.0"
      ]
     },
     "execution_count": 22,
     "metadata": {},
     "output_type": "execute_result"
    }
   ],
   "source": [
    "# for v in trial.variables.items():\n",
    "#     print(v)\n",
    "# # create the solver object\n",
    "# lp = solver.create_problem(problem, objective_sense=\"minimize\")\n",
    "trial.variables[\"v1\"]"
   ]
  },
  {
   "cell_type": "code",
   "execution_count": 23,
   "metadata": {},
   "outputs": [
    {
     "name": "stdout",
     "output_type": "stream",
     "text": [
      "Read LP format model from file C:\\Users\\sicil\\AppData\\Local\\Temp\\tmppfc_yoj2.lp\n",
      "Reading time = 0.01 seconds\n",
      ": 14 rows, 36 columns, 88 nonzeros\n",
      "(b'\\x80\\x04\\x95\\xba\\x1d\\x00\\x00\\x00\\x00\\x00\\x00\\x8c\\x10cobra.core.model\\x94\\x8c\\x05Model\\x94\\x93\\x94)\\x81\\x94}\\x94(\\x8c\\x03_id\\x94\\x8c\\x0eMinspan_trial1\\x94\\x8c\\x04name\\x94N\\x8c\\x05notes\\x94}\\x94\\x8c\\x0b_annotation\\x94}\\x94\\x8c\\x08_trimmed\\x94\\x89\\x8c\\x0e_trimmed_genes\\x94]\\x94\\x8c\\x12_trimmed_reactions\\x94}\\x94\\x8c\\x05genes\\x94\\x8c\\x13cobra.core.dictlist\\x94\\x8c\\x08DictList\\x94\\x93\\x94)R\\x94}\\x94\\x8c\\x05_dict\\x94}\\x94sb\\x8c\\treactions\\x94h\\x14)R\\x94(\\x8c\\x13cobra.core.reaction\\x94\\x8c\\x08Reaction\\x94\\x93\\x94)\\x81\\x94}\\x94(h\\x05\\x8c\\x02v1\\x94h\\x07\\x8c\\x00\\x94h\\x08}\\x94h\\n}\\x94\\x8c\\x13_gene_reaction_rule\\x94h!\\x8c\\tsubsystem\\x94h!\\x8c\\x06_genes\\x94\\x8f\\x94\\x8c\\x0c_metabolites\\x94}\\x94(\\x8c\\x15cobra.core.metabolite\\x94\\x8c\\nMetabolite\\x94\\x93\\x94)\\x81\\x94}\\x94(h\\x05\\x8c\\x01A\\x94h\\x07h!h\\x08}\\x94h\\n}\\x94\\x8c\\x06_model\\x94N\\x8c\\t_reaction\\x94\\x8f\\x94\\x8c\\x07formula\\x94N\\x8c\\x0bcompartment\\x94\\x8c\\x01c\\x94\\x8c\\x06charge\\x94N\\x8c\\x06_bound\\x94G\\x00\\x00\\x00\\x00\\x00\\x00\\x00\\x00ubJ\\xff\\xff\\xff\\xffh,)\\x81\\x94}\\x94(h\\x05\\x8c\\x01B\\x94h\\x07h!h\\x08}\\x94h\\n}\\x94h2Nh3\\x8f\\x94h5Nh6h7h8Nh9G\\x00\\x00\\x00\\x00\\x00\\x00\\x00\\x00ubK\\x01h,)\\x81\\x94}\\x94(h\\x05\\x8c\\x03adp\\x94h\\x07h!h\\x08}\\x94h\\n}\\x94h2Nh3\\x8f\\x94h5Nh6h7h8Nh9G\\x00\\x00\\x00\\x00\\x00\\x00\\x00\\x00ubK\\x01h,)\\x81\\x94}\\x94(h\\x05\\x8c\\x03atp\\x94h\\x07h!h\\x08}\\x94h\\n}\\x94h2Nh3\\x8f\\x94h5Nh6h7h8Nh9G\\x00\\x00\\x00\\x00\\x00\\x00\\x00\\x00ubJ\\xff\\xff\\xff\\xffuh2N\\x8c\\x0c_lower_bound\\x94G\\x00\\x00\\x00\\x00\\x00\\x00\\x00\\x00\\x8c\\x0c_upper_bound\\x94G@\\x8f@\\x00\\x00\\x00\\x00\\x00ubh\\x1d)\\x81\\x94}\\x94(h\\x05\\x8c\\x02v2\\x94h\\x07h!h\\x08}\\x94h\\n}\\x94h$h!h%h!h&\\x8f\\x94h(}\\x94(h:J\\xff\\xff\\xff\\xffh,)\\x81\\x94}\\x94(h\\x05\\x8c\\x01C\\x94h\\x07h!h\\x08}\\x94h\\n}\\x94h2Nh3\\x8f\\x94h5Nh6h7h8Nh9G\\x00\\x00\\x00\\x00\\x00\\x00\\x00\\x00ubK\\x01h,)\\x81\\x94}\\x94(h\\x05\\x8c\\x03nad\\x94h\\x07h!h\\x08}\\x94h\\n}\\x94h2Nh3\\x8f\\x94h5Nh6h7h8Nh9G\\x00\\x00\\x00\\x00\\x00\\x00\\x00\\x00ubJ\\xff\\xff\\xff\\xffh,)\\x81\\x94}\\x94(h\\x05\\x8c\\x04nadh\\x94h\\x07h!h\\x08}\\x94h\\n}\\x94h2Nh3\\x8f\\x94h5Nh6h7h8Nh9G\\x00\\x00\\x00\\x00\\x00\\x00\\x00\\x00ubK\\x01uh2NhLG\\x00\\x00\\x00\\x00\\x00\\x00\\x00\\x00hMG@\\x8f@\\x00\\x00\\x00\\x00\\x00ubh\\x1d)\\x81\\x94}\\x94(h\\x05\\x8c\\x02v3\\x94h\\x07h!h\\x08}\\x94h\\n}\\x94h$h!h%h!h&\\x8f\\x94h(}\\x94(hUJ\\xff\\xff\\xff\\xffh,)\\x81\\x94}\\x94(h\\x05\\x8c\\x01D\\x94h\\x07h!h\\x08}\\x94h\\n}\\x94h2Nh3\\x8f\\x94h5Nh6h7h8Nh9G\\x00\\x00\\x00\\x00\\x00\\x00\\x00\\x00ubK\\x01h@J\\xff\\xff\\xff\\xffhFK\\x01uh2NhLG\\x00\\x00\\x00\\x00\\x00\\x00\\x00\\x00hMG@\\x8f@\\x00\\x00\\x00\\x00\\x00ubh\\x1d)\\x81\\x94}\\x94(h\\x05\\x8c\\x02v4\\x94h\\x07h!h\\x08}\\x94h\\n}\\x94h$h!h%h!h&\\x8f\\x94h(}\\x94(hnJ\\xff\\xff\\xff\\xffh,)\\x81\\x94}\\x94(h\\x05\\x8c\\x01E\\x94h\\x07h!h\\x08}\\x94h\\n}\\x94h2Nh3\\x8f\\x94h5Nh6h7h8Nh9G\\x00\\x00\\x00\\x00\\x00\\x00\\x00\\x00ubK\\x01h[K\\x01haJ\\xff\\xff\\xff\\xffuh2NhLG\\x00\\x00\\x00\\x00\\x00\\x00\\x00\\x00hMG@\\x8f@\\x00\\x00\\x00\\x00\\x00ubh\\x1d)\\x81\\x94}\\x94(h\\x05\\x8c\\x02v5\\x94h\\x07h!h\\x08}\\x94h\\n}\\x94h$h!h%h!h&\\x8f\\x94h(}\\x94(hnJ\\xff\\xff\\xff\\xffh,)\\x81\\x94}\\x94(h\\x05\\x8c\\x01F\\x94h\\x07h!h\\x08}\\x94h\\n}\\x94h2Nh3\\x8f\\x94h5Nh6h7h8Nh9G\\x00\\x00\\x00\\x00\\x00\\x00\\x00\\x00ubK\\x01h[J\\xff\\xff\\xff\\xffhaK\\x01uh2NhLG\\x00\\x00\\x00\\x00\\x00\\x00\\x00\\x00hMG@\\x8f@\\x00\\x00\\x00\\x00\\x00ubh\\x1d)\\x81\\x94}\\x94(h\\x05\\x8c\\x02v6\\x94h\\x07h!h\\x08}\\x94h\\n}\\x94h$h!h%h!h&\\x8f\\x94h(}\\x94(h\\x88J\\xff\\xff\\xff\\xffh,)\\x81\\x94}\\x94(h\\x05\\x8c\\x01G\\x94h\\x07h!h\\x08}\\x94h\\n}\\x94h2Nh3\\x8f\\x94h5Nh6h7h8Nh9G\\x00\\x00\\x00\\x00\\x00\\x00\\x00\\x00ubK\\x01h[K\\x01haJ\\xff\\xff\\xff\\xffuh2NhLG\\xc0\\x8f@\\x00\\x00\\x00\\x00\\x00hMG@\\x8f@\\x00\\x00\\x00\\x00\\x00ubh\\x1d)\\x81\\x94}\\x94(h\\x05\\x8c\\x02v7\\x94h\\x07h!h\\x08}\\x94h\\n}\\x94h$h!h%h!h&\\x8f\\x94h(}\\x94(h\\x88J\\xff\\xff\\xff\\xffh,)\\x81\\x94}\\x94(h\\x05\\x8c\\x01H\\x94h\\x07h!h\\x08}\\x94h\\n}\\x94h2Nh3\\x8f\\x94h5Nh6h7h8Nh9G\\x00\\x00\\x00\\x00\\x00\\x00\\x00\\x00ubK\\x01uh2NhLG\\xc0\\x8f@\\x00\\x00\\x00\\x00\\x00hMG@\\x8f@\\x00\\x00\\x00\\x00\\x00ubh\\x1d)\\x81\\x94}\\x94(h\\x05\\x8c\\x02v8\\x94h\\x07h!h\\x08}\\x94h\\n}\\x94h$h!h%h!h&\\x8f\\x94h(}\\x94(h\\x95J\\xff\\xff\\xff\\xffh,)\\x81\\x94}\\x94(h\\x05\\x8c\\x01I\\x94h\\x07h!h\\x08}\\x94h\\n}\\x94h2Nh3\\x8f\\x94h5Nh6h7h8Nh9G\\x00\\x00\\x00\\x00\\x00\\x00\\x00\\x00ubK\\x01h@K\\x01hFJ\\xff\\xff\\xff\\xffuh2NhLG\\xc0\\x8f@\\x00\\x00\\x00\\x00\\x00hMG@\\x8f@\\x00\\x00\\x00\\x00\\x00ubh\\x1d)\\x81\\x94}\\x94(h\\x05\\x8c\\x02v9\\x94h\\x07h!h\\x08}\\x94h\\n}\\x94h$h!h%h!h&\\x8f\\x94h(}\\x94(h\\xa2K\\x01h\\xafJ\\xff\\xff\\xff\\xffh[K\\x01haJ\\xff\\xff\\xff\\xffuh2NhLG\\xc0\\x8f@\\x00\\x00\\x00\\x00\\x00hMG@\\x8f@\\x00\\x00\\x00\\x00\\x00ubh\\x1d)\\x81\\x94}\\x94(h\\x05\\x8c\\x03v10\\x94h\\x07h!h\\x08}\\x94h\\n}\\x94h$h!h%h!h&\\x8f\\x94h(}\\x94(h\\x95J\\xff\\xff\\xff\\xffh,)\\x81\\x94}\\x94(h\\x05\\x8c\\x01J\\x94h\\x07h!h\\x08}\\x94h\\n}\\x94h2Nh3\\x8f\\x94h5Nh6h7h8Nh9G\\x00\\x00\\x00\\x00\\x00\\x00\\x00\\x00ubK\\x01uh2NhLG\\x00\\x00\\x00\\x00\\x00\\x00\\x00\\x00hMG@\\x8f@\\x00\\x00\\x00\\x00\\x00ubh\\x1d)\\x81\\x94}\\x94(h\\x05\\x8c\\x02vA\\x94h\\x07h!h\\x08}\\x94h\\n}\\x94h$h!h%h!h&\\x8f\\x94h(}\\x94h-K\\x01sh2NhLG\\x00\\x00\\x00\\x00\\x00\\x00\\x00\\x00hMG@\\x8f@\\x00\\x00\\x00\\x00\\x00ubh\\x1d)\\x81\\x94}\\x94(h\\x05\\x8c\\x02vE\\x94h\\x07h!h\\x08}\\x94h\\n}\\x94h$h!h%h!h&\\x8f\\x94h(}\\x94h{J\\xff\\xff\\xff\\xffsh2NhLG\\x00\\x00\\x00\\x00\\x00\\x00\\x00\\x00hMG@\\x8f@\\x00\\x00\\x00\\x00\\x00ubh\\x1d)\\x81\\x94}\\x94(h\\x05\\x8c\\x02vH\\x94h\\x07h!h\\x08}\\x94h\\n}\\x94h$h!h%h!h&\\x8f\\x94h(}\\x94h\\xa2J\\xff\\xff\\xff\\xffsh2NhLG\\xc0\\x8f@\\x00\\x00\\x00\\x00\\x00hMG@\\x8f@\\x00\\x00\\x00\\x00\\x00ubh\\x1d)\\x81\\x94}\\x94(h\\x05\\x8c\\x02vJ\\x94h\\x07h!h\\x08}\\x94h\\n}\\x94h$h!h%h!h&\\x8f\\x94h(}\\x94h\\xc3J\\xff\\xff\\xff\\xffsh2NhLG\\xc0\\x8f@\\x00\\x00\\x00\\x00\\x00hMG@\\x8f@\\x00\\x00\\x00\\x00\\x00ubh\\x1d)\\x81\\x94}\\x94(h\\x05\\x8c\\x04vatp\\x94h\\x07h!h\\x08}\\x94h\\n}\\x94h$h!h%h!h&\\x8f\\x94h(}\\x94hFK\\x01sh2NhLG\\xc0\\x8f@\\x00\\x00\\x00\\x00\\x00hMG@\\x8f@\\x00\\x00\\x00\\x00\\x00ubh\\x1d)\\x81\\x94}\\x94(h\\x05\\x8c\\x04vadp\\x94h\\x07h!h\\x08}\\x94h\\n}\\x94h$h!h%h!h&\\x8f\\x94h(}\\x94h@K\\x01sh2NhLG\\xc0\\x8f@\\x00\\x00\\x00\\x00\\x00hMG@\\x8f@\\x00\\x00\\x00\\x00\\x00ubh\\x1d)\\x81\\x94}\\x94(h\\x05\\x8c\\x05vnadh\\x94h\\x07h!h\\x08}\\x94h\\n}\\x94h$h!h%h!h&\\x8f\\x94h(}\\x94haK\\x01sh2NhLG\\xc0\\x8f@\\x00\\x00\\x00\\x00\\x00hMG@\\x8f@\\x00\\x00\\x00\\x00\\x00ubh\\x1d)\\x81\\x94}\\x94(h\\x05\\x8c\\x04vnad\\x94h\\x07h!h\\x08}\\x94h\\n}\\x94h$h!h%h!h&\\x8f\\x94h(}\\x94h[K\\x01sh2NhLG\\xc0\\x8f@\\x00\\x00\\x00\\x00\\x00hMG@\\x8f@\\x00\\x00\\x00\\x00\\x00ube}\\x94h\\x17}\\x94(h K\\x00hPK\\x01hiK\\x02hvK\\x03h\\x83K\\x04h\\x90K\\x05h\\x9dK\\x06h\\xaaK\\x07h\\xb7K\\x08h\\xbeK\\th\\xcbK\\nh\\xd2K\\x0bh\\xd9K\\x0ch\\xe0K\\rh\\xe7K\\x0eh\\xeeK\\x0fh\\xf5K\\x10h\\xfcK\\x11usb\\x8c\\x0bmetabolites\\x94h\\x14)R\\x94(h-hFh:h@h[hUhahnh{h\\x88h\\x95h\\xa2h\\xafh\\xc3e}\\x94h\\x17}\\x94(h/K\\x00hHK\\x01h<K\\x02hBK\\x03h]K\\x04hWK\\x05hcK\\x06hpK\\x07h}K\\x08h\\x8aK\\th\\x97K\\nh\\xa4K\\x0bh\\xb1K\\x0ch\\xc5K\\rusb\\x8c\\x06groups\\x94h\\x14)R\\x94}\\x94h\\x17}\\x94sb\\x8c\\r_compartments\\x94}\\x94h7h!s\\x8c\\t_contexts\\x94]\\x94\\x8c\\x07_solver\\x94\\x8c\\x18optlang.gurobi_interface\\x94h\\x01\\x93\\x94)\\x81\\x94}\\x94(\\x8c\\x02lp\\x94X\\x07\\x11\\x00\\x00\\\\ LP format - for model browsing. Use MPS format to capture full model detail.\\nMaximize\\n \\nSubject To\\n A: - v1 + v1_reverse_6654c + vA - vA_reverse_0aa0d = 0\\n atp: - v1 + v1_reverse_6654c + v3 - v3_reverse_43a03 - v8\\n   + v8_reverse_d387a + vatp - vatp_reverse_90131 = 0\\n B: v1 - v1_reverse_6654c - v2 + v2_reverse_1b267 = 0\\n adp: v1 - v1_reverse_6654c - v3 + v3_reverse_43a03 + v8 - v8_reverse_d387a\\n   + vadp - vadp_reverse_7aa76 = 0\\n nad: - v2 + v2_reverse_1b267 + v4 - v4_reverse_5ed3a - v5\\n   + v5_reverse_4b6df + v6 - v6_reverse_0af45 + v9 - v9_reverse_c1f7e\\n   + vnad - vnad_reverse_ffdad = 0\\n C: - v3 + v3_reverse_43a03 + v2 - v2_reverse_1b267 = 0\\n nadh: v2 - v2_reverse_1b267 - v4 + v4_reverse_5ed3a + v5\\n   - v5_reverse_4b6df - v6 + v6_reverse_0af45 - v9 + v9_reverse_c1f7e\\n   + vnadh - vnadh_reverse_48428 = 0\\n D: v3 - v3_reverse_43a03 - v4 + v4_reverse_5ed3a - v5 + v5_reverse_4b6df\\n   = 0\\n E: v4 - v4_reverse_5ed3a - vE + vE_reverse_f6113 = 0\\n F: v5 - v5_reverse_4b6df - v6 + v6_reverse_0af45 - v7 + v7_reverse_e6dd7\\n   = 0\\n G: - v8 + v8_reverse_d387a + v6 - v6_reverse_0af45 - v10\\n   + v10_reverse_18c4d = 0\\n H: v9 - v9_reverse_c1f7e + v7 - v7_reverse_e6dd7 - vH + vH_reverse_933b6\\n   = 0\\n I: v8 - v8_reverse_d387a - v9 + v9_reverse_c1f7e = 0\\n J: v10 - v10_reverse_18c4d - vJ + vJ_reverse_d3658 = 0\\n y_v1_upper: v1 - v1_reverse_6654c >= 0\\n y_v1_lower: v1 - v1_reverse_6654c - 10000 indicator_v1 <= 0\\n y_v2_upper: v2 - v2_reverse_1b267 >= 0\\n y_v2_lower: v2 - v2_reverse_1b267 - 10000 indicator_v2 <= 0\\n y_v3_upper: v3 - v3_reverse_43a03 >= 0\\n y_v3_lower: v3 - v3_reverse_43a03 - 10000 indicator_v3 <= 0\\n y_v4_upper: v4 - v4_reverse_5ed3a >= 0\\n y_v4_lower: v4 - v4_reverse_5ed3a - 10000 indicator_v4 <= 0\\n y_v5_upper: v5 - v5_reverse_4b6df >= 0\\n y_v5_lower: v5 - v5_reverse_4b6df - 10000 indicator_v5 <= 0\\n y_v6_upper: v6 - v6_reverse_0af45 + 10000 indicator_v6 >= 0\\n y_v6_lower: v6 - v6_reverse_0af45 - 10000 indicator_v6 <= 0\\n y_v7_upper: v7 - v7_reverse_e6dd7 + 10000 indicator_v7 >= 0\\n y_v7_lower: v7 - v7_reverse_e6dd7 - 10000 indicator_v7 <= 0\\n y_v8_upper: v8 - v8_reverse_d387a + 10000 indicator_v8 >= 0\\n y_v8_lower: v8 - v8_reverse_d387a - 10000 indicator_v8 <= 0\\n y_v9_upper: v9 - v9_reverse_c1f7e + 10000 indicator_v9 >= 0\\n y_v9_lower: v9 - v9_reverse_c1f7e - 10000 indicator_v9 <= 0\\n y_v10_upper: v10 - v10_reverse_18c4d >= 0\\n y_v10_lower: v10 - v10_reverse_18c4d - 10000 indicator_v10 <= 0\\n y_vA_upper: vA - vA_reverse_0aa0d >= 0\\n y_vA_lower: vA - vA_reverse_0aa0d - 10000 indicator_vA <= 0\\n y_vE_upper: vE - vE_reverse_f6113 >= 0\\n y_vE_lower: vE - vE_reverse_f6113 - 10000 indicator_vE <= 0\\n y_vH_upper: vH - vH_reverse_933b6 + 10000 indicator_vH >= 0\\n y_vH_lower: vH - vH_reverse_933b6 - 10000 indicator_vH <= 0\\n y_vJ_upper: vJ - vJ_reverse_d3658 + 10000 indicator_vJ >= 0\\n y_vJ_lower: vJ - vJ_reverse_d3658 - 10000 indicator_vJ <= 0\\n y_vatp_upper: vatp - vatp_reverse_90131 + 10000 indicator_vatp >= 0\\n y_vatp_lower: vatp - vatp_reverse_90131 - 10000 indicator_vatp <= 0\\n y_vadp_upper: vadp - vadp_reverse_7aa76 + 10000 indicator_vadp >= 0\\n y_vadp_lower: vadp - vadp_reverse_7aa76 - 10000 indicator_vadp <= 0\\n y_vnadh_upper: vnadh - vnadh_reverse_48428 + 10000 indicator_vnadh >= 0\\n y_vnadh_lower: vnadh - vnadh_reverse_48428 - 10000 indicator_vnadh <= 0\\n y_vnad_upper: vnad - vnad_reverse_ffdad + 10000 indicator_vnad >= 0\\n y_vnad_lower: vnad - vnad_reverse_ffdad - 10000 indicator_vnad <= 0\\nBounds\\n v1 <= 1000\\n v1_reverse_6654c = 0\\n vA <= 1000\\n vA_reverse_0aa0d = 0\\n v3 <= 1000\\n v3_reverse_43a03 = 0\\n v8 <= 1000\\n v8_reverse_d387a <= 1000\\n vatp <= 1000\\n vatp_reverse_90131 <= 1000\\n v2 <= 1000\\n v2_reverse_1b267 = 0\\n vadp <= 1000\\n vadp_reverse_7aa76 <= 1000\\n v4 <= 1000\\n v4_reverse_5ed3a = 0\\n v5 <= 1000\\n v5_reverse_4b6df = 0\\n v6 <= 1000\\n v6_reverse_0af45 <= 1000\\n v9 <= 1000\\n v9_reverse_c1f7e <= 1000\\n vnad <= 1000\\n vnad_reverse_ffdad <= 1000\\n vnadh <= 1000\\n vnadh_reverse_48428 <= 1000\\n vE <= 1000\\n vE_reverse_f6113 = 0\\n v7 <= 1000\\n v7_reverse_e6dd7 <= 1000\\n v10 <= 1000\\n v10_reverse_18c4d = 0\\n vH <= 1000\\n vH_reverse_933b6 <= 1000\\n vJ <= 1000\\n vJ_reverse_d3658 <= 1000\\nBinaries\\n indicator_v1 indicator_v2 indicator_v3 indicator_v4 indicator_v5\\n indicator_v6 indicator_v7 indicator_v8 indicator_v9 indicator_v10\\n indicator_vA indicator_vE indicator_vH indicator_vJ indicator_vatp\\n indicator_vadp indicator_vnadh indicator_vnad\\nEnd\\n\\x94\\x8c\\x06status\\x94N\\x8c\\x06config\\x94}\\x94(\\x8c\\x08presolve\\x94\\x89\\x8c\\x07timeout\\x94N\\x8c\\tverbosity\\x94K\\x00\\x8c\\tlp_method\\x94\\x8c\\x06primal\\x94\\x8c\\tqp_method\\x94j\\x1d\\x01\\x00\\x00\\x8c\\ntolerances\\x94}\\x94(\\x8c\\x0bfeasibility\\x94G>z\\xd7\\xf2\\x9a\\xbc\\xafH\\x8c\\noptimality\\x94G>z\\xd7\\xf2\\x9a\\xbc\\xafH\\x8c\\x0bintegrality\\x94G>z\\xd7\\xf2\\x9a\\xbc\\xafHuuub\\x8c\\n_tolerance\\x94G>z\\xd7\\xf2\\x9a\\xbc\\xafHub.', array([[ 0.26392653,  0.07517633,  0.19683825,  0.26976893],\n",
      "       [ 0.26392653,  0.07517633,  0.19683825,  0.26976893],\n",
      "       [ 0.26392653,  0.07517633,  0.19683825,  0.26976893],\n",
      "       [ 0.00338473, -0.24252505,  0.3005188 ,  0.31332996],\n",
      "       [ 0.2605418 ,  0.31770138, -0.10368055, -0.04356103],\n",
      "       [ 0.19203426,  0.40109897,  0.20455662, -0.24276663],\n",
      "       [ 0.06850754, -0.08339759, -0.30823717,  0.1992056 ],\n",
      "       [ 0.32478338, -0.04848525, -0.01125436, -0.19838183],\n",
      "       [ 0.32478338, -0.04848525, -0.01125436, -0.19838183],\n",
      "       [-0.13274912,  0.44958421,  0.21581098, -0.0443848 ],\n",
      "       [ 0.26392653,  0.07517633,  0.19683825,  0.26976893],\n",
      "       [ 0.00338473, -0.24252505,  0.3005188 ,  0.31332996],\n",
      "       [ 0.39329092, -0.13188283, -0.31949153,  0.00082377],\n",
      "       [-0.13274912,  0.44958421,  0.21581098, -0.0443848 ],\n",
      "       [ 0.32478338, -0.04848525, -0.01125436, -0.19838183],\n",
      "       [-0.32478338,  0.04848525,  0.01125436,  0.19838183],\n",
      "       [-0.00426596, -0.28278904,  0.40066336, -0.3540264 ],\n",
      "       [ 0.00426596,  0.28278904, -0.40066336,  0.3540264 ]]), 3, matrix([[ 0.26392653,  0.07517633,  0.19683825,  0.26976893],\n",
      "        [ 0.26392653,  0.07517633,  0.19683825,  0.26976893],\n",
      "        [ 0.26392653,  0.07517633,  0.19683825,  0.26976893],\n",
      "        [ 0.00338473, -0.24252505,  0.3005188 ,  0.31332996],\n",
      "        [ 0.2605418 ,  0.31770138, -0.10368055, -0.04356103],\n",
      "        [ 0.19203426,  0.40109897,  0.20455662, -0.24276663],\n",
      "        [ 0.06850754, -0.08339759, -0.30823717,  0.1992056 ],\n",
      "        [ 0.32478338, -0.04848525, -0.01125436, -0.19838183],\n",
      "        [ 0.32478338, -0.04848525, -0.01125436, -0.19838183],\n",
      "        [-0.13274912,  0.44958421,  0.21581098, -0.0443848 ],\n",
      "        [ 0.26392653,  0.07517633,  0.19683825,  0.26976893],\n",
      "        [ 0.00338473, -0.24252505,  0.3005188 ,  0.31332996],\n",
      "        [ 0.39329092, -0.13188283, -0.31949153,  0.00082377],\n",
      "        [-0.13274912,  0.44958421,  0.21581098, -0.0443848 ],\n",
      "        [ 0.32478338, -0.04848525, -0.01125436, -0.19838183],\n",
      "        [-0.32478338,  0.04848525,  0.01125436,  0.19838183],\n",
      "        [-0.00426596, -0.28278904,  0.40066336, -0.3540264 ],\n",
      "        [ 0.00426596,  0.28278904, -0.40066336,  0.3540264 ]]), 'gurobi', 3, 2, False)\n",
      "Read LP format model from file C:\\Users\\sicil\\AppData\\Local\\Temp\\tmp1hwc82a3.lp\n",
      "Reading time = 0.01 seconds\n",
      ": 50 rows, 54 columns, 188 nonzeros\n"
     ]
    },
    {
     "ename": "AttributeError",
     "evalue": "module 'cobra.util.solver' has no attribute 'set_parameter'",
     "output_type": "error",
     "traceback": [
      "\u001b[1;31m---------------------------------------------------------------------------\u001b[0m",
      "\u001b[1;31mAttributeError\u001b[0m                            Traceback (most recent call last)",
      "\u001b[1;32m~\\AppData\\Local\\Temp/ipykernel_3776/78529032.py\u001b[0m in \u001b[0;36m<module>\u001b[1;34m\u001b[0m\n\u001b[1;32m----> 1\u001b[1;33m \u001b[0msolved_fluxes\u001b[0m \u001b[1;33m=\u001b[0m \u001b[0mminspan\u001b[0m\u001b[1;33m(\u001b[0m\u001b[0mmodel\u001b[0m\u001b[1;33m,\u001b[0m \u001b[0mcores\u001b[0m\u001b[1;33m=\u001b[0m\u001b[1;36m3\u001b[0m\u001b[1;33m,\u001b[0m \u001b[0mverbose\u001b[0m\u001b[1;33m=\u001b[0m\u001b[1;32mFalse\u001b[0m\u001b[1;33m,\u001b[0m \u001b[0mtimelimit\u001b[0m\u001b[1;33m=\u001b[0m\u001b[1;36m60\u001b[0m\u001b[1;33m,\u001b[0m\u001b[0msolver_name\u001b[0m\u001b[1;33m=\u001b[0m\u001b[1;34m\"gurobi\"\u001b[0m\u001b[1;33m)\u001b[0m\u001b[1;33m\u001b[0m\u001b[1;33m\u001b[0m\u001b[0m\n\u001b[0m\u001b[0;32m      2\u001b[0m \u001b[0mprint\u001b[0m\u001b[1;33m(\u001b[0m\u001b[0msolved_fluxes\u001b[0m\u001b[1;33m)\u001b[0m\u001b[1;33m\u001b[0m\u001b[1;33m\u001b[0m\u001b[0m\n\u001b[0;32m      3\u001b[0m \u001b[0mdf\u001b[0m \u001b[1;33m=\u001b[0m \u001b[0mpd\u001b[0m\u001b[1;33m.\u001b[0m\u001b[0mDataFrame\u001b[0m\u001b[1;33m(\u001b[0m\u001b[0msolved_fluxes\u001b[0m\u001b[1;33m.\u001b[0m\u001b[0mcopy\u001b[0m\u001b[1;33m(\u001b[0m\u001b[1;33m)\u001b[0m\u001b[1;33m,\u001b[0m \u001b[0mindex\u001b[0m\u001b[1;33m=\u001b[0m\u001b[1;33m[\u001b[0m\u001b[0mi\u001b[0m\u001b[1;33m.\u001b[0m\u001b[0mid\u001b[0m \u001b[1;32mfor\u001b[0m \u001b[0mi\u001b[0m \u001b[1;32min\u001b[0m \u001b[0mmodel\u001b[0m\u001b[1;33m.\u001b[0m\u001b[0mreactions\u001b[0m\u001b[1;33m]\u001b[0m\u001b[1;33m)\u001b[0m\u001b[1;33m\u001b[0m\u001b[1;33m\u001b[0m\u001b[0m\n\u001b[0;32m      4\u001b[0m \u001b[0mdf\u001b[0m \u001b[1;33m=\u001b[0m \u001b[0mdf\u001b[0m\u001b[1;33m/\u001b[0m\u001b[0mdf\u001b[0m\u001b[1;33m.\u001b[0m\u001b[0mabs\u001b[0m\u001b[1;33m(\u001b[0m\u001b[1;33m)\u001b[0m\u001b[1;33m.\u001b[0m\u001b[0mmax\u001b[0m\u001b[1;33m(\u001b[0m\u001b[1;33m)\u001b[0m\u001b[1;33m\u001b[0m\u001b[1;33m\u001b[0m\u001b[0m\n\u001b[0;32m      5\u001b[0m \u001b[0mdf\u001b[0m\u001b[1;33m.\u001b[0m\u001b[0mto_csv\u001b[0m\u001b[1;33m(\u001b[0m\u001b[0mdir\u001b[0m \u001b[1;33m%\u001b[0m \u001b[0mmodel_name\u001b[0m\u001b[1;33m)\u001b[0m\u001b[1;33m\u001b[0m\u001b[1;33m\u001b[0m\u001b[0m\n",
      "\u001b[1;32mc:\\Users\\sicil\\Documents\\env\\minspan.py\u001b[0m in \u001b[0;36mminspan\u001b[1;34m(model, starting_fluxes, coverage, cores, processes, mapper, timelimit, verbose, solver_name, first_round_cores, first_round_timelimit)\u001b[0m\n\u001b[0;32m    490\u001b[0m             \u001b[1;31m# function because the multiprocessing map function only takes a\u001b[0m\u001b[1;33m\u001b[0m\u001b[1;33m\u001b[0m\u001b[1;33m\u001b[0m\u001b[0m\n\u001b[0;32m    491\u001b[0m             \u001b[1;31m# single iterable.\u001b[0m\u001b[1;33m\u001b[0m\u001b[1;33m\u001b[0m\u001b[1;33m\u001b[0m\u001b[0m\n\u001b[1;32m--> 492\u001b[1;33m             flux_vectors = list(mapper(calculate_minspan_column_helper,\n\u001b[0m\u001b[0;32m    493\u001b[0m                 zip(repeat(model_pickle), repeat(fluxes), column_indices,\n\u001b[0;32m    494\u001b[0m                     \u001b[0mrepeat\u001b[0m\u001b[1;33m(\u001b[0m\u001b[0mN\u001b[0m\u001b[1;33m)\u001b[0m\u001b[1;33m,\u001b[0m \u001b[0mrepeat\u001b[0m\u001b[1;33m(\u001b[0m\u001b[0msolver_name\u001b[0m\u001b[1;33m)\u001b[0m\u001b[1;33m,\u001b[0m \u001b[0mrepeat\u001b[0m\u001b[1;33m(\u001b[0m\u001b[0muse_cores\u001b[0m\u001b[1;33m)\u001b[0m\u001b[1;33m,\u001b[0m \u001b[0mrepeat\u001b[0m\u001b[1;33m(\u001b[0m\u001b[0muse_timelimit\u001b[0m\u001b[1;33m)\u001b[0m\u001b[1;33m,\u001b[0m\u001b[1;33m\u001b[0m\u001b[1;33m\u001b[0m\u001b[0m\n",
      "\u001b[1;32mc:\\Users\\sicil\\Documents\\env\\minspan.py\u001b[0m in \u001b[0;36mcalculate_minspan_column_helper\u001b[1;34m(args)\u001b[0m\n\u001b[0;32m    198\u001b[0m \u001b[1;32mdef\u001b[0m \u001b[0mcalculate_minspan_column_helper\u001b[0m\u001b[1;33m(\u001b[0m\u001b[0margs\u001b[0m\u001b[1;33m)\u001b[0m\u001b[1;33m:\u001b[0m\u001b[1;33m\u001b[0m\u001b[1;33m\u001b[0m\u001b[0m\n\u001b[0;32m    199\u001b[0m     \u001b[0mprint\u001b[0m\u001b[1;33m(\u001b[0m\u001b[0margs\u001b[0m\u001b[1;33m)\u001b[0m\u001b[1;33m\u001b[0m\u001b[1;33m\u001b[0m\u001b[0m\n\u001b[1;32m--> 200\u001b[1;33m     \u001b[1;32mreturn\u001b[0m \u001b[0mcalculate_minspan_column\u001b[0m\u001b[1;33m(\u001b[0m\u001b[1;33m*\u001b[0m\u001b[0margs\u001b[0m\u001b[1;33m)\u001b[0m\u001b[1;33m\u001b[0m\u001b[1;33m\u001b[0m\u001b[0m\n\u001b[0m\u001b[0;32m    201\u001b[0m \u001b[1;33m\u001b[0m\u001b[0m\n\u001b[0;32m    202\u001b[0m \u001b[1;33m\u001b[0m\u001b[0m\n",
      "\u001b[1;32mc:\\Users\\sicil\\Documents\\env\\minspan.py\u001b[0m in \u001b[0;36mcalculate_minspan_column\u001b[1;34m(model_pickle, original_fluxes, column_index, N, solver_name, cores, timelimit, verbose)\u001b[0m\n\u001b[0;32m    277\u001b[0m             \u001b[1;32melif\u001b[0m \u001b[0mi\u001b[0m \u001b[1;33m<\u001b[0m \u001b[1;36m2\u001b[0m \u001b[1;33m*\u001b[0m \u001b[0mn\u001b[0m\u001b[1;33m:\u001b[0m\u001b[1;33m\u001b[0m\u001b[1;33m\u001b[0m\u001b[0m\n\u001b[0;32m    278\u001b[0m                 \u001b[0mvariable\u001b[0m\u001b[1;33m.\u001b[0m\u001b[0mStart\u001b[0m \u001b[1;33m=\u001b[0m \u001b[0mfloat\u001b[0m\u001b[1;33m(\u001b[0m\u001b[0mbinOldPath\u001b[0m\u001b[1;33m[\u001b[0m\u001b[0mi\u001b[0m \u001b[1;33m-\u001b[0m \u001b[0mn\u001b[0m\u001b[1;33m]\u001b[0m\u001b[1;33m)\u001b[0m\u001b[1;33m\u001b[0m\u001b[1;33m\u001b[0m\u001b[0m\n\u001b[1;32m--> 279\u001b[1;33m         \u001b[0msolver\u001b[0m\u001b[1;33m.\u001b[0m\u001b[0mset_parameter\u001b[0m\u001b[1;33m(\u001b[0m\u001b[0mlp\u001b[0m\u001b[1;33m,\u001b[0m \u001b[1;34m\"Method\"\u001b[0m\u001b[1;33m,\u001b[0m \u001b[1;36m2\u001b[0m\u001b[1;33m)\u001b[0m\u001b[1;33m\u001b[0m\u001b[1;33m\u001b[0m\u001b[0m\n\u001b[0m\u001b[0;32m    280\u001b[0m         \u001b[0msolver\u001b[0m\u001b[1;33m.\u001b[0m\u001b[0mset_parameter\u001b[0m\u001b[1;33m(\u001b[0m\u001b[0mlp\u001b[0m\u001b[1;33m,\u001b[0m \u001b[1;34m\"Presolve\"\u001b[0m\u001b[1;33m,\u001b[0m \u001b[1;36m2\u001b[0m\u001b[1;33m)\u001b[0m\u001b[1;33m\u001b[0m\u001b[1;33m\u001b[0m\u001b[0m\n\u001b[0;32m    281\u001b[0m     \u001b[1;32melif\u001b[0m \u001b[0msolver_name\u001b[0m\u001b[1;33m.\u001b[0m\u001b[0mstartswith\u001b[0m\u001b[1;33m(\u001b[0m\u001b[1;34m\"cplex\"\u001b[0m\u001b[1;33m)\u001b[0m\u001b[1;33m:\u001b[0m\u001b[1;33m\u001b[0m\u001b[1;33m\u001b[0m\u001b[0m\n",
      "\u001b[1;31mAttributeError\u001b[0m: module 'cobra.util.solver' has no attribute 'set_parameter'"
     ]
    }
   ],
   "source": [
    "solved_fluxes = minspan(model, cores=3, verbose=False, timelimit=60,solver_name=\"gurobi\")\n",
    "print(solved_fluxes)\n",
    "df = pd.DataFrame(solved_fluxes.copy(), index=[i.id for i in model.reactions])\n",
    "df = df/df.abs().max()\n",
    "df.to_csv(dir % model_name)\n",
    "df"
   ]
  },
  {
   "cell_type": "code",
   "execution_count": null,
   "metadata": {},
   "outputs": [],
   "source": [
    "# df"
   ]
  },
  {
   "cell_type": "code",
   "execution_count": null,
   "metadata": {},
   "outputs": [],
   "source": []
  }
 ],
 "metadata": {
  "interpreter": {
   "hash": "47617ef91c57040f324d0d309b22e5ef5668d4be6a46473e64f0486748e04983"
  },
  "kernelspec": {
   "display_name": "Python 3.8.12 64-bit ('massliver': conda)",
   "language": "python",
   "name": "python3"
  },
  "language_info": {
   "codemirror_mode": {
    "name": "ipython",
    "version": 3
   },
   "file_extension": ".py",
   "mimetype": "text/x-python",
   "name": "python",
   "nbconvert_exporter": "python",
   "pygments_lexer": "ipython3",
   "version": "3.8.12"
  },
  "orig_nbformat": 4
 },
 "nbformat": 4,
 "nbformat_minor": 2
}
