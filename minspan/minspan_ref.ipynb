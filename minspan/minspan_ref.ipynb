{
 "cells": [
  {
   "cell_type": "code",
   "execution_count": 3,
   "metadata": {},
   "outputs": [],
   "source": [
    "from cobra.io import load_matlab_model, load_json_model\n",
    "from cobra.util import array\n",
    "from escher import Builder\n",
    "import pandas as pd\n",
    "import cobra\n",
    "# import seaborn as sns\n",
    "from glob import glob\n",
    "#from cobra import array\n",
    "import numpy as np\n",
    "from minspan import minspan, nnz"
   ]
  },
  {
   "cell_type": "code",
   "execution_count": 4,
   "metadata": {},
   "outputs": [
    {
     "name": "stdout",
     "output_type": "stream",
     "text": [
      "C:/Users/sicil/LiverModel/minspan/models\\trial_json_model\n"
     ]
    }
   ],
   "source": [
    "for model_file in glob('C:/Users/sicil/LiverModel/minspan/models/*'):\n",
    "    print(model_file)"
   ]
  },
  {
   "cell_type": "code",
   "execution_count": 6,
   "metadata": {
    "scrolled": true
   },
   "outputs": [
    {
     "name": "stdout",
     "output_type": "stream",
     "text": [
      "models\\trial_json_model\n",
      "[]\n",
      "Read LP format model from file C:\\Users\\sicil\\AppData\\Local\\Temp\\tmpxla8y5s8.lp\n",
      "Reading time = 0.00 seconds\n",
      ": 14 rows, 36 columns, 88 nonzeros\n",
      "starting minspan on model Minspan_trial1 with 4 dimensions\n",
      "starting round 0 at nnz=72\n",
      "Read LP format model from file C:\\Users\\sicil\\AppData\\Local\\Temp\\tmpf9tzvj_u.lp\n",
      "Reading time = 0.00 seconds\n",
      ": 50 rows, 54 columns, 188 nonzeros\n",
      "improved: round 0, column    1 nnz=60\n",
      "Read LP format model from file C:\\Users\\sicil\\AppData\\Local\\Temp\\tmp45e0m1ea.lp\n",
      "Reading time = 0.00 seconds\n",
      ": 50 rows, 54 columns, 188 nonzeros\n",
      "improved: round 0, column    2 nnz=49\n",
      "Read LP format model from file C:\\Users\\sicil\\AppData\\Local\\Temp\\tmpt_136694.lp\n",
      "Reading time = 0.00 seconds\n",
      ": 50 rows, 54 columns, 188 nonzeros\n",
      "improved: round 0, column    3 nnz=39\n",
      "Read LP format model from file C:\\Users\\sicil\\AppData\\Local\\Temp\\tmpy3pztr_o.lp\n",
      "Reading time = 0.00 seconds\n",
      ": 50 rows, 54 columns, 188 nonzeros\n",
      "improved: round 0, column    0 nnz=30\n",
      "starting round 1 at nnz=30\n",
      "Read LP format model from file C:\\Users\\sicil\\AppData\\Local\\Temp\\tmp6i_wn5av.lp\n",
      "Reading time = 0.00 seconds\n",
      ": 50 rows, 54 columns, 188 nonzeros\n",
      "Read LP format model from file C:\\Users\\sicil\\AppData\\Local\\Temp\\tmp8r6yl7xr.lp\n",
      "Reading time = 0.00 seconds\n",
      ": 50 rows, 54 columns, 188 nonzeros\n",
      "Read LP format model from file C:\\Users\\sicil\\AppData\\Local\\Temp\\tmp1mt_gp3b.lp\n",
      "Reading time = 0.00 seconds\n",
      ": 50 rows, 54 columns, 188 nonzeros\n",
      "Read LP format model from file C:\\Users\\sicil\\AppData\\Local\\Temp\\tmp912i3rbu.lp\n",
      "Reading time = 0.01 seconds\n",
      ": 50 rows, 54 columns, 188 nonzeros\n"
     ]
    }
   ],
   "source": [
    "for model_file in glob('C:/Users/sicil/LiverModel/minspan/models/*'):\n",
    "    model_name = model_file.split('/')[-1]\n",
    "    if 'model' not in model_name:\n",
    "        continue\n",
    "    print(model_name)\n",
    "    model= load_json_model(model_file)\n",
    "    if 'NADPHM' in model.reactions:\n",
    "        model.remove_reactions(['NADPHM'])\n",
    "    media = ['EX_lac__L_c', 'EX_pyr_c', 'EX_octa_c', 'EX_gln__L_c', 'EX_acetone_c', 'EX_bhb_c',\n",
    "             'EX_glu__L_c', 'EX_ser__L_c', 'EX_cys__L_c', 'EX_gly_c', 'EX_ala__L_c', 'EX_so3_c',\n",
    "            'EX_etoh_c', 'EX_fru_c']\n",
    "    media = ['EX_glc__D_c']\n",
    "    for met in media:\n",
    "        if met in model.reactions:\n",
    "            model.reactions.get_by_id(met).lower_bound = -1000.\n",
    "\n",
    "    rxns = [i.id for i in model.reactions]\n",
    "    blocked = cobra.flux_analysis.find_blocked_reactions(model)\n",
    "    print(blocked)\n",
    "    model.remove_reactions(blocked)\n",
    "\n",
    "    solved_fluxes = minspan(model, cores=3, verbose=True, timelimit=60)\n",
    "    \n",
    "    df = pd.DataFrame(solved_fluxes.copy(), index=[i.id for i in model.reactions])\n",
    "    df = df/df.abs().max()\n",
    "    df.to_csv('C:/Users/sicil/LiverModel/minspan/final_minspans/minspans_trial.csv')"
   ]
  },
  {
   "cell_type": "code",
   "execution_count": null,
   "metadata": {},
   "outputs": [],
   "source": []
  }
 ],
 "metadata": {
  "interpreter": {
   "hash": "47617ef91c57040f324d0d309b22e5ef5668d4be6a46473e64f0486748e04983"
  },
  "kernelspec": {
   "display_name": "fba4d2",
   "language": "python",
   "name": "python3"
  },
  "language_info": {
   "codemirror_mode": {
    "name": "ipython",
    "version": 3
   },
   "file_extension": ".py",
   "mimetype": "text/x-python",
   "name": "python",
   "nbconvert_exporter": "python",
   "pygments_lexer": "ipython3",
   "version": "3.8.12"
  }
 },
 "nbformat": 4,
 "nbformat_minor": 4
}
