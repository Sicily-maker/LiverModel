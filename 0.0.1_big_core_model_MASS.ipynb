{
 "cells": [
  {
   "cell_type": "markdown",
   "metadata": {},
   "source": [
    "# Liver Model Construction: Huge Core Model"
   ]
  },
  {
   "cell_type": "code",
   "execution_count": 1,
   "metadata": {},
   "outputs": [
    {
     "name": "stdout",
     "output_type": "stream",
     "text": [
      "MASSpy version: 0.1.6\n"
     ]
    }
   ],
   "source": [
    "import os\n",
    "import re\n",
    "import warnings\n",
    "from cobra.io import *\n",
    "from cobra.io.json import *\n",
    "import escher\n",
    "import mass\n",
    "import numpy as np\n",
    "import pandas as pd\n",
    "import equilibrator_api\n",
    "from equilibrator_api import ComponentContribution, Q_\n",
    "import sympy as sym\n",
    "from cobra import Model, Reaction, Metabolite\n",
    "import cobra.test\n",
    "from os.path import join\n",
    "from mass.util import qcqa, qcqa_model\n",
    "from cobra import DictList\n",
    "from mass import (\n",
    "    MassConfiguration, MassMetabolite, MassModel,\n",
    "    MassReaction, Simulation, UnitDefinition)\n",
    "from mass.io.json import save_json_model as save_json_mass_model\n",
    "from mass.visualization import plot_comparison, plot_time_profile, plot_ensemble_phase_portrait, plot_ensemble_time_profile\n",
    "mass_config = MassConfiguration()\n",
    "mass_config.irreversible_Keq = float(\"inf\")\n",
    "print(\"MASSpy version: {0}\".format(mass.__version__))\n",
    "from six import iteritems\n",
    "import matplotlib.pyplot as plt\n",
    "from mass.thermo import (\n",
    "    ConcSolver, sample_concentrations,\n",
    "    update_model_with_concentration_solution)\n",
    "# adding Folder_2 to the system path\n",
    "sys.path.insert(0, \"c:\\\\Users\\\\sicil\\\\LiverModel\")\n",
    "from cobra_dict import *\n",
    "import cobra_dict as c_d\n",
    "import csv\n",
    "import altair as alt\n",
    "from minspan.minspan import minspan,nnz\n",
    "import sys\n",
    "# from minspan import minspan,nnz"
   ]
  },
  {
   "cell_type": "code",
   "execution_count": 2,
   "metadata": {},
   "outputs": [
    {
     "data": {
      "text/plain": [
       "'0.1.6'"
      ]
     },
     "execution_count": 2,
     "metadata": {},
     "output_type": "execute_result"
    }
   ],
   "source": [
    "mass.__version__"
   ]
  },
  {
   "cell_type": "code",
   "execution_count": 3,
   "metadata": {},
   "outputs": [
    {
     "data": {
      "text/plain": [
       "'0.22.1'"
      ]
     },
     "execution_count": 3,
     "metadata": {},
     "output_type": "execute_result"
    }
   ],
   "source": [
    "cobra.__version__"
   ]
  },
  {
   "cell_type": "code",
   "execution_count": 4,
   "metadata": {},
   "outputs": [],
   "source": [
    "maps_dir = os.path.abspath(\"maps\")\n",
    "data_dir = os.path.abspath(\"data\")\n",
    "dir = os.path.abspath(\"\")\n",
    "model_dir = os.path.abspath(\"models\")\n",
    "minspan_dir= os.path.abspath(\"minspans_csv\")\n"
   ]
  },
  {
   "cell_type": "markdown",
   "metadata": {},
   "source": [
    "### Getting reactions and metabolite data from RECON 3D"
   ]
  },
  {
   "cell_type": "code",
   "execution_count": 5,
   "metadata": {},
   "outputs": [],
   "source": [
    "# making dataframe of metabolites\n",
    "\n",
    "csv_met = os.path.join(data_dir,\"big_core_met_df.csv\")\n",
    "met_csv_df = pd.read_csv(csv_met,index_col=\"id\")\n",
    "metabolite_info=met_csv_df.to_dict(orient='index')\n"
   ]
  },
  {
   "cell_type": "markdown",
   "metadata": {},
   "source": [
    "### Loading cobra model"
   ]
  },
  {
   "cell_type": "code",
   "execution_count": 6,
   "metadata": {},
   "outputs": [
    {
     "name": "stdout",
     "output_type": "stream",
     "text": [
      "Set parameter Username\n",
      "Academic license - for non-commercial use only - expires 2023-07-02\n"
     ]
    }
   ],
   "source": [
    "# Initiate empty model\n",
    "trial= cobra.Model()"
   ]
  },
  {
   "cell_type": "code",
   "execution_count": 7,
   "metadata": {},
   "outputs": [],
   "source": [
    "#  Add all the remaining metabolites involved in the pathway\n",
    "for met_id, info in metabolite_info.items():\n",
    "    met = cobra.Metabolite(met_id, name=info['name'], formula=info['formula'], \n",
    "                           charge=info['charge'], compartment=info['compartment'])\n",
    "    trial.add_metabolites(met)\n",
    "    "
   ]
  },
  {
   "cell_type": "code",
   "execution_count": 8,
   "metadata": {},
   "outputs": [],
   "source": [
    "# Loading reaction data as JSON file to maintain data types as dictionaries \n",
    "rxn_json = os.path.join(data_dir,\"big_core_reaction_df.json\")\n",
    "with open(rxn_json) as json_file:\n",
    "    rxn_data = json.load(json_file)"
   ]
  },
  {
   "cell_type": "code",
   "execution_count": 9,
   "metadata": {},
   "outputs": [],
   "source": [
    "for reaction, info in rxn_data.items():\n",
    "    reaction_obj = cobra.Reaction(reaction)\n",
    "    reaction_obj.id=reaction\n",
    "    reaction= reaction_obj.id\n",
    "    reaction_obj.lower_bound = info['lower_bound']\n",
    "    reaction_obj.upper_bound = info['upper_bound']\n",
    "    reaction_obj.name = info['name']\n",
    "    trial.add_reaction(reaction_obj)\n",
    "    temp=info['metabolites']\n",
    "    reaction_obj.add_metabolites(temp)\n",
    "    # print(reaction)"
   ]
  },
  {
   "cell_type": "code",
   "execution_count": 10,
   "metadata": {},
   "outputs": [
    {
     "name": "stdout",
     "output_type": "stream",
     "text": [
      "CSm {'charge': -1.0}\n",
      "ACONTm {}\n",
      "ICDHxm {}\n",
      "AKGDm {}\n",
      "SUCOASm {'charge': 2.0}\n",
      "SUCD1m {}\n",
      "FUMm {}\n",
      "MDHm {'charge': -1.0}\n",
      "NADH2_u10mi {'charge': 1.0}\n",
      "FADH2ETC {}\n",
      "CYOR_u10mi {'charge': -2.0}\n",
      "CYOOm2i {'charge': 4.0}\n",
      "ATPS4mi {'charge': -1.0}\n",
      "Htmi {}\n",
      "HEX1 {'charge': -1.0}\n",
      "PGI {}\n",
      "PFK {'charge': -1.0}\n",
      "FBA {}\n",
      "TPI {}\n",
      "GAPD {'charge': -3.0}\n",
      "PGK {}\n",
      "PGM {}\n",
      "ENO {}\n",
      "PYK {'charge': 1.0}\n",
      "ADK1 {}\n",
      "PDHm {}\n",
      "LDH_L {'charge': -1.0}\n",
      "G6PDH2r {'charge': -1.0}\n",
      "PGL {'charge': -1.0}\n",
      "GND {}\n",
      "RPI {}\n",
      "RPE {}\n",
      "TKT1 {}\n",
      "TKT2 {}\n",
      "TALA {}\n",
      "PCm {'charge': 1.0}\n",
      "PEPCKm {}\n",
      "FBP {'charge': 2.0}\n",
      "G6PPer {'charge': 2.0}\n",
      "G6Pter {}\n",
      "GLCter {}\n",
      "MALtm {}\n",
      "MDH {'charge': -1.0}\n",
      "PEPCK_re {}\n",
      "PGMT {}\n",
      "GALUi {'charge': 1.0}\n",
      "GLGNS1 {'charge': -3.0}\n",
      "GLBRAN {}\n",
      "GLPASE1 {'charge': -6.0}\n",
      "GLDBRAN {}\n",
      "GLPASE2 {}\n",
      "GGNG {'charge': -8.0}\n",
      "ACACT1m {}\n",
      "HMGCOASm {'charge': 1.0}\n",
      "HMGLm {}\n",
      "ADCim {'charge': 1.0}\n",
      "BDHm {'charge': -1.0}\n",
      "OCOAT1m {}\n",
      "NDPK1 {}\n",
      "NDPK1m {}\n",
      "NDPK2 {}\n",
      "HCO3Em {'charge': -1.0}\n",
      "ATPtm {}\n",
      "AKGMALtm {}\n",
      "ASPTA {}\n",
      "ASPTAm {}\n",
      "CITtam {}\n",
      "CITL {}\n",
      "ME2 {}\n",
      "ACS {}\n",
      "ARGN {}\n",
      "OCBTm {'charge': 1.0}\n",
      "ARGSS {'charge': -1.0}\n",
      "ARGSL {}\n",
      "CBPSam {}\n",
      "NH4tm {}\n",
      "GDHm {'charge': -1.0}\n",
      "GLNS {'charge': 1.0}\n",
      "GLUN {}\n",
      "ALATA_L {}\n",
      "CYSO {'charge': -2.0}\n",
      "3SALATAi {'charge': 1.0}\n",
      "3SPYRSP {'charge': -1.0}\n",
      "PGCD {'charge': -1.0}\n",
      "PSERT {}\n",
      "PSP_L {'charge': 2.0}\n",
      "GHMT2r {}\n",
      "ASNS1 {'charge': -1.0}\n",
      "GLYtm {}\n",
      "MLTHFtm {}\n",
      "THFtm {}\n",
      "KHK {'charge': -1.0}\n",
      "FBA2 {}\n",
      "TRIOK {'charge': -1.0}\n",
      "ALCD19y {'charge': 1.0}\n",
      "GLYK {'charge': -1.0}\n",
      "2AMACHYD {}\n",
      "SERHL {}\n",
      "ALCD2x {'charge': -1.0}\n",
      "ACALDtm {}\n",
      "ALDD2xm {'charge': -2.0}\n",
      "ACSm {}\n",
      "Htm {}\n",
      "O2tm {}\n",
      "H2Otr {}\n",
      "H2Otm {}\n",
      "PItm {}\n",
      "PItr {}\n",
      "CO2tm {}\n",
      "PPA {'charge': 3.0}\n",
      "HCO3E {'charge': -1.0}\n",
      "PEPtm {}\n",
      "PYRt2m {}\n",
      "ASPGLUm {}\n",
      "THD1m {}\n",
      "BHBtm {}\n",
      "ACETONEt2m {}\n",
      "ORNt4m {}\n",
      "FUMtm {}\n",
      "GLUt2m {}\n",
      "GLYCLm {}\n",
      "FACOAL80PROD {'charge': nan, 'C': -21, 'H': -31, 'N': -7, 'O': -15, 'P': -3, 'S': -1}\n",
      "GAPT {'charge': nan, 'C': 18, 'H': 25, 'N': 7, 'O': 10, 'P': 2, 'S': 1}\n",
      "AGPTAT {'charge': nan, 'C': 21, 'H': 32, 'N': 7, 'O': 16, 'P': 3, 'S': 1}\n",
      "LPIN {'charge': nan, 'H': -1, 'O': 3, 'P': 1}\n",
      "DGAT {'charge': nan, 'C': 21, 'H': 32, 'N': 7, 'O': 16, 'P': 3, 'S': 1}\n",
      "ACCOAC {'charge': 1.0}\n",
      "MCOATA {'charge': nan, 'C': -3, 'H': -1, 'O': -3}\n",
      "ACOATA {'charge': nan, 'C': -2, 'H': -2, 'O': -1}\n",
      "KAS14 {'charge': nan, 'C': 1, 'O': 2, 'H': -1}\n",
      "30AR40 {'charge': nan, 'H': -2}\n",
      "3HAD40 {'charge': nan, 'H': 2, 'O': 1}\n",
      "EAR40y {'charge': nan, 'H': -2}\n",
      "30AS60 {'charge': nan, 'C': 1, 'O': 2, 'H': -1}\n",
      "30AR60 {'charge': nan, 'H': -2}\n",
      "3HAD60 {'charge': nan, 'H': 2, 'O': 1}\n",
      "EAR60y {'charge': nan, 'H': -2}\n",
      "30AS80 {'charge': nan, 'C': 1, 'O': 2, 'H': -1}\n",
      "30AR80 {'charge': nan, 'H': -2}\n",
      "3HAD80 {'charge': nan, 'H': 2, 'O': 1}\n",
      "EAR80y {'charge': nan, 'H': -2}\n",
      "FA80ACPHi {'charge': nan, 'H': -1, 'O': -1}\n",
      "FACOAL80 {}\n",
      "C80CPT1 {}\n",
      "r2434 {}\n",
      "CRNtim {}\n",
      "r0636 {}\n",
      "COAtim {}\n",
      "ACOAD3fm {'charge': nan, 'C': -29, 'H': -44, 'N': -7, 'O': -17, 'P': -3, 'S': -1}\n",
      "ECOAH3m {'charge': nan, 'H': 2, 'O': 1}\n",
      "HACD3m {'charge': nan, 'H': -2}\n",
      "ACACT3rm {'charge': nan, 'C': -29, 'H': -44, 'N': -7, 'O': -18, 'P': -3, 'S': -1}\n",
      "ACOAD2fm {}\n",
      "ECOAH2m {'charge': nan, 'H': 42, 'O': 18, 'C': 27, 'N': 7, 'P': 3, 'S': 1}\n",
      "HACD2m {'charge': nan, 'H': -2}\n",
      "ACACT2rm {'charge': nan, 'C': -27, 'H': -40, 'N': -7, 'O': -18, 'P': -3, 'S': -1}\n",
      "ACOAD1fm {}\n",
      "ECOAH1m {}\n",
      "HACD1m {'charge': 1.0}\n",
      "ACACT1rm {}\n",
      "ATPM {'charge': 1.0}\n",
      "EX_h_c {'H': -1}\n",
      "EX_pyr_c {'charge': 1.0, 'C': -3, 'H': -3, 'O': -3}\n",
      "EX_h2o_c {'H': -2, 'O': -1}\n",
      "EX_pi_c {'H': -1, 'O': -4, 'P': -1}\n",
      "EX_glc__D_c {'C': -6, 'H': -12, 'O': -6}\n",
      "EX_lac__L_c {'charge': 1.0, 'C': -3, 'H': -5, 'O': -3}\n",
      "EX_co2_c {'C': -1, 'O': -2}\n",
      "EX_o2_c {'O': -2}\n",
      "EX_octa_prod_c {'charge': nan}\n",
      "EX_octa_cons_c {'charge': nan}\n",
      "EX_urea_c {'C': -1, 'H': -4, 'N': -2, 'O': -1}\n",
      "EX_gln__L_c {'C': -5, 'H': -10, 'N': -2, 'O': -3}\n",
      "EX_acetone_c {'C': -3, 'H': -6, 'O': -1}\n",
      "EX_bhb_c {'charge': 1.0, 'C': -4, 'H': -7, 'O': -3}\n",
      "EX_glu__L_c {'charge': 1.0, 'C': -5, 'H': -8, 'N': -1, 'O': -4}\n",
      "EX_ser__L_c {'C': -3, 'H': -7, 'N': -1, 'O': -3}\n",
      "EX_cys__L_c {'C': -3, 'H': -7, 'N': -1, 'O': -2, 'S': -1}\n",
      "EX_gly_c {'C': -2, 'H': -5, 'N': -1, 'O': -2}\n",
      "EX_glygn2_c {'C': -66, 'H': -111, 'O': -56, 'X': -1}\n",
      "EX_Tyr_ggn_c {'X': -1, 'O': -1, 'H': -1}\n",
      "EX_ala__L_c {'C': -3, 'H': -7, 'N': -1, 'O': -2}\n",
      "EX_nh4_c {'charge': -1.0, 'H': -4, 'N': -1}\n",
      "EX_so3_c {'charge': 2.0, 'O': -3, 'S': -1}\n",
      "EX_etoh_c {'C': -2, 'H': -6, 'O': -1}\n",
      "EX_glyc_3octa_c {'charge': nan}\n",
      "EX_fru_c {'C': -6, 'H': -12, 'O': -6}\n"
     ]
    }
   ],
   "source": [
    "#Mass balance check\n",
    "for r in trial.reactions:\n",
    "    print(r.id,  r.check_mass_balance())"
   ]
  },
  {
   "cell_type": "code",
   "execution_count": 16,
   "metadata": {},
   "outputs": [
    {
     "data": {
      "text/html": [
       "\n",
       "        <table>\n",
       "            <tr>\n",
       "                <td><strong>Reaction identifier</strong></td><td>G6PPer</td>\n",
       "            </tr><tr>\n",
       "                <td><strong>Name</strong></td><td>Glucose-6-phosphate phosphatase, edoplasmic reticular</td>\n",
       "            </tr><tr>\n",
       "                <td><strong>Memory address</strong></td>\n",
       "                <td>0x01c9473ed250</td>\n",
       "            </tr><tr>\n",
       "                <td><strong>Stoichiometry</strong></td>\n",
       "                <td>\n",
       "                    <p style='text-align:right'>g6p_r + h2o_r --> glc__D_r + pi_r</p>\n",
       "                    <p style='text-align:right'>D-Glucose 6-phosphate + H2O H2O --> D-Glucose + Phosphate</p>\n",
       "                </td>\n",
       "            </tr><tr>\n",
       "                <td><strong>GPR</strong></td><td></td>\n",
       "            </tr><tr>\n",
       "                <td><strong>Lower bound</strong></td><td>0.0</td>\n",
       "            </tr><tr>\n",
       "                <td><strong>Upper bound</strong></td><td>1000.0</td>\n",
       "            </tr>\n",
       "        </table>\n",
       "        "
      ],
      "text/plain": [
       "<Reaction G6PPer at 0x1c9473ed250>"
      ]
     },
     "execution_count": 16,
     "metadata": {},
     "output_type": "execute_result"
    }
   ],
   "source": [
    "trial.reactions.G6PPer"
   ]
  },
  {
   "cell_type": "code",
   "execution_count": 19,
   "metadata": {},
   "outputs": [],
   "source": [
    "trial.metabolites.h_c.charge= 1\n",
    "trial.metabolites.h_m.charge= 1\n",
    "trial.metabolites.pi_r.charge= -2\n",
    "trial.metabolites.h_i.charge= 1\n",
    "trial.metabolites.pi_c.charge= -2\n",
    "trial.metabolites.pi_m.charge= -2"
   ]
  },
  {
   "cell_type": "code",
   "execution_count": 20,
   "metadata": {},
   "outputs": [
    {
     "name": "stdout",
     "output_type": "stream",
     "text": [
      "CSm {}\n",
      "ACONTm {}\n",
      "ICDHxm {}\n",
      "AKGDm {}\n",
      "SUCOASm {}\n",
      "SUCD1m {}\n",
      "FUMm {}\n",
      "MDHm {}\n",
      "NADH2_u10mi {}\n",
      "FADH2ETC {}\n",
      "CYOR_u10mi {}\n",
      "CYOOm2i {}\n",
      "ATPS4mi {}\n",
      "Htmi {}\n",
      "HEX1 {}\n",
      "PGI {}\n",
      "PFK {}\n",
      "FBA {}\n",
      "TPI {}\n",
      "GAPD {}\n",
      "PGK {}\n",
      "PGM {}\n",
      "ENO {}\n",
      "PYK {}\n",
      "ADK1 {}\n",
      "PDHm {}\n",
      "LDH_L {}\n",
      "G6PDH2r {}\n",
      "PGL {}\n",
      "GND {}\n",
      "RPI {}\n",
      "RPE {}\n",
      "TKT1 {}\n",
      "TKT2 {}\n",
      "TALA {}\n",
      "PCm {}\n",
      "PEPCKm {}\n",
      "FBP {}\n",
      "G6PPer {}\n",
      "G6Pter {}\n",
      "GLCter {}\n",
      "MALtm {}\n",
      "MDH {}\n",
      "PEPCK_re {}\n",
      "PGMT {}\n",
      "GALUi {}\n",
      "GLGNS1 {}\n",
      "GLBRAN {}\n",
      "GLPASE1 {}\n",
      "GLDBRAN {}\n",
      "GLPASE2 {}\n",
      "GGNG {}\n",
      "ACACT1m {}\n",
      "HMGCOASm {}\n",
      "HMGLm {}\n",
      "ADCim {}\n",
      "BDHm {}\n",
      "OCOAT1m {}\n",
      "NDPK1 {}\n",
      "NDPK1m {}\n",
      "NDPK2 {}\n",
      "HCO3Em {}\n",
      "ATPtm {}\n",
      "AKGMALtm {}\n",
      "ASPTA {}\n",
      "ASPTAm {}\n",
      "CITtam {}\n",
      "CITL {}\n",
      "ME2 {}\n",
      "ACS {}\n",
      "ARGN {}\n",
      "OCBTm {}\n",
      "ARGSS {}\n",
      "ARGSL {}\n",
      "CBPSam {}\n",
      "NH4tm {}\n",
      "GDHm {}\n",
      "GLNS {}\n",
      "GLUN {}\n",
      "ALATA_L {}\n",
      "CYSO {}\n",
      "3SALATAi {}\n",
      "3SPYRSP {}\n",
      "PGCD {}\n",
      "PSERT {}\n",
      "PSP_L {}\n",
      "GHMT2r {}\n",
      "ASNS1 {}\n",
      "GLYtm {}\n",
      "MLTHFtm {}\n",
      "THFtm {}\n",
      "KHK {}\n",
      "FBA2 {}\n",
      "TRIOK {}\n",
      "ALCD19y {}\n",
      "GLYK {}\n",
      "2AMACHYD {}\n",
      "SERHL {}\n",
      "ALCD2x {}\n",
      "ACALDtm {}\n",
      "ALDD2xm {}\n",
      "ACSm {}\n",
      "Htm {}\n",
      "O2tm {}\n",
      "H2Otr {}\n",
      "H2Otm {}\n",
      "PItm {}\n",
      "PItr {}\n",
      "CO2tm {}\n",
      "PPA {}\n",
      "HCO3E {}\n",
      "PEPtm {}\n",
      "PYRt2m {}\n",
      "ASPGLUm {}\n",
      "THD1m {}\n",
      "BHBtm {}\n",
      "ACETONEt2m {}\n",
      "ORNt4m {}\n",
      "FUMtm {}\n",
      "GLUt2m {}\n",
      "GLYCLm {}\n",
      "FACOAL80PROD {'charge': nan, 'C': -21, 'H': -31, 'N': -7, 'O': -15, 'P': -3, 'S': -1}\n",
      "GAPT {'charge': nan, 'C': 18, 'H': 25, 'N': 7, 'O': 10, 'P': 2, 'S': 1}\n",
      "AGPTAT {'charge': nan, 'C': 21, 'H': 32, 'N': 7, 'O': 16, 'P': 3, 'S': 1}\n",
      "LPIN {'charge': nan, 'H': -1, 'O': 3, 'P': 1}\n",
      "DGAT {'charge': nan, 'C': 21, 'H': 32, 'N': 7, 'O': 16, 'P': 3, 'S': 1}\n",
      "ACCOAC {}\n",
      "MCOATA {'charge': nan, 'C': -3, 'H': -1, 'O': -3}\n",
      "ACOATA {'charge': nan, 'C': -2, 'H': -2, 'O': -1}\n",
      "KAS14 {'charge': nan, 'C': 1, 'O': 2, 'H': -1}\n",
      "30AR40 {'charge': nan, 'H': -2}\n",
      "3HAD40 {'charge': nan, 'H': 2, 'O': 1}\n",
      "EAR40y {'charge': nan, 'H': -2}\n",
      "30AS60 {'charge': nan, 'C': 1, 'O': 2, 'H': -1}\n",
      "30AR60 {'charge': nan, 'H': -2}\n",
      "3HAD60 {'charge': nan, 'H': 2, 'O': 1}\n",
      "EAR60y {'charge': nan, 'H': -2}\n",
      "30AS80 {'charge': nan, 'C': 1, 'O': 2, 'H': -1}\n",
      "30AR80 {'charge': nan, 'H': -2}\n",
      "3HAD80 {'charge': nan, 'H': 2, 'O': 1}\n",
      "EAR80y {'charge': nan, 'H': -2}\n",
      "FA80ACPHi {'charge': nan, 'H': -1, 'O': -1}\n",
      "FACOAL80 {}\n",
      "C80CPT1 {}\n",
      "r2434 {}\n",
      "CRNtim {}\n",
      "r0636 {}\n",
      "COAtim {}\n",
      "ACOAD3fm {'charge': nan, 'C': -29, 'H': -44, 'N': -7, 'O': -17, 'P': -3, 'S': -1}\n",
      "ECOAH3m {'charge': nan, 'H': 2, 'O': 1}\n",
      "HACD3m {'charge': nan, 'H': -2}\n",
      "ACACT3rm {'charge': nan, 'C': -29, 'H': -44, 'N': -7, 'O': -18, 'P': -3, 'S': -1}\n",
      "ACOAD2fm {}\n",
      "ECOAH2m {'charge': nan, 'H': 42, 'O': 18, 'C': 27, 'N': 7, 'P': 3, 'S': 1}\n",
      "HACD2m {'charge': nan, 'H': -2}\n",
      "ACACT2rm {'charge': nan, 'C': -27, 'H': -40, 'N': -7, 'O': -18, 'P': -3, 'S': -1}\n",
      "ACOAD1fm {}\n",
      "ECOAH1m {}\n",
      "HACD1m {}\n",
      "ACACT1rm {}\n",
      "ATPM {}\n",
      "EX_h_c {'charge': -1, 'H': -1}\n",
      "EX_pyr_c {'charge': 1.0, 'C': -3, 'H': -3, 'O': -3}\n",
      "EX_h2o_c {'H': -2, 'O': -1}\n",
      "EX_pi_c {'charge': 2, 'H': -1, 'O': -4, 'P': -1}\n",
      "EX_glc__D_c {'C': -6, 'H': -12, 'O': -6}\n",
      "EX_lac__L_c {'charge': 1.0, 'C': -3, 'H': -5, 'O': -3}\n",
      "EX_co2_c {'C': -1, 'O': -2}\n",
      "EX_o2_c {'O': -2}\n",
      "EX_octa_prod_c {'charge': nan}\n",
      "EX_octa_cons_c {'charge': nan}\n",
      "EX_urea_c {'C': -1, 'H': -4, 'N': -2, 'O': -1}\n",
      "EX_gln__L_c {'C': -5, 'H': -10, 'N': -2, 'O': -3}\n",
      "EX_acetone_c {'C': -3, 'H': -6, 'O': -1}\n",
      "EX_bhb_c {'charge': 1.0, 'C': -4, 'H': -7, 'O': -3}\n",
      "EX_glu__L_c {'charge': 1.0, 'C': -5, 'H': -8, 'N': -1, 'O': -4}\n",
      "EX_ser__L_c {'C': -3, 'H': -7, 'N': -1, 'O': -3}\n",
      "EX_cys__L_c {'C': -3, 'H': -7, 'N': -1, 'O': -2, 'S': -1}\n",
      "EX_gly_c {'C': -2, 'H': -5, 'N': -1, 'O': -2}\n",
      "EX_glygn2_c {'C': -66, 'H': -111, 'O': -56, 'X': -1}\n",
      "EX_Tyr_ggn_c {'X': -1, 'O': -1, 'H': -1}\n",
      "EX_ala__L_c {'C': -3, 'H': -7, 'N': -1, 'O': -2}\n",
      "EX_nh4_c {'charge': -1.0, 'H': -4, 'N': -1}\n",
      "EX_so3_c {'charge': 2.0, 'O': -3, 'S': -1}\n",
      "EX_etoh_c {'C': -2, 'H': -6, 'O': -1}\n",
      "EX_glyc_3octa_c {'charge': nan}\n",
      "EX_fru_c {'C': -6, 'H': -12, 'O': -6}\n"
     ]
    }
   ],
   "source": [
    "for r in trial.reactions:\n",
    "    print(r.id,  r.check_mass_balance())"
   ]
  },
  {
   "cell_type": "code",
   "execution_count": 21,
   "metadata": {},
   "outputs": [
    {
     "data": {
      "text/html": [
       "<strong><em>Optimal</em> solution with objective value 28.000</strong><br><div>\n",
       "<style scoped>\n",
       "    .dataframe tbody tr th:only-of-type {\n",
       "        vertical-align: middle;\n",
       "    }\n",
       "\n",
       "    .dataframe tbody tr th {\n",
       "        vertical-align: top;\n",
       "    }\n",
       "\n",
       "    .dataframe thead th {\n",
       "        text-align: right;\n",
       "    }\n",
       "</style>\n",
       "<table border=\"1\" class=\"dataframe\">\n",
       "  <thead>\n",
       "    <tr style=\"text-align: right;\">\n",
       "      <th></th>\n",
       "      <th>fluxes</th>\n",
       "      <th>reduced_costs</th>\n",
       "    </tr>\n",
       "  </thead>\n",
       "  <tbody>\n",
       "    <tr>\n",
       "      <th>CSm</th>\n",
       "      <td>2.0</td>\n",
       "      <td>0.0</td>\n",
       "    </tr>\n",
       "    <tr>\n",
       "      <th>ACONTm</th>\n",
       "      <td>2.0</td>\n",
       "      <td>0.0</td>\n",
       "    </tr>\n",
       "    <tr>\n",
       "      <th>ICDHxm</th>\n",
       "      <td>2.0</td>\n",
       "      <td>0.0</td>\n",
       "    </tr>\n",
       "    <tr>\n",
       "      <th>AKGDm</th>\n",
       "      <td>2.0</td>\n",
       "      <td>0.0</td>\n",
       "    </tr>\n",
       "    <tr>\n",
       "      <th>SUCOASm</th>\n",
       "      <td>28.0</td>\n",
       "      <td>0.0</td>\n",
       "    </tr>\n",
       "    <tr>\n",
       "      <th>...</th>\n",
       "      <td>...</td>\n",
       "      <td>...</td>\n",
       "    </tr>\n",
       "    <tr>\n",
       "      <th>EX_nh4_c</th>\n",
       "      <td>0.0</td>\n",
       "      <td>0.0</td>\n",
       "    </tr>\n",
       "    <tr>\n",
       "      <th>EX_so3_c</th>\n",
       "      <td>0.0</td>\n",
       "      <td>0.0</td>\n",
       "    </tr>\n",
       "    <tr>\n",
       "      <th>EX_etoh_c</th>\n",
       "      <td>0.0</td>\n",
       "      <td>-5.0</td>\n",
       "    </tr>\n",
       "    <tr>\n",
       "      <th>EX_glyc_3octa_c</th>\n",
       "      <td>0.0</td>\n",
       "      <td>0.0</td>\n",
       "    </tr>\n",
       "    <tr>\n",
       "      <th>EX_fru_c</th>\n",
       "      <td>0.0</td>\n",
       "      <td>-56.0</td>\n",
       "    </tr>\n",
       "  </tbody>\n",
       "</table>\n",
       "<p>187 rows × 2 columns</p>\n",
       "</div>"
      ],
      "text/plain": [
       "<Solution 28.000 at 0x1c9474789d0>"
      ]
     },
     "execution_count": 21,
     "metadata": {},
     "output_type": "execute_result"
    }
   ],
   "source": [
    "trial.objective = 'ATPS4mi'\n",
    "flux= trial.optimize()\n",
    "flux\n",
    "# df= flux.to_frame()\n",
    "# df.loc[\"EX_glc__D_c\"]\n",
    "# flux.loc[\"EX_glc__D_c\"]"
   ]
  },
  {
   "cell_type": "code",
   "execution_count": 22,
   "metadata": {},
   "outputs": [],
   "source": [
    "#Function to load data from the excel sheet\n",
    "def load_data(filepath, sheet_name):\n",
    "    \"\"\"Load Liver data from an excel sheet\"\"\"\n",
    "    df = pd.read_excel(engine='openpyxl',\n",
    "        io=filepath,\n",
    "        sheet_name=sheet_name,\n",
    "        index_col=0)\n",
    "    return df"
   ]
  },
  {
   "cell_type": "code",
   "execution_count": 50,
   "metadata": {},
   "outputs": [
    {
     "data": {
      "text/html": [
       "<div>\n",
       "<style scoped>\n",
       "    .dataframe tbody tr th:only-of-type {\n",
       "        vertical-align: middle;\n",
       "    }\n",
       "\n",
       "    .dataframe tbody tr th {\n",
       "        vertical-align: top;\n",
       "    }\n",
       "\n",
       "    .dataframe thead th {\n",
       "        text-align: right;\n",
       "    }\n",
       "</style>\n",
       "<table border=\"1\" class=\"dataframe\">\n",
       "  <thead>\n",
       "    <tr style=\"text-align: right;\">\n",
       "      <th></th>\n",
       "      <th>val</th>\n",
       "    </tr>\n",
       "    <tr>\n",
       "      <th>met</th>\n",
       "      <th></th>\n",
       "    </tr>\n",
       "  </thead>\n",
       "  <tbody>\n",
       "    <tr>\n",
       "      <th>glygn2_c</th>\n",
       "      <td>-0.015600</td>\n",
       "    </tr>\n",
       "    <tr>\n",
       "      <th>ala__L_c</th>\n",
       "      <td>-0.096667</td>\n",
       "    </tr>\n",
       "    <tr>\n",
       "      <th>nh4_c</th>\n",
       "      <td>-0.090533</td>\n",
       "    </tr>\n",
       "    <tr>\n",
       "      <th>gly_c</th>\n",
       "      <td>-0.015827</td>\n",
       "    </tr>\n",
       "    <tr>\n",
       "      <th>gln__L_c</th>\n",
       "      <td>-0.034667</td>\n",
       "    </tr>\n",
       "    <tr>\n",
       "      <th>ser__L_c</th>\n",
       "      <td>-0.009720</td>\n",
       "    </tr>\n",
       "    <tr>\n",
       "      <th>glc__D_c</th>\n",
       "      <td>-0.037452</td>\n",
       "    </tr>\n",
       "  </tbody>\n",
       "</table>\n",
       "</div>"
      ],
      "text/plain": [
       "               val\n",
       "met               \n",
       "glygn2_c -0.015600\n",
       "ala__L_c -0.096667\n",
       "nh4_c    -0.090533\n",
       "gly_c    -0.015827\n",
       "gln__L_c -0.034667\n",
       "ser__L_c -0.009720\n",
       "glc__D_c -0.037452"
      ]
     },
     "execution_count": 50,
     "metadata": {},
     "output_type": "execute_result"
    }
   ],
   "source": [
    "#Compare Results\n",
    "excel_ic = os.path.join(data_dir,\"Fluxes_Data.xlsx\")\n",
    "# ic_df = pd.read_csv(csv_ic)\n",
    "# ic_df.set_index()\n",
    "fluxes = load_data(\n",
    "    filepath=excel_ic,\n",
    "    sheet_name=\"Model_data\"\n",
    "    )\n",
    "# ic_info_all.reset_index(level='ID', col_level=1, inplace=True)\n",
    "\n",
    "fluxes"
   ]
  },
  {
   "cell_type": "code",
   "execution_count": 51,
   "metadata": {},
   "outputs": [
    {
     "data": {
      "text/html": [
       "<div>\n",
       "<style scoped>\n",
       "    .dataframe tbody tr th:only-of-type {\n",
       "        vertical-align: middle;\n",
       "    }\n",
       "\n",
       "    .dataframe tbody tr th {\n",
       "        vertical-align: top;\n",
       "    }\n",
       "\n",
       "    .dataframe thead th {\n",
       "        text-align: right;\n",
       "    }\n",
       "</style>\n",
       "<table border=\"1\" class=\"dataframe\">\n",
       "  <thead>\n",
       "    <tr style=\"text-align: right;\">\n",
       "      <th></th>\n",
       "      <th>val</th>\n",
       "    </tr>\n",
       "    <tr>\n",
       "      <th>met</th>\n",
       "      <th></th>\n",
       "    </tr>\n",
       "  </thead>\n",
       "  <tbody>\n",
       "    <tr>\n",
       "      <th>glygn2_c</th>\n",
       "      <td>-0.015600</td>\n",
       "    </tr>\n",
       "    <tr>\n",
       "      <th>glc__D_c</th>\n",
       "      <td>-0.037452</td>\n",
       "    </tr>\n",
       "    <tr>\n",
       "      <th>gly_c</th>\n",
       "      <td>-0.015827</td>\n",
       "    </tr>\n",
       "  </tbody>\n",
       "</table>\n",
       "</div>"
      ],
      "text/plain": [
       "               val\n",
       "met               \n",
       "glygn2_c -0.015600\n",
       "glc__D_c -0.037452\n",
       "gly_c    -0.015827"
      ]
     },
     "execution_count": 51,
     "metadata": {},
     "output_type": "execute_result"
    }
   ],
   "source": [
    "rows_of_interest = ['glygn2_c', 'glc__D_c','gly_c']\n",
    "fluxes= fluxes.loc[rows_of_interest]\n",
    "# fluxes = fluxes\n",
    "fluxes"
   ]
  },
  {
   "cell_type": "code",
   "execution_count": 52,
   "metadata": {},
   "outputs": [
    {
     "name": "stdout",
     "output_type": "stream",
     "text": [
      "Setting Experimental fluxes\n",
      "------------------\n",
      "EX_glc__D_c -0.0374517 0.0374517\n",
      "EX_gly_c -0.015826666666666666 0.015826666666666666\n",
      "EX_glygn2_c -0.015600000000000001 0.015600000000000001\n"
     ]
    }
   ],
   "source": [
    "print(\"Setting Experimental fluxes\\n------------------\")\n",
    "\n",
    "for reaction in trial.reactions:\n",
    "    #Setting inital condition of metabolties from HEPATOKIN  #M \n",
    "    if 'EX_' in reaction.id:\n",
    "        for met in reaction.metabolites:\n",
    "            # print(met)\n",
    "            if met.id in fluxes.index:\n",
    "                mid=met.id\n",
    "                # print(mid)\n",
    "                flux = fluxes.loc[mid,'val']\n",
    "                # print(flux)\n",
    "            #     row = [mid,ic_value]\n",
    "            #     # column = [ic_value]\n",
    "            #     # conc_df.append(row)\n",
    "                reaction.lower_bound =  flux       \n",
    "                reaction.upper_bound =  -flux     #mol/L*hr = M/hr\n",
    "                \n",
    "                print(reaction.id, reaction.lower_bound, reaction.upper_bound)       \n",
    "# for metabolite, ic_value in liver.initial_conditions.items():\n",
    "#     print(\"{0}: {1}\".format(metabolite, ic_value))"
   ]
  },
  {
   "cell_type": "code",
   "execution_count": 26,
   "metadata": {},
   "outputs": [
    {
     "name": "stdout",
     "output_type": "stream",
     "text": [
      "EX_h_c -1000.0 1000.0\n",
      "EX_pyr_c 0.0 1000.0\n",
      "EX_h2o_c -1000.0 1000.0\n",
      "EX_pi_c -1000.0 1000.0\n",
      "EX_glc__D_c -0.0374517 0.0374517\n",
      "EX_lac__L_c 0.0 1000.0\n",
      "EX_co2_c 0.0 1000.0\n",
      "EX_o2_c -1000.0 1000.0\n",
      "EX_octa_prod_c 0.0 1000.0\n",
      "EX_octa_cons_c 0.0 0.0\n",
      "EX_urea_c 0.0 1000.0\n",
      "EX_gln__L_c 0.0 1000.0\n",
      "EX_acetone_c 0.0 1000.0\n",
      "EX_bhb_c 0.0 1000.0\n",
      "EX_glu__L_c 0.0 1000.0\n",
      "EX_ser__L_c 0.0 1000.0\n",
      "EX_cys__L_c 0.0 1000.0\n",
      "EX_gly_c 0.0 1000.0\n",
      "EX_glygn2_c -0.015600000000000001 0.015600000000000001\n",
      "EX_Tyr_ggn_c -1000.0 1000.0\n",
      "EX_ala__L_c 0.0 1000.0\n",
      "EX_nh4_c -1000.0 0.0\n",
      "EX_so3_c 0.0 1000.0\n",
      "EX_etoh_c 0.0 1000.0\n",
      "EX_glyc_3octa_c 0.0 1000.0\n",
      "EX_fru_c 0.0 1000.0\n"
     ]
    }
   ],
   "source": [
    "for r in trial.reactions:\n",
    "    if 'EX_' in r.id:\n",
    "    \n",
    "        print(r.id, r.lower_bound, r.upper_bound)"
   ]
  },
  {
   "cell_type": "code",
   "execution_count": null,
   "metadata": {},
   "outputs": [],
   "source": [
    "# futile_cycle_1 = trial.problem.Constraint(\n",
    "#     trial.reactions.PFK.flux_expression - trial.reactions.FBP.flux_expression,\n",
    "#     lb=-60,\n",
    "#     ub=60)\n",
    "# trial.add_cons_vars(futile_cycle_1)\n",
    "\n",
    "\n",
    "# futile_cycle_2 = trial.problem.Constraint(\n",
    "#     trial.reactions.HEX1.flux_expression - trial.reactions.G6PPer.flux_expression,\n",
    "#     lb=-1000,\n",
    "#     ub=1000)\n",
    "# trial.add_cons_vars(futile_cycle_2)\n",
    "\n",
    "# # try doubling the two above because of the 2:1 ratio\n",
    "# futile_cycle_3 = trial.problem.Constraint(\n",
    "#     trial.reactions.PYK.flux_expression - trial.reactions.PCm.flux_expression,\n",
    "#     lb=-20,\n",
    "#     ub=20)\n",
    "# trial.add_cons_vars(futile_cycle_3)\n",
    "\n",
    "\n",
    "# constraint = trial.problem.Constraint(-\n",
    "#     trial.reactions.EX_glc__D_c.flux_expression \n",
    "#     - trial.reactions.EX_glygn2_c.flux_expression,\n",
    "#     lb=-20,\n",
    "#     ub=20)\n",
    "# trial.add_cons_vars(constraint)"
   ]
  },
  {
   "cell_type": "code",
   "execution_count": 55,
   "metadata": {},
   "outputs": [
    {
     "data": {
      "text/html": [
       "<strong><em>Optimal</em> solution with objective value -0.053</strong><br><div>\n",
       "<style scoped>\n",
       "    .dataframe tbody tr th:only-of-type {\n",
       "        vertical-align: middle;\n",
       "    }\n",
       "\n",
       "    .dataframe tbody tr th {\n",
       "        vertical-align: top;\n",
       "    }\n",
       "\n",
       "    .dataframe thead th {\n",
       "        text-align: right;\n",
       "    }\n",
       "</style>\n",
       "<table border=\"1\" class=\"dataframe\">\n",
       "  <thead>\n",
       "    <tr style=\"text-align: right;\">\n",
       "      <th></th>\n",
       "      <th>fluxes</th>\n",
       "      <th>reduced_costs</th>\n",
       "    </tr>\n",
       "  </thead>\n",
       "  <tbody>\n",
       "    <tr>\n",
       "      <th>CSm</th>\n",
       "      <td>0.004878</td>\n",
       "      <td>0.0</td>\n",
       "    </tr>\n",
       "    <tr>\n",
       "      <th>ACONTm</th>\n",
       "      <td>0.004878</td>\n",
       "      <td>0.0</td>\n",
       "    </tr>\n",
       "    <tr>\n",
       "      <th>ICDHxm</th>\n",
       "      <td>0.004878</td>\n",
       "      <td>0.0</td>\n",
       "    </tr>\n",
       "    <tr>\n",
       "      <th>AKGDm</th>\n",
       "      <td>0.004878</td>\n",
       "      <td>0.0</td>\n",
       "    </tr>\n",
       "    <tr>\n",
       "      <th>SUCOASm</th>\n",
       "      <td>-0.004878</td>\n",
       "      <td>0.0</td>\n",
       "    </tr>\n",
       "    <tr>\n",
       "      <th>...</th>\n",
       "      <td>...</td>\n",
       "      <td>...</td>\n",
       "    </tr>\n",
       "    <tr>\n",
       "      <th>EX_nh4_c</th>\n",
       "      <td>0.000000</td>\n",
       "      <td>0.0</td>\n",
       "    </tr>\n",
       "    <tr>\n",
       "      <th>EX_so3_c</th>\n",
       "      <td>0.000000</td>\n",
       "      <td>0.0</td>\n",
       "    </tr>\n",
       "    <tr>\n",
       "      <th>EX_etoh_c</th>\n",
       "      <td>0.000000</td>\n",
       "      <td>0.0</td>\n",
       "    </tr>\n",
       "    <tr>\n",
       "      <th>EX_glyc_3octa_c</th>\n",
       "      <td>0.000000</td>\n",
       "      <td>0.0</td>\n",
       "    </tr>\n",
       "    <tr>\n",
       "      <th>EX_fru_c</th>\n",
       "      <td>0.000000</td>\n",
       "      <td>0.0</td>\n",
       "    </tr>\n",
       "  </tbody>\n",
       "</table>\n",
       "<p>187 rows × 2 columns</p>\n",
       "</div>"
      ],
      "text/plain": [
       "<Solution -0.053 at 0x1c947bdd640>"
      ]
     },
     "execution_count": 55,
     "metadata": {},
     "output_type": "execute_result"
    }
   ],
   "source": [
    "dual_objective = trial.problem.Objective(\n",
    "    -trial.reactions.EX_glc__D_c.flux_expression+\n",
    "    trial.reactions.EX_glygn2_c.flux_expression,\n",
    "    direction='min')\n",
    "trial.objective = dual_objective\n",
    "solution = trial.optimize(objective_sense='maximise')\n",
    "# try adding ratios of glycogen to glucose in objective function\n",
    "# try making the flux reactons of PGI, GLUT2, \n",
    "solution"
   ]
  },
  {
   "cell_type": "code",
   "execution_count": 56,
   "metadata": {},
   "outputs": [
    {
     "data": {
      "application/vnd.jupyter.widget-view+json": {
       "model_id": "00bd5d6975284df09e2b2c5d56a09b5a",
       "version_major": 2,
       "version_minor": 0
      },
      "text/plain": [
       "Builder(reaction_data={'CSm': 0.004878120000000051, 'ACONTm': 0.004878120000000051, 'ICDHxm': 0.00487812000000…"
      ]
     },
     "metadata": {},
     "output_type": "display_data"
    }
   ],
   "source": [
    "# #Escher FBA: shows the solutions on the map\n",
    "initial_flux_data = {\n",
    "    reaction: flux\n",
    "    for reaction, flux in solution.fluxes.items()}\n",
    "\n",
    "\n",
    "#view all the reactions that we need build\n",
    "escher_builder = escher.Builder(\n",
    "    # model=trial,\n",
    "    map_json=os.path.join(\n",
    "        maps_dir,\"core_map_v23.json\")\n",
    "        # ,highlight_missing=True\n",
    "    , reaction_data=initial_flux_data\n",
    "    )\n",
    "\n",
    "# Display map in notebook\n",
    "escher_builder"
   ]
  },
  {
   "cell_type": "code",
   "execution_count": null,
   "metadata": {},
   "outputs": [],
   "source": [
    "a = solution.to_frame()\n",
    "a.loc[\"ATPS4mi\"]"
   ]
  },
  {
   "cell_type": "code",
   "execution_count": null,
   "metadata": {},
   "outputs": [],
   "source": [
    "from tqdm import tqdm\n",
    "from scipy.integrate import solve_ivp"
   ]
  },
  {
   "cell_type": "markdown",
   "metadata": {},
   "source": [
    "# dFBA analysis"
   ]
  },
  {
   "cell_type": "code",
   "execution_count": null,
   "metadata": {},
   "outputs": [],
   "source": [
    "def add_dynamic_bounds(trial, y):\n",
    "    \"\"\"Use external concentrations to bound the uptake flux of glucose.\"\"\"\n",
    "    atpm, glucose = y  # expand the boundary species\n",
    "    glucose_max_import = -10 * glucose / (5 + glucose)\n",
    "    trial.reactions.EX_glc__D_c.lower_bound = glucose_max_import\n",
    "\n",
    "\n",
    "def dynamic_system(t, y):\n",
    "    \"\"\"Calculate the time derivative of external species.\"\"\"\n",
    "\n",
    "    atpm, glucose = y  # expand the boundary species\n",
    "\n",
    "    # Calculate the specific exchanges fluxes at the given external concentrations.\n",
    "    with trial:\n",
    "        add_dynamic_bounds(trial, y)\n",
    "\n",
    "        cobra.util.add_lp_feasibility(trial)\n",
    "        feasibility = cobra.util.fix_objective_as_constraint(trial)\n",
    "        lex_constraints = cobra.util.add_lexicographic_constraints(\n",
    "            trial, ['EX_glygn2_c', 'EX_glc__D_c'], ['max', 'min'])\n",
    "# try max and mim \n",
    "    # Since the calculated fluxes are specific rates, we multiply them by the\n",
    "    # biomass concentration to get the bulk exchange rates.\n",
    "    fluxes = lex_constraints.values\n",
    "    # fluxes *= atpm\n",
    "\n",
    "    # This implementation is **not** efficient, so I display the current\n",
    "    # simulation time using a progress bar.\n",
    "    if dynamic_system.pbar is not None:\n",
    "        dynamic_system.pbar.update(1)\n",
    "        dynamic_system.pbar.set_description('t = {:.3f}'.format(t))\n",
    "\n",
    "    return fluxes\n",
    "\n",
    "dynamic_system.pbar = None\n",
    "\n",
    "\n",
    "def infeasible_event(t, y):\n",
    "    \"\"\"\n",
    "    Determine solution feasibility.\n",
    "\n",
    "    Avoiding infeasible solutions is handled by solve_ivp's built-in event detection.\n",
    "    This function re-solves the LP to determine whether or not the solution is feasible\n",
    "    (and if not, how far it is from feasibility). When the sign of this function changes\n",
    "    from -epsilon to positive, we know the solution is no longer feasible.\n",
    "\n",
    "    \"\"\"\n",
    "\n",
    "    with trial:\n",
    "\n",
    "        add_dynamic_bounds(trial, y)\n",
    "\n",
    "        cobra.util.add_lp_feasibility(trial)\n",
    "        feasibility = cobra.util.fix_objective_as_constraint(trial)\n",
    "\n",
    "    return feasibility - infeasible_event.epsilon\n",
    "\n",
    "infeasible_event.epsilon = 1E-6\n",
    "infeasible_event.direction = 1\n",
    "infeasible_event.terminal = True"
   ]
  },
  {
   "cell_type": "code",
   "execution_count": null,
   "metadata": {},
   "outputs": [],
   "source": [
    "ts = np.linspace(0, 15, 100)  # Desired integration resolution and interval\n",
    "y0 = [0.1, 10]\n",
    "\n",
    "with tqdm() as pbar:\n",
    "    dynamic_system.pbar = pbar\n",
    "\n",
    "    sol = solve_ivp(\n",
    "        fun=dynamic_system,\n",
    "        events=[infeasible_event],\n",
    "        t_span=(ts.min(), ts.max()),\n",
    "        y0=y0,\n",
    "        t_eval=ts,\n",
    "        rtol=1e-6,\n",
    "        atol=1e-8,\n",
    "        method='BDF'\n",
    "    )"
   ]
  },
  {
   "cell_type": "code",
   "execution_count": null,
   "metadata": {},
   "outputs": [],
   "source": [
    "ax = plt.subplot(111)\n",
    "ax.plot(sol.t, sol.y.T[:, 0])\n",
    "ax2 = plt.twinx(ax)\n",
    "ax2.plot(sol.t, sol.y.T[:, 1], color='r')\n",
    "\n",
    "ax.set_ylabel('Glycogen', color='b')\n",
    "ax2.set_ylabel('Glucose', color='r')"
   ]
  },
  {
   "cell_type": "code",
   "execution_count": null,
   "metadata": {},
   "outputs": [],
   "source": []
  },
  {
   "cell_type": "markdown",
   "metadata": {},
   "source": [
    "### Making Df of metabolites and reactions, exporting them, and importing to form MASS model"
   ]
  },
  {
   "cell_type": "code",
   "execution_count": null,
   "metadata": {},
   "outputs": [],
   "source": [
    "# from cobra_dict import metabolite_to_dict as metabolite_to_dict\n",
    "# from cobra_dict import reaction_to_dict as reaction_to_dict"
   ]
  },
  {
   "cell_type": "code",
   "execution_count": null,
   "metadata": {},
   "outputs": [],
   "source": [
    "# met_df=pd.DataFrame()\n",
    "# for met in trial.metabolites:\n",
    "#     cobra_met= trial.metabolites.get_by_id(met.id)\n",
    "#     m=metabolite_to_dict(cobra_met)\n",
    "#     df_2=pd.DataFrame.from_dict(m,orient='index')\n",
    "#     df_2=df_2.T\n",
    "#     met_df=pd.concat([met_df, df_2])\n",
    "# met_df=met_df.set_index('id')\n",
    "# met_df"
   ]
  },
  {
   "cell_type": "code",
   "execution_count": null,
   "metadata": {},
   "outputs": [],
   "source": [
    "# csv_met_cobra = os.path.join(data_dir,\"core_cobra_met.csv\")\n",
    "# met_df.to_csv(csv_met_cobra)"
   ]
  },
  {
   "cell_type": "code",
   "execution_count": null,
   "metadata": {},
   "outputs": [],
   "source": [
    "# rxn_df=pd.DataFrame()\n",
    "# for rxn in trial.reactions:\n",
    "#     cobra_rxn= trial.reactions.get_by_id(rxn.id)\n",
    "#     r=reaction_to_dict(cobra_rxn)\n",
    "# #     print(r)\n",
    "#     df=pd.DataFrame.from_dict(r,orient='index')\n",
    "#     df=df.T\n",
    "#     rxn_df= pd.concat([rxn_df, df])\n",
    "# rxn_df=rxn_df.set_index('id')\n",
    "# # rxn_df"
   ]
  },
  {
   "cell_type": "code",
   "execution_count": null,
   "metadata": {},
   "outputs": [],
   "source": [
    "# json_rxn_cobra = os.path.join(data_dir,\"core_cobra_rxn.json\")\n",
    "# rxn_df.to_json(json_rxn_cobra,orient=\"index\")"
   ]
  },
  {
   "cell_type": "markdown",
   "metadata": {},
   "source": [
    "## Making MASS model of glycolysis"
   ]
  },
  {
   "cell_type": "code",
   "execution_count": null,
   "metadata": {},
   "outputs": [],
   "source": [
    "liver= MassModel(\"Core_Model\", array_type='DataFrame', dtype=np.int64)"
   ]
  },
  {
   "cell_type": "markdown",
   "metadata": {},
   "source": [
    "#### Add the pathway metabolites and their information to a new MASS model from COBRA model"
   ]
  },
  {
   "cell_type": "code",
   "execution_count": null,
   "metadata": {},
   "outputs": [],
   "source": [
    "csv_met = os.path.join(data_dir,\"small_core_met_df.csv\")\n",
    "json_rxn = os.path.join(data_dir,\"small_core_reaction_df.json\")"
   ]
  },
  {
   "cell_type": "code",
   "execution_count": null,
   "metadata": {},
   "outputs": [],
   "source": [
    "# making dataframe of metabolites\n",
    "import json\n",
    "met_csv_df = pd.read_csv(csv_met,index_col=\"id\")\n",
    "mass_metabolite_info=met_csv_df.to_dict(orient='index')\n",
    "\n",
    "# Loading reaction data as JSON file to maintain data types as dictionaries \n",
    "\n",
    "with open(json_rxn) as json_file:\n",
    "    mass_rxn_data = json.load(json_file)"
   ]
  },
  {
   "cell_type": "code",
   "execution_count": null,
   "metadata": {},
   "outputs": [],
   "source": [
    "mass_metabolite_info"
   ]
  },
  {
   "cell_type": "code",
   "execution_count": null,
   "metadata": {},
   "outputs": [],
   "source": [
    "#  Add all the remaining metabolites involved in the pathway\n",
    "for met_id, info in mass_metabolite_info.items():\n",
    "    met = MassMetabolite(met_id, name=info['name'], formula=info['formula'], \n",
    "                           charge=info['charge'], compartment=info['compartment'])\n",
    "    # print(met.compartment)\n",
    "    liver.add_metabolites(met)"
   ]
  },
  {
   "cell_type": "code",
   "execution_count": null,
   "metadata": {},
   "outputs": [],
   "source": [
    "for reaction, info in mass_rxn_data.items():\n",
    "    reaction_obj = MassReaction(reaction)\n",
    "    reaction_obj.id = reaction\n",
    "    reaction= reaction_obj.id\n",
    "    reaction_obj.lower_bound = info['lower_bound']\n",
    "    reaction_obj.upper_bound = info['upper_bound']\n",
    "    reaction_obj.name = info['name']\n",
    "    liver.add_reactions(reaction_obj)\n",
    "    temp=info['metabolites']\n",
    "    reaction_obj.add_metabolites(temp)\n",
    "    print(reaction)"
   ]
  },
  {
   "cell_type": "code",
   "execution_count": null,
   "metadata": {},
   "outputs": [],
   "source": [
    "liver.reactions.PGK.reverse_stoichiometry(inplace=True)\n",
    "liver.reactions.PGM.reverse_stoichiometry(inplace=True)"
   ]
  },
  {
   "cell_type": "code",
   "execution_count": null,
   "metadata": {},
   "outputs": [],
   "source": [
    "from mass.io import json, sbml"
   ]
  },
  {
   "cell_type": "code",
   "execution_count": null,
   "metadata": {},
   "outputs": [],
   "source": [
    "mass_small_core = os.path.join(model_dir,\"Mass_small_core_model.json\")\n",
    "json.save_json_model(mass_model=liver, filename=mass_small_core)"
   ]
  },
  {
   "cell_type": "markdown",
   "metadata": {},
   "source": [
    "## Setting initial conditions"
   ]
  },
  {
   "cell_type": "code",
   "execution_count": null,
   "metadata": {},
   "outputs": [],
   "source": [
    "import csv\n",
    "import openpyxl"
   ]
  },
  {
   "cell_type": "code",
   "execution_count": null,
   "metadata": {},
   "outputs": [],
   "source": [
    "#Function to load data from the excel sheet\n",
    "def load_data(filepath, sheet_name):\n",
    "    \"\"\"Load Liver data from an excel sheet\"\"\"\n",
    "    df = pd.read_excel(engine='openpyxl',\n",
    "        io=filepath,\n",
    "        sheet_name=sheet_name,\n",
    "        index_col=0)\n",
    "    return df"
   ]
  },
  {
   "cell_type": "code",
   "execution_count": null,
   "metadata": {},
   "outputs": [],
   "source": [
    "#Compare Results\n",
    "excel_ic = os.path.join(data_dir,\"Concentrations2.xlsx\")\n",
    "# ic_df = pd.read_csv(csv_ic)\n",
    "# ic_df.set_index()\n",
    "ic_info_all = load_data(\n",
    "    filepath=excel_ic,\n",
    "    sheet_name=\"Concentrations\")\n",
    "ic_info_all.reset_index(level='ID', col_level=1, inplace=True)\n",
    "ic_info_all"
   ]
  },
  {
   "cell_type": "code",
   "execution_count": null,
   "metadata": {},
   "outputs": [],
   "source": [
    "conc_df =pd.DataFrame(ic_info_all.loc[:,[\"ID\",\"Concentration (M)\"]])\n",
    "conc_df.set_index('ID',drop=True,inplace=True)\n",
    "conc_df"
   ]
  },
  {
   "cell_type": "code",
   "execution_count": null,
   "metadata": {},
   "outputs": [],
   "source": [
    "# new_index= []\n",
    "# for i in conc_df.index:\n",
    "#     base = conc_df.index.get_loc(i)\n",
    "#     # print(base)\n",
    "#     # l = len(i)\n",
    "#     # new = i[:l-2]\n",
    "#     # new_index.append(new)\n",
    "#     # print(new)\n",
    "#     # conc_df.index.get_loc(base) = new\n",
    "#     # new_id = i.rpartition(\"_\" + str(met.compartment))[0]\n",
    "\n",
    "# conc_df= conc_df.reset_index(drop=True)\n",
    "# conc_df[\"ID\"] = new_index\n",
    "# conc_df.set_index('ID',drop=True,inplace=True)\n",
    "# conc_df"
   ]
  },
  {
   "cell_type": "code",
   "execution_count": null,
   "metadata": {},
   "outputs": [],
   "source": [
    "print(\"Initial Conditions\\n------------------\")\n",
    "\n",
    "for reaction in liver.reactions:\n",
    "    #Setting inital condition of metabolties from HEPATOKIN  #M \n",
    "    for met in reaction.metabolites:\n",
    "        if met.id in conc_df.index:\n",
    "            mid=met.id\n",
    "            metabolite = reaction.metabolites\n",
    "            ic_value = conc_df.loc[mid,'Concentration (M)']\n",
    "            # print(ic_value)\n",
    "            # row = [mid,ic_value]\n",
    "            # column = [ic_value]\n",
    "            # conc_df.append(row)\n",
    "            met.ic =  ic_value    \n",
    "                    \n",
    "for metabolite, ic_value in liver.initial_conditions.items():\n",
    "    print(\"{0}: {1}\".format(metabolite, ic_value))"
   ]
  },
  {
   "cell_type": "markdown",
   "metadata": {},
   "source": [
    "### Getting Standard and Physiological Gibbs energies of reactions to get Keq of reactions"
   ]
  },
  {
   "cell_type": "code",
   "execution_count": null,
   "metadata": {},
   "outputs": [],
   "source": [
    "met_list = []\n",
    "\n",
    "for reaction in liver.boundary_conditions:\n",
    "    print(reaction)"
   ]
  },
  {
   "cell_type": "code",
   "execution_count": null,
   "metadata": {},
   "outputs": [],
   "source": [
    "excluded_reactions=[\"ATPM\", \"NADHM\",\"PYRt2m\",\"PEPtm\"]\n"
   ]
  },
  {
   "cell_type": "code",
   "execution_count": null,
   "metadata": {},
   "outputs": [],
   "source": [
    "for reaction in liver.boundary:\n",
    "    excluded_reactions.append(reaction.id)\n",
    "    reaction.Keq=1    # Setting Keq\n",
    "    print(reaction,reaction.Keq)"
   ]
  },
  {
   "cell_type": "code",
   "execution_count": null,
   "metadata": {},
   "outputs": [],
   "source": [
    "# Reactions that we don't want to get Keq from equilibrator [exchanges and psuedoreactions] SET THESE MANUALLY\n",
    "# Setting Keq and kf for boundary reactions\n",
    "print(\"Boundary Reactions and Values\\n-----------------------------\")\n",
    "\n",
    "for reaction in liver.boundary:\n",
    "    excluded_reactions.append(reaction.id)\n",
    "    reaction.Keq=1    # Setting Keq\n",
    "    reaction.kf=1e6     # Setting kf\n",
    "    #Setting boundary condition metabolties from ic of metabolite from HEPATOKIN   \n",
    "    for met in reaction.reactants:\n",
    "        if met.id in conc_df.index:\n",
    "            mid=met.id\n",
    "            boundary_met = reaction.boundary_metabolite\n",
    "            bcvalue = conc_df.loc[mid,'Concentration (M)']\n",
    "            liver.boundary_conditions[boundary_met] =  bcvalue\n",
    "            bc_value = liver.boundary_conditions.get(boundary_met)\n",
    "            print(\"{0}\\n{1}: {2}\\n\".format(reaction, boundary_met, bc_value))"
   ]
  },
  {
   "cell_type": "code",
   "execution_count": null,
   "metadata": {},
   "outputs": [],
   "source": [
    "reaction_str= []\n",
    "cc = ComponentContribution()\n",
    "# optional: changing the aqueous environment parameters\n",
    "cc.p_h = Q_(7.4)\n",
    "cc.p_mg = Q_(3.31)\n",
    "cc.ionic_strength = Q_(\"0.144M\")\n",
    "\n",
    "\n",
    "cc.temperature = Q_(\"310.15K\")\n",
    "R = 0.00831446261815324 #R = 0.00831446261815324 kJ/mol\n",
    "from numpy import *\n",
    "Keq_df=pd.DataFrame(columns=[\"Reaction\",\"Keq\"])\n",
    "# Keq_df"
   ]
  },
  {
   "cell_type": "code",
   "execution_count": null,
   "metadata": {},
   "outputs": [],
   "source": [
    "# Getting Keq from equilibrator by forming a reaction string that it can parse through\n",
    "for reaction in liver.reactions:\n",
    "    if reaction.id not in excluded_reactions:\n",
    "        reactants = []\n",
    "        #forming reaction string \n",
    "        for met in reaction.reactants:\n",
    "            id_coeff= reaction.get_coefficient(met)\n",
    "            new_id = met.id\n",
    "            new_id = met.id.rpartition(\"_\" + str(met.compartment))[0] #removing compartment lettes, for eg \"_c\"\n",
    "            if id_coeff == 1 or id_coeff == -1:\n",
    "                new_id = \"bigg.metabolite:\" + new_id\n",
    "            else:\n",
    "                new_id = str(id_coeff) + \" bigg.metabolite:\" + new_id\n",
    "\n",
    "            reactants.append(new_id)   \n",
    "        reactants_string= \" + \".join(reactants)\n",
    "        reactants_string = str(reactants_string + \" = \")\n",
    "\n",
    "        # Forming product string\n",
    "        products = []\n",
    "        for met in reaction.products:\n",
    "            new_id = met.id\n",
    "            new_id = met.id.rpartition(\"_\" + str(met.compartment))[0] # removing compartment lettes, for eg \"_c\"\n",
    "            new_id = \"bigg.metabolite:\" + new_id\n",
    "            products.append(new_id)   \n",
    "        products_string= \" + \".join(products)\n",
    "\n",
    "        #final reaction to parse\n",
    "        reaction_to_parse = reactants_string + products_string         \n",
    "        # print(reaction_to_parse)\n",
    "        rxn_parsed = cc.parse_reaction_formula(reaction_to_parse)\n",
    "        print(reaction.id)\n",
    "\n",
    "        #Getting Gibbs energies\n",
    "        dG0_prime = cc.standard_dg_prime(rxn_parsed)\n",
    "    #         print(f\"ΔG'° = {dG0_prime}\")\n",
    "        dGm_prime = cc.physiological_dg_prime(rxn_parsed)\n",
    "        dG_prime_value_in_kj_per_mol = dGm_prime.value.m_as(\"kJ/mol\")\n",
    "        dG0prime_value_in_kj_per_mol = dG0_prime.value.m_as(\"kJ/mol\")\n",
    "    #     print(f\"ΔG'm = {dG_prime_value_in_kj_per_mol}\")\n",
    "        delG = dG_prime_value_in_kj_per_mol\n",
    "\n",
    "        # Calculating Keq from delG\n",
    "        a = exp(-delG/ (R*310.15)) \n",
    "        reaction.Keq = a\n",
    "        print(f\"Keq = {a}\")\n",
    "#         list_keq=[reaction,a]\n",
    "#         rxn_keq=pd.DataFrame(list_keq)\n",
    "        # df = pd.DataFrame([[reaction,a]], columns=[\"Reaction\",\"Keq\"])\n",
    "        # Keq_df.append(df)\n",
    "\n",
    "# Keq_df    "
   ]
  },
  {
   "cell_type": "code",
   "execution_count": null,
   "metadata": {},
   "outputs": [],
   "source": [
    "weird_rxn = [\"GLGNS1\", 'GGNG', 'ATPM', 'PEPtm', 'PYRt2m']\n",
    "for r in weird_rxn:\n",
    "    reaction_obj = liver.reactions.get_by_id(r)\n",
    "    reaction_obj.Keq = 1"
   ]
  },
  {
   "cell_type": "code",
   "execution_count": null,
   "metadata": {},
   "outputs": [],
   "source": [
    "print(\"Equilibrium Constants\\n---------------------\")\n",
    "for reaction in liver.reactions:\n",
    "    print(\"{0}: {1}\".format(reaction.Keq_str, reaction.Keq))"
   ]
  },
  {
   "cell_type": "code",
   "execution_count": null,
   "metadata": {},
   "outputs": [],
   "source": [
    "from mass.util.matrix import left_nullspace, matrix_rank"
   ]
  },
  {
   "cell_type": "code",
   "execution_count": null,
   "metadata": {},
   "outputs": [],
   "source": [
    "print(liver.S.shape)\n",
    "print(matrix_rank(liver.S))\n",
    "\n"
   ]
  },
  {
   "cell_type": "markdown",
   "metadata": {},
   "source": [
    "##  Set Fluxes"
   ]
  },
  {
   "cell_type": "code",
   "execution_count": null,
   "metadata": {},
   "outputs": [],
   "source": [
    "fluxes_mass = solution.to_frame()\n",
    "fluxes_mass"
   ]
  },
  {
   "cell_type": "code",
   "execution_count": null,
   "metadata": {},
   "outputs": [],
   "source": [
    "fluxes_mass.loc[\"HEX1\"]"
   ]
  },
  {
   "cell_type": "code",
   "execution_count": null,
   "metadata": {},
   "outputs": [],
   "source": [
    "no_flux =[]\n",
    "for r in liver.reactions:\n",
    "    if r.id in fluxes_mass.index:\n",
    "        flux =  fluxes_mass.loc[r.id,\"fluxes\"]\n",
    "        # reaction = liver.reactions.get_by_id\n",
    "        r.steady_state_flux = flux\n",
    "        # print(r.id, r.steady_state_flux)\n",
    "        \n",
    "    else:\n",
    "        no_flux.append(r.id)\n",
    "\n",
    "no_flux"
   ]
  },
  {
   "cell_type": "code",
   "execution_count": null,
   "metadata": {},
   "outputs": [],
   "source": [
    "metabolite_ids = [m.id for m in liver.metabolites]"
   ]
  },
  {
   "cell_type": "code",
   "execution_count": null,
   "metadata": {},
   "outputs": [],
   "source": [
    "liver.S"
   ]
  },
  {
   "cell_type": "code",
   "execution_count": null,
   "metadata": {},
   "outputs": [],
   "source": [
    "liver_ss_rxn = []\n",
    "for i,v in liver.steady_state_fluxes.items():\n",
    "    print(i)\n",
    "    liver_ss_rxn.append(i.id)"
   ]
  },
  {
   "cell_type": "code",
   "execution_count": null,
   "metadata": {},
   "outputs": [],
   "source": [
    "len(liver.reactions)"
   ]
  },
  {
   "cell_type": "code",
   "execution_count": null,
   "metadata": {},
   "outputs": [],
   "source": [
    "not_in_liver=[]\n",
    "for i in liver.reactions:\n",
    "    if i.id not in liver_ss_rxn:\n",
    "        not_in_liver.append(i.id)\n",
    "        print(i.id)"
   ]
  },
  {
   "cell_type": "code",
   "execution_count": null,
   "metadata": {},
   "outputs": [],
   "source": [
    "liver.S.dot(np.array(list(liver.steady_state_fluxes.values())))"
   ]
  },
  {
   "cell_type": "code",
   "execution_count": null,
   "metadata": {},
   "outputs": [],
   "source": [
    "pd.DataFrame(\n",
    "    liver.S.dot(np.array(list(liver.steady_state_fluxes.values()))),\n",
    "    index=metabolite_ids,\n",
    "    columns=[r\"$\\textbf{Sv}_{\\mathrm{stst}}$\"]).T\n",
    "\n"
   ]
  },
  {
   "cell_type": "code",
   "execution_count": null,
   "metadata": {},
   "outputs": [],
   "source": [
    "reaction_list=[]\n",
    "for reaction in liver.reactions:\n",
    "    reaction_list.append(reaction.id)\n"
   ]
  },
  {
   "cell_type": "code",
   "execution_count": null,
   "metadata": {},
   "outputs": [],
   "source": [
    "# for reaction, flux in fluxes_mean.itertuples():\n",
    "#     # print(flux)\n",
    "#     reaction = liver.reactions.get_by_id(reaction)\n",
    "#     reaction.steady_state_flux = flux * 1278.605 / 1000 # mmol/gdW*hr --> mmol/L * hr ---> mol/L*hr\n",
    "#     print(\"{0}: {1}\".format(reaction.flux_symbol_str,\n",
    "#                             reaction.steady_state_flux))"
   ]
  },
  {
   "cell_type": "markdown",
   "metadata": {},
   "source": [
    "## Set H2O/H Constants"
   ]
  },
  {
   "cell_type": "code",
   "execution_count": null,
   "metadata": {},
   "outputs": [],
   "source": [
    "# Set concentrations of hydrogen, water as fixed\n",
    "# Assume hydrogen in all compartments are fixed \n",
    "for metabolite in [\n",
    "\"h_c\",'h_i', 'h_m', \n",
    "    \n",
    "#     'h_e','h_m',\n",
    "#     'h2o_r','h2o_e',\n",
    "    \"h2o_c\",'h2o_m', \n",
    "#     \"glc__D_e\", \"pi_e\",'pi_m',\n",
    "    'pi_c', 'pi_m']:\n",
    "    metabolite = liver.metabolites.get_by_id(metabolite)\n",
    "    metabolite.fixed = True"
   ]
  },
  {
   "cell_type": "code",
   "execution_count": null,
   "metadata": {},
   "outputs": [],
   "source": [
    "for metabolite in [\n",
    "'h_i', 'h_m',\n",
    "\"h_c\", \n",
    "#     'h_e',\n",
    "\"h2o_c\",'h2o_m'\n",
    "]:\n",
    "    metabolite = liver.metabolites.get_by_id(metabolite)\n",
    "    metabolite.ic = 1 #M"
   ]
  },
  {
   "cell_type": "code",
   "execution_count": null,
   "metadata": {},
   "outputs": [],
   "source": [
    "seed = int(4)\n",
    "n_models = 5000"
   ]
  },
  {
   "cell_type": "code",
   "execution_count": null,
   "metadata": {},
   "outputs": [],
   "source": [
    "#Formulate QP minimization list for concentrations\n",
    "conc_solver = ConcSolver(\n",
    "    liver, \n",
    "    excluded_metabolites=[\n",
    "    \"h_c\",\n",
    "    'h_i', 'h_m',\n",
    "    # 'o2_m', 'o2_c', \n",
    "#         'h_e', 'h_m',\n",
    "#     'h2o_r','h2o_e',\n",
    "        \"h2o_c\",'h2o_m',\n",
    "        \n",
    "#     \"pi_e\",\n",
    "    # \"glc__D_e\",\n",
    "#  \"lac__L_e\",\n",
    "#     \"pyr_e\"\n",
    "    ], \n",
    "    excluded_reactions=[\n",
    "        \n",
    "# 'NADPHM',\n",
    " \"PYRt2m\",\"PEPtm\", 'Htmi','MALtm', 'ATPtm', 'AKGMALtm','O2tm','H2Otm',  'CO2tm', 'PItm' ,'Htm'\n",
    "        \n",
    "        \n",
    "    #     \"Ht\", \"H2Ot\", \"H2Oter\",'PIter','PIt',\n",
    "    # 'G6Pter','GLCter','GLCt1','PYRt2m','PEPtm',\n",
    "    # 'L_LACt2r','PYRt2'\n",
    "    ],\n",
    "\n",
    "    constraint_buffer=1)\n",
    "\n",
    "conc_solver.setup_feasible_qp_problem(\n",
    "fixed_conc_bounds=list(liver.fixed))\n",
    "# fixed_Keq_bounds=liver.reactions.list_attr(\"Keq_str\")\n",
    "    \n",
    "#assumption: provide uncertainity to allow for a variance for the Keqs rather than staying fixed\n",
    "conc_solver.setup_feasible_qp_problem(Keq_percent_deviation=0.1)\n",
    "\n",
    "conc_solution = conc_solver.optimize()\n",
    "conc_solution"
   ]
  },
  {
   "cell_type": "code",
   "execution_count": null,
   "metadata": {},
   "outputs": [],
   "source": [
    "conc_solver.setup_sampling_problem(\n",
    "    fixed_conc_bounds=list(liver.fixed),\n",
    "    fixed_Keq_bounds=liver.reactions.list_attr(\"Keq_str\"))\n",
    "for variable in conc_solver.variables:\n",
    "    try:\n",
    "        met = liver.metabolites.get_by_id(variable.name)\n",
    "        variable.lb, variable.ub = np.log([met.ic / 10, met.ic * 10])\n",
    "    except:\n",
    "        pass\n",
    "conc_samples = sample_concentrations(conc_solver, n=n_models,  processes=4, seed=seed)\n",
    "conc_samples.head()\n"
   ]
  },
  {
   "cell_type": "code",
   "execution_count": null,
   "metadata": {},
   "outputs": [],
   "source": [
    "type(conc_samples)"
   ]
  },
  {
   "cell_type": "code",
   "execution_count": null,
   "metadata": {},
   "outputs": [],
   "source": [
    "mean_conc = pd.DataFrame(index = conc_samples.columns)\n",
    "means =[]\n",
    "std=[]\n",
    "for i in conc_samples.columns:\n",
    "    index = conc_samples[i].mean()\n",
    "    # print(index)\n",
    "    means.append(index)\n",
    "    std.append(conc_samples[i].std())\n",
    "mean_conc[\"Mean\"] = means\n",
    "mean_conc[\"ST_dev\"] = std\n",
    "mean_conc"
   ]
  },
  {
   "cell_type": "code",
   "execution_count": null,
   "metadata": {},
   "outputs": [],
   "source": [
    "print(\"Initial Conditions\\n------------------\")\n",
    "\n",
    "for reaction in liver.reactions:\n",
    "    #Setting inital condition of metabolties from HEPATOKIN  #M \n",
    "    for met in reaction.metabolites:\n",
    "        if met.id in mean_conc.index:\n",
    "            mid=met.id\n",
    "            metabolite = reaction.metabolites\n",
    "            ic_value = mean_conc.loc[mid,'Mean']\n",
    "            row = [mid,ic_value]\n",
    "            # column = [ic_value]\n",
    "            # conc_df.append(row)\n",
    "            met.ic =  ic_value            \n",
    "for metabolite, ic_value in liver.initial_conditions.items():\n",
    "    print(\"{0}: {1}\".format(metabolite, ic_value))"
   ]
  },
  {
   "cell_type": "code",
   "execution_count": null,
   "metadata": {},
   "outputs": [],
   "source": [
    "# Keq_data = pd.read_csv(\"./data/analysis_data/equilibrium_constants.csv\", index_col=0)\n",
    "\n",
    "# Keq_data_comparison_fig, ax = plt.subplots(nrows=1, ncols=1, figsize=(5, 5))\n",
    "# plot_comparison(\n",
    "#     x=Keq_data[\"Initial\"], y=Keq_data[\"Adjusted\"], ax=ax,\n",
    "#     title=\"Equilibrium Constants comparison\",\n",
    "#     legend=\"right outside\", plot_function=\"loglog\",\n",
    "#     xlim=(1e-5, 1e5), ylim=(1e-5, 1e5), \n",
    "#     xy_line=True,\n",
    "#     xy_legend=\"best\", xlabel=\"Initial\", ylabel=\"Adjusted\")\n",
    "\n",
    "# Keq_data_comparison_fig.tight_layout()"
   ]
  },
  {
   "cell_type": "code",
   "execution_count": null,
   "metadata": {},
   "outputs": [],
   "source": [
    "Boundary= [\n",
    "    \"ATPM\",\n",
    "    \n",
    "#     'EX_nad_c',\n",
    "    # \"EX_lac__L_c\"\n",
    "]\n",
    "for x in Boundary:\n",
    "    a=liver.reactions.get_by_id(x)\n",
    "    a.kf=1e6"
   ]
  },
  {
   "cell_type": "code",
   "execution_count": null,
   "metadata": {},
   "outputs": [],
   "source": []
  },
  {
   "cell_type": "code",
   "execution_count": null,
   "metadata": {},
   "outputs": [],
   "source": [
    "#Formulate QP minimization list for concentrations\n",
    "conc_solver = ConcSolver(\n",
    "    liver, \n",
    "    excluded_metabolites=[\n",
    "    \"h\",'h2o',\n",
    "    \n",
    "#         'h_e',\n",
    "#  'h_m',\n",
    "#     'h2o_r','h2o_e',\n",
    "        'pi',\n",
    "    # 'pi_c',\n",
    "#     \"pi_e\",\n",
    "\"glc__D\",\n",
    "#     \"glc__D_e\", \"lac__L_e\",\n",
    "#     \"pyr_e\"\n",
    "    ], \n",
    "    excluded_reactions=[\n",
    "        # \"Ht\", \"H2Ot\", \"H2Oter\",'PIter','PIt',\n",
    "#     'G6Pter','GLCter','GLCt1',\n",
    "'PYRt2m','PEPtm',\n",
    "'NADHM','ATPM',\n",
    "'CO2tm', 'ATPtm', 'Htm','PIt2m'\n",
    "    # 'L_LACt2r','PYRt2'\n",
    "    ],\n",
    "\n",
    "    constraint_buffer=1)\n",
    "\n",
    "conc_solver.setup_feasible_qp_problem(\n",
    "fixed_conc_bounds=list(liver.fixed))\n",
    "# fixed_Keq_bounds=liver.reactions.list_attr(\"Keq_str\")\n",
    "    \n",
    "#assumption: provide uncertainity to allow for a variance for the Keqs rather than staying fixed\n",
    "#conc_solver.setup_feasible_qp_problem(Keq_percent_deviation=0.1)\n",
    "\n",
    "conc_solution = conc_solver.optimize()\n",
    "conc_solution"
   ]
  },
  {
   "cell_type": "code",
   "execution_count": null,
   "metadata": {},
   "outputs": [],
   "source": [
    "conc_comparison_fig, ax = plt.subplots(nrows=1, ncols=1,\n",
    "                                       figsize=(5, 5))\n",
    "\n",
    "plot_comparison(\n",
    "    x=conc_df[\"Concentration (M)\"], y=conc_solution,\n",
    "    compare=\"concentrations\",\n",
    "    observable=[mid for mid in conc_df.index], ax=ax,\n",
    "    legend=\"right outside\", plot_function=\"loglog\", \n",
    "    xlim=(1e-6,0.02), ylim=(1e-6,1e-1),\n",
    "    xy_line=True,\n",
    "    xy_legend=\"best\", xlabel=\"Initial [mol/L]\", ylabel=\"Adjusted [mol/L]\")\n",
    "\n",
    "conc_comparison_fig.tight_layout()\n",
    "update_model_with_concentration_solution(\n",
    "    liver, conc_solution, concentrations=True, inplace=True)"
   ]
  },
  {
   "cell_type": "code",
   "execution_count": null,
   "metadata": {},
   "outputs": [],
   "source": [
    "liver.calculate_PERCs(fluxes={\n",
    "                r: v for r, v in liver.steady_state_fluxes.items()\n",
    "                if not (r.boundary  \n",
    "                       )\n",
    "}, update_reactions=True)\n",
    "# print(percs)                      \n",
    "\n",
    "# print(\"Forward Rate Constants\\n----------------------\")\n",
    "# for reaction in liver.reactions:\n",
    "#     print(\"{0}: {1:.6f}\".format(reaction.kf_str, reaction.kf))"
   ]
  },
  {
   "cell_type": "code",
   "execution_count": null,
   "metadata": {},
   "outputs": [],
   "source": [
    "#Function to add underscore in front of metabolite identifiers which start with a number\n",
    "## fix this only after getting Keq from equlibrator because bigg doesn't have _13dpg for example\n",
    "def prefix_number_id(id_str):\n",
    "    \"\"\"Prefix identifiers that start with numbers.\"\"\"\n",
    "    if re.match(r\"^\\d\", id_str):\n",
    "        id_str = \"_\" + id_str\n",
    "    return id_str"
   ]
  },
  {
   "cell_type": "code",
   "execution_count": null,
   "metadata": {},
   "outputs": [],
   "source": [
    "#Loop to edit the names using \"prefix_number_id\" function defined earlier\n",
    "for metabolite in liver.metabolites:\n",
    "    new_met_id = prefix_number_id(metabolite.id)\n",
    "    metabolite.id = new_met_id\n",
    "liver.repair()"
   ]
  },
  {
   "cell_type": "code",
   "execution_count": null,
   "metadata": {},
   "outputs": [],
   "source": [
    "qcqa_model(liver, parameters=True, concentrations=True,\n",
    "           fluxes=True, superfluous=True, elemental=True)"
   ]
  },
  {
   "cell_type": "code",
   "execution_count": null,
   "metadata": {},
   "outputs": [],
   "source": [
    "conc_solution.concentrations"
   ]
  },
  {
   "cell_type": "code",
   "execution_count": null,
   "metadata": {},
   "outputs": [],
   "source": [
    "liver.boundary_conditions['co2_b']=0.657953 ##M\n",
    "liver.boundary_conditions['gdp_b']=0.657953 ##M\n",
    "liver.boundary_conditions['gtp_b']=1.519864 ##M\n",
    "liver.boundary_conditions['h2o_b']=1 ##M\n",
    "liver.boundary_conditions['h_b']=1 ##M\n",
    "liver.boundary_conditions['hco3_b']=0.001827 ##M"
   ]
  },
  {
   "cell_type": "code",
   "execution_count": null,
   "metadata": {},
   "outputs": [],
   "source": [
    "# Setup simulation object\n",
    "simG=Simulation(liver, verbose=True)\n",
    "# Simulate from 0 to 1000 with 10001 points in the output\n",
    "conc_sol, flux_sol = simG.simulate(liver, time=(0, 1e8))\n",
    "# Quickly render and display time profiles\n",
    "conc_sol.view_time_profile()"
   ]
  },
  {
   "cell_type": "code",
   "execution_count": null,
   "metadata": {},
   "outputs": [],
   "source": [
    "# Loading reaction data as JSON file to maintain data types as dictionaries \n",
    "model_json = os.path.join(model_dir,\"Gly_Gluco_no_cmpt.json\")\n",
    "json.save_json_model(mass_model=liver, filename=model_json)"
   ]
  },
  {
   "cell_type": "code",
   "execution_count": null,
   "metadata": {},
   "outputs": [],
   "source": []
  },
  {
   "cell_type": "code",
   "execution_count": null,
   "metadata": {},
   "outputs": [],
   "source": []
  },
  {
   "cell_type": "code",
   "execution_count": null,
   "metadata": {},
   "outputs": [],
   "source": []
  }
 ],
 "metadata": {
  "interpreter": {
   "hash": "dac1de4d04d521f2478106b8cf0804304a8a54afaab58ac4b602c07888c6e2cc"
  },
  "kernelspec": {
   "display_name": "Python 3.8.12 ('massliver')",
   "language": "python",
   "name": "python3"
  },
  "language_info": {
   "codemirror_mode": {
    "name": "ipython",
    "version": 3
   },
   "file_extension": ".py",
   "mimetype": "text/x-python",
   "name": "python",
   "nbconvert_exporter": "python",
   "pygments_lexer": "ipython3",
   "version": "3.8.12"
  },
  "orig_nbformat": 4
 },
 "nbformat": 4,
 "nbformat_minor": 2
}
