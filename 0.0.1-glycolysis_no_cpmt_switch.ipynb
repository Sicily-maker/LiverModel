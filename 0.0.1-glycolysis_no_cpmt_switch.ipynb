{
 "cells": [
  {
   "cell_type": "markdown",
   "metadata": {},
   "source": [
    "# Liver Model Construction: Notebook"
   ]
  },
  {
   "cell_type": "markdown",
   "metadata": {},
   "source": [
    "Trying to get switch between glycolysis and gluconeogenesis without compartments. Copy of 0.0.1-glycolysis_gluco_w_out_comp_split \n",
    "\n",
    "started on 1 june 2022\n",
    "\n",
    "updates:\n",
    "- tryign to make a function to haave objective fucntion based on glucose conc"
   ]
  },
  {
   "cell_type": "code",
   "execution_count": 1,
   "metadata": {},
   "outputs": [
    {
     "name": "stdout",
     "output_type": "stream",
     "text": [
      "MASSpy version: 0.1.6\n"
     ]
    }
   ],
   "source": [
    "import os\n",
    "import re\n",
    "import warnings\n",
    "# from cobra.io import \n",
    "import cobra\n",
    "from cobra.io.json import *\n",
    "import escher\n",
    "import mass\n",
    "import numpy as np\n",
    "import pandas as pd\n",
    "import equilibrator_api\n",
    "from equilibrator_api import ComponentContribution, Q_\n",
    "import sympy as sym\n",
    "from cobra import Model, Reaction, Metabolite, DictList\n",
    "import cobra.test\n",
    "from os.path import join\n",
    "from mass.util import qcqa,qcqa_model\n",
    "from mass import (\n",
    "    MassConfiguration, MassMetabolite, MassModel,\n",
    "    MassReaction, Simulation, UnitDefinition)\n",
    "from mass.io.json import save_json_model as save_json_mass_model\n",
    "from mass.visualization import plot_comparison, plot_time_profile, plot_ensemble_phase_portrait, plot_ensemble_time_profile\n",
    "mass_config = MassConfiguration()\n",
    "mass_config.irreversible_Keq = float(\"inf\")\n",
    "print(\"MASSpy version: {0}\".format(mass.__version__))\n",
    "from six import iteritems\n",
    "import matplotlib.pyplot as plt\n",
    "from mass.thermo import (\n",
    "    ConcSolver, sample_concentrations,\n",
    "    update_model_with_concentration_solution)\n",
    "\n",
    "\n",
    "import cobra_dict as c_d\n",
    "import csv\n",
    "import altair as alt\n",
    "from minspan.minspan import minspan,nnz\n"
   ]
  },
  {
   "cell_type": "code",
   "execution_count": 2,
   "metadata": {},
   "outputs": [],
   "source": [
    "maps_dir = os.path.abspath(\"maps\")\n",
    "data_dir = os.path.abspath(\"data\")\n",
    "dir = os.path.abspath(\"\")\n",
    "model_dir = os.path.abspath(\"models\")\n",
    "minspan_dir= os.path.abspath(\"minspans_csv\")"
   ]
  },
  {
   "cell_type": "markdown",
   "metadata": {},
   "source": [
    "### Getting reactions and metabolite data from RECON 3D"
   ]
  },
  {
   "cell_type": "code",
   "execution_count": 3,
   "metadata": {},
   "outputs": [],
   "source": [
    "# making dataframe of metabolites\n",
    "\n",
    "csv_met = os.path.join(data_dir,\"gly_no_compts_met_df.csv\")\n",
    "met_csv_df = pd.read_csv(csv_met,index_col=\"id\")\n",
    "metabolite_info=met_csv_df.to_dict(orient='index')\n",
    "\n",
    "# making dataframe of reactions\n",
    "# csv_rxn = os.path.join(data_dir,\"gly_gluco_reaction_df.csv\")\n",
    "# rxn_csv_df = pd.read_csv(csv_rxn,index_col=\"id\") \n",
    "# reaction_info = rxn_csv_df.to_dict(orient='index')"
   ]
  },
  {
   "cell_type": "markdown",
   "metadata": {},
   "source": [
    "### Loading cobra model"
   ]
  },
  {
   "cell_type": "code",
   "execution_count": 4,
   "metadata": {},
   "outputs": [
    {
     "name": "stdout",
     "output_type": "stream",
     "text": [
      "Set parameter Username\n",
      "Academic license - for non-commercial use only - expires 2022-07-04\n"
     ]
    }
   ],
   "source": [
    "# Initiate empty model\n",
    "trial= cobra.Model()"
   ]
  },
  {
   "cell_type": "code",
   "execution_count": 5,
   "metadata": {},
   "outputs": [],
   "source": [
    "#  Add all the remaining metabolites involved in the pathway\n",
    "for met_id, info in metabolite_info.items():\n",
    "    met = cobra.Metabolite(met_id, name=info['name'], formula=info['formula'], \n",
    "                           charge=info['charge'], \n",
    "                        #    compartment=info['compartment']\n",
    "                           )\n",
    "    trial.add_metabolites(met)"
   ]
  },
  {
   "cell_type": "code",
   "execution_count": 6,
   "metadata": {},
   "outputs": [],
   "source": [
    "# Loading reaction data as JSON file to maintain data types as dictionaries \n",
    "rxn_json = os.path.join(data_dir,\"gly_no_compt_reaction_df.json\")\n",
    "with open(rxn_json) as json_file:\n",
    "    rxn_data = json.load(json_file)"
   ]
  },
  {
   "cell_type": "code",
   "execution_count": 7,
   "metadata": {},
   "outputs": [],
   "source": [
    "for reaction, info in rxn_data.items():\n",
    "    reaction_obj = cobra.Reaction(reaction)\n",
    "    reaction_obj.id=reaction\n",
    "    reaction= reaction_obj.id\n",
    "    reaction_obj.lower_bound = info['lower_bound']\n",
    "    reaction_obj.upper_bound = info['upper_bound']\n",
    "    reaction_obj.name = info['name']\n",
    "    trial.add_reaction(reaction_obj)\n",
    "    temp=info['metabolites']\n",
    "    reaction_obj.add_metabolites(temp)\n",
    "    # print(reaction)"
   ]
  },
  {
   "cell_type": "code",
   "execution_count": 8,
   "metadata": {},
   "outputs": [],
   "source": [
    "#adding NADHM \n",
    "nadhm = {'nadh': -1, 'h': 1, 'nad': 1}\n",
    "rxn = cobra.Reaction('NADHM')\n",
    "trial.add_reaction(rxn)\n",
    "rxn.add_metabolites(nadhm)\n",
    "\n",
    "\n",
    "\n",
    "\n",
    "# peptm = {'pep': -1, 'pi': -1, 'pi': 1, 'pep':1}\n",
    "# rxn2 = cobra.Reaction('PEPtm')\n",
    "# trial.add_reaction(rxn2)\n",
    "# rxn2.add_metabolites(peptm)\n",
    "\n",
    "\n",
    "\n",
    "g6pase = {'g6p': -1, 'h2o': -1, 'pi': 1, 'glc__D':1}\n",
    "rxn3 = cobra.Reaction('G6PP')\n",
    "trial.add_reaction(rxn3)\n",
    "rxn3.add_metabolites(g6pase)\n",
    "trial.reactions.G6PP.lower_bound=0\n",
    "\n"
   ]
  },
  {
   "cell_type": "code",
   "execution_count": 9,
   "metadata": {},
   "outputs": [],
   "source": [
    "trial.metabolites.h.charge= 1\n",
    "# trial.metabolites.h.charge= 1\n",
    "# trial.metabolites.h_e.charge= 1\n",
    "trial.metabolites.pi.charge= -2\n",
    "# trial.metabolites.pi_m.charge= -2"
   ]
  },
  {
   "cell_type": "code",
   "execution_count": 10,
   "metadata": {},
   "outputs": [
    {
     "name": "stdout",
     "output_type": "stream",
     "text": [
      "ATPM {}\n",
      "LDH_L {}\n",
      "PYK {}\n",
      "ENO {}\n",
      "PGM {}\n",
      "PGK {}\n",
      "GAPD {}\n",
      "TPI {}\n",
      "FBA {}\n",
      "PFK {}\n",
      "FBP {}\n",
      "PGI {}\n",
      "HEX1 {}\n",
      "NADHM {'charge': 2}\n",
      "G6PP {}\n"
     ]
    }
   ],
   "source": [
    "#Mass balance check\n",
    "for r in trial.reactions:\n",
    "    print(r.id,  r.check_mass_balance())"
   ]
  },
  {
   "cell_type": "code",
   "execution_count": 11,
   "metadata": {},
   "outputs": [
    {
     "name": "stdout",
     "output_type": "stream",
     "text": [
      "{}\n"
     ]
    }
   ],
   "source": [
    "print(trial.reactions.FBA.check_mass_balance())"
   ]
  },
  {
   "cell_type": "code",
   "execution_count": 12,
   "metadata": {},
   "outputs": [
    {
     "name": "stdout",
     "output_type": "stream",
     "text": [
      "EX_glc__D\n",
      "EX_h2o\n",
      "EX_h\n",
      "EX_pi\n",
      "EX_lac__L\n",
      "EX_atp\n",
      "EX_pyr\n"
     ]
    }
   ],
   "source": [
    "for met in ['glc__D', \n",
    "\n",
    "'h2o', 'h', 'pi','lac__L',\n",
    "# ,'o2','co2',\n",
    "\n",
    "# 'hco3', 'gtp',\n",
    "\n",
    "    #  'gdp',\n",
    "    #  'co2_m' ,\n",
    "        #  'h_m',\n",
    "    #  'pi', \n",
    "    # 'amp',\n",
    "    # seems to be very important (adp_m)\n",
    "    # 'adp',\n",
    "    'atp',\n",
    "    # 'amp_m',\n",
    "    'pyr', \n",
    "     ]:\n",
    "    rxn = cobra.Reaction('EX_%s' % met)\n",
    "    name = rxn.id\n",
    "    if name not in trial.reactions:\n",
    "        print(rxn.id)\n",
    "        trial.add_reaction(rxn)\n",
    "        rxn.add_metabolites({met: -1})\n",
    "        if met == 'glc__D':\n",
    "            rxn.lower_bound = -1 # by convention negative exchange flux = uptake\n",
    "        elif met == 'pyr':\n",
    "            rxn.lower_bound = -1000\n",
    "\n",
    "        else:\n",
    "            rxn.lower_bound = -1000"
   ]
  },
  {
   "cell_type": "code",
   "execution_count": 13,
   "metadata": {},
   "outputs": [],
   "source": [
    "#View all the reactions that we need build\n",
    "# escher_builder = escher.Builder(\n",
    "#     model=trial,\n",
    "#     map_json=os.path.join(\n",
    "#         maps_dir,\"Glycolysis_Gluconeogenesis_2.json\"),highlight_missing=True)\n",
    "\n",
    "# escher_builder"
   ]
  },
  {
   "cell_type": "markdown",
   "metadata": {},
   "source": [
    "Trying out fluxes from https://www.ncbi.nlm.nih.gov/pmc/articles/PMC6405515/ Network Modeling of Liver Metabolism to Predict Plasma Metabolite Changes During Short-Term Fasting in the Laboratory Rat"
   ]
  },
  {
   "cell_type": "code",
   "execution_count": 14,
   "metadata": {},
   "outputs": [],
   "source": [
    "# from cobra.flux_analysis.moma import moma"
   ]
  },
  {
   "cell_type": "code",
   "execution_count": 15,
   "metadata": {},
   "outputs": [
    {
     "name": "stdout",
     "output_type": "stream",
     "text": [
      "{}\n"
     ]
    }
   ],
   "source": [
    "# moma?\n",
    "print(trial.reactions.FBA.check_mass_balance())"
   ]
  },
  {
   "cell_type": "code",
   "execution_count": 16,
   "metadata": {},
   "outputs": [
    {
     "data": {
      "text/html": [
       "<strong><em>Optimal</em> solution with objective value 0.000</strong><br><div>\n",
       "<style scoped>\n",
       "    .dataframe tbody tr th:only-of-type {\n",
       "        vertical-align: middle;\n",
       "    }\n",
       "\n",
       "    .dataframe tbody tr th {\n",
       "        vertical-align: top;\n",
       "    }\n",
       "\n",
       "    .dataframe thead th {\n",
       "        text-align: right;\n",
       "    }\n",
       "</style>\n",
       "<table border=\"1\" class=\"dataframe\">\n",
       "  <thead>\n",
       "    <tr style=\"text-align: right;\">\n",
       "      <th></th>\n",
       "      <th>fluxes</th>\n",
       "      <th>reduced_costs</th>\n",
       "    </tr>\n",
       "  </thead>\n",
       "  <tbody>\n",
       "    <tr>\n",
       "      <th>ATPM</th>\n",
       "      <td>0.0</td>\n",
       "      <td>0.0</td>\n",
       "    </tr>\n",
       "    <tr>\n",
       "      <th>LDH_L</th>\n",
       "      <td>0.0</td>\n",
       "      <td>0.0</td>\n",
       "    </tr>\n",
       "    <tr>\n",
       "      <th>PYK</th>\n",
       "      <td>0.0</td>\n",
       "      <td>0.0</td>\n",
       "    </tr>\n",
       "    <tr>\n",
       "      <th>ENO</th>\n",
       "      <td>0.0</td>\n",
       "      <td>-0.0</td>\n",
       "    </tr>\n",
       "    <tr>\n",
       "      <th>PGM</th>\n",
       "      <td>0.0</td>\n",
       "      <td>-0.0</td>\n",
       "    </tr>\n",
       "    <tr>\n",
       "      <th>...</th>\n",
       "      <td>...</td>\n",
       "      <td>...</td>\n",
       "    </tr>\n",
       "    <tr>\n",
       "      <th>EX_h</th>\n",
       "      <td>0.0</td>\n",
       "      <td>-0.0</td>\n",
       "    </tr>\n",
       "    <tr>\n",
       "      <th>EX_pi</th>\n",
       "      <td>0.0</td>\n",
       "      <td>-0.0</td>\n",
       "    </tr>\n",
       "    <tr>\n",
       "      <th>EX_lac__L</th>\n",
       "      <td>0.0</td>\n",
       "      <td>-0.0</td>\n",
       "    </tr>\n",
       "    <tr>\n",
       "      <th>EX_atp</th>\n",
       "      <td>0.0</td>\n",
       "      <td>-0.0</td>\n",
       "    </tr>\n",
       "    <tr>\n",
       "      <th>EX_pyr</th>\n",
       "      <td>0.0</td>\n",
       "      <td>-0.0</td>\n",
       "    </tr>\n",
       "  </tbody>\n",
       "</table>\n",
       "<p>22 rows × 2 columns</p>\n",
       "</div>"
      ],
      "text/plain": [
       "<Solution 0.000 at 0x221f4efc2e0>"
      ]
     },
     "execution_count": 16,
     "metadata": {},
     "output_type": "execute_result"
    }
   ],
   "source": [
    "\n",
    "flux_solution = trial.optimize()\n",
    "flux_solution"
   ]
  },
  {
   "cell_type": "code",
   "execution_count": 17,
   "metadata": {},
   "outputs": [
    {
     "data": {
      "text/plain": [
       "240.0"
      ]
     },
     "execution_count": 17,
     "metadata": {},
     "output_type": "execute_result"
    }
   ],
   "source": [
    "(14-2)/0.05"
   ]
  },
  {
   "cell_type": "code",
   "execution_count": 18,
   "metadata": {},
   "outputs": [],
   "source": [
    "# np.linspace?\n",
    "# for \n",
    "switch = pd.DataFrame(columns=[\"Gluc_conc\", \"Objective_val\"])\n",
    "range = np.linspace(2,14,num=240)\n",
    "list_objs=[]\n",
    "for i in range:\n",
    "    \n",
    "    if i >7.5:\n",
    "        trial.objective = 'ATPM'\n",
    "        flux_solution = trial.optimize()\n",
    "        obj_val = flux_solution.objective_value\n",
    "    else:\n",
    "        obj_val = 0\n",
    "    list_objs.append(obj_val)\n",
    "   \n",
    "switch[\"Gluc_conc\"] = range\n",
    "switch[\"Objective_val\"] = list_objs\n",
    "switch= switch.set_index(\"Gluc_conc\")\n",
    "\n",
    "        "
   ]
  },
  {
   "cell_type": "code",
   "execution_count": 19,
   "metadata": {},
   "outputs": [],
   "source": [
    "from matplotlib import pyplot as plt"
   ]
  },
  {
   "cell_type": "code",
   "execution_count": 20,
   "metadata": {},
   "outputs": [
    {
     "data": {
      "text/plain": [
       "<AxesSubplot:>"
      ]
     },
     "execution_count": 20,
     "metadata": {},
     "output_type": "execute_result"
    },
    {
     "data": {
      "image/png": "[encoded data removed]",
      "text/plain": [
       "<Figure size 432x288 with 1 Axes>"
      ]
     },
     "metadata": {
      "needs_background": "light"
     },
     "output_type": "display_data"
    }
   ],
   "source": [
    "fig, ax = plt.subplots(1,1)\n",
    "plt.plot(switch[\"Objective_val\"])\n",
    "ax"
   ]
  },
  {
   "cell_type": "code",
   "execution_count": null,
   "metadata": {},
   "outputs": [],
   "source": []
  },
  {
   "cell_type": "code",
   "execution_count": null,
   "metadata": {},
   "outputs": [],
   "source": []
  },
  {
   "cell_type": "code",
   "execution_count": 21,
   "metadata": {},
   "outputs": [
    {
     "data": {
      "text/plain": [
       "optlang.gurobi_interface.Constraint"
      ]
     },
     "execution_count": 21,
     "metadata": {},
     "output_type": "execute_result"
    }
   ],
   "source": [
    "trial.problem.Constraint"
   ]
  },
  {
   "cell_type": "code",
   "execution_count": 22,
   "metadata": {},
   "outputs": [],
   "source": [
    "same_flux = trial.problem.Constraint(\n",
    "    trial.reactions.PFK.flux_expression - trial.reactions.FBP.flux_expression,\n",
    "    lb=0,\n",
    "    ub=1)\n",
    "trial.add_cons_vars(same_flux)"
   ]
  },
  {
   "cell_type": "code",
   "execution_count": 23,
   "metadata": {},
   "outputs": [
    {
     "data": {
      "text/html": [
       "<strong><em>Optimal</em> solution with objective value 2.000</strong><br><div>\n",
       "<style scoped>\n",
       "    .dataframe tbody tr th:only-of-type {\n",
       "        vertical-align: middle;\n",
       "    }\n",
       "\n",
       "    .dataframe tbody tr th {\n",
       "        vertical-align: top;\n",
       "    }\n",
       "\n",
       "    .dataframe thead th {\n",
       "        text-align: right;\n",
       "    }\n",
       "</style>\n",
       "<table border=\"1\" class=\"dataframe\">\n",
       "  <thead>\n",
       "    <tr style=\"text-align: right;\">\n",
       "      <th></th>\n",
       "      <th>fluxes</th>\n",
       "      <th>reduced_costs</th>\n",
       "    </tr>\n",
       "  </thead>\n",
       "  <tbody>\n",
       "    <tr>\n",
       "      <th>ATPM</th>\n",
       "      <td>2.0</td>\n",
       "      <td>0.0</td>\n",
       "    </tr>\n",
       "    <tr>\n",
       "      <th>LDH_L</th>\n",
       "      <td>-2.0</td>\n",
       "      <td>-0.0</td>\n",
       "    </tr>\n",
       "    <tr>\n",
       "      <th>PYK</th>\n",
       "      <td>2.0</td>\n",
       "      <td>0.0</td>\n",
       "    </tr>\n",
       "    <tr>\n",
       "      <th>ENO</th>\n",
       "      <td>2.0</td>\n",
       "      <td>0.0</td>\n",
       "    </tr>\n",
       "    <tr>\n",
       "      <th>PGM</th>\n",
       "      <td>-2.0</td>\n",
       "      <td>-0.0</td>\n",
       "    </tr>\n",
       "    <tr>\n",
       "      <th>...</th>\n",
       "      <td>...</td>\n",
       "      <td>...</td>\n",
       "    </tr>\n",
       "    <tr>\n",
       "      <th>EX_h</th>\n",
       "      <td>2.0</td>\n",
       "      <td>0.0</td>\n",
       "    </tr>\n",
       "    <tr>\n",
       "      <th>EX_pi</th>\n",
       "      <td>0.0</td>\n",
       "      <td>0.0</td>\n",
       "    </tr>\n",
       "    <tr>\n",
       "      <th>EX_lac__L</th>\n",
       "      <td>2.0</td>\n",
       "      <td>0.0</td>\n",
       "    </tr>\n",
       "    <tr>\n",
       "      <th>EX_atp</th>\n",
       "      <td>0.0</td>\n",
       "      <td>-0.0</td>\n",
       "    </tr>\n",
       "    <tr>\n",
       "      <th>EX_pyr</th>\n",
       "      <td>0.0</td>\n",
       "      <td>-0.0</td>\n",
       "    </tr>\n",
       "  </tbody>\n",
       "</table>\n",
       "<p>22 rows × 2 columns</p>\n",
       "</div>"
      ],
      "text/plain": [
       "<Solution 2.000 at 0x2219f3fd520>"
      ]
     },
     "execution_count": 23,
     "metadata": {},
     "output_type": "execute_result"
    }
   ],
   "source": [
    "flux_solution = trial.optimize()\n",
    "flux_solution"
   ]
  },
  {
   "cell_type": "code",
   "execution_count": 24,
   "metadata": {},
   "outputs": [
    {
     "name": "stdout",
     "output_type": "stream",
     "text": [
      "0.0 1.0 2.0\n"
     ]
    }
   ],
   "source": [
    "solution = trial.optimize()\n",
    "print(solution.fluxes['FBP'], solution.fluxes['PFK'],\n",
    "      solution.objective_value)\n",
    "\n"
   ]
  },
  {
   "cell_type": "code",
   "execution_count": 25,
   "metadata": {},
   "outputs": [],
   "source": [
    "from cobra.flux_analysis import flux_variability_analysis"
   ]
  },
  {
   "cell_type": "code",
   "execution_count": 26,
   "metadata": {},
   "outputs": [
    {
     "data": {
      "text/html": [
       "<h3>Objective</h3><p>1.0 ATPM = 2.0</p><h4>Uptake</h4><table border=\"1\" class=\"dataframe\">\n",
       "  <thead>\n",
       "    <tr style=\"text-align: right;\">\n",
       "      <th>Metabolite</th>\n",
       "      <th>Reaction</th>\n",
       "      <th>Flux</th>\n",
       "      <th>Range</th>\n",
       "      <th>C-Number</th>\n",
       "      <th>C-Flux</th>\n",
       "    </tr>\n",
       "  </thead>\n",
       "  <tbody>\n",
       "    <tr>\n",
       "      <td>glc__D</td>\n",
       "      <td>EX_glc__D</td>\n",
       "      <td>1</td>\n",
       "      <td>[0.95;  1]</td>\n",
       "      <td>6</td>\n",
       "      <td>100.00%</td>\n",
       "    </tr>\n",
       "  </tbody>\n",
       "</table><h4>Secretion</h4><table border=\"1\" class=\"dataframe\">\n",
       "  <thead>\n",
       "    <tr style=\"text-align: right;\">\n",
       "      <th>Metabolite</th>\n",
       "      <th>Reaction</th>\n",
       "      <th>Flux</th>\n",
       "      <th>Range</th>\n",
       "      <th>C-Number</th>\n",
       "      <th>C-Flux</th>\n",
       "    </tr>\n",
       "  </thead>\n",
       "  <tbody>\n",
       "    <tr>\n",
       "      <td>h</td>\n",
       "      <td>EX_h</td>\n",
       "      <td>-2</td>\n",
       "      <td>[-1000;  -1.9]</td>\n",
       "      <td>0</td>\n",
       "      <td>0.00%</td>\n",
       "    </tr>\n",
       "    <tr>\n",
       "      <td>lac__L</td>\n",
       "      <td>EX_lac__L</td>\n",
       "      <td>-2</td>\n",
       "      <td>[-2;  497.1]</td>\n",
       "      <td>3</td>\n",
       "      <td>100.00%</td>\n",
       "    </tr>\n",
       "    <tr>\n",
       "      <td>pyr</td>\n",
       "      <td>EX_pyr</td>\n",
       "      <td>0</td>\n",
       "      <td>[-499;  0]</td>\n",
       "      <td>3</td>\n",
       "      <td>0.00%</td>\n",
       "    </tr>\n",
       "  </tbody>\n",
       "</table>"
      ],
      "text/plain": [
       "<cobra.summary.model_summary.ModelSummary at 0x2219d280eb0>"
      ]
     },
     "execution_count": 26,
     "metadata": {},
     "output_type": "execute_result"
    }
   ],
   "source": [
    "trial.optimize()\n",
    "trial.summary(fva=0.95)"
   ]
  },
  {
   "cell_type": "code",
   "execution_count": 27,
   "metadata": {},
   "outputs": [
    {
     "data": {
      "text/html": [
       "<div>\n",
       "<style scoped>\n",
       "    .dataframe tbody tr th:only-of-type {\n",
       "        vertical-align: middle;\n",
       "    }\n",
       "\n",
       "    .dataframe tbody tr th {\n",
       "        vertical-align: top;\n",
       "    }\n",
       "\n",
       "    .dataframe thead th {\n",
       "        text-align: right;\n",
       "    }\n",
       "</style>\n",
       "<table border=\"1\" class=\"dataframe\">\n",
       "  <thead>\n",
       "    <tr style=\"text-align: right;\">\n",
       "      <th></th>\n",
       "      <th>minimum</th>\n",
       "      <th>maximum</th>\n",
       "    </tr>\n",
       "  </thead>\n",
       "  <tbody>\n",
       "    <tr>\n",
       "      <th>ATPM</th>\n",
       "      <td>2.0</td>\n",
       "      <td>2.0</td>\n",
       "    </tr>\n",
       "    <tr>\n",
       "      <th>LDH_L</th>\n",
       "      <td>-2.0</td>\n",
       "      <td>497.0</td>\n",
       "    </tr>\n",
       "    <tr>\n",
       "      <th>PYK</th>\n",
       "      <td>2.0</td>\n",
       "      <td>2.0</td>\n",
       "    </tr>\n",
       "    <tr>\n",
       "      <th>ENO</th>\n",
       "      <td>2.0</td>\n",
       "      <td>2.0</td>\n",
       "    </tr>\n",
       "    <tr>\n",
       "      <th>PGM</th>\n",
       "      <td>-2.0</td>\n",
       "      <td>-2.0</td>\n",
       "    </tr>\n",
       "    <tr>\n",
       "      <th>PGK</th>\n",
       "      <td>-2.0</td>\n",
       "      <td>-2.0</td>\n",
       "    </tr>\n",
       "    <tr>\n",
       "      <th>GAPD</th>\n",
       "      <td>2.0</td>\n",
       "      <td>2.0</td>\n",
       "    </tr>\n",
       "    <tr>\n",
       "      <th>TPI</th>\n",
       "      <td>1.0</td>\n",
       "      <td>1.0</td>\n",
       "    </tr>\n",
       "    <tr>\n",
       "      <th>FBA</th>\n",
       "      <td>1.0</td>\n",
       "      <td>1.0</td>\n",
       "    </tr>\n",
       "    <tr>\n",
       "      <th>PFK</th>\n",
       "      <td>1.0</td>\n",
       "      <td>1.0</td>\n",
       "    </tr>\n",
       "    <tr>\n",
       "      <th>FBP</th>\n",
       "      <td>0.0</td>\n",
       "      <td>0.0</td>\n",
       "    </tr>\n",
       "    <tr>\n",
       "      <th>PGI</th>\n",
       "      <td>1.0</td>\n",
       "      <td>1.0</td>\n",
       "    </tr>\n",
       "    <tr>\n",
       "      <th>HEX1</th>\n",
       "      <td>1.0</td>\n",
       "      <td>1.0</td>\n",
       "    </tr>\n",
       "    <tr>\n",
       "      <th>NADHM</th>\n",
       "      <td>0.0</td>\n",
       "      <td>499.0</td>\n",
       "    </tr>\n",
       "    <tr>\n",
       "      <th>G6PP</th>\n",
       "      <td>0.0</td>\n",
       "      <td>0.0</td>\n",
       "    </tr>\n",
       "    <tr>\n",
       "      <th>EX_glc__D</th>\n",
       "      <td>-1.0</td>\n",
       "      <td>-1.0</td>\n",
       "    </tr>\n",
       "    <tr>\n",
       "      <th>EX_h2o</th>\n",
       "      <td>0.0</td>\n",
       "      <td>0.0</td>\n",
       "    </tr>\n",
       "    <tr>\n",
       "      <th>EX_h</th>\n",
       "      <td>2.0</td>\n",
       "      <td>1000.0</td>\n",
       "    </tr>\n",
       "    <tr>\n",
       "      <th>EX_pi</th>\n",
       "      <td>0.0</td>\n",
       "      <td>0.0</td>\n",
       "    </tr>\n",
       "    <tr>\n",
       "      <th>EX_lac__L</th>\n",
       "      <td>-497.0</td>\n",
       "      <td>2.0</td>\n",
       "    </tr>\n",
       "    <tr>\n",
       "      <th>EX_atp</th>\n",
       "      <td>0.0</td>\n",
       "      <td>0.0</td>\n",
       "    </tr>\n",
       "    <tr>\n",
       "      <th>EX_pyr</th>\n",
       "      <td>0.0</td>\n",
       "      <td>499.0</td>\n",
       "    </tr>\n",
       "  </tbody>\n",
       "</table>\n",
       "</div>"
      ],
      "text/plain": [
       "           minimum  maximum\n",
       "ATPM           2.0      2.0\n",
       "LDH_L         -2.0    497.0\n",
       "PYK            2.0      2.0\n",
       "ENO            2.0      2.0\n",
       "PGM           -2.0     -2.0\n",
       "PGK           -2.0     -2.0\n",
       "GAPD           2.0      2.0\n",
       "TPI            1.0      1.0\n",
       "FBA            1.0      1.0\n",
       "PFK            1.0      1.0\n",
       "FBP            0.0      0.0\n",
       "PGI            1.0      1.0\n",
       "HEX1           1.0      1.0\n",
       "NADHM          0.0    499.0\n",
       "G6PP           0.0      0.0\n",
       "EX_glc__D     -1.0     -1.0\n",
       "EX_h2o         0.0      0.0\n",
       "EX_h           2.0   1000.0\n",
       "EX_pi          0.0      0.0\n",
       "EX_lac__L   -497.0      2.0\n",
       "EX_atp         0.0      0.0\n",
       "EX_pyr         0.0    499.0"
      ]
     },
     "execution_count": 27,
     "metadata": {},
     "output_type": "execute_result"
    }
   ],
   "source": [
    "flux_variability_analysis(trial, trial.reactions)"
   ]
  },
  {
   "cell_type": "code",
   "execution_count": 28,
   "metadata": {},
   "outputs": [
    {
     "data": {
      "application/vnd.jupyter.widget-view+json": {
       "model_id": "58cc64712f2a45d382854fcc717ad9a0",
       "version_major": 2,
       "version_minor": 0
      },
      "text/plain": [
       "Builder(reaction_data={'ATPM': 2.0, 'LDH_L': -2.0, 'PYK': 2.0, 'ENO': 2.0, 'PGM': -2.0, 'PGK': -2.0, 'GAPD': 2…"
      ]
     },
     "metadata": {},
     "output_type": "display_data"
    }
   ],
   "source": [
    "#Escher FBA: shows the solutions on the map\n",
    "initial_flux_data = {\n",
    "    reaction: flux\n",
    "    for reaction, flux in flux_solution.fluxes.items()}\n",
    "\n",
    "#view all the reactions that we need build\n",
    "escher_builder = escher.Builder(\n",
    "    model=trial,\n",
    "    map_json=os.path.join(\n",
    "        maps_dir,\"Glycolysis_Gluconeogenesis_2.json\")\n",
    "    , reaction_data=initial_flux_data)\n",
    "\n",
    "# Display map in notebook\n",
    "escher_builder"
   ]
  },
  {
   "cell_type": "code",
   "execution_count": 29,
   "metadata": {},
   "outputs": [
    {
     "data": {
      "text/html": [
       "<strong><em>Optimal</em> solution with objective value 24.000</strong><br><div>\n",
       "<style scoped>\n",
       "    .dataframe tbody tr th:only-of-type {\n",
       "        vertical-align: middle;\n",
       "    }\n",
       "\n",
       "    .dataframe tbody tr th {\n",
       "        vertical-align: top;\n",
       "    }\n",
       "\n",
       "    .dataframe thead th {\n",
       "        text-align: right;\n",
       "    }\n",
       "</style>\n",
       "<table border=\"1\" class=\"dataframe\">\n",
       "  <thead>\n",
       "    <tr style=\"text-align: right;\">\n",
       "      <th></th>\n",
       "      <th>fluxes</th>\n",
       "      <th>reduced_costs</th>\n",
       "    </tr>\n",
       "  </thead>\n",
       "  <tbody>\n",
       "    <tr>\n",
       "      <th>ATPM</th>\n",
       "      <td>2.0</td>\n",
       "      <td>-2.0</td>\n",
       "    </tr>\n",
       "    <tr>\n",
       "      <th>LDH_L</th>\n",
       "      <td>-2.0</td>\n",
       "      <td>2.0</td>\n",
       "    </tr>\n",
       "    <tr>\n",
       "      <th>PYK</th>\n",
       "      <td>2.0</td>\n",
       "      <td>-2.0</td>\n",
       "    </tr>\n",
       "    <tr>\n",
       "      <th>ENO</th>\n",
       "      <td>2.0</td>\n",
       "      <td>-2.0</td>\n",
       "    </tr>\n",
       "    <tr>\n",
       "      <th>PGM</th>\n",
       "      <td>-2.0</td>\n",
       "      <td>2.0</td>\n",
       "    </tr>\n",
       "    <tr>\n",
       "      <th>...</th>\n",
       "      <td>...</td>\n",
       "      <td>...</td>\n",
       "    </tr>\n",
       "    <tr>\n",
       "      <th>EX_h</th>\n",
       "      <td>2.0</td>\n",
       "      <td>-2.0</td>\n",
       "    </tr>\n",
       "    <tr>\n",
       "      <th>EX_pi</th>\n",
       "      <td>0.0</td>\n",
       "      <td>-2.0</td>\n",
       "    </tr>\n",
       "    <tr>\n",
       "      <th>EX_lac__L</th>\n",
       "      <td>2.0</td>\n",
       "      <td>-2.0</td>\n",
       "    </tr>\n",
       "    <tr>\n",
       "      <th>EX_atp</th>\n",
       "      <td>0.0</td>\n",
       "      <td>2.0</td>\n",
       "    </tr>\n",
       "    <tr>\n",
       "      <th>EX_pyr</th>\n",
       "      <td>0.0</td>\n",
       "      <td>2.0</td>\n",
       "    </tr>\n",
       "  </tbody>\n",
       "</table>\n",
       "<p>22 rows × 2 columns</p>\n",
       "</div>"
      ],
      "text/plain": [
       "<Solution 24.000 at 0x2219f49ab80>"
      ]
     },
     "execution_count": 29,
     "metadata": {},
     "output_type": "execute_result"
    }
   ],
   "source": [
    "trial.objective = 'ATPM'\n",
    "fba_solution = trial.optimize()\n",
    "pfba_solution = cobra.flux_analysis.pfba(trial)\n",
    "pfba_solution\n"
   ]
  },
  {
   "cell_type": "code",
   "execution_count": 30,
   "metadata": {},
   "outputs": [
    {
     "data": {
      "text/html": [
       "<strong><em>Optimal</em> solution with objective value 0.000</strong><br><div>\n",
       "<style scoped>\n",
       "    .dataframe tbody tr th:only-of-type {\n",
       "        vertical-align: middle;\n",
       "    }\n",
       "\n",
       "    .dataframe tbody tr th {\n",
       "        vertical-align: top;\n",
       "    }\n",
       "\n",
       "    .dataframe thead th {\n",
       "        text-align: right;\n",
       "    }\n",
       "</style>\n",
       "<table border=\"1\" class=\"dataframe\">\n",
       "  <thead>\n",
       "    <tr style=\"text-align: right;\">\n",
       "      <th></th>\n",
       "      <th>fluxes</th>\n",
       "      <th>reduced_costs</th>\n",
       "    </tr>\n",
       "  </thead>\n",
       "  <tbody>\n",
       "    <tr>\n",
       "      <th>ATPM</th>\n",
       "      <td>2.0</td>\n",
       "      <td>0.0</td>\n",
       "    </tr>\n",
       "    <tr>\n",
       "      <th>LDH_L</th>\n",
       "      <td>-2.0</td>\n",
       "      <td>0.0</td>\n",
       "    </tr>\n",
       "    <tr>\n",
       "      <th>PYK</th>\n",
       "      <td>2.0</td>\n",
       "      <td>0.0</td>\n",
       "    </tr>\n",
       "    <tr>\n",
       "      <th>ENO</th>\n",
       "      <td>2.0</td>\n",
       "      <td>0.0</td>\n",
       "    </tr>\n",
       "    <tr>\n",
       "      <th>PGM</th>\n",
       "      <td>-2.0</td>\n",
       "      <td>0.0</td>\n",
       "    </tr>\n",
       "    <tr>\n",
       "      <th>...</th>\n",
       "      <td>...</td>\n",
       "      <td>...</td>\n",
       "    </tr>\n",
       "    <tr>\n",
       "      <th>EX_h</th>\n",
       "      <td>2.0</td>\n",
       "      <td>0.0</td>\n",
       "    </tr>\n",
       "    <tr>\n",
       "      <th>EX_pi</th>\n",
       "      <td>0.0</td>\n",
       "      <td>0.0</td>\n",
       "    </tr>\n",
       "    <tr>\n",
       "      <th>EX_lac__L</th>\n",
       "      <td>2.0</td>\n",
       "      <td>0.0</td>\n",
       "    </tr>\n",
       "    <tr>\n",
       "      <th>EX_atp</th>\n",
       "      <td>0.0</td>\n",
       "      <td>0.0</td>\n",
       "    </tr>\n",
       "    <tr>\n",
       "      <th>EX_pyr</th>\n",
       "      <td>0.0</td>\n",
       "      <td>0.0</td>\n",
       "    </tr>\n",
       "  </tbody>\n",
       "</table>\n",
       "<p>22 rows × 2 columns</p>\n",
       "</div>"
      ],
      "text/plain": [
       "<Solution 0.000 at 0x2219f4f6130>"
      ]
     },
     "execution_count": 30,
     "metadata": {},
     "output_type": "execute_result"
    }
   ],
   "source": [
    "geometric_fba_sol = cobra.flux_analysis.geometric_fba(trial)\n",
    "geometric_fba_sol"
   ]
  },
  {
   "cell_type": "code",
   "execution_count": 31,
   "metadata": {},
   "outputs": [
    {
     "name": "stdout",
     "output_type": "stream",
     "text": [
      "Read LP format model from file C:\\Users\\sicil\\AppData\\Local\\Temp\\tmpaoh94a4u.lp\n",
      "Reading time = 0.00 seconds\n",
      ": 20 rows, 45 columns, 135 nonzeros\n"
     ]
    },
    {
     "data": {
      "text/html": [
       "<div>\n",
       "<style scoped>\n",
       "    .dataframe tbody tr th:only-of-type {\n",
       "        vertical-align: middle;\n",
       "    }\n",
       "\n",
       "    .dataframe tbody tr th {\n",
       "        vertical-align: top;\n",
       "    }\n",
       "\n",
       "    .dataframe thead th {\n",
       "        text-align: right;\n",
       "    }\n",
       "</style>\n",
       "<table border=\"1\" class=\"dataframe\">\n",
       "  <thead>\n",
       "    <tr style=\"text-align: right;\">\n",
       "      <th></th>\n",
       "      <th>ATPM</th>\n",
       "      <th>LDH_L</th>\n",
       "      <th>PYK</th>\n",
       "      <th>ENO</th>\n",
       "      <th>PGM</th>\n",
       "      <th>PGK</th>\n",
       "      <th>GAPD</th>\n",
       "      <th>TPI</th>\n",
       "      <th>FBA</th>\n",
       "      <th>PFK</th>\n",
       "      <th>...</th>\n",
       "      <th>HEX1</th>\n",
       "      <th>NADHM</th>\n",
       "      <th>G6PP</th>\n",
       "      <th>EX_glc__D</th>\n",
       "      <th>EX_h2o</th>\n",
       "      <th>EX_h</th>\n",
       "      <th>EX_pi</th>\n",
       "      <th>EX_lac__L</th>\n",
       "      <th>EX_atp</th>\n",
       "      <th>EX_pyr</th>\n",
       "    </tr>\n",
       "  </thead>\n",
       "  <tbody>\n",
       "    <tr>\n",
       "      <th>0</th>\n",
       "      <td>0.084518</td>\n",
       "      <td>10.497523</td>\n",
       "      <td>0.863407</td>\n",
       "      <td>0.863407</td>\n",
       "      <td>-0.863407</td>\n",
       "      <td>-0.863407</td>\n",
       "      <td>0.863407</td>\n",
       "      <td>0.431704</td>\n",
       "      <td>0.431704</td>\n",
       "      <td>0.554753</td>\n",
       "      <td>...</td>\n",
       "      <td>1.087543</td>\n",
       "      <td>11.360930</td>\n",
       "      <td>0.655839</td>\n",
       "      <td>-0.431704</td>\n",
       "      <td>0.0</td>\n",
       "      <td>23.585267</td>\n",
       "      <td>0.0</td>\n",
       "      <td>-10.497523</td>\n",
       "      <td>0.0</td>\n",
       "      <td>11.360930</td>\n",
       "    </tr>\n",
       "    <tr>\n",
       "      <th>1</th>\n",
       "      <td>0.680849</td>\n",
       "      <td>57.156347</td>\n",
       "      <td>1.941887</td>\n",
       "      <td>1.941887</td>\n",
       "      <td>-1.941887</td>\n",
       "      <td>-1.941887</td>\n",
       "      <td>1.941887</td>\n",
       "      <td>0.970944</td>\n",
       "      <td>0.970944</td>\n",
       "      <td>1.155810</td>\n",
       "      <td>...</td>\n",
       "      <td>2.047116</td>\n",
       "      <td>59.098234</td>\n",
       "      <td>1.076172</td>\n",
       "      <td>-0.970944</td>\n",
       "      <td>0.0</td>\n",
       "      <td>120.138355</td>\n",
       "      <td>0.0</td>\n",
       "      <td>-57.156347</td>\n",
       "      <td>0.0</td>\n",
       "      <td>59.098234</td>\n",
       "    </tr>\n",
       "    <tr>\n",
       "      <th>2</th>\n",
       "      <td>0.031501</td>\n",
       "      <td>209.380721</td>\n",
       "      <td>1.569604</td>\n",
       "      <td>1.569604</td>\n",
       "      <td>-1.569604</td>\n",
       "      <td>-1.569604</td>\n",
       "      <td>1.569604</td>\n",
       "      <td>0.784802</td>\n",
       "      <td>0.784802</td>\n",
       "      <td>2.008699</td>\n",
       "      <td>...</td>\n",
       "      <td>1.099007</td>\n",
       "      <td>210.950325</td>\n",
       "      <td>0.314205</td>\n",
       "      <td>-0.784802</td>\n",
       "      <td>0.0</td>\n",
       "      <td>423.470254</td>\n",
       "      <td>0.0</td>\n",
       "      <td>-209.380721</td>\n",
       "      <td>0.0</td>\n",
       "      <td>210.950325</td>\n",
       "    </tr>\n",
       "    <tr>\n",
       "      <th>3</th>\n",
       "      <td>0.605457</td>\n",
       "      <td>338.207700</td>\n",
       "      <td>1.780156</td>\n",
       "      <td>1.780156</td>\n",
       "      <td>-1.780156</td>\n",
       "      <td>-1.780156</td>\n",
       "      <td>1.780156</td>\n",
       "      <td>0.890078</td>\n",
       "      <td>0.890078</td>\n",
       "      <td>1.962044</td>\n",
       "      <td>...</td>\n",
       "      <td>0.992811</td>\n",
       "      <td>339.987856</td>\n",
       "      <td>0.102733</td>\n",
       "      <td>-0.890078</td>\n",
       "      <td>0.0</td>\n",
       "      <td>681.755868</td>\n",
       "      <td>0.0</td>\n",
       "      <td>-338.207700</td>\n",
       "      <td>0.0</td>\n",
       "      <td>339.987856</td>\n",
       "    </tr>\n",
       "    <tr>\n",
       "      <th>4</th>\n",
       "      <td>0.305700</td>\n",
       "      <td>67.163464</td>\n",
       "      <td>1.743254</td>\n",
       "      <td>1.743254</td>\n",
       "      <td>-1.743254</td>\n",
       "      <td>-1.743254</td>\n",
       "      <td>1.743254</td>\n",
       "      <td>0.871627</td>\n",
       "      <td>0.871627</td>\n",
       "      <td>1.527601</td>\n",
       "      <td>...</td>\n",
       "      <td>1.653208</td>\n",
       "      <td>68.906718</td>\n",
       "      <td>0.781581</td>\n",
       "      <td>-0.871627</td>\n",
       "      <td>0.0</td>\n",
       "      <td>139.556690</td>\n",
       "      <td>0.0</td>\n",
       "      <td>-67.163464</td>\n",
       "      <td>0.0</td>\n",
       "      <td>68.906718</td>\n",
       "    </tr>\n",
       "    <tr>\n",
       "      <th>...</th>\n",
       "      <td>...</td>\n",
       "      <td>...</td>\n",
       "      <td>...</td>\n",
       "      <td>...</td>\n",
       "      <td>...</td>\n",
       "      <td>...</td>\n",
       "      <td>...</td>\n",
       "      <td>...</td>\n",
       "      <td>...</td>\n",
       "      <td>...</td>\n",
       "      <td>...</td>\n",
       "      <td>...</td>\n",
       "      <td>...</td>\n",
       "      <td>...</td>\n",
       "      <td>...</td>\n",
       "      <td>...</td>\n",
       "      <td>...</td>\n",
       "      <td>...</td>\n",
       "      <td>...</td>\n",
       "      <td>...</td>\n",
       "      <td>...</td>\n",
       "    </tr>\n",
       "    <tr>\n",
       "      <th>95</th>\n",
       "      <td>0.489273</td>\n",
       "      <td>77.295809</td>\n",
       "      <td>0.818086</td>\n",
       "      <td>0.818086</td>\n",
       "      <td>-0.818086</td>\n",
       "      <td>-0.818086</td>\n",
       "      <td>0.818086</td>\n",
       "      <td>0.409043</td>\n",
       "      <td>0.409043</td>\n",
       "      <td>0.505385</td>\n",
       "      <td>...</td>\n",
       "      <td>0.641514</td>\n",
       "      <td>78.113895</td>\n",
       "      <td>0.232471</td>\n",
       "      <td>-0.409043</td>\n",
       "      <td>0.0</td>\n",
       "      <td>157.045876</td>\n",
       "      <td>0.0</td>\n",
       "      <td>-77.295809</td>\n",
       "      <td>0.0</td>\n",
       "      <td>78.113895</td>\n",
       "    </tr>\n",
       "    <tr>\n",
       "      <th>96</th>\n",
       "      <td>0.912266</td>\n",
       "      <td>131.004731</td>\n",
       "      <td>1.298316</td>\n",
       "      <td>1.298316</td>\n",
       "      <td>-1.298316</td>\n",
       "      <td>-1.298316</td>\n",
       "      <td>1.298316</td>\n",
       "      <td>0.649158</td>\n",
       "      <td>0.649158</td>\n",
       "      <td>0.795323</td>\n",
       "      <td>...</td>\n",
       "      <td>0.889045</td>\n",
       "      <td>132.303047</td>\n",
       "      <td>0.239886</td>\n",
       "      <td>-0.649158</td>\n",
       "      <td>0.0</td>\n",
       "      <td>265.904411</td>\n",
       "      <td>0.0</td>\n",
       "      <td>-131.004731</td>\n",
       "      <td>0.0</td>\n",
       "      <td>132.303047</td>\n",
       "    </tr>\n",
       "    <tr>\n",
       "      <th>97</th>\n",
       "      <td>0.505283</td>\n",
       "      <td>160.327544</td>\n",
       "      <td>1.564314</td>\n",
       "      <td>1.564314</td>\n",
       "      <td>-1.564314</td>\n",
       "      <td>-1.564314</td>\n",
       "      <td>1.564314</td>\n",
       "      <td>0.782157</td>\n",
       "      <td>0.782157</td>\n",
       "      <td>0.837211</td>\n",
       "      <td>...</td>\n",
       "      <td>1.786134</td>\n",
       "      <td>161.891858</td>\n",
       "      <td>1.003977</td>\n",
       "      <td>-0.782157</td>\n",
       "      <td>0.0</td>\n",
       "      <td>325.348031</td>\n",
       "      <td>0.0</td>\n",
       "      <td>-160.327544</td>\n",
       "      <td>0.0</td>\n",
       "      <td>161.891858</td>\n",
       "    </tr>\n",
       "    <tr>\n",
       "      <th>98</th>\n",
       "      <td>0.729026</td>\n",
       "      <td>335.825424</td>\n",
       "      <td>1.428091</td>\n",
       "      <td>1.428091</td>\n",
       "      <td>-1.428091</td>\n",
       "      <td>-1.428091</td>\n",
       "      <td>1.428091</td>\n",
       "      <td>0.714045</td>\n",
       "      <td>0.714045</td>\n",
       "      <td>1.079256</td>\n",
       "      <td>...</td>\n",
       "      <td>1.047899</td>\n",
       "      <td>337.253515</td>\n",
       "      <td>0.333854</td>\n",
       "      <td>-0.714045</td>\n",
       "      <td>0.0</td>\n",
       "      <td>675.935121</td>\n",
       "      <td>0.0</td>\n",
       "      <td>-335.825424</td>\n",
       "      <td>0.0</td>\n",
       "      <td>337.253515</td>\n",
       "    </tr>\n",
       "    <tr>\n",
       "      <th>99</th>\n",
       "      <td>0.913226</td>\n",
       "      <td>109.552605</td>\n",
       "      <td>1.738941</td>\n",
       "      <td>1.738941</td>\n",
       "      <td>-1.738941</td>\n",
       "      <td>-1.738941</td>\n",
       "      <td>1.738941</td>\n",
       "      <td>0.869471</td>\n",
       "      <td>0.869471</td>\n",
       "      <td>1.678821</td>\n",
       "      <td>...</td>\n",
       "      <td>0.885836</td>\n",
       "      <td>111.291546</td>\n",
       "      <td>0.016365</td>\n",
       "      <td>-0.869471</td>\n",
       "      <td>0.0</td>\n",
       "      <td>224.322034</td>\n",
       "      <td>0.0</td>\n",
       "      <td>-109.552605</td>\n",
       "      <td>0.0</td>\n",
       "      <td>111.291546</td>\n",
       "    </tr>\n",
       "  </tbody>\n",
       "</table>\n",
       "<p>100 rows × 22 columns</p>\n",
       "</div>"
      ],
      "text/plain": [
       "        ATPM       LDH_L       PYK       ENO       PGM       PGK      GAPD  \\\n",
       "0   0.084518   10.497523  0.863407  0.863407 -0.863407 -0.863407  0.863407   \n",
       "1   0.680849   57.156347  1.941887  1.941887 -1.941887 -1.941887  1.941887   \n",
       "2   0.031501  209.380721  1.569604  1.569604 -1.569604 -1.569604  1.569604   \n",
       "3   0.605457  338.207700  1.780156  1.780156 -1.780156 -1.780156  1.780156   \n",
       "4   0.305700   67.163464  1.743254  1.743254 -1.743254 -1.743254  1.743254   \n",
       "..       ...         ...       ...       ...       ...       ...       ...   \n",
       "95  0.489273   77.295809  0.818086  0.818086 -0.818086 -0.818086  0.818086   \n",
       "96  0.912266  131.004731  1.298316  1.298316 -1.298316 -1.298316  1.298316   \n",
       "97  0.505283  160.327544  1.564314  1.564314 -1.564314 -1.564314  1.564314   \n",
       "98  0.729026  335.825424  1.428091  1.428091 -1.428091 -1.428091  1.428091   \n",
       "99  0.913226  109.552605  1.738941  1.738941 -1.738941 -1.738941  1.738941   \n",
       "\n",
       "         TPI       FBA       PFK  ...      HEX1       NADHM      G6PP  \\\n",
       "0   0.431704  0.431704  0.554753  ...  1.087543   11.360930  0.655839   \n",
       "1   0.970944  0.970944  1.155810  ...  2.047116   59.098234  1.076172   \n",
       "2   0.784802  0.784802  2.008699  ...  1.099007  210.950325  0.314205   \n",
       "3   0.890078  0.890078  1.962044  ...  0.992811  339.987856  0.102733   \n",
       "4   0.871627  0.871627  1.527601  ...  1.653208   68.906718  0.781581   \n",
       "..       ...       ...       ...  ...       ...         ...       ...   \n",
       "95  0.409043  0.409043  0.505385  ...  0.641514   78.113895  0.232471   \n",
       "96  0.649158  0.649158  0.795323  ...  0.889045  132.303047  0.239886   \n",
       "97  0.782157  0.782157  0.837211  ...  1.786134  161.891858  1.003977   \n",
       "98  0.714045  0.714045  1.079256  ...  1.047899  337.253515  0.333854   \n",
       "99  0.869471  0.869471  1.678821  ...  0.885836  111.291546  0.016365   \n",
       "\n",
       "    EX_glc__D  EX_h2o        EX_h  EX_pi   EX_lac__L  EX_atp      EX_pyr  \n",
       "0   -0.431704     0.0   23.585267    0.0  -10.497523     0.0   11.360930  \n",
       "1   -0.970944     0.0  120.138355    0.0  -57.156347     0.0   59.098234  \n",
       "2   -0.784802     0.0  423.470254    0.0 -209.380721     0.0  210.950325  \n",
       "3   -0.890078     0.0  681.755868    0.0 -338.207700     0.0  339.987856  \n",
       "4   -0.871627     0.0  139.556690    0.0  -67.163464     0.0   68.906718  \n",
       "..        ...     ...         ...    ...         ...     ...         ...  \n",
       "95  -0.409043     0.0  157.045876    0.0  -77.295809     0.0   78.113895  \n",
       "96  -0.649158     0.0  265.904411    0.0 -131.004731     0.0  132.303047  \n",
       "97  -0.782157     0.0  325.348031    0.0 -160.327544     0.0  161.891858  \n",
       "98  -0.714045     0.0  675.935121    0.0 -335.825424     0.0  337.253515  \n",
       "99  -0.869471     0.0  224.322034    0.0 -109.552605     0.0  111.291546  \n",
       "\n",
       "[100 rows x 22 columns]"
      ]
     },
     "execution_count": 31,
     "metadata": {},
     "output_type": "execute_result"
    }
   ],
   "source": [
    "\n",
    "from cobra.sampling import sample\n",
    "\n",
    "# model = load_model(\"textbook\")\n",
    "s = sample(trial, 100)\n",
    "# s.head()\n",
    "s\n"
   ]
  },
  {
   "cell_type": "code",
   "execution_count": null,
   "metadata": {},
   "outputs": [],
   "source": []
  },
  {
   "cell_type": "code",
   "execution_count": 32,
   "metadata": {},
   "outputs": [],
   "source": [
    "\n",
    "from cobra.io import json\n",
    "import cobra.test\n",
    "import os\n",
    "from os.path import join\n",
    "from glob import glob"
   ]
  },
  {
   "cell_type": "code",
   "execution_count": 33,
   "metadata": {},
   "outputs": [],
   "source": [
    "gly_gluco_json = os.path.join(model_dir,\"glycolysis_gluconeogenesis.json\")\n",
    "json.save_json_model(model=trial, filename=gly_gluco_json)"
   ]
  },
  {
   "cell_type": "code",
   "execution_count": 34,
   "metadata": {},
   "outputs": [],
   "source": [
    "# import cplex \n",
    "# import gurobipy "
   ]
  },
  {
   "cell_type": "code",
   "execution_count": 35,
   "metadata": {},
   "outputs": [
    {
     "name": "stdout",
     "output_type": "stream",
     "text": [
      "c:\\Users\\sicil\\LiverModel\\models\\glycolysis_gluconeogenesis.json\n",
      "Read LP format model from file C:\\Users\\sicil\\AppData\\Local\\Temp\\tmpl3ce9pt2.lp\n",
      "Reading time = 0.00 seconds\n",
      ": 19 rows, 44 columns, 130 nonzeros\n",
      "Read LP format model from file C:\\Users\\sicil\\AppData\\Local\\Temp\\tmp9_40kck9.lp\n",
      "Reading time = 0.00 seconds\n",
      ": 63 rows, 66 columns, 255 nonzeros\n"
     ]
    },
    {
     "name": "stderr",
     "output_type": "stream",
     "text": [
      "c:\\Users\\sicil\\LiverModel\\minspan\\minspan.py:183 UserWarning: Fixed: reaction EX_glc__D: glc__D <=>  has a non-default lower bound\n"
     ]
    },
    {
     "name": "stdout",
     "output_type": "stream",
     "text": [
      "Read LP format model from file C:\\Users\\sicil\\AppData\\Local\\Temp\\tmp71lnfh03.lp\n",
      "Reading time = 0.00 seconds\n",
      ": 63 rows, 66 columns, 255 nonzeros\n",
      "Read LP format model from file C:\\Users\\sicil\\AppData\\Local\\Temp\\tmpv9q422g6.lp\n",
      "Reading time = 0.00 seconds\n",
      ": 63 rows, 66 columns, 255 nonzeros\n",
      "Read LP format model from file C:\\Users\\sicil\\AppData\\Local\\Temp\\tmpq0dykmhx.lp\n",
      "Reading time = 0.00 seconds\n",
      ": 63 rows, 66 columns, 255 nonzeros\n",
      "Read LP format model from file C:\\Users\\sicil\\AppData\\Local\\Temp\\tmpv0mqn0ep.lp\n",
      "Reading time = 0.00 seconds\n",
      ": 63 rows, 66 columns, 255 nonzeros\n",
      "Read LP format model from file C:\\Users\\sicil\\AppData\\Local\\Temp\\tmp4g6mbnh1.lp\n",
      "Reading time = 0.00 seconds\n",
      ": 63 rows, 66 columns, 255 nonzeros\n",
      "Read LP format model from file C:\\Users\\sicil\\AppData\\Local\\Temp\\tmpuomnx4_n.lp\n",
      "Reading time = 0.00 seconds\n",
      ": 63 rows, 66 columns, 255 nonzeros\n",
      "Read LP format model from file C:\\Users\\sicil\\AppData\\Local\\Temp\\tmpds_amw1a.lp\n",
      "Reading time = 0.00 seconds\n",
      ": 63 rows, 66 columns, 255 nonzeros\n"
     ]
    },
    {
     "ename": "TypeError",
     "evalue": "'numpy.ndarray' object is not callable",
     "output_type": "error",
     "traceback": [
      "\u001b[1;31m---------------------------------------------------------------------------\u001b[0m",
      "\u001b[1;31mTypeError\u001b[0m                                 Traceback (most recent call last)",
      "\u001b[1;32m~\\AppData\\Local\\Temp\\ipykernel_8936\\3466354105.py\u001b[0m in \u001b[0;36m<module>\u001b[1;34m\u001b[0m\n\u001b[0;32m     25\u001b[0m     \u001b[0mdf\u001b[0m \u001b[1;33m=\u001b[0m \u001b[0mpd\u001b[0m\u001b[1;33m.\u001b[0m\u001b[0mDataFrame\u001b[0m\u001b[1;33m(\u001b[0m\u001b[0msolved_fluxes\u001b[0m\u001b[1;33m.\u001b[0m\u001b[0mcopy\u001b[0m\u001b[1;33m(\u001b[0m\u001b[1;33m)\u001b[0m\u001b[1;33m,\u001b[0m \u001b[0mindex\u001b[0m\u001b[1;33m=\u001b[0m\u001b[1;33m[\u001b[0m\u001b[0mi\u001b[0m\u001b[1;33m.\u001b[0m\u001b[0mid\u001b[0m \u001b[1;32mfor\u001b[0m \u001b[0mi\u001b[0m \u001b[1;32min\u001b[0m \u001b[0mmodel\u001b[0m\u001b[1;33m.\u001b[0m\u001b[0mreactions\u001b[0m\u001b[1;33m]\u001b[0m\u001b[1;33m)\u001b[0m\u001b[1;33m\u001b[0m\u001b[1;33m\u001b[0m\u001b[0m\n\u001b[0;32m     26\u001b[0m     \u001b[0mdf\u001b[0m \u001b[1;33m=\u001b[0m \u001b[0mdf\u001b[0m\u001b[1;33m/\u001b[0m\u001b[0mdf\u001b[0m\u001b[1;33m.\u001b[0m\u001b[0mabs\u001b[0m\u001b[1;33m(\u001b[0m\u001b[1;33m)\u001b[0m\u001b[1;33m.\u001b[0m\u001b[0mmax\u001b[0m\u001b[1;33m(\u001b[0m\u001b[1;33m)\u001b[0m\u001b[1;33m\u001b[0m\u001b[1;33m\u001b[0m\u001b[0m\n\u001b[1;32m---> 27\u001b[1;33m     \u001b[1;32mfor\u001b[0m \u001b[0mcol\u001b[0m \u001b[1;32min\u001b[0m \u001b[0mrange\u001b[0m\u001b[1;33m(\u001b[0m\u001b[0mlen\u001b[0m\u001b[1;33m(\u001b[0m\u001b[0mdf\u001b[0m\u001b[1;33m.\u001b[0m\u001b[0mcolumns\u001b[0m\u001b[1;33m)\u001b[0m\u001b[1;33m)\u001b[0m\u001b[1;33m:\u001b[0m\u001b[1;33m\u001b[0m\u001b[1;33m\u001b[0m\u001b[0m\n\u001b[0m\u001b[0;32m     28\u001b[0m         \u001b[0mcolumn\u001b[0m\u001b[1;33m=\u001b[0m\u001b[0mdf\u001b[0m\u001b[1;33m.\u001b[0m\u001b[0miloc\u001b[0m\u001b[1;33m[\u001b[0m\u001b[1;33m:\u001b[0m\u001b[1;33m,\u001b[0m\u001b[0mcol\u001b[0m\u001b[1;33m]\u001b[0m\u001b[1;33m\u001b[0m\u001b[1;33m\u001b[0m\u001b[0m\n\u001b[0;32m     29\u001b[0m         \u001b[0mvals\u001b[0m \u001b[1;33m=\u001b[0m \u001b[0mcolumn\u001b[0m\u001b[1;33m.\u001b[0m\u001b[0mvalues\u001b[0m\u001b[1;33m\u001b[0m\u001b[1;33m\u001b[0m\u001b[0m\n",
      "\u001b[1;31mTypeError\u001b[0m: 'numpy.ndarray' object is not callable"
     ]
    }
   ],
   "source": [
    "for model_file in glob(gly_gluco_json):\n",
    "    model_name = model_file.split('/')[-1]\n",
    "    if 'model' not in model_name:\n",
    "        continue\n",
    "    print(model_name)\n",
    "    model= load_json_model(model_file)\n",
    "    if 'NADPHM' in model.reactions:\n",
    "        model.remove_reactions(['NADPHM'])\n",
    "    # media = ['EX_lac__L_c', 'EX_pyr_c', 'EX_octa_c', 'EX_gln__L_c', 'EX_acetone_c', 'EX_bhb_c',\n",
    "    #          'EX_glu__L_c', 'EX_ser__L_c', 'EX_cys__L_c', 'EX_gly_c', 'EX_ala__L_c', 'EX_so3_c',\n",
    "    #         'EX_etoh_c', 'EX_fru_c']\n",
    "    media = ['EX_glc__D_c']\n",
    "    for met in media:\n",
    "        if met in model.reactions:\n",
    "            model.reactions.get_by_id(met).lower_bound = -1000.\n",
    "\n",
    "    rxns = [i.id for i in model.reactions]\n",
    "    # removed blocke reactions because it included ['PEPCKm', 'PCm', 'PYRt2m', 'ADK1', 'PEPtm', 'EX_h2o_c', 'EX_pi_c']\n",
    "    # blocked = cobra.flux_analysis.find_blocked_reactions(model)\n",
    "    # print(blocked)\n",
    "    # model.remove_reactions(blocked)\n",
    "\n",
    "    solved_fluxes = minspan(model, cores=3, verbose=False, timelimit=60)\n",
    "    \n",
    "    df = pd.DataFrame(solved_fluxes.copy(), index=[i.id for i in model.reactions])\n",
    "    df = df/df.abs().max()\n",
    "    for col in range(len(df.columns)):\n",
    "        column=df.iloc[:,col]\n",
    "        vals = column.values\n",
    "        min_val = min([abs(i) for i in vals if i != 0])\n",
    "        corr_fac=1/min_val\n",
    "        # print(corr_fac)\n",
    "        vals=vals*abs(corr_fac)\n",
    "        df['Norm'+ str(col)]=vals\n",
    "    csv_dir = os.path.join(minspan_dir,\"gly_gluco_csv.csv\")\n",
    "    df.to_csv(csv_dir)\n",
    "    # csv_minspan_dir = os.path.join(minspan_dir,\"liver_csv_minspan.csv\")\n",
    "## WHere it's stored\n",
    "csv_minspan_dir = os.path.join(minspan_dir,\"gly_gluco_csv.csv\")"
   ]
  },
  {
   "cell_type": "code",
   "execution_count": null,
   "metadata": {},
   "outputs": [],
   "source": [
    "# solved_fluxes = minspan(gluco, cores=3, verbose=False, timelimit=60)\n",
    "\n",
    "# df = pd.DataFrame(solved_fluxes.copy(), index=[i.id for i in gluco.reactions])\n",
    "# df = df/df.abs().max()\n",
    "# for col in range(len(df.columns)):\n",
    "#     column=df.iloc[:,col]\n",
    "#     vals = column.values\n",
    "#     min_val = min([abs(i) for i in vals if i != 0])\n",
    "#     corr_fac=1/min_val\n",
    "#     # print(corr_fac)\n",
    "#     vals=vals*abs(corr_fac)\n",
    "#     df['Norm'+ str(col)]=vals\n",
    "# csv_dir = os.path.join(minspan_dir,\"gluco_csv.csv\")\n",
    "# df.to_csv(csv_dir)"
   ]
  },
  {
   "cell_type": "code",
   "execution_count": null,
   "metadata": {},
   "outputs": [],
   "source": [
    "# making dataframe \n",
    "df = pd.read_csv(csv_minspan_dir,index_col=0) \n",
    "df"
   ]
  },
  {
   "cell_type": "code",
   "execution_count": null,
   "metadata": {},
   "outputs": [],
   "source": [
    "import escher\n",
    "from escher import Builder"
   ]
  },
  {
   "cell_type": "code",
   "execution_count": null,
   "metadata": {},
   "outputs": [],
   "source": [
    "initial_minspan_data = {\n",
    "    reaction: flux\n",
    "    for reaction, flux in df.iloc[:,18].iteritems()}"
   ]
  },
  {
   "cell_type": "code",
   "execution_count": null,
   "metadata": {},
   "outputs": [],
   "source": [
    "# #view all the reactions that we need build\n",
    "# escher_builder = escher.Builder(\n",
    "#     model=trial,\n",
    "#     map_json=os.path.join(\n",
    "#         maps_dir,\"Glycolysis_Gluconeogenesis.json\")\n",
    "#     , reaction_data=initial_flux_data)\n",
    "\n",
    "\n",
    "# New instance to prevent modifications to the existing maps\n",
    "escher_builder = Builder(\n",
    "    model=trial,\n",
    "    map_json=os.path.join(\n",
    "        maps_dir,\"Glycolysis_Gluconeogenesis_2.json\"),\n",
    "    reaction_data=initial_minspan_data)\n",
    "\n",
    "# Display map in notebook\n",
    "escher_builder"
   ]
  },
  {
   "cell_type": "code",
   "execution_count": null,
   "metadata": {},
   "outputs": [],
   "source": [
    "from cobra.io import json"
   ]
  },
  {
   "cell_type": "code",
   "execution_count": null,
   "metadata": {},
   "outputs": [],
   "source": [
    "core_json = os.path.join(model_dir,\"Glycolysis_Gluconeogenesis.json\")\n",
    "json.save_json_model(model=trial, filename=core_json)"
   ]
  },
  {
   "cell_type": "markdown",
   "metadata": {},
   "source": [
    "### Making Df of metabolites and reactions, exporting them, and importing to form MASS model"
   ]
  },
  {
   "cell_type": "code",
   "execution_count": null,
   "metadata": {},
   "outputs": [],
   "source": [
    "from cobra_dict import metabolite_to_dict as metabolite_to_dict\n",
    "from cobra_dict import reaction_to_dict as reaction_to_dict"
   ]
  },
  {
   "cell_type": "code",
   "execution_count": null,
   "metadata": {},
   "outputs": [],
   "source": [
    "met_df=pd.DataFrame()\n",
    "for met in trial.metabolites:\n",
    "    cobra_met= trial.metabolites.get_by_id(met.id)\n",
    "    m=metabolite_to_dict(cobra_met)\n",
    "    df_2=pd.DataFrame.from_dict(m,orient='index')\n",
    "    df_2=df_2.T\n",
    "    met_df=met_df.append(df_2)\n",
    "met_df=met_df.set_index('id')\n",
    "met_df"
   ]
  },
  {
   "cell_type": "code",
   "execution_count": null,
   "metadata": {},
   "outputs": [],
   "source": [
    "csv_met_cobra = os.path.join(data_dir,\"gly_gluco_cobra_met.csv\")\n",
    "met_df.to_csv(csv_met_cobra)"
   ]
  },
  {
   "cell_type": "code",
   "execution_count": null,
   "metadata": {},
   "outputs": [],
   "source": [
    "rxn_df=pd.DataFrame()\n",
    "for rxn in trial.reactions:\n",
    "    cobra_rxn= trial.reactions.get_by_id(rxn.id)\n",
    "    r=reaction_to_dict(cobra_rxn)\n",
    "#     print(r)\n",
    "    df=pd.DataFrame.from_dict(r,orient='index')\n",
    "    df=df.T\n",
    "    rxn_df=rxn_df.append(df)\n",
    "rxn_df=rxn_df.set_index('id')\n",
    "# rxn_df"
   ]
  },
  {
   "cell_type": "code",
   "execution_count": null,
   "metadata": {},
   "outputs": [],
   "source": [
    "json_rxn_cobra = os.path.join(data_dir,\"gly_gluco_cobra_rxn.json\")\n",
    "rxn_df.to_json(json_rxn_cobra,orient=\"index\")"
   ]
  },
  {
   "cell_type": "markdown",
   "metadata": {},
   "source": [
    "## Making MASS model of glycolysis"
   ]
  },
  {
   "cell_type": "code",
   "execution_count": null,
   "metadata": {},
   "outputs": [],
   "source": [
    "liver= MassModel(\"Core_Model\", array_type='DataFrame', dtype=np.int64)"
   ]
  },
  {
   "cell_type": "markdown",
   "metadata": {},
   "source": [
    "#### Add the pathway metabolites and their information to a new MASS model from COBRA model"
   ]
  },
  {
   "cell_type": "code",
   "execution_count": null,
   "metadata": {},
   "outputs": [],
   "source": [
    "# making dataframe of metabolites\n",
    "import json\n",
    "met_csv_df = pd.read_csv(csv_met_cobra,index_col=\"id\")\n",
    "mass_metabolite_info=met_csv_df.to_dict(orient='index')\n",
    "\n",
    "# Loading reaction data as JSON file to maintain data types as dictionaries \n",
    "\n",
    "with open(json_rxn_cobra) as json_file:\n",
    "    mass_rxn_data = json.load(json_file)"
   ]
  },
  {
   "cell_type": "code",
   "execution_count": null,
   "metadata": {},
   "outputs": [],
   "source": [
    "#  Add all the remaining metabolites involved in the pathway\n",
    "for met_id, info in mass_metabolite_info.items():\n",
    "    met = MassMetabolite(met_id, name=info['name'], formula=info['formula'], \n",
    "                           charge=info['charge'], compartment=info['compartment'])\n",
    "    liver.add_metabolites(met)"
   ]
  },
  {
   "cell_type": "code",
   "execution_count": null,
   "metadata": {},
   "outputs": [],
   "source": [
    "for reaction, info in mass_rxn_data.items():\n",
    "    reaction_obj = MassReaction(reaction)\n",
    "    reaction_obj.id = reaction\n",
    "    reaction= reaction_obj.id\n",
    "    reaction_obj.lower_bound = info['lower_bound']\n",
    "    reaction_obj.upper_bound = info['upper_bound']\n",
    "    reaction_obj.name = info['name']\n",
    "    liver.add_reactions(reaction_obj)\n",
    "    temp=info['metabolites']\n",
    "    reaction_obj.add_metabolites(temp)\n",
    "    # print(reaction)"
   ]
  },
  {
   "cell_type": "code",
   "execution_count": null,
   "metadata": {},
   "outputs": [],
   "source": [
    "liver.reactions.PGK.reverse_stoichiometry(inplace=True)\n",
    "liver.reactions.PGM.reverse_stoichiometry(inplace=True)"
   ]
  },
  {
   "cell_type": "markdown",
   "metadata": {},
   "source": [
    "## Setting initial conditions"
   ]
  },
  {
   "cell_type": "code",
   "execution_count": null,
   "metadata": {},
   "outputs": [],
   "source": [
    "import csv\n",
    "import openpyxl"
   ]
  },
  {
   "cell_type": "code",
   "execution_count": null,
   "metadata": {},
   "outputs": [],
   "source": [
    "#Function to load data from the excel sheet\n",
    "def load_data(filepath, sheet_name):\n",
    "    \"\"\"Load Liver data from an excel sheet\"\"\"\n",
    "    df = pd.read_excel(engine='openpyxl',\n",
    "        io=filepath,\n",
    "        sheet_name=sheet_name,\n",
    "        index_col=0)\n",
    "    return df"
   ]
  },
  {
   "cell_type": "code",
   "execution_count": null,
   "metadata": {},
   "outputs": [],
   "source": [
    "#Compare Results\n",
    "excel_ic = os.path.join(data_dir,\"Concentrations.xlsx\")\n",
    "# ic_df = pd.read_csv(csv_ic)\n",
    "# ic_df.set_index()\n",
    "ic_info_all = load_data(\n",
    "    filepath=excel_ic,\n",
    "    sheet_name=\"Concentrations\")\n",
    "ic_info_all.reset_index(level='ID', col_level=1, inplace=True)\n",
    "ic_info_all"
   ]
  },
  {
   "cell_type": "code",
   "execution_count": null,
   "metadata": {},
   "outputs": [],
   "source": [
    "conc_df =pd.DataFrame(ic_info_all.loc[:,[\"ID\",\"Concentration (M)\"]])\n",
    "conc_df.set_index('ID',drop=True,inplace=True)\n",
    "conc_df"
   ]
  },
  {
   "cell_type": "code",
   "execution_count": null,
   "metadata": {},
   "outputs": [],
   "source": [
    "ic_info= pd.DataFrame()\n",
    "# ic_info.append"
   ]
  },
  {
   "cell_type": "code",
   "execution_count": null,
   "metadata": {},
   "outputs": [],
   "source": [
    "print(\"Initial Conditions\\n------------------\")\n",
    "\n",
    "for reaction in liver.reactions:\n",
    "    #Setting inital condition of metabolties from HEPATOKIN  #M \n",
    "    for met in reaction.metabolites:\n",
    "        if met.id in conc_df.index:\n",
    "            mid=met.id\n",
    "            metabolite = reaction.metabolites\n",
    "            ic_value = conc_df.loc[mid,'Concentration (M)']\n",
    "            row = [mid,ic_value]\n",
    "            # column = [ic_value]\n",
    "            ic_info.append(row)\n",
    "            met.ic =  ic_value            \n",
    "for metabolite, ic_value in liver.initial_conditions.items():\n",
    "    print(\"{0}: {1}\".format(metabolite, ic_value))"
   ]
  },
  {
   "cell_type": "code",
   "execution_count": null,
   "metadata": {},
   "outputs": [],
   "source": [
    "ic_info"
   ]
  },
  {
   "cell_type": "markdown",
   "metadata": {},
   "source": [
    "### Getting Standard and Physiological Gibbs energies of reactions to get Keq of reactions"
   ]
  },
  {
   "cell_type": "code",
   "execution_count": null,
   "metadata": {},
   "outputs": [],
   "source": [
    "met_list = []\n",
    "liver.boundary_conditions\n",
    "for reaction in liver.boundary_conditions:\n",
    "    print(reaction)"
   ]
  },
  {
   "cell_type": "code",
   "execution_count": null,
   "metadata": {},
   "outputs": [],
   "source": [
    "# for reaction in liver.boundary:\n",
    "#     excluded_reactions.append(reaction.id)\n",
    "#     reaction.Keq=1    # Setting Keq\n",
    "#     print(reaction,reaction.Keq)"
   ]
  },
  {
   "cell_type": "code",
   "execution_count": null,
   "metadata": {},
   "outputs": [],
   "source": [
    "# Reactions that we don't want to get Keq from equilibrator [exchanges and psuedoreactions] SET THESE MANUALLY\n",
    "# Setting Keq and kf for boundary reactions\n",
    "print(\"Boundary Reactions and Values\\n-----------------------------\")\n",
    "excluded_reactions=[\"ATPM\", \"NADHM\",\"PYRt2m\",\"PEPtm\"]\n",
    "\n",
    "for reaction in liver.boundary:\n",
    "    excluded_reactions.append(reaction.id)\n",
    "    reaction.Keq=1    # Setting Keq\n",
    "    reaction.kf=1e6     # Setting kf\n",
    "    #Setting boundary condition metabolties from ic of metabolite from HEPATOKIN   \n",
    "    for met in reaction.reactants:\n",
    "        if met.id in conc_df.index:\n",
    "            mid=met.id\n",
    "            boundary_met = reaction.boundary_metabolite\n",
    "            bcvalue = conc_df.loc[mid,'Concentration (M)']\n",
    "            liver.boundary_conditions[boundary_met] =  bcvalue\n",
    "            bc_value = liver.boundary_conditions.get(boundary_met)\n",
    "            print(\"{0}\\n{1}: {2}\\n\".format(reaction, boundary_met, bc_value))"
   ]
  },
  {
   "cell_type": "code",
   "execution_count": null,
   "metadata": {},
   "outputs": [],
   "source": [
    "reaction_str= []\n",
    "cc = ComponentContribution()\n",
    "# optional: changing the aqueous environment parameters\n",
    "cc.p_h = Q_(7.4)\n",
    "cc.p_mg = Q_(3.31)\n",
    "cc.ionic_strength = Q_(\"0.144M\")\n",
    "cc.temperature = Q_(\"310.15K\")\n",
    "R = 0.00831446261815324 #R = 0.00831446261815324 kJ/mol\n",
    "from numpy import *\n",
    "Keq_df=pd.DataFrame(columns=[\"Reaction\",\"Keq\"])\n",
    "# Keq_df"
   ]
  },
  {
   "cell_type": "code",
   "execution_count": null,
   "metadata": {},
   "outputs": [],
   "source": [
    "# Getting Keq from equilibrator by forming a reaction string that it can parse through\n",
    "for reaction in liver.reactions:\n",
    "    if reaction.id not in excluded_reactions:\n",
    "        reactants = []\n",
    "        #forming reaction string \n",
    "        for met in reaction.reactants:\n",
    "            id_coeff= reaction.get_coefficient(met)\n",
    "            new_id = met.id.rpartition(\"_\" + str(met.compartment))[0] #removing compartment lettes, for eg \"_c\"\n",
    "            if id_coeff == 1 or id_coeff == -1:\n",
    "                new_id = \"bigg.metabolite:\" + new_id\n",
    "            else:\n",
    "                new_id = str(id_coeff) + \" bigg.metabolite:\" + new_id\n",
    "\n",
    "            reactants.append(new_id)   \n",
    "        reactants_string= \" + \".join(reactants)\n",
    "        reactants_string = str(reactants_string + \" = \")\n",
    "\n",
    "        # Forming product string\n",
    "        products = []\n",
    "        for met in reaction.products:\n",
    "            new_id = met.id.rpartition(\"_\" + str(met.compartment))[0] # removing compartment lettes, for eg \"_c\"\n",
    "            new_id = \"bigg.metabolite:\" + new_id\n",
    "            products.append(new_id)   \n",
    "        products_string= \" + \".join(products)\n",
    "\n",
    "        #final reaction to parse\n",
    "        reaction_to_parse = reactants_string + products_string         \n",
    "        # print(reaction_to_parse)\n",
    "        rxn_parsed = cc.parse_reaction_formula(reaction_to_parse)\n",
    "        print(reaction.id)\n",
    "\n",
    "        #Getting Gibbs energies\n",
    "        dG0_prime = cc.standard_dg_prime(rxn_parsed)\n",
    "    #         print(f\"ΔG'° = {dG0_prime}\")\n",
    "        dGm_prime = cc.physiological_dg_prime(rxn_parsed)\n",
    "        dG_prime_value_in_kj_per_mol = dGm_prime.value.m_as(\"kJ/mol\")\n",
    "        dG0prime_value_in_kj_per_mol = dG0_prime.value.m_as(\"kJ/mol\")\n",
    "    #     print(f\"ΔG'm = {dG_prime_value_in_kj_per_mol}\")\n",
    "        delG = dG_prime_value_in_kj_per_mol\n",
    "\n",
    "        # Calculating Keq from delG\n",
    "        a = exp(-delG/ (R*310.15)) \n",
    "        reaction.Keq = a\n",
    "        print(f\"Keq = {a}\")\n",
    "#         list_keq=[reaction,a]\n",
    "#         rxn_keq=pd.DataFrame(list_keq)\n",
    "        df = pd.DataFrame([[reaction,a]], columns=[\"Reaction\",\"Keq\"])\n",
    "        Keq_df.append(df)\n",
    "\n",
    "# Keq_df    "
   ]
  },
  {
   "cell_type": "code",
   "execution_count": null,
   "metadata": {},
   "outputs": [],
   "source": [
    "liver.reactions.NADHM.Keq=float(\"inf\")\n",
    "liver.reactions.ATPM.Keq=float(\"inf\")\n",
    "liver.reactions.PEPtm.Keq=1\n",
    "liver.reactions.PYRt2m.Keq=1"
   ]
  },
  {
   "cell_type": "code",
   "execution_count": null,
   "metadata": {},
   "outputs": [],
   "source": [
    "print(\"Equilibrium Constants\\n---------------------\")\n",
    "for reaction in liver.reactions:\n",
    "    print(\"{0}: {1}\".format(reaction.Keq_str, reaction.Keq))"
   ]
  },
  {
   "cell_type": "markdown",
   "metadata": {},
   "source": [
    "##  Set Fluxes"
   ]
  },
  {
   "cell_type": "code",
   "execution_count": null,
   "metadata": {},
   "outputs": [],
   "source": [
    "flux_solution"
   ]
  },
  {
   "cell_type": "markdown",
   "metadata": {},
   "source": [
    "### Getting minspan paths from file to form fluxes"
   ]
  },
  {
   "cell_type": "code",
   "execution_count": null,
   "metadata": {},
   "outputs": [],
   "source": [
    "# making dataframe of reactions\n",
    "\n",
    "minspans = pd.read_csv(csv_minspan_dir,index_col=0) "
   ]
  },
  {
   "cell_type": "code",
   "execution_count": null,
   "metadata": {},
   "outputs": [],
   "source": [
    "l=int(len(minspans.columns)/2)\n",
    "minspans.iloc[:,-l:]"
   ]
  },
  {
   "cell_type": "code",
   "execution_count": null,
   "metadata": {},
   "outputs": [],
   "source": []
  },
  {
   "cell_type": "markdown",
   "metadata": {},
   "source": [
    "#### Getting fluxes from FBA"
   ]
  },
  {
   "cell_type": "code",
   "execution_count": null,
   "metadata": {},
   "outputs": [],
   "source": [
    "reaction_list=[]\n",
    "for reaction in liver.reactions:\n",
    "    reaction_list.append(reaction.id)\n"
   ]
  },
  {
   "cell_type": "code",
   "execution_count": null,
   "metadata": {},
   "outputs": [],
   "source": [
    "for reaction, flux in flux_solution[reaction_list].iteritems():\n",
    "    reaction = liver.reactions.get_by_id(reaction)\n",
    "    reaction.steady_state_flux = flux * 1278.605 / 1000 # mmol/gdW*hr --> mmol/L * hr ---> mol/L*hr\n",
    "    print(\"{0}: {1}\".format(reaction.flux_symbol_str,\n",
    "                            reaction.steady_state_flux))"
   ]
  },
  {
   "cell_type": "markdown",
   "metadata": {},
   "source": [
    "# work on this function"
   ]
  },
  {
   "cell_type": "code",
   "execution_count": null,
   "metadata": {},
   "outputs": [],
   "source": [
    "minspan_paths = [\n",
    "    [1, 1, 1, 1, 1, 2, 2, 2, 2, 2, 2, 0, 0, 0, 2, 2, 0, 1, 0, 2, 0],\n",
    "    [0, 0, 0, 0, 0, 0, 0, 0, 0, 0, -1, 0, 0, 1, -1, 0, 1, 0, 0, 2, 0],\n",
    "    [0, 0, 0, 0, 0, 0, 0, 0, 0, 0, 0, 1, 0, 0, 0, 0, 0, 0, 1, 0, 0]]"
   ]
  },
  {
   "cell_type": "code",
   "execution_count": null,
   "metadata": {},
   "outputs": [],
   "source": [
    "def compute_steady_state_fluxes(\n",
    "    self, pathways, independent_fluxes, update_reactions=False\n",
    "):"
   ]
  },
  {
   "cell_type": "code",
   "execution_count": null,
   "metadata": {},
   "outputs": [],
   "source": [
    "    def compute_steady_state_fluxes(\n",
    "        self, pathways, independent_fluxes, update_reactions=False\n",
    "    ):\n",
    "        r\"\"\"Calculate the unique steady state flux for each reaction.\n",
    "\n",
    "        The unique steady state flux for each reaction in the\n",
    "        :class:`MassModel` is calculated using defined pathways, independently\n",
    "        defined fluxes, and steady state concentrations, where index of values\n",
    "        in the pathways must correspond to the index of the reaction in\n",
    "        :attr:`MassModel.reactions`.\n",
    "\n",
    "        Notes\n",
    "        -----\n",
    "        The number of individually defined fluxes must be the same as the\n",
    "        number of pathways in order to determine the solution. For best\n",
    "        results, the number of pathways to specify must equal the dimension\n",
    "        of the right nullspace.\n",
    "\n",
    "        Parameters\n",
    "        ----------\n",
    "        pathways : array-like\n",
    "            An array-like object that define the pathways through the reaction\n",
    "            network of the model. The given pathway vectors must be the same\n",
    "            length as the number of reactions in the model, with indicies of\n",
    "            values in the pathway vector corresponding to the indicies of\n",
    "            reactions in the :attr:`reactions` attribute.\n",
    "        independent_fluxes : dict\n",
    "            A ``dict`` of steady state fluxes where :class:`~.MassReaction`\\ s\n",
    "            are keys and fluxes are values to utilize in order to calculate\n",
    "            all other steady state fluxes. Must be the same length as the\n",
    "            number of specified pathways.\n",
    "        update_reactions : bool\n",
    "            If ``True`` then update the :attr:`.MassReaction.steady_state_flux`\n",
    "            with the calculated steady state flux value for each reaction.\n",
    "\n",
    "        Return\n",
    "        ------\n",
    "        dict\n",
    "            A ``dict`` where key:value pairs are the :class:`~.MassReaction`\\ s\n",
    "            with their corresponding calculated steady state fluxes.\n",
    "\n",
    "        Warnings\n",
    "        --------\n",
    "        The indicies of the values in the pathway vector must correspond to the\n",
    "        indicies of the reactions in the :attr:`reactions` attribute in order\n",
    "        for the method to work as intended.\n",
    "\n",
    "        \"\"\"\n",
    "        # Check inputs:\n",
    "        if not isinstance(pathways, (np.ndarray, list)):\n",
    "            raise TypeError(\n",
    "                \"Pathways must be numpy.ndarrays or array-like, \"\n",
    "                \"such as a list of lists.\"\n",
    "            )\n",
    "        pathways = np.array(pathways)\n",
    "        if len(self.reactions) != pathways.shape[1]:\n",
    "            raise ValueError(\n",
    "                \"Pathways must have the same number of columns as\"\n",
    "                \" the number of reactions in the model.\"\n",
    "            )\n",
    "        if not isinstance(independent_fluxes, dict):\n",
    "            raise TypeError(\"independent_fluxes must be a dict\")\n",
    "        if not isinstance(update_reactions, bool):\n",
    "            raise TypeError(\"update_reactions must be a bool\")\n",
    "\n",
    "        coeffs = []\n",
    "        values = []\n",
    "        # do get by ID\n",
    "        for i, rxn in enumerate(self.reactions):\n",
    "            if rxn in independent_fluxes:\n",
    "                \n",
    "                values.append(independent_fluxes[rxn])\n",
    "                \n",
    "                coeffs.append([path[i] for path in pathways])\n",
    "        # Inverse coefficient matrix\n",
    "        coeffs = np.linalg.inv(coeffs)\n",
    "\n",
    "        # Obtain the inner product of values and coefficients,\n",
    "        # then obtain the inner product of the pathways and first inner product\n",
    "        flux_vector = np.inner(pathways.T, np.inner(coeffs, values))\n",
    "        # Update the reactions if desired\n",
    "        steady_state_fluxes = {}\n",
    "        for i, rxn in enumerate(self.reactions):\n",
    "            steady_state_flux = flux_vector[i]\n",
    "            steady_state_fluxes.update({rxn: steady_state_flux})\n",
    "            if update_reactions:\n",
    "                rxn.steady_state_flux = steady_state_flux\n",
    "\n",
    "        return steady_state_fluxes"
   ]
  },
  {
   "cell_type": "code",
   "execution_count": null,
   "metadata": {},
   "outputs": [],
   "source": [
    "# minspan_paths = [\n",
    "# list(df.iloc[:,5].values)]\n",
    "# liver.compute_steady_state_fluxes(\n",
    "#     pathways=minspan_paths,\n",
    "#     independent_fluxes={\n",
    "#         # SK_glc__D_c: 1.12,\n",
    "#         # NADHM: .2 * 1.12,\n",
    "#         # DM_amp_c: 0.014\n",
    "#         },\n",
    "#     update_reactions=True)"
   ]
  },
  {
   "cell_type": "markdown",
   "metadata": {},
   "source": [
    "## Set H2O/H Constants"
   ]
  },
  {
   "cell_type": "code",
   "execution_count": null,
   "metadata": {},
   "outputs": [],
   "source": [
    "# Set concentrations of hydrogen, water as fixed\n",
    "# Assume hydrogen in all compartments are fixed \n",
    "for metabolite in [\n",
    "    \"h_c\",\n",
    "#     'h_e',\n",
    "'h_m',\n",
    "#     'h2o_r','h2o_e',\n",
    "    \"h2o_c\",\n",
    "#     \"glc__D_e\", \"pi_e\",\n",
    "'pi_m',\n",
    "    'pi_c'\n",
    "                  ]:\n",
    "    metabolite = liver.metabolites.get_by_id(metabolite)\n",
    "    metabolite.fixed = True"
   ]
  },
  {
   "cell_type": "code",
   "execution_count": null,
   "metadata": {},
   "outputs": [],
   "source": [
    "for metabolite in [\n",
    "    'h_m',\n",
    "\"h_c\", \n",
    "#     'h_e',\n",
    "\"h2o_c\",\n",
    "#     'h2o_r','h2o_e' \n",
    "]:\n",
    "    metabolite = liver.metabolites.get_by_id(metabolite)\n",
    "    metabolite.ic = 1 #M"
   ]
  },
  {
   "cell_type": "code",
   "execution_count": null,
   "metadata": {},
   "outputs": [],
   "source": []
  },
  {
   "cell_type": "code",
   "execution_count": null,
   "metadata": {},
   "outputs": [],
   "source": [
    "liver.reactions"
   ]
  },
  {
   "cell_type": "code",
   "execution_count": null,
   "metadata": {},
   "outputs": [],
   "source": [
    "#Formulate QP minimization list for concentrations\n",
    "conc_solver = ConcSolver(\n",
    "    liver, \n",
    "    excluded_metabolites=[\n",
    "    \"h_c\",'h2o_c',\n",
    "    \n",
    "#         'h_e',\n",
    " 'h_m',\n",
    "#     'h2o_r','h2o_e',\n",
    "        'pi_m',\n",
    "    'pi_c',\n",
    "#     \"pi_e\",\n",
    "\"glc__D_c\",\n",
    "#     \"glc__D_e\", \"lac__L_e\",\n",
    "#     \"pyr_e\"\n",
    "    ], \n",
    "    excluded_reactions=[\n",
    "        # \"Ht\", \"H2Ot\", \"H2Oter\",'PIter','PIt',\n",
    "#     'G6Pter','GLCter','GLCt1',\n",
    "'PYRt2m','PEPtm',\n",
    "'NADHM','ATPM',\n",
    "'CO2tm', 'ATPtm', 'Htm','PIt2m'\n",
    "    # 'L_LACt2r','PYRt2'\n",
    "    ],\n",
    "\n",
    "    constraint_buffer=1)\n",
    "\n",
    "conc_solver.setup_feasible_qp_problem(\n",
    "fixed_conc_bounds=list(liver.fixed))\n",
    "# fixed_Keq_bounds=liver.reactions.list_attr(\"Keq_str\")\n",
    "    \n",
    "#assumption: provide uncertainity to allow for a variance for the Keqs rather than staying fixed\n",
    "#conc_solver.setup_feasible_qp_problem(Keq_percent_deviation=0.1)\n",
    "\n",
    "conc_solution = conc_solver.optimize()\n",
    "conc_solution"
   ]
  },
  {
   "cell_type": "code",
   "execution_count": null,
   "metadata": {},
   "outputs": [],
   "source": [
    "conc_solution.concentrations"
   ]
  },
  {
   "cell_type": "code",
   "execution_count": null,
   "metadata": {},
   "outputs": [],
   "source": [
    "conc_df.index"
   ]
  },
  {
   "cell_type": "code",
   "execution_count": null,
   "metadata": {},
   "outputs": [],
   "source": [
    "conc_comparison_fig, ax = plt.subplots(nrows=1, ncols=1,\n",
    "                                       figsize=(5, 5))\n",
    "\n",
    "plot_comparison(\n",
    "    x=conc_df[\"Concentration (M)\"], y=conc_solution,\n",
    "    compare=\"concentrations\",\n",
    "    observable=[mid for mid in conc_df.index], ax=ax,\n",
    "    legend=\"right outside\", plot_function=\"loglog\", \n",
    "    xlim=(1e-6,0.02), ylim=(1e-6,1e-1),\n",
    "    xy_line=True,\n",
    "    xy_legend=\"best\", xlabel=\"Initial [mol/L]\", ylabel=\"Adjusted [mol/L]\")\n",
    "\n",
    "conc_comparison_fig.tight_layout()\n",
    "update_model_with_concentration_solution(\n",
    "    liver, conc_solution, concentrations=True, inplace=True);"
   ]
  },
  {
   "cell_type": "code",
   "execution_count": null,
   "metadata": {},
   "outputs": [],
   "source": [
    "# Keq_data = pd.read_csv(\"./data/analysis_data/equilibrium_constants.csv\", index_col=0)\n",
    "\n",
    "# Keq_data_comparison_fig, ax = plt.subplots(nrows=1, ncols=1, figsize=(5, 5))\n",
    "# plot_comparison(\n",
    "#     x=Keq_data[\"Initial\"], y=Keq_data[\"Adjusted\"], ax=ax,\n",
    "#     title=\"Equilibrium Constants comparison\",\n",
    "#     legend=\"right outside\", plot_function=\"loglog\",\n",
    "#     xlim=(1e-5, 1e5), ylim=(1e-5, 1e5), \n",
    "#     xy_line=True,\n",
    "#     xy_legend=\"best\", xlabel=\"Initial\", ylabel=\"Adjusted\")\n",
    "\n",
    "# Keq_data_comparison_fig.tight_layout()"
   ]
  },
  {
   "cell_type": "code",
   "execution_count": null,
   "metadata": {},
   "outputs": [],
   "source": [
    "Boundary= [\n",
    "    \"ATPM\",\n",
    "    \n",
    "#     'EX_nad_c',\n",
    "    # \"EX_lac__L_c\"\n",
    "]\n",
    "for x in Boundary:\n",
    "    a=liver.reactions.get_by_id(x)\n",
    "    a.kf=1e6"
   ]
  },
  {
   "cell_type": "code",
   "execution_count": null,
   "metadata": {},
   "outputs": [],
   "source": [
    " liver.steady_state_fluxes.items()"
   ]
  },
  {
   "cell_type": "code",
   "execution_count": null,
   "metadata": {},
   "outputs": [],
   "source": [
    "liver.calculate_PERCs(fluxes={\n",
    "                r: v for r, v in liver.steady_state_fluxes.items()\n",
    "                if not (r.boundary  or\n",
    "#                        or r== liver.reactions.GLCter or r== glycogenolysis.reactions.PIter\n",
    "#                                or r== glycogenolysis.reactions.G6Pter or r== glycogenolysis.reactions.PIt or \n",
    "                                r== liver.reactions.PYRt2m or \n",
    "#                                 r== glycogenolysis.reactions.L_LACt2r or \n",
    "#                                 r== glycogenolysis.reactions.PYRt2 or \n",
    "                                r== liver.reactions.PEPtm or \n",
    "                                r== liver.reactions.CO2tm or \n",
    "                                r== liver.reactions.ATPtm or \n",
    "r== liver.reactions.PIt2m or r== liver.reactions.Htm\n",
    "# r== glycogenolysis.reactions.GLCt1 r== liver.reactions.Keq_ATPtm\n",
    "#                                 or r== glycogenolysis.reactions.Ht\n",
    "                       )\n",
    "}, update_reactions=True)\n",
    "print(percs)                      \n",
    "\n",
    "print(\"Forward Rate Constants\\n----------------------\")\n",
    "for reaction in liver.reactions:\n",
    "    print(\"{0}: {1:.6f}\".format(reaction.kf_str, reaction.kf))"
   ]
  },
  {
   "cell_type": "code",
   "execution_count": null,
   "metadata": {},
   "outputs": [],
   "source": [
    "#Function to add underscore in front of metabolite identifiers which start with a number\n",
    "## fix this only after getting Keq from equlibrator because bigg doesn't have _13dpg for example\n",
    "def prefix_number_id(id_str):\n",
    "    \"\"\"Prefix identifiers that start with numbers.\"\"\"\n",
    "    if re.match(r\"^\\d\", id_str):\n",
    "        id_str = \"_\" + id_str\n",
    "    return id_str"
   ]
  },
  {
   "cell_type": "code",
   "execution_count": null,
   "metadata": {},
   "outputs": [],
   "source": [
    "#Loop to edit the names using \"prefix_number_id\" function defined earlier\n",
    "for metabolite in liver.metabolites:\n",
    "    new_met_id = prefix_number_id(metabolite.id)\n",
    "    metabolite.id = new_met_id\n",
    "liver.repair()"
   ]
  },
  {
   "cell_type": "code",
   "execution_count": null,
   "metadata": {},
   "outputs": [],
   "source": [
    "qcqa_model(liver, parameters=True, concentrations=True,\n",
    "           fluxes=True, superfluous=True, elemental=True)"
   ]
  },
  {
   "cell_type": "code",
   "execution_count": null,
   "metadata": {},
   "outputs": [],
   "source": [
    "# Setup simulation object\n",
    "simG=Simulation(liver, verbose=True)\n",
    "# Simulate from 0 to 1000 with 10001 points in the output\n",
    "conc_sol, flux_sol = simG.simulate(liver, time=(0, 1e8))\n",
    "# Quickly render and display time profiles\n",
    "conc_sol.view_time_profile()"
   ]
  },
  {
   "cell_type": "code",
   "execution_count": null,
   "metadata": {},
   "outputs": [],
   "source": [
    "#function to set x label and y label\n",
    "def set_x_label(xlabel):\n",
    "    if xlabel==None:\n",
    "        xlabel=\"Time\"\n",
    "    else:\n",
    "        xlabel=xlabel\n",
    "    return xlabel\n",
    "        \n",
    "def set_y_label(ylabel):        \n",
    "    if ylabel==None:\n",
    "        ylabel=\"Concentrations\"\n",
    "    else:\n",
    "        ylabel=ylabel\n",
    "    return ylabel\n"
   ]
  },
  {
   "cell_type": "code",
   "execution_count": null,
   "metadata": {},
   "outputs": [],
   "source": [
    "#function to make plot typelinear log\n",
    "def set_plot_type(plot_type):\n",
    "    if plot_type == None:\n",
    "        x_plot_type = 'log'\n",
    "        y_plot_type = 'log'\n",
    "    elif plot_type == \"logx\":\n",
    "        x_plot_type = 'log'\n",
    "        y_plot_type = 'linear'\n",
    "    elif plot_type == \"logy\":\n",
    "        x_plot_type = 'linear'\n",
    "        y_plot_type = 'log'\n",
    "    elif plot_type == \"linear\":\n",
    "        x_plot_type = 'linear'\n",
    "        y_plot_type = 'linear'\n",
    "    elif plot_type == \"logxlogy\":\n",
    "        x_plot_type = 'log'\n",
    "        y_plot_type = 'log'\n",
    "    return x_plot_type,y_plot_type\n"
   ]
  },
  {
   "cell_type": "code",
   "execution_count": null,
   "metadata": {},
   "outputs": [],
   "source": [
    "def view_all_conc_sol(conc_sol,\n",
    "#                       dynamic=True\n",
    "                      xlim=None,ylim=None,plot_type=None,xlabel=None,ylabel=None,width=None,height=None):\n",
    "    \"\"\"Generate an interactable time profile which can zoom into the plot with interactive tooltip\"\"\"\n",
    "    #Shift click to click multiple\n",
    "    \n",
    "    data=conc_sol.to_frame()\n",
    "    data = data.reset_index().melt('Time', var_name='Metabolites', value_name='Concentrations')\n",
    "    \n",
    "    # Setting X limit and Y limit\n",
    "    def set_ylim(ylim):\n",
    "        if ylim == None:\n",
    "            conc=data['Concentrations']\n",
    "            ylim_max=max(conc)\n",
    "            ylim=[1e-5,ylim_max]\n",
    "        else:\n",
    "            ylim=ylim\n",
    "        return ylim\n",
    "    \n",
    "    def set_xlim(xlim):\n",
    "        if xlim == None:\n",
    "            xlim_max=data['Time'].iloc[-1]\n",
    "            xlim=[1e-5,xlim_max]\n",
    "\n",
    "        else:\n",
    "            xlim=xlim\n",
    "        return xlim\n",
    "    xlim=set_xlim(xlim)\n",
    "    ylim=set_ylim(ylim)\n",
    "        \n",
    "       \n",
    "    # Setting type of plot\n",
    "    x_plot_type=set_plot_type(plot_type)[0]\n",
    "    y_plot_type=set_plot_type(plot_type)[1]\n",
    "        \n",
    "    # Setting x label and y label\n",
    "    xlabel=set_x_label(xlabel)\n",
    "    ylabel=set_y_label(ylabel)\n",
    "    # Setting width and height\n",
    "    if width==None:\n",
    "        width=500\n",
    "    else:\n",
    "        width=width\n",
    "        \n",
    "    if height==None:\n",
    "        height=300\n",
    "    else:\n",
    "        height=height\n",
    "    \n",
    "    alt.data_transformers.disable_max_rows()\n",
    "    selection = alt.selection_multi(fields=['Metabolites'])\n",
    "    color = alt.condition(selection,\n",
    "                          alt.Color('Metabolites:N', legend=None),\n",
    "                          alt.value('lightgray'))\n",
    "\n",
    "    line = alt.Chart(data).mark_line(clip=True).encode(alt.X('Time:Q',\n",
    "                                                             title=xlabel,\n",
    "                                                             scale=alt.Scale(type = x_plot_type,\n",
    "                                                                             padding = 10,\n",
    "                                                                             domain = xlim,\n",
    "#                   zero=True,\n",
    "                              ),\n",
    "              axis=alt.Axis(tickCount=5)),\n",
    "        alt.Y('Concentrations:Q',\n",
    "              title=ylabel,\n",
    "              scale=alt.Scale(type=y_plot_type,\n",
    "                              padding = 10,\n",
    "                              domain = ylim,\n",
    "#                   zero=True, \n",
    "                             ),\n",
    "               axis=alt.Axis(grid=False,\n",
    "                             tickCount=5)),\n",
    "        color=color,\n",
    "        tooltip= [\"Metabolites\"]+[\"Time\"]+[\"Concentrations\"]\n",
    "    ).properties(width=width, height=height).interactive()\n",
    "\n",
    "    \n",
    "    \n",
    "#         if dynamic == False:\n",
    "#             A = alt.layer(line)\n",
    "#         else:\n",
    "    legend = alt.Chart(data).mark_point().encode(\n",
    "        y=alt.Y('Metabolites:N', axis=alt.Axis(orient='right')),\n",
    "        color=color\n",
    "    ).add_selection(\n",
    "        selection\n",
    "    )\n",
    "    A= line | legend\n",
    "    return A"
   ]
  },
  {
   "cell_type": "code",
   "execution_count": null,
   "metadata": {},
   "outputs": [],
   "source": [
    "view_all_conc_sol(conc_sol,plot_type='logxlogy')"
   ]
  },
  {
   "cell_type": "code",
   "execution_count": null,
   "metadata": {},
   "outputs": [],
   "source": []
  }
 ],
 "metadata": {
  "interpreter": {
   "hash": "dac1de4d04d521f2478106b8cf0804304a8a54afaab58ac4b602c07888c6e2cc"
  },
  "kernelspec": {
   "display_name": "Python 3.8.12 ('massliver')",
   "language": "python",
   "name": "python3"
  },
  "language_info": {
   "codemirror_mode": {
    "name": "ipython",
    "version": 3
   },
   "file_extension": ".py",
   "mimetype": "text/x-python",
   "name": "python",
   "nbconvert_exporter": "python",
   "pygments_lexer": "ipython3",
   "version": "3.8.12"
  }
 },
 "nbformat": 4,
 "nbformat_minor": 4
}
