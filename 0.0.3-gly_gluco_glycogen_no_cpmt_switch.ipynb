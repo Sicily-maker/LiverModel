{
 "cells": [
  {
   "cell_type": "markdown",
   "metadata": {},
   "source": [
    "# Liver Model Construction: Notebook"
   ]
  },
  {
   "cell_type": "markdown",
   "metadata": {},
   "source": [
    "Trying to get switch between glycolysis and gluconeogenesis without compartments. Copy of 0.0.1-glycolysis_gluco_w_out_comp_split \n",
    "\n",
    "started on 1 june 2022\n",
    "\n",
    "updates:\n",
    "- tryign to make a function to haave objective fucntion based on glucose conc\n",
    "0.0.1 --> simulates with standard fluxes\n",
    "\n",
    "\n",
    "- 0.0.2 sampling fluxes and conc, finding mean values and using that to simulate\n",
    "\n",
    "- 0.0.3  trying to add glycogen 25 July 22\n"
   ]
  },
  {
   "cell_type": "code",
   "execution_count": 21,
   "metadata": {},
   "outputs": [
    {
     "name": "stdout",
     "output_type": "stream",
     "text": [
      "MASSpy version: 0.1.6\n"
     ]
    }
   ],
   "source": [
    "import os\n",
    "import re\n",
    "import warnings\n",
    "# from cobra.io import \n",
    "import cobra\n",
    "from cobra.io.json import *\n",
    "import escher\n",
    "import mass\n",
    "import numpy as np\n",
    "import pandas as pd\n",
    "import equilibrator_api\n",
    "from equilibrator_api import ComponentContribution, Q_\n",
    "import sympy as sym\n",
    "from cobra import Model, Reaction, Metabolite, DictList\n",
    "import cobra.test\n",
    "from os.path import join\n",
    "from mass.util import qcqa,qcqa_model\n",
    "from mass import (\n",
    "    MassConfiguration, MassMetabolite, MassModel,\n",
    "    MassReaction, Simulation, UnitDefinition)\n",
    "from mass.io.json import save_json_model as save_json_mass_model\n",
    "from mass.visualization import plot_comparison, plot_time_profile, plot_ensemble_phase_portrait, plot_ensemble_time_profile\n",
    "mass_config = MassConfiguration()\n",
    "mass_config.irreversible_Keq = float(\"inf\")\n",
    "print(\"MASSpy version: {0}\".format(mass.__version__))\n",
    "from six import iteritems\n",
    "import matplotlib.pyplot as plt\n",
    "from mass.thermo import (\n",
    "    ConcSolver, sample_concentrations,\n",
    "    update_model_with_concentration_solution)\n",
    "\n",
    "\n",
    "import cobra_dict as c_d\n",
    "import csv\n",
    "import altair as alt\n",
    "from minspan.minspan import minspan,nnz\n",
    "from tqdm import tqdm\n",
    "from scipy.integrate import solve_ivp"
   ]
  },
  {
   "cell_type": "code",
   "execution_count": 22,
   "metadata": {},
   "outputs": [],
   "source": [
    "maps_dir = os.path.abspath(\"maps\")\n",
    "data_dir = os.path.abspath(\"data\")\n",
    "ref_dir = os.path.abspath(\"reference files\")\n",
    "dir = os.path.abspath(\"\")\n",
    "model_dir = os.path.abspath(\"models\")\n",
    "minspan_dir= os.path.abspath(\"minspans_csv\")"
   ]
  },
  {
   "cell_type": "code",
   "execution_count": 23,
   "metadata": {},
   "outputs": [],
   "source": [
    "from mass.io.sbml import read_sbml_model\n",
    "from mass.io.sbml import validate_sbml_model"
   ]
  },
  {
   "cell_type": "code",
   "execution_count": 24,
   "metadata": {},
   "outputs": [],
   "source": [
    "# liver_holz = os.path.join(ref_dir,\"liver.sbml\")\n",
    "# model, errors = validate_sbml_model(liver_holz)"
   ]
  },
  {
   "cell_type": "code",
   "execution_count": 25,
   "metadata": {},
   "outputs": [],
   "source": [
    "# liver_holz = os.path.join(ref_dir,\"liver.sbml\")\n",
    "\n",
    "# liver_mass, errors = read_sbml_model(liver_holz)"
   ]
  },
  {
   "cell_type": "markdown",
   "metadata": {},
   "source": [
    "### Getting reactions and metabolite data from RECON 3D"
   ]
  },
  {
   "cell_type": "code",
   "execution_count": 26,
   "metadata": {},
   "outputs": [],
   "source": [
    "# making dataframe of metabolites\n",
    "\n",
    "csv_met = os.path.join(data_dir,\"gly_gluco_glycogen_no_compts_met_df.csv\")\n",
    "met_csv_df = pd.read_csv(csv_met,index_col=\"id\")\n",
    "metabolite_info=met_csv_df.to_dict(orient='index')\n",
    "\n",
    "# making dataframe of reactions\n",
    "# csv_rxn = os.path.join(data_dir,\"gly_gluco_reaction_df.csv\")\n",
    "# rxn_csv_df = pd.read_csv(csv_rxn,index_col=\"id\") \n",
    "# reaction_info = rxn_csv_df.to_dict(orient='index')"
   ]
  },
  {
   "cell_type": "markdown",
   "metadata": {},
   "source": [
    "### Loading cobra model"
   ]
  },
  {
   "cell_type": "code",
   "execution_count": 27,
   "metadata": {},
   "outputs": [],
   "source": [
    "# Initiate empty model\n",
    "trial= cobra.Model()"
   ]
  },
  {
   "cell_type": "code",
   "execution_count": 28,
   "metadata": {},
   "outputs": [
    {
     "name": "stdout",
     "output_type": "stream",
     "text": [
      "HEX1\n",
      "PGI\n",
      "FBP\n",
      "PFK\n",
      "FBA\n",
      "TPI\n",
      "GAPD\n",
      "PGK\n",
      "PGM\n",
      "ENO\n",
      "PEPCKm\n",
      "PYK\n",
      "PCm\n",
      "LDH_L\n",
      "PGMT\n",
      "GLPASE2\n",
      "GLDBRAN\n",
      "GLBRAN\n",
      "GLPASE1\n",
      "GLGNS1\n",
      "GGNG\n",
      "GALUi\n",
      "ADK1\n",
      "ATPM\n"
     ]
    }
   ],
   "source": [
    "#  Add all the remaining metabolites involved in the pathway\n",
    "for met_id, info in metabolite_info.items():\n",
    "    met = cobra.Metabolite(met_id, name=info['name'], formula=info['formula'], \n",
    "                           charge=info['charge'], \n",
    "                        #    compartment=info['compartment']\n",
    "                           )\n",
    "    trial.add_metabolites(met)\n",
    "\n",
    "rxn_json = os.path.join(data_dir,\"gly_gluco_glycogen_no_compt_reaction_df.json\")\n",
    "with open(rxn_json) as json_file:\n",
    "    rxn_data = json.load(json_file)\n",
    "\n",
    "    \n",
    "for reaction, info in rxn_data.items():\n",
    "    reaction_obj = cobra.Reaction(reaction)\n",
    "    reaction_obj.id=reaction\n",
    "    reaction= reaction_obj.id\n",
    "    reaction_obj.lower_bound = info['lower_bound']\n",
    "    reaction_obj.upper_bound = info['upper_bound']\n",
    "    reaction_obj.name = info['name']\n",
    "    trial.add_reaction(reaction_obj)\n",
    "    temp=info['metabolites']\n",
    "    reaction_obj.add_metabolites(temp)\n",
    "    print(reaction)"
   ]
  },
  {
   "cell_type": "code",
   "execution_count": 29,
   "metadata": {},
   "outputs": [],
   "source": [
    "#adding NADHM \n",
    "nadhm = {'nadh': -1, 'h': 1, 'nad': 1}\n",
    "rxn = cobra.Reaction('NADHM')\n",
    "trial.add_reaction(rxn)\n",
    "rxn.add_metabolites(nadhm)\n",
    "\n",
    "\n",
    "\n",
    "\n",
    "# gly_syn = {'glygn2': -1, 'g1p': 1}\n",
    "# rxn2 = cobra.Reaction('PEPtm')\n",
    "# trial.add_reaction(rxn2)\n",
    "# rxn2.add_metabolites(peptm)\n",
    "\n",
    "\n",
    "\n",
    "g6pase = {'g6p': -1, 'h2o': -1, 'pi': 1, 'glc__D':1}\n",
    "rxn3 = cobra.Reaction('G6PP')\n",
    "trial.add_reaction(rxn3)\n",
    "rxn3.add_metabolites(g6pase)\n",
    "trial.reactions.G6PP.lower_bound=0\n",
    "\n",
    "trial.metabolites.h.charge= 1\n",
    "# trial.metabolites.h.charge= 1\n",
    "# trial.metabolites.h_e.charge= 1\n",
    "trial.metabolites.pi.charge= -2\n",
    "# trial.metabolites.pi_m.charge= -2"
   ]
  },
  {
   "cell_type": "code",
   "execution_count": 30,
   "metadata": {},
   "outputs": [],
   "source": [
    "# μmol substrate /gww.hep/min\n",
    "# https://link.springer.com/article/10.1007/s10439-006-9217-2/tables/2 \n",
    "\n",
    "# trial.reactions.G6PP.lower_bound = 0\n",
    "trial.reactions.LDH_L.upper_bound = 195\n",
    "\n",
    "trial.reactions.PEPCKm.upper_bound = 5.66 "
   ]
  },
  {
   "cell_type": "code",
   "execution_count": 47,
   "metadata": {},
   "outputs": [
    {
     "name": "stdout",
     "output_type": "stream",
     "text": [
      "HEX1 {}\n",
      "PGI {}\n",
      "FBP {}\n",
      "PFK {}\n",
      "FBA {}\n",
      "TPI {}\n",
      "GAPD {}\n",
      "PGK {}\n",
      "PGM {}\n",
      "ENO {}\n",
      "PEPCKm {}\n",
      "PYK {}\n",
      "PCm {}\n",
      "LDH_L {}\n",
      "PGMT {}\n",
      "GLPASE2 {}\n",
      "GLDBRAN {}\n",
      "GLBRAN {}\n",
      "GLPASE1 {}\n",
      "GLGNS1 {}\n",
      "GGNG {}\n",
      "GALUi {}\n",
      "ADK1 {}\n",
      "ATPM {}\n",
      "NADHM {'charge': 2}\n",
      "G6PP {}\n",
      "EX_glc__D {'C': -6, 'H': -12, 'O': -6}\n",
      "EX_h2o {'H': -2, 'O': -1}\n",
      "EX_h {'charge': -1, 'H': -1}\n",
      "EX_pi {'charge': 2, 'H': -1, 'O': -4, 'P': -1}\n",
      "EX_lac__L {'charge': 1, 'C': -3, 'H': -5, 'O': -3}\n",
      "EX_pyr {'charge': 1, 'C': -3, 'H': -3, 'O': -3}\n",
      "EX_co2 {'C': -1, 'O': -2}\n",
      "EX_hco3 {'charge': 1, 'C': -1, 'H': -1, 'O': -3}\n",
      "EX_gtp {'charge': 4, 'C': -10, 'H': -12, 'N': -5, 'O': -14, 'P': -3}\n",
      "EX_amp {'charge': 2, 'C': -10, 'H': -12, 'N': -5, 'O': -7, 'P': -1}\n",
      "EX_gdp {'charge': 3, 'C': -10, 'H': -12, 'N': -5, 'O': -11, 'P': -2}\n",
      "EX_adp {'charge': 3, 'C': -10, 'H': -12, 'N': -5, 'O': -10, 'P': -2}\n",
      "EX_glygn2 {'C': -66, 'H': -111, 'O': -56, 'X': -1}\n",
      "EX_udp {'charge': 3, 'C': -9, 'H': -11, 'N': -2, 'O': -12, 'P': -2}\n",
      "EX_utp {'charge': 4, 'C': -9, 'H': -11, 'N': -2, 'O': -15, 'P': -3}\n",
      "EX_ppi {'charge': 3, 'H': -1, 'O': -7, 'P': -2}\n",
      "EX_Tyr_ggn {'X': -1, 'O': -1, 'H': -1}\n"
     ]
    }
   ],
   "source": [
    "#Mass balance check\n",
    "for r in trial.reactions:\n",
    "    print(r.id,  r.check_mass_balance())"
   ]
  },
  {
   "cell_type": "code",
   "execution_count": 31,
   "metadata": {},
   "outputs": [
    {
     "name": "stdout",
     "output_type": "stream",
     "text": [
      "EX_glc__D\n",
      "EX_h2o\n",
      "EX_h\n",
      "EX_pi\n",
      "EX_lac__L\n",
      "EX_pyr\n",
      "EX_co2\n",
      "EX_hco3\n",
      "EX_gtp\n",
      "EX_amp\n",
      "EX_gdp\n",
      "EX_adp\n",
      "EX_glygn2\n",
      "EX_udp\n",
      "EX_utp\n",
      "EX_ppi\n",
      "EX_Tyr_ggn\n"
     ]
    }
   ],
   "source": [
    "for met in ['glc__D', \n",
    "'h2o', \n",
    "'h', \n",
    "'pi',\n",
    "'lac__L',    \n",
    "'pyr',\n",
    "# 'o2',\n",
    "'co2',\n",
    "'hco3', 'gtp',\n",
    "'amp','gdp','adp',\n",
    "# 'g1p',\n",
    "'glygn2',\n",
    "    # 'atp',\n",
    "     'udp',\n",
    "    'utp','ppi',\n",
    "    'Tyr_ggn',\n",
    "    # 'glygn3', \n",
    "\n",
    "     ]:\n",
    "    rxn = cobra.Reaction('EX_%s' % met)\n",
    "    name = rxn.id\n",
    "    \n",
    "    if name not in trial.reactions:\n",
    "        print(rxn.id)\n",
    "        trial.add_reaction(rxn)\n",
    "        rxn.add_metabolites({met: -1})\n",
    "        rxn.lower_bound = -1000\n",
    "        if met == 'glc__D':\n",
    "            rxn.lower_bound = -0.585 # by convention negative exchange flux = uptake\n",
    "            rxn.upper_bound = 57 # μmol substrate /gww.hep/min\n",
    "            # https://link.springer.com/article/10.1007/s10439-006-9217-2/tables/2 \n",
    "        elif met == 'amp':\n",
    "            rxn.upper_bound = 1\n",
    "\n",
    "        elif met == 'lac__L':\n",
    "            \n",
    "            rxn.upper_bound = 3.24 # μmol substrate /gww.hep/min\n",
    "            # https://link.springer.com/article/10.1007/s10439-006-9217-2/tables/2 \n",
    "        # elif met == 'atp':\n",
    "        # try chaining upper bound glucose to 100 and see\n",
    "        #     rxn.upper_bound = 0\n",
    "        elif met == 'pyr':\n",
    "            \n",
    "            rxn.upper_bound = 0 # μmol substrate /gww.hep/min\n",
    "        #     # https://link.springer.com/article/10.1007/s10439-006-9217-2/tables/2 \n",
    "        \n",
    "        elif met == 'glygn2':\n",
    "            \n",
    "            rxn.upper_bound = 0.304 #μmole C6/gww/min\n",
    "            rxn.lower_bound = 0 #μmole C6/gww/min\n",
    "        #     # https://link.springer.com/article/10.1007/s10439-006-9217-2/tables/2       \n",
    "        \n",
    "        # elif met == 'g1p':\n",
    "            \n",
    "        #     rxn.lower_bound = 0 \n",
    "\n",
    "        else:\n",
    "            rxn.upper_bound = 1000\n",
    "\n",
    "\n",
    "            # keep the split between fed anf fasting state"
   ]
  },
  {
   "cell_type": "code",
   "execution_count": 32,
   "metadata": {},
   "outputs": [],
   "source": [
    "from cobra.io import json\n",
    "import cobra.test"
   ]
  },
  {
   "cell_type": "code",
   "execution_count": 33,
   "metadata": {},
   "outputs": [
    {
     "data": {
      "application/vnd.jupyter.widget-view+json": {
       "model_id": "964ceb71800549a8887af7a4631e1c9f",
       "version_major": 2,
       "version_minor": 0
      },
      "text/plain": [
       "Builder(highlight_missing=True)"
      ]
     },
     "metadata": {},
     "output_type": "display_data"
    }
   ],
   "source": [
    "# #Escher FBA: shows the solutions on the map\n",
    "# initial_flux_data = {\n",
    "#     reaction: flux\n",
    "#     for reaction, flux in flux_solution.fluxes.items()}\n",
    "\n",
    "\n",
    "#view all the reactions that we need build\n",
    "escher_builder = escher.Builder(\n",
    "    model=trial,\n",
    "    map_json=os.path.join(\n",
    "        maps_dir,\"Glycolysis_Gluconeogenesis_Glycogen.json\"\n",
    "        )\n",
    "        ,highlight_missing=True\n",
    "    # , reaction_data=initial_flux_data\n",
    "    )\n",
    "\n",
    "# Display map in notebook\n",
    "escher_builder"
   ]
  },
  {
   "cell_type": "code",
   "execution_count": 34,
   "metadata": {},
   "outputs": [
    {
     "data": {
      "text/html": [
       "\n",
       "        <table>\n",
       "            <tr>\n",
       "                <td><strong>Metabolite identifier</strong></td><td>glygn2</td>\n",
       "            </tr><tr>\n",
       "                <td><strong>Name</strong></td><td>Glycogen, structure 2...</td>\n",
       "            </tr><tr>\n",
       "                <td><strong>Memory address</strong></td>\n",
       "                <td>0x023826959130</td>\n",
       "            </tr><tr>\n",
       "                <td><strong>Formula</strong></td><td>C66H111O56X</td>\n",
       "            </tr><tr>\n",
       "                <td><strong>Compartment</strong></td><td>None</td>\n",
       "            </tr><tr>\n",
       "                <td><strong>In 3 reaction(s)</strong></td><td>\n",
       "                    EX_glygn2, GLBRAN, GLPASE1</td>\n",
       "            </tr>\n",
       "        </table>"
      ],
      "text/plain": [
       "<Metabolite glygn2 at 0x23826959130>"
      ]
     },
     "execution_count": 34,
     "metadata": {},
     "output_type": "execute_result"
    }
   ],
   "source": [
    "trial.metabolites.glygn2"
   ]
  },
  {
   "cell_type": "code",
   "execution_count": 35,
   "metadata": {},
   "outputs": [],
   "source": [
    "futile_cycle_1 = trial.problem.Constraint(\n",
    "    trial.reactions.PFK.flux_expression - trial.reactions.FBP.flux_expression,\n",
    "    lb=-10,\n",
    "    ub=10)\n",
    "trial.add_cons_vars(futile_cycle_1)\n",
    "\n",
    "\n",
    "futile_cycle_2 = trial.problem.Constraint(\n",
    "    trial.reactions.HEX1.flux_expression - trial.reactions.G6PP.flux_expression,\n",
    "    lb=-10,\n",
    "    ub=10)\n",
    "trial.add_cons_vars(futile_cycle_2)\n",
    "\n",
    "\n",
    "futile_cycle_3 = trial.problem.Constraint(\n",
    "    trial.reactions.PYK.flux_expression - trial.reactions.PCm.flux_expression,\n",
    "    lb=-10,\n",
    "    ub=10)\n",
    "trial.add_cons_vars(futile_cycle_3)\n",
    "\n",
    "# . It generally is accepted that in an overnight, post-absorptive state,\n",
    "#  the contribution of glycogenolysis and gluconeogenesis to overall glucose production is approximately equal.\n",
    "# https://onlinelibrary.wiley.com/doi/10.1002/dmrr.863"
   ]
  },
  {
   "cell_type": "code",
   "execution_count": 68,
   "metadata": {},
   "outputs": [
    {
     "data": {
      "text/html": [
       "<strong><em>Optimal</em> solution with objective value 0.250</strong><br><div>\n",
       "<style scoped>\n",
       "    .dataframe tbody tr th:only-of-type {\n",
       "        vertical-align: middle;\n",
       "    }\n",
       "\n",
       "    .dataframe tbody tr th {\n",
       "        vertical-align: top;\n",
       "    }\n",
       "\n",
       "    .dataframe thead th {\n",
       "        text-align: right;\n",
       "    }\n",
       "</style>\n",
       "<table border=\"1\" class=\"dataframe\">\n",
       "  <thead>\n",
       "    <tr style=\"text-align: right;\">\n",
       "      <th></th>\n",
       "      <th>fluxes</th>\n",
       "      <th>reduced_costs</th>\n",
       "    </tr>\n",
       "  </thead>\n",
       "  <tbody>\n",
       "    <tr>\n",
       "      <th>HEX1</th>\n",
       "      <td>0.00</td>\n",
       "      <td>-0.5</td>\n",
       "    </tr>\n",
       "    <tr>\n",
       "      <th>PGI</th>\n",
       "      <td>-0.25</td>\n",
       "      <td>-0.0</td>\n",
       "    </tr>\n",
       "    <tr>\n",
       "      <th>FBP</th>\n",
       "      <td>0.25</td>\n",
       "      <td>0.0</td>\n",
       "    </tr>\n",
       "    <tr>\n",
       "      <th>PFK</th>\n",
       "      <td>0.00</td>\n",
       "      <td>-0.5</td>\n",
       "    </tr>\n",
       "    <tr>\n",
       "      <th>FBA</th>\n",
       "      <td>-0.25</td>\n",
       "      <td>-0.0</td>\n",
       "    </tr>\n",
       "    <tr>\n",
       "      <th>...</th>\n",
       "      <td>...</td>\n",
       "      <td>...</td>\n",
       "    </tr>\n",
       "    <tr>\n",
       "      <th>EX_glygn2</th>\n",
       "      <td>0.00</td>\n",
       "      <td>-22.0</td>\n",
       "    </tr>\n",
       "    <tr>\n",
       "      <th>EX_udp</th>\n",
       "      <td>0.00</td>\n",
       "      <td>-0.0</td>\n",
       "    </tr>\n",
       "    <tr>\n",
       "      <th>EX_utp</th>\n",
       "      <td>0.00</td>\n",
       "      <td>-0.0</td>\n",
       "    </tr>\n",
       "    <tr>\n",
       "      <th>EX_ppi</th>\n",
       "      <td>0.00</td>\n",
       "      <td>-0.0</td>\n",
       "    </tr>\n",
       "    <tr>\n",
       "      <th>EX_Tyr_ggn</th>\n",
       "      <td>0.00</td>\n",
       "      <td>0.0</td>\n",
       "    </tr>\n",
       "  </tbody>\n",
       "</table>\n",
       "<p>43 rows × 2 columns</p>\n",
       "</div>"
      ],
      "text/plain": [
       "<Solution 0.250 at 0x2382f6e3bb0>"
      ]
     },
     "execution_count": 68,
     "metadata": {},
     "output_type": "execute_result"
    }
   ],
   "source": [
    "trial.objective = \"EX_glc__D\"\n",
    "flux_solution = trial.optimize()\n",
    "flux_solution"
   ]
  },
  {
   "cell_type": "code",
   "execution_count": 76,
   "metadata": {},
   "outputs": [
    {
     "name": "stdout",
     "output_type": "stream",
     "text": [
      "0.0\n"
     ]
    }
   ],
   "source": [
    "with trial:\n",
    "    trial.objective = {trial.reactions.EX_glc__D: 0.5,\n",
    "    trial.reactions.EX_glygn2: 0.5 }\n",
    "    trial.optimize()\n",
    "    print(trial.reactions.EX_glygn2.flux)"
   ]
  },
  {
   "cell_type": "code",
   "execution_count": 74,
   "metadata": {},
   "outputs": [],
   "source": [
    "from cobra.util.solver import linear_reaction_coefficients"
   ]
  },
  {
   "cell_type": "code",
   "execution_count": 75,
   "metadata": {},
   "outputs": [
    {
     "data": {
      "text/plain": [
       "{<Reaction EX_glc__D at 0x23826922af0>: 1.0}"
      ]
     },
     "execution_count": 75,
     "metadata": {},
     "output_type": "execute_result"
    }
   ],
   "source": [
    "linear_reaction_coefficients(trial)\n"
   ]
  },
  {
   "cell_type": "code",
   "execution_count": 42,
   "metadata": {},
   "outputs": [
    {
     "data": {
      "application/vnd.jupyter.widget-view+json": {
       "model_id": "dc303c3015a442a08a665807db0d04b8",
       "version_major": 2,
       "version_minor": 0
      },
      "text/plain": [
       "Builder(reaction_data={'HEX1': 0.0, 'PGI': -0.25, 'FBP': 0.25, 'PFK': 0.0, 'FBA': -0.25, 'TPI': -0.25, 'GAPD':…"
      ]
     },
     "metadata": {},
     "output_type": "display_data"
    }
   ],
   "source": [
    "# #Escher FBA: shows the solutions on the map\n",
    "initial_flux_data = {\n",
    "    reaction: flux\n",
    "    for reaction, flux in flux_solution.fluxes.items()}\n",
    "\n",
    "\n",
    "#view all the reactions that we need build\n",
    "escher_builder = escher.Builder(\n",
    "    model=trial,\n",
    "    map_json=os.path.join(\n",
    "        maps_dir,\"Glycolysis_Gluconeogenesis_Glycogen.json\"\n",
    "        )\n",
    "        # ,highlight_missing=True\n",
    "    , reaction_data=initial_flux_data\n",
    "    )\n",
    "\n",
    "# Display map in notebook\n",
    "escher_builder"
   ]
  },
  {
   "cell_type": "code",
   "execution_count": 43,
   "metadata": {},
   "outputs": [],
   "source": [
    "gly_gluco_json = os.path.join(model_dir,\"glycolysis_gluconeogenesis_glycogen_no_cmpt.json\")\n",
    "json.save_json_model(model=trial, filename=gly_gluco_json)"
   ]
  },
  {
   "cell_type": "code",
   "execution_count": 48,
   "metadata": {},
   "outputs": [],
   "source": [
    "# np.linspace?\n",
    "# for \n",
    "switch = pd.DataFrame(columns=[\"Gluc_conc\", \"Objective_val\"])\n",
    "range = np.linspace(2,14,num=240)\n",
    "list_objs=[]\n",
    "for i in range:\n",
    "    \n",
    "    if i >7.5:\n",
    "        trial.objective = 'ATPM'\n",
    "        flux_solution = trial.optimize()\n",
    "        obj_val = flux_solution.objective_value\n",
    "    else:\n",
    "        trial.objective = \"EX_glc__D\"\n",
    "        flux_solution = trial.optimize()\n",
    "        obj_val = flux_solution.objective_value\n",
    "    list_objs.append(obj_val)\n",
    "   \n",
    "switch[\"Gluc_conc\"] = range\n",
    "switch[\"Objective_val\"] = list_objs\n",
    "switch= switch.set_index(\"Gluc_conc\")\n",
    "\n",
    "        "
   ]
  },
  {
   "cell_type": "code",
   "execution_count": 49,
   "metadata": {},
   "outputs": [],
   "source": [
    "from matplotlib import pyplot as plt"
   ]
  },
  {
   "cell_type": "code",
   "execution_count": 50,
   "metadata": {},
   "outputs": [
    {
     "data": {
      "text/plain": [
       "<AxesSubplot:>"
      ]
     },
     "execution_count": 50,
     "metadata": {},
     "output_type": "execute_result"
    },
    {
     "data": {
      "image/png": "[encoded data removed]",
      "text/plain": [
       "<Figure size 432x288 with 1 Axes>"
      ]
     },
     "metadata": {
      "needs_background": "light"
     },
     "output_type": "display_data"
    }
   ],
   "source": [
    "fig, ax = plt.subplots(1,1)\n",
    "plt.plot(switch[\"Objective_val\"])\n",
    "ax"
   ]
  },
  {
   "cell_type": "markdown",
   "metadata": {},
   "source": [
    "## Solution Space (sampling)"
   ]
  },
  {
   "cell_type": "code",
   "execution_count": null,
   "metadata": {},
   "outputs": [],
   "source": [
    "# combined =trial.copy()\n",
    "# combined.objective= \"ATPM\"\n",
    "# flux_solution = combined.optimize()\n",
    "# df_gly = cobra.sampling.sample(combined,  5000, method = \"optgp\", processes = 4)\n",
    "\n",
    "# fig, axes = plt.subplots(1, 2, figsize=(10, 5), sharey=True)\n",
    "# ax = axes[0]\n",
    "# df_gly['PFK'].hist(ax=ax)\n",
    "# ax.set_xlabel('PFK flux')\n",
    "# ax.set_ylabel('Number of solutions')\n",
    "\n",
    "# ax = axes[1]\n",
    "# ax = df_gly['FBP'].hist(ax=ax)\n",
    "# ax.set_xlabel('FBP flux')"
   ]
  },
  {
   "cell_type": "code",
   "execution_count": null,
   "metadata": {},
   "outputs": [],
   "source": [
    "# # df\n",
    "# mean_flux = pd.DataFrame( columns =[\"reaction\",\"mean\", \"stdev\"])\n",
    "# # means =[]\n",
    "# # std=[]\n",
    "# for i in df_gly.columns:\n",
    "#     mean = df_gly[i].mean()\n",
    "#     # print(index)\n",
    "#     # means.append(index)\n",
    "#     std = df_gly[i].std()\n",
    "#     mean_flux.loc[len(mean_flux.index)] = [i, mean, std]\n",
    "# # mean_flux[\"Mean_gluco\"] = means\n",
    "# # mean_flux[\"ST_dev_gluco\"] = std\n",
    "# mean_flux"
   ]
  },
  {
   "cell_type": "code",
   "execution_count": 83,
   "metadata": {},
   "outputs": [
    {
     "name": "stdout",
     "output_type": "stream",
     "text": [
      "Read LP format model from file C:\\Users\\sicil\\AppData\\Local\\Temp\\tmp6m_pgt2u.lp\n",
      "Reading time = 0.00 seconds\n",
      ": 39 rows, 89 columns, 257 nonzeros\n",
      "Read LP format model from file C:\\Users\\sicil\\AppData\\Local\\Temp\\tmpv80cxe_k.lp\n",
      "Reading time = 0.00 seconds\n",
      ": 40 rows, 89 columns, 259 nonzeros\n"
     ]
    },
    {
     "data": {
      "text/plain": [
       "Text(0.5, 0, 'G6PP flux')"
      ]
     },
     "execution_count": 83,
     "metadata": {},
     "output_type": "execute_result"
    },
    {
     "data": {
      "image/png": "[encoded data removed]",
      "text/plain": [
       "<Figure size 720x360 with 2 Axes>"
      ]
     },
     "metadata": {
      "needs_background": "light"
     },
     "output_type": "display_data"
    }
   ],
   "source": [
    "combined =trial.copy()\n",
    "combined.objective= \"EX_glc__D\"\n",
    "flux_solution = combined.optimize()\n",
    "co = combined.problem.Constraint(combined.reactions.EX_glc__D.flux_expression, lb=0)\n",
    "combined.add_cons_vars([co])\n",
    "\n",
    "\n",
    "df = cobra.sampling.sample(combined, 5000, method = \"optgp\", processes = 4)\n",
    "\n",
    "fig, axes = plt.subplots(1, 2, figsize=(10, 5), sharey=True)\n",
    "ax = axes[0]\n",
    "df['HEX1'].hist(ax=ax)\n",
    "ax.set_xlabel('HEX1 flux')\n",
    "ax.set_ylabel('Number of solutions')\n",
    "\n",
    "ax = axes[1]\n",
    "ax = df['G6PP'].hist(ax=ax)\n",
    "ax.set_xlabel('G6PP flux')"
   ]
  },
  {
   "cell_type": "code",
   "execution_count": 84,
   "metadata": {},
   "outputs": [
    {
     "data": {
      "text/plain": [
       "Text(0.5, 0, 'FBP flux')"
      ]
     },
     "execution_count": 84,
     "metadata": {},
     "output_type": "execute_result"
    },
    {
     "data": {
      "image/png": "[encoded data removed]",
      "text/plain": [
       "<Figure size 720x360 with 2 Axes>"
      ]
     },
     "metadata": {
      "needs_background": "light"
     },
     "output_type": "display_data"
    }
   ],
   "source": [
    "fig, axes = plt.subplots(1, 2, figsize=(10, 5), sharey=True)\n",
    "ax = axes[0]\n",
    "df['PFK'].hist(ax=ax)\n",
    "ax.set_xlabel('PFK flux')\n",
    "ax.set_ylabel('Number of solutions')\n",
    "\n",
    "ax = axes[1]\n",
    "ax = df['FBP'].hist(ax=ax)\n",
    "ax.set_xlabel('FBP flux')"
   ]
  },
  {
   "cell_type": "code",
   "execution_count": 85,
   "metadata": {},
   "outputs": [
    {
     "data": {
      "text/html": [
       "<div>\n",
       "<style scoped>\n",
       "    .dataframe tbody tr th:only-of-type {\n",
       "        vertical-align: middle;\n",
       "    }\n",
       "\n",
       "    .dataframe tbody tr th {\n",
       "        vertical-align: top;\n",
       "    }\n",
       "\n",
       "    .dataframe thead th {\n",
       "        text-align: right;\n",
       "    }\n",
       "</style>\n",
       "<table border=\"1\" class=\"dataframe\">\n",
       "  <thead>\n",
       "    <tr style=\"text-align: right;\">\n",
       "      <th></th>\n",
       "      <th>reaction</th>\n",
       "      <th>mean</th>\n",
       "      <th>stdev</th>\n",
       "    </tr>\n",
       "  </thead>\n",
       "  <tbody>\n",
       "    <tr>\n",
       "      <th>0</th>\n",
       "      <td>HEX1</td>\n",
       "      <td>0.227172</td>\n",
       "      <td>0.148780</td>\n",
       "    </tr>\n",
       "    <tr>\n",
       "      <th>1</th>\n",
       "      <td>PGI</td>\n",
       "      <td>-0.068277</td>\n",
       "      <td>0.038864</td>\n",
       "    </tr>\n",
       "    <tr>\n",
       "      <th>2</th>\n",
       "      <td>FBP</td>\n",
       "      <td>0.192327</td>\n",
       "      <td>0.109960</td>\n",
       "    </tr>\n",
       "    <tr>\n",
       "      <th>3</th>\n",
       "      <td>PFK</td>\n",
       "      <td>0.124050</td>\n",
       "      <td>0.111601</td>\n",
       "    </tr>\n",
       "    <tr>\n",
       "      <th>4</th>\n",
       "      <td>FBA</td>\n",
       "      <td>-0.068277</td>\n",
       "      <td>0.038864</td>\n",
       "    </tr>\n",
       "    <tr>\n",
       "      <th>5</th>\n",
       "      <td>TPI</td>\n",
       "      <td>-0.068277</td>\n",
       "      <td>0.038864</td>\n",
       "    </tr>\n",
       "    <tr>\n",
       "      <th>6</th>\n",
       "      <td>GAPD</td>\n",
       "      <td>-0.136554</td>\n",
       "      <td>0.077728</td>\n",
       "    </tr>\n",
       "    <tr>\n",
       "      <th>7</th>\n",
       "      <td>PGK</td>\n",
       "      <td>0.136554</td>\n",
       "      <td>0.077728</td>\n",
       "    </tr>\n",
       "    <tr>\n",
       "      <th>8</th>\n",
       "      <td>PGM</td>\n",
       "      <td>0.136554</td>\n",
       "      <td>0.077728</td>\n",
       "    </tr>\n",
       "    <tr>\n",
       "      <th>9</th>\n",
       "      <td>ENO</td>\n",
       "      <td>-0.136554</td>\n",
       "      <td>0.077728</td>\n",
       "    </tr>\n",
       "    <tr>\n",
       "      <th>10</th>\n",
       "      <td>PEPCKm</td>\n",
       "      <td>2.877012</td>\n",
       "      <td>1.616790</td>\n",
       "    </tr>\n",
       "    <tr>\n",
       "      <th>11</th>\n",
       "      <td>PYK</td>\n",
       "      <td>2.740459</td>\n",
       "      <td>1.617732</td>\n",
       "    </tr>\n",
       "    <tr>\n",
       "      <th>12</th>\n",
       "      <td>PCm</td>\n",
       "      <td>2.877012</td>\n",
       "      <td>1.616790</td>\n",
       "    </tr>\n",
       "    <tr>\n",
       "      <th>13</th>\n",
       "      <td>LDH_L</td>\n",
       "      <td>0.136554</td>\n",
       "      <td>0.077728</td>\n",
       "    </tr>\n",
       "    <tr>\n",
       "      <th>14</th>\n",
       "      <td>PGMT</td>\n",
       "      <td>-0.161065</td>\n",
       "      <td>0.110062</td>\n",
       "    </tr>\n",
       "    <tr>\n",
       "      <th>15</th>\n",
       "      <td>GLPASE2</td>\n",
       "      <td>0.016201</td>\n",
       "      <td>0.013817</td>\n",
       "    </tr>\n",
       "    <tr>\n",
       "      <th>16</th>\n",
       "      <td>GLDBRAN</td>\n",
       "      <td>0.016201</td>\n",
       "      <td>0.013817</td>\n",
       "    </tr>\n",
       "    <tr>\n",
       "      <th>17</th>\n",
       "      <td>GLBRAN</td>\n",
       "      <td>0.019061</td>\n",
       "      <td>0.013687</td>\n",
       "    </tr>\n",
       "    <tr>\n",
       "      <th>18</th>\n",
       "      <td>GLPASE1</td>\n",
       "      <td>0.016201</td>\n",
       "      <td>0.013817</td>\n",
       "    </tr>\n",
       "    <tr>\n",
       "      <th>19</th>\n",
       "      <td>GLGNS1</td>\n",
       "      <td>0.019061</td>\n",
       "      <td>0.013687</td>\n",
       "    </tr>\n",
       "    <tr>\n",
       "      <th>20</th>\n",
       "      <td>GGNG</td>\n",
       "      <td>0.019061</td>\n",
       "      <td>0.013687</td>\n",
       "    </tr>\n",
       "    <tr>\n",
       "      <th>21</th>\n",
       "      <td>GALUi</td>\n",
       "      <td>0.209670</td>\n",
       "      <td>0.150555</td>\n",
       "    </tr>\n",
       "    <tr>\n",
       "      <th>22</th>\n",
       "      <td>ADK1</td>\n",
       "      <td>-0.751025</td>\n",
       "      <td>0.143908</td>\n",
       "    </tr>\n",
       "    <tr>\n",
       "      <th>23</th>\n",
       "      <td>ATPM</td>\n",
       "      <td>0.126696</td>\n",
       "      <td>0.111075</td>\n",
       "    </tr>\n",
       "    <tr>\n",
       "      <th>24</th>\n",
       "      <td>NADHM</td>\n",
       "      <td>0.000000</td>\n",
       "      <td>0.000000</td>\n",
       "    </tr>\n",
       "    <tr>\n",
       "      <th>25</th>\n",
       "      <td>G6PP</td>\n",
       "      <td>0.134383</td>\n",
       "      <td>0.111510</td>\n",
       "    </tr>\n",
       "    <tr>\n",
       "      <th>26</th>\n",
       "      <td>EX_glc__D</td>\n",
       "      <td>0.036823</td>\n",
       "      <td>0.031551</td>\n",
       "    </tr>\n",
       "    <tr>\n",
       "      <th>27</th>\n",
       "      <td>EX_h2o</td>\n",
       "      <td>-0.719571</td>\n",
       "      <td>0.140452</td>\n",
       "    </tr>\n",
       "    <tr>\n",
       "      <th>28</th>\n",
       "      <td>EX_h</td>\n",
       "      <td>0.614471</td>\n",
       "      <td>0.139510</td>\n",
       "    </tr>\n",
       "    <tr>\n",
       "      <th>29</th>\n",
       "      <td>EX_pi</td>\n",
       "      <td>3.418368</td>\n",
       "      <td>1.626179</td>\n",
       "    </tr>\n",
       "    <tr>\n",
       "      <th>30</th>\n",
       "      <td>EX_lac__L</td>\n",
       "      <td>-0.136554</td>\n",
       "      <td>0.077728</td>\n",
       "    </tr>\n",
       "    <tr>\n",
       "      <th>31</th>\n",
       "      <td>EX_pyr</td>\n",
       "      <td>0.000000</td>\n",
       "      <td>0.000000</td>\n",
       "    </tr>\n",
       "    <tr>\n",
       "      <th>32</th>\n",
       "      <td>EX_co2</td>\n",
       "      <td>2.877012</td>\n",
       "      <td>1.616790</td>\n",
       "    </tr>\n",
       "    <tr>\n",
       "      <th>33</th>\n",
       "      <td>EX_hco3</td>\n",
       "      <td>-2.877012</td>\n",
       "      <td>1.616790</td>\n",
       "    </tr>\n",
       "    <tr>\n",
       "      <th>34</th>\n",
       "      <td>EX_gtp</td>\n",
       "      <td>-2.877012</td>\n",
       "      <td>1.616790</td>\n",
       "    </tr>\n",
       "    <tr>\n",
       "      <th>35</th>\n",
       "      <td>EX_amp</td>\n",
       "      <td>0.751025</td>\n",
       "      <td>0.143908</td>\n",
       "    </tr>\n",
       "    <tr>\n",
       "      <th>36</th>\n",
       "      <td>EX_gdp</td>\n",
       "      <td>2.877012</td>\n",
       "      <td>1.616790</td>\n",
       "    </tr>\n",
       "    <tr>\n",
       "      <th>37</th>\n",
       "      <td>EX_adp</td>\n",
       "      <td>-0.751025</td>\n",
       "      <td>0.143908</td>\n",
       "    </tr>\n",
       "    <tr>\n",
       "      <th>38</th>\n",
       "      <td>EX_glygn2</td>\n",
       "      <td>0.002859</td>\n",
       "      <td>0.002524</td>\n",
       "    </tr>\n",
       "    <tr>\n",
       "      <th>39</th>\n",
       "      <td>EX_udp</td>\n",
       "      <td>0.209670</td>\n",
       "      <td>0.150555</td>\n",
       "    </tr>\n",
       "    <tr>\n",
       "      <th>40</th>\n",
       "      <td>EX_utp</td>\n",
       "      <td>-0.209670</td>\n",
       "      <td>0.150555</td>\n",
       "    </tr>\n",
       "    <tr>\n",
       "      <th>41</th>\n",
       "      <td>EX_ppi</td>\n",
       "      <td>0.209670</td>\n",
       "      <td>0.150555</td>\n",
       "    </tr>\n",
       "    <tr>\n",
       "      <th>42</th>\n",
       "      <td>EX_Tyr_ggn</td>\n",
       "      <td>-0.002859</td>\n",
       "      <td>0.002524</td>\n",
       "    </tr>\n",
       "  </tbody>\n",
       "</table>\n",
       "</div>"
      ],
      "text/plain": [
       "      reaction      mean     stdev\n",
       "0         HEX1  0.227172  0.148780\n",
       "1          PGI -0.068277  0.038864\n",
       "2          FBP  0.192327  0.109960\n",
       "3          PFK  0.124050  0.111601\n",
       "4          FBA -0.068277  0.038864\n",
       "5          TPI -0.068277  0.038864\n",
       "6         GAPD -0.136554  0.077728\n",
       "7          PGK  0.136554  0.077728\n",
       "8          PGM  0.136554  0.077728\n",
       "9          ENO -0.136554  0.077728\n",
       "10      PEPCKm  2.877012  1.616790\n",
       "11         PYK  2.740459  1.617732\n",
       "12         PCm  2.877012  1.616790\n",
       "13       LDH_L  0.136554  0.077728\n",
       "14        PGMT -0.161065  0.110062\n",
       "15     GLPASE2  0.016201  0.013817\n",
       "16     GLDBRAN  0.016201  0.013817\n",
       "17      GLBRAN  0.019061  0.013687\n",
       "18     GLPASE1  0.016201  0.013817\n",
       "19      GLGNS1  0.019061  0.013687\n",
       "20        GGNG  0.019061  0.013687\n",
       "21       GALUi  0.209670  0.150555\n",
       "22        ADK1 -0.751025  0.143908\n",
       "23        ATPM  0.126696  0.111075\n",
       "24       NADHM  0.000000  0.000000\n",
       "25        G6PP  0.134383  0.111510\n",
       "26   EX_glc__D  0.036823  0.031551\n",
       "27      EX_h2o -0.719571  0.140452\n",
       "28        EX_h  0.614471  0.139510\n",
       "29       EX_pi  3.418368  1.626179\n",
       "30   EX_lac__L -0.136554  0.077728\n",
       "31      EX_pyr  0.000000  0.000000\n",
       "32      EX_co2  2.877012  1.616790\n",
       "33     EX_hco3 -2.877012  1.616790\n",
       "34      EX_gtp -2.877012  1.616790\n",
       "35      EX_amp  0.751025  0.143908\n",
       "36      EX_gdp  2.877012  1.616790\n",
       "37      EX_adp -0.751025  0.143908\n",
       "38   EX_glygn2  0.002859  0.002524\n",
       "39      EX_udp  0.209670  0.150555\n",
       "40      EX_utp -0.209670  0.150555\n",
       "41      EX_ppi  0.209670  0.150555\n",
       "42  EX_Tyr_ggn -0.002859  0.002524"
      ]
     },
     "execution_count": 85,
     "metadata": {},
     "output_type": "execute_result"
    }
   ],
   "source": [
    "# df\n",
    "mean_flux = pd.DataFrame( columns =[\"reaction\",\"mean\", \"stdev\"])\n",
    "# means =[]\n",
    "# std=[]\n",
    "for i in df.columns:\n",
    "    mean = df[i].mean()\n",
    "    # print(index)\n",
    "    # means.append(index)\n",
    "    std = df[i].std()\n",
    "    mean_flux.loc[len(mean_flux.index)] = [i, mean, std]\n",
    "# mean_flux[\"Mean_gluco\"] = means\n",
    "# mean_flux[\"ST_dev_gluco\"] = std\n",
    "mean_flux"
   ]
  },
  {
   "cell_type": "code",
   "execution_count": 86,
   "metadata": {},
   "outputs": [],
   "source": [
    "mean_flux_csv=os.path.join(\n",
    "    data_dir,\"mean_fluxes.csv\"\n",
    "    )\n",
    "mean_flux.to_csv(mean_flux_csv)"
   ]
  },
  {
   "cell_type": "code",
   "execution_count": 87,
   "metadata": {},
   "outputs": [],
   "source": [
    "#  sample fluxes, conc, get percs, then try pushing\n",
    "# optgp\n",
    "# when running samples make sure cobrapy- check sampling, sample, check method\n"
   ]
  },
  {
   "cell_type": "markdown",
   "metadata": {},
   "source": [
    "# dFBA analysis"
   ]
  },
  {
   "cell_type": "code",
   "execution_count": 88,
   "metadata": {},
   "outputs": [],
   "source": [
    "def add_dynamic_bounds(trial, y):\n",
    "    \"\"\"Use external concentrations to bound the uptake flux of glucose.\"\"\"\n",
    "    atpm, glucose = y  # expand the boundary species\n",
    "    glucose_max_import = -10 * glucose / (5 + glucose)\n",
    "    trial.reactions.EX_glc__D.lower_bound = glucose_max_import\n",
    "\n",
    "\n",
    "def dynamic_system(t, y):\n",
    "    \"\"\"Calculate the time derivative of external species.\"\"\"\n",
    "\n",
    "    atpm, glucose = y  # expand the boundary species\n",
    "\n",
    "    # Calculate the specific exchanges fluxes at the given external concentrations.\n",
    "    with trial:\n",
    "        add_dynamic_bounds(trial, y)\n",
    "\n",
    "        cobra.util.add_lp_feasibility(trial)\n",
    "        feasibility = cobra.util.fix_objective_as_constraint(trial)\n",
    "        lex_constraints = cobra.util.add_lexicographic_constraints(\n",
    "            trial, ['EX_glygn2', 'EX_glc__D'], ['max', 'max'])\n",
    "# try max and mim \n",
    "    # Since the calculated fluxes are specific rates, we multiply them by the\n",
    "    # biomass concentration to get the bulk exchange rates.\n",
    "    fluxes = lex_constraints.values\n",
    "    # fluxes *= atpm\n",
    "\n",
    "    # This implementation is **not** efficient, so I display the current\n",
    "    # simulation time using a progress bar.\n",
    "    if dynamic_system.pbar is not None:\n",
    "        dynamic_system.pbar.update(1)\n",
    "        dynamic_system.pbar.set_description('t = {:.3f}'.format(t))\n",
    "\n",
    "    return fluxes\n",
    "\n",
    "dynamic_system.pbar = None\n",
    "\n",
    "\n",
    "def infeasible_event(t, y):\n",
    "    \"\"\"\n",
    "    Determine solution feasibility.\n",
    "\n",
    "    Avoiding infeasible solutions is handled by solve_ivp's built-in event detection.\n",
    "    This function re-solves the LP to determine whether or not the solution is feasible\n",
    "    (and if not, how far it is from feasibility). When the sign of this function changes\n",
    "    from -epsilon to positive, we know the solution is no longer feasible.\n",
    "\n",
    "    \"\"\"\n",
    "\n",
    "    with trial:\n",
    "\n",
    "        add_dynamic_bounds(trial, y)\n",
    "\n",
    "        cobra.util.add_lp_feasibility(trial)\n",
    "        feasibility = cobra.util.fix_objective_as_constraint(trial)\n",
    "\n",
    "    return feasibility - infeasible_event.epsilon\n",
    "\n",
    "infeasible_event.epsilon = 1E-6\n",
    "infeasible_event.direction = 1\n",
    "infeasible_event.terminal = True"
   ]
  },
  {
   "cell_type": "code",
   "execution_count": 89,
   "metadata": {},
   "outputs": [
    {
     "name": "stderr",
     "output_type": "stream",
     "text": [
      "t = 1.313: : 52it [00:04, 14.60it/s]Exception ignored in: <function tqdm.__del__ at 0x0000023825006D30>\n",
      "Traceback (most recent call last):\n",
      "  File \"c:\\Users\\sicil\\miniconda3\\envs\\massliver\\lib\\site-packages\\tqdm\\std.py\", line 1147, in __del__\n",
      "    self.close()\n",
      "KeyboardInterrupt: \n",
      "t = 3.136: : 159it [00:17, 10.16it/s]"
     ]
    }
   ],
   "source": [
    "ts = np.linspace(0, 15, 100)  # Desired integration resolution and interval\n",
    "y0 = [0.1, 10]\n",
    "\n",
    "with tqdm() as pbar:\n",
    "    dynamic_system.pbar = pbar\n",
    "\n",
    "    sol = solve_ivp(\n",
    "        fun=dynamic_system,\n",
    "        events=[infeasible_event],\n",
    "        t_span=(ts.min(), ts.max()),\n",
    "        y0=y0,\n",
    "        t_eval=ts,\n",
    "        rtol=1e-6,\n",
    "        atol=1e-8,\n",
    "        method='BDF'\n",
    "    )"
   ]
  },
  {
   "cell_type": "code",
   "execution_count": null,
   "metadata": {},
   "outputs": [
    {
     "data": {
      "text/plain": [
       "Text(0, 0.5, 'Glucose')"
      ]
     },
     "execution_count": 58,
     "metadata": {},
     "output_type": "execute_result"
    },
    {
     "data": {
      "image/png": "[encoded data removed]",
      "text/plain": [
       "<Figure size 432x288 with 2 Axes>"
      ]
     },
     "metadata": {
      "needs_background": "light"
     },
     "output_type": "display_data"
    }
   ],
   "source": [
    "ax = plt.subplot(111)\n",
    "ax.plot(sol.t, sol.y.T[:, 0])\n",
    "ax2 = plt.twinx(ax)\n",
    "ax2.plot(sol.t, sol.y.T[:, 1], color='r')\n",
    "\n",
    "ax.set_ylabel('Glycogen', color='b')\n",
    "ax2.set_ylabel('Glucose', color='r')"
   ]
  },
  {
   "cell_type": "markdown",
   "metadata": {},
   "source": [
    "## FVA analysis"
   ]
  },
  {
   "cell_type": "code",
   "execution_count": null,
   "metadata": {},
   "outputs": [],
   "source": [
    "def plot_fva(atpm_values, max_pfk_values, max_fbp_values, min_pfk_values, min_fbp_values):\n",
    "    \"\"\"\n",
    "    Parameters\n",
    "    ----------\n",
    "    atpm_values : list\n",
    "        list of ATPM flux values from 0 to max\n",
    "        \n",
    "    max_g6pdh_values : list\n",
    "        list of maximum G6PDH2r flux values at the ATPM fluxes in atpm_values\n",
    "    max_pgi_values : list\n",
    "        list of maximum PGI flux values at the ATPM fluxes in atpm_values\n",
    "\n",
    "    min_g6pdh_values : list \n",
    "        list of minimum G6PDH2r flux values at the ATPM fluxes in atpm_values\n",
    "\n",
    "    min_pgi_values : list\n",
    "        list of minimum PGI flux values at the ATPM fluxes in atpm_values\n",
    "\n",
    "    \"\"\"\n",
    "    plt.fill_between(atpm_values, max_pfk_values, min_pfk_values, \n",
    "                     label='Glycolysis', alpha=.7)\n",
    "    plt.fill_between(atpm_values, max_fbp_values, min_fbp_values, \n",
    "                     label='Gluconeogenesis', alpha=.7)\n",
    "    plt.legend()\n",
    "    plt.xlabel('ATPM flux')\n",
    "    plt.ylabel('Range of possible fluxes')"
   ]
  },
  {
   "cell_type": "code",
   "execution_count": 1,
   "metadata": {},
   "outputs": [
    {
     "ename": "NameError",
     "evalue": "name 'trial' is not defined",
     "output_type": "error",
     "traceback": [
      "\u001b[1;31m---------------------------------------------------------------------------\u001b[0m",
      "\u001b[1;31mNameError\u001b[0m                                 Traceback (most recent call last)",
      "\u001b[1;32m~\\AppData\\Local\\Temp\\ipykernel_35648\\353479514.py\u001b[0m in \u001b[0;36m<module>\u001b[1;34m\u001b[0m\n\u001b[1;32m----> 1\u001b[1;33m \u001b[0mcombined\u001b[0m \u001b[1;33m=\u001b[0m \u001b[0mtrial\u001b[0m\u001b[1;33m.\u001b[0m\u001b[0mcopy\u001b[0m\u001b[1;33m(\u001b[0m\u001b[1;33m)\u001b[0m\u001b[1;33m\u001b[0m\u001b[1;33m\u001b[0m\u001b[0m\n\u001b[0m\u001b[0;32m      2\u001b[0m \u001b[0mrxn\u001b[0m \u001b[1;33m=\u001b[0m \u001b[1;34m'ATPM'\u001b[0m\u001b[1;33m\u001b[0m\u001b[1;33m\u001b[0m\u001b[0m\n\u001b[0;32m      3\u001b[0m \u001b[0mvar_rxn\u001b[0m \u001b[1;33m=\u001b[0m \u001b[1;34m'PFK'\u001b[0m\u001b[1;33m\u001b[0m\u001b[1;33m\u001b[0m\u001b[0m\n\u001b[0;32m      4\u001b[0m \u001b[0mvar_rxn_2\u001b[0m \u001b[1;33m=\u001b[0m \u001b[1;34m'FBP'\u001b[0m\u001b[1;33m\u001b[0m\u001b[1;33m\u001b[0m\u001b[0m\n\u001b[0;32m      5\u001b[0m \u001b[0mcombined\u001b[0m\u001b[1;33m.\u001b[0m\u001b[0mobjective\u001b[0m \u001b[1;33m=\u001b[0m \u001b[0mrxn\u001b[0m\u001b[1;33m\u001b[0m\u001b[1;33m\u001b[0m\u001b[0m\n",
      "\u001b[1;31mNameError\u001b[0m: name 'trial' is not defined"
     ]
    }
   ],
   "source": [
    "combined = trial.copy()\n",
    "rxn = 'ATPM'\n",
    "var_rxn = 'PFK'\n",
    "var_rxn_2 = 'FBP'\n",
    "combined.objective = rxn\n",
    "obj = combined.optimize().objective_value\n",
    "bounds = np.linspace(0, obj, 10)\n",
    "lower = []\n",
    "upper = []\n",
    "lower_2 = []\n",
    "upper_2 = []\n",
    "for bound in bounds:\n",
    "    combined.reactions.get_by_id(rxn).upper_bound = bound\n",
    "    combined.reactions.get_by_id(rxn).lower_bound = bound\n",
    "\n",
    "\n",
    "    combined.objective = var_rxn\n",
    "    lower.append(combined.optimize('minimize').objective_value)\n",
    "    upper.append(combined.optimize().objective_value)\n",
    "    combined.objective = var_rxn_2\n",
    "    upper_2.append(combined.optimize('minimize').objective_value)\n",
    "    lower_2.append(combined.optimize().objective_value)\n",
    "    \n",
    "    combined.reactions.get_by_id(rxn).lower_bound = 0\n",
    "\n",
    "\n",
    "plot_fva(bounds, upper, upper_2, lower, lower_2)"
   ]
  },
  {
   "cell_type": "code",
   "execution_count": null,
   "metadata": {},
   "outputs": [],
   "source": [
    "combined = trial.copy()\n",
    "rxn = \"EX_glc__D\"\n",
    "var_rxn = 'PFK'\n",
    "var_rxn_2 = 'FBP'\n",
    "combined.objective = rxn\n",
    "obj = combined.optimize().objective_value\n",
    "print(obj)\n",
    "bounds = np.linspace(0, obj, 10)\n",
    "lower = []\n",
    "upper = []\n",
    "lower_2 = []\n",
    "upper_2 = []\n",
    "for bound in bounds:\n",
    "    combined.reactions.get_by_id(rxn).upper_bound = bound\n",
    "    combined.reactions.get_by_id(rxn).lower_bound = bound\n",
    "\n",
    "\n",
    "    combined.objective = var_rxn\n",
    "    lower.append(combined.optimize('minimize').objective_value)\n",
    "    upper.append(combined.optimize().objective_value)\n",
    "    combined.objective = var_rxn_2\n",
    "    upper_2.append(combined.optimize('minimize').objective_value)\n",
    "    lower_2.append(combined.optimize().objective_value)\n",
    "    \n",
    "    combined.reactions.get_by_id(rxn).lower_bound = 0\n",
    "\n",
    "\n",
    "plot_fva(bounds, upper, upper_2, lower, lower_2)"
   ]
  },
  {
   "cell_type": "code",
   "execution_count": null,
   "metadata": {},
   "outputs": [],
   "source": [
    "combined = trial.copy()\n",
    "rxn = \"ATPM\"\n",
    "var_rxn = 'HEX1'\n",
    "var_rxn_2 = 'G6PP'\n",
    "combined.objective = rxn\n",
    "obj = combined.optimize().objective_value\n",
    "print(obj)\n",
    "bounds = np.linspace(0, obj, 10)\n",
    "lower = []\n",
    "upper = []\n",
    "lower_2 = []\n",
    "upper_2 = []\n",
    "for bound in bounds:\n",
    "    combined.reactions.get_by_id(rxn).upper_bound = bound\n",
    "    combined.reactions.get_by_id(rxn).lower_bound = bound\n",
    "\n",
    "\n",
    "    combined.objective = var_rxn\n",
    "    lower.append(combined.optimize('minimize').objective_value)\n",
    "    upper.append(combined.optimize().objective_value)\n",
    "    combined.objective = var_rxn_2\n",
    "    upper_2.append(combined.optimize('minimize').objective_value)\n",
    "    lower_2.append(combined.optimize().objective_value)\n",
    "    \n",
    "    combined.reactions.get_by_id(rxn).lower_bound = 0\n",
    "\n",
    "\n",
    "plot_fva(bounds, upper, upper_2, lower, lower_2)"
   ]
  },
  {
   "cell_type": "code",
   "execution_count": null,
   "metadata": {},
   "outputs": [],
   "source": []
  },
  {
   "cell_type": "code",
   "execution_count": null,
   "metadata": {},
   "outputs": [],
   "source": [
    "# trial.problem.Constraint"
   ]
  },
  {
   "cell_type": "code",
   "execution_count": null,
   "metadata": {},
   "outputs": [],
   "source": [
    "# Try dfba"
   ]
  },
  {
   "cell_type": "code",
   "execution_count": null,
   "metadata": {},
   "outputs": [],
   "source": [
    "# same_flux = trial.problem.Constraint(\n",
    "#     trial.reactions.PFK.flux_expression - trial.reactions.FBP.flux_expression,\n",
    "#     lb=0,\n",
    "#     ub=1)\n",
    "# trial.add_cons_vars(same_flux)"
   ]
  },
  {
   "cell_type": "code",
   "execution_count": null,
   "metadata": {},
   "outputs": [],
   "source": [
    "# flux_solution = trial.optimize()\n",
    "# flux_solution"
   ]
  },
  {
   "cell_type": "code",
   "execution_count": null,
   "metadata": {},
   "outputs": [],
   "source": [
    "# solution = trial.optimize()\n",
    "# print(solution.fluxes['FBP'], solution.fluxes['PFK'],\n",
    "#       solution.objective_value)\n",
    "\n"
   ]
  },
  {
   "cell_type": "code",
   "execution_count": null,
   "metadata": {},
   "outputs": [],
   "source": [
    "from cobra.flux_analysis import flux_variability_analysis"
   ]
  },
  {
   "cell_type": "code",
   "execution_count": null,
   "metadata": {},
   "outputs": [],
   "source": [
    "trial.optimize()\n",
    "trial.summary(fva=0.95)"
   ]
  },
  {
   "cell_type": "code",
   "execution_count": null,
   "metadata": {},
   "outputs": [],
   "source": [
    "flux_variability_analysis(trial, trial.reactions)"
   ]
  },
  {
   "cell_type": "code",
   "execution_count": null,
   "metadata": {},
   "outputs": [],
   "source": [
    "#Escher FBA: shows the solutions on the map\n",
    "initial_flux_data = {\n",
    "    reaction: flux\n",
    "    for reaction, flux in flux_solution.fluxes.items()}\n",
    "\n",
    "\n",
    "#view all the reactions that we need build\n",
    "escher_builder = escher.Builder(\n",
    "    model=trial,\n",
    "    map_json=os.path.join(\n",
    "        maps_dir,\"Glycolysis_Gluconeogenesis_2.json\")\n",
    "    , reaction_data=initial_flux_data)\n",
    "\n",
    "# Display map in notebook\n",
    "escher_builder"
   ]
  },
  {
   "cell_type": "code",
   "execution_count": null,
   "metadata": {},
   "outputs": [],
   "source": [
    "# trial.objective = 'ATPM'\n",
    "# fba_solution = trial.optimize()\n",
    "# pfba_solution = cobra.flux_analysis.pfba(trial)\n",
    "# pfba_solution\n"
   ]
  },
  {
   "cell_type": "code",
   "execution_count": null,
   "metadata": {},
   "outputs": [],
   "source": [
    "# geometric_fba_sol = cobra.flux_analysis.geometric_fba(trial)\n",
    "# geometric_fba_sol"
   ]
  },
  {
   "cell_type": "code",
   "execution_count": null,
   "metadata": {},
   "outputs": [],
   "source": [
    "\n",
    "from cobra.sampling import sample\n",
    "\n",
    "# model = load_model(\"textbook\")\n",
    "s = sample(trial, 100)\n",
    "# s.head()\n",
    "s\n"
   ]
  },
  {
   "cell_type": "code",
   "execution_count": null,
   "metadata": {},
   "outputs": [],
   "source": [
    "\n",
    "from cobra.io import json\n",
    "import cobra.test\n",
    "import os\n",
    "from os.path import join\n",
    "from glob import glob"
   ]
  },
  {
   "cell_type": "code",
   "execution_count": null,
   "metadata": {},
   "outputs": [],
   "source": [
    "gly_gluco_json = os.path.join(model_dir,\"glycolysis_gluconeogenesis_no_cmpt.json\")\n",
    "json.save_json_model(model=trial, filename=gly_gluco_json)"
   ]
  },
  {
   "cell_type": "code",
   "execution_count": null,
   "metadata": {},
   "outputs": [],
   "source": [
    "# import cplex \n",
    "# import gurobipy "
   ]
  },
  {
   "cell_type": "code",
   "execution_count": null,
   "metadata": {},
   "outputs": [],
   "source": [
    "# for model_file in glob(gly_gluco_json):\n",
    "#     model_name = model_file.split('/')[-1]\n",
    "#     if 'model' not in model_name:\n",
    "#         continue\n",
    "#     print(model_name)\n",
    "#     model= load_json_model(model_file)\n",
    "#     if 'NADPHM' in model.reactions:\n",
    "#         model.remove_reactions(['NADPHM'])\n",
    "#     # media = ['EX_lac__L_c', 'EX_pyr_c', 'EX_octa_c', 'EX_gln__L_c', 'EX_acetone_c', 'EX_bhb_c',\n",
    "#     #          'EX_glu__L_c', 'EX_ser__L_c', 'EX_cys__L_c', 'EX_gly_c', 'EX_ala__L_c', 'EX_so3_c',\n",
    "#     #         'EX_etoh_c', 'EX_fru_c']\n",
    "#     media = ['EX_glc__D_c']\n",
    "#     for met in media:\n",
    "#         if met in model.reactions:\n",
    "#             model.reactions.get_by_id(met).lower_bound = -1000.\n",
    "\n",
    "#     rxns = [i.id for i in model.reactions]\n",
    "#     # removed blocke reactions because it included ['PEPCKm', 'PCm', 'PYRt2m', 'ADK1', 'PEPtm', 'EX_h2o_c', 'EX_pi_c']\n",
    "#     # blocked = cobra.flux_analysis.find_blocked_reactions(model)\n",
    "#     # print(blocked)\n",
    "#     # model.remove_reactions(blocked)\n",
    "\n",
    "#     solved_fluxes = minspan(model, cores=3, verbose=False, timelimit=60)\n",
    "    \n",
    "#     df = pd.DataFrame(solved_fluxes.copy(), index=[i.id for i in model.reactions])\n",
    "#     df = df/df.abs().max()\n",
    "#     for col in range(len(df.columns)):\n",
    "#         column=df.iloc[:,col]\n",
    "#         vals = column.values\n",
    "#         min_val = min([abs(i) for i in vals if i != 0])\n",
    "#         corr_fac=1/min_val\n",
    "#         # print(corr_fac)\n",
    "#         vals=vals*abs(corr_fac)\n",
    "#         df['Norm'+ str(col)]=vals\n",
    "#     csv_dir = os.path.join(minspan_dir,\"gly_gluco_csv.csv\")\n",
    "#     df.to_csv(csv_dir)\n",
    "#     # csv_minspan_dir = os.path.join(minspan_dir,\"liver_csv_minspan.csv\")\n",
    "# ## WHere it's stored\n",
    "# csv_minspan_dir = os.path.join(minspan_dir,\"gly_gluco_csv.csv\")"
   ]
  },
  {
   "cell_type": "code",
   "execution_count": null,
   "metadata": {},
   "outputs": [],
   "source": [
    "# solved_fluxes = minspan(gluco, cores=3, verbose=False, timelimit=60)\n",
    "\n",
    "# df = pd.DataFrame(solved_fluxes.copy(), index=[i.id for i in gluco.reactions])\n",
    "# df = df/df.abs().max()\n",
    "# for col in range(len(df.columns)):\n",
    "#     column=df.iloc[:,col]\n",
    "#     vals = column.values\n",
    "#     min_val = min([abs(i) for i in vals if i != 0])\n",
    "#     corr_fac=1/min_val\n",
    "#     # print(corr_fac)\n",
    "#     vals=vals*abs(corr_fac)\n",
    "#     df['Norm'+ str(col)]=vals\n",
    "# csv_dir = os.path.join(minspan_dir,\"gluco_csv.csv\")\n",
    "# df.to_csv(csv_dir)"
   ]
  },
  {
   "cell_type": "code",
   "execution_count": null,
   "metadata": {},
   "outputs": [],
   "source": [
    "# making dataframe \n",
    "# df = pd.read_csv(csv_minspan_dir,index_col=0) \n",
    "# df"
   ]
  },
  {
   "cell_type": "code",
   "execution_count": null,
   "metadata": {},
   "outputs": [],
   "source": [
    "import escher\n",
    "from escher import Builder"
   ]
  },
  {
   "cell_type": "code",
   "execution_count": null,
   "metadata": {},
   "outputs": [],
   "source": [
    "# initial_minspan_data = {\n",
    "#     reaction: flux\n",
    "#     for reaction, flux in df.iloc[:,18].iteritems()}"
   ]
  },
  {
   "cell_type": "code",
   "execution_count": null,
   "metadata": {},
   "outputs": [],
   "source": [
    "# #view all the reactions that we need build\n",
    "# escher_builder = escher.Builder(\n",
    "#     model=trial,\n",
    "#     map_json=os.path.join(\n",
    "#         maps_dir,\"Glycolysis_Gluconeogenesis.json\")\n",
    "#     , reaction_data=initial_flux_data)\n",
    "\n",
    "\n",
    "# New instance to prevent modifications to the existing maps\n",
    "# escher_builder = Builder(\n",
    "#     model=trial,\n",
    "#     map_json=os.path.join(\n",
    "#         maps_dir,\"Glycolysis_Gluconeogenesis_2.json\"),\n",
    "#     reaction_data=initial_minspan_data)\n",
    "\n",
    "# # Display map in notebook\n",
    "# escher_builder"
   ]
  },
  {
   "cell_type": "code",
   "execution_count": null,
   "metadata": {},
   "outputs": [],
   "source": [
    "# from cobra.io import json"
   ]
  },
  {
   "cell_type": "code",
   "execution_count": null,
   "metadata": {},
   "outputs": [],
   "source": [
    "# core_json = os.path.join(model_dir,\"Glycolysis_Gluconeogenesis.json\")\n",
    "# json.save_json_model(model=trial, filename=core_json)"
   ]
  },
  {
   "cell_type": "code",
   "execution_count": null,
   "metadata": {},
   "outputs": [],
   "source": [
    "trial.objective = \"EX_glc__D\"\n",
    "flux_solution = trial.optimize()\n",
    "flux_solution.fluxes"
   ]
  },
  {
   "cell_type": "markdown",
   "metadata": {},
   "source": [
    "### Making Df of metabolites and reactions, exporting them, and importing to form MASS model"
   ]
  },
  {
   "cell_type": "code",
   "execution_count": null,
   "metadata": {},
   "outputs": [],
   "source": [
    "from cobra_dict import metabolite_to_dict as metabolite_to_dict\n",
    "from cobra_dict import reaction_to_dict as reaction_to_dict"
   ]
  },
  {
   "cell_type": "code",
   "execution_count": null,
   "metadata": {},
   "outputs": [],
   "source": [
    "met_df=pd.DataFrame()\n",
    "for met in trial.metabolites:\n",
    "    cobra_met= trial.metabolites.get_by_id(met.id)\n",
    "    m=metabolite_to_dict(cobra_met)\n",
    "    df_2=pd.DataFrame.from_dict(m,orient='index')\n",
    "    df_2=df_2.T\n",
    "    met_df=pd.concat([met_df, df_2])\n",
    "met_df=met_df.set_index('id')\n",
    "met_df"
   ]
  },
  {
   "cell_type": "code",
   "execution_count": null,
   "metadata": {},
   "outputs": [],
   "source": [
    "csv_met_cobra = os.path.join(data_dir,\"gly_gluco_no_cmpt_cobra_met.csv\")\n",
    "met_df.to_csv(csv_met_cobra)"
   ]
  },
  {
   "cell_type": "code",
   "execution_count": null,
   "metadata": {},
   "outputs": [],
   "source": [
    "rxn_df=pd.DataFrame()\n",
    "for rxn in trial.reactions:\n",
    "    cobra_rxn= trial.reactions.get_by_id(rxn.id)\n",
    "    r=reaction_to_dict(cobra_rxn)\n",
    "#     print(r)\n",
    "    df=pd.DataFrame.from_dict(r,orient='index')\n",
    "    df=df.T\n",
    "    rxn_df= pd.concat([rxn_df, df])\n",
    "rxn_df=rxn_df.set_index('id')\n",
    "# rxn_df"
   ]
  },
  {
   "cell_type": "code",
   "execution_count": null,
   "metadata": {},
   "outputs": [],
   "source": [
    "json_rxn_cobra = os.path.join(data_dir,\"gly_gluco_no_cmpt_cobra_rxn.json\")\n",
    "rxn_df.to_json(json_rxn_cobra,orient=\"index\")"
   ]
  },
  {
   "cell_type": "markdown",
   "metadata": {},
   "source": [
    "## Making MASS model of glycolysis"
   ]
  },
  {
   "cell_type": "code",
   "execution_count": null,
   "metadata": {},
   "outputs": [],
   "source": [
    "liver= MassModel(\"Core_Model\", array_type='DataFrame', dtype=np.int64)"
   ]
  },
  {
   "cell_type": "markdown",
   "metadata": {},
   "source": [
    "#### Add the pathway metabolites and their information to a new MASS model from COBRA model"
   ]
  },
  {
   "cell_type": "code",
   "execution_count": null,
   "metadata": {},
   "outputs": [],
   "source": [
    "# making dataframe of metabolites\n",
    "import json\n",
    "met_csv_df = pd.read_csv(csv_met_cobra,index_col=\"id\")\n",
    "mass_metabolite_info=met_csv_df.to_dict(orient='index')\n",
    "\n",
    "# Loading reaction data as JSON file to maintain data types as dictionaries \n",
    "\n",
    "with open(json_rxn_cobra) as json_file:\n",
    "    mass_rxn_data = json.load(json_file)"
   ]
  },
  {
   "cell_type": "code",
   "execution_count": null,
   "metadata": {},
   "outputs": [],
   "source": [
    "#  Add all the remaining metabolites involved in the pathway\n",
    "for met_id, info in mass_metabolite_info.items():\n",
    "    met = MassMetabolite(met_id, name=info['name'], formula=info['formula'], \n",
    "                           charge=info['charge'], compartment=info['compartment'])\n",
    "    liver.add_metabolites(met)"
   ]
  },
  {
   "cell_type": "code",
   "execution_count": null,
   "metadata": {},
   "outputs": [],
   "source": [
    "for reaction, info in mass_rxn_data.items():\n",
    "    reaction_obj = MassReaction(reaction)\n",
    "    reaction_obj.id = reaction\n",
    "    reaction= reaction_obj.id\n",
    "    reaction_obj.lower_bound = info['lower_bound']\n",
    "    reaction_obj.upper_bound = info['upper_bound']\n",
    "    reaction_obj.name = info['name']\n",
    "    liver.add_reactions(reaction_obj)\n",
    "    temp=info['metabolites']\n",
    "    reaction_obj.add_metabolites(temp)\n",
    "    # print(reaction)"
   ]
  },
  {
   "cell_type": "code",
   "execution_count": null,
   "metadata": {},
   "outputs": [],
   "source": [
    "liver.reactions.PGK.reverse_stoichiometry(inplace=True)\n",
    "liver.reactions.PGM.reverse_stoichiometry(inplace=True)"
   ]
  },
  {
   "cell_type": "markdown",
   "metadata": {},
   "source": [
    "## Setting initial conditions"
   ]
  },
  {
   "cell_type": "code",
   "execution_count": null,
   "metadata": {},
   "outputs": [],
   "source": [
    "import csv\n",
    "import openpyxl"
   ]
  },
  {
   "cell_type": "code",
   "execution_count": null,
   "metadata": {},
   "outputs": [],
   "source": [
    "#Function to load data from the excel sheet\n",
    "def load_data(filepath, sheet_name):\n",
    "    \"\"\"Load Liver data from an excel sheet\"\"\"\n",
    "    df = pd.read_excel(engine='openpyxl',\n",
    "        io=filepath,\n",
    "        sheet_name=sheet_name,\n",
    "        index_col=0)\n",
    "    return df"
   ]
  },
  {
   "cell_type": "code",
   "execution_count": null,
   "metadata": {},
   "outputs": [],
   "source": [
    "#Compare Results\n",
    "excel_ic = os.path.join(data_dir,\"Concentrations3_no_cmpt.xlsx\")\n",
    "# ic_df = pd.read_csv(csv_ic)\n",
    "# ic_df.set_index()\n",
    "ic_info_all = load_data(\n",
    "    filepath=excel_ic,\n",
    "    sheet_name=\"Concentrations\")\n",
    "ic_info_all.reset_index(level='ID', col_level=1, inplace=True)\n",
    "ic_info_all"
   ]
  },
  {
   "cell_type": "code",
   "execution_count": null,
   "metadata": {},
   "outputs": [],
   "source": [
    "conc_df =pd.DataFrame(ic_info_all.loc[:,[\"ID\",\"Concentration (M)\"]])\n",
    "conc_df.set_index('ID',drop=True,inplace=True)\n",
    "conc_df"
   ]
  },
  {
   "cell_type": "code",
   "execution_count": null,
   "metadata": {},
   "outputs": [],
   "source": [
    "new_index= []\n",
    "for i in conc_df.index:\n",
    "    base = conc_df.index.get_loc(i)\n",
    "    # print(base)\n",
    "    l = len(i)\n",
    "    new = i[:l-2]\n",
    "    new_index.append(new)\n",
    "    # print(new)\n",
    "    # conc_df.index.get_loc(base) = new\n",
    "    # new_id = i.rpartition(\"_\" + str(met.compartment))[0]\n",
    "\n",
    "conc_df= conc_df.reset_index(drop=True)\n",
    "conc_df[\"ID\"] = new_index\n",
    "conc_df.set_index('ID',drop=True,inplace=True)\n",
    "conc_df"
   ]
  },
  {
   "cell_type": "code",
   "execution_count": null,
   "metadata": {},
   "outputs": [],
   "source": [
    "print(\"Initial Conditions\\n------------------\")\n",
    "\n",
    "for reaction in liver.reactions:\n",
    "    #Setting inital condition of metabolties from HEPATOKIN  #M \n",
    "    for met in reaction.metabolites:\n",
    "        if met.id in conc_df.index:\n",
    "            mid=met.id\n",
    "            metabolite = reaction.metabolites\n",
    "            ic_value = conc_df.loc[mid,'Concentration (M)']\n",
    "            row = [mid,ic_value]\n",
    "            # column = [ic_value]\n",
    "            # conc_df.append(row)\n",
    "            met.ic =  ic_value            \n",
    "for metabolite, ic_value in liver.initial_conditions.items():\n",
    "    print(\"{0}: {1}\".format(metabolite, ic_value))"
   ]
  },
  {
   "cell_type": "code",
   "execution_count": null,
   "metadata": {},
   "outputs": [],
   "source": [
    "# ic_info"
   ]
  },
  {
   "cell_type": "markdown",
   "metadata": {},
   "source": [
    "### Getting Standard and Physiological Gibbs energies of reactions to get Keq of reactions"
   ]
  },
  {
   "cell_type": "code",
   "execution_count": null,
   "metadata": {},
   "outputs": [],
   "source": [
    "met_list = []\n",
    "liver.boundary_conditions\n",
    "for reaction in liver.boundary_conditions:\n",
    "    print(reaction)"
   ]
  },
  {
   "cell_type": "code",
   "execution_count": null,
   "metadata": {},
   "outputs": [],
   "source": [
    "# for reaction in liver.boundary:\n",
    "#     excluded_reactions.append(reaction.id)\n",
    "#     reaction.Keq=1    # Setting Keq\n",
    "#     print(reaction,reaction.Keq)"
   ]
  },
  {
   "cell_type": "code",
   "execution_count": null,
   "metadata": {},
   "outputs": [],
   "source": [
    "for i in liver.metabolites:\n",
    "    i.compartment = \"cytosol\""
   ]
  },
  {
   "cell_type": "code",
   "execution_count": null,
   "metadata": {},
   "outputs": [],
   "source": [
    "# Reactions that we don't want to get Keq from equilibrator [exchanges and psuedoreactions] SET THESE MANUALLY\n",
    "# Setting Keq and kf for boundary reactions\n",
    "print(\"Boundary Reactions and Values\\n-----------------------------\")\n",
    "excluded_reactions=[\"ATPM\", \"NADHM\",\"PYRt2m\",\"PEPtm\"]\n",
    "\n",
    "for reaction in liver.boundary:\n",
    "    excluded_reactions.append(reaction.id)\n",
    "    reaction.Keq=1    # Setting Keq\n",
    "    reaction.kf=1e6     # Setting kf\n",
    "    #Setting boundary condition metabolties from ic of metabolite from HEPATOKIN   \n",
    "    for met in reaction.reactants:\n",
    "        if met.id in conc_df.index:\n",
    "            mid=met.id\n",
    "            boundary_met = reaction.boundary_metabolite\n",
    "            bcvalue = conc_df.loc[mid,'Concentration (M)']\n",
    "            liver.boundary_conditions[boundary_met] =  bcvalue\n",
    "            bc_value = liver.boundary_conditions.get(boundary_met)\n",
    "            print(\"{0}\\n{1}: {2}\\n\".format(reaction, boundary_met, bc_value))"
   ]
  },
  {
   "cell_type": "code",
   "execution_count": null,
   "metadata": {},
   "outputs": [],
   "source": [
    "reaction_str= []\n",
    "cc = ComponentContribution()\n",
    "# optional: changing the aqueous environment parameters\n",
    "cc.p_h = Q_(7.4)\n",
    "cc.p_mg = Q_(3.31)\n",
    "cc.ionic_strength = Q_(\"0.144M\")\n",
    "cc.temperature = Q_(\"310.15K\")\n",
    "R = 0.00831446261815324 #R = 0.00831446261815324 kJ/mol\n",
    "from numpy import *\n",
    "Keq_df=pd.DataFrame(columns=[\"Reaction\",\"Keq\"])\n",
    "# Keq_df"
   ]
  },
  {
   "cell_type": "code",
   "execution_count": null,
   "metadata": {},
   "outputs": [],
   "source": [
    "# Getting Keq from equilibrator by forming a reaction string that it can parse through\n",
    "for reaction in liver.reactions:\n",
    "    if reaction.id not in excluded_reactions:\n",
    "        reactants = []\n",
    "        #forming reaction string \n",
    "        for met in reaction.reactants:\n",
    "            id_coeff= reaction.get_coefficient(met)\n",
    "            new_id = met.id\n",
    "            # new_id = met.id.rpartition(\"_\" + str(met.compartment))[0] #removing compartment lettes, for eg \"_c\"\n",
    "            if id_coeff == 1 or id_coeff == -1:\n",
    "                new_id = \"bigg.metabolite:\" + new_id\n",
    "            else:\n",
    "                new_id = str(id_coeff) + \" bigg.metabolite:\" + new_id\n",
    "\n",
    "            reactants.append(new_id)   \n",
    "        reactants_string= \" + \".join(reactants)\n",
    "        reactants_string = str(reactants_string + \" = \")\n",
    "\n",
    "        # Forming product string\n",
    "        products = []\n",
    "        for met in reaction.products:\n",
    "            new_id = met.id\n",
    "            # new_id = met.id.rpartition(\"_\" + str(met.compartment))[0] # removing compartment lettes, for eg \"_c\"\n",
    "            new_id = \"bigg.metabolite:\" + new_id\n",
    "            products.append(new_id)   \n",
    "        products_string= \" + \".join(products)\n",
    "\n",
    "        #final reaction to parse\n",
    "        reaction_to_parse = reactants_string + products_string         \n",
    "        # print(reaction_to_parse)\n",
    "        rxn_parsed = cc.parse_reaction_formula(reaction_to_parse)\n",
    "        print(reaction.id)\n",
    "\n",
    "        #Getting Gibbs energies\n",
    "        dG0_prime = cc.standard_dg_prime(rxn_parsed)\n",
    "    #         print(f\"ΔG'° = {dG0_prime}\")\n",
    "        dGm_prime = cc.physiological_dg_prime(rxn_parsed)\n",
    "        dG_prime_value_in_kj_per_mol = dGm_prime.value.m_as(\"kJ/mol\")\n",
    "        dG0prime_value_in_kj_per_mol = dG0_prime.value.m_as(\"kJ/mol\")\n",
    "    #     print(f\"ΔG'm = {dG_prime_value_in_kj_per_mol}\")\n",
    "        delG = dG_prime_value_in_kj_per_mol\n",
    "\n",
    "        # Calculating Keq from delG\n",
    "        a = exp(-delG/ (R*310.15)) \n",
    "        reaction.Keq = a\n",
    "        print(f\"Keq = {a}\")\n",
    "#         list_keq=[reaction,a]\n",
    "#         rxn_keq=pd.DataFrame(list_keq)\n",
    "        # df = pd.DataFrame([[reaction,a]], columns=[\"Reaction\",\"Keq\"])\n",
    "        # Keq_df.append(df)\n",
    "\n",
    "# Keq_df    "
   ]
  },
  {
   "cell_type": "code",
   "execution_count": null,
   "metadata": {},
   "outputs": [],
   "source": [
    "liver.reactions.NADHM.Keq=1e6\n",
    "liver.reactions.ATPM.Keq=1e6\n",
    "# liver.reactions.PEPtm.Keq=1\n",
    "# liver.reactions.PYRt2m.Keq=1"
   ]
  },
  {
   "cell_type": "code",
   "execution_count": null,
   "metadata": {},
   "outputs": [],
   "source": [
    "print(\"Equilibrium Constants\\n---------------------\")\n",
    "for reaction in liver.reactions:\n",
    "    print(\"{0}: {1}\".format(reaction.Keq_str, reaction.Keq))"
   ]
  },
  {
   "cell_type": "markdown",
   "metadata": {},
   "source": [
    "##  Set Fluxes"
   ]
  },
  {
   "cell_type": "code",
   "execution_count": null,
   "metadata": {},
   "outputs": [],
   "source": [
    "flux_solution"
   ]
  },
  {
   "cell_type": "code",
   "execution_count": null,
   "metadata": {},
   "outputs": [],
   "source": [
    "flux_solution"
   ]
  },
  {
   "cell_type": "code",
   "execution_count": null,
   "metadata": {},
   "outputs": [],
   "source": [
    "reaction_list=[]\n",
    "for reaction in liver.reactions:\n",
    "    reaction_list.append(reaction.id)\n"
   ]
  },
  {
   "cell_type": "code",
   "execution_count": null,
   "metadata": {},
   "outputs": [],
   "source": [
    "mean_flux"
   ]
  },
  {
   "cell_type": "code",
   "execution_count": null,
   "metadata": {},
   "outputs": [],
   "source": [
    "# mean_flux = mean_flux.T\n",
    "fluxes_mean = mean_flux.drop([\"ST_dev\"], axis =1)\n",
    "# fluxes_mean\n",
    "fluxes_mean.columns = [''] * len(fluxes_mean.columns)\n",
    "fluxes_mean"
   ]
  },
  {
   "cell_type": "code",
   "execution_count": null,
   "metadata": {},
   "outputs": [],
   "source": [
    "for reaction, flux in fluxes_mean.itertuples():\n",
    "    # print(flux)\n",
    "    reaction = liver.reactions.get_by_id(reaction)\n",
    "    reaction.steady_state_flux = flux * 1278.605 / 1000 # mmol/gdW*hr --> mmol/L * hr ---> mol/L*hr\n",
    "    print(\"{0}: {1}\".format(reaction.flux_symbol_str,\n",
    "                            reaction.steady_state_flux))"
   ]
  },
  {
   "cell_type": "markdown",
   "metadata": {},
   "source": [
    "## Set H2O/H Constants"
   ]
  },
  {
   "cell_type": "code",
   "execution_count": null,
   "metadata": {},
   "outputs": [],
   "source": [
    "# Set concentrations of hydrogen, water as fixed\n",
    "# Assume hydrogen in all compartments are fixed \n",
    "for metabolite in [\n",
    "    \"h\",\n",
    "#     'h_e',\n",
    "# 'h_m',\n",
    "#     'h2o_r','h2o_e',\n",
    "    \"h2o\",\n",
    "#     \"glc__D_e\", \"pi_e\",\n",
    "# 'pi_m',\n",
    "    'pi'\n",
    "                  ]:\n",
    "    metabolite = liver.metabolites.get_by_id(metabolite)\n",
    "    metabolite.fixed = True"
   ]
  },
  {
   "cell_type": "code",
   "execution_count": null,
   "metadata": {},
   "outputs": [],
   "source": [
    "for metabolite in [\n",
    "    'h',\n",
    "# \"h_c\", \n",
    "#     'h_e',\n",
    "\"h2o\",\n",
    "#     'h2o_r','h2o_e' \n",
    "]:\n",
    "    metabolite = liver.metabolites.get_by_id(metabolite)\n",
    "    metabolite.ic = 1 #M"
   ]
  },
  {
   "cell_type": "code",
   "execution_count": null,
   "metadata": {},
   "outputs": [],
   "source": [
    "seed = int(4)\n",
    "n_models = 5000"
   ]
  },
  {
   "cell_type": "code",
   "execution_count": null,
   "metadata": {},
   "outputs": [],
   "source": [
    "conc_solver.setup_sampling_problem(\n",
    "    fixed_conc_bounds=list(liver.fixed),\n",
    "    fixed_Keq_bounds=liver.reactions.list_attr(\"Keq_str\"))\n",
    "for variable in conc_solver.variables:\n",
    "    try:\n",
    "        met = liver.metabolites.get_by_id(variable.name)\n",
    "        variable.lb, variable.ub = np.log([met.ic / 10, met.ic * 10])\n",
    "    except:\n",
    "        pass\n",
    "conc_samples = sample_concentrations(conc_solver, n=n_models,  processes=4, seed=seed)\n",
    "conc_samples.head()\n"
   ]
  },
  {
   "cell_type": "code",
   "execution_count": null,
   "metadata": {},
   "outputs": [],
   "source": [
    "type(conc_samples)"
   ]
  },
  {
   "cell_type": "code",
   "execution_count": null,
   "metadata": {},
   "outputs": [],
   "source": [
    "mean_conc = pd.DataFrame(index = conc_samples.columns)\n",
    "means =[]\n",
    "std=[]\n",
    "for i in conc_samples.columns:\n",
    "    index = conc_samples[i].mean()\n",
    "    # print(index)\n",
    "    means.append(index)\n",
    "    std.append(conc_samples[i].std())\n",
    "mean_conc[\"Mean\"] = means\n",
    "mean_conc[\"ST_dev\"] = std\n",
    "mean_conc"
   ]
  },
  {
   "cell_type": "code",
   "execution_count": null,
   "metadata": {},
   "outputs": [],
   "source": [
    "print(\"Initial Conditions\\n------------------\")\n",
    "\n",
    "for reaction in liver.reactions:\n",
    "    #Setting inital condition of metabolties from HEPATOKIN  #M \n",
    "    for met in reaction.metabolites:\n",
    "        if met.id in mean_conc.index:\n",
    "            mid=met.id\n",
    "            metabolite = reaction.metabolites\n",
    "            ic_value = mean_conc.loc[mid,'Mean']\n",
    "            row = [mid,ic_value]\n",
    "            # column = [ic_value]\n",
    "            # conc_df.append(row)\n",
    "            met.ic =  ic_value            \n",
    "for metabolite, ic_value in liver.initial_conditions.items():\n",
    "    print(\"{0}: {1}\".format(metabolite, ic_value))"
   ]
  },
  {
   "cell_type": "code",
   "execution_count": null,
   "metadata": {},
   "outputs": [],
   "source": [
    "# Keq_data = pd.read_csv(\"./data/analysis_data/equilibrium_constants.csv\", index_col=0)\n",
    "\n",
    "# Keq_data_comparison_fig, ax = plt.subplots(nrows=1, ncols=1, figsize=(5, 5))\n",
    "# plot_comparison(\n",
    "#     x=Keq_data[\"Initial\"], y=Keq_data[\"Adjusted\"], ax=ax,\n",
    "#     title=\"Equilibrium Constants comparison\",\n",
    "#     legend=\"right outside\", plot_function=\"loglog\",\n",
    "#     xlim=(1e-5, 1e5), ylim=(1e-5, 1e5), \n",
    "#     xy_line=True,\n",
    "#     xy_legend=\"best\", xlabel=\"Initial\", ylabel=\"Adjusted\")\n",
    "\n",
    "# Keq_data_comparison_fig.tight_layout()"
   ]
  },
  {
   "cell_type": "code",
   "execution_count": null,
   "metadata": {},
   "outputs": [],
   "source": [
    "Boundary= [\n",
    "    \"ATPM\",\n",
    "    \n",
    "#     'EX_nad_c',\n",
    "    # \"EX_lac__L_c\"\n",
    "]\n",
    "for x in Boundary:\n",
    "    a=liver.reactions.get_by_id(x)\n",
    "    a.kf=1e6"
   ]
  },
  {
   "cell_type": "code",
   "execution_count": null,
   "metadata": {},
   "outputs": [],
   "source": []
  },
  {
   "cell_type": "code",
   "execution_count": null,
   "metadata": {},
   "outputs": [],
   "source": [
    "#Formulate QP minimization list for concentrations\n",
    "conc_solver = ConcSolver(\n",
    "    liver, \n",
    "    excluded_metabolites=[\n",
    "    \"h\",'h2o',\n",
    "    \n",
    "#         'h_e',\n",
    "#  'h_m',\n",
    "#     'h2o_r','h2o_e',\n",
    "        'pi',\n",
    "    # 'pi_c',\n",
    "#     \"pi_e\",\n",
    "\"glc__D\",\n",
    "#     \"glc__D_e\", \"lac__L_e\",\n",
    "#     \"pyr_e\"\n",
    "    ], \n",
    "    excluded_reactions=[\n",
    "        # \"Ht\", \"H2Ot\", \"H2Oter\",'PIter','PIt',\n",
    "#     'G6Pter','GLCter','GLCt1',\n",
    "'PYRt2m','PEPtm',\n",
    "'NADHM','ATPM',\n",
    "'CO2tm', 'ATPtm', 'Htm','PIt2m'\n",
    "    # 'L_LACt2r','PYRt2'\n",
    "    ],\n",
    "\n",
    "    constraint_buffer=1)\n",
    "\n",
    "conc_solver.setup_feasible_qp_problem(\n",
    "fixed_conc_bounds=list(liver.fixed))\n",
    "# fixed_Keq_bounds=liver.reactions.list_attr(\"Keq_str\")\n",
    "    \n",
    "#assumption: provide uncertainity to allow for a variance for the Keqs rather than staying fixed\n",
    "#conc_solver.setup_feasible_qp_problem(Keq_percent_deviation=0.1)\n",
    "\n",
    "conc_solution = conc_solver.optimize()\n",
    "conc_solution"
   ]
  },
  {
   "cell_type": "code",
   "execution_count": null,
   "metadata": {},
   "outputs": [],
   "source": [
    "conc_comparison_fig, ax = plt.subplots(nrows=1, ncols=1,\n",
    "                                       figsize=(5, 5))\n",
    "\n",
    "plot_comparison(\n",
    "    x=conc_df[\"Concentration (M)\"], y=conc_solution,\n",
    "    compare=\"concentrations\",\n",
    "    observable=[mid for mid in conc_df.index], ax=ax,\n",
    "    legend=\"right outside\", plot_function=\"loglog\", \n",
    "    xlim=(1e-6,0.02), ylim=(1e-6,1e-1),\n",
    "    xy_line=True,\n",
    "    xy_legend=\"best\", xlabel=\"Initial [mol/L]\", ylabel=\"Adjusted [mol/L]\")\n",
    "\n",
    "conc_comparison_fig.tight_layout()\n",
    "update_model_with_concentration_solution(\n",
    "    liver, conc_solution, concentrations=True, inplace=True)"
   ]
  },
  {
   "cell_type": "code",
   "execution_count": null,
   "metadata": {},
   "outputs": [],
   "source": [
    "liver.calculate_PERCs(fluxes={\n",
    "                r: v for r, v in liver.steady_state_fluxes.items()\n",
    "                if not (r.boundary  \n",
    "                       )\n",
    "}, update_reactions=True)\n",
    "# print(percs)                      \n",
    "\n",
    "print(\"Forward Rate Constants\\n----------------------\")\n",
    "for reaction in liver.reactions:\n",
    "    print(\"{0}: {1:.6f}\".format(reaction.kf_str, reaction.kf))"
   ]
  },
  {
   "cell_type": "code",
   "execution_count": null,
   "metadata": {},
   "outputs": [],
   "source": [
    "#Function to add underscore in front of metabolite identifiers which start with a number\n",
    "## fix this only after getting Keq from equlibrator because bigg doesn't have _13dpg for example\n",
    "def prefix_number_id(id_str):\n",
    "    \"\"\"Prefix identifiers that start with numbers.\"\"\"\n",
    "    if re.match(r\"^\\d\", id_str):\n",
    "        id_str = \"_\" + id_str\n",
    "    return id_str"
   ]
  },
  {
   "cell_type": "code",
   "execution_count": null,
   "metadata": {},
   "outputs": [],
   "source": [
    "#Loop to edit the names using \"prefix_number_id\" function defined earlier\n",
    "for metabolite in liver.metabolites:\n",
    "    new_met_id = prefix_number_id(metabolite.id)\n",
    "    metabolite.id = new_met_id\n",
    "liver.repair()"
   ]
  },
  {
   "cell_type": "code",
   "execution_count": null,
   "metadata": {},
   "outputs": [],
   "source": [
    "qcqa_model(liver, parameters=True, concentrations=True,\n",
    "           fluxes=True, superfluous=True, elemental=True)"
   ]
  },
  {
   "cell_type": "code",
   "execution_count": null,
   "metadata": {},
   "outputs": [],
   "source": [
    "conc_solution.concentrations"
   ]
  },
  {
   "cell_type": "code",
   "execution_count": null,
   "metadata": {},
   "outputs": [],
   "source": [
    "liver.boundary_conditions['co2_b']=0.657953 ##M\n",
    "liver.boundary_conditions['gdp_b']=0.657953 ##M\n",
    "liver.boundary_conditions['gtp_b']=1.519864 ##M\n",
    "liver.boundary_conditions['h2o_b']=1 ##M\n",
    "liver.boundary_conditions['h_b']=1 ##M\n",
    "liver.boundary_conditions['hco3_b']=0.001827 ##M"
   ]
  },
  {
   "cell_type": "code",
   "execution_count": null,
   "metadata": {},
   "outputs": [],
   "source": [
    "# Setup simulation object\n",
    "simG=Simulation(liver, verbose=True)\n",
    "# Simulate from 0 to 1000 with 10001 points in the output\n",
    "conc_sol, flux_sol = simG.simulate(liver, time=(0, 1e8))\n",
    "# Quickly render and display time profiles\n",
    "conc_sol.view_time_profile()"
   ]
  },
  {
   "cell_type": "code",
   "execution_count": null,
   "metadata": {},
   "outputs": [],
   "source": [
    "# Loading reaction data as JSON file to maintain data types as dictionaries \n",
    "model_json = os.path.join(model_dir,\"Gly_Gluco_no_cmpt.json\")\n",
    "json.save_json_model(mass_model=liver, filename=model_json)"
   ]
  },
  {
   "cell_type": "code",
   "execution_count": null,
   "metadata": {},
   "outputs": [],
   "source": []
  },
  {
   "cell_type": "code",
   "execution_count": null,
   "metadata": {},
   "outputs": [],
   "source": []
  },
  {
   "cell_type": "code",
   "execution_count": null,
   "metadata": {},
   "outputs": [],
   "source": [
    "#function to set x label and y label\n",
    "def set_x_label(xlabel):\n",
    "    if xlabel==None:\n",
    "        xlabel=\"Time\"\n",
    "    else:\n",
    "        xlabel=xlabel\n",
    "    return xlabel\n",
    "        \n",
    "def set_y_label(ylabel):        \n",
    "    if ylabel==None:\n",
    "        ylabel=\"Concentrations\"\n",
    "    else:\n",
    "        ylabel=ylabel\n",
    "    return ylabel\n"
   ]
  },
  {
   "cell_type": "code",
   "execution_count": null,
   "metadata": {},
   "outputs": [],
   "source": [
    "#function to make plot typelinear log\n",
    "def set_plot_type(plot_type):\n",
    "    if plot_type == None:\n",
    "        x_plot_type = 'log'\n",
    "        y_plot_type = 'log'\n",
    "    elif plot_type == \"logx\":\n",
    "        x_plot_type = 'log'\n",
    "        y_plot_type = 'linear'\n",
    "    elif plot_type == \"logy\":\n",
    "        x_plot_type = 'linear'\n",
    "        y_plot_type = 'log'\n",
    "    elif plot_type == \"linear\":\n",
    "        x_plot_type = 'linear'\n",
    "        y_plot_type = 'linear'\n",
    "    elif plot_type == \"logxlogy\":\n",
    "        x_plot_type = 'log'\n",
    "        y_plot_type = 'log'\n",
    "    return x_plot_type,y_plot_type\n"
   ]
  },
  {
   "cell_type": "code",
   "execution_count": null,
   "metadata": {},
   "outputs": [],
   "source": [
    "def view_all_conc_sol(conc_sol,\n",
    "#                       dynamic=True\n",
    "                      xlim=None,ylim=None,plot_type=None,xlabel=None,ylabel=None,width=None,height=None):\n",
    "    \"\"\"Generate an interactable time profile which can zoom into the plot with interactive tooltip\"\"\"\n",
    "    #Shift click to click multiple\n",
    "    \n",
    "    data=conc_sol.to_frame()\n",
    "    data = data.reset_index().melt('Time', var_name='Metabolites', value_name='Concentrations')\n",
    "    \n",
    "    # Setting X limit and Y limit\n",
    "    def set_ylim(ylim):\n",
    "        if ylim == None:\n",
    "            conc=data['Concentrations']\n",
    "            ylim_max=max(conc)\n",
    "            ylim=[1e-5,ylim_max]\n",
    "        else:\n",
    "            ylim=ylim\n",
    "        return ylim\n",
    "    \n",
    "    def set_xlim(xlim):\n",
    "        if xlim == None:\n",
    "            xlim_max=data['Time'].iloc[-1]\n",
    "            xlim=[1e-5,xlim_max]\n",
    "\n",
    "        else:\n",
    "            xlim=xlim\n",
    "        return xlim\n",
    "    xlim=set_xlim(xlim)\n",
    "    ylim=set_ylim(ylim)\n",
    "        \n",
    "       \n",
    "    # Setting type of plot\n",
    "    x_plot_type=set_plot_type(plot_type)[0]\n",
    "    y_plot_type=set_plot_type(plot_type)[1]\n",
    "        \n",
    "    # Setting x label and y label\n",
    "    xlabel=set_x_label(xlabel)\n",
    "    ylabel=set_y_label(ylabel)\n",
    "    # Setting width and height\n",
    "    if width==None:\n",
    "        width=500\n",
    "    else:\n",
    "        width=width\n",
    "        \n",
    "    if height==None:\n",
    "        height=300\n",
    "    else:\n",
    "        height=height\n",
    "    \n",
    "    alt.data_transformers.disable_max_rows()\n",
    "    selection = alt.selection_multi(fields=['Metabolites'])\n",
    "    color = alt.condition(selection,\n",
    "                          alt.Color('Metabolites:N', legend=None),\n",
    "                          alt.value('lightgray'))\n",
    "\n",
    "    line = alt.Chart(data).mark_line(clip=True).encode(alt.X('Time:Q',\n",
    "                                                             title=xlabel,\n",
    "                                                             scale=alt.Scale(type = x_plot_type,\n",
    "                                                                             padding = 10,\n",
    "                                                                             domain = xlim,\n",
    "#                   zero=True,\n",
    "                              ),\n",
    "              axis=alt.Axis(tickCount=5)),\n",
    "        alt.Y('Concentrations:Q',\n",
    "              title=ylabel,\n",
    "              scale=alt.Scale(type=y_plot_type,\n",
    "                              padding = 10,\n",
    "                              domain = ylim,\n",
    "#                   zero=True, \n",
    "                             ),\n",
    "               axis=alt.Axis(grid=False,\n",
    "                             tickCount=5)),\n",
    "        color=color,\n",
    "        tooltip= [\"Metabolites\"]+[\"Time\"]+[\"Concentrations\"]\n",
    "    ).properties(width=width, height=height).interactive()\n",
    "\n",
    "    \n",
    "    \n",
    "#         if dynamic == False:\n",
    "#             A = alt.layer(line)\n",
    "#         else:\n",
    "    legend = alt.Chart(data).mark_point().encode(\n",
    "        y=alt.Y('Metabolites:N', axis=alt.Axis(orient='right')),\n",
    "        color=color\n",
    "    ).add_selection(\n",
    "        selection\n",
    "    )\n",
    "    A= line | legend\n",
    "    return A"
   ]
  },
  {
   "cell_type": "code",
   "execution_count": null,
   "metadata": {},
   "outputs": [],
   "source": [
    "view_all_conc_sol(conc_sol,plot_type='logxlogy')"
   ]
  },
  {
   "cell_type": "code",
   "execution_count": null,
   "metadata": {},
   "outputs": [],
   "source": []
  }
 ],
 "metadata": {
  "interpreter": {
   "hash": "dac1de4d04d521f2478106b8cf0804304a8a54afaab58ac4b602c07888c6e2cc"
  },
  "kernelspec": {
   "display_name": "Python 3.8.12 ('massliver')",
   "language": "python",
   "name": "python3"
  },
  "language_info": {
   "codemirror_mode": {
    "name": "ipython",
    "version": 3
   },
   "file_extension": ".py",
   "mimetype": "text/x-python",
   "name": "python",
   "nbconvert_exporter": "python",
   "pygments_lexer": "ipython3",
   "version": "3.8.12"
  }
 },
 "nbformat": 4,
 "nbformat_minor": 4
}
