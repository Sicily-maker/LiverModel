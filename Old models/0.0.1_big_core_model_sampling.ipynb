{
 "cells": [
  {
   "cell_type": "markdown",
   "metadata": {},
   "source": [
    "# Liver Model Construction: Huge Core Model"
   ]
  },
  {
   "cell_type": "code",
   "execution_count": 52,
   "metadata": {},
   "outputs": [
    {
     "name": "stdout",
     "output_type": "stream",
     "text": [
      "MASSpy version: 0.1.6\n"
     ]
    }
   ],
   "source": [
    "import os\n",
    "import re\n",
    "import warnings\n",
    "from cobra.io import *\n",
    "from cobra.io.json import *\n",
    "import escher\n",
    "import mass\n",
    "import numpy as np\n",
    "import pandas as pd\n",
    "import equilibrator_api\n",
    "from equilibrator_api import ComponentContribution, Q_\n",
    "import sympy as sym\n",
    "from cobra import Model, Reaction, Metabolite\n",
    "import cobra.test\n",
    "from os.path import join\n",
    "from mass.util import qcqa, qcqa_model\n",
    "from cobra import DictList\n",
    "from mass import (\n",
    "    MassConfiguration, MassMetabolite, MassModel,\n",
    "    MassReaction, Simulation, UnitDefinition)\n",
    "from mass.io.json import save_json_model as save_json_mass_model\n",
    "from mass.visualization import plot_comparison, plot_time_profile, plot_ensemble_phase_portrait, plot_ensemble_time_profile\n",
    "mass_config = MassConfiguration()\n",
    "mass_config.irreversible_Keq = float(\"inf\")\n",
    "print(\"MASSpy version: {0}\".format(mass.__version__))\n",
    "from six import iteritems\n",
    "import matplotlib.pyplot as plt\n",
    "from mass.thermo import (\n",
    "    ConcSolver, sample_concentrations,\n",
    "    update_model_with_concentration_solution)\n",
    "# adding Folder_2 to the system path\n",
    "sys.path.insert(0, \"c:\\\\Users\\\\sicil\\\\LiverModel\")\n",
    "from cobra_dict import *\n",
    "import cobra_dict as c_d\n",
    "import csv\n",
    "import altair as alt\n",
    "from minspan.minspan import minspan,nnz\n",
    "import sys\n",
    "# from minspan import minspan,nnz"
   ]
  },
  {
   "cell_type": "code",
   "execution_count": 53,
   "metadata": {},
   "outputs": [
    {
     "data": {
      "text/plain": [
       "'0.22.1'"
      ]
     },
     "execution_count": 53,
     "metadata": {},
     "output_type": "execute_result"
    }
   ],
   "source": [
    "mass.__version__\n",
    "cobra.__version__"
   ]
  },
  {
   "cell_type": "code",
   "execution_count": 54,
   "metadata": {},
   "outputs": [],
   "source": [
    "maps_dir = os.path.abspath(\"maps\")\n",
    "data_dir = os.path.abspath(\"data\")\n",
    "dir = os.path.abspath(\"\")\n",
    "model_dir = os.path.abspath(\"models\")\n",
    "minspan_dir= os.path.abspath(\"minspans_csv\")\n"
   ]
  },
  {
   "cell_type": "markdown",
   "metadata": {},
   "source": [
    "### Getting reactions and metabolite data from RECON 3D"
   ]
  },
  {
   "cell_type": "code",
   "execution_count": 55,
   "metadata": {},
   "outputs": [],
   "source": [
    "# making dataframe of metabolites\n",
    "\n",
    "csv_met = os.path.join(data_dir,\"big_core_met_df.csv\")\n",
    "met_csv_df = pd.read_csv(csv_met,index_col=\"id\")\n",
    "metabolite_info=met_csv_df.to_dict(orient='index')\n"
   ]
  },
  {
   "cell_type": "markdown",
   "metadata": {},
   "source": [
    "### Loading cobra model"
   ]
  },
  {
   "cell_type": "code",
   "execution_count": 56,
   "metadata": {},
   "outputs": [],
   "source": [
    "# Initiate empty model\n",
    "trial= cobra.Model()"
   ]
  },
  {
   "cell_type": "code",
   "execution_count": 57,
   "metadata": {},
   "outputs": [],
   "source": [
    "#  Add all the remaining metabolites involved in the pathway\n",
    "for met_id, info in metabolite_info.items():\n",
    "    met = cobra.Metabolite(met_id, name=info['name'], formula=info['formula'], \n",
    "                           charge=info['charge'], compartment=info['compartment'])\n",
    "    trial.add_metabolites(met)\n",
    "\n",
    "# Loading reaction data as JSON file to maintain data types as dictionaries \n",
    "rxn_json = os.path.join(data_dir,\"big_core_reaction_df.json\")\n",
    "with open(rxn_json) as json_file:\n",
    "    rxn_data = json.load(json_file)\n",
    "    "
   ]
  },
  {
   "cell_type": "code",
   "execution_count": 58,
   "metadata": {},
   "outputs": [],
   "source": [
    "for reaction, info in rxn_data.items():\n",
    "    reaction_obj = cobra.Reaction(reaction)\n",
    "    reaction_obj.id=reaction\n",
    "    reaction= reaction_obj.id\n",
    "    reaction_obj.lower_bound = info['lower_bound']\n",
    "    reaction_obj.upper_bound = info['upper_bound']\n",
    "    reaction_obj.name = info['name']\n",
    "    trial.add_reaction(reaction_obj)\n",
    "    temp=info['metabolites']\n",
    "    reaction_obj.add_metabolites(temp)\n",
    "    # print(reaction)"
   ]
  },
  {
   "cell_type": "code",
   "execution_count": 59,
   "metadata": {},
   "outputs": [],
   "source": [
    "trial.metabolites.h_c.charge= 1\n",
    "trial.metabolites.h_m.charge= 1\n",
    "trial.metabolites.h_i.charge= 1\n",
    "trial.metabolites.pi_c.charge= -2\n",
    "trial.metabolites.pi_m.charge= -2"
   ]
  },
  {
   "cell_type": "code",
   "execution_count": 60,
   "metadata": {},
   "outputs": [
    {
     "name": "stdout",
     "output_type": "stream",
     "text": [
      "CSm {}\n",
      "ACONTm {}\n",
      "ICDHxm {}\n",
      "AKGDm {}\n",
      "SUCOASm {}\n",
      "SUCD1m {}\n",
      "FUMm {}\n",
      "MDHm {}\n",
      "NADH2_u10mi {}\n",
      "FADH2ETC {}\n",
      "CYOR_u10mi {}\n",
      "CYOOm2i {}\n",
      "ATPS4mi {}\n",
      "Htmi {}\n",
      "HEX1 {}\n",
      "PGI {}\n",
      "PFK {}\n",
      "FBA {}\n",
      "TPI {}\n",
      "GAPD {}\n",
      "PGK {}\n",
      "PGM {}\n",
      "ENO {}\n",
      "PYK {}\n",
      "ADK1 {}\n",
      "PDHm {}\n",
      "LDH_L {}\n",
      "G6PDH2r {}\n",
      "PGL {}\n",
      "GND {}\n",
      "RPI {}\n",
      "RPE {}\n",
      "TKT1 {}\n",
      "TKT2 {}\n",
      "TALA {}\n",
      "PCm {}\n",
      "PEPCKm {}\n",
      "FBP {}\n",
      "G6PPer {'charge': 2.0}\n",
      "G6Pter {}\n",
      "GLCter {}\n",
      "MALtm {}\n",
      "MDH {}\n",
      "PEPCK_re {}\n",
      "PGMT {}\n",
      "GALUi {}\n",
      "GLGNS1 {}\n",
      "GLBRAN {}\n",
      "GLPASE1 {}\n",
      "GLDBRAN {}\n",
      "GLPASE2 {}\n",
      "GGNG {}\n",
      "ACACT1m {}\n",
      "HMGCOASm {}\n",
      "HMGLm {}\n",
      "ADCim {}\n",
      "BDHm {}\n",
      "OCOAT1m {}\n",
      "NDPK1 {}\n",
      "NDPK1m {}\n",
      "NDPK2 {}\n",
      "HCO3Em {}\n",
      "ATPtm {}\n",
      "AKGMALtm {}\n",
      "ASPTA {}\n",
      "ASPTAm {}\n",
      "CITtam {}\n",
      "CITL {}\n",
      "ME2 {}\n",
      "ACS {}\n",
      "ARGN {}\n",
      "OCBTm {}\n",
      "ARGSS {}\n",
      "ARGSL {}\n",
      "CBPSam {}\n",
      "NH4tm {}\n",
      "GDHm {}\n",
      "GLNS {}\n",
      "GLUN {}\n",
      "ALATA_L {}\n",
      "CYSO {}\n",
      "3SALATAi {}\n",
      "3SPYRSP {}\n",
      "PGCD {}\n",
      "PSERT {}\n",
      "PSP_L {}\n",
      "GHMT2r {}\n",
      "ASNS1 {}\n",
      "GLYtm {}\n",
      "MLTHFtm {}\n",
      "THFtm {}\n",
      "KHK {}\n",
      "FBA2 {}\n",
      "TRIOK {}\n",
      "ALCD19y {}\n",
      "GLYK {}\n",
      "2AMACHYD {}\n",
      "SERHL {}\n",
      "ALCD2x {}\n",
      "ACALDtm {}\n",
      "ALDD2xm {}\n",
      "ACSm {}\n",
      "Htm {}\n",
      "O2tm {}\n",
      "H2Otr {}\n",
      "H2Otm {}\n",
      "PItm {}\n",
      "PItr {'charge': 2.0}\n",
      "CO2tm {}\n",
      "PPA {}\n",
      "HCO3E {}\n",
      "PEPtm {}\n",
      "PYRt2m {}\n",
      "ASPGLUm {}\n",
      "THD1m {}\n",
      "BHBtm {}\n",
      "ACETONEt2m {}\n",
      "ORNt4m {}\n",
      "FUMtm {}\n",
      "GLUt2m {}\n",
      "GLYCLm {}\n",
      "FACOAL80PROD {'charge': nan, 'C': -21, 'H': -31, 'N': -7, 'O': -15, 'P': -3, 'S': -1}\n",
      "GAPT {'charge': nan, 'C': 18, 'H': 25, 'N': 7, 'O': 10, 'P': 2, 'S': 1}\n",
      "AGPTAT {'charge': nan, 'C': 21, 'H': 32, 'N': 7, 'O': 16, 'P': 3, 'S': 1}\n",
      "LPIN {'charge': nan, 'H': -1, 'O': 3, 'P': 1}\n",
      "DGAT {'charge': nan, 'C': 21, 'H': 32, 'N': 7, 'O': 16, 'P': 3, 'S': 1}\n",
      "ACCOAC {}\n",
      "MCOATA {'charge': nan, 'C': -3, 'H': -1, 'O': -3}\n",
      "ACOATA {'charge': nan, 'C': -2, 'H': -2, 'O': -1}\n",
      "KAS14 {'charge': nan, 'C': 1, 'O': 2, 'H': -1}\n",
      "30AR40 {'charge': nan, 'H': -2}\n",
      "3HAD40 {'charge': nan, 'H': 2, 'O': 1}\n",
      "EAR40y {'charge': nan, 'H': -2}\n",
      "30AS60 {'charge': nan, 'C': 1, 'O': 2, 'H': -1}\n",
      "30AR60 {'charge': nan, 'H': -2}\n",
      "3HAD60 {'charge': nan, 'H': 2, 'O': 1}\n",
      "EAR60y {'charge': nan, 'H': -2}\n",
      "30AS80 {'charge': nan, 'C': 1, 'O': 2, 'H': -1}\n",
      "30AR80 {'charge': nan, 'H': -2}\n",
      "3HAD80 {'charge': nan, 'H': 2, 'O': 1}\n",
      "EAR80y {'charge': nan, 'H': -2}\n",
      "FA80ACPHi {'charge': nan, 'H': -1, 'O': -1}\n",
      "FACOAL80 {}\n",
      "C80CPT1 {}\n",
      "r2434 {}\n",
      "CRNtim {}\n",
      "r0636 {}\n",
      "COAtim {}\n",
      "ACOAD3fm {'charge': nan, 'C': -29, 'H': -44, 'N': -7, 'O': -17, 'P': -3, 'S': -1}\n",
      "ECOAH3m {'charge': nan, 'H': 2, 'O': 1}\n",
      "HACD3m {'charge': nan, 'H': -2}\n",
      "ACACT3rm {'charge': nan, 'C': -29, 'H': -44, 'N': -7, 'O': -18, 'P': -3, 'S': -1}\n",
      "ACOAD2fm {}\n",
      "ECOAH2m {'charge': nan, 'H': 42, 'O': 18, 'C': 27, 'N': 7, 'P': 3, 'S': 1}\n",
      "HACD2m {'charge': nan, 'H': -2}\n",
      "ACACT2rm {'charge': nan, 'C': -27, 'H': -40, 'N': -7, 'O': -18, 'P': -3, 'S': -1}\n",
      "ACOAD1fm {}\n",
      "ECOAH1m {}\n",
      "HACD1m {}\n",
      "ACACT1rm {}\n",
      "ATPM {}\n",
      "EX_h_c {'charge': -1, 'H': -1}\n",
      "EX_pyr_c {'charge': 1.0, 'C': -3, 'H': -3, 'O': -3}\n",
      "EX_h2o_c {'H': -2, 'O': -1}\n",
      "EX_pi_c {'charge': 2, 'H': -1, 'O': -4, 'P': -1}\n",
      "EX_glc__D_c {'C': -6, 'H': -12, 'O': -6}\n",
      "EX_lac__L_c {'charge': 1.0, 'C': -3, 'H': -5, 'O': -3}\n",
      "EX_co2_c {'C': -1, 'O': -2}\n",
      "EX_o2_c {'O': -2}\n",
      "EX_octa_prod_c {'charge': nan}\n",
      "EX_octa_cons_c {'charge': nan}\n",
      "EX_urea_c {'C': -1, 'H': -4, 'N': -2, 'O': -1}\n",
      "EX_gln__L_c {'C': -5, 'H': -10, 'N': -2, 'O': -3}\n",
      "EX_acetone_c {'C': -3, 'H': -6, 'O': -1}\n",
      "EX_bhb_c {'charge': 1.0, 'C': -4, 'H': -7, 'O': -3}\n",
      "EX_glu__L_c {'charge': 1.0, 'C': -5, 'H': -8, 'N': -1, 'O': -4}\n",
      "EX_ser__L_c {'C': -3, 'H': -7, 'N': -1, 'O': -3}\n",
      "EX_cys__L_c {'C': -3, 'H': -7, 'N': -1, 'O': -2, 'S': -1}\n",
      "EX_gly_c {'C': -2, 'H': -5, 'N': -1, 'O': -2}\n",
      "EX_glygn2_c {'C': -66, 'H': -111, 'O': -56, 'X': -1}\n",
      "EX_Tyr_ggn_c {'X': -1, 'O': -1, 'H': -1}\n",
      "EX_ala__L_c {'C': -3, 'H': -7, 'N': -1, 'O': -2}\n",
      "EX_nh4_c {'charge': -1.0, 'H': -4, 'N': -1}\n",
      "EX_so3_c {'charge': 2.0, 'O': -3, 'S': -1}\n",
      "EX_etoh_c {'C': -2, 'H': -6, 'O': -1}\n",
      "EX_glyc_3octa_c {'charge': nan}\n",
      "EX_fru_c {'C': -6, 'H': -12, 'O': -6}\n",
      "GTHPi {}\n",
      "GTHOr {}\n",
      "NADPHM {'charge': 2.0}\n",
      "EX_r5p_c {'charge': 2.0, 'C': -5, 'H': -9, 'O': -8, 'P': -1}\n",
      "EX_o2s_c {'charge': 1.0, 'O': -2}\n"
     ]
    }
   ],
   "source": [
    "for r in trial.reactions:\n",
    "    print(r.id,  r.check_mass_balance())"
   ]
  },
  {
   "cell_type": "code",
   "execution_count": 61,
   "metadata": {},
   "outputs": [
    {
     "data": {
      "text/html": [
       "<strong><em>Optimal</em> solution with objective value 28.000</strong><br><div>\n",
       "<style scoped>\n",
       "    .dataframe tbody tr th:only-of-type {\n",
       "        vertical-align: middle;\n",
       "    }\n",
       "\n",
       "    .dataframe tbody tr th {\n",
       "        vertical-align: top;\n",
       "    }\n",
       "\n",
       "    .dataframe thead th {\n",
       "        text-align: right;\n",
       "    }\n",
       "</style>\n",
       "<table border=\"1\" class=\"dataframe\">\n",
       "  <thead>\n",
       "    <tr style=\"text-align: right;\">\n",
       "      <th></th>\n",
       "      <th>fluxes</th>\n",
       "      <th>reduced_costs</th>\n",
       "    </tr>\n",
       "  </thead>\n",
       "  <tbody>\n",
       "    <tr>\n",
       "      <th>CSm</th>\n",
       "      <td>2.0</td>\n",
       "      <td>0.000000</td>\n",
       "    </tr>\n",
       "    <tr>\n",
       "      <th>ACONTm</th>\n",
       "      <td>2.0</td>\n",
       "      <td>0.000000</td>\n",
       "    </tr>\n",
       "    <tr>\n",
       "      <th>ICDHxm</th>\n",
       "      <td>2.0</td>\n",
       "      <td>0.000000</td>\n",
       "    </tr>\n",
       "    <tr>\n",
       "      <th>AKGDm</th>\n",
       "      <td>2.0</td>\n",
       "      <td>0.000000</td>\n",
       "    </tr>\n",
       "    <tr>\n",
       "      <th>SUCOASm</th>\n",
       "      <td>28.0</td>\n",
       "      <td>0.000000</td>\n",
       "    </tr>\n",
       "    <tr>\n",
       "      <th>...</th>\n",
       "      <td>...</td>\n",
       "      <td>...</td>\n",
       "    </tr>\n",
       "    <tr>\n",
       "      <th>GTHPi</th>\n",
       "      <td>0.0</td>\n",
       "      <td>0.000000</td>\n",
       "    </tr>\n",
       "    <tr>\n",
       "      <th>GTHOr</th>\n",
       "      <td>0.0</td>\n",
       "      <td>-4.666667</td>\n",
       "    </tr>\n",
       "    <tr>\n",
       "      <th>NADPHM</th>\n",
       "      <td>0.0</td>\n",
       "      <td>-4.666667</td>\n",
       "    </tr>\n",
       "    <tr>\n",
       "      <th>EX_r5p_c</th>\n",
       "      <td>0.0</td>\n",
       "      <td>-46.666667</td>\n",
       "    </tr>\n",
       "    <tr>\n",
       "      <th>EX_o2s_c</th>\n",
       "      <td>0.0</td>\n",
       "      <td>-0.000000</td>\n",
       "    </tr>\n",
       "  </tbody>\n",
       "</table>\n",
       "<p>192 rows × 2 columns</p>\n",
       "</div>"
      ],
      "text/plain": [
       "<Solution 28.000 at 0x1d0b8640040>"
      ]
     },
     "execution_count": 61,
     "metadata": {},
     "output_type": "execute_result"
    }
   ],
   "source": [
    "trial.objective = 'ATPS4mi'\n",
    "flux= trial.optimize()\n",
    "flux\n"
   ]
  },
  {
   "cell_type": "code",
   "execution_count": 62,
   "metadata": {},
   "outputs": [],
   "source": [
    "#Function to load data from the excel sheet\n",
    "def load_data(filepath, sheet_name):\n",
    "    \"\"\"Load Liver data from an excel sheet\"\"\"\n",
    "    df = pd.read_excel(engine='openpyxl',\n",
    "        io=filepath,\n",
    "        sheet_name=sheet_name,\n",
    "        index_col=0)\n",
    "    return df"
   ]
  },
  {
   "cell_type": "code",
   "execution_count": 63,
   "metadata": {},
   "outputs": [
    {
     "data": {
      "text/html": [
       "<div>\n",
       "<style scoped>\n",
       "    .dataframe tbody tr th:only-of-type {\n",
       "        vertical-align: middle;\n",
       "    }\n",
       "\n",
       "    .dataframe tbody tr th {\n",
       "        vertical-align: top;\n",
       "    }\n",
       "\n",
       "    .dataframe thead th {\n",
       "        text-align: right;\n",
       "    }\n",
       "</style>\n",
       "<table border=\"1\" class=\"dataframe\">\n",
       "  <thead>\n",
       "    <tr style=\"text-align: right;\">\n",
       "      <th></th>\n",
       "      <th>val</th>\n",
       "    </tr>\n",
       "    <tr>\n",
       "      <th>met</th>\n",
       "      <th></th>\n",
       "    </tr>\n",
       "  </thead>\n",
       "  <tbody>\n",
       "    <tr>\n",
       "      <th>glygn2_c</th>\n",
       "      <td>-0.015600</td>\n",
       "    </tr>\n",
       "    <tr>\n",
       "      <th>ala__L_c</th>\n",
       "      <td>-0.096667</td>\n",
       "    </tr>\n",
       "    <tr>\n",
       "      <th>nh4_c</th>\n",
       "      <td>-0.090533</td>\n",
       "    </tr>\n",
       "    <tr>\n",
       "      <th>gly_c</th>\n",
       "      <td>-0.015827</td>\n",
       "    </tr>\n",
       "    <tr>\n",
       "      <th>gln__L_c</th>\n",
       "      <td>-0.034667</td>\n",
       "    </tr>\n",
       "    <tr>\n",
       "      <th>ser__L_c</th>\n",
       "      <td>-0.009720</td>\n",
       "    </tr>\n",
       "    <tr>\n",
       "      <th>glc__D_c</th>\n",
       "      <td>-0.037452</td>\n",
       "    </tr>\n",
       "  </tbody>\n",
       "</table>\n",
       "</div>"
      ],
      "text/plain": [
       "               val\n",
       "met               \n",
       "glygn2_c -0.015600\n",
       "ala__L_c -0.096667\n",
       "nh4_c    -0.090533\n",
       "gly_c    -0.015827\n",
       "gln__L_c -0.034667\n",
       "ser__L_c -0.009720\n",
       "glc__D_c -0.037452"
      ]
     },
     "execution_count": 63,
     "metadata": {},
     "output_type": "execute_result"
    }
   ],
   "source": [
    "#Compare Results\n",
    "excel_ic = os.path.join(data_dir,\"Fluxes_Data.xlsx\")\n",
    "# ic_df = pd.read_csv(csv_ic)\n",
    "# ic_df.set_index()\n",
    "fluxes = load_data(\n",
    "    filepath=excel_ic,\n",
    "    sheet_name=\"Model_data\"\n",
    "    )\n",
    "# ic_info_all.reset_index(level='ID', col_level=1, inplace=True)\n",
    "\n",
    "fluxes"
   ]
  },
  {
   "cell_type": "code",
   "execution_count": 64,
   "metadata": {},
   "outputs": [
    {
     "data": {
      "text/html": [
       "<div>\n",
       "<style scoped>\n",
       "    .dataframe tbody tr th:only-of-type {\n",
       "        vertical-align: middle;\n",
       "    }\n",
       "\n",
       "    .dataframe tbody tr th {\n",
       "        vertical-align: top;\n",
       "    }\n",
       "\n",
       "    .dataframe thead th {\n",
       "        text-align: right;\n",
       "    }\n",
       "</style>\n",
       "<table border=\"1\" class=\"dataframe\">\n",
       "  <thead>\n",
       "    <tr style=\"text-align: right;\">\n",
       "      <th></th>\n",
       "      <th>val</th>\n",
       "    </tr>\n",
       "    <tr>\n",
       "      <th>met</th>\n",
       "      <th></th>\n",
       "    </tr>\n",
       "  </thead>\n",
       "  <tbody>\n",
       "    <tr>\n",
       "      <th>glygn2_c</th>\n",
       "      <td>-0.015600</td>\n",
       "    </tr>\n",
       "    <tr>\n",
       "      <th>ala__L_c</th>\n",
       "      <td>-0.096667</td>\n",
       "    </tr>\n",
       "    <tr>\n",
       "      <th>nh4_c</th>\n",
       "      <td>-0.090533</td>\n",
       "    </tr>\n",
       "    <tr>\n",
       "      <th>gly_c</th>\n",
       "      <td>-0.015827</td>\n",
       "    </tr>\n",
       "    <tr>\n",
       "      <th>gln__L_c</th>\n",
       "      <td>-0.034667</td>\n",
       "    </tr>\n",
       "    <tr>\n",
       "      <th>ser__L_c</th>\n",
       "      <td>-0.009720</td>\n",
       "    </tr>\n",
       "    <tr>\n",
       "      <th>glc__D_c</th>\n",
       "      <td>-0.037452</td>\n",
       "    </tr>\n",
       "  </tbody>\n",
       "</table>\n",
       "</div>"
      ],
      "text/plain": [
       "               val\n",
       "met               \n",
       "glygn2_c -0.015600\n",
       "ala__L_c -0.096667\n",
       "nh4_c    -0.090533\n",
       "gly_c    -0.015827\n",
       "gln__L_c -0.034667\n",
       "ser__L_c -0.009720\n",
       "glc__D_c -0.037452"
      ]
     },
     "execution_count": 64,
     "metadata": {},
     "output_type": "execute_result"
    }
   ],
   "source": [
    "# rows_of_interest = ['glygn2_c', 'glc__D_c', 'ala__L_c','nh4_c','ser__L_c']\n",
    "# fluxes= fluxes.loc[rows_of_interest]\n",
    "# fluxes = fluxes\n",
    "fluxes"
   ]
  },
  {
   "cell_type": "code",
   "execution_count": 65,
   "metadata": {},
   "outputs": [
    {
     "name": "stdout",
     "output_type": "stream",
     "text": [
      "Setting Experimental fluxes\n",
      "------------------\n",
      "EX_glc__D_c -0.0374517 0.0374517\n",
      "EX_gln__L_c -0.0346666666666667 0.0346666666666667\n",
      "EX_ser__L_c -0.00972 0.00972\n",
      "EX_gly_c -0.015826666666666666 0.015826666666666666\n",
      "EX_glygn2_c -0.015600000000000001 0.015600000000000001\n",
      "EX_ala__L_c -0.09666666666666666 0.09666666666666666\n",
      "EX_nh4_c -0.09053333333333334 0.09053333333333334\n"
     ]
    }
   ],
   "source": [
    "print(\"Setting Experimental fluxes\\n------------------\")\n",
    "\n",
    "for reaction in trial.reactions:\n",
    "    #Setting inital condition of metabolties from HEPATOKIN  #M \n",
    "    if 'EX_' in reaction.id:\n",
    "        for met in reaction.metabolites:\n",
    "            # print(met)\n",
    "            if met.id in fluxes.index:\n",
    "                mid=met.id\n",
    "                # print(mid)\n",
    "                flux = fluxes.loc[mid,'val']\n",
    "                # print(flux)\n",
    "            #     row = [mid,ic_value]\n",
    "            #     # column = [ic_value]\n",
    "            #     # conc_df.append(row)\n",
    "                reaction.lower_bound =  flux       \n",
    "                reaction.upper_bound =  -flux     #mol/L*hr = M/hr\n",
    "                \n",
    "                print(reaction.id, reaction.lower_bound, reaction.upper_bound)       \n",
    "# for metabolite, ic_value in liver.initial_conditions.items():\n",
    "#     print(\"{0}: {1}\".format(metabolite, ic_value))"
   ]
  },
  {
   "cell_type": "code",
   "execution_count": 66,
   "metadata": {},
   "outputs": [
    {
     "name": "stdout",
     "output_type": "stream",
     "text": [
      "EX_h_c -1000.0 1000.0\n",
      "EX_pyr_c 0.0 1000.0\n",
      "EX_h2o_c -1000.0 1000.0\n",
      "EX_pi_c -1000.0 1000.0\n",
      "EX_glc__D_c -0.0374517 0.0374517\n",
      "EX_lac__L_c 0.0 1000.0\n",
      "EX_co2_c 0.0 1000.0\n",
      "EX_o2_c -1000.0 1000.0\n",
      "EX_octa_prod_c 0.0 1000.0\n",
      "EX_octa_cons_c 0.0 0.0\n",
      "EX_urea_c 0.0 1000.0\n",
      "EX_gln__L_c -0.0346666666666667 0.0346666666666667\n",
      "EX_acetone_c 0.0 1000.0\n",
      "EX_bhb_c 0.0 1000.0\n",
      "EX_glu__L_c 0.0 1000.0\n",
      "EX_ser__L_c -0.00972 0.00972\n",
      "EX_cys__L_c 0.0 1000.0\n",
      "EX_gly_c -0.015826666666666666 0.015826666666666666\n",
      "EX_glygn2_c -0.015600000000000001 0.015600000000000001\n",
      "EX_Tyr_ggn_c -1000.0 1000.0\n",
      "EX_ala__L_c -0.09666666666666666 0.09666666666666666\n",
      "EX_nh4_c -0.09053333333333334 0.09053333333333334\n",
      "EX_so3_c 0.0 1000.0\n",
      "EX_etoh_c 0.0 1000.0\n",
      "EX_glyc_3octa_c 0.0 1000.0\n",
      "EX_fru_c 0.0 1000.0\n",
      "EX_r5p_c 0.0 1000.0\n",
      "EX_o2s_c -1000.0 1000.0\n"
     ]
    }
   ],
   "source": [
    "for r in trial.reactions:\n",
    "    if 'EX_' in r.id:\n",
    "    \n",
    "        print(r.id, r.lower_bound, r.upper_bound)"
   ]
  },
  {
   "cell_type": "code",
   "execution_count": 67,
   "metadata": {},
   "outputs": [],
   "source": [
    "# futile_cycle_1 = trial.problem.Constraint(\n",
    "#     trial.reactions.PFK.flux_expression - trial.reactions.FBP.flux_expression,\n",
    "#     lb=-60,\n",
    "#     ub=60)\n",
    "# trial.add_cons_vars(futile_cycle_1)\n",
    "\n",
    "\n",
    "# futile_cycle_2 = trial.problem.Constraint(\n",
    "#     trial.reactions.HEX1.flux_expression - trial.reactions.G6PPer.flux_expression,\n",
    "#     lb=-1000,\n",
    "#     ub=1000)\n",
    "# trial.add_cons_vars(futile_cycle_2)\n",
    "\n",
    "# # try doubling the two above because of the 2:1 ratio\n",
    "# futile_cycle_3 = trial.problem.Constraint(\n",
    "#     trial.reactions.PYK.flux_expression - trial.reactions.PCm.flux_expression,\n",
    "#     lb=-20,\n",
    "#     ub=20)\n",
    "# trial.add_cons_vars(futile_cycle_3)\n",
    "\n",
    "\n",
    "# constraint = trial.problem.Constraint(-\n",
    "#     trial.reactions.EX_glc__D_c.flux_expression \n",
    "#     - trial.reactions.EX_glc__D_c.flux_expression,\n",
    "#     lb=-20,\n",
    "#     ub=20)\n",
    "# trial.add_cons_vars(constraint)"
   ]
  },
  {
   "cell_type": "code",
   "execution_count": 68,
   "metadata": {},
   "outputs": [
    {
     "data": {
      "text/html": [
       "<strong><em>Optimal</em> solution with objective value 0.053</strong><br><div>\n",
       "<style scoped>\n",
       "    .dataframe tbody tr th:only-of-type {\n",
       "        vertical-align: middle;\n",
       "    }\n",
       "\n",
       "    .dataframe tbody tr th {\n",
       "        vertical-align: top;\n",
       "    }\n",
       "\n",
       "    .dataframe thead th {\n",
       "        text-align: right;\n",
       "    }\n",
       "</style>\n",
       "<table border=\"1\" class=\"dataframe\">\n",
       "  <thead>\n",
       "    <tr style=\"text-align: right;\">\n",
       "      <th></th>\n",
       "      <th>fluxes</th>\n",
       "      <th>reduced_costs</th>\n",
       "    </tr>\n",
       "  </thead>\n",
       "  <tbody>\n",
       "    <tr>\n",
       "      <th>CSm</th>\n",
       "      <td>0.418103</td>\n",
       "      <td>0.0</td>\n",
       "    </tr>\n",
       "    <tr>\n",
       "      <th>ACONTm</th>\n",
       "      <td>0.418103</td>\n",
       "      <td>0.0</td>\n",
       "    </tr>\n",
       "    <tr>\n",
       "      <th>ICDHxm</th>\n",
       "      <td>0.418103</td>\n",
       "      <td>0.0</td>\n",
       "    </tr>\n",
       "    <tr>\n",
       "      <th>AKGDm</th>\n",
       "      <td>0.418103</td>\n",
       "      <td>0.0</td>\n",
       "    </tr>\n",
       "    <tr>\n",
       "      <th>SUCOASm</th>\n",
       "      <td>5.853448</td>\n",
       "      <td>0.0</td>\n",
       "    </tr>\n",
       "    <tr>\n",
       "      <th>...</th>\n",
       "      <td>...</td>\n",
       "      <td>...</td>\n",
       "    </tr>\n",
       "    <tr>\n",
       "      <th>GTHPi</th>\n",
       "      <td>0.000000</td>\n",
       "      <td>0.0</td>\n",
       "    </tr>\n",
       "    <tr>\n",
       "      <th>GTHOr</th>\n",
       "      <td>0.000000</td>\n",
       "      <td>0.0</td>\n",
       "    </tr>\n",
       "    <tr>\n",
       "      <th>NADPHM</th>\n",
       "      <td>0.000000</td>\n",
       "      <td>0.0</td>\n",
       "    </tr>\n",
       "    <tr>\n",
       "      <th>EX_r5p_c</th>\n",
       "      <td>0.000000</td>\n",
       "      <td>-0.0</td>\n",
       "    </tr>\n",
       "    <tr>\n",
       "      <th>EX_o2s_c</th>\n",
       "      <td>0.000000</td>\n",
       "      <td>-0.0</td>\n",
       "    </tr>\n",
       "  </tbody>\n",
       "</table>\n",
       "<p>192 rows × 2 columns</p>\n",
       "</div>"
      ],
      "text/plain": [
       "<Solution 0.053 at 0x1d0b72649d0>"
      ]
     },
     "execution_count": 68,
     "metadata": {},
     "output_type": "execute_result"
    }
   ],
   "source": [
    "dual_objective = trial.problem.Objective(\n",
    "    -trial.reactions.EX_glygn2_c.flux_expression-\n",
    "    trial.reactions.EX_glc__D_c.flux_expression,\n",
    "    direction='max')\n",
    "trial.objective = dual_objective\n",
    "solution = trial.optimize(objective_sense='maximise')\n",
    "# try adding ratios of glycogen to glucose in objective function\n",
    "# try making the flux reactons of PGI, GLUT2, \n",
    "solution"
   ]
  },
  {
   "cell_type": "code",
   "execution_count": 69,
   "metadata": {},
   "outputs": [
    {
     "data": {
      "application/vnd.jupyter.widget-view+json": {
       "model_id": "88d5a5331ebb4aee9c9af26767103383",
       "version_major": 2,
       "version_minor": 0
      },
      "text/plain": [
       "Builder(reaction_data={'CSm': 0.4181034, 'ACONTm': 0.4181034, 'ICDHxm': 0.4181034, 'AKGDm': 0.4181034, 'SUCOAS…"
      ]
     },
     "metadata": {},
     "output_type": "display_data"
    }
   ],
   "source": [
    "# #Escher FBA: shows the solutions on the map\n",
    "initial_flux_data = {\n",
    "    reaction: flux\n",
    "    for reaction, flux in solution.fluxes.items()}\n",
    "\n",
    "\n",
    "#view all the reactions that we need build\n",
    "escher_builder = escher.Builder(\n",
    "    # model=trial,\n",
    "    map_json=os.path.join(\n",
    "        maps_dir,\"core_map_v23.json\")\n",
    "        # ,highlight_missing=True\n",
    "    , reaction_data=initial_flux_data\n",
    "    )\n",
    "\n",
    "# Display map in notebook\n",
    "escher_builder"
   ]
  },
  {
   "cell_type": "code",
   "execution_count": 70,
   "metadata": {},
   "outputs": [],
   "source": [
    "from cobra.util.solver import linear_reaction_coefficients\n",
    "from cobra.io import json"
   ]
  },
  {
   "cell_type": "markdown",
   "metadata": {},
   "source": []
  },
  {
   "cell_type": "code",
   "execution_count": 71,
   "metadata": {},
   "outputs": [
    {
     "data": {
      "text/plain": [
       "{<Reaction EX_glc__D_c at 0x1d0b46684f0>: -1.0,\n",
       " <Reaction EX_glygn2_c at 0x1d0b465ffd0>: -1.0}"
      ]
     },
     "execution_count": 71,
     "metadata": {},
     "output_type": "execute_result"
    }
   ],
   "source": [
    "linear_reaction_coefficients(trial)"
   ]
  },
  {
   "cell_type": "code",
   "execution_count": 72,
   "metadata": {},
   "outputs": [
    {
     "data": {
      "text/html": [
       "\n",
       "        <table>\n",
       "            <tr>\n",
       "                <td><strong>Reaction identifier</strong></td><td>PGI</td>\n",
       "            </tr><tr>\n",
       "                <td><strong>Name</strong></td><td>Glucose-6-phosphate isomerase</td>\n",
       "            </tr><tr>\n",
       "                <td><strong>Memory address</strong></td>\n",
       "                <td>0x01d0b3e833d0</td>\n",
       "            </tr><tr>\n",
       "                <td><strong>Stoichiometry</strong></td>\n",
       "                <td>\n",
       "                    <p style='text-align:right'>g6p_c <=> f6p_c</p>\n",
       "                    <p style='text-align:right'>D-Glucose 6-phosphate <=> D-Fructose 6-phosphate</p>\n",
       "                </td>\n",
       "            </tr><tr>\n",
       "                <td><strong>GPR</strong></td><td></td>\n",
       "            </tr><tr>\n",
       "                <td><strong>Lower bound</strong></td><td>-1000.0</td>\n",
       "            </tr><tr>\n",
       "                <td><strong>Upper bound</strong></td><td>1000.0</td>\n",
       "            </tr>\n",
       "        </table>\n",
       "        "
      ],
      "text/plain": [
       "<Reaction PGI at 0x1d0b3e833d0>"
      ]
     },
     "execution_count": 72,
     "metadata": {},
     "output_type": "execute_result"
    }
   ],
   "source": [
    "trial.reactions.PGI"
   ]
  },
  {
   "cell_type": "markdown",
   "metadata": {},
   "source": [
    "## Solution Space (sampling)"
   ]
  },
  {
   "cell_type": "markdown",
   "metadata": {},
   "source": [
    "\n",
    "\n",
    "\n",
    "sampling 4 different flux states and seeing overlap in distributions"
   ]
  },
  {
   "cell_type": "markdown",
   "metadata": {},
   "source": [
    "## FVA analysis"
   ]
  },
  {
   "cell_type": "code",
   "execution_count": 73,
   "metadata": {},
   "outputs": [],
   "source": [
    "from cobra.flux_analysis import flux_variability_analysis"
   ]
  },
  {
   "cell_type": "code",
   "execution_count": 74,
   "metadata": {},
   "outputs": [
    {
     "data": {
      "text/html": [
       "<strong><em>Optimal</em> solution with objective value -0.039</strong><br><div>\n",
       "<style scoped>\n",
       "    .dataframe tbody tr th:only-of-type {\n",
       "        vertical-align: middle;\n",
       "    }\n",
       "\n",
       "    .dataframe tbody tr th {\n",
       "        vertical-align: top;\n",
       "    }\n",
       "\n",
       "    .dataframe thead th {\n",
       "        text-align: right;\n",
       "    }\n",
       "</style>\n",
       "<table border=\"1\" class=\"dataframe\">\n",
       "  <thead>\n",
       "    <tr style=\"text-align: right;\">\n",
       "      <th></th>\n",
       "      <th>fluxes</th>\n",
       "      <th>reduced_costs</th>\n",
       "    </tr>\n",
       "  </thead>\n",
       "  <tbody>\n",
       "    <tr>\n",
       "      <th>CSm</th>\n",
       "      <td>0.021592</td>\n",
       "      <td>0.000000e+00</td>\n",
       "    </tr>\n",
       "    <tr>\n",
       "      <th>ACONTm</th>\n",
       "      <td>0.021592</td>\n",
       "      <td>0.000000e+00</td>\n",
       "    </tr>\n",
       "    <tr>\n",
       "      <th>ICDHxm</th>\n",
       "      <td>0.021592</td>\n",
       "      <td>-8.673617e-19</td>\n",
       "    </tr>\n",
       "    <tr>\n",
       "      <th>AKGDm</th>\n",
       "      <td>0.056259</td>\n",
       "      <td>-8.673617e-19</td>\n",
       "    </tr>\n",
       "    <tr>\n",
       "      <th>SUCOASm</th>\n",
       "      <td>-0.056259</td>\n",
       "      <td>4.770490e-18</td>\n",
       "    </tr>\n",
       "    <tr>\n",
       "      <th>...</th>\n",
       "      <td>...</td>\n",
       "      <td>...</td>\n",
       "    </tr>\n",
       "    <tr>\n",
       "      <th>GTHPi</th>\n",
       "      <td>0.000000</td>\n",
       "      <td>0.000000e+00</td>\n",
       "    </tr>\n",
       "    <tr>\n",
       "      <th>GTHOr</th>\n",
       "      <td>0.000000</td>\n",
       "      <td>1.464981e-02</td>\n",
       "    </tr>\n",
       "    <tr>\n",
       "      <th>NADPHM</th>\n",
       "      <td>0.000000</td>\n",
       "      <td>1.464981e-02</td>\n",
       "    </tr>\n",
       "    <tr>\n",
       "      <th>EX_r5p_c</th>\n",
       "      <td>0.000000</td>\n",
       "      <td>1.464981e-01</td>\n",
       "    </tr>\n",
       "    <tr>\n",
       "      <th>EX_o2s_c</th>\n",
       "      <td>0.000000</td>\n",
       "      <td>0.000000e+00</td>\n",
       "    </tr>\n",
       "  </tbody>\n",
       "</table>\n",
       "<p>192 rows × 2 columns</p>\n",
       "</div>"
      ],
      "text/plain": [
       "<Solution -0.039 at 0x1d0b861c250>"
      ]
     },
     "execution_count": 74,
     "metadata": {},
     "output_type": "execute_result"
    }
   ],
   "source": [
    "dual_objective = trial.problem.Objective(\n",
    "    -trial.reactions.EX_glygn2_c.flux_expression-\n",
    "    trial.reactions.EX_glc__D_c.flux_expression,\n",
    "    direction='min')\n",
    "trial.objective = dual_objective\n",
    "solution = trial.optimize(objective_sense='maximise')\n",
    "# try adding ratios of glycogen to glucose in objective function\n",
    "# try making the flux reactons of PGI, GLUT2, \n",
    "solution"
   ]
  },
  {
   "cell_type": "code",
   "execution_count": 75,
   "metadata": {},
   "outputs": [
    {
     "name": "stdout",
     "output_type": "stream",
     "text": [
      "Read LP format model from file C:\\Users\\sicil\\AppData\\Local\\Temp\\tmpsegpkdfr.lp\n",
      "Reading time = 0.01 seconds\n",
      ": 183 rows, 384 columns, 1448 nonzeros\n",
      "Read LP format model from file C:\\Users\\sicil\\AppData\\Local\\Temp\\tmp0ogpavol.lp\n",
      "Reading time = 0.01 seconds\n",
      ": 183 rows, 384 columns, 1448 nonzeros\n"
     ]
    }
   ],
   "source": [
    "fva = flux_variability_analysis(trial, fraction_of_optimum= 0.1)\n",
    "fva = fva.T\n",
    "fva\n",
    "\n",
    "combined =trial.copy()\n",
    "data_1 = cobra.sampling.sample(combined, 5000, method = \"optgp\", processes = 5)"
   ]
  },
  {
   "cell_type": "code",
   "execution_count": 76,
   "metadata": {},
   "outputs": [],
   "source": [
    "dual_objective = trial.problem.Objective(\n",
    "    -trial.reactions.EX_glygn2_c.flux_expression+\n",
    "    trial.reactions.EX_glc__D_c.flux_expression,\n",
    "    direction='min')\n",
    "trial.objective = dual_objective\n",
    "solution = trial.optimize(objective_sense='maximise')"
   ]
  },
  {
   "cell_type": "code",
   "execution_count": 77,
   "metadata": {},
   "outputs": [
    {
     "data": {
      "text/html": [
       "<div>\n",
       "<style scoped>\n",
       "    .dataframe tbody tr th:only-of-type {\n",
       "        vertical-align: middle;\n",
       "    }\n",
       "\n",
       "    .dataframe tbody tr th {\n",
       "        vertical-align: top;\n",
       "    }\n",
       "\n",
       "    .dataframe thead th {\n",
       "        text-align: right;\n",
       "    }\n",
       "</style>\n",
       "<table border=\"1\" class=\"dataframe\">\n",
       "  <thead>\n",
       "    <tr style=\"text-align: right;\">\n",
       "      <th></th>\n",
       "      <th>CSm</th>\n",
       "      <th>ACONTm</th>\n",
       "      <th>ICDHxm</th>\n",
       "      <th>AKGDm</th>\n",
       "      <th>SUCOASm</th>\n",
       "      <th>SUCD1m</th>\n",
       "      <th>FUMm</th>\n",
       "      <th>MDHm</th>\n",
       "      <th>NADH2_u10mi</th>\n",
       "      <th>FADH2ETC</th>\n",
       "      <th>...</th>\n",
       "      <th>EX_nh4_c</th>\n",
       "      <th>EX_so3_c</th>\n",
       "      <th>EX_etoh_c</th>\n",
       "      <th>EX_glyc_3octa_c</th>\n",
       "      <th>EX_fru_c</th>\n",
       "      <th>GTHPi</th>\n",
       "      <th>GTHOr</th>\n",
       "      <th>NADPHM</th>\n",
       "      <th>EX_r5p_c</th>\n",
       "      <th>EX_o2s_c</th>\n",
       "    </tr>\n",
       "  </thead>\n",
       "  <tbody>\n",
       "    <tr>\n",
       "      <th>minimum</th>\n",
       "      <td>0.000000</td>\n",
       "      <td>0.000000</td>\n",
       "      <td>0.000000</td>\n",
       "      <td>0.000000</td>\n",
       "      <td>-0.593823</td>\n",
       "      <td>0.000000</td>\n",
       "      <td>0.00000</td>\n",
       "      <td>-0.838470</td>\n",
       "      <td>0.000000</td>\n",
       "      <td>0.000000</td>\n",
       "      <td>...</td>\n",
       "      <td>-0.090533</td>\n",
       "      <td>0.0</td>\n",
       "      <td>0.0</td>\n",
       "      <td>0.0</td>\n",
       "      <td>0.0</td>\n",
       "      <td>0.0</td>\n",
       "      <td>0.0</td>\n",
       "      <td>0.000000</td>\n",
       "      <td>0.000000</td>\n",
       "      <td>0.0</td>\n",
       "    </tr>\n",
       "    <tr>\n",
       "      <th>maximum</th>\n",
       "      <td>0.559157</td>\n",
       "      <td>0.559157</td>\n",
       "      <td>0.559157</td>\n",
       "      <td>0.593823</td>\n",
       "      <td>7.944041</td>\n",
       "      <td>0.593823</td>\n",
       "      <td>0.72695</td>\n",
       "      <td>5.220864</td>\n",
       "      <td>2.855397</td>\n",
       "      <td>0.593823</td>\n",
       "      <td>...</td>\n",
       "      <td>0.090533</td>\n",
       "      <td>0.0</td>\n",
       "      <td>0.0</td>\n",
       "      <td>0.0</td>\n",
       "      <td>0.0</td>\n",
       "      <td>0.0</td>\n",
       "      <td>0.0</td>\n",
       "      <td>3.167864</td>\n",
       "      <td>0.316786</td>\n",
       "      <td>0.0</td>\n",
       "    </tr>\n",
       "  </tbody>\n",
       "</table>\n",
       "<p>2 rows × 192 columns</p>\n",
       "</div>"
      ],
      "text/plain": [
       "              CSm    ACONTm    ICDHxm     AKGDm   SUCOASm    SUCD1m     FUMm  \\\n",
       "minimum  0.000000  0.000000  0.000000  0.000000 -0.593823  0.000000  0.00000   \n",
       "maximum  0.559157  0.559157  0.559157  0.593823  7.944041  0.593823  0.72695   \n",
       "\n",
       "             MDHm  NADH2_u10mi  FADH2ETC  ...  EX_nh4_c  EX_so3_c  EX_etoh_c  \\\n",
       "minimum -0.838470     0.000000  0.000000  ... -0.090533       0.0        0.0   \n",
       "maximum  5.220864     2.855397  0.593823  ...  0.090533       0.0        0.0   \n",
       "\n",
       "         EX_glyc_3octa_c  EX_fru_c  GTHPi  GTHOr    NADPHM  EX_r5p_c  EX_o2s_c  \n",
       "minimum              0.0       0.0    0.0    0.0  0.000000  0.000000       0.0  \n",
       "maximum              0.0       0.0    0.0    0.0  3.167864  0.316786       0.0  \n",
       "\n",
       "[2 rows x 192 columns]"
      ]
     },
     "execution_count": 77,
     "metadata": {},
     "output_type": "execute_result"
    }
   ],
   "source": [
    "fva_2 = flux_variability_analysis(trial, fraction_of_optimum= 0.1)\n",
    "fva_2 = fva_2.T\n",
    "fva_2"
   ]
  },
  {
   "cell_type": "code",
   "execution_count": 78,
   "metadata": {},
   "outputs": [
    {
     "data": {
      "text/html": [
       "\n",
       "        <table>\n",
       "            <tr>\n",
       "                <td><strong>Reaction identifier</strong></td><td>PGI</td>\n",
       "            </tr><tr>\n",
       "                <td><strong>Name</strong></td><td>Glucose-6-phosphate isomerase</td>\n",
       "            </tr><tr>\n",
       "                <td><strong>Memory address</strong></td>\n",
       "                <td>0x01d0b3e833d0</td>\n",
       "            </tr><tr>\n",
       "                <td><strong>Stoichiometry</strong></td>\n",
       "                <td>\n",
       "                    <p style='text-align:right'>g6p_c <=> f6p_c</p>\n",
       "                    <p style='text-align:right'>D-Glucose 6-phosphate <=> D-Fructose 6-phosphate</p>\n",
       "                </td>\n",
       "            </tr><tr>\n",
       "                <td><strong>GPR</strong></td><td></td>\n",
       "            </tr><tr>\n",
       "                <td><strong>Lower bound</strong></td><td>-1000.0</td>\n",
       "            </tr><tr>\n",
       "                <td><strong>Upper bound</strong></td><td>1000.0</td>\n",
       "            </tr>\n",
       "        </table>\n",
       "        "
      ],
      "text/plain": [
       "<Reaction PGI at 0x1d0b3e833d0>"
      ]
     },
     "execution_count": 78,
     "metadata": {},
     "output_type": "execute_result"
    }
   ],
   "source": [
    "trial.reactions.PGI"
   ]
  },
  {
   "cell_type": "code",
   "execution_count": 79,
   "metadata": {},
   "outputs": [
    {
     "name": "stdout",
     "output_type": "stream",
     "text": [
      "Read LP format model from file C:\\Users\\sicil\\AppData\\Local\\Temp\\tmpxox4o3oe.lp\n",
      "Reading time = 0.01 seconds\n",
      ": 183 rows, 384 columns, 1448 nonzeros\n",
      "Read LP format model from file C:\\Users\\sicil\\AppData\\Local\\Temp\\tmpuri46d_d.lp\n",
      "Reading time = 0.02 seconds\n",
      ": 183 rows, 384 columns, 1448 nonzeros\n"
     ]
    }
   ],
   "source": [
    "combined =trial.copy()\n",
    "data_2 = cobra.sampling.sample(combined, 5000, method = \"optgp\", processes = 5)\n"
   ]
  },
  {
   "cell_type": "code",
   "execution_count": null,
   "metadata": {},
   "outputs": [],
   "source": []
  },
  {
   "cell_type": "code",
   "execution_count": 80,
   "metadata": {},
   "outputs": [],
   "source": [
    "dual_objective = trial.problem.Objective(\n",
    "    +trial.reactions.EX_glygn2_c.flux_expression-\n",
    "    trial.reactions.EX_glc__D_c.flux_expression,\n",
    "    direction='max')\n",
    "trial.objective = dual_objective\n",
    "solution = trial.optimize(objective_sense='maximise')"
   ]
  },
  {
   "cell_type": "code",
   "execution_count": 81,
   "metadata": {},
   "outputs": [
    {
     "data": {
      "text/html": [
       "<div>\n",
       "<style scoped>\n",
       "    .dataframe tbody tr th:only-of-type {\n",
       "        vertical-align: middle;\n",
       "    }\n",
       "\n",
       "    .dataframe tbody tr th {\n",
       "        vertical-align: top;\n",
       "    }\n",
       "\n",
       "    .dataframe thead th {\n",
       "        text-align: right;\n",
       "    }\n",
       "</style>\n",
       "<table border=\"1\" class=\"dataframe\">\n",
       "  <thead>\n",
       "    <tr style=\"text-align: right;\">\n",
       "      <th></th>\n",
       "      <th>CSm</th>\n",
       "      <th>ACONTm</th>\n",
       "      <th>ICDHxm</th>\n",
       "      <th>AKGDm</th>\n",
       "      <th>SUCOASm</th>\n",
       "      <th>SUCD1m</th>\n",
       "      <th>FUMm</th>\n",
       "      <th>MDHm</th>\n",
       "      <th>NADH2_u10mi</th>\n",
       "      <th>FADH2ETC</th>\n",
       "      <th>...</th>\n",
       "      <th>EX_nh4_c</th>\n",
       "      <th>EX_so3_c</th>\n",
       "      <th>EX_etoh_c</th>\n",
       "      <th>EX_glyc_3octa_c</th>\n",
       "      <th>EX_fru_c</th>\n",
       "      <th>GTHPi</th>\n",
       "      <th>GTHOr</th>\n",
       "      <th>NADPHM</th>\n",
       "      <th>EX_r5p_c</th>\n",
       "      <th>EX_o2s_c</th>\n",
       "    </tr>\n",
       "  </thead>\n",
       "  <tbody>\n",
       "    <tr>\n",
       "      <th>minimum</th>\n",
       "      <td>0.000000</td>\n",
       "      <td>0.000000</td>\n",
       "      <td>0.000000</td>\n",
       "      <td>0.000000</td>\n",
       "      <td>-0.593823</td>\n",
       "      <td>0.000000</td>\n",
       "      <td>0.00000</td>\n",
       "      <td>-0.838470</td>\n",
       "      <td>0.000000</td>\n",
       "      <td>0.000000</td>\n",
       "      <td>...</td>\n",
       "      <td>-0.090533</td>\n",
       "      <td>0.0</td>\n",
       "      <td>0.0</td>\n",
       "      <td>0.0</td>\n",
       "      <td>0.0</td>\n",
       "      <td>0.0</td>\n",
       "      <td>0.0</td>\n",
       "      <td>0.000000</td>\n",
       "      <td>0.000000</td>\n",
       "      <td>0.0</td>\n",
       "    </tr>\n",
       "    <tr>\n",
       "      <th>maximum</th>\n",
       "      <td>0.559157</td>\n",
       "      <td>0.559157</td>\n",
       "      <td>0.559157</td>\n",
       "      <td>0.593823</td>\n",
       "      <td>7.944041</td>\n",
       "      <td>0.593823</td>\n",
       "      <td>0.72695</td>\n",
       "      <td>5.220864</td>\n",
       "      <td>2.855397</td>\n",
       "      <td>0.593823</td>\n",
       "      <td>...</td>\n",
       "      <td>0.090533</td>\n",
       "      <td>0.0</td>\n",
       "      <td>0.0</td>\n",
       "      <td>0.0</td>\n",
       "      <td>0.0</td>\n",
       "      <td>0.0</td>\n",
       "      <td>0.0</td>\n",
       "      <td>3.167864</td>\n",
       "      <td>0.316786</td>\n",
       "      <td>0.0</td>\n",
       "    </tr>\n",
       "  </tbody>\n",
       "</table>\n",
       "<p>2 rows × 192 columns</p>\n",
       "</div>"
      ],
      "text/plain": [
       "              CSm    ACONTm    ICDHxm     AKGDm   SUCOASm    SUCD1m     FUMm  \\\n",
       "minimum  0.000000  0.000000  0.000000  0.000000 -0.593823  0.000000  0.00000   \n",
       "maximum  0.559157  0.559157  0.559157  0.593823  7.944041  0.593823  0.72695   \n",
       "\n",
       "             MDHm  NADH2_u10mi  FADH2ETC  ...  EX_nh4_c  EX_so3_c  EX_etoh_c  \\\n",
       "minimum -0.838470     0.000000  0.000000  ... -0.090533       0.0        0.0   \n",
       "maximum  5.220864     2.855397  0.593823  ...  0.090533       0.0        0.0   \n",
       "\n",
       "         EX_glyc_3octa_c  EX_fru_c  GTHPi  GTHOr    NADPHM  EX_r5p_c  EX_o2s_c  \n",
       "minimum              0.0       0.0    0.0    0.0  0.000000  0.000000       0.0  \n",
       "maximum              0.0       0.0    0.0    0.0  3.167864  0.316786       0.0  \n",
       "\n",
       "[2 rows x 192 columns]"
      ]
     },
     "execution_count": 81,
     "metadata": {},
     "output_type": "execute_result"
    }
   ],
   "source": [
    "fva_3 = flux_variability_analysis(trial, fraction_of_optimum= 0.1)\n",
    "fva_3 = fva_3.T\n",
    "fva_3"
   ]
  },
  {
   "cell_type": "code",
   "execution_count": 82,
   "metadata": {},
   "outputs": [
    {
     "name": "stdout",
     "output_type": "stream",
     "text": [
      "Read LP format model from file C:\\Users\\sicil\\AppData\\Local\\Temp\\tmptww9e6lk.lp\n",
      "Reading time = 0.01 seconds\n",
      ": 183 rows, 384 columns, 1448 nonzeros\n",
      "Read LP format model from file C:\\Users\\sicil\\AppData\\Local\\Temp\\tmpjh2m_qdy.lp\n",
      "Reading time = 0.01 seconds\n",
      ": 183 rows, 384 columns, 1448 nonzeros\n"
     ]
    }
   ],
   "source": [
    "combined =trial.copy()\n",
    "data_3 = cobra.sampling.sample(combined, 5000, method = \"optgp\", processes = 5)\n"
   ]
  },
  {
   "cell_type": "code",
   "execution_count": 83,
   "metadata": {},
   "outputs": [
    {
     "data": {
      "text/html": [
       "\n",
       "        <table>\n",
       "            <tr>\n",
       "                <td><strong>Reaction identifier</strong></td><td>PGI</td>\n",
       "            </tr><tr>\n",
       "                <td><strong>Name</strong></td><td>Glucose-6-phosphate isomerase</td>\n",
       "            </tr><tr>\n",
       "                <td><strong>Memory address</strong></td>\n",
       "                <td>0x01d0b3e833d0</td>\n",
       "            </tr><tr>\n",
       "                <td><strong>Stoichiometry</strong></td>\n",
       "                <td>\n",
       "                    <p style='text-align:right'>g6p_c <=> f6p_c</p>\n",
       "                    <p style='text-align:right'>D-Glucose 6-phosphate <=> D-Fructose 6-phosphate</p>\n",
       "                </td>\n",
       "            </tr><tr>\n",
       "                <td><strong>GPR</strong></td><td></td>\n",
       "            </tr><tr>\n",
       "                <td><strong>Lower bound</strong></td><td>-1000.0</td>\n",
       "            </tr><tr>\n",
       "                <td><strong>Upper bound</strong></td><td>1000.0</td>\n",
       "            </tr>\n",
       "        </table>\n",
       "        "
      ],
      "text/plain": [
       "<Reaction PGI at 0x1d0b3e833d0>"
      ]
     },
     "execution_count": 83,
     "metadata": {},
     "output_type": "execute_result"
    }
   ],
   "source": [
    "trial.reactions.PGI"
   ]
  },
  {
   "cell_type": "code",
   "execution_count": 84,
   "metadata": {},
   "outputs": [],
   "source": [
    "dual_objective = trial.problem.Objective(\n",
    "    +trial.reactions.EX_glygn2_c.flux_expression+\n",
    "    trial.reactions.EX_glc__D_c.flux_expression,\n",
    "    direction='min')\n",
    "trial.objective = dual_objective\n",
    "solution = trial.optimize(objective_sense='maximise')"
   ]
  },
  {
   "cell_type": "code",
   "execution_count": 85,
   "metadata": {},
   "outputs": [
    {
     "data": {
      "text/plain": [
       "minimum   -0.037452\n",
       "maximum    0.010295\n",
       "Name: EX_glc__D_c, dtype: float64"
      ]
     },
     "execution_count": 85,
     "metadata": {},
     "output_type": "execute_result"
    }
   ],
   "source": [
    "fva_4 = flux_variability_analysis(trial, fraction_of_optimum= 0.1)\n",
    "fva_4 = fva_4.T\n",
    "fva_4.EX_glc__D_c"
   ]
  },
  {
   "cell_type": "code",
   "execution_count": 86,
   "metadata": {},
   "outputs": [
    {
     "data": {
      "text/plain": [
       "minimum   -2.372472\n",
       "maximum    0.046800\n",
       "Name: PGMT, dtype: float64"
      ]
     },
     "execution_count": 86,
     "metadata": {},
     "output_type": "execute_result"
    }
   ],
   "source": [
    "fva.PGMT"
   ]
  },
  {
   "cell_type": "code",
   "execution_count": 87,
   "metadata": {},
   "outputs": [
    {
     "data": {
      "text/html": [
       "\n",
       "        <table>\n",
       "            <tr>\n",
       "                <td><strong>Reaction identifier</strong></td><td>PGMT</td>\n",
       "            </tr><tr>\n",
       "                <td><strong>Name</strong></td><td>Phosphoglucomutase</td>\n",
       "            </tr><tr>\n",
       "                <td><strong>Memory address</strong></td>\n",
       "                <td>0x01d0b718cf70</td>\n",
       "            </tr><tr>\n",
       "                <td><strong>Stoichiometry</strong></td>\n",
       "                <td>\n",
       "                    <p style='text-align:right'>g1p_c <=> g6p_c</p>\n",
       "                    <p style='text-align:right'>D-Glucose 1-phosphate <=> D-Glucose 6-phosphate</p>\n",
       "                </td>\n",
       "            </tr><tr>\n",
       "                <td><strong>GPR</strong></td><td></td>\n",
       "            </tr><tr>\n",
       "                <td><strong>Lower bound</strong></td><td>-1000.0</td>\n",
       "            </tr><tr>\n",
       "                <td><strong>Upper bound</strong></td><td>1000.0</td>\n",
       "            </tr>\n",
       "        </table>\n",
       "        "
      ],
      "text/plain": [
       "<Reaction PGMT at 0x1d0b718cf70>"
      ]
     },
     "execution_count": 87,
     "metadata": {},
     "output_type": "execute_result"
    }
   ],
   "source": [
    "trial.reactions.PGMT"
   ]
  },
  {
   "cell_type": "code",
   "execution_count": 88,
   "metadata": {},
   "outputs": [
    {
     "name": "stdout",
     "output_type": "stream",
     "text": [
      "Read LP format model from file C:\\Users\\sicil\\AppData\\Local\\Temp\\tmpbxlkpb6z.lp\n",
      "Reading time = 0.01 seconds\n",
      ": 183 rows, 384 columns, 1448 nonzeros\n",
      "Read LP format model from file C:\\Users\\sicil\\AppData\\Local\\Temp\\tmp2u7pcf7a.lp\n",
      "Reading time = 0.01 seconds\n",
      ": 183 rows, 384 columns, 1448 nonzeros\n"
     ]
    }
   ],
   "source": [
    "combined =trial.copy()\n",
    "data_4 = cobra.sampling.sample(combined, 5000, method = \"optgp\", processes = 5)\n"
   ]
  },
  {
   "cell_type": "code",
   "execution_count": 89,
   "metadata": {},
   "outputs": [
    {
     "data": {
      "text/html": [
       "\n",
       "        <table>\n",
       "            <tr>\n",
       "                <td><strong>Reaction identifier</strong></td><td>PGI</td>\n",
       "            </tr><tr>\n",
       "                <td><strong>Name</strong></td><td>Glucose-6-phosphate isomerase</td>\n",
       "            </tr><tr>\n",
       "                <td><strong>Memory address</strong></td>\n",
       "                <td>0x01d0b3e833d0</td>\n",
       "            </tr><tr>\n",
       "                <td><strong>Stoichiometry</strong></td>\n",
       "                <td>\n",
       "                    <p style='text-align:right'>g6p_c <=> f6p_c</p>\n",
       "                    <p style='text-align:right'>D-Glucose 6-phosphate <=> D-Fructose 6-phosphate</p>\n",
       "                </td>\n",
       "            </tr><tr>\n",
       "                <td><strong>GPR</strong></td><td></td>\n",
       "            </tr><tr>\n",
       "                <td><strong>Lower bound</strong></td><td>-1000.0</td>\n",
       "            </tr><tr>\n",
       "                <td><strong>Upper bound</strong></td><td>1000.0</td>\n",
       "            </tr>\n",
       "        </table>\n",
       "        "
      ],
      "text/plain": [
       "<Reaction PGI at 0x1d0b3e833d0>"
      ]
     },
     "execution_count": 89,
     "metadata": {},
     "output_type": "execute_result"
    }
   ],
   "source": [
    "trial.reactions.PGI"
   ]
  },
  {
   "cell_type": "code",
   "execution_count": 90,
   "metadata": {},
   "outputs": [
    {
     "data": {
      "text/plain": [
       "Text(0.5, 0, 'EX_glc__D_c flux')"
      ]
     },
     "execution_count": 90,
     "metadata": {},
     "output_type": "execute_result"
    },
    {
     "data": {
      "image/png": "[encoded data removed]",
      "text/plain": [
       "<Figure size 1440x360 with 2 Axes>"
      ]
     },
     "metadata": {
      "needs_background": "light"
     },
     "output_type": "display_data"
    }
   ],
   "source": [
    "fig, axes = plt.subplots(1, 2, figsize=(20, 5), sharey=True)\n",
    "ax = axes[0]\n",
    "data_1['EX_glygn2_c'].hist(ax=ax)\n",
    "ax.set_xlabel('EX_glygn2_c flux')\n",
    "ax.set_ylabel('Number of solutions')\n",
    "\n",
    "ax = axes[1]\n",
    "ax = data_1['EX_glc__D_c'].hist(ax=ax)\n",
    "ax.set_xlabel('EX_glc__D_c flux')"
   ]
  },
  {
   "cell_type": "code",
   "execution_count": 91,
   "metadata": {},
   "outputs": [
    {
     "data": {
      "image/png": "[encoded data removed]",
      "text/plain": [
       "<Figure size 432x288 with 1 Axes>"
      ]
     },
     "metadata": {
      "needs_background": "light"
     },
     "output_type": "display_data"
    },
    {
     "data": {
      "image/png": "[encoded data removed]",
      "text/plain": [
       "<Figure size 432x288 with 1 Axes>"
      ]
     },
     "metadata": {
      "needs_background": "light"
     },
     "output_type": "display_data"
    },
    {
     "data": {
      "image/png": "[encoded data removed]",
      "text/plain": [
       "<Figure size 432x288 with 1 Axes>"
      ]
     },
     "metadata": {
      "needs_background": "light"
     },
     "output_type": "display_data"
    },
    {
     "data": {
      "image/png": "[encoded data removed]",
      "text/plain": [
       "<Figure size 432x288 with 1 Axes>"
      ]
     },
     "metadata": {
      "needs_background": "light"
     },
     "output_type": "display_data"
    },
    {
     "data": {
      "image/png": "[encoded data removed]",
      "text/plain": [
       "<Figure size 432x288 with 1 Axes>"
      ]
     },
     "metadata": {
      "needs_background": "light"
     },
     "output_type": "display_data"
    },
    {
     "data": {
      "image/png": "[encoded data removed]",
      "text/plain": [
       "<Figure size 432x288 with 1 Axes>"
      ]
     },
     "metadata": {
      "needs_background": "light"
     },
     "output_type": "display_data"
    }
   ],
   "source": [
    "list_rxn =['PGI', 'ENO', \"FBA\", \"HEX1\", \"EX_glc__D_c\", \"EX_glygn2_c\"]\n",
    "# #  GAPDH, ENO, FBA, PGI, PGMT\n",
    "for i in list_rxn:\n",
    "    plt.hist(data_1[i], \n",
    "         alpha=0.25, # the transaparency parameter\n",
    "         label='state_1')\n",
    "#     x_position = mean_flux.loc[i, \"mean\"]\n",
    "  \n",
    "    plt.hist(data_2[i], \n",
    "            alpha=0.25, # the transaparency parameter\n",
    "            label='state_2')\n",
    "    # x_position = mean_flux.loc[i, \"mean\"]\n",
    "\n",
    "    plt.hist(data_3[i], \n",
    "            alpha=0.25, # the transaparency parameter\n",
    "            label='state_3')     \n",
    "#     x_position = mean_flux.loc[i, \"mean\"]\n",
    "\n",
    "    plt.hist(data_4[i], \n",
    "            alpha=0.25, # the transaparency parameter\n",
    "            label='state_4')        \n",
    "    \n",
    "    plt.legend(loc='upper left')\n",
    "    plt.title('Overlapping histograms of '+str(i))\n",
    "    plt.show()"
   ]
  },
  {
   "cell_type": "code",
   "execution_count": 92,
   "metadata": {},
   "outputs": [],
   "source": [
    "# list_rxn =['PGMT', 'ENO', \"FBA\", \"HEX1\", \"EX_glc__D_c\", \"EX_glygn2_c\"]\n",
    "# #  GAPDH, ENO, FBA, PGI, PGMT\n",
    "# for i in list_rxn:\n",
    "#     plt.hist(data_1[i], \n",
    "#          alpha=0.25, # the transaparency parameter\n",
    "#          label='state_1')\n",
    "# #     x_position = mean_flux.loc[i, \"mean\"]\n",
    "  \n",
    "#     plt.hist(data_2[i], \n",
    "#             alpha=0.25, # the transaparency parameter\n",
    "#             label='state_2')\n",
    "#     x_position = mean_flux.loc[i, \"mean\"]\n",
    "\n",
    "#     plt.hist(data_3[i], \n",
    "#             alpha=0.25, # the transaparency parameter\n",
    "#             label='state_3')     \n",
    "#     x_position = mean_flux.loc[i, \"mean\"]\n",
    "\n",
    "#     plt.hist(data_4[i], \n",
    "#             alpha=0.25, # the transaparency parameter\n",
    "#             label='state_4')        \n",
    "    \n",
    "#     plt.legend(loc='upper right')\n",
    "#     plt.title('Overlapping histograms of '+str(i))\n",
    "#     plt.show()"
   ]
  },
  {
   "cell_type": "code",
   "execution_count": null,
   "metadata": {},
   "outputs": [],
   "source": []
  },
  {
   "cell_type": "code",
   "execution_count": null,
   "metadata": {},
   "outputs": [],
   "source": []
  },
  {
   "cell_type": "markdown",
   "metadata": {},
   "source": [
    "Model #2"
   ]
  },
  {
   "cell_type": "code",
   "execution_count": 93,
   "metadata": {},
   "outputs": [],
   "source": [
    "dual_objective = trial.problem.Objective(\n",
    "    +trial.reactions.EX_glygn2_c.flux_expression-\n",
    "    trial.reactions.EX_glc__D_c.flux_expression,\n",
    "    direction='min')\n",
    "trial.objective = dual_objective\n",
    "solution = trial.optimize(objective_sense='maximise')"
   ]
  },
  {
   "cell_type": "code",
   "execution_count": 94,
   "metadata": {},
   "outputs": [
    {
     "data": {
      "text/html": [
       "<div>\n",
       "<style scoped>\n",
       "    .dataframe tbody tr th:only-of-type {\n",
       "        vertical-align: middle;\n",
       "    }\n",
       "\n",
       "    .dataframe tbody tr th {\n",
       "        vertical-align: top;\n",
       "    }\n",
       "\n",
       "    .dataframe thead th {\n",
       "        text-align: right;\n",
       "    }\n",
       "</style>\n",
       "<table border=\"1\" class=\"dataframe\">\n",
       "  <thead>\n",
       "    <tr style=\"text-align: right;\">\n",
       "      <th></th>\n",
       "      <th>CSm</th>\n",
       "      <th>ACONTm</th>\n",
       "      <th>ICDHxm</th>\n",
       "      <th>AKGDm</th>\n",
       "      <th>SUCOASm</th>\n",
       "      <th>SUCD1m</th>\n",
       "      <th>FUMm</th>\n",
       "      <th>MDHm</th>\n",
       "      <th>NADH2_u10mi</th>\n",
       "      <th>FADH2ETC</th>\n",
       "      <th>...</th>\n",
       "      <th>EX_nh4_c</th>\n",
       "      <th>EX_so3_c</th>\n",
       "      <th>EX_etoh_c</th>\n",
       "      <th>EX_glyc_3octa_c</th>\n",
       "      <th>EX_fru_c</th>\n",
       "      <th>GTHPi</th>\n",
       "      <th>GTHOr</th>\n",
       "      <th>NADPHM</th>\n",
       "      <th>EX_r5p_c</th>\n",
       "      <th>EX_o2s_c</th>\n",
       "    </tr>\n",
       "  </thead>\n",
       "  <tbody>\n",
       "    <tr>\n",
       "      <th>minimum</th>\n",
       "      <td>0.000000</td>\n",
       "      <td>0.000000</td>\n",
       "      <td>0.000000</td>\n",
       "      <td>0.00000</td>\n",
       "      <td>-0.539510</td>\n",
       "      <td>0.00000</td>\n",
       "      <td>0.000000</td>\n",
       "      <td>-0.766052</td>\n",
       "      <td>0.000000</td>\n",
       "      <td>0.00000</td>\n",
       "      <td>...</td>\n",
       "      <td>-0.090533</td>\n",
       "      <td>0.0</td>\n",
       "      <td>0.0</td>\n",
       "      <td>0.0</td>\n",
       "      <td>0.0</td>\n",
       "      <td>0.0</td>\n",
       "      <td>0.0</td>\n",
       "      <td>0.000000</td>\n",
       "      <td>0.000000</td>\n",
       "      <td>0.0</td>\n",
       "    </tr>\n",
       "    <tr>\n",
       "      <th>maximum</th>\n",
       "      <td>0.504843</td>\n",
       "      <td>0.504843</td>\n",
       "      <td>0.504843</td>\n",
       "      <td>0.53951</td>\n",
       "      <td>7.183649</td>\n",
       "      <td>0.53951</td>\n",
       "      <td>0.672636</td>\n",
       "      <td>4.701866</td>\n",
       "      <td>2.583828</td>\n",
       "      <td>0.53951</td>\n",
       "      <td>...</td>\n",
       "      <td>0.090533</td>\n",
       "      <td>0.0</td>\n",
       "      <td>0.0</td>\n",
       "      <td>0.0</td>\n",
       "      <td>0.0</td>\n",
       "      <td>0.0</td>\n",
       "      <td>0.0</td>\n",
       "      <td>2.853142</td>\n",
       "      <td>0.285314</td>\n",
       "      <td>0.0</td>\n",
       "    </tr>\n",
       "  </tbody>\n",
       "</table>\n",
       "<p>2 rows × 192 columns</p>\n",
       "</div>"
      ],
      "text/plain": [
       "              CSm    ACONTm    ICDHxm    AKGDm   SUCOASm   SUCD1m      FUMm  \\\n",
       "minimum  0.000000  0.000000  0.000000  0.00000 -0.539510  0.00000  0.000000   \n",
       "maximum  0.504843  0.504843  0.504843  0.53951  7.183649  0.53951  0.672636   \n",
       "\n",
       "             MDHm  NADH2_u10mi  FADH2ETC  ...  EX_nh4_c  EX_so3_c  EX_etoh_c  \\\n",
       "minimum -0.766052     0.000000   0.00000  ... -0.090533       0.0        0.0   \n",
       "maximum  4.701866     2.583828   0.53951  ...  0.090533       0.0        0.0   \n",
       "\n",
       "         EX_glyc_3octa_c  EX_fru_c  GTHPi  GTHOr    NADPHM  EX_r5p_c  EX_o2s_c  \n",
       "minimum              0.0       0.0    0.0    0.0  0.000000  0.000000       0.0  \n",
       "maximum              0.0       0.0    0.0    0.0  2.853142  0.285314       0.0  \n",
       "\n",
       "[2 rows x 192 columns]"
      ]
     },
     "execution_count": 94,
     "metadata": {},
     "output_type": "execute_result"
    }
   ],
   "source": [
    "fva_2 = flux_variability_analysis(trial, fraction_of_optimum= 0.1)\n",
    "fva_2 = fva_2.T\n",
    "fva_2"
   ]
  },
  {
   "cell_type": "code",
   "execution_count": 95,
   "metadata": {},
   "outputs": [
    {
     "name": "stdout",
     "output_type": "stream",
     "text": [
      "Read LP format model from file C:\\Users\\sicil\\AppData\\Local\\Temp\\tmp7do780xa.lp\n",
      "Reading time = 0.01 seconds\n",
      ": 183 rows, 384 columns, 1448 nonzeros\n",
      "Read LP format model from file C:\\Users\\sicil\\AppData\\Local\\Temp\\tmpsgnzke3q.lp\n",
      "Reading time = 0.01 seconds\n",
      ": 183 rows, 384 columns, 1448 nonzeros\n"
     ]
    },
    {
     "data": {
      "text/plain": [
       "Text(0.5, 0, 'EX_glc__D_c flux')"
      ]
     },
     "execution_count": 95,
     "metadata": {},
     "output_type": "execute_result"
    },
    {
     "data": {
      "image/png": "[encoded data removed]",
      "text/plain": [
       "<Figure size 720x360 with 2 Axes>"
      ]
     },
     "metadata": {
      "needs_background": "light"
     },
     "output_type": "display_data"
    }
   ],
   "source": [
    "combined =trial.copy()\n",
    "df = cobra.sampling.sample(combined, 5000, method = \"optgp\", processes = 5)\n",
    "\n",
    "fig, axes = plt.subplots(1, 2, figsize=(10, 5), sharey=True)\n",
    "ax = axes[0]\n",
    "df['EX_glygn2_c'].hist(ax=ax)\n",
    "ax.set_xlabel('EX_glygn2_c flux')\n",
    "ax.set_ylabel('Number of solutions')\n",
    "\n",
    "ax = axes[1]\n",
    "ax = df['EX_glc__D_c'].hist(ax=ax)\n",
    "ax.set_xlabel('EX_glc__D_c flux')"
   ]
  },
  {
   "cell_type": "code",
   "execution_count": 96,
   "metadata": {},
   "outputs": [
    {
     "data": {
      "text/plain": [
       "Text(0.5, 0, 'FBA flux')"
      ]
     },
     "execution_count": 96,
     "metadata": {},
     "output_type": "execute_result"
    },
    {
     "data": {
      "image/png": "[encoded data removed]",
      "text/plain": [
       "<Figure size 720x360 with 2 Axes>"
      ]
     },
     "metadata": {
      "needs_background": "light"
     },
     "output_type": "display_data"
    }
   ],
   "source": [
    "fig, axes = plt.subplots(1, 2, figsize=(10, 5), sharey=True)\n",
    "ax = axes[0]\n",
    "df['PGI'].hist(ax=ax)\n",
    "ax.set_xlabel('PGI flux')\n",
    "ax.set_ylabel('Number of solutions')\n",
    "\n",
    "ax = axes[1]\n",
    "ax = df['FBA'].hist(ax=ax)\n",
    "ax.set_xlabel('FBA flux')"
   ]
  },
  {
   "cell_type": "code",
   "execution_count": null,
   "metadata": {},
   "outputs": [],
   "source": []
  },
  {
   "cell_type": "code",
   "execution_count": null,
   "metadata": {},
   "outputs": [],
   "source": []
  },
  {
   "cell_type": "code",
   "execution_count": null,
   "metadata": {},
   "outputs": [],
   "source": []
  },
  {
   "cell_type": "code",
   "execution_count": 97,
   "metadata": {},
   "outputs": [],
   "source": [
    "# plt.hist(fva.loc[\"EX_glc__D_c\"], \n",
    "#          alpha=0.25, # the transaparency parameter\n",
    "#          label='state_1')"
   ]
  },
  {
   "cell_type": "code",
   "execution_count": 98,
   "metadata": {},
   "outputs": [],
   "source": [
    "def plot_fva(atpm_values, max_pfk_values, max_fbp_values, min_pfk_values, min_fbp_values):\n",
    "    \"\"\"\n",
    "    Parameters\n",
    "    ----------\n",
    "    atpm_values : list\n",
    "        list of ATPM flux values from 0 to max\n",
    "        \n",
    "    max_g6pdh_values : list\n",
    "        list of maximum G6PDH2r flux values at the ATPM fluxes in atpm_values\n",
    "    max_pgi_values : list\n",
    "        list of maximum PGI flux values at the ATPM fluxes in atpm_values\n",
    "\n",
    "    min_g6pdh_values : list \n",
    "        list of minimum G6PDH2r flux values at the ATPM fluxes in atpm_values\n",
    "\n",
    "    min_pgi_values : list\n",
    "        list of minimum PGI flux values at the ATPM fluxes in atpm_values\n",
    "\n",
    "    \"\"\"\n",
    "    plt.fill_between(atpm_values, max_pfk_values, min_pfk_values, \n",
    "                     label='Glcyogen', alpha=.7)\n",
    "    plt.fill_between(atpm_values, max_fbp_values, min_fbp_values, \n",
    "                     label='Glucose', alpha=.7)\n",
    "    plt.legend()\n",
    "    plt.xlabel('Glucose and Glycogen flux')\n",
    "    plt.ylabel('Range of possible fluxes')"
   ]
  },
  {
   "cell_type": "code",
   "execution_count": 99,
   "metadata": {},
   "outputs": [
    {
     "name": "stdout",
     "output_type": "stream",
     "text": [
      "Minimize\n",
      "-1.0*EX_glc__D_c + 1.0*EX_glc__D_c_reverse_5a3d5 + 1.0*EX_glygn2_c - 1.0*EX_glygn2_c_reverse_c774a\n"
     ]
    }
   ],
   "source": [
    "trial.optimize()\n",
    "print(trial.objective)"
   ]
  },
  {
   "cell_type": "code",
   "execution_count": 100,
   "metadata": {},
   "outputs": [
    {
     "ename": "ValueError",
     "evalue": "The lower bound must be less than or equal to the upper bound (0 <= -0.0041613).",
     "output_type": "error",
     "traceback": [
      "\u001b[1;31m---------------------------------------------------------------------------\u001b[0m",
      "\u001b[1;31mValueError\u001b[0m                                Traceback (most recent call last)",
      "\u001b[1;32m~\\AppData\\Local\\Temp\\ipykernel_14592\\383333656.py\u001b[0m in \u001b[0;36m<module>\u001b[1;34m\u001b[0m\n\u001b[0;32m     10\u001b[0m \u001b[0mupper_2\u001b[0m \u001b[1;33m=\u001b[0m \u001b[1;33m[\u001b[0m\u001b[1;33m]\u001b[0m\u001b[1;33m\u001b[0m\u001b[1;33m\u001b[0m\u001b[0m\n\u001b[0;32m     11\u001b[0m \u001b[1;32mfor\u001b[0m \u001b[0mbound\u001b[0m \u001b[1;32min\u001b[0m \u001b[0mbounds\u001b[0m\u001b[1;33m:\u001b[0m\u001b[1;33m\u001b[0m\u001b[1;33m\u001b[0m\u001b[0m\n\u001b[1;32m---> 12\u001b[1;33m     \u001b[0mtrial\u001b[0m\u001b[1;33m.\u001b[0m\u001b[0mreactions\u001b[0m\u001b[1;33m.\u001b[0m\u001b[0mget_by_id\u001b[0m\u001b[1;33m(\u001b[0m\u001b[0mrxn\u001b[0m\u001b[1;33m)\u001b[0m\u001b[1;33m.\u001b[0m\u001b[0mupper_bound\u001b[0m \u001b[1;33m=\u001b[0m \u001b[0mbound\u001b[0m\u001b[1;33m\u001b[0m\u001b[1;33m\u001b[0m\u001b[0m\n\u001b[0m\u001b[0;32m     13\u001b[0m     \u001b[0mtrial\u001b[0m\u001b[1;33m.\u001b[0m\u001b[0mreactions\u001b[0m\u001b[1;33m.\u001b[0m\u001b[0mget_by_id\u001b[0m\u001b[1;33m(\u001b[0m\u001b[0mrxn\u001b[0m\u001b[1;33m)\u001b[0m\u001b[1;33m.\u001b[0m\u001b[0mlower_bound\u001b[0m \u001b[1;33m=\u001b[0m \u001b[0mbound\u001b[0m\u001b[1;33m\u001b[0m\u001b[1;33m\u001b[0m\u001b[0m\n\u001b[0;32m     14\u001b[0m \u001b[1;33m\u001b[0m\u001b[0m\n",
      "\u001b[1;32mc:\\Users\\sicil\\miniconda3\\envs\\massliver\\lib\\site-packages\\cobra\\util\\context.py\u001b[0m in \u001b[0;36mwrapper\u001b[1;34m(self, new_value)\u001b[0m\n\u001b[0;32m    109\u001b[0m             \u001b[0mcontext\u001b[0m\u001b[1;33m(\u001b[0m\u001b[0mpartial\u001b[0m\u001b[1;33m(\u001b[0m\u001b[0mfunc\u001b[0m\u001b[1;33m,\u001b[0m \u001b[0mself\u001b[0m\u001b[1;33m,\u001b[0m \u001b[0mold_value\u001b[0m\u001b[1;33m)\u001b[0m\u001b[1;33m)\u001b[0m\u001b[1;33m\u001b[0m\u001b[1;33m\u001b[0m\u001b[0m\n\u001b[0;32m    110\u001b[0m \u001b[1;33m\u001b[0m\u001b[0m\n\u001b[1;32m--> 111\u001b[1;33m         \u001b[0mfunc\u001b[0m\u001b[1;33m(\u001b[0m\u001b[0mself\u001b[0m\u001b[1;33m,\u001b[0m \u001b[0mnew_value\u001b[0m\u001b[1;33m)\u001b[0m\u001b[1;33m\u001b[0m\u001b[1;33m\u001b[0m\u001b[0m\n\u001b[0m\u001b[0;32m    112\u001b[0m \u001b[1;33m\u001b[0m\u001b[0m\n\u001b[0;32m    113\u001b[0m     \u001b[1;32mreturn\u001b[0m \u001b[0mwrapper\u001b[0m\u001b[1;33m\u001b[0m\u001b[1;33m\u001b[0m\u001b[0m\n",
      "\u001b[1;32mc:\\Users\\sicil\\miniconda3\\envs\\massliver\\lib\\site-packages\\cobra\\core\\reaction.py\u001b[0m in \u001b[0;36mupper_bound\u001b[1;34m(self, value)\u001b[0m\n\u001b[0;32m    263\u001b[0m     \u001b[1;32mdef\u001b[0m \u001b[0mupper_bound\u001b[0m\u001b[1;33m(\u001b[0m\u001b[0mself\u001b[0m\u001b[1;33m,\u001b[0m \u001b[0mvalue\u001b[0m\u001b[1;33m)\u001b[0m\u001b[1;33m:\u001b[0m\u001b[1;33m\u001b[0m\u001b[1;33m\u001b[0m\u001b[0m\n\u001b[0;32m    264\u001b[0m         \u001b[1;31m# Validate bounds before setting them.\u001b[0m\u001b[1;33m\u001b[0m\u001b[1;33m\u001b[0m\u001b[1;33m\u001b[0m\u001b[0m\n\u001b[1;32m--> 265\u001b[1;33m         \u001b[0mself\u001b[0m\u001b[1;33m.\u001b[0m\u001b[0m_check_bounds\u001b[0m\u001b[1;33m(\u001b[0m\u001b[0mself\u001b[0m\u001b[1;33m.\u001b[0m\u001b[0m_lower_bound\u001b[0m\u001b[1;33m,\u001b[0m \u001b[0mvalue\u001b[0m\u001b[1;33m)\u001b[0m\u001b[1;33m\u001b[0m\u001b[1;33m\u001b[0m\u001b[0m\n\u001b[0m\u001b[0;32m    266\u001b[0m         \u001b[0mself\u001b[0m\u001b[1;33m.\u001b[0m\u001b[0m_upper_bound\u001b[0m \u001b[1;33m=\u001b[0m \u001b[0mvalue\u001b[0m\u001b[1;33m\u001b[0m\u001b[1;33m\u001b[0m\u001b[0m\n\u001b[0;32m    267\u001b[0m         \u001b[0mself\u001b[0m\u001b[1;33m.\u001b[0m\u001b[0mupdate_variable_bounds\u001b[0m\u001b[1;33m(\u001b[0m\u001b[1;33m)\u001b[0m\u001b[1;33m\u001b[0m\u001b[1;33m\u001b[0m\u001b[0m\n",
      "\u001b[1;32mc:\\Users\\sicil\\miniconda3\\envs\\massliver\\lib\\site-packages\\cobra\\core\\reaction.py\u001b[0m in \u001b[0;36m_check_bounds\u001b[1;34m(lb, ub)\u001b[0m\n\u001b[0;32m    194\u001b[0m     \u001b[1;32mdef\u001b[0m \u001b[0m_check_bounds\u001b[0m\u001b[1;33m(\u001b[0m\u001b[0mlb\u001b[0m\u001b[1;33m,\u001b[0m \u001b[0mub\u001b[0m\u001b[1;33m)\u001b[0m\u001b[1;33m:\u001b[0m\u001b[1;33m\u001b[0m\u001b[1;33m\u001b[0m\u001b[0m\n\u001b[0;32m    195\u001b[0m         \u001b[1;32mif\u001b[0m \u001b[0mlb\u001b[0m \u001b[1;33m>\u001b[0m \u001b[0mub\u001b[0m\u001b[1;33m:\u001b[0m\u001b[1;33m\u001b[0m\u001b[1;33m\u001b[0m\u001b[0m\n\u001b[1;32m--> 196\u001b[1;33m             raise ValueError(\n\u001b[0m\u001b[0;32m    197\u001b[0m                 \u001b[1;34m\"The lower bound must be less than or equal to the upper \"\u001b[0m\u001b[1;33m\u001b[0m\u001b[1;33m\u001b[0m\u001b[0m\n\u001b[0;32m    198\u001b[0m                 \u001b[1;34m\"bound ({} <= {}).\"\u001b[0m\u001b[1;33m.\u001b[0m\u001b[0mformat\u001b[0m\u001b[1;33m(\u001b[0m\u001b[0mlb\u001b[0m\u001b[1;33m,\u001b[0m \u001b[0mub\u001b[0m\u001b[1;33m)\u001b[0m\u001b[1;33m\u001b[0m\u001b[1;33m\u001b[0m\u001b[0m\n",
      "\u001b[1;31mValueError\u001b[0m: The lower bound must be less than or equal to the upper bound (0 <= -0.0041613)."
     ]
    }
   ],
   "source": [
    "var_rxn = 'PGMT'\n",
    "var_rxn_2 = 'PGI'\n",
    "rxn = 'EX_glc__D_c'\n",
    "trial.objective = rxn\n",
    "obj = trial.optimize().objective_value\n",
    "bounds = np.linspace(0, obj, 10)\n",
    "lower = []\n",
    "upper = []\n",
    "lower_2 = []\n",
    "upper_2 = []\n",
    "for bound in bounds:\n",
    "    trial.reactions.get_by_id(rxn).upper_bound = bound\n",
    "    trial.reactions.get_by_id(rxn).lower_bound = bound\n",
    "\n",
    "\n",
    "    trial.objective = var_rxn\n",
    "    lower.append(trial.optimize('minimize').objective_value)\n",
    "    upper.append(trial.optimize().objective_value)\n",
    "    trial.objective = var_rxn_2\n",
    "    upper_2.append(trial.optimize('minimize').objective_value)\n",
    "    lower_2.append(trial.optimize().objective_value)\n",
    "    \n",
    "    trial.reactions.get_by_id(rxn).lower_bound = 0\n",
    "\n",
    "\n",
    "plot_fva(bounds, upper, upper_2, lower, lower_2)"
   ]
  },
  {
   "cell_type": "code",
   "execution_count": null,
   "metadata": {},
   "outputs": [
    {
     "name": "stdout",
     "output_type": "stream",
     "text": [
      "Read LP format model from file C:\\Users\\sicil\\AppData\\Local\\Temp\\tmpbv4p0yfr.lp\n",
      "Reading time = 0.01 seconds\n",
      ": 183 rows, 384 columns, 1448 nonzeros\n"
     ]
    },
    {
     "data": {
      "image/png": "[encoded data removed]",
      "text/plain": [
       "<Figure size 432x288 with 1 Axes>"
      ]
     },
     "metadata": {
      "needs_background": "light"
     },
     "output_type": "display_data"
    }
   ],
   "source": [
    "combined = trial.copy()\n",
    "rxn = 'ATPM'\n",
    "var_rxn = 'PFK'\n",
    "var_rxn_2 = 'FBP'\n",
    "combined.objective = rxn\n",
    "obj = combined.optimize().objective_value\n",
    "bounds = np.linspace(0, obj, 10)\n",
    "lower = []\n",
    "upper = []\n",
    "lower_2 = []\n",
    "upper_2 = []\n",
    "for bound in bounds:\n",
    "    combined.reactions.get_by_id(rxn).upper_bound = bound\n",
    "    combined.reactions.get_by_id(rxn).lower_bound = bound\n",
    "\n",
    "\n",
    "    combined.objective = var_rxn\n",
    "    lower.append(combined.optimize('minimize').objective_value)\n",
    "    upper.append(combined.optimize().objective_value)\n",
    "    combined.objective = var_rxn_2\n",
    "    upper_2.append(combined.optimize('minimize').objective_value)\n",
    "    lower_2.append(combined.optimize().objective_value)\n",
    "    \n",
    "    combined.reactions.get_by_id(rxn).lower_bound = 0\n",
    "\n",
    "\n",
    "plot_fva(bounds, upper, upper_2, lower, lower_2)"
   ]
  },
  {
   "cell_type": "code",
   "execution_count": null,
   "metadata": {},
   "outputs": [],
   "source": [
    "combined = trial.copy()\n",
    "rxn = \"EX_glc__D\"\n",
    "var_rxn = 'PFK'\n",
    "var_rxn_2 = 'FBP'\n",
    "combined.objective = rxn\n",
    "obj = combined.optimize().objective_value\n",
    "print(obj)\n",
    "bounds = np.linspace(0, obj, 10)\n",
    "lower = []\n",
    "upper = []\n",
    "lower_2 = []\n",
    "upper_2 = []\n",
    "for bound in bounds:\n",
    "    combined.reactions.get_by_id(rxn).upper_bound = bound\n",
    "    combined.reactions.get_by_id(rxn).lower_bound = bound\n",
    "\n",
    "\n",
    "    combined.objective = var_rxn\n",
    "    lower.append(combined.optimize('minimize').objective_value)\n",
    "    upper.append(combined.optimize().objective_value)\n",
    "    combined.objective = var_rxn_2\n",
    "    upper_2.append(combined.optimize('minimize').objective_value)\n",
    "    lower_2.append(combined.optimize().objective_value)\n",
    "    \n",
    "    combined.reactions.get_by_id(rxn).lower_bound = 0\n",
    "\n",
    "\n",
    "plot_fva(bounds, upper, upper_2, lower, lower_2)"
   ]
  },
  {
   "cell_type": "code",
   "execution_count": null,
   "metadata": {},
   "outputs": [],
   "source": [
    "combined = trial.copy()\n",
    "rxn = \"ATPM\"\n",
    "var_rxn = 'HEX1'\n",
    "var_rxn_2 = 'G6PP'\n",
    "combined.objective = rxn\n",
    "obj = combined.optimize().objective_value\n",
    "print(obj)\n",
    "bounds = np.linspace(0, obj, 10)\n",
    "lower = []\n",
    "upper = []\n",
    "lower_2 = []\n",
    "upper_2 = []\n",
    "for bound in bounds:\n",
    "    combined.reactions.get_by_id(rxn).upper_bound = bound\n",
    "    combined.reactions.get_by_id(rxn).lower_bound = bound\n",
    "\n",
    "\n",
    "    combined.objective = var_rxn\n",
    "    lower.append(combined.optimize('minimize').objective_value)\n",
    "    upper.append(combined.optimize().objective_value)\n",
    "    combined.objective = var_rxn_2\n",
    "    upper_2.append(combined.optimize('minimize').objective_value)\n",
    "    lower_2.append(combined.optimize().objective_value)\n",
    "    \n",
    "    combined.reactions.get_by_id(rxn).lower_bound = 0\n",
    "\n",
    "\n",
    "plot_fva(bounds, upper, upper_2, lower, lower_2)"
   ]
  },
  {
   "cell_type": "code",
   "execution_count": null,
   "metadata": {},
   "outputs": [],
   "source": []
  },
  {
   "cell_type": "code",
   "execution_count": null,
   "metadata": {},
   "outputs": [],
   "source": [
    "# dual_objective = trial.problem.Objective(\n",
    "#     -trial.reactions.EX_glc__D_c.flux_expression-\n",
    "#     trial.reactions.EX_glygn2_c.flux_expression,\n",
    "#     direction='min')\n",
    "# cobra.util.solver.fix_objective_as_constraint(trial)\n",
    "# trial.objective = dual_objective\n",
    "\n",
    "# flux_solution = trial.optimize(objective_sense='minimise')\n",
    "# data_1 = cobra.sampling.sample(trial, 5000, method = \"optgp\", processes = 4)"
   ]
  },
  {
   "cell_type": "code",
   "execution_count": null,
   "metadata": {},
   "outputs": [],
   "source": [
    "# dual_objective = trial.problem.Objective(\n",
    "#     -trial.reactions.EX_glc__D_c.flux_expression-\n",
    "#     trial.reactions.EX_glygn2_c.flux_expression,\n",
    "#     direction='max')\n",
    "# trial.objective = dual_objective\n",
    "# cobra.util.solver.fix_objective_as_constraint(trial)\n",
    "# flux_solution = trial.optimize(objective_sense='minimise')\n",
    "# data_2 = cobra.sampling.sample(trial, 5000, method = \"optgp\", processes = 4)"
   ]
  },
  {
   "cell_type": "code",
   "execution_count": null,
   "metadata": {},
   "outputs": [],
   "source": [
    "# dual_objective = trial.problem.Objective(\n",
    "#     +trial.reactions.EX_glc__D_c.flux_expression-\n",
    "#     trial.reactions.EX_glygn2_c.flux_expression,\n",
    "#     direction='min')\n",
    "# trial.objective = dual_objective\n",
    "# cobra.util.solver.fix_objective_as_constraint(trial)\n",
    "# flux_solution = trial.optimize(objective_sense='minimise')\n",
    "# data_3 = cobra.sampling.sample(trial, 5000, method = \"optgp\", processes = 4)"
   ]
  },
  {
   "cell_type": "code",
   "execution_count": null,
   "metadata": {},
   "outputs": [],
   "source": [
    "# dual_objective = trial.problem.Objective(\n",
    "#     +trial.reactions.EX_glc__D_c.flux_expression-\n",
    "#     trial.reactions.EX_glygn2_c.flux_expression,\n",
    "#     direction='max')\n",
    "# trial.objective = dual_objective\n",
    "# cobra.util.solver.fix_objective_as_constraint(trial)\n",
    "# flux_solution = trial.optimize(objective_sense='minimise')\n",
    "# data_4 = cobra.sampling.sample(trial, 5000, method = \"optgp\", processes = 4)"
   ]
  },
  {
   "cell_type": "code",
   "execution_count": null,
   "metadata": {},
   "outputs": [],
   "source": [
    "# mean_flux_1 = pd.DataFrame( columns =[\"reaction\",\"mean\", \"stdev\"])\n",
    "# # means =[]\n",
    "# # std=[]\n",
    "# for i in data_1.columns:\n",
    "#     mean = data_1[i].mean()\n",
    "#     # print(index)\n",
    "#     # means.append(index)\n",
    "#     std = data_1[i].std()\n",
    "#     mean_flux_1.loc[len(mean_flux_1.index)] = [i, mean, std]\n",
    "# # mean_flux[\"Mean_gluco\"] = means\n",
    "# # mean_flux[\"ST_dev_gluco\"] = std\n",
    "# mean_flux = mean_flux_1.set_index(\"reaction\")\n",
    "# mean_flux"
   ]
  },
  {
   "cell_type": "code",
   "execution_count": null,
   "metadata": {},
   "outputs": [],
   "source": [
    "# # importing libraries\n",
    "# import matplotlib.pyplot as plt\n",
    "# import seaborn as sns"
   ]
  },
  {
   "cell_type": "code",
   "execution_count": null,
   "metadata": {},
   "outputs": [],
   "source": [
    "# plt.hist(data_1['PFK'], \n",
    "#          alpha=0.25, # the transaparency parameter\n",
    "#          label='state_1_PFK')\n",
    "# # plt.axvline(x_position)\n",
    "  \n",
    "# plt.hist(data_2['PFK'], \n",
    "#          alpha=0.25, # the transaparency parameter\n",
    "#          label='state_2_PFK')\n",
    "\n",
    "# plt.hist(data_3['PFK'], \n",
    "#          alpha=0.25, # the transaparency parameter\n",
    "#          label='state_3_PFK')        \n",
    "\n",
    "# plt.hist(data_4['PFK'], \n",
    "#          alpha=0.25, # the transaparency parameter\n",
    "#          label='state_4_PFK')        \n",
    "  \n",
    "# plt.legend(loc='upper right')\n",
    "# plt.title('Overlapping with both alpha=0.5')\n",
    "# plt.show()"
   ]
  },
  {
   "cell_type": "code",
   "execution_count": null,
   "metadata": {},
   "outputs": [],
   "source": [
    "# list_rxn =['PGMT', 'ENO', \"FBA\", \"HEX1\", \"EX_glc__D_c\", \"EX_glygn2_c\"]\n",
    "# #  GAPDH, ENO, FBA, PGI, PGMT\n",
    "# for i in list_rxn:\n",
    "#     plt.hist(data_1[i], \n",
    "#          alpha=0.25, # the transaparency parameter\n",
    "#          label='state_1')\n",
    "# #     x_position = mean_flux.loc[i, \"mean\"]\n",
    "  \n",
    "#     plt.hist(data_2[i], \n",
    "#             alpha=0.25, # the transaparency parameter\n",
    "#             label='state_2')\n",
    "#     x_position = mean_flux.loc[i, \"mean\"]\n",
    "\n",
    "#     plt.hist(data_3[i], \n",
    "#             alpha=0.25, # the transaparency parameter\n",
    "#             label='state_3')     \n",
    "#     x_position = mean_flux.loc[i, \"mean\"]\n",
    "\n",
    "#     plt.hist(data_4[i], \n",
    "#             alpha=0.25, # the transaparency parameter\n",
    "#             label='state_4')        \n",
    "    \n",
    "#     plt.legend(loc='upper right')\n",
    "#     plt.title('Overlapping histograms of '+str(i))\n",
    "#     plt.show()"
   ]
  },
  {
   "cell_type": "code",
   "execution_count": null,
   "metadata": {},
   "outputs": [],
   "source": [
    "from copy import deepcopy"
   ]
  },
  {
   "cell_type": "code",
   "execution_count": null,
   "metadata": {},
   "outputs": [],
   "source": [
    "combined_1 =trial.copy()\n",
    "dual_objective = combined_1.problem.Objective(\n",
    "    -combined_1.reactions.EX_glc__D_c.flux_expression-\n",
    "    combined_1.reactions.EX_glygn2_c.flux_expression,\n",
    "    # direction='min'\n",
    "    )\n",
    "\n",
    "combined_1.objective = dual_objective\n",
    "flux_solution = trial.optimize(objective_sense='minimise')\n",
    "# combined.solver.update()\n",
    "\n",
    "cobra.util.solver.fix_objective_as_constraint(combined_1)\n",
    "# constraint = combined.problem.Constraint(-\n",
    "#     trial.reactions.EX_glc__D_c.flux_expression \n",
    "#     # - trial.reactions.EX_glygn2_c.flux_expression,\n",
    "#     lb=-20,\n",
    "#     ub=20)\n",
    "# combined.add_cons_vars(constraint)\n",
    "# # combined.solver.update()\n",
    "\n",
    "# for i in combined_1.constraints:\n",
    "#     print(i)"
   ]
  },
  {
   "cell_type": "code",
   "execution_count": null,
   "metadata": {},
   "outputs": [],
   "source": [
    "combined_1 =trial.copy()\n",
    "dual_objective = combined_1.problem.Objective(\n",
    "    -combined_1.reactions.EX_glc__D_c.flux_expression-\n",
    "    combined_1.reactions.EX_glygn2_c.flux_expression,\n",
    "    # direction='min'\n",
    "    )\n",
    "\n",
    "combined_1.objective = dual_objective\n",
    "flux_solution = trial.optimize(objective_sense='minimise')\n",
    "# combined.solver.update()\n",
    "\n",
    "cobra.util.solver.fix_objective_as_constraint(combined_1)\n",
    "# constraint = combined.problem.Constraint(-\n",
    "#     trial.reactions.EX_glc__D_c.flux_expression \n",
    "#     # - trial.reactions.EX_glygn2_c.flux_expression,\n",
    "#     lb=-20,\n",
    "#     ub=20)\n",
    "# combined.add_cons_vars(constraint)\n",
    "# # combined.solver.update()\n",
    "\n",
    "# for i in combined_1.constraints:\n",
    "#     print(i)"
   ]
  },
  {
   "cell_type": "code",
   "execution_count": null,
   "metadata": {},
   "outputs": [],
   "source": [
    "data_1 = pd.DataFrame(cobra.sampling.sample(combined_1, 5000, method = \"optgp\", processes = 4))\n",
    "data_1.head(20)"
   ]
  },
  {
   "cell_type": "code",
   "execution_count": null,
   "metadata": {},
   "outputs": [],
   "source": [
    "data_2.head(20)\n",
    "data_2.EX_glc__D_c"
   ]
  },
  {
   "cell_type": "code",
   "execution_count": null,
   "metadata": {},
   "outputs": [],
   "source": [
    "combined_2 =trial.copy()\n",
    "dual_objective = combined_2.problem.Objective(\n",
    "    -combined_2.reactions.EX_glc__D_c.flux_expression+\n",
    "    combined_2.reactions.EX_glygn2_c.flux_expression,\n",
    "    # direction='max'\n",
    "    )\n",
    "combined_2.objective = dual_objective\n",
    "flux_solution = trial.optimize(objective_sense='minimise')\n",
    "cobra.util.solver.fix_objective_as_constraint(combined_2)\n",
    "# flux_solution = combined.optimize()\n",
    "# co = combined.problem.Constraint(combined.reactions.EX_glc__D.flux_expression, lb=0)\n",
    "# combined.add_cons_vars([co])\n",
    "\n",
    "\n",
    "data_2 = cobra.sampling.sample(combined_2, 5000, method = \"optgp\", processes = 4)"
   ]
  },
  {
   "cell_type": "code",
   "execution_count": null,
   "metadata": {},
   "outputs": [],
   "source": [
    "combined_3 =trial.copy()\n",
    "dual_objective = combined_3.problem.Objective(\n",
    "    +combined_3.reactions.EX_glc__D_c.flux_expression-\n",
    "    combined_3.reactions.EX_glygn2_c.flux_expression,\n",
    "    # direction='min'\n",
    "    )\n",
    "combined_3.objective = dual_objective\n",
    "flux_solution = trial.optimize(objective_sense='minimise')\n",
    "cobra.util.solver.fix_objective_as_constraint(combined_3)\n",
    "# flux_solution = combined.optimize()\n",
    "# co = combined.problem.Constraint(combined.reactions.EX_glc__D.flux_expression, lb=0)\n",
    "# combined.add_cons_vars([co])\n",
    "\n",
    "\n",
    "data_3 = cobra.sampling.sample(combined_3, 5000, method = \"optgp\", processes = 4)\n"
   ]
  },
  {
   "cell_type": "code",
   "execution_count": null,
   "metadata": {},
   "outputs": [],
   "source": [
    "combined_4 =trial.copy()\n",
    "dual_objective = combined_4.problem.Objective(\n",
    "    +combined_4.reactions.EX_glc__D_c.flux_expression+\n",
    "    combined_4.reactions.EX_glygn2_c.flux_expression,\n",
    "    # direction='max'\n",
    "    )\n",
    "combined_4.objective = dual_objective\n",
    "flux_solution = trial.optimize(objective_sense='minimise')\n",
    "cobra.util.solver.fix_objective_as_constraint(combined_4) \n",
    "# flux_solution = combined.optimize()\n",
    "# co = combined.problem.Constraint(combined.reactions.EX_glc__D.flux_expression, lb=0)\n",
    "# combined.add_cons_vars([co])\n",
    "\n",
    "\n",
    "data_4 = cobra.sampling.sample(combined_4, 5000, method = \"optgp\", processes = 4)\n"
   ]
  },
  {
   "cell_type": "code",
   "execution_count": null,
   "metadata": {},
   "outputs": [],
   "source": [
    "# for i in combined_2.constraints:\n",
    "#     print(i)\n",
    "\n",
    "# for i in combined_4.constraints:\n",
    "#     print(i)"
   ]
  },
  {
   "cell_type": "code",
   "execution_count": null,
   "metadata": {},
   "outputs": [],
   "source": [
    "# df\n",
    "mean_flux_1 = pd.DataFrame( columns =[\"reaction\",\"mean\", \"stdev\"])\n",
    "# means =[]\n",
    "# std=[]\n",
    "for i in data_1.columns:\n",
    "    mean = data_1[i].mean()\n",
    "    # print(index)\n",
    "    # means.append(index)\n",
    "    std = data_1[i].std()\n",
    "    mean_flux_1.loc[len(mean_flux_1.index)] = [i, mean, std]\n",
    "# mean_flux[\"Mean_gluco\"] = means\n",
    "# mean_flux[\"ST_dev_gluco\"] = std\n",
    "mean_flux = mean_flux_1.set_index(\"reaction\")\n",
    "mean_flux.loc[\"EX_glc__D_c\"]"
   ]
  },
  {
   "cell_type": "code",
   "execution_count": null,
   "metadata": {},
   "outputs": [],
   "source": [
    "data_2.head(20)"
   ]
  },
  {
   "cell_type": "code",
   "execution_count": null,
   "metadata": {},
   "outputs": [],
   "source": [
    "linear_reaction_coefficients(combined_1)"
   ]
  },
  {
   "cell_type": "code",
   "execution_count": null,
   "metadata": {},
   "outputs": [],
   "source": [
    "# importing libraries\n",
    "import matplotlib.pyplot as plt\n",
    "import seaborn as sns"
   ]
  },
  {
   "cell_type": "code",
   "execution_count": null,
   "metadata": {},
   "outputs": [],
   "source": [
    "data_1.head(20)"
   ]
  },
  {
   "cell_type": "code",
   "execution_count": null,
   "metadata": {},
   "outputs": [],
   "source": [
    "plt.hist(data_1['PFK'], \n",
    "         alpha=0.25, # the transaparency parameter\n",
    "         label='state_1_PFK')\n",
    "# plt.axvline(x_position)\n",
    "  \n",
    "plt.hist(data_2['PFK'], \n",
    "         alpha=0.25, # the transaparency parameter\n",
    "         label='state_2_PFK')\n",
    "\n",
    "plt.hist(data_3['PFK'], \n",
    "         alpha=0.25, # the transaparency parameter\n",
    "         label='state_3_PFK')        \n",
    "\n",
    "plt.hist(data_4['PFK'], \n",
    "         alpha=0.25, # the transaparency parameter\n",
    "         label='state_4_PFK')        \n",
    "  \n",
    "plt.legend(loc='upper right')\n",
    "plt.title('Overlapping with both alpha=0.5')\n",
    "plt.show()"
   ]
  },
  {
   "cell_type": "markdown",
   "metadata": {},
   "source": [
    "the flux states of PGI looks weird cuz it's supposed to be positive and negative"
   ]
  },
  {
   "cell_type": "code",
   "execution_count": null,
   "metadata": {},
   "outputs": [],
   "source": [
    "list_rxn =['PGMT', 'ENO', \"FBA\", \"HEX1\", \"EX_glc__D_c\", \"EX_glygn2_c\"]\n",
    "#  GAPDH, ENO, FBA, PGI, PGMT\n",
    "for i in list_rxn:\n",
    "    plt.hist(data_1[i], \n",
    "         alpha=0.25, # the transaparency parameter\n",
    "         label='state_1')\n",
    "#     x_position = mean_flux.loc[i, \"mean\"]\n",
    "  \n",
    "    plt.hist(data_2[i], \n",
    "            alpha=0.25, # the transaparency parameter\n",
    "            label='state_2')\n",
    "#     x_position = mean_flux.loc[i, \"mean\"]\n",
    "\n",
    "    plt.hist(data_3[i], \n",
    "            alpha=0.25, # the transaparency parameter\n",
    "            label='state_3')     \n",
    "#     x_position = mean_flux.loc[i, \"mean\"]\n",
    "\n",
    "    plt.hist(data_4[i], \n",
    "            alpha=0.25, # the transaparency parameter\n",
    "            label='state_4')        \n",
    "    \n",
    "    plt.legend(loc='upper right')\n",
    "    plt.title('Overlapping histograms of '+str(i))\n",
    "    plt.show()"
   ]
  },
  {
   "cell_type": "code",
   "execution_count": null,
   "metadata": {},
   "outputs": [],
   "source": [
    "# fig, axes = plt.subplots(1, 2, figsize=(10, 5), sharey=True)\n",
    "# ax = axes[0]\n",
    "# df['GLGNS1'].hist(ax=ax)\n",
    "# ax.set_xlabel('GLGNS1 flux')\n",
    "# ax.set_ylabel('Number of solutions')\n",
    "\n",
    "# ax = axes[1]\n",
    "# ax = df['GLPASE1'].hist(ax=ax)\n",
    "# ax.set_xlabel('GLPASE1 flux')"
   ]
  },
  {
   "cell_type": "code",
   "execution_count": null,
   "metadata": {},
   "outputs": [],
   "source": [
    "# # df\n",
    "# mean_flux = pd.DataFrame( columns =[\"reaction\",\"mean\", \"stdev\"])\n",
    "# # means =[]\n",
    "# # std=[]\n",
    "# for i in df.columns:\n",
    "#     mean = df[i].mean()\n",
    "#     # print(index)\n",
    "#     # means.append(index)\n",
    "#     std = df[i].std()\n",
    "#     mean_flux.loc[len(mean_flux.index)] = [i, mean, std]\n",
    "# # mean_flux[\"Mean_gluco\"] = means\n",
    "# # mean_flux[\"ST_dev_gluco\"] = std\n",
    "# mean_flux"
   ]
  },
  {
   "cell_type": "code",
   "execution_count": null,
   "metadata": {},
   "outputs": [],
   "source": [
    "from tqdm import tqdm\n",
    "from scipy.integrate import solve_ivp"
   ]
  },
  {
   "cell_type": "markdown",
   "metadata": {},
   "source": [
    "# dFBA analysis"
   ]
  },
  {
   "cell_type": "code",
   "execution_count": null,
   "metadata": {},
   "outputs": [],
   "source": [
    "def add_dynamic_bounds(trial, y):\n",
    "    \"\"\"Use external concentrations to bound the uptake flux of glucose.\"\"\"\n",
    "    atpm, glucose = y  # expand the boundary species\n",
    "    glucose_max_import = -10 * glucose / (5 + glucose)\n",
    "    trial.reactions.EX_glc__D_c.lower_bound = glucose_max_import\n",
    "\n",
    "\n",
    "def dynamic_system(t, y):\n",
    "    \"\"\"Calculate the time derivative of external species.\"\"\"\n",
    "\n",
    "    atpm, glucose = y  # expand the boundary species\n",
    "\n",
    "    # Calculate the specific exchanges fluxes at the given external concentrations.\n",
    "    with trial:\n",
    "        add_dynamic_bounds(trial, y)\n",
    "\n",
    "        cobra.util.add_lp_feasibility(trial)\n",
    "        feasibility = cobra.util.fix_objective_as_constraint(trial)\n",
    "        lex_constraints = cobra.util.add_lexicographic_constraints(\n",
    "            trial, ['EX_glygn2_c', 'EX_glc__D_c'], ['max', 'max'])\n",
    "# try max and mim \n",
    "    # Since the calculated fluxes are specific rates, we multiply them by the\n",
    "    # biomass concentration to get the bulk exchange rates.\n",
    "    fluxes = lex_constraints.values\n",
    "    # fluxes *= atpm\n",
    "\n",
    "    # This implementation is **not** efficient, so I display the current\n",
    "    # simulation time using a progress bar.\n",
    "    if dynamic_system.pbar is not None:\n",
    "        dynamic_system.pbar.update(1)\n",
    "        dynamic_system.pbar.set_description('t = {:.3f}'.format(t))\n",
    "\n",
    "    return fluxes\n",
    "\n",
    "dynamic_system.pbar = None\n",
    "\n",
    "\n",
    "def infeasible_event(t, y):\n",
    "    \"\"\"\n",
    "    Determine solution feasibility.\n",
    "\n",
    "    Avoiding infeasible solutions is handled by solve_ivp's built-in event detection.\n",
    "    This function re-solves the LP to determine whether or not the solution is feasible\n",
    "    (and if not, how far it is from feasibility). When the sign of this function changes\n",
    "    from -epsilon to positive, we know the solution is no longer feasible.\n",
    "\n",
    "    \"\"\"\n",
    "\n",
    "    with trial:\n",
    "\n",
    "        add_dynamic_bounds(trial, y)\n",
    "\n",
    "        cobra.util.add_lp_feasibility(trial)\n",
    "        feasibility = cobra.util.fix_objective_as_constraint(trial)\n",
    "\n",
    "    return feasibility - infeasible_event.epsilon\n",
    "\n",
    "infeasible_event.epsilon = 1E-6\n",
    "infeasible_event.direction = 1\n",
    "infeasible_event.terminal = True"
   ]
  },
  {
   "cell_type": "code",
   "execution_count": null,
   "metadata": {},
   "outputs": [],
   "source": [
    "ts = np.linspace(0, 15, 100)  # Desired integration resolution and interval\n",
    "y0 = [0.1, 10]\n",
    "\n",
    "with tqdm() as pbar:\n",
    "    dynamic_system.pbar = pbar\n",
    "\n",
    "    sol = solve_ivp(\n",
    "        fun=dynamic_system,\n",
    "        events=[infeasible_event],\n",
    "        t_span=(ts.min(), ts.max()),\n",
    "        y0=y0,\n",
    "        t_eval=ts,\n",
    "        rtol=1e-6,\n",
    "        atol=1e-8,\n",
    "        method='BDF'\n",
    "    )"
   ]
  },
  {
   "cell_type": "code",
   "execution_count": null,
   "metadata": {},
   "outputs": [],
   "source": [
    "ax = plt.subplot(111)\n",
    "ax.plot(sol.t, sol.y.T[:, 0])\n",
    "ax2 = plt.twinx(ax)\n",
    "ax2.plot(sol.t, sol.y.T[:, 1], color='r')\n",
    "\n",
    "ax.set_ylabel('Glycogen', color='b')\n",
    "ax2.set_ylabel('Glucose', color='r')"
   ]
  },
  {
   "cell_type": "code",
   "execution_count": null,
   "metadata": {},
   "outputs": [],
   "source": []
  },
  {
   "cell_type": "markdown",
   "metadata": {},
   "source": [
    "### Making Df of metabolites and reactions, exporting them, and importing to form MASS model"
   ]
  },
  {
   "cell_type": "code",
   "execution_count": null,
   "metadata": {},
   "outputs": [],
   "source": [
    "# etc= [\n",
    "#     'FADH2ETC',\n",
    "#     'NADH2_u10mi',\n",
    "#     'CYOR_u10mi',\n",
    "#     'CYOOm2i',\n",
    "#     'MALtm',\n",
    "#     'AKGMALtm',\n",
    "#     'MDH',\n",
    "#     'ASPTA',\n",
    "#     'ASPGLUm',\n",
    "#     'ASPTAm',\n",
    "\n",
    "# ] \n",
    "\n",
    "# reaction_list = ['HEX1',\n",
    "#                 'PGI',\n",
    "#                 'FBP',\n",
    "#                 'PFK',\n",
    "#                 'FBA',\n",
    "#                 'TPI',\n",
    "#                 'GAPD',\n",
    "#                 'PGK',\n",
    "#                 'PGM',\n",
    "#                 'ENO',\n",
    "#                 # 'PEPtm',\n",
    "#                 'PEPCKm',\n",
    "#                 'PYK',\n",
    "#                 'PCm',\n",
    "#                 'LDH_L',\n",
    "                \n",
    "#                 'PGMT',\n",
    "#                 \"GLPASE2\",\n",
    "#                 'GLDBRAN',\n",
    "#                 'GLBRAN',\n",
    "#                 \"GLPASE1\",\n",
    "#                 'GLGNS1',\n",
    "#                 'GGNG',\n",
    "#                 'GALUi',\n",
    "#                 # 'CO2tm',\n",
    "#                 # 'Htm',\n",
    "#                 # 'O2tm',\n",
    "#                 #  'H2Otm',\n",
    "                 \n",
    "# #                 'G6Pter',\n",
    "# #                 'G6PPer',\n",
    "# #                 'GLCter',\n",
    "# #                 'GLCt1',\n",
    "#                 # 'PYRt2m', \n",
    "# #                 'H2Oter', \n",
    "# #                 'PIter', \n",
    "# #                 'H2Ot', \n",
    "# #                 'PIt', \n",
    "# #                 'Ht', \n",
    "# #                 'L_LACt2r', #lactose transport between lactate in cytosol and extracellular \n",
    "# #                  'PYRt2',\n",
    "#                 'ADK1',\n",
    "#                 'ATPM',\n",
    "# #                 'DM_nadh'\n",
    "#                 ]"
   ]
  },
  {
   "cell_type": "code",
   "execution_count": null,
   "metadata": {},
   "outputs": [],
   "source": [
    "# from cobra_dict import metabolite_to_dict as metabolite_to_dict\n",
    "# from cobra_dict import reaction_to_dict as reaction_to_dict"
   ]
  },
  {
   "cell_type": "code",
   "execution_count": null,
   "metadata": {},
   "outputs": [],
   "source": [
    "# met_df=pd.DataFrame()\n",
    "# for met in trial.metabolites:\n",
    "#     cobra_met= trial.metabolites.get_by_id(met.id)\n",
    "#     m=metabolite_to_dict(cobra_met)\n",
    "#     df_2=pd.DataFrame.from_dict(m,orient='index')\n",
    "#     df_2=df_2.T\n",
    "#     met_df=pd.concat([met_df, df_2])\n",
    "# met_df=met_df.set_index('id')\n",
    "# met_df"
   ]
  },
  {
   "cell_type": "code",
   "execution_count": null,
   "metadata": {},
   "outputs": [],
   "source": [
    "# csv_met_cobra = os.path.join(data_dir,\"core_cobra_met.csv\")\n",
    "# met_df.to_csv(csv_met_cobra)"
   ]
  },
  {
   "cell_type": "code",
   "execution_count": null,
   "metadata": {},
   "outputs": [],
   "source": [
    "# rxn_df=pd.DataFrame()\n",
    "# for rxn in trial.reactions:\n",
    "#     cobra_rxn= trial.reactions.get_by_id(rxn.id)\n",
    "#     r=reaction_to_dict(cobra_rxn)\n",
    "# #     print(r)\n",
    "#     df=pd.DataFrame.from_dict(r,orient='index')\n",
    "#     df=df.T\n",
    "#     rxn_df= pd.concat([rxn_df, df])\n",
    "# rxn_df=rxn_df.set_index('id')\n",
    "# # rxn_df"
   ]
  },
  {
   "cell_type": "code",
   "execution_count": null,
   "metadata": {},
   "outputs": [],
   "source": [
    "# json_rxn_cobra = os.path.join(data_dir,\"core_cobra_rxn.json\")\n",
    "# rxn_df.to_json(json_rxn_cobra,orient=\"index\")"
   ]
  },
  {
   "cell_type": "markdown",
   "metadata": {},
   "source": [
    "## Making MASS model of glycolysis"
   ]
  },
  {
   "cell_type": "code",
   "execution_count": null,
   "metadata": {},
   "outputs": [],
   "source": [
    "liver= MassModel(\"Core_Model\", array_type='DataFrame', dtype=np.int64)"
   ]
  },
  {
   "cell_type": "markdown",
   "metadata": {},
   "source": [
    "#### Add the pathway metabolites and their information to a new MASS model from COBRA model"
   ]
  },
  {
   "cell_type": "code",
   "execution_count": null,
   "metadata": {},
   "outputs": [],
   "source": [
    "csv_met = os.path.join(data_dir,\"small_core_met_df.csv\")\n",
    "json_rxn = os.path.join(data_dir,\"small_core_reaction_df.json\")"
   ]
  },
  {
   "cell_type": "code",
   "execution_count": null,
   "metadata": {},
   "outputs": [],
   "source": [
    "# making dataframe of metabolites\n",
    "import json\n",
    "met_csv_df = pd.read_csv(csv_met,index_col=\"id\")\n",
    "mass_metabolite_info=met_csv_df.to_dict(orient='index')\n",
    "\n",
    "# Loading reaction data as JSON file to maintain data types as dictionaries \n",
    "\n",
    "with open(json_rxn) as json_file:\n",
    "    mass_rxn_data = json.load(json_file)"
   ]
  },
  {
   "cell_type": "code",
   "execution_count": null,
   "metadata": {},
   "outputs": [],
   "source": [
    "mass_metabolite_info"
   ]
  },
  {
   "cell_type": "code",
   "execution_count": null,
   "metadata": {},
   "outputs": [],
   "source": [
    "#  Add all the remaining metabolites involved in the pathway\n",
    "for met_id, info in mass_metabolite_info.items():\n",
    "    met = MassMetabolite(met_id, name=info['name'], formula=info['formula'], \n",
    "                           charge=info['charge'], compartment=info['compartment'])\n",
    "    # print(met.compartment)\n",
    "    liver.add_metabolites(met)"
   ]
  },
  {
   "cell_type": "code",
   "execution_count": null,
   "metadata": {},
   "outputs": [],
   "source": [
    "for reaction, info in mass_rxn_data.items():\n",
    "    reaction_obj = MassReaction(reaction)\n",
    "    reaction_obj.id = reaction\n",
    "    reaction= reaction_obj.id\n",
    "    reaction_obj.lower_bound = info['lower_bound']\n",
    "    reaction_obj.upper_bound = info['upper_bound']\n",
    "    reaction_obj.name = info['name']\n",
    "    liver.add_reactions(reaction_obj)\n",
    "    temp=info['metabolites']\n",
    "    reaction_obj.add_metabolites(temp)\n",
    "    print(reaction)"
   ]
  },
  {
   "cell_type": "code",
   "execution_count": null,
   "metadata": {},
   "outputs": [],
   "source": [
    "liver.reactions.PGK.reverse_stoichiometry(inplace=True)\n",
    "liver.reactions.PGM.reverse_stoichiometry(inplace=True)"
   ]
  },
  {
   "cell_type": "code",
   "execution_count": null,
   "metadata": {},
   "outputs": [],
   "source": [
    "from mass.io import json, sbml"
   ]
  },
  {
   "cell_type": "code",
   "execution_count": null,
   "metadata": {},
   "outputs": [],
   "source": [
    "model_dir"
   ]
  },
  {
   "cell_type": "code",
   "execution_count": null,
   "metadata": {},
   "outputs": [],
   "source": [
    "mass_small_core = os.path.join(model_dir,\"Mass_small_core_model.json\")\n",
    "json.save_json_model(mass_model=liver, filename=mass_small_core)"
   ]
  },
  {
   "cell_type": "markdown",
   "metadata": {},
   "source": [
    "## Setting initial conditions"
   ]
  },
  {
   "cell_type": "code",
   "execution_count": null,
   "metadata": {},
   "outputs": [],
   "source": [
    "pd.DataFrame(\n",
    "    ppp.S.dot(np.array(list(ssfluxes.values()))),\n",
    "    index=metabolite_ids,\n",
    "    columns=[r\"$\\textbf{Sv}_{\\mathrm{stst}}$\"]).T\n",
    "\n"
   ]
  },
  {
   "cell_type": "code",
   "execution_count": null,
   "metadata": {},
   "outputs": [],
   "source": [
    "import csv\n",
    "import openpyxl"
   ]
  },
  {
   "cell_type": "code",
   "execution_count": null,
   "metadata": {},
   "outputs": [],
   "source": [
    "#Function to load data from the excel sheet\n",
    "def load_data(filepath, sheet_name):\n",
    "    \"\"\"Load Liver data from an excel sheet\"\"\"\n",
    "    df = pd.read_excel(engine='openpyxl',\n",
    "        io=filepath,\n",
    "        sheet_name=sheet_name,\n",
    "        index_col=0)\n",
    "    return df"
   ]
  },
  {
   "cell_type": "code",
   "execution_count": null,
   "metadata": {},
   "outputs": [],
   "source": [
    "#Compare Results\n",
    "excel_ic = os.path.join(data_dir,\"Concentrations2.xlsx\")\n",
    "# ic_df = pd.read_csv(csv_ic)\n",
    "# ic_df.set_index()\n",
    "ic_info_all = load_data(\n",
    "    filepath=excel_ic,\n",
    "    sheet_name=\"Concentrations\")\n",
    "ic_info_all.reset_index(level='ID', col_level=1, inplace=True)\n",
    "ic_info_all"
   ]
  },
  {
   "cell_type": "code",
   "execution_count": null,
   "metadata": {},
   "outputs": [],
   "source": [
    "conc_df =pd.DataFrame(ic_info_all.loc[:,[\"ID\",\"Concentration (M)\"]])\n",
    "conc_df.set_index('ID',drop=True,inplace=True)\n",
    "conc_df"
   ]
  },
  {
   "cell_type": "code",
   "execution_count": null,
   "metadata": {},
   "outputs": [],
   "source": [
    "# new_index= []\n",
    "# for i in conc_df.index:\n",
    "#     base = conc_df.index.get_loc(i)\n",
    "#     # print(base)\n",
    "#     # l = len(i)\n",
    "#     # new = i[:l-2]\n",
    "#     # new_index.append(new)\n",
    "#     # print(new)\n",
    "#     # conc_df.index.get_loc(base) = new\n",
    "#     # new_id = i.rpartition(\"_\" + str(met.compartment))[0]\n",
    "\n",
    "# conc_df= conc_df.reset_index(drop=True)\n",
    "# conc_df[\"ID\"] = new_index\n",
    "# conc_df.set_index('ID',drop=True,inplace=True)\n",
    "# conc_df"
   ]
  },
  {
   "cell_type": "code",
   "execution_count": null,
   "metadata": {},
   "outputs": [],
   "source": [
    "print(\"Initial Conditions\\n------------------\")\n",
    "\n",
    "for reaction in liver.reactions:\n",
    "    #Setting inital condition of metabolties from HEPATOKIN  #M \n",
    "    for met in reaction.metabolites:\n",
    "        if met.id in conc_df.index:\n",
    "            mid=met.id\n",
    "            metabolite = reaction.metabolites\n",
    "            ic_value = conc_df.loc[mid,'Concentration (M)']\n",
    "            # print(ic_value)\n",
    "            # row = [mid,ic_value]\n",
    "            # column = [ic_value]\n",
    "            # conc_df.append(row)\n",
    "            met.ic =  ic_value    \n",
    "                    \n",
    "for metabolite, ic_value in liver.initial_conditions.items():\n",
    "    print(\"{0}: {1}\".format(metabolite, ic_value))"
   ]
  },
  {
   "cell_type": "code",
   "execution_count": null,
   "metadata": {},
   "outputs": [],
   "source": [
    "for i in liver.metabolites:\n",
    "    print(i.compartment)"
   ]
  },
  {
   "cell_type": "markdown",
   "metadata": {},
   "source": [
    "### Getting Standard and Physiological Gibbs energies of reactions to get Keq of reactions"
   ]
  },
  {
   "cell_type": "code",
   "execution_count": null,
   "metadata": {},
   "outputs": [],
   "source": [
    "met_list = []\n",
    "liver.boundary_conditions\n",
    "for reaction in liver.boundary_conditions:\n",
    "    print(reaction)"
   ]
  },
  {
   "cell_type": "code",
   "execution_count": null,
   "metadata": {},
   "outputs": [],
   "source": [
    "excluded_reactions=[\"ATPM\", \"NADHM\",\"PYRt2m\",\"PEPtm\"]\n"
   ]
  },
  {
   "cell_type": "code",
   "execution_count": null,
   "metadata": {},
   "outputs": [],
   "source": [
    "for reaction in liver.boundary:\n",
    "    excluded_reactions.append(reaction.id)\n",
    "    reaction.Keq=1    # Setting Keq\n",
    "    print(reaction,reaction.Keq)"
   ]
  },
  {
   "cell_type": "code",
   "execution_count": null,
   "metadata": {},
   "outputs": [],
   "source": [
    "for i in liver.metabolites:\n",
    "    print(i,i.compartment)\n",
    "    # i.compartment = \"cytosol\""
   ]
  },
  {
   "cell_type": "code",
   "execution_count": null,
   "metadata": {},
   "outputs": [],
   "source": [
    "# occoa_prod_c nan\n",
    "# octa_prod_c nan\n",
    "# glyc3p_1octa_c nan\n",
    "# glyc3p_2octa_c nan\n",
    "# glyc_2octa_c nan\n",
    "# glyc_3octa_c nan\n",
    "# ACP_c nan\n",
    "# malACP_c nan\n",
    "# acACP_c nan\n",
    "# actACP_c nan\n",
    "# 3haACP_c nan\n",
    "# but2eACP_c nan\n",
    "# butACP_c nan\n",
    "# 3ohexACP_c nan\n",
    "# 3hhexACP_c nan\n",
    "# thex2eACP_c nan\n",
    "# hexACP_c nan\n",
    "# 3ooctACP_c nan\n",
    "# 3hoctACP_c nan\n",
    "# toct2eACP_c nan\n",
    "# oc2coa_m nan\n",
    "# 3hocoa_m nan\n",
    "# 3oocoa_m nan\n",
    "# hxcoa_m m\n",
    "# hx2coa_m m\n",
    "# 3hhcoa_m nan\n",
    "# 3ohcoa_m nan\n",
    "# btcoa_m m\n",
    "# b2coa_m m\n",
    "# 3hbcoa_m m\n",
    "# octa_cons_c nan\n"
   ]
  },
  {
   "cell_type": "code",
   "execution_count": null,
   "metadata": {},
   "outputs": [],
   "source": [
    "# Reactions that we don't want to get Keq from equilibrator [exchanges and psuedoreactions] SET THESE MANUALLY\n",
    "# Setting Keq and kf for boundary reactions\n",
    "print(\"Boundary Reactions and Values\\n-----------------------------\")\n",
    "\n",
    "for reaction in liver.boundary:\n",
    "    excluded_reactions.append(reaction.id)\n",
    "    reaction.Keq=1    # Setting Keq\n",
    "    reaction.kf=1e6     # Setting kf\n",
    "    #Setting boundary condition metabolties from ic of metabolite from HEPATOKIN   \n",
    "    for met in reaction.reactants:\n",
    "        if met.id in conc_df.index:\n",
    "            mid=met.id\n",
    "            boundary_met = reaction.boundary_metabolite\n",
    "            bcvalue = conc_df.loc[mid,'Concentration (M)']\n",
    "            liver.boundary_conditions[boundary_met] =  bcvalue\n",
    "            bc_value = liver.boundary_conditions.get(boundary_met)\n",
    "            print(\"{0}\\n{1}: {2}\\n\".format(reaction, boundary_met, bc_value))"
   ]
  },
  {
   "cell_type": "code",
   "execution_count": null,
   "metadata": {},
   "outputs": [],
   "source": [
    "reaction_str= []\n",
    "cc = ComponentContribution()\n",
    "# optional: changing the aqueous environment parameters\n",
    "cc.p_h = Q_(7.4)\n",
    "cc.p_mg = Q_(3.31)\n",
    "cc.ionic_strength = Q_(\"0.144M\")\n",
    "\n",
    "\n",
    "cc.temperature = Q_(\"310.15K\")\n",
    "R = 0.00831446261815324 #R = 0.00831446261815324 kJ/mol\n",
    "from numpy import *\n",
    "Keq_df=pd.DataFrame(columns=[\"Reaction\",\"Keq\"])\n",
    "# Keq_df"
   ]
  },
  {
   "cell_type": "code",
   "execution_count": null,
   "metadata": {},
   "outputs": [],
   "source": [
    "# Getting Keq from equilibrator by forming a reaction string that it can parse through\n",
    "for reaction in liver.reactions:\n",
    "    if reaction.id not in excluded_reactions:\n",
    "        reactants = []\n",
    "        #forming reaction string \n",
    "        for met in reaction.reactants:\n",
    "            id_coeff= reaction.get_coefficient(met)\n",
    "            new_id = met.id\n",
    "            new_id = met.id.rpartition(\"_\" + str(met.compartment))[0] #removing compartment lettes, for eg \"_c\"\n",
    "            if id_coeff == 1 or id_coeff == -1:\n",
    "                new_id = \"bigg.metabolite:\" + new_id\n",
    "            else:\n",
    "                new_id = str(id_coeff) + \" bigg.metabolite:\" + new_id\n",
    "\n",
    "            reactants.append(new_id)   \n",
    "        reactants_string= \" + \".join(reactants)\n",
    "        reactants_string = str(reactants_string + \" = \")\n",
    "\n",
    "        # Forming product string\n",
    "        products = []\n",
    "        for met in reaction.products:\n",
    "            new_id = met.id\n",
    "            new_id = met.id.rpartition(\"_\" + str(met.compartment))[0] # removing compartment lettes, for eg \"_c\"\n",
    "            new_id = \"bigg.metabolite:\" + new_id\n",
    "            products.append(new_id)   \n",
    "        products_string= \" + \".join(products)\n",
    "\n",
    "        #final reaction to parse\n",
    "        reaction_to_parse = reactants_string + products_string         \n",
    "        # print(reaction_to_parse)\n",
    "        rxn_parsed = cc.parse_reaction_formula(reaction_to_parse)\n",
    "        print(reaction.id)\n",
    "\n",
    "        #Getting Gibbs energies\n",
    "        dG0_prime = cc.standard_dg_prime(rxn_parsed)\n",
    "    #         print(f\"ΔG'° = {dG0_prime}\")\n",
    "        dGm_prime = cc.physiological_dg_prime(rxn_parsed)\n",
    "        dG_prime_value_in_kj_per_mol = dGm_prime.value.m_as(\"kJ/mol\")\n",
    "        dG0prime_value_in_kj_per_mol = dG0_prime.value.m_as(\"kJ/mol\")\n",
    "    #     print(f\"ΔG'm = {dG_prime_value_in_kj_per_mol}\")\n",
    "        delG = dG_prime_value_in_kj_per_mol\n",
    "\n",
    "        # Calculating Keq from delG\n",
    "        a = exp(-delG/ (R*310.15)) \n",
    "        reaction.Keq = a\n",
    "        print(f\"Keq = {a}\")\n",
    "#         list_keq=[reaction,a]\n",
    "#         rxn_keq=pd.DataFrame(list_keq)\n",
    "        # df = pd.DataFrame([[reaction,a]], columns=[\"Reaction\",\"Keq\"])\n",
    "        # Keq_df.append(df)\n",
    "\n",
    "# Keq_df    "
   ]
  },
  {
   "cell_type": "code",
   "execution_count": null,
   "metadata": {},
   "outputs": [],
   "source": [
    "from mass.util.matrix import left_nullspace, matrix_rank"
   ]
  },
  {
   "cell_type": "code",
   "execution_count": null,
   "metadata": {},
   "outputs": [],
   "source": [
    "print(liver.S.shape)\n",
    "print(matrix_rank(liver.S))\n",
    "\n"
   ]
  },
  {
   "cell_type": "code",
   "execution_count": null,
   "metadata": {},
   "outputs": [],
   "source": []
  },
  {
   "cell_type": "code",
   "execution_count": null,
   "metadata": {},
   "outputs": [],
   "source": [
    "# liver.reactions.NADHM.Keq=1e6\n",
    "liver.reactions.ATPM.Keq=1e6\n",
    "liver.reactions.PEPtm.Keq=1\n",
    "liver.reactions.PYRt2m.Keq=1"
   ]
  },
  {
   "cell_type": "code",
   "execution_count": null,
   "metadata": {},
   "outputs": [],
   "source": [
    "print(\"Equilibrium Constants\\n---------------------\")\n",
    "for reaction in liver.reactions:\n",
    "    print(\"{0}: {1}\".format(reaction.Keq_str, reaction.Keq))"
   ]
  },
  {
   "cell_type": "markdown",
   "metadata": {},
   "source": [
    "##  Set Fluxes"
   ]
  },
  {
   "cell_type": "code",
   "execution_count": null,
   "metadata": {},
   "outputs": [],
   "source": [
    "fluxes_mass = flux_solution.to_frame()\n",
    "fluxes_mass = fluxes_mass"
   ]
  },
  {
   "cell_type": "code",
   "execution_count": null,
   "metadata": {},
   "outputs": [],
   "source": [
    "no_flux =[]\n",
    "for r in liver.reactions:\n",
    "    if r.id in fluxes_mass.index:\n",
    "        row =  fluxes_mass.loc[r.id,\"fluxes\"]\n",
    "        print(r.id, row)\n",
    "    else:\n",
    "        no_flux.append(r.id)\n",
    "\n",
    "no_flux"
   ]
  },
  {
   "cell_type": "code",
   "execution_count": null,
   "metadata": {},
   "outputs": [],
   "source": [
    "reaction_list=[]\n",
    "for reaction in liver.reactions:\n",
    "    reaction_list.append(reaction.id)\n"
   ]
  },
  {
   "cell_type": "code",
   "execution_count": null,
   "metadata": {},
   "outputs": [],
   "source": [
    "# for reaction, flux in fluxes_mean.itertuples():\n",
    "#     # print(flux)\n",
    "#     reaction = liver.reactions.get_by_id(reaction)\n",
    "#     reaction.steady_state_flux = flux * 1278.605 / 1000 # mmol/gdW*hr --> mmol/L * hr ---> mol/L*hr\n",
    "#     print(\"{0}: {1}\".format(reaction.flux_symbol_str,\n",
    "#                             reaction.steady_state_flux))"
   ]
  },
  {
   "cell_type": "markdown",
   "metadata": {},
   "source": [
    "## Set H2O/H Constants"
   ]
  },
  {
   "cell_type": "code",
   "execution_count": null,
   "metadata": {},
   "outputs": [],
   "source": [
    "# Set concentrations of hydrogen, water as fixed\n",
    "# Assume hydrogen in all compartments are fixed \n",
    "for metabolite in [\n",
    "\"h_c\",'h_i', 'h_m', \n",
    "    \n",
    "#     'h_e','h_m',\n",
    "#     'h2o_r','h2o_e',\n",
    "    \"h2o_c\",'h2o_m', \n",
    "#     \"glc__D_e\", \"pi_e\",'pi_m',\n",
    "    'pi_c', 'pi_m']:\n",
    "    metabolite = liver.metabolites.get_by_id(metabolite)\n",
    "    metabolite.fixed = True"
   ]
  },
  {
   "cell_type": "code",
   "execution_count": null,
   "metadata": {},
   "outputs": [],
   "source": [
    "for metabolite in [\n",
    "'h_i', 'h_m',\n",
    "\"h_c\", \n",
    "#     'h_e',\n",
    "\"h2o_c\",'h2o_m'\n",
    "]:\n",
    "    metabolite = liver.metabolites.get_by_id(metabolite)\n",
    "    metabolite.ic = 1 #M"
   ]
  },
  {
   "cell_type": "code",
   "execution_count": null,
   "metadata": {},
   "outputs": [],
   "source": [
    "seed = int(4)\n",
    "n_models = 5000"
   ]
  },
  {
   "cell_type": "code",
   "execution_count": null,
   "metadata": {},
   "outputs": [],
   "source": [
    "#Formulate QP minimization list for concentrations\n",
    "conc_solver = ConcSolver(\n",
    "    liver, \n",
    "    excluded_metabolites=[\n",
    "    \"h_c\",\n",
    "    'h_i', 'h_m',\n",
    "    # 'o2_m', 'o2_c', \n",
    "#         'h_e', 'h_m',\n",
    "#     'h2o_r','h2o_e',\n",
    "        \"h2o_c\",'h2o_m',\n",
    "        \n",
    "#     \"pi_e\",\n",
    "    # \"glc__D_e\",\n",
    "#  \"lac__L_e\",\n",
    "#     \"pyr_e\"\n",
    "    ], \n",
    "    excluded_reactions=[\n",
    "        \n",
    "# 'NADPHM',\n",
    " \"PYRt2m\",\"PEPtm\", 'Htmi','MALtm', 'ATPtm', 'AKGMALtm','O2tm','H2Otm',  'CO2tm', 'PItm' ,'Htm'\n",
    "        \n",
    "        \n",
    "    #     \"Ht\", \"H2Ot\", \"H2Oter\",'PIter','PIt',\n",
    "    # 'G6Pter','GLCter','GLCt1','PYRt2m','PEPtm',\n",
    "    # 'L_LACt2r','PYRt2'\n",
    "    ],\n",
    "\n",
    "    constraint_buffer=1)\n",
    "\n",
    "conc_solver.setup_feasible_qp_problem(\n",
    "fixed_conc_bounds=list(liver.fixed))\n",
    "# fixed_Keq_bounds=liver.reactions.list_attr(\"Keq_str\")\n",
    "    \n",
    "#assumption: provide uncertainity to allow for a variance for the Keqs rather than staying fixed\n",
    "#conc_solver.setup_feasible_qp_problem(Keq_percent_deviation=0.1)\n",
    "\n",
    "conc_solution = conc_solver.optimize()\n",
    "conc_solution"
   ]
  },
  {
   "cell_type": "code",
   "execution_count": null,
   "metadata": {},
   "outputs": [],
   "source": [
    "conc_solver.setup_sampling_problem(\n",
    "    fixed_conc_bounds=list(liver.fixed),\n",
    "    fixed_Keq_bounds=liver.reactions.list_attr(\"Keq_str\"))\n",
    "for variable in conc_solver.variables:\n",
    "    try:\n",
    "        met = liver.metabolites.get_by_id(variable.name)\n",
    "        variable.lb, variable.ub = np.log([met.ic / 10, met.ic * 10])\n",
    "    except:\n",
    "        pass\n",
    "conc_samples = sample_concentrations(conc_solver, n=n_models,  processes=4, seed=seed)\n",
    "conc_samples.head()\n"
   ]
  },
  {
   "cell_type": "code",
   "execution_count": null,
   "metadata": {},
   "outputs": [],
   "source": [
    "type(conc_samples)"
   ]
  },
  {
   "cell_type": "code",
   "execution_count": null,
   "metadata": {},
   "outputs": [],
   "source": [
    "mean_conc = pd.DataFrame(index = conc_samples.columns)\n",
    "means =[]\n",
    "std=[]\n",
    "for i in conc_samples.columns:\n",
    "    index = conc_samples[i].mean()\n",
    "    # print(index)\n",
    "    means.append(index)\n",
    "    std.append(conc_samples[i].std())\n",
    "mean_conc[\"Mean\"] = means\n",
    "mean_conc[\"ST_dev\"] = std\n",
    "mean_conc"
   ]
  },
  {
   "cell_type": "code",
   "execution_count": null,
   "metadata": {},
   "outputs": [],
   "source": [
    "print(\"Initial Conditions\\n------------------\")\n",
    "\n",
    "for reaction in liver.reactions:\n",
    "    #Setting inital condition of metabolties from HEPATOKIN  #M \n",
    "    for met in reaction.metabolites:\n",
    "        if met.id in mean_conc.index:\n",
    "            mid=met.id\n",
    "            metabolite = reaction.metabolites\n",
    "            ic_value = mean_conc.loc[mid,'Mean']\n",
    "            row = [mid,ic_value]\n",
    "            # column = [ic_value]\n",
    "            # conc_df.append(row)\n",
    "            met.ic =  ic_value            \n",
    "for metabolite, ic_value in liver.initial_conditions.items():\n",
    "    print(\"{0}: {1}\".format(metabolite, ic_value))"
   ]
  },
  {
   "cell_type": "code",
   "execution_count": null,
   "metadata": {},
   "outputs": [],
   "source": [
    "# Keq_data = pd.read_csv(\"./data/analysis_data/equilibrium_constants.csv\", index_col=0)\n",
    "\n",
    "# Keq_data_comparison_fig, ax = plt.subplots(nrows=1, ncols=1, figsize=(5, 5))\n",
    "# plot_comparison(\n",
    "#     x=Keq_data[\"Initial\"], y=Keq_data[\"Adjusted\"], ax=ax,\n",
    "#     title=\"Equilibrium Constants comparison\",\n",
    "#     legend=\"right outside\", plot_function=\"loglog\",\n",
    "#     xlim=(1e-5, 1e5), ylim=(1e-5, 1e5), \n",
    "#     xy_line=True,\n",
    "#     xy_legend=\"best\", xlabel=\"Initial\", ylabel=\"Adjusted\")\n",
    "\n",
    "# Keq_data_comparison_fig.tight_layout()"
   ]
  },
  {
   "cell_type": "code",
   "execution_count": null,
   "metadata": {},
   "outputs": [],
   "source": [
    "Boundary= [\n",
    "    \"ATPM\",\n",
    "    \n",
    "#     'EX_nad_c',\n",
    "    # \"EX_lac__L_c\"\n",
    "]\n",
    "for x in Boundary:\n",
    "    a=liver.reactions.get_by_id(x)\n",
    "    a.kf=1e6"
   ]
  },
  {
   "cell_type": "code",
   "execution_count": null,
   "metadata": {},
   "outputs": [],
   "source": []
  },
  {
   "cell_type": "code",
   "execution_count": null,
   "metadata": {},
   "outputs": [],
   "source": [
    "#Formulate QP minimization list for concentrations\n",
    "conc_solver = ConcSolver(\n",
    "    liver, \n",
    "    excluded_metabolites=[\n",
    "    \"h\",'h2o',\n",
    "    \n",
    "#         'h_e',\n",
    "#  'h_m',\n",
    "#     'h2o_r','h2o_e',\n",
    "        'pi',\n",
    "    # 'pi_c',\n",
    "#     \"pi_e\",\n",
    "\"glc__D\",\n",
    "#     \"glc__D_e\", \"lac__L_e\",\n",
    "#     \"pyr_e\"\n",
    "    ], \n",
    "    excluded_reactions=[\n",
    "        # \"Ht\", \"H2Ot\", \"H2Oter\",'PIter','PIt',\n",
    "#     'G6Pter','GLCter','GLCt1',\n",
    "'PYRt2m','PEPtm',\n",
    "'NADHM','ATPM',\n",
    "'CO2tm', 'ATPtm', 'Htm','PIt2m'\n",
    "    # 'L_LACt2r','PYRt2'\n",
    "    ],\n",
    "\n",
    "    constraint_buffer=1)\n",
    "\n",
    "conc_solver.setup_feasible_qp_problem(\n",
    "fixed_conc_bounds=list(liver.fixed))\n",
    "# fixed_Keq_bounds=liver.reactions.list_attr(\"Keq_str\")\n",
    "    \n",
    "#assumption: provide uncertainity to allow for a variance for the Keqs rather than staying fixed\n",
    "#conc_solver.setup_feasible_qp_problem(Keq_percent_deviation=0.1)\n",
    "\n",
    "conc_solution = conc_solver.optimize()\n",
    "conc_solution"
   ]
  },
  {
   "cell_type": "code",
   "execution_count": null,
   "metadata": {},
   "outputs": [],
   "source": [
    "conc_comparison_fig, ax = plt.subplots(nrows=1, ncols=1,\n",
    "                                       figsize=(5, 5))\n",
    "\n",
    "plot_comparison(\n",
    "    x=conc_df[\"Concentration (M)\"], y=conc_solution,\n",
    "    compare=\"concentrations\",\n",
    "    observable=[mid for mid in conc_df.index], ax=ax,\n",
    "    legend=\"right outside\", plot_function=\"loglog\", \n",
    "    xlim=(1e-6,0.02), ylim=(1e-6,1e-1),\n",
    "    xy_line=True,\n",
    "    xy_legend=\"best\", xlabel=\"Initial [mol/L]\", ylabel=\"Adjusted [mol/L]\")\n",
    "\n",
    "conc_comparison_fig.tight_layout()\n",
    "update_model_with_concentration_solution(\n",
    "    liver, conc_solution, concentrations=True, inplace=True)"
   ]
  },
  {
   "cell_type": "code",
   "execution_count": null,
   "metadata": {},
   "outputs": [],
   "source": [
    "liver.calculate_PERCs(fluxes={\n",
    "                r: v for r, v in liver.steady_state_fluxes.items()\n",
    "                if not (r.boundary  \n",
    "                       )\n",
    "}, update_reactions=True)\n",
    "# print(percs)                      \n",
    "\n",
    "print(\"Forward Rate Constants\\n----------------------\")\n",
    "for reaction in liver.reactions:\n",
    "    print(\"{0}: {1:.6f}\".format(reaction.kf_str, reaction.kf))"
   ]
  },
  {
   "cell_type": "code",
   "execution_count": null,
   "metadata": {},
   "outputs": [],
   "source": [
    "#Function to add underscore in front of metabolite identifiers which start with a number\n",
    "## fix this only after getting Keq from equlibrator because bigg doesn't have _13dpg for example\n",
    "def prefix_number_id(id_str):\n",
    "    \"\"\"Prefix identifiers that start with numbers.\"\"\"\n",
    "    if re.match(r\"^\\d\", id_str):\n",
    "        id_str = \"_\" + id_str\n",
    "    return id_str"
   ]
  },
  {
   "cell_type": "code",
   "execution_count": null,
   "metadata": {},
   "outputs": [],
   "source": [
    "#Loop to edit the names using \"prefix_number_id\" function defined earlier\n",
    "for metabolite in liver.metabolites:\n",
    "    new_met_id = prefix_number_id(metabolite.id)\n",
    "    metabolite.id = new_met_id\n",
    "liver.repair()"
   ]
  },
  {
   "cell_type": "code",
   "execution_count": null,
   "metadata": {},
   "outputs": [],
   "source": [
    "qcqa_model(liver, parameters=True, concentrations=True,\n",
    "           fluxes=True, superfluous=True, elemental=True)"
   ]
  },
  {
   "cell_type": "code",
   "execution_count": null,
   "metadata": {},
   "outputs": [],
   "source": [
    "conc_solution.concentrations"
   ]
  },
  {
   "cell_type": "code",
   "execution_count": null,
   "metadata": {},
   "outputs": [],
   "source": [
    "liver.boundary_conditions['co2_b']=0.657953 ##M\n",
    "liver.boundary_conditions['gdp_b']=0.657953 ##M\n",
    "liver.boundary_conditions['gtp_b']=1.519864 ##M\n",
    "liver.boundary_conditions['h2o_b']=1 ##M\n",
    "liver.boundary_conditions['h_b']=1 ##M\n",
    "liver.boundary_conditions['hco3_b']=0.001827 ##M"
   ]
  },
  {
   "cell_type": "code",
   "execution_count": null,
   "metadata": {},
   "outputs": [],
   "source": [
    "# Setup simulation object\n",
    "simG=Simulation(liver, verbose=True)\n",
    "# Simulate from 0 to 1000 with 10001 points in the output\n",
    "conc_sol, flux_sol = simG.simulate(liver, time=(0, 1e8))\n",
    "# Quickly render and display time profiles\n",
    "conc_sol.view_time_profile()"
   ]
  },
  {
   "cell_type": "code",
   "execution_count": null,
   "metadata": {},
   "outputs": [],
   "source": [
    "# Loading reaction data as JSON file to maintain data types as dictionaries \n",
    "model_json = os.path.join(model_dir,\"Gly_Gluco_no_cmpt.json\")\n",
    "json.save_json_model(mass_model=liver, filename=model_json)"
   ]
  },
  {
   "cell_type": "code",
   "execution_count": null,
   "metadata": {},
   "outputs": [],
   "source": []
  },
  {
   "cell_type": "code",
   "execution_count": null,
   "metadata": {},
   "outputs": [],
   "source": []
  },
  {
   "cell_type": "code",
   "execution_count": null,
   "metadata": {},
   "outputs": [],
   "source": []
  }
 ],
 "metadata": {
  "interpreter": {
   "hash": "dac1de4d04d521f2478106b8cf0804304a8a54afaab58ac4b602c07888c6e2cc"
  },
  "kernelspec": {
   "display_name": "Python 3.8.12 ('massliver')",
   "language": "python",
   "name": "python3"
  },
  "language_info": {
   "codemirror_mode": {
    "name": "ipython",
    "version": 3
   },
   "file_extension": ".py",
   "mimetype": "text/x-python",
   "name": "python",
   "nbconvert_exporter": "python",
   "pygments_lexer": "ipython3",
   "version": "3.8.12 (default, Oct 12 2021, 03:01:40) [MSC v.1916 64 bit (AMD64)]"
  },
  "orig_nbformat": 4
 },
 "nbformat": 4,
 "nbformat_minor": 2
}
