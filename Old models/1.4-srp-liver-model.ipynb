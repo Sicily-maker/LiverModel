{
 "cells": [
  {
   "cell_type": "markdown",
   "metadata": {},
   "source": [
    "# Liver Model Construction: Notebook"
   ]
  },
  {
   "cell_type": "code",
   "execution_count": 1,
   "metadata": {},
   "outputs": [
    {
     "name": "stdout",
     "output_type": "stream",
     "text": [
      "MASSpy version: 0.1.1\n"
     ]
    }
   ],
   "source": [
    "import os\n",
    "import re\n",
    "import warnings\n",
    "from cobra.io.json import load_json_model as load_json_cobra_model\n",
    "import escher\n",
    "import mass\n",
    "import numpy as np\n",
    "import pandas as pd\n",
    "import equilibrator_api\n",
    "from equilibrator_api import ComponentContribution, Q_\n",
    "import sympy as sym\n",
    "from cobra import Model, Reaction, Metabolite\n",
    "import cobra.test\n",
    "from os.path import join\n",
    "from mass.util import qcqa\n",
    "from mass.util import qcqa_model\n",
    "from cobra import DictList\n",
    "from mass import (\n",
    "    MassConfiguration, MassMetabolite, MassModel,\n",
    "    MassReaction, Simulation, UnitDefinition)\n",
    "from mass.io.json import save_json_model as save_json_mass_model\n",
    "from mass.visualization import plot_comparison, plot_time_profile\n",
    "from mass.visualization import (\n",
    "    plot_ensemble_phase_portrait, plot_ensemble_time_profile)\n",
    "mass_config = MassConfiguration()\n",
    "mass_config.irreversible_Keq = float(\"inf\")\n",
    "print(\"MASSpy version: {0}\".format(mass.__version__))\n",
    "from six import iteritems\n",
    "import matplotlib.pyplot as plt\n",
    "from mass.thermo import (\n",
    "    ConcSolver, sample_concentrations,\n",
    "    update_model_with_concentration_solution)\n",
    "from cobra.io.json import *\n",
    "import cobra_dict as c_d\n",
    "import csv\n"
   ]
  },
  {
   "cell_type": "code",
   "execution_count": 2,
   "metadata": {},
   "outputs": [],
   "source": [
    "maps_dir = os.path.abspath(\"../massters_model/maps\")\n",
    "data_dir = os.path.abspath(\"../massters_model/data\")\n",
    "extra_dir=os.path.abspath(\"../massters_model\")"
   ]
  },
  {
   "cell_type": "markdown",
   "metadata": {},
   "source": [
    "### Loading Reaction and Metabolite data from files"
   ]
  },
  {
   "cell_type": "code",
   "execution_count": 3,
   "metadata": {},
   "outputs": [],
   "source": [
    "#Function to load data from the excel sheet\n",
    "def load_data(filepath, sheet_name):\n",
    "    \"\"\"Load Liver data from an excel sheet\"\"\"\n",
    "    df = pd.read_excel(engine='openpyxl',\n",
    "        io=filepath,\n",
    "        sheet_name=sheet_name,\n",
    "        index_col=0)\n",
    "    return df"
   ]
  },
  {
   "cell_type": "code",
   "execution_count": 4,
   "metadata": {},
   "outputs": [],
   "source": [
    "# making dataframe \n",
    "csv_rxn = os.path.join(data_dir,\"rxn_df\")\n",
    "csv_met = os.path.join(data_dir,\"met_df\")\n",
    "rxn_csv_df = pd.read_csv(csv_rxn) \n",
    "met_csv_df = pd.read_csv(csv_met,index_col=\"id\")\n",
    "met_csv_df=met_csv_df.drop(\"Unnamed: 0\",axis=1)\n",
    "metabolite_info=met_csv_df.to_dict(orient='index')\n"
   ]
  },
  {
   "cell_type": "code",
   "execution_count": 5,
   "metadata": {},
   "outputs": [],
   "source": [
    "# rxn_info = load_data(\n",
    "#     filepath=csv_rxn,\n",
    "#     sheet_name=\"Sheet1\")\n",
    "# rxn_info"
   ]
  },
  {
   "cell_type": "code",
   "execution_count": 6,
   "metadata": {},
   "outputs": [],
   "source": [
    "# Loading reaction and metabolite data from Excel file, converting them to dictionaries\n",
    "# data_sheet_met=os.path.join(data_dir,\"metabolite_info.xlsx\")\n",
    "\n",
    "# met_info = load_data(\n",
    "#     filepath=data_sheet_met,\n",
    "#     sheet_name=\"Sheet1\")\n",
    "# # .drop(\"notes\", axis=1).drop(\"annotation\", axis=1)\n",
    "# metabolite_info=met_info.to_dict(orient='index')\n",
    "\n",
    "\n",
    "\n",
    "# data_sheet_rxn=os.path.join(data_dir,\"reactions_info.xlsx\")\n",
    "# rxn_info = load_data(\n",
    "#     filepath=data_sheet_rxn,\n",
    "#     sheet_name=\"Sheet1\")\n",
    "# reactions_info=rxn_info.to_dict(orient='index')"
   ]
  },
  {
   "cell_type": "code",
   "execution_count": 7,
   "metadata": {},
   "outputs": [],
   "source": [
    "csv_ic = os.path.join(data_dir,\"Concentrations_Glycolysis.csv\")\n",
    "ic_df = pd.read_csv(csv_ic)\n",
    "# ic_df"
   ]
  },
  {
   "cell_type": "code",
   "execution_count": 8,
   "metadata": {},
   "outputs": [],
   "source": [
    "# Loading reaction data as JSON file to maintain data types as dictionaries \n",
    "with open(r'/home/mass_user/massters_model/data/rxn') as json_file:\n",
    "    rxn_data = json.load(json_file)"
   ]
  },
  {
   "cell_type": "markdown",
   "metadata": {},
   "source": [
    "## Making MASS model of glycolysis"
   ]
  },
  {
   "cell_type": "code",
   "execution_count": 9,
   "metadata": {},
   "outputs": [],
   "source": [
    "liver= MassModel(\"Core_Model\", array_type='DataFrame', dtype=np.int64)"
   ]
  },
  {
   "cell_type": "markdown",
   "metadata": {},
   "source": [
    "#### Add the pathway metabolites and their information to a new MASS model"
   ]
  },
  {
   "cell_type": "code",
   "execution_count": 10,
   "metadata": {},
   "outputs": [],
   "source": [
    "#  Add all the remaining metabolites involved in the pathway\n",
    "for met_id, info in metabolite_info.items():\n",
    "    met = MassMetabolite(met_id, name=info['name'], formula=info['formula'], \n",
    "                           charge=info['charge'], compartment=info['compartment'])\n",
    "    liver.add_metabolites(met)"
   ]
  },
  {
   "cell_type": "code",
   "execution_count": 11,
   "metadata": {},
   "outputs": [
    {
     "name": "stdout",
     "output_type": "stream",
     "text": [
      "HEX1: atp_c + glc__D_c --> adp_c + g6p_c + h_c\n",
      "PGI: g6p_c <=> f6p_c\n",
      "PFK: atp_c + f6p_c --> adp_c + fdp_c + h_c\n",
      "FBP: fdp_c + h2o_c --> f6p_c + pi_c\n",
      "FBA: fdp_c <=> dhap_c + g3p_c\n",
      "TPI: dhap_c <=> g3p_c\n",
      "GAPD: g3p_c + nad_c + pi_c <=> 13dpg_c + h_c + nadh_c\n",
      "PGK: 3pg_c + atp_c <=> 13dpg_c + adp_c\n",
      "PGM: 2pg_c <=> 3pg_c\n",
      "ENO: 2pg_c <=> h2o_c + pep_c\n",
      "PYK: adp_c + h_c + pep_c --> atp_c + pyr_c\n",
      "ATPM: atp_c + h2o_c --> adp_c + h_c + pi_c\n",
      "DM_nadh: nadh_c --> h_c + nad_c\n"
     ]
    }
   ],
   "source": [
    "for reaction, info in rxn_data.items():\n",
    "    print(reaction)\n",
    "    reaction_obj = MassReaction(reaction)\n",
    "    reaction_obj.id=info['id']\n",
    "    reaction= reaction_obj.id\n",
    "    reaction_obj.lower_bound = info['lower_bound']\n",
    "    reaction_obj.upper_bound = info['upper_bound']\n",
    "    reaction_obj.name = info['name']\n",
    "    liver.add_reactions(reaction_obj)\n",
    "    temp=info['metabolites']\n",
    "    reaction_obj.add_metabolites(temp)"
   ]
  },
  {
   "cell_type": "code",
   "execution_count": 12,
   "metadata": {},
   "outputs": [
    {
     "data": {
      "text/html": [
       "\n",
       "            <table>\n",
       "                <tr>\n",
       "                    <td><strong>Reaction identifier</strong></td>\n",
       "                    <td>PGM</td>\n",
       "                </tr><tr>\n",
       "                    <td><strong>Name</strong></td>\n",
       "                    <td>Phosphoglycerate mutase</td>\n",
       "                </tr><tr>\n",
       "                    <td><strong>Memory address</strong></td>\n",
       "                    <td>0x07fb14c9cee50</td>\n",
       "                </tr><tr>\n",
       "                    <td><strong>Subsystem</strong></td>\n",
       "                    <td></td>\n",
       "                </tr><tr>\n",
       "                    <td><strong>Kinetic Reversibility</strong></td>\n",
       "                    <td>True</td>\n",
       "                </tr><tr>\n",
       "                    <td><strong>Stoichiometry</strong></td>\n",
       "                    <td>\n",
       "                        <p style='text-align:right'>3pg_c <=> 2pg_c</p>\n",
       "                        <p style='text-align:right'>3-Phospho-D-glycerate <=> D-Glycerate 2-phosphate</p>\n",
       "                    </td>\n",
       "                </tr><tr>\n",
       "                    <td><strong>GPR</strong></td><td></td>\n",
       "                </tr><tr>\n",
       "                    <td><strong>Bounds</strong></td><td>(-1000.0, 1000.0)</td>\n",
       "                </tr>\n",
       "            </table>\n",
       "        "
      ],
      "text/plain": [
       "<MassReaction PGM at 0x7fb14c9cee50>"
      ]
     },
     "execution_count": 12,
     "metadata": {},
     "output_type": "execute_result"
    }
   ],
   "source": [
    "liver.reactions.PGM.reverse_stoichiometry(inplace=True)\n",
    "liver.reactions.PGM"
   ]
  },
  {
   "cell_type": "code",
   "execution_count": 13,
   "metadata": {},
   "outputs": [
    {
     "data": {
      "text/html": [
       "\n",
       "            <table>\n",
       "                <tr>\n",
       "                    <td><strong>Reaction identifier</strong></td>\n",
       "                    <td>PGK</td>\n",
       "                </tr><tr>\n",
       "                    <td><strong>Name</strong></td>\n",
       "                    <td>Phosphoglycerate kinase</td>\n",
       "                </tr><tr>\n",
       "                    <td><strong>Memory address</strong></td>\n",
       "                    <td>0x07fb14c9ced50</td>\n",
       "                </tr><tr>\n",
       "                    <td><strong>Subsystem</strong></td>\n",
       "                    <td></td>\n",
       "                </tr><tr>\n",
       "                    <td><strong>Kinetic Reversibility</strong></td>\n",
       "                    <td>True</td>\n",
       "                </tr><tr>\n",
       "                    <td><strong>Stoichiometry</strong></td>\n",
       "                    <td>\n",
       "                        <p style='text-align:right'>13dpg_c + adp_c <=> 3pg_c + atp_c</p>\n",
       "                        <p style='text-align:right'>3-Phospho-D-glyceroyl phosphate + ADP C10H12N5O10P2 <=> 3-Phospho-D-glycerate + ATP C10H12N5O13P3</p>\n",
       "                    </td>\n",
       "                </tr><tr>\n",
       "                    <td><strong>GPR</strong></td><td></td>\n",
       "                </tr><tr>\n",
       "                    <td><strong>Bounds</strong></td><td>(-1000.0, 1000.0)</td>\n",
       "                </tr>\n",
       "            </table>\n",
       "        "
      ],
      "text/plain": [
       "<MassReaction PGK at 0x7fb14c9ced50>"
      ]
     },
     "execution_count": 13,
     "metadata": {},
     "output_type": "execute_result"
    }
   ],
   "source": [
    "liver.reactions.PGK.reverse_stoichiometry(inplace=True)\n",
    "liver.reactions.PGK"
   ]
  },
  {
   "cell_type": "code",
   "execution_count": 14,
   "metadata": {},
   "outputs": [],
   "source": [
    "def _replace_compartment_id(self, sep=\"_\", new_cid=None):\n",
    "        \"\"\"Remove or replace the compartment from the ID str of the metabolite.\"\"\"\n",
    "        # Return the identifier as is if no compartment is defined.\n",
    "        if not self.compartment:\n",
    "            return self.id\n",
    "\n",
    "        new_id = self.id.rpartition(sep + str(self.compartment))[0]\n",
    "        if new_cid is not None:\n",
    "            new_id = sep.join((new_id, new_cid))\n",
    "        \n",
    "        return new_id"
   ]
  },
  {
   "cell_type": "code",
   "execution_count": 15,
   "metadata": {},
   "outputs": [],
   "source": [
    "## Creating reactions for gluconeogenesis\n",
    "\n",
    "# G6P = MassReaction(\n",
    "#     \"G6P\",\n",
    "#     name=\"glucose 6-phosphatase\",\n",
    "#     reversible=False)\n",
    "# G6P.add_metabolites({\n",
    "    \n",
    "#     liver.metabolites.get_by_id('g6p_c'): -1,\n",
    "#     liver.metabolites.get_by_id('h2o_c'): -1,\n",
    "#     liver.metabolites.get_by_id('pi_c') : 1,\n",
    "#     liver.metabolites.get_by_id('glc__D_c'): 1})\n",
    "\n",
    "\n",
    "\n",
    "# liver.add_reactions([\n",
    "#    G6P ])"
   ]
  },
  {
   "cell_type": "markdown",
   "metadata": {},
   "source": [
    "### Getting Standard and Physiological Gibbs energies of reactions"
   ]
  },
  {
   "cell_type": "code",
   "execution_count": 16,
   "metadata": {},
   "outputs": [
    {
     "name": "stdout",
     "output_type": "stream",
     "text": [
      "HEX1\n",
      "ΔG'm = -21.9425318095752\n",
      "PGI\n",
      "ΔG'm = 2.722131456515797\n",
      "PFK\n",
      "ΔG'm = -18.780112912199343\n",
      "FBP\n",
      "ΔG'm = -30.04924828167703\n",
      "FBA\n",
      "ΔG'm = 4.6934109500842425\n",
      "TPI\n",
      "ΔG'm = 5.607630168832998\n",
      "GAPD\n",
      "ΔG'm = 18.83682125474597\n",
      "PGK\n",
      "ΔG'm = -19.526821345149187\n",
      "PGM\n",
      "ΔG'm = 4.533264115649047\n",
      "ENO\n",
      "ΔG'm = -3.7806913773820554\n",
      "PYK\n",
      "ΔG'm = -23.835531588279366\n",
      "ATPM\n",
      "ΔG'm = -48.8293611938766\n",
      "DM_nadh\n",
      "ΔG'm = -67.41311195443768\n"
     ]
    }
   ],
   "source": [
    "reaction_str= []\n",
    "\n",
    "cc = ComponentContribution()\n",
    "\n",
    "# optional: changing the aqueous environment parameters\n",
    "cc.p_h = Q_(7.4)\n",
    "cc.p_mg = Q_(3.31)\n",
    "cc.ionic_strength = Q_(\"0.144M\")\n",
    "cc.temperature = Q_(\"310.15K\")\n",
    "R = 0.00831446261815324 #R = 0.00831446261815324 kJ/mol\n",
    "from numpy import exp as exp\n",
    "\n",
    "\n",
    "\n",
    "\n",
    "for reaction in liver.reactions:\n",
    "    rxn_name = reaction.id        \n",
    "    reaction_str = reaction.reaction.split(\" <=> \")\n",
    "    reactants = reaction_str[0]\n",
    "    reactants = reactants.split(\" + \")\n",
    "\n",
    "    for i in range(len(reactants)):\n",
    "        string = reactants[i]\n",
    "        l = len(string)\n",
    "        reactants[i] = string[:l-2]\n",
    "        reactants[i]= \"bigg.metabolite:\" + reactants[i]\n",
    "    reactants_string= \" + \".join(reactants)\n",
    "    reactants_string = str(reactants_string + \" = \")   \n",
    "\n",
    "\n",
    "\n",
    "    products = reaction_str[1]\n",
    "    products = products.split(\" + \")\n",
    "\n",
    "    for i in range(len(products)):\n",
    "        string = products[i]\n",
    "        l = len(string)\n",
    "        products[i] = string[:l-2]            \n",
    "        products[i]= \"bigg.metabolite:\" + products[i]\n",
    "    products_string= ' + '.join(products)\n",
    "    reaction_to_parse = reactants_string + products_string         \n",
    "    rxn_parsed = cc.parse_reaction_formula(reaction_to_parse)\n",
    "\n",
    "    print(rxn_name)\n",
    "    dG0_prime = cc.standard_dg_prime(rxn_parsed)\n",
    "#         print(f\"ΔG'° = {dG0_prime}\")\n",
    "\n",
    "    dGm_prime = cc.physiological_dg_prime(rxn_parsed)\n",
    "    dG_prime_value_in_kj_per_mol = dGm_prime.value.m_as(\"kJ/mol\")\n",
    "    dG0prime_value_in_kj_per_mol = dG0_prime.value.m_as(\"kJ/mol\")\n",
    "    print(f\"ΔG'm = {dG_prime_value_in_kj_per_mol}\")\n",
    "    delG = dG_prime_value_in_kj_per_mol\n",
    "    reaction.Keq = exp( -delG/ (R*310.15))   "
   ]
  },
  {
   "cell_type": "markdown",
   "metadata": {},
   "source": [
    "### Adding exchange reactions"
   ]
  },
  {
   "cell_type": "code",
   "execution_count": 17,
   "metadata": {},
   "outputs": [],
   "source": [
    "for met in [\n",
    "#     'co2_m', 'gdp_m', 'gtp_m', 'pi_m', 'hco3_m','h_m','atp_c','atp_m'\n",
    "    'glc__D_c','h_c','h2o_c','pi_c','pyr_c'\n",
    "           ]:\n",
    "    rxn = MassReaction('EX_%s' % met)\n",
    "    liver.add_reaction(rxn)\n",
    "    rxn.add_metabolites({met: -1})\n",
    "    if met == 'glc__D_c':\n",
    "        rxn.lower_bound = -1 # negative exchange flux = uptake\n",
    "    elif met == 'pyr_c':\n",
    "        rxn.lower_bound = 0\n",
    "    else:\n",
    "        rxn.lower_bound = -1000\n",
    "        \n",
    "\n"
   ]
  },
  {
   "cell_type": "code",
   "execution_count": 18,
   "metadata": {},
   "outputs": [],
   "source": [
    "# liver.reactions.L_LACt2r.lower_bound=-1\n",
    "# liver.reactions.PYRt2.lower_bound=-1\n",
    "# # liver.reactions.GLCt1.lower_bound=-1\n",
    "# liver.reactions.Ht.lower_bound=-1000\n",
    "# liver.reactions.H2Ot.lower_bound=-1000\n",
    "# liver.reactions.PIt.lower_bound=-1000\n"
   ]
  },
  {
   "cell_type": "code",
   "execution_count": 19,
   "metadata": {},
   "outputs": [],
   "source": [
    "liver.metabolites.h_c.charge= 1\n",
    "# liver.metabolites.h_e.charge= 1\n",
    "liver.metabolites.pi_c.charge= -2\n",
    "# liver.metabolites.pi_e.charge= -2\n",
    "# trial.metabolites.pi_m.charge= -2\n",
    "# trial.metabolites.h_m.charge= 1"
   ]
  },
  {
   "cell_type": "code",
   "execution_count": 20,
   "metadata": {},
   "outputs": [
    {
     "data": {
      "text/html": [
       "\n",
       "            <table>\n",
       "                <tr>\n",
       "                    <td><strong>Reaction identifier</strong></td>\n",
       "                    <td>ATPM</td>\n",
       "                </tr><tr>\n",
       "                    <td><strong>Name</strong></td>\n",
       "                    <td>ATP maintenance requirement</td>\n",
       "                </tr><tr>\n",
       "                    <td><strong>Memory address</strong></td>\n",
       "                    <td>0x07fb14c9cec10</td>\n",
       "                </tr><tr>\n",
       "                    <td><strong>Subsystem</strong></td>\n",
       "                    <td></td>\n",
       "                </tr><tr>\n",
       "                    <td><strong>Kinetic Reversibility</strong></td>\n",
       "                    <td>True</td>\n",
       "                </tr><tr>\n",
       "                    <td><strong>Stoichiometry</strong></td>\n",
       "                    <td>\n",
       "                        <p style='text-align:right'>adp_c + h_c + pi_c <=> atp_c + h2o_c</p>\n",
       "                        <p style='text-align:right'>ADP C10H12N5O10P2 + H+ + Phosphate <=> ATP C10H12N5O13P3 + H2O H2O</p>\n",
       "                    </td>\n",
       "                </tr><tr>\n",
       "                    <td><strong>GPR</strong></td><td></td>\n",
       "                </tr><tr>\n",
       "                    <td><strong>Bounds</strong></td><td>(-1000.0, 0)</td>\n",
       "                </tr>\n",
       "            </table>\n",
       "        "
      ],
      "text/plain": [
       "<MassReaction ATPM at 0x7fb14c9cec10>"
      ]
     },
     "execution_count": 20,
     "metadata": {},
     "output_type": "execute_result"
    }
   ],
   "source": [
    "liver.reactions.ATPM.reverse_stoichiometry(inplace=True)\n",
    "liver.reactions.ATPM"
   ]
  },
  {
   "cell_type": "code",
   "execution_count": 21,
   "metadata": {},
   "outputs": [],
   "source": [
    "# pip install minspan"
   ]
  },
  {
   "cell_type": "code",
   "execution_count": 22,
   "metadata": {},
   "outputs": [],
   "source": [
    "import minspan_me as minspan\n",
    "from minspan_me import minspan as minspan\n",
    "from minspan_me import nnz as nnz"
   ]
  },
  {
   "cell_type": "code",
   "execution_count": 23,
   "metadata": {},
   "outputs": [],
   "source": [
    "# from cobra.io import load_matlab_model\n",
    "# # import minspan, nnz\n",
    "# model = liver\n",
    "# solved_fluxes = minspan(model)\n",
    "# # minspan()\n",
    "# print(nnz(solved_fluxes))"
   ]
  },
  {
   "cell_type": "code",
   "execution_count": 24,
   "metadata": {},
   "outputs": [],
   "source": [
    "# solved_fluxes"
   ]
  },
  {
   "cell_type": "code",
   "execution_count": 25,
   "metadata": {
    "scrolled": true
   },
   "outputs": [
    {
     "data": {
      "text/plain": [
       "HEX1           0.0\n",
       "PGI            0.0\n",
       "PFK            0.0\n",
       "FBP            0.0\n",
       "FBA            0.0\n",
       "TPI            0.0\n",
       "GAPD           0.0\n",
       "PGK            0.0\n",
       "PGM            0.0\n",
       "ENO            0.0\n",
       "PYK            0.0\n",
       "ATPM           0.0\n",
       "DM_nadh        0.0\n",
       "EX_glc__D_c   -0.0\n",
       "EX_h_c        -0.0\n",
       "EX_h2o_c      -0.0\n",
       "EX_pi_c        0.0\n",
       "EX_pyr_c      -0.0\n",
       "Name: fluxes, dtype: float64"
      ]
     },
     "execution_count": 25,
     "metadata": {},
     "output_type": "execute_result"
    }
   ],
   "source": [
    "liver.objective = 'ATPM'\n",
    "flux_solution = liver.optimize()\n",
    "flux_solution.fluxes\n",
    "# liver.compute_steady_state_fluxes()\n"
   ]
  },
  {
   "cell_type": "markdown",
   "metadata": {},
   "source": [
    "## Escher FBA"
   ]
  },
  {
   "cell_type": "code",
   "execution_count": 26,
   "metadata": {},
   "outputs": [
    {
     "data": {
      "application/vnd.jupyter.widget-view+json": {
       "model_id": "6df6675eb96c4177a7f3083629e30b86",
       "version_major": 2,
       "version_minor": 0
      },
      "text/plain": [
       "Builder(reaction_data={'HEX1': 0.0, 'PGI': 0.0, 'PFK': 0.0, 'FBP': 0.0, 'FBA': 0.0, 'TPI': 0.0, 'GAPD': 0.0, '…"
      ]
     },
     "metadata": {},
     "output_type": "display_data"
    }
   ],
   "source": [
    "#Escher FBA: shows the solutions on the map\n",
    "flux_data = {\n",
    "    reaction: flux\n",
    "    for reaction, flux in flux_solution.fluxes.items()}\n",
    "\n",
    "#view all the reactions that we need build\n",
    "escher_builder = escher.Builder(\n",
    "    model=liver,\n",
    "    map_json=os.path.join(\n",
    "        maps_dir, \".\".join((\n",
    "            \"Glycolysis\", \"json\"))\n",
    "    ), reaction_data=flux_data)\n",
    "\n",
    "# Display map in notebook\n",
    "escher_builder"
   ]
  },
  {
   "cell_type": "markdown",
   "metadata": {},
   "source": [
    "### Set fluxes"
   ]
  },
  {
   "cell_type": "code",
   "execution_count": 27,
   "metadata": {},
   "outputs": [
    {
     "name": "stdout",
     "output_type": "stream",
     "text": [
      "v_HEX1: 0.0\n",
      "v_PGI: 0.0\n",
      "v_PFK: 0.0\n",
      "v_FBP: 0.0\n",
      "v_FBA: 0.0\n",
      "v_TPI: 0.0\n",
      "v_GAPD: 0.0\n",
      "v_PGK: 0.0\n",
      "v_PGM: 0.0\n",
      "v_ENO: 0.0\n",
      "v_PYK: 0.0\n",
      "v_ATPM: 0.0\n",
      "v_DM_nadh: 0.0\n",
      "v_EX_glc__D_c: -0.0\n",
      "v_EX_h_c: -0.0\n",
      "v_EX_h2o_c: -0.0\n",
      "v_EX_pi_c: 0.0\n",
      "v_EX_pyr_c: -0.0\n"
     ]
    }
   ],
   "source": [
    "reaction_list = liver.reactions\n",
    "for reaction, flux in flux_solution.fluxes.items():\n",
    "    reaction = liver.reactions.get_by_id(reaction)\n",
    "    reaction.steady_state_flux = flux # have to check conversions \n",
    "    # * 1278.605 / 1000 # mmol/gdW*hr --> mmol/L * hr ---> mol/L*hr\n",
    "    print(\"{0}: {1}\".format(reaction.flux_symbol_str,\n",
    "                            reaction.steady_state_flux))"
   ]
  },
  {
   "cell_type": "code",
   "execution_count": 28,
   "metadata": {},
   "outputs": [],
   "source": [
    "#Function to add underscore in front of metabolite identifiers which start with a number\n",
    "def prefix_number_id(id_str):\n",
    "    \"\"\"Prefix identifiers that start with numbers.\"\"\"\n",
    "    if re.match(r\"^\\d\", id_str):\n",
    "        id_str = \"_\" + id_str\n",
    "    return id_str"
   ]
  },
  {
   "cell_type": "code",
   "execution_count": 29,
   "metadata": {},
   "outputs": [],
   "source": [
    "#Loop to edit the names using \"prefix_number_id\" function defined earlier\n",
    "for metabolite in liver.metabolites:\n",
    "    new_met_id = prefix_number_id(metabolite.id)\n",
    "    metabolite.id = new_met_id\n",
    "liver.repair()"
   ]
  },
  {
   "cell_type": "markdown",
   "metadata": {},
   "source": [
    "## Setting initial conditions"
   ]
  },
  {
   "cell_type": "code",
   "execution_count": 30,
   "metadata": {},
   "outputs": [
    {
     "ename": "UnicodeDecodeError",
     "evalue": "'utf-8' codec can't decode bytes in position 15-16: invalid continuation byte",
     "output_type": "error",
     "traceback": [
      "\u001b[0;31m---------------------------------------------------------------------------\u001b[0m",
      "\u001b[0;31mUnicodeDecodeError\u001b[0m                        Traceback (most recent call last)",
      "\u001b[0;32m<ipython-input-30-bccdbf69f0a7>\u001b[0m in \u001b[0;36m<module>\u001b[0;34m\u001b[0m\n\u001b[1;32m      8\u001b[0m \u001b[0;34m\u001b[0m\u001b[0m\n\u001b[1;32m      9\u001b[0m       \u001b[0;31m# displaying the contents of the CSV file\u001b[0m\u001b[0;34m\u001b[0m\u001b[0;34m\u001b[0m\u001b[0;34m\u001b[0m\u001b[0m\n\u001b[0;32m---> 10\u001b[0;31m     \u001b[0;32mfor\u001b[0m \u001b[0mname\u001b[0m\u001b[0;34m,\u001b[0m \u001b[0mvalue\u001b[0m \u001b[0;32min\u001b[0m \u001b[0mcsvFile\u001b[0m\u001b[0;34m:\u001b[0m\u001b[0;34m\u001b[0m\u001b[0;34m\u001b[0m\u001b[0m\n\u001b[0m\u001b[1;32m     11\u001b[0m         \u001b[0mmet_id\u001b[0m \u001b[0;34m=\u001b[0m \u001b[0mliver\u001b[0m\u001b[0;34m.\u001b[0m\u001b[0mmetabolites\u001b[0m\u001b[0;34m.\u001b[0m\u001b[0mget_by_id\u001b[0m\u001b[0;34m(\u001b[0m\u001b[0mname\u001b[0m\u001b[0;34m)\u001b[0m\u001b[0;34m\u001b[0m\u001b[0;34m\u001b[0m\u001b[0m\n\u001b[1;32m     12\u001b[0m         \u001b[0mmet_id\u001b[0m\u001b[0;34m.\u001b[0m\u001b[0mic\u001b[0m \u001b[0;34m=\u001b[0m \u001b[0mfloat\u001b[0m\u001b[0;34m(\u001b[0m\u001b[0mvalue\u001b[0m\u001b[0;34m)\u001b[0m \u001b[0;31m#M\u001b[0m\u001b[0;34m\u001b[0m\u001b[0;34m\u001b[0m\u001b[0m\n",
      "\u001b[0;32m/usr/local/lib/python3.7/codecs.py\u001b[0m in \u001b[0;36mdecode\u001b[0;34m(self, input, final)\u001b[0m\n\u001b[1;32m    320\u001b[0m         \u001b[0;31m# decode input (taking the buffer into account)\u001b[0m\u001b[0;34m\u001b[0m\u001b[0;34m\u001b[0m\u001b[0;34m\u001b[0m\u001b[0m\n\u001b[1;32m    321\u001b[0m         \u001b[0mdata\u001b[0m \u001b[0;34m=\u001b[0m \u001b[0mself\u001b[0m\u001b[0;34m.\u001b[0m\u001b[0mbuffer\u001b[0m \u001b[0;34m+\u001b[0m \u001b[0minput\u001b[0m\u001b[0;34m\u001b[0m\u001b[0;34m\u001b[0m\u001b[0m\n\u001b[0;32m--> 322\u001b[0;31m         \u001b[0;34m(\u001b[0m\u001b[0mresult\u001b[0m\u001b[0;34m,\u001b[0m \u001b[0mconsumed\u001b[0m\u001b[0;34m)\u001b[0m \u001b[0;34m=\u001b[0m \u001b[0mself\u001b[0m\u001b[0;34m.\u001b[0m\u001b[0m_buffer_decode\u001b[0m\u001b[0;34m(\u001b[0m\u001b[0mdata\u001b[0m\u001b[0;34m,\u001b[0m \u001b[0mself\u001b[0m\u001b[0;34m.\u001b[0m\u001b[0merrors\u001b[0m\u001b[0;34m,\u001b[0m \u001b[0mfinal\u001b[0m\u001b[0;34m)\u001b[0m\u001b[0;34m\u001b[0m\u001b[0;34m\u001b[0m\u001b[0m\n\u001b[0m\u001b[1;32m    323\u001b[0m         \u001b[0;31m# keep undecoded input until the next call\u001b[0m\u001b[0;34m\u001b[0m\u001b[0;34m\u001b[0m\u001b[0;34m\u001b[0m\u001b[0m\n\u001b[1;32m    324\u001b[0m         \u001b[0mself\u001b[0m\u001b[0;34m.\u001b[0m\u001b[0mbuffer\u001b[0m \u001b[0;34m=\u001b[0m \u001b[0mdata\u001b[0m\u001b[0;34m[\u001b[0m\u001b[0mconsumed\u001b[0m\u001b[0;34m:\u001b[0m\u001b[0;34m]\u001b[0m\u001b[0;34m\u001b[0m\u001b[0;34m\u001b[0m\u001b[0m\n",
      "\u001b[0;31mUnicodeDecodeError\u001b[0m: 'utf-8' codec can't decode bytes in position 15-16: invalid continuation byte"
     ]
    }
   ],
   "source": [
    "import csv\n",
    "csv_ic = os.path.join(data_dir,\"Concentrations_Glycolysis.xlsx\")\n",
    "# opening the CSV file\n",
    "with open(csv_ic, mode ='r')as file:\n",
    "   \n",
    "  # reading the CSV file\n",
    "    csvFile = csv.reader(file)\n",
    " \n",
    "      # displaying the contents of the CSV file\n",
    "    for name, value in csvFile:\n",
    "        met_id = liver.metabolites.get_by_id(name)\n",
    "        met_id.ic = float(value) #M\n",
    "        print(met_id, \":\", met_id.ic)\n",
    "        print(name,value)"
   ]
  },
  {
   "cell_type": "markdown",
   "metadata": {},
   "source": [
    "## Set H2O/H Constants"
   ]
  },
  {
   "cell_type": "code",
   "execution_count": null,
   "metadata": {},
   "outputs": [],
   "source": [
    "# Set concentrations of hydrogen, water as fixed\n",
    "# Assume hydrogen in all compartments are fixed \n",
    "for metabolite in [\n",
    "    \"h_c\",\n",
    "#     'h_e','h_m',\n",
    "#     'h2o_r','h2o_e',\n",
    "    \"h2o_c\",\n",
    "#     \"glc__D_e\", \"pi_e\",'pi_m',\n",
    "    'pi_c'\n",
    "                  ]:\n",
    "    metabolite = liver.metabolites.get_by_id(metabolite)\n",
    "    metabolite.fixed = True"
   ]
  },
  {
   "cell_type": "code",
   "execution_count": null,
   "metadata": {},
   "outputs": [],
   "source": [
    "for metabolite in [\n",
    "#     'h_m',\n",
    "\"h_c\", \n",
    "#     'h_e',\n",
    "\"h2o_c\",\n",
    "#     'h2o_r','h2o_e' \n",
    "]:\n",
    "    metabolite = liver.metabolites.get_by_id(metabolite)\n",
    "    metabolite.ic = 1 #M\n",
    "# glycogenolysis.metabolites.glc__D_e.ic=0.00001"
   ]
  },
  {
   "cell_type": "code",
   "execution_count": null,
   "metadata": {},
   "outputs": [],
   "source": [
    "for metabolite in liver.metabolites:\n",
    "    print(\"{0}: {1}\".format(metabolite.id, metabolite.ic))"
   ]
  },
  {
   "cell_type": "code",
   "execution_count": null,
   "metadata": {},
   "outputs": [],
   "source": [
    "#Formulate QP minimization list for concentrations\n",
    "conc_solver = ConcSolver(\n",
    "    liver, \n",
    "    excluded_metabolites=[\n",
    "    \"h_c\",\n",
    "#         'h_e', 'h_m',\n",
    "#     'h2o_r','h2o_e',\n",
    "        \"h2o_c\",\n",
    "#     \"pi_e\",\n",
    "#     \"glc__D_e\", \"lac__L_e\",\n",
    "#     \"pyr_e\"\n",
    "    ], \n",
    "#     excluded_reactions=[\"Ht\", \"H2Ot\", \"H2Oter\",'PIter','PIt',\n",
    "#     'G6Pter','GLCter','GLCt1','PYRt2m','PEPtm',\n",
    "#     'L_LACt2r','PYRt2'],\n",
    "\n",
    "    constraint_buffer=1)\n",
    "\n",
    "conc_solver.setup_feasible_qp_problem(\n",
    "fixed_conc_bounds=list(liver.fixed))\n",
    "fixed_Keq_bounds=liver.reactions.list_attr(\"Keq_str\")\n",
    "    \n",
    "#assumption: provide uncertainity to allow for a variance for the Keqs rather than staying fixed\n",
    "#conc_solver.setup_feasible_qp_problem(Keq_percent_deviation=0.1)\n",
    "\n",
    "conc_solution = conc_solver.optimize()\n",
    "conc_solution"
   ]
  },
  {
   "cell_type": "code",
   "execution_count": null,
   "metadata": {},
   "outputs": [],
   "source": [
    "import openpyxl"
   ]
  },
  {
   "cell_type": "code",
   "execution_count": null,
   "metadata": {},
   "outputs": [],
   "source": [
    "#Compare Results\n",
    "csv_ic = os.path.join(data_dir,\"Concentrations_Glycolysis.xlsx\")\n",
    "# ic_df = pd.read_csv(csv_ic)\n",
    "# ic_df\n",
    "ic_info = load_data(\n",
    "    filepath=csv_ic,\n",
    "    sheet_name=\"Sheet1\")\n",
    "ic_info "
   ]
  },
  {
   "cell_type": "code",
   "execution_count": null,
   "metadata": {},
   "outputs": [],
   "source": [
    "conc_comparison_fig, ax = plt.subplots(nrows=1, ncols=1,\n",
    "                                       figsize=(5, 5))\n",
    "\n",
    "plot_comparison(\n",
    "    x=ic_info[\"Concentrations in M\"], y=conc_solution,\n",
    "    compare=\"concentrations\",\n",
    "    observable=[mid for mid in ic_info.index], ax=ax,\n",
    "    legend=\"right outside\", plot_function=\"loglog\",\n",
    "    xlim=(1e-6,0.02), ylim=(1e-6,1e-1),\n",
    "    xy_line=True,\n",
    "    xy_legend=\"best\", xlabel=\"Initial [mol/L]\", ylabel=\"Adjusted [mol/L]\")\n",
    "\n",
    "conc_comparison_fig.tight_layout()\n",
    "update_model_with_concentration_solution(\n",
    "    liver, conc_solution, concentrations=True, inplace=True);"
   ]
  },
  {
   "cell_type": "code",
   "execution_count": null,
   "metadata": {},
   "outputs": [],
   "source": [
    "liver.reactions.EX_glc__D_c.Keq = 1\n",
    "liver.reactions.EX_h_c.Keq = 1 \n",
    "liver.reactions.EX_h2o_c.Keq = 1 \n",
    "liver.reactions.EX_pi_c.Keq = 1 \n",
    "liver.reactions.EX_pyr_c.Keq = 1 "
   ]
  },
  {
   "cell_type": "code",
   "execution_count": null,
   "metadata": {},
   "outputs": [],
   "source": [
    "# liver.reactions.EX_glc__D_c.kf= 1000"
   ]
  },
  {
   "cell_type": "code",
   "execution_count": null,
   "metadata": {},
   "outputs": [],
   "source": [
    "liver.boundary_conditions['glc__D_b']=0.010482807 ##M ## initial condition of the metabolite in the model\n",
    "liver.boundary_conditions['h2o_b']=1 ##M\n",
    "liver.boundary_conditions['h_b']=0.0064 ##M\n",
    "liver.boundary_conditions['pi_b']=0.010482807 ##M\n",
    "liver.boundary_conditions['pyr_b']=0.00048 ##M"
   ]
  },
  {
   "cell_type": "code",
   "execution_count": null,
   "metadata": {},
   "outputs": [],
   "source": [
    "Boundary= [\n",
    "             \"EX_glc__D_c\", \n",
    "            \"EX_h_c\", \n",
    "            \"EX_h2o_c\",\n",
    "            'EX_pyr_c',\n",
    "            'EX_pi_c'\n",
    "]\n",
    "for x in Boundary:\n",
    "    a=liver.reactions.get_by_id(x)\n",
    "    a.kf=1e6"
   ]
  },
  {
   "cell_type": "code",
   "execution_count": null,
   "metadata": {},
   "outputs": [],
   "source": [
    "liver.calculate_PERCs(fluxes={\n",
    "                r: v for r, v in liver.steady_state_fluxes.items()\n",
    "                if not (r.boundary  \n",
    "#                         or r== liver.reactions.GLCter or r== glycogenolysis.reactions.PIter\n",
    "#                                or r== glycogenolysis.reactions.G6Pter or r== glycogenolysis.reactions.PIt or \n",
    "#                                 r== glycogenolysis.reactions.PYRt2m or \n",
    "#                                 r== glycogenolysis.reactions.L_LACt2r or \n",
    "#                                 r== glycogenolysis.reactions.PYRt2 or \n",
    "#                                 r== glycogenolysis.reactions.PEPtm or r== glycogenolysis.reactions.GLCt1 \n",
    "#                                 or r== glycogenolysis.reactions.Ht\n",
    "                       )\n",
    "},\n",
    "                      update_reactions=True)\n",
    "\n",
    "print(\"Forward Rate Constants\\n----------------------\")\n",
    "for reaction in liver.reactions:\n",
    "    print(\"{0}: {1:.6f}\".format(reaction.kf_str, reaction.kf))"
   ]
  },
  {
   "cell_type": "code",
   "execution_count": null,
   "metadata": {},
   "outputs": [],
   "source": [
    "qcqa_model(liver, parameters=True, concentrations=True,\n",
    "           fluxes=True, superfluous=True, elemental=True)\n",
    "\n"
   ]
  },
  {
   "cell_type": "code",
   "execution_count": null,
   "metadata": {},
   "outputs": [],
   "source": [
    "# Setup simulation object\n",
    "simG=Simulation(liver, verbose=False)\n",
    "# Simulate from 0 to 1000 with 10001 points in the output\n",
    "conc_sol, flux_sol = simG.simulate(liver, time=(0, 1e4))\n",
    "# Quickly render and display time profiles\n",
    "conc_sol.view_time_profile()"
   ]
  },
  {
   "cell_type": "code",
   "execution_count": null,
   "metadata": {},
   "outputs": [],
   "source": []
  },
  {
   "cell_type": "code",
   "execution_count": null,
   "metadata": {},
   "outputs": [],
   "source": []
  },
  {
   "cell_type": "code",
   "execution_count": null,
   "metadata": {},
   "outputs": [],
   "source": []
  },
  {
   "cell_type": "code",
   "execution_count": null,
   "metadata": {},
   "outputs": [],
   "source": []
  },
  {
   "cell_type": "code",
   "execution_count": null,
   "metadata": {},
   "outputs": [],
   "source": []
  },
  {
   "cell_type": "code",
   "execution_count": null,
   "metadata": {},
   "outputs": [],
   "source": [
    "liver.metabolites.atp_c.summary()"
   ]
  },
  {
   "cell_type": "code",
   "execution_count": null,
   "metadata": {},
   "outputs": [],
   "source": [
    "from cobra.flux_analysis import flux_variability_analysis"
   ]
  },
  {
   "cell_type": "code",
   "execution_count": null,
   "metadata": {},
   "outputs": [],
   "source": [
    "flux_variability_analysis(liver, liver.reactions[:])"
   ]
  },
  {
   "cell_type": "code",
   "execution_count": null,
   "metadata": {},
   "outputs": [],
   "source": [
    "liver.optimize()\n",
    "liver.summary(fva=0.95)"
   ]
  },
  {
   "cell_type": "code",
   "execution_count": null,
   "metadata": {},
   "outputs": [],
   "source": [
    "cobra.flux_analysis.flux_variability_analysis(\n",
    "    liver, liver.reactions[:], fraction_of_optimum=0.9)"
   ]
  },
  {
   "cell_type": "code",
   "execution_count": null,
   "metadata": {},
   "outputs": [],
   "source": []
  },
  {
   "cell_type": "code",
   "execution_count": null,
   "metadata": {},
   "outputs": [],
   "source": []
  },
  {
   "cell_type": "markdown",
   "metadata": {},
   "source": [
    "### Export"
   ]
  },
  {
   "cell_type": "code",
   "execution_count": null,
   "metadata": {},
   "outputs": [],
   "source": [
    "save_json_mass_model(\n",
    "    mass_model=liver,\n",
    "    filename=os.path.join(extra_dir, liver.id + \".json\"))"
   ]
  },
  {
   "cell_type": "code",
   "execution_count": null,
   "metadata": {},
   "outputs": [],
   "source": []
  }
 ],
 "metadata": {
  "kernelspec": {
   "display_name": "Python 3",
   "language": "python",
   "name": "python3"
  },
  "language_info": {
   "codemirror_mode": {
    "name": "ipython",
    "version": 3
   },
   "file_extension": ".py",
   "mimetype": "text/x-python",
   "name": "python",
   "nbconvert_exporter": "python",
   "pygments_lexer": "ipython3",
   "version": "3.7.9"
  }
 },
 "nbformat": 4,
 "nbformat_minor": 4
}
