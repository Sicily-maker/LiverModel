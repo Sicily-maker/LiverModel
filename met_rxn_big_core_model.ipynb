{
 "cells": [
  {
   "cell_type": "markdown",
   "metadata": {},
   "source": [
    "## extracting from recon3d"
   ]
  },
  {
   "cell_type": "code",
   "execution_count": 1,
   "metadata": {},
   "outputs": [
    {
     "name": "stdout",
     "output_type": "stream",
     "text": [
      "MASSpy version: 0.1.6\n"
     ]
    }
   ],
   "source": [
    "import os\n",
    "import re\n",
    "import warnings\n",
    "from cobra.io.json import load_json_model as load_json_cobra_model\n",
    "import escher\n",
    "import mass\n",
    "import numpy as np\n",
    "import pandas as pd\n",
    "import equilibrator_api\n",
    "from equilibrator_api import ComponentContribution, Q_\n",
    "import sympy as sym\n",
    "from cobra import Model, Reaction, Metabolite\n",
    "import cobra.test\n",
    "from os.path import join\n",
    "from mass.util import qcqa\n",
    "from mass.util import qcqa_model\n",
    "from cobra import DictList\n",
    "from mass import (\n",
    "    MassConfiguration, MassMetabolite, MassModel,\n",
    "    MassReaction, Simulation, UnitDefinition)\n",
    "from mass.io.json import save_json_model as save_json_mass_model\n",
    "from mass.visualization import plot_comparison, plot_time_profile\n",
    "from mass.visualization import (\n",
    "    plot_ensemble_phase_portrait, plot_ensemble_time_profile)\n",
    "mass_config = MassConfiguration()\n",
    "mass_config.irreversible_Keq = float(\"inf\")\n",
    "print(\"MASSpy version: {0}\".format(mass.__version__))\n",
    "from six import iteritems\n",
    "import matplotlib.pyplot as plt\n",
    "from mass.thermo import (\n",
    "    ConcSolver, sample_concentrations,\n",
    "    update_model_with_concentration_solution)\n",
    "from cobra.io.json import *\n",
    "import cobra_dict as c_d\n",
    "import csv\n"
   ]
  },
  {
   "cell_type": "code",
   "execution_count": 2,
   "metadata": {},
   "outputs": [
    {
     "name": "stdout",
     "output_type": "stream",
     "text": [
      "Set parameter Username\n",
      "Academic license - for non-commercial use only - expires 2022-07-04\n"
     ]
    }
   ],
   "source": [
    "#load Recon3D\n",
    "model_dir = os.path.abspath(\"models\")\n",
    "data_dir = os.path.abspath(\"data\")\n",
    "# model_dir\n",
    "R3D=load_json_cobra_model(filename=os.path.join(model_dir,\"Recon3D.json\"))\n",
    "core= load_json_cobra_model(filename=os.path.join(model_dir,\"CoreModel.json\"))\n",
    "\n"
   ]
  },
  {
   "cell_type": "code",
   "execution_count": null,
   "metadata": {},
   "outputs": [],
   "source": []
  },
  {
   "cell_type": "code",
   "execution_count": 3,
   "metadata": {},
   "outputs": [],
   "source": [
    "_REQUIRED_REACTION_ATTRIBUTES = [\n",
    "    \"id\",\n",
    "    \"name\",\n",
    "    \"metabolites\",\n",
    "    \"lower_bound\",\n",
    "    \"upper_bound\",\n",
    "#     \"gene_reaction_rule\",\n",
    "]\n",
    "\n",
    "_REQUIRED_METABOLITE_ATTRIBUTES = [\"id\", \"name\", \"charge\",\"formula\", \"compartment\"]\n",
    "_ORDERED_OPTIONAL_METABOLITE_KEYS = [\n",
    "   \n",
    "    \"_bound\",\n",
    "    \"notes\",\n",
    "    \"annotation\",\n",
    "]\n"
   ]
  },
  {
   "cell_type": "code",
   "execution_count": 4,
   "metadata": {},
   "outputs": [],
   "source": [
    "# def metabolite_to_dict(metabolite):\n",
    "#     new_met = dict()\n",
    "#     for key in _REQUIRED_METABOLITE_ATTRIBUTES:\n",
    "#         new_met[key] = _fix_type(getattr(metabolite, key))\n",
    "#     return new_met\n",
    "from cobra_dict import metabolite_to_dict as metabolite_to_dict\n",
    "from cobra_dict import reaction_to_dict as reaction_to_dict"
   ]
  },
  {
   "cell_type": "code",
   "execution_count": 5,
   "metadata": {},
   "outputs": [
    {
     "data": {
      "text/plain": [
       "187"
      ]
     },
     "execution_count": 5,
     "metadata": {},
     "output_type": "execute_result"
    }
   ],
   "source": [
    "reaction_list=[]\n",
    "for rid in core.reactions:\n",
    "    reaction_list.append(rid.id)\n",
    "len(reaction_list)"
   ]
  },
  {
   "cell_type": "code",
   "execution_count": 6,
   "metadata": {},
   "outputs": [
    {
     "data": {
      "text/plain": [
       "178"
      ]
     },
     "execution_count": 6,
     "metadata": {},
     "output_type": "execute_result"
    }
   ],
   "source": [
    "metabolite_list=[]\n",
    "for mid in core.metabolites:\n",
    "    metabolite_list.append(mid.id)\n",
    "len(metabolite_list)"
   ]
  },
  {
   "cell_type": "code",
   "execution_count": 7,
   "metadata": {},
   "outputs": [],
   "source": [
    "#Function to add underscore in front of metabolite identifiers which start with a number\n",
    "def prefix_number_id(id_str):\n",
    "    \"\"\"Prefix identifiers that start with numbers.\"\"\"\n",
    "    if re.match(r\"^\\d\", id_str):\n",
    "        id_str = \"_\" + id_str\n",
    "    return id_str"
   ]
  },
  {
   "cell_type": "code",
   "execution_count": null,
   "metadata": {},
   "outputs": [],
   "source": [
    "# #Loop to edit the names using \"prefix_number_id\" function defined earlier\n",
    "# for metabolite in glycolysis_ppp_tca_etc.metabolites:\n",
    "#     new_met_id = prefix_number_id(metabolite.id)\n",
    "#     metabolite.id = new_met_id\n",
    "# glycolysis_ppp_tca_etc.repair()"
   ]
  },
  {
   "cell_type": "code",
   "execution_count": 26,
   "metadata": {},
   "outputs": [
    {
     "data": {
      "text/plain": [
       "name           H2O H2O\n",
       "charge               0\n",
       "formula            H2O\n",
       "compartment          c\n",
       "Name: h2o_c, dtype: object"
      ]
     },
     "execution_count": 26,
     "metadata": {},
     "output_type": "execute_result"
    }
   ],
   "source": [
    "met_df=pd.DataFrame()\n",
    "for met in metabolite_list:\n",
    "    if met in R3D.metabolites:\n",
    "        r3d_met= R3D.metabolites.get_by_id(met)\n",
    "        m=metabolite_to_dict(r3d_met)\n",
    "\n",
    "    else:\n",
    "        core_met = core.metabolites.get_by_id(met)\n",
    "        m=metabolite_to_dict(core_met)\n",
    "    df_2=pd.DataFrame.from_dict(m,orient='index')\n",
    "    df_2=df_2.T\n",
    "    met_df= pd.concat([met_df, df_2])\n",
    "\n",
    "met_df=met_df.set_index('id')\n",
    "met_df.loc[\"h2o_c\"]"
   ]
  },
  {
   "cell_type": "code",
   "execution_count": 11,
   "metadata": {},
   "outputs": [],
   "source": [
    "csv_met = os.path.join(data_dir,\"big_core_met_df.csv\")\n",
    "met_df.to_csv(csv_met)"
   ]
  },
  {
   "cell_type": "code",
   "execution_count": 75,
   "metadata": {},
   "outputs": [
    {
     "data": {
      "text/html": [
       "<div>\n",
       "<style scoped>\n",
       "    .dataframe tbody tr th:only-of-type {\n",
       "        vertical-align: middle;\n",
       "    }\n",
       "\n",
       "    .dataframe tbody tr th {\n",
       "        vertical-align: top;\n",
       "    }\n",
       "\n",
       "    .dataframe thead th {\n",
       "        text-align: right;\n",
       "    }\n",
       "</style>\n",
       "<table border=\"1\" class=\"dataframe\">\n",
       "  <thead>\n",
       "    <tr style=\"text-align: right;\">\n",
       "      <th></th>\n",
       "      <th>name</th>\n",
       "      <th>metabolites</th>\n",
       "      <th>lower_bound</th>\n",
       "      <th>upper_bound</th>\n",
       "      <th>gene_reaction_rule</th>\n",
       "      <th>subsystem</th>\n",
       "      <th>notes</th>\n",
       "      <th>annotation</th>\n",
       "    </tr>\n",
       "    <tr>\n",
       "      <th>id</th>\n",
       "      <th></th>\n",
       "      <th></th>\n",
       "      <th></th>\n",
       "      <th></th>\n",
       "      <th></th>\n",
       "      <th></th>\n",
       "      <th></th>\n",
       "      <th></th>\n",
       "    </tr>\n",
       "  </thead>\n",
       "  <tbody>\n",
       "    <tr>\n",
       "      <th>CSm</th>\n",
       "      <td>Citrate synthase</td>\n",
       "      <td>{'accoa_m': -1.0, 'cit_m': 1.0, 'coa_m': 1.0, ...</td>\n",
       "      <td>0.0</td>\n",
       "      <td>1000.0</td>\n",
       "      <td>1431_AT1 or 1431_AT2</td>\n",
       "      <td>Citric acid cycle</td>\n",
       "      <td>{'original_bigg_ids': ['CSm']}</td>\n",
       "      <td>{'bigg.reaction': ['CSm'], 'biocyc': ['META:CI...</td>\n",
       "    </tr>\n",
       "    <tr>\n",
       "      <th>ACONTm</th>\n",
       "      <td>Aconitate hydratase</td>\n",
       "      <td>{'cit_m': -1.0, 'icit_m': 1.0}</td>\n",
       "      <td>-1000.0</td>\n",
       "      <td>1000.0</td>\n",
       "      <td>50_AT1 or 48_AT1</td>\n",
       "      <td>Citric acid cycle</td>\n",
       "      <td>{'original_bigg_ids': ['ACONTm']}</td>\n",
       "      <td>{'bigg.reaction': ['ACONTm'], 'ec-code': ['4.2...</td>\n",
       "    </tr>\n",
       "    <tr>\n",
       "      <th>ICDHxm</th>\n",
       "      <td>Isocitrate dehydrogenase  NAD</td>\n",
       "      <td>{'akg_m': 1.0, 'co2_m': 1.0, 'icit_m': -1.0, '...</td>\n",
       "      <td>0.0</td>\n",
       "      <td>1000.0</td>\n",
       "      <td>(3421_AT2 and 3420_AT3 and 3419_AT1) or (3420_...</td>\n",
       "      <td>Citric acid cycle</td>\n",
       "      <td>{'original_bigg_ids': ['ICDHxm']}</td>\n",
       "      <td>{'bigg.reaction': ['ICDHxm'], 'ec-code': ['1.1...</td>\n",
       "    </tr>\n",
       "    <tr>\n",
       "      <th>AKGDm</th>\n",
       "      <td>2-oxoglutarate dehydrogenase</td>\n",
       "      <td>{'akg_m': -1.0, 'co2_m': 1.0, 'coa_m': -1.0, '...</td>\n",
       "      <td>0.0</td>\n",
       "      <td>1000.0</td>\n",
       "      <td>(4967_AT2 and 1738_AT1 and 8050_AT1 and 1743_A...</td>\n",
       "      <td>Citric acid cycle</td>\n",
       "      <td>{'original_bigg_ids': ['AKGDm']}</td>\n",
       "      <td>{'bigg.reaction': ['AKGDm'], 'biocyc': ['META:...</td>\n",
       "    </tr>\n",
       "    <tr>\n",
       "      <th>SUCOASm</th>\n",
       "      <td>Succinate  CoA ligase  ADP forming</td>\n",
       "      <td>{'adp_m': 1.0, 'atp_m': -1.0, 'coa_m': -1.0, '...</td>\n",
       "      <td>-1000.0</td>\n",
       "      <td>1000.0</td>\n",
       "      <td>8802_AT1 and 8803_AT1</td>\n",
       "      <td>Citric acid cycle</td>\n",
       "      <td>{'original_bigg_ids': ['SUCOASm']}</td>\n",
       "      <td>{'bigg.reaction': ['SUCOASm'], 'biocyc': ['MET...</td>\n",
       "    </tr>\n",
       "    <tr>\n",
       "      <th>...</th>\n",
       "      <td>...</td>\n",
       "      <td>...</td>\n",
       "      <td>...</td>\n",
       "      <td>...</td>\n",
       "      <td>...</td>\n",
       "      <td>...</td>\n",
       "      <td>...</td>\n",
       "      <td>...</td>\n",
       "    </tr>\n",
       "    <tr>\n",
       "      <th>EX_nh4_c</th>\n",
       "      <td></td>\n",
       "      <td>{'nh4_c': -1}</td>\n",
       "      <td>-1000.0</td>\n",
       "      <td>0.0</td>\n",
       "      <td></td>\n",
       "      <td>NaN</td>\n",
       "      <td>NaN</td>\n",
       "      <td>NaN</td>\n",
       "    </tr>\n",
       "    <tr>\n",
       "      <th>EX_so3_c</th>\n",
       "      <td></td>\n",
       "      <td>{'so3_c': -1}</td>\n",
       "      <td>0.0</td>\n",
       "      <td>1000.0</td>\n",
       "      <td></td>\n",
       "      <td>NaN</td>\n",
       "      <td>NaN</td>\n",
       "      <td>NaN</td>\n",
       "    </tr>\n",
       "    <tr>\n",
       "      <th>EX_etoh_c</th>\n",
       "      <td></td>\n",
       "      <td>{'etoh_c': -1}</td>\n",
       "      <td>0.0</td>\n",
       "      <td>1000.0</td>\n",
       "      <td></td>\n",
       "      <td>NaN</td>\n",
       "      <td>NaN</td>\n",
       "      <td>NaN</td>\n",
       "    </tr>\n",
       "    <tr>\n",
       "      <th>EX_glyc_3octa_c</th>\n",
       "      <td></td>\n",
       "      <td>{'glyc_3octa_c': -1}</td>\n",
       "      <td>0.0</td>\n",
       "      <td>1000.0</td>\n",
       "      <td></td>\n",
       "      <td>NaN</td>\n",
       "      <td>NaN</td>\n",
       "      <td>NaN</td>\n",
       "    </tr>\n",
       "    <tr>\n",
       "      <th>EX_fru_c</th>\n",
       "      <td></td>\n",
       "      <td>{'fru_c': -1}</td>\n",
       "      <td>0.0</td>\n",
       "      <td>1000.0</td>\n",
       "      <td></td>\n",
       "      <td>NaN</td>\n",
       "      <td>NaN</td>\n",
       "      <td>NaN</td>\n",
       "    </tr>\n",
       "  </tbody>\n",
       "</table>\n",
       "<p>187 rows × 8 columns</p>\n",
       "</div>"
      ],
      "text/plain": [
       "                                                name  \\\n",
       "id                                                     \n",
       "CSm                                 Citrate synthase   \n",
       "ACONTm                           Aconitate hydratase   \n",
       "ICDHxm                Isocitrate dehydrogenase  NAD    \n",
       "AKGDm                   2-oxoglutarate dehydrogenase   \n",
       "SUCOASm          Succinate  CoA ligase  ADP forming    \n",
       "...                                              ...   \n",
       "EX_nh4_c                                               \n",
       "EX_so3_c                                               \n",
       "EX_etoh_c                                              \n",
       "EX_glyc_3octa_c                                        \n",
       "EX_fru_c                                               \n",
       "\n",
       "                                                       metabolites  \\\n",
       "id                                                                   \n",
       "CSm              {'accoa_m': -1.0, 'cit_m': 1.0, 'coa_m': 1.0, ...   \n",
       "ACONTm                              {'cit_m': -1.0, 'icit_m': 1.0}   \n",
       "ICDHxm           {'akg_m': 1.0, 'co2_m': 1.0, 'icit_m': -1.0, '...   \n",
       "AKGDm            {'akg_m': -1.0, 'co2_m': 1.0, 'coa_m': -1.0, '...   \n",
       "SUCOASm          {'adp_m': 1.0, 'atp_m': -1.0, 'coa_m': -1.0, '...   \n",
       "...                                                            ...   \n",
       "EX_nh4_c                                             {'nh4_c': -1}   \n",
       "EX_so3_c                                             {'so3_c': -1}   \n",
       "EX_etoh_c                                           {'etoh_c': -1}   \n",
       "EX_glyc_3octa_c                               {'glyc_3octa_c': -1}   \n",
       "EX_fru_c                                             {'fru_c': -1}   \n",
       "\n",
       "                lower_bound upper_bound  \\\n",
       "id                                        \n",
       "CSm                     0.0      1000.0   \n",
       "ACONTm              -1000.0      1000.0   \n",
       "ICDHxm                  0.0      1000.0   \n",
       "AKGDm                   0.0      1000.0   \n",
       "SUCOASm             -1000.0      1000.0   \n",
       "...                     ...         ...   \n",
       "EX_nh4_c            -1000.0         0.0   \n",
       "EX_so3_c                0.0      1000.0   \n",
       "EX_etoh_c               0.0      1000.0   \n",
       "EX_glyc_3octa_c         0.0      1000.0   \n",
       "EX_fru_c                0.0      1000.0   \n",
       "\n",
       "                                                gene_reaction_rule  \\\n",
       "id                                                                   \n",
       "CSm                                           1431_AT1 or 1431_AT2   \n",
       "ACONTm                                            50_AT1 or 48_AT1   \n",
       "ICDHxm           (3421_AT2 and 3420_AT3 and 3419_AT1) or (3420_...   \n",
       "AKGDm            (4967_AT2 and 1738_AT1 and 8050_AT1 and 1743_A...   \n",
       "SUCOASm                                      8802_AT1 and 8803_AT1   \n",
       "...                                                            ...   \n",
       "EX_nh4_c                                                             \n",
       "EX_so3_c                                                             \n",
       "EX_etoh_c                                                            \n",
       "EX_glyc_3octa_c                                                      \n",
       "EX_fru_c                                                             \n",
       "\n",
       "                         subsystem                               notes  \\\n",
       "id                                                                       \n",
       "CSm              Citric acid cycle      {'original_bigg_ids': ['CSm']}   \n",
       "ACONTm           Citric acid cycle   {'original_bigg_ids': ['ACONTm']}   \n",
       "ICDHxm           Citric acid cycle   {'original_bigg_ids': ['ICDHxm']}   \n",
       "AKGDm            Citric acid cycle    {'original_bigg_ids': ['AKGDm']}   \n",
       "SUCOASm          Citric acid cycle  {'original_bigg_ids': ['SUCOASm']}   \n",
       "...                            ...                                 ...   \n",
       "EX_nh4_c                       NaN                                 NaN   \n",
       "EX_so3_c                       NaN                                 NaN   \n",
       "EX_etoh_c                      NaN                                 NaN   \n",
       "EX_glyc_3octa_c                NaN                                 NaN   \n",
       "EX_fru_c                       NaN                                 NaN   \n",
       "\n",
       "                                                        annotation  \n",
       "id                                                                  \n",
       "CSm              {'bigg.reaction': ['CSm'], 'biocyc': ['META:CI...  \n",
       "ACONTm           {'bigg.reaction': ['ACONTm'], 'ec-code': ['4.2...  \n",
       "ICDHxm           {'bigg.reaction': ['ICDHxm'], 'ec-code': ['1.1...  \n",
       "AKGDm            {'bigg.reaction': ['AKGDm'], 'biocyc': ['META:...  \n",
       "SUCOASm          {'bigg.reaction': ['SUCOASm'], 'biocyc': ['MET...  \n",
       "...                                                            ...  \n",
       "EX_nh4_c                                                       NaN  \n",
       "EX_so3_c                                                       NaN  \n",
       "EX_etoh_c                                                      NaN  \n",
       "EX_glyc_3octa_c                                                NaN  \n",
       "EX_fru_c                                                       NaN  \n",
       "\n",
       "[187 rows x 8 columns]"
      ]
     },
     "execution_count": 75,
     "metadata": {},
     "output_type": "execute_result"
    }
   ],
   "source": [
    "metabolite_list=[]\n",
    "met_df=pd.DataFrame()\n",
    "rxn_df=pd.DataFrame()\n",
    "reactions_not_in_r3d=[]\n",
    "for rxn in reaction_list:\n",
    "    if rxn in R3D.reactions:\n",
    "        reaction= R3D.reactions.get_by_id(rxn)\n",
    "        r=reaction_to_dict(reaction)\n",
    "    else:\n",
    "        reaction = core.reactions.get_by_id(rxn)\n",
    "        r=reaction_to_dict(reaction)\n",
    "        reactions_not_in_r3d.append(rxn)\n",
    "        \n",
    "    df=pd.DataFrame.from_dict(r,orient='index')\n",
    "    df=df.T\n",
    "    rxn_df= pd.concat([rxn_df, df])\n",
    "    for met in reaction.metabolites:\n",
    "        if met.id not in metabolite_list:\n",
    "            if met.id in R3D.metabolites:\n",
    "                metabolite= R3D.metabolites.get_by_id(met.id)\n",
    "                m=metabolite_to_dict(metabolite)\n",
    "\n",
    "            else:\n",
    "                metabolite = core.metabolites.get_by_id(met.id)\n",
    "                m=metabolite_to_dict(metabolite)\n",
    "            # print(met.id)\n",
    "            metabolite_list.append(met.id)\n",
    "            df_2=pd.DataFrame.from_dict(m,orient='index')\n",
    "            df_2=df_2.T\n",
    "            met_df= pd.concat([met_df, df_2])\n",
    "\n",
    "\n",
    "rxn_df=rxn_df.set_index('id')\n",
    "met_df=met_df.set_index('id')\n",
    "rxn_df\n",
    "# reactions_not_in_r3d"
   ]
  },
  {
   "cell_type": "code",
   "execution_count": 63,
   "metadata": {},
   "outputs": [
    {
     "data": {
      "text/plain": [
       "182"
      ]
     },
     "execution_count": 63,
     "metadata": {},
     "output_type": "execute_result"
    }
   ],
   "source": [
    "len(metabolite_list)"
   ]
  },
  {
   "cell_type": "code",
   "execution_count": 74,
   "metadata": {},
   "outputs": [
    {
     "data": {
      "text/plain": [
       "False"
      ]
     },
     "execution_count": 74,
     "metadata": {},
     "output_type": "execute_result"
    }
   ],
   "source": [
    "\"h2o2_c\" in met_df.index"
   ]
  },
  {
   "cell_type": "code",
   "execution_count": 32,
   "metadata": {},
   "outputs": [
    {
     "data": {
      "text/plain": [
       "['Htm',\n",
       " 'H2Otr',\n",
       " 'PItm',\n",
       " 'PItr',\n",
       " 'PEPtm',\n",
       " 'FACOAL80PROD',\n",
       " 'GAPT',\n",
       " 'AGPTAT',\n",
       " 'LPIN',\n",
       " 'MCOATA',\n",
       " 'ACOATA',\n",
       " 'KAS14',\n",
       " '30AR40',\n",
       " '3HAD40',\n",
       " 'EAR40y',\n",
       " '30AS60',\n",
       " '30AR60',\n",
       " '3HAD60',\n",
       " 'EAR60y',\n",
       " '30AS80',\n",
       " '30AR80',\n",
       " '3HAD80',\n",
       " 'EAR80y',\n",
       " 'FA80ACPHi',\n",
       " 'ACOAD3fm',\n",
       " 'ECOAH3m',\n",
       " 'HACD3m',\n",
       " 'ACACT3rm',\n",
       " 'ACOAD2fm',\n",
       " 'ECOAH2m',\n",
       " 'HACD2m',\n",
       " 'ACACT2rm',\n",
       " 'ACACT1rm',\n",
       " 'EX_h_c',\n",
       " 'EX_pyr_c',\n",
       " 'EX_h2o_c',\n",
       " 'EX_pi_c',\n",
       " 'EX_glc__D_c',\n",
       " 'EX_lac__L_c',\n",
       " 'EX_co2_c',\n",
       " 'EX_o2_c',\n",
       " 'EX_octa_prod_c',\n",
       " 'EX_octa_cons_c',\n",
       " 'EX_urea_c',\n",
       " 'EX_gln__L_c',\n",
       " 'EX_acetone_c',\n",
       " 'EX_bhb_c',\n",
       " 'EX_glu__L_c',\n",
       " 'EX_ser__L_c',\n",
       " 'EX_cys__L_c',\n",
       " 'EX_gly_c',\n",
       " 'EX_glygn2_c',\n",
       " 'EX_Tyr_ggn_c',\n",
       " 'EX_ala__L_c',\n",
       " 'EX_nh4_c',\n",
       " 'EX_so3_c',\n",
       " 'EX_etoh_c',\n",
       " 'EX_glyc_3octa_c',\n",
       " 'EX_fru_c']"
      ]
     },
     "execution_count": 32,
     "metadata": {},
     "output_type": "execute_result"
    }
   ],
   "source": [
    "reactions_not_in_r3d"
   ]
  },
  {
   "cell_type": "code",
   "execution_count": 18,
   "metadata": {},
   "outputs": [],
   "source": [
    "# to_b_added = ['Htm',\n",
    "#  'H2Otr',\n",
    "#  'PItm',\n",
    "#  'PItr',\n",
    "#  'PEPtm',\n",
    "#  'FACOAL80PROD',\n",
    "#  'GAPT',\n",
    "#  'AGPTAT',\n",
    "#  'LPIN',\n",
    "#  'MCOATA',\n",
    "#  'ACOATA',\n",
    "#  'KAS14',\n",
    "#  '30AR40',\n",
    "#  '3HAD40',\n",
    "#  'EAR40y',\n",
    "#  '30AS60',\n",
    "#  '30AR60',\n",
    "#  '3HAD60',\n",
    "#  'EAR60y',\n",
    "#  '30AS80',\n",
    "#  '30AR80',\n",
    "#  '3HAD80',\n",
    "#  'EAR80y',\n",
    "#  'FA80ACPHi',\n",
    "#  'ACOAD3fm',\n",
    "#  'ECOAH3m',\n",
    "#  'HACD3m',\n",
    "#  'ACACT3rm',\n",
    "#  'ACOAD2fm',\n",
    "#  'ECOAH2m',\n",
    "#  'HACD2m',\n",
    "#  'ACACT2rm',\n",
    "#  'ACACT1rm']"
   ]
  },
  {
   "cell_type": "code",
   "execution_count": 65,
   "metadata": {},
   "outputs": [],
   "source": [
    "# for i in to_b_added:\n",
    "csv_met = os.path.join(data_dir,\"big_core_met_df.csv\")\n",
    "met_df.to_csv(csv_met)\n",
    "    "
   ]
  },
  {
   "cell_type": "code",
   "execution_count": 71,
   "metadata": {},
   "outputs": [
    {
     "ename": "KeyError",
     "evalue": "'h2o2_c'",
     "output_type": "error",
     "traceback": [
      "\u001b[1;31m---------------------------------------------------------------------------\u001b[0m",
      "\u001b[1;31mKeyError\u001b[0m                                  Traceback (most recent call last)",
      "\u001b[1;32mc:\\Users\\sicil\\miniconda3\\envs\\massliver\\lib\\site-packages\\pandas\\core\\indexes\\base.py\u001b[0m in \u001b[0;36mget_loc\u001b[1;34m(self, key, method, tolerance)\u001b[0m\n\u001b[0;32m   3620\u001b[0m             \u001b[1;32mtry\u001b[0m\u001b[1;33m:\u001b[0m\u001b[1;33m\u001b[0m\u001b[1;33m\u001b[0m\u001b[0m\n\u001b[1;32m-> 3621\u001b[1;33m                 \u001b[1;32mreturn\u001b[0m \u001b[0mself\u001b[0m\u001b[1;33m.\u001b[0m\u001b[0m_engine\u001b[0m\u001b[1;33m.\u001b[0m\u001b[0mget_loc\u001b[0m\u001b[1;33m(\u001b[0m\u001b[0mcasted_key\u001b[0m\u001b[1;33m)\u001b[0m\u001b[1;33m\u001b[0m\u001b[1;33m\u001b[0m\u001b[0m\n\u001b[0m\u001b[0;32m   3622\u001b[0m             \u001b[1;32mexcept\u001b[0m \u001b[0mKeyError\u001b[0m \u001b[1;32mas\u001b[0m \u001b[0merr\u001b[0m\u001b[1;33m:\u001b[0m\u001b[1;33m\u001b[0m\u001b[1;33m\u001b[0m\u001b[0m\n",
      "\u001b[1;32mc:\\Users\\sicil\\miniconda3\\envs\\massliver\\lib\\site-packages\\pandas\\_libs\\index.pyx\u001b[0m in \u001b[0;36mpandas._libs.index.IndexEngine.get_loc\u001b[1;34m()\u001b[0m\n",
      "\u001b[1;32mc:\\Users\\sicil\\miniconda3\\envs\\massliver\\lib\\site-packages\\pandas\\_libs\\index.pyx\u001b[0m in \u001b[0;36mpandas._libs.index.IndexEngine.get_loc\u001b[1;34m()\u001b[0m\n",
      "\u001b[1;32mpandas\\_libs\\hashtable_class_helper.pxi\u001b[0m in \u001b[0;36mpandas._libs.hashtable.PyObjectHashTable.get_item\u001b[1;34m()\u001b[0m\n",
      "\u001b[1;32mpandas\\_libs\\hashtable_class_helper.pxi\u001b[0m in \u001b[0;36mpandas._libs.hashtable.PyObjectHashTable.get_item\u001b[1;34m()\u001b[0m\n",
      "\u001b[1;31mKeyError\u001b[0m: 'h2o2_c'",
      "\nThe above exception was the direct cause of the following exception:\n",
      "\u001b[1;31mKeyError\u001b[0m                                  Traceback (most recent call last)",
      "\u001b[1;32m~\\AppData\\Local\\Temp\\ipykernel_43520\\205745972.py\u001b[0m in \u001b[0;36m<module>\u001b[1;34m\u001b[0m\n\u001b[1;32m----> 1\u001b[1;33m \u001b[0mmet_df\u001b[0m\u001b[1;33m.\u001b[0m\u001b[0mloc\u001b[0m\u001b[1;33m[\u001b[0m\u001b[1;34m\"h2o2_c\"\u001b[0m\u001b[1;33m]\u001b[0m\u001b[1;33m\u001b[0m\u001b[1;33m\u001b[0m\u001b[0m\n\u001b[0m",
      "\u001b[1;32mc:\\Users\\sicil\\miniconda3\\envs\\massliver\\lib\\site-packages\\pandas\\core\\indexing.py\u001b[0m in \u001b[0;36m__getitem__\u001b[1;34m(self, key)\u001b[0m\n\u001b[0;32m    965\u001b[0m \u001b[1;33m\u001b[0m\u001b[0m\n\u001b[0;32m    966\u001b[0m             \u001b[0mmaybe_callable\u001b[0m \u001b[1;33m=\u001b[0m \u001b[0mcom\u001b[0m\u001b[1;33m.\u001b[0m\u001b[0mapply_if_callable\u001b[0m\u001b[1;33m(\u001b[0m\u001b[0mkey\u001b[0m\u001b[1;33m,\u001b[0m \u001b[0mself\u001b[0m\u001b[1;33m.\u001b[0m\u001b[0mobj\u001b[0m\u001b[1;33m)\u001b[0m\u001b[1;33m\u001b[0m\u001b[1;33m\u001b[0m\u001b[0m\n\u001b[1;32m--> 967\u001b[1;33m             \u001b[1;32mreturn\u001b[0m \u001b[0mself\u001b[0m\u001b[1;33m.\u001b[0m\u001b[0m_getitem_axis\u001b[0m\u001b[1;33m(\u001b[0m\u001b[0mmaybe_callable\u001b[0m\u001b[1;33m,\u001b[0m \u001b[0maxis\u001b[0m\u001b[1;33m=\u001b[0m\u001b[0maxis\u001b[0m\u001b[1;33m)\u001b[0m\u001b[1;33m\u001b[0m\u001b[1;33m\u001b[0m\u001b[0m\n\u001b[0m\u001b[0;32m    968\u001b[0m \u001b[1;33m\u001b[0m\u001b[0m\n\u001b[0;32m    969\u001b[0m     \u001b[1;32mdef\u001b[0m \u001b[0m_is_scalar_access\u001b[0m\u001b[1;33m(\u001b[0m\u001b[0mself\u001b[0m\u001b[1;33m,\u001b[0m \u001b[0mkey\u001b[0m\u001b[1;33m:\u001b[0m \u001b[0mtuple\u001b[0m\u001b[1;33m)\u001b[0m\u001b[1;33m:\u001b[0m\u001b[1;33m\u001b[0m\u001b[1;33m\u001b[0m\u001b[0m\n",
      "\u001b[1;32mc:\\Users\\sicil\\miniconda3\\envs\\massliver\\lib\\site-packages\\pandas\\core\\indexing.py\u001b[0m in \u001b[0;36m_getitem_axis\u001b[1;34m(self, key, axis)\u001b[0m\n\u001b[0;32m   1200\u001b[0m         \u001b[1;31m# fall thru to straight lookup\u001b[0m\u001b[1;33m\u001b[0m\u001b[1;33m\u001b[0m\u001b[1;33m\u001b[0m\u001b[0m\n\u001b[0;32m   1201\u001b[0m         \u001b[0mself\u001b[0m\u001b[1;33m.\u001b[0m\u001b[0m_validate_key\u001b[0m\u001b[1;33m(\u001b[0m\u001b[0mkey\u001b[0m\u001b[1;33m,\u001b[0m \u001b[0maxis\u001b[0m\u001b[1;33m)\u001b[0m\u001b[1;33m\u001b[0m\u001b[1;33m\u001b[0m\u001b[0m\n\u001b[1;32m-> 1202\u001b[1;33m         \u001b[1;32mreturn\u001b[0m \u001b[0mself\u001b[0m\u001b[1;33m.\u001b[0m\u001b[0m_get_label\u001b[0m\u001b[1;33m(\u001b[0m\u001b[0mkey\u001b[0m\u001b[1;33m,\u001b[0m \u001b[0maxis\u001b[0m\u001b[1;33m=\u001b[0m\u001b[0maxis\u001b[0m\u001b[1;33m)\u001b[0m\u001b[1;33m\u001b[0m\u001b[1;33m\u001b[0m\u001b[0m\n\u001b[0m\u001b[0;32m   1203\u001b[0m \u001b[1;33m\u001b[0m\u001b[0m\n\u001b[0;32m   1204\u001b[0m     \u001b[1;32mdef\u001b[0m \u001b[0m_get_slice_axis\u001b[0m\u001b[1;33m(\u001b[0m\u001b[0mself\u001b[0m\u001b[1;33m,\u001b[0m \u001b[0mslice_obj\u001b[0m\u001b[1;33m:\u001b[0m \u001b[0mslice\u001b[0m\u001b[1;33m,\u001b[0m \u001b[0maxis\u001b[0m\u001b[1;33m:\u001b[0m \u001b[0mint\u001b[0m\u001b[1;33m)\u001b[0m\u001b[1;33m:\u001b[0m\u001b[1;33m\u001b[0m\u001b[1;33m\u001b[0m\u001b[0m\n",
      "\u001b[1;32mc:\\Users\\sicil\\miniconda3\\envs\\massliver\\lib\\site-packages\\pandas\\core\\indexing.py\u001b[0m in \u001b[0;36m_get_label\u001b[1;34m(self, label, axis)\u001b[0m\n\u001b[0;32m   1151\u001b[0m     \u001b[1;32mdef\u001b[0m \u001b[0m_get_label\u001b[0m\u001b[1;33m(\u001b[0m\u001b[0mself\u001b[0m\u001b[1;33m,\u001b[0m \u001b[0mlabel\u001b[0m\u001b[1;33m,\u001b[0m \u001b[0maxis\u001b[0m\u001b[1;33m:\u001b[0m \u001b[0mint\u001b[0m\u001b[1;33m)\u001b[0m\u001b[1;33m:\u001b[0m\u001b[1;33m\u001b[0m\u001b[1;33m\u001b[0m\u001b[0m\n\u001b[0;32m   1152\u001b[0m         \u001b[1;31m# GH#5667 this will fail if the label is not present in the axis.\u001b[0m\u001b[1;33m\u001b[0m\u001b[1;33m\u001b[0m\u001b[1;33m\u001b[0m\u001b[0m\n\u001b[1;32m-> 1153\u001b[1;33m         \u001b[1;32mreturn\u001b[0m \u001b[0mself\u001b[0m\u001b[1;33m.\u001b[0m\u001b[0mobj\u001b[0m\u001b[1;33m.\u001b[0m\u001b[0mxs\u001b[0m\u001b[1;33m(\u001b[0m\u001b[0mlabel\u001b[0m\u001b[1;33m,\u001b[0m \u001b[0maxis\u001b[0m\u001b[1;33m=\u001b[0m\u001b[0maxis\u001b[0m\u001b[1;33m)\u001b[0m\u001b[1;33m\u001b[0m\u001b[1;33m\u001b[0m\u001b[0m\n\u001b[0m\u001b[0;32m   1154\u001b[0m \u001b[1;33m\u001b[0m\u001b[0m\n\u001b[0;32m   1155\u001b[0m     \u001b[1;32mdef\u001b[0m \u001b[0m_handle_lowerdim_multi_index_axis0\u001b[0m\u001b[1;33m(\u001b[0m\u001b[0mself\u001b[0m\u001b[1;33m,\u001b[0m \u001b[0mtup\u001b[0m\u001b[1;33m:\u001b[0m \u001b[0mtuple\u001b[0m\u001b[1;33m)\u001b[0m\u001b[1;33m:\u001b[0m\u001b[1;33m\u001b[0m\u001b[1;33m\u001b[0m\u001b[0m\n",
      "\u001b[1;32mc:\\Users\\sicil\\miniconda3\\envs\\massliver\\lib\\site-packages\\pandas\\core\\generic.py\u001b[0m in \u001b[0;36mxs\u001b[1;34m(self, key, axis, level, drop_level)\u001b[0m\n\u001b[0;32m   3862\u001b[0m                     \u001b[0mnew_index\u001b[0m \u001b[1;33m=\u001b[0m \u001b[0mindex\u001b[0m\u001b[1;33m[\u001b[0m\u001b[0mloc\u001b[0m\u001b[1;33m]\u001b[0m\u001b[1;33m\u001b[0m\u001b[1;33m\u001b[0m\u001b[0m\n\u001b[0;32m   3863\u001b[0m         \u001b[1;32melse\u001b[0m\u001b[1;33m:\u001b[0m\u001b[1;33m\u001b[0m\u001b[1;33m\u001b[0m\u001b[0m\n\u001b[1;32m-> 3864\u001b[1;33m             \u001b[0mloc\u001b[0m \u001b[1;33m=\u001b[0m \u001b[0mindex\u001b[0m\u001b[1;33m.\u001b[0m\u001b[0mget_loc\u001b[0m\u001b[1;33m(\u001b[0m\u001b[0mkey\u001b[0m\u001b[1;33m)\u001b[0m\u001b[1;33m\u001b[0m\u001b[1;33m\u001b[0m\u001b[0m\n\u001b[0m\u001b[0;32m   3865\u001b[0m \u001b[1;33m\u001b[0m\u001b[0m\n\u001b[0;32m   3866\u001b[0m             \u001b[1;32mif\u001b[0m \u001b[0misinstance\u001b[0m\u001b[1;33m(\u001b[0m\u001b[0mloc\u001b[0m\u001b[1;33m,\u001b[0m \u001b[0mnp\u001b[0m\u001b[1;33m.\u001b[0m\u001b[0mndarray\u001b[0m\u001b[1;33m)\u001b[0m\u001b[1;33m:\u001b[0m\u001b[1;33m\u001b[0m\u001b[1;33m\u001b[0m\u001b[0m\n",
      "\u001b[1;32mc:\\Users\\sicil\\miniconda3\\envs\\massliver\\lib\\site-packages\\pandas\\core\\indexes\\base.py\u001b[0m in \u001b[0;36mget_loc\u001b[1;34m(self, key, method, tolerance)\u001b[0m\n\u001b[0;32m   3621\u001b[0m                 \u001b[1;32mreturn\u001b[0m \u001b[0mself\u001b[0m\u001b[1;33m.\u001b[0m\u001b[0m_engine\u001b[0m\u001b[1;33m.\u001b[0m\u001b[0mget_loc\u001b[0m\u001b[1;33m(\u001b[0m\u001b[0mcasted_key\u001b[0m\u001b[1;33m)\u001b[0m\u001b[1;33m\u001b[0m\u001b[1;33m\u001b[0m\u001b[0m\n\u001b[0;32m   3622\u001b[0m             \u001b[1;32mexcept\u001b[0m \u001b[0mKeyError\u001b[0m \u001b[1;32mas\u001b[0m \u001b[0merr\u001b[0m\u001b[1;33m:\u001b[0m\u001b[1;33m\u001b[0m\u001b[1;33m\u001b[0m\u001b[0m\n\u001b[1;32m-> 3623\u001b[1;33m                 \u001b[1;32mraise\u001b[0m \u001b[0mKeyError\u001b[0m\u001b[1;33m(\u001b[0m\u001b[0mkey\u001b[0m\u001b[1;33m)\u001b[0m \u001b[1;32mfrom\u001b[0m \u001b[0merr\u001b[0m\u001b[1;33m\u001b[0m\u001b[1;33m\u001b[0m\u001b[0m\n\u001b[0m\u001b[0;32m   3624\u001b[0m             \u001b[1;32mexcept\u001b[0m \u001b[0mTypeError\u001b[0m\u001b[1;33m:\u001b[0m\u001b[1;33m\u001b[0m\u001b[1;33m\u001b[0m\u001b[0m\n\u001b[0;32m   3625\u001b[0m                 \u001b[1;31m# If we have a listlike key, _check_indexing_error will raise\u001b[0m\u001b[1;33m\u001b[0m\u001b[1;33m\u001b[0m\u001b[1;33m\u001b[0m\u001b[0m\n",
      "\u001b[1;31mKeyError\u001b[0m: 'h2o2_c'"
     ]
    }
   ],
   "source": [
    "met_df.loc[\"h2o2_c\"]"
   ]
  },
  {
   "cell_type": "code",
   "execution_count": 67,
   "metadata": {},
   "outputs": [],
   "source": [
    "csv_rxn = os.path.join(data_dir,\"big_core_reaction_df.csv\")\n",
    "rxn_df.to_csv(csv_rxn)"
   ]
  },
  {
   "cell_type": "code",
   "execution_count": 68,
   "metadata": {},
   "outputs": [
    {
     "data": {
      "text/plain": [
       "Index(['CSm', 'ACONTm', 'ICDHxm', 'AKGDm', 'SUCOASm', 'SUCD1m', 'FUMm', 'MDHm',\n",
       "       'NADH2_u10mi', 'FADH2ETC',\n",
       "       ...\n",
       "       'EX_cys__L_c', 'EX_gly_c', 'EX_glygn2_c', 'EX_Tyr_ggn_c', 'EX_ala__L_c',\n",
       "       'EX_nh4_c', 'EX_so3_c', 'EX_etoh_c', 'EX_glyc_3octa_c', 'EX_fru_c'],\n",
       "      dtype='object', name='id', length=187)"
      ]
     },
     "execution_count": 68,
     "metadata": {},
     "output_type": "execute_result"
    }
   ],
   "source": [
    "rxn_df.index"
   ]
  },
  {
   "cell_type": "code",
   "execution_count": 69,
   "metadata": {},
   "outputs": [
    {
     "data": {
      "text/plain": [
       "True"
      ]
     },
     "execution_count": 69,
     "metadata": {},
     "output_type": "execute_result"
    }
   ],
   "source": [
    "rxn_df.index.is_unique"
   ]
  },
  {
   "cell_type": "code",
   "execution_count": 24,
   "metadata": {},
   "outputs": [],
   "source": [
    "json_rxn = os.path.join(data_dir,\"big_core_reaction_df.json\")\n",
    "rxn_df.to_json(json_rxn\n",
    ",orient=\"index\"\n",
    ")   "
   ]
  },
  {
   "cell_type": "code",
   "execution_count": null,
   "metadata": {},
   "outputs": [],
   "source": []
  }
 ],
 "metadata": {
  "interpreter": {
   "hash": "dac1de4d04d521f2478106b8cf0804304a8a54afaab58ac4b602c07888c6e2cc"
  },
  "kernelspec": {
   "display_name": "Python 3.8.12 ('massliver')",
   "language": "python",
   "name": "python3"
  },
  "language_info": {
   "codemirror_mode": {
    "name": "ipython",
    "version": 3
   },
   "file_extension": ".py",
   "mimetype": "text/x-python",
   "name": "python",
   "nbconvert_exporter": "python",
   "pygments_lexer": "ipython3",
   "version": "3.8.12"
  },
  "orig_nbformat": 4
 },
 "nbformat": 4,
 "nbformat_minor": 2
}
