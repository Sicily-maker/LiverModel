{
 "cells": [
  {
   "cell_type": "markdown",
   "metadata": {},
   "source": [
    "## extracting from recon3d"
   ]
  },
  {
   "cell_type": "code",
   "execution_count": 1,
   "metadata": {},
   "outputs": [
    {
     "name": "stdout",
     "output_type": "stream",
     "text": [
      "MASSpy version: 0.1.6\n"
     ]
    }
   ],
   "source": [
    "import os\n",
    "import re\n",
    "import warnings\n",
    "from cobra.io.json import load_json_model as load_json_cobra_model\n",
    "import escher\n",
    "import mass\n",
    "import numpy as np\n",
    "import pandas as pd\n",
    "import equilibrator_api\n",
    "from equilibrator_api import ComponentContribution, Q_\n",
    "import sympy as sym\n",
    "from cobra import Model, Reaction, Metabolite\n",
    "import cobra.test\n",
    "from os.path import join\n",
    "from mass.util import qcqa\n",
    "from mass.util import qcqa_model\n",
    "from cobra import DictList\n",
    "from mass import (\n",
    "    MassConfiguration, MassMetabolite, MassModel,\n",
    "    MassReaction, Simulation, UnitDefinition)\n",
    "from mass.io.json import save_json_model as save_json_mass_model\n",
    "from mass.visualization import plot_comparison, plot_time_profile\n",
    "from mass.visualization import (\n",
    "    plot_ensemble_phase_portrait, plot_ensemble_time_profile)\n",
    "mass_config = MassConfiguration()\n",
    "mass_config.irreversible_Keq = float(\"inf\")\n",
    "print(\"MASSpy version: {0}\".format(mass.__version__))\n",
    "from six import iteritems\n",
    "import matplotlib.pyplot as plt\n",
    "from mass.thermo import (\n",
    "    ConcSolver, sample_concentrations,\n",
    "    update_model_with_concentration_solution)\n",
    "from cobra.io.json import *\n",
    "import cobra_dict as c_d\n",
    "import csv\n"
   ]
  },
  {
   "cell_type": "code",
   "execution_count": 2,
   "metadata": {},
   "outputs": [
    {
     "name": "stdout",
     "output_type": "stream",
     "text": [
      "Set parameter Username\n",
      "Academic license - for non-commercial use only - expires 2023-07-02\n"
     ]
    }
   ],
   "source": [
    "#load Recon3D\n",
    "model_dir = os.path.abspath(\"models\")\n",
    "data_dir = os.path.abspath(\"data\")\n",
    "# model_dir\n",
    "R3D=load_json_cobra_model(filename=os.path.join(model_dir,\"Recon3D.json\"))\n",
    "core= load_json_cobra_model(filename=os.path.join(model_dir,\"CoreModel.json\"))\n",
    "\n"
   ]
  },
  {
   "cell_type": "code",
   "execution_count": 3,
   "metadata": {},
   "outputs": [],
   "source": [
    "# def metabolite_to_dict(metabolite):\n",
    "#     new_met = dict()\n",
    "#     for key in _REQUIRED_METABOLITE_ATTRIBUTES:\n",
    "#         new_met[key] = _fix_type(getattr(metabolite, key))\n",
    "#     return new_met\n",
    "from cobra_dict import metabolite_to_dict\n",
    "from cobra_dict import reaction_to_dict "
   ]
  },
  {
   "cell_type": "code",
   "execution_count": 4,
   "metadata": {},
   "outputs": [],
   "source": [
    "reaction_list=[]\n",
    "# metabolite_list=[]\n",
    "for rid in core.reactions:\n",
    "    reaction_list.append(rid.id)\n",
    "#     rxn = R3D.reactions.get_by_id(rid)\n",
    "#     for met in rxn.metabolites:\n",
    "#         if met.id not in metabolite_list:\n",
    "#             metabolite_list.append(met.id)\n",
    "# len(metabolite_list)\n",
    "# len(reaction_list)"
   ]
  },
  {
   "cell_type": "code",
   "execution_count": 5,
   "metadata": {},
   "outputs": [],
   "source": [
    "# met_df=pd.DataFrame()\n",
    "# for met in metabolite_list:\n",
    "#     r3d_met= R3D.metabolites.get_by_id(met)\n",
    "#     m=metabolite_to_dict(r3d_met)\n",
    "#     df_2=pd.DataFrame.from_dict(m,orient='index')\n",
    "#     df_2=df_2.T\n",
    "#     met_df=met_df.append(df_2)\n",
    "\n",
    "# met_df=met_df.set_index('id')\n",
    "# met_df"
   ]
  },
  {
   "cell_type": "code",
   "execution_count": 6,
   "metadata": {},
   "outputs": [],
   "source": [
    "# met_df=pd.DataFrame()\n",
    "# for met in metabolite_list:\n",
    "#     if met in R3D.metabolites:\n",
    "#         r3d_met= R3D.metabolites.get_by_id(met)\n",
    "#         m=metabolite_to_dict(r3d_met)\n",
    "\n",
    "#     else:\n",
    "#         core_met = core.metabolites.get_by_id(met)\n",
    "#         m=metabolite_to_dict(core_met)\n",
    "#     df_2=pd.DataFrame.from_dict(m,orient='index')\n",
    "#     df_2=df_2.T\n",
    "#     met_df= pd.concat([met_df, df_2])\n",
    "\n",
    "# met_df=met_df.set_index('id')\n",
    "# met_df"
   ]
  },
  {
   "cell_type": "code",
   "execution_count": 7,
   "metadata": {},
   "outputs": [],
   "source": [
    "# csv_met = os.path.join(data_dir,\"big_core_met_df.csv\")\n",
    "# met_df.to_csv(csv_met)"
   ]
  },
  {
   "cell_type": "code",
   "execution_count": 8,
   "metadata": {},
   "outputs": [],
   "source": [
    "# for i in to_b_added:\n",
    "# csv_met = os.path.join(data_dir,\"big_core_met_df.csv\")\n",
    "# met_df.to_csv(csv_met)\n",
    "    "
   ]
  },
  {
   "cell_type": "code",
   "execution_count": 9,
   "metadata": {},
   "outputs": [
    {
     "data": {
      "text/plain": [
       "['CSm',\n",
       " 'ACONTm',\n",
       " 'ICDHxm',\n",
       " 'AKGDm',\n",
       " 'SUCOASm',\n",
       " 'SUCD1m',\n",
       " 'FUMm',\n",
       " 'MDHm',\n",
       " 'NADH2_u10mi',\n",
       " 'FADH2ETC',\n",
       " 'CYOR_u10mi',\n",
       " 'CYOOm2i',\n",
       " 'ATPS4mi',\n",
       " 'Htmi',\n",
       " 'HEX1',\n",
       " 'PGI',\n",
       " 'PFK',\n",
       " 'FBA',\n",
       " 'TPI',\n",
       " 'GAPD',\n",
       " 'PGK',\n",
       " 'PGM',\n",
       " 'ENO',\n",
       " 'PYK',\n",
       " 'ADK1',\n",
       " 'PDHm',\n",
       " 'LDH_L',\n",
       " 'G6PDH2r',\n",
       " 'PGL',\n",
       " 'GND',\n",
       " 'RPI',\n",
       " 'RPE',\n",
       " 'TKT1',\n",
       " 'TKT2',\n",
       " 'TALA',\n",
       " 'PCm',\n",
       " 'PEPCKm',\n",
       " 'FBP',\n",
       " 'G6PPer',\n",
       " 'G6Pter',\n",
       " 'GLCter',\n",
       " 'MALtm',\n",
       " 'MDH',\n",
       " 'PEPCK_re',\n",
       " 'PGMT',\n",
       " 'GALUi',\n",
       " 'GLGNS1',\n",
       " 'GLBRAN',\n",
       " 'GLPASE1',\n",
       " 'GLDBRAN',\n",
       " 'GLPASE2',\n",
       " 'GGNG',\n",
       " 'ACACT1m',\n",
       " 'HMGCOASm',\n",
       " 'HMGLm',\n",
       " 'ADCim',\n",
       " 'BDHm',\n",
       " 'OCOAT1m',\n",
       " 'NDPK1',\n",
       " 'NDPK1m',\n",
       " 'NDPK2',\n",
       " 'HCO3Em',\n",
       " 'ATPtm',\n",
       " 'AKGMALtm',\n",
       " 'ASPTA',\n",
       " 'ASPTAm',\n",
       " 'CITtam',\n",
       " 'CITL',\n",
       " 'ME2',\n",
       " 'ACS',\n",
       " 'ARGN',\n",
       " 'OCBTm',\n",
       " 'ARGSS',\n",
       " 'ARGSL',\n",
       " 'CBPSam',\n",
       " 'NH4tm',\n",
       " 'GDHm',\n",
       " 'GLNS',\n",
       " 'GLUN',\n",
       " 'ALATA_L',\n",
       " 'CYSO',\n",
       " '3SALATAi',\n",
       " '3SPYRSP',\n",
       " 'PGCD',\n",
       " 'PSERT',\n",
       " 'PSP_L',\n",
       " 'GHMT2r',\n",
       " 'ASNS1',\n",
       " 'GLYtm',\n",
       " 'MLTHFtm',\n",
       " 'THFtm',\n",
       " 'KHK',\n",
       " 'FBA2',\n",
       " 'TRIOK',\n",
       " 'ALCD19y',\n",
       " 'GLYK',\n",
       " '2AMACHYD',\n",
       " 'SERHL',\n",
       " 'ALCD2x',\n",
       " 'ACALDtm',\n",
       " 'ALDD2xm',\n",
       " 'ACSm',\n",
       " 'Htm',\n",
       " 'O2tm',\n",
       " 'H2Otr',\n",
       " 'H2Otm',\n",
       " 'PItm',\n",
       " 'PItr',\n",
       " 'CO2tm',\n",
       " 'PPA',\n",
       " 'HCO3E',\n",
       " 'PEPtm',\n",
       " 'PYRt2m',\n",
       " 'ASPGLUm',\n",
       " 'THD1m',\n",
       " 'BHBtm',\n",
       " 'ACETONEt2m',\n",
       " 'ORNt4m',\n",
       " 'FUMtm',\n",
       " 'GLUt2m',\n",
       " 'GLYCLm',\n",
       " 'FACOAL80PROD',\n",
       " 'GAPT',\n",
       " 'AGPTAT',\n",
       " 'LPIN',\n",
       " 'DGAT',\n",
       " 'ACCOAC',\n",
       " 'MCOATA',\n",
       " 'ACOATA',\n",
       " 'KAS14',\n",
       " '30AR40',\n",
       " '3HAD40',\n",
       " 'EAR40y',\n",
       " '30AS60',\n",
       " '30AR60',\n",
       " '3HAD60',\n",
       " 'EAR60y',\n",
       " '30AS80',\n",
       " '30AR80',\n",
       " '3HAD80',\n",
       " 'EAR80y',\n",
       " 'FA80ACPHi',\n",
       " 'FACOAL80',\n",
       " 'C80CPT1',\n",
       " 'r2434',\n",
       " 'CRNtim',\n",
       " 'r0636',\n",
       " 'COAtim',\n",
       " 'ACOAD3fm',\n",
       " 'ECOAH3m',\n",
       " 'HACD3m',\n",
       " 'ACACT3rm',\n",
       " 'ACOAD2fm',\n",
       " 'ECOAH2m',\n",
       " 'HACD2m',\n",
       " 'ACACT2rm',\n",
       " 'ACOAD1fm',\n",
       " 'ECOAH1m',\n",
       " 'HACD1m',\n",
       " 'ACACT1rm',\n",
       " 'ATPM',\n",
       " 'EX_h_c',\n",
       " 'EX_pyr_c',\n",
       " 'EX_h2o_c',\n",
       " 'EX_pi_c',\n",
       " 'EX_glc__D_c',\n",
       " 'EX_lac__L_c',\n",
       " 'EX_co2_c',\n",
       " 'EX_o2_c',\n",
       " 'EX_octa_prod_c',\n",
       " 'EX_octa_cons_c',\n",
       " 'EX_urea_c',\n",
       " 'EX_gln__L_c',\n",
       " 'EX_acetone_c',\n",
       " 'EX_bhb_c',\n",
       " 'EX_glu__L_c',\n",
       " 'EX_ser__L_c',\n",
       " 'EX_cys__L_c',\n",
       " 'EX_gly_c',\n",
       " 'EX_glygn2_c',\n",
       " 'EX_Tyr_ggn_c',\n",
       " 'EX_ala__L_c',\n",
       " 'EX_nh4_c',\n",
       " 'EX_so3_c',\n",
       " 'EX_etoh_c',\n",
       " 'EX_glyc_3octa_c',\n",
       " 'EX_fru_c']"
      ]
     },
     "execution_count": 9,
     "metadata": {},
     "output_type": "execute_result"
    }
   ],
   "source": [
    "reaction_list"
   ]
  },
  {
   "cell_type": "code",
   "execution_count": 10,
   "metadata": {},
   "outputs": [
    {
     "name": "stdout",
     "output_type": "stream",
     "text": [
      "ahaha gochu\n"
     ]
    },
    {
     "data": {
      "text/plain": [
       "['Htm',\n",
       " 'H2Otr',\n",
       " 'PItm',\n",
       " 'PItr',\n",
       " 'PEPtm',\n",
       " 'FACOAL80PROD',\n",
       " 'GAPT',\n",
       " 'AGPTAT',\n",
       " 'LPIN',\n",
       " 'DGAT',\n",
       " 'MCOATA',\n",
       " 'ACOATA',\n",
       " 'KAS14',\n",
       " '30AR40',\n",
       " '3HAD40',\n",
       " 'EAR40y',\n",
       " '30AS60',\n",
       " '30AR60',\n",
       " '3HAD60',\n",
       " 'EAR60y',\n",
       " '30AS80',\n",
       " '30AR80',\n",
       " '3HAD80',\n",
       " 'EAR80y',\n",
       " 'FA80ACPHi',\n",
       " 'ACOAD3fm',\n",
       " 'ECOAH3m',\n",
       " 'HACD3m',\n",
       " 'ACACT3rm',\n",
       " 'ACOAD2fm',\n",
       " 'ECOAH2m',\n",
       " 'HACD2m',\n",
       " 'ACACT2rm',\n",
       " 'ACACT1rm',\n",
       " 'EX_h_c',\n",
       " 'EX_pyr_c',\n",
       " 'EX_h2o_c',\n",
       " 'EX_pi_c',\n",
       " 'EX_glc__D_c',\n",
       " 'EX_lac__L_c',\n",
       " 'EX_co2_c',\n",
       " 'EX_o2_c',\n",
       " 'EX_octa_prod_c',\n",
       " 'EX_octa_cons_c',\n",
       " 'EX_urea_c',\n",
       " 'EX_gln__L_c',\n",
       " 'EX_acetone_c',\n",
       " 'EX_bhb_c',\n",
       " 'EX_glu__L_c',\n",
       " 'EX_ser__L_c',\n",
       " 'EX_cys__L_c',\n",
       " 'EX_gly_c',\n",
       " 'EX_glygn2_c',\n",
       " 'EX_Tyr_ggn_c',\n",
       " 'EX_ala__L_c',\n",
       " 'EX_nh4_c',\n",
       " 'EX_so3_c',\n",
       " 'EX_etoh_c',\n",
       " 'EX_glyc_3octa_c',\n",
       " 'EX_fru_c']"
      ]
     },
     "execution_count": 10,
     "metadata": {},
     "output_type": "execute_result"
    }
   ],
   "source": [
    "metabolite_list=[]\n",
    "met_df=pd.DataFrame()\n",
    "rxn_df=pd.DataFrame()\n",
    "reactions_not_in_r3d=[]\n",
    "for rxn in reaction_list:\n",
    "    if rxn in R3D.reactions:\n",
    "        if rxn == \"DGAT\":\n",
    "            reaction = core.reactions.get_by_id(rxn)\n",
    "            r=reaction_to_dict(reaction)\n",
    "            reactions_not_in_r3d.append(rxn)\n",
    "            print(\"ahaha gochu\")\n",
    "        else:\n",
    "            reaction= R3D.reactions.get_by_id(rxn)\n",
    "            r=reaction_to_dict(reaction)    \n",
    "    else:\n",
    "        reaction = core.reactions.get_by_id(rxn)\n",
    "        r=reaction_to_dict(reaction)\n",
    "        reactions_not_in_r3d.append(rxn)\n",
    "\n",
    "    df=pd.DataFrame.from_dict(r,orient='index')\n",
    "    df=df.T\n",
    "    rxn_df= pd.concat([rxn_df, df])\n",
    "    for met in reaction.metabolites:\n",
    "        if met.id not in metabolite_list:\n",
    "            if met.id in R3D.metabolites:\n",
    "                metabolite= R3D.metabolites.get_by_id(met.id)\n",
    "                m=metabolite_to_dict(metabolite)\n",
    "\n",
    "            else:\n",
    "                metabolite = core.metabolites.get_by_id(met.id)\n",
    "                m=metabolite_to_dict(metabolite)\n",
    "            # print(met.id)\n",
    "            metabolite_list.append(met.id)\n",
    "            df_2=pd.DataFrame.from_dict(m,orient='index')\n",
    "            df_2=df_2.T\n",
    "            met_df= pd.concat([met_df, df_2])\n",
    "\n",
    "\n",
    "rxn_df=rxn_df.set_index('id')\n",
    "met_df=met_df.set_index('id')\n",
    "rxn_df\n",
    "reactions_not_in_r3d"
   ]
  },
  {
   "cell_type": "code",
   "execution_count": 15,
   "metadata": {},
   "outputs": [
    {
     "data": {
      "text/plain": [
       "60"
      ]
     },
     "execution_count": 15,
     "metadata": {},
     "output_type": "execute_result"
    }
   ],
   "source": [
    "len(reactions_not_in_r3d)"
   ]
  },
  {
   "cell_type": "code",
   "execution_count": 11,
   "metadata": {},
   "outputs": [
    {
     "data": {
      "text/plain": [
       "name           Octanoate (n-C8:0)\n",
       "charge                         -1\n",
       "formula                   C8H15O2\n",
       "compartment                     c\n",
       "Name: octa_c, dtype: object"
      ]
     },
     "execution_count": 11,
     "metadata": {},
     "output_type": "execute_result"
    }
   ],
   "source": [
    "met_df.loc[\"octa_c\"]"
   ]
  },
  {
   "cell_type": "code",
   "execution_count": 12,
   "metadata": {},
   "outputs": [],
   "source": [
    "csv_met = os.path.join(data_dir,\"big_core_met_df.csv\")\n",
    "met_df.to_csv(csv_met)"
   ]
  },
  {
   "cell_type": "code",
   "execution_count": 13,
   "metadata": {},
   "outputs": [],
   "source": [
    "csv_rxn = os.path.join(data_dir,\"big_core_reaction_df.csv\")\n",
    "rxn_df.to_csv(csv_rxn)"
   ]
  },
  {
   "cell_type": "code",
   "execution_count": 14,
   "metadata": {},
   "outputs": [],
   "source": [
    "json_rxn = os.path.join(data_dir,\"big_core_reaction_df.json\")\n",
    "rxn_df.to_json(json_rxn\n",
    ",orient=\"index\"\n",
    ")   "
   ]
  },
  {
   "cell_type": "code",
   "execution_count": null,
   "metadata": {},
   "outputs": [],
   "source": []
  }
 ],
 "metadata": {
  "interpreter": {
   "hash": "dac1de4d04d521f2478106b8cf0804304a8a54afaab58ac4b602c07888c6e2cc"
  },
  "kernelspec": {
   "display_name": "Python 3.8.12 ('massliver')",
   "language": "python",
   "name": "python3"
  },
  "language_info": {
   "codemirror_mode": {
    "name": "ipython",
    "version": 3
   },
   "file_extension": ".py",
   "mimetype": "text/x-python",
   "name": "python",
   "nbconvert_exporter": "python",
   "pygments_lexer": "ipython3",
   "version": "3.8.12"
  },
  "orig_nbformat": 4
 },
 "nbformat": 4,
 "nbformat_minor": 2
}
