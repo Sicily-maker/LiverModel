{
 "cells": [
  {
   "cell_type": "markdown",
   "metadata": {},
   "source": [
    "# Gluconeogenesis Model Construction: Notebook\n",
    "#### trying out just one reaction due to minspan "
   ]
  },
  {
   "cell_type": "code",
   "execution_count": null,
   "metadata": {},
   "outputs": [],
   "source": [
    "import os\n",
    "import re\n",
    "import warnings\n",
    "from cobra.io import *\n",
    "from cobra.io.json import *\n",
    "from cobra.io.json import load_json_model as load_json_cobra_model\n",
    "import escher\n",
    "import mass\n",
    "import numpy as np\n",
    "import pandas as pd\n",
    "import equilibrator_api\n",
    "from equilibrator_api import ComponentContribution, Q_\n",
    "import sympy as sym\n",
    "from cobra import Model, Reaction, Metabolite, DictList\n",
    "import cobra.test\n",
    "from os.path import join\n",
    "from mass.util import qcqa,qcqa_model\n",
    "from mass import (\n",
    "    MassConfiguration, MassMetabolite, MassModel,\n",
    "    MassReaction, Simulation, UnitDefinition)\n",
    "from mass.io.json import save_json_model as save_json_mass_model\n",
    "from mass.visualization import plot_comparison, plot_time_profile, plot_ensemble_phase_portrait, plot_ensemble_time_profile\n",
    "mass_config = MassConfiguration()\n",
    "mass_config.irreversible_Keq = float(\"inf\")\n",
    "print(\"MASSpy version: {0}\".format(mass.__version__))\n",
    "from six import iteritems\n",
    "import matplotlib.pyplot as plt\n",
    "from mass.thermo import (\n",
    "    ConcSolver, sample_concentrations,\n",
    "    update_model_with_concentration_solution)\n",
    "import cobra_dict as c_d\n",
    "import csv\n",
    "import altair as alt\n",
    "from minspan.minspan import minspan,nnz\n",
    "# from minspan import minspan,nnz"
   ]
  },
  {
   "cell_type": "code",
   "execution_count": null,
   "metadata": {},
   "outputs": [],
   "source": [
    "import sys\n",
    "# from minspan import minspan,nnz\n",
    "print(sys.version)"
   ]
  },
  {
   "cell_type": "code",
   "execution_count": null,
   "metadata": {},
   "outputs": [],
   "source": [
    "maps_dir = os.path.abspath(\"maps\")\n",
    "data_dir = os.path.abspath(\"data\")\n",
    "dir = os.path.abspath(\"\")\n",
    "model_dir = os.path.abspath(\"models\")\n",
    "minspan_dir= os.path.abspath(\"minspans_csv\")"
   ]
  },
  {
   "cell_type": "code",
   "execution_count": null,
   "metadata": {},
   "outputs": [],
   "source": [
    "gly_gluco_json = os.path.join(model_dir,\"glycolysis_gluconeogenesis.json\")\n",
    "# json.save_json_model(model=trial, filename=gly_gluco_json)"
   ]
  },
  {
   "cell_type": "code",
   "execution_count": null,
   "metadata": {},
   "outputs": [],
   "source": [
    "trial=load_json_cobra_model(filename=gly_gluco_json)"
   ]
  },
  {
   "cell_type": "code",
   "execution_count": 38,
   "metadata": {},
   "outputs": [],
   "source": [
    "# Initiate empty model\n",
    "gluco = cobra.Model()"
   ]
  },
  {
   "cell_type": "code",
   "execution_count": 39,
   "metadata": {},
   "outputs": [
    {
     "name": "stdout",
     "output_type": "stream",
     "text": [
      "HEX1: atp_c + glc__D_c --> adp_c + g6p_c + h_c\n",
      "PGI: g6p_c <=> f6p_c\n",
      "FBP: fdp_c + h2o_c --> f6p_c + pi_c\n",
      "PFK: atp_c + f6p_c --> adp_c + fdp_c + h_c\n",
      "FBA: fdp_c <=> dhap_c + g3p_c\n",
      "TPI: dhap_c <=> g3p_c\n",
      "GAPD: g3p_c + nad_c + pi_c <=> 13dpg_c + h_c + nadh_c\n",
      "PGK: 3pg_c + atp_c <=> 13dpg_c + adp_c\n",
      "PGM: 2pg_c <=> 3pg_c\n",
      "ENO: 2pg_c <=> h2o_c + pep_c\n",
      "PYK: adp_c + h_c + pep_c --> atp_c + pyr_c\n",
      "LDH_L: lac__L_c + nad_c <=> h_c + nadh_c + pyr_c\n",
      "ADK1: amp_c + atp_c <=> 2.0 adp_c\n",
      "ATPM: atp_c + h2o_c --> adp_c + h_c + pi_c\n",
      "NADHM: nadh_c --> h_c + nad_c\n",
      "G6PP: g6p_c + h2o_c --> glc__D_c + pi_c\n"
     ]
    }
   ],
   "source": [
    "# add a lumped reaction to account for pyr--> pep because PYK causes no gluco minspan\n",
    "reactions_from_cobra=[\n",
    "    'HEX1',\n",
    " 'PGI',\n",
    " 'FBP',\n",
    " 'PFK',\n",
    " 'FBA',\n",
    " 'TPI',\n",
    " 'GAPD',\n",
    " 'PGK',\n",
    " 'PGM',\n",
    " 'ENO',\n",
    "#  'PEPCKm',\n",
    " 'PYK',\n",
    "#  'PCm',\n",
    " 'LDH_L',\n",
    "#  'PYRt2m',\n",
    " 'ADK1',\n",
    " 'ATPM',\n",
    " 'NADHM',\n",
    "#  'PEPtm',\n",
    "#  'EX_glc__D_c',\n",
    " 'G6PP']\n",
    "for reaction in trial.reactions:\n",
    "    if reaction.id in reactions_from_cobra:\n",
    "        rxn=reaction\n",
    "        gluco.add_reaction(rxn)\n",
    "        print(rxn)\n",
    "\n",
    "\n",
    "            \n"
   ]
  },
  {
   "cell_type": "code",
   "execution_count": 40,
   "metadata": {},
   "outputs": [],
   "source": [
    "R3D=load_json_cobra_model(filename=os.path.join(model_dir,\"Recon3D.json\"))\n",
    "metabolite_list = ['hco3_c','gtp_c', 'gdp_c','co2_c']\n",
    "for met in metabolite_list:\n",
    "    r3d_met= R3D.metabolites.get_by_id(met)\n",
    "    gluco.add_metabolites(r3d_met)"
   ]
  },
  {
   "cell_type": "code",
   "execution_count": 41,
   "metadata": {},
   "outputs": [],
   "source": [
    "\n",
    "pyc = {'pyr_c': -1,'hco3_c': -1, 'atp_c': -1, 'gtp_c': -1,'gdp_c': 1,'pep_c': 1,'adp_c': 1,'pi_c': 1,'co2_c': 1}\n",
    "rxn = cobra.Reaction('PYC')\n",
    "rxn.lower_bound=0\n",
    "gluco.add_reaction(rxn)\n",
    "rxn.add_metabolites(pyc)"
   ]
  },
  {
   "cell_type": "code",
   "execution_count": 44,
   "metadata": {},
   "outputs": [],
   "source": [
    "gluco.metabolites.h_c.charge= 1\n",
    "# trial.metabolites.h_m.charge= 1\n",
    "# trial.metabolites.h_e.charge= 1\n",
    "gluco.metabolites.pi_c.charge= -2\n",
    "# trial.metabolites.pi_m.charge= -2"
   ]
  },
  {
   "cell_type": "code",
   "execution_count": 45,
   "metadata": {},
   "outputs": [
    {
     "name": "stdout",
     "output_type": "stream",
     "text": [
      "HEX1 {}\n",
      "PGI {}\n",
      "FBP {}\n",
      "PFK {}\n",
      "FBA {}\n",
      "TPI {}\n",
      "GAPD {}\n",
      "PGK {}\n",
      "PGM {}\n",
      "ENO {}\n",
      "PYK {}\n",
      "LDH_L {}\n",
      "ADK1 {}\n",
      "ATPM {}\n",
      "NADHM {'charge': 2}\n",
      "G6PP {}\n",
      "PYC {'charge': -1, 'H': -1}\n"
     ]
    }
   ],
   "source": [
    "#Mass balance check\n",
    "for r in gluco.reactions:\n",
    "    print(r.id,  r.check_mass_balance())"
   ]
  },
  {
   "cell_type": "code",
   "execution_count": 46,
   "metadata": {},
   "outputs": [],
   "source": [
    "for met in ['glc__D_c',  'h2o_c', 'h_c', 'pi_c','lac__L_c','amp_c','atp_c','adp_c',\n",
    "# 'o2_c'\n",
    "# 'atp_m',\n",
    "'hco3_c', 'gtp_c',\n",
    "'co2_c',\n",
    "    # 'h_m', 'pi_m', 'adp_m', \n",
    "    'gdp_c',\n",
    "    #  'co2_m' \n",
    "    ]:\n",
    "    rxn = cobra.Reaction('EX_%s' % met)\n",
    "    gluco.add_reaction(rxn)\n",
    "    rxn.add_metabolites({met: -1})\n",
    "    if met == 'glc__D_c':\n",
    "        rxn.lower_bound = -1 # by convention negative exchange flux = uptake\n",
    "    elif met == 'lac__L_c':\n",
    "        rxn.lower_bound = -1000\n",
    "    else:\n",
    "        rxn.lower_bound = -1000"
   ]
  },
  {
   "cell_type": "code",
   "execution_count": 47,
   "metadata": {},
   "outputs": [
    {
     "data": {
      "application/vnd.jupyter.widget-view+json": {
       "model_id": "bf302ca017aa45dcb7b8fa25acc088d2",
       "version_major": 2,
       "version_minor": 0
      },
      "text/plain": [
       "Builder(highlight_missing=True)"
      ]
     },
     "metadata": {},
     "output_type": "display_data"
    }
   ],
   "source": [
    "#View all the reactions that we need build\n",
    "escher_builder = escher.Builder(\n",
    "    model=gluco,\n",
    "    map_json=os.path.join(\n",
    "        maps_dir,\"Gluconeogenesis.json\"),highlight_missing=True)\n",
    "\n",
    "escher_builder"
   ]
  },
  {
   "cell_type": "code",
   "execution_count": 48,
   "metadata": {},
   "outputs": [],
   "source": [
    "gluco.reactions.EX_glc__D_c.lower_bound=-1000"
   ]
  },
  {
   "cell_type": "code",
   "execution_count": 49,
   "metadata": {},
   "outputs": [
    {
     "data": {
      "text/html": [
       "<strong><em>Optimal</em> solution with objective value 166.667</strong><br><div>\n",
       "<style scoped>\n",
       "    .dataframe tbody tr th:only-of-type {\n",
       "        vertical-align: middle;\n",
       "    }\n",
       "\n",
       "    .dataframe tbody tr th {\n",
       "        vertical-align: top;\n",
       "    }\n",
       "\n",
       "    .dataframe thead th {\n",
       "        text-align: right;\n",
       "    }\n",
       "</style>\n",
       "<table border=\"1\" class=\"dataframe\">\n",
       "  <thead>\n",
       "    <tr style=\"text-align: right;\">\n",
       "      <th></th>\n",
       "      <th>fluxes</th>\n",
       "      <th>reduced_costs</th>\n",
       "    </tr>\n",
       "  </thead>\n",
       "  <tbody>\n",
       "    <tr>\n",
       "      <th>HEX1</th>\n",
       "      <td>0.000000</td>\n",
       "      <td>-0.333333</td>\n",
       "    </tr>\n",
       "    <tr>\n",
       "      <th>PGI</th>\n",
       "      <td>-166.666667</td>\n",
       "      <td>-0.000000</td>\n",
       "    </tr>\n",
       "    <tr>\n",
       "      <th>FBP</th>\n",
       "      <td>166.666667</td>\n",
       "      <td>0.000000</td>\n",
       "    </tr>\n",
       "    <tr>\n",
       "      <th>PFK</th>\n",
       "      <td>0.000000</td>\n",
       "      <td>-0.333333</td>\n",
       "    </tr>\n",
       "    <tr>\n",
       "      <th>FBA</th>\n",
       "      <td>-166.666667</td>\n",
       "      <td>-0.000000</td>\n",
       "    </tr>\n",
       "    <tr>\n",
       "      <th>...</th>\n",
       "      <td>...</td>\n",
       "      <td>...</td>\n",
       "    </tr>\n",
       "    <tr>\n",
       "      <th>EX_adp_c</th>\n",
       "      <td>0.000000</td>\n",
       "      <td>-0.000000</td>\n",
       "    </tr>\n",
       "    <tr>\n",
       "      <th>EX_hco3_c</th>\n",
       "      <td>-333.333333</td>\n",
       "      <td>-0.000000</td>\n",
       "    </tr>\n",
       "    <tr>\n",
       "      <th>EX_gtp_c</th>\n",
       "      <td>-333.333333</td>\n",
       "      <td>-0.000000</td>\n",
       "    </tr>\n",
       "    <tr>\n",
       "      <th>EX_co2_c</th>\n",
       "      <td>333.333333</td>\n",
       "      <td>0.000000</td>\n",
       "    </tr>\n",
       "    <tr>\n",
       "      <th>EX_gdp_c</th>\n",
       "      <td>333.333333</td>\n",
       "      <td>0.000000</td>\n",
       "    </tr>\n",
       "  </tbody>\n",
       "</table>\n",
       "<p>29 rows × 2 columns</p>\n",
       "</div>"
      ],
      "text/plain": [
       "<Solution 166.667 at 0x24e737a8fa0>"
      ]
     },
     "execution_count": 49,
     "metadata": {},
     "output_type": "execute_result"
    }
   ],
   "source": [
    "gluco.objective = 'EX_glc__D_c'\n",
    "flux_solution = gluco.optimize()\n",
    "flux_solution"
   ]
  },
  {
   "cell_type": "code",
   "execution_count": 50,
   "metadata": {},
   "outputs": [
    {
     "data": {
      "text/html": [
       "\n",
       "        <table>\n",
       "            <tr>\n",
       "                <td><strong>Name</strong></td>\n",
       "                <td>None</td>\n",
       "            </tr><tr>\n",
       "                <td><strong>Memory address</strong></td>\n",
       "                <td>0x024e72b62b80</td>\n",
       "            </tr><tr>\n",
       "                <td><strong>Number of metabolites</strong></td>\n",
       "                <td>24</td>\n",
       "            </tr><tr>\n",
       "                <td><strong>Number of reactions</strong></td>\n",
       "                <td>29</td>\n",
       "            </tr><tr>\n",
       "                <td><strong>Number of groups</strong></td>\n",
       "                <td>0</td>\n",
       "            </tr><tr>\n",
       "                <td><strong>Objective expression</strong></td>\n",
       "                <td>1.0*EX_glc__D_c - 1.0*EX_glc__D_c_reverse_5a3d5</td>\n",
       "            </tr><tr>\n",
       "                <td><strong>Compartments</strong></td>\n",
       "                <td>c</td>\n",
       "            </tr>\n",
       "          </table>"
      ],
      "text/plain": [
       "<Model None at 0x24e72b62b80>"
      ]
     },
     "execution_count": 50,
     "metadata": {},
     "output_type": "execute_result"
    }
   ],
   "source": [
    "gluco"
   ]
  },
  {
   "cell_type": "code",
   "execution_count": 51,
   "metadata": {},
   "outputs": [
    {
     "data": {
      "application/vnd.jupyter.widget-view+json": {
       "model_id": "6823fece7e764d1784d2f83058437ad7",
       "version_major": 2,
       "version_minor": 0
      },
      "text/plain": [
       "Builder(reaction_data={'HEX1': 0.0, 'PGI': -166.66666666666669, 'FBP': 166.66666666666669, 'PFK': 0.0, 'FBA': …"
      ]
     },
     "metadata": {},
     "output_type": "display_data"
    }
   ],
   "source": [
    "#Escher FBA: shows the solutions on the map\n",
    "initial_flux_data = {\n",
    "    reaction: flux\n",
    "    for reaction, flux in flux_solution.fluxes.items()}\n",
    "\n",
    "#view all the reactions that we need build\n",
    "escher_builder = escher.Builder(\n",
    "    model=gluco,\n",
    "    map_json=os.path.join(\n",
    "        maps_dir,\"Gluconeogenesis.json\")\n",
    "    , reaction_data=initial_flux_data)\n",
    "\n",
    "# Display map in notebook\n",
    "escher_builder"
   ]
  },
  {
   "cell_type": "code",
   "execution_count": 52,
   "metadata": {},
   "outputs": [],
   "source": [
    "from cobra.io import json\n",
    "import cobra.test\n",
    "import os\n",
    "from os.path import join\n",
    "from glob import glob"
   ]
  },
  {
   "cell_type": "code",
   "execution_count": 53,
   "metadata": {},
   "outputs": [],
   "source": [
    "gluco_json = os.path.join(model_dir,\"gluconeogenesis_shortcut.json\")\n",
    "json.save_json_model(model=gluco, filename=gluco_json)"
   ]
  },
  {
   "cell_type": "code",
   "execution_count": 54,
   "metadata": {},
   "outputs": [
    {
     "data": {
      "text/plain": [
       "'c:\\\\Users\\\\sicil\\\\LiverModel\\\\models\\\\gluconeogenesis_shortcut.json'"
      ]
     },
     "execution_count": 54,
     "metadata": {},
     "output_type": "execute_result"
    }
   ],
   "source": [
    "gluco_json"
   ]
  },
  {
   "cell_type": "code",
   "execution_count": 56,
   "metadata": {},
   "outputs": [
    {
     "name": "stdout",
     "output_type": "stream",
     "text": [
      "c:\\Users\\sicil\\LiverModel\\models\\gluconeogenesis_shortcut.json\n",
      "Read LP format model from file C:\\Users\\sicil\\AppData\\Local\\Temp\\tmpesjwyu9l.lp\n",
      "Reading time = 0.00 seconds\n",
      ": 24 rows, 58 columns, 164 nonzeros\n",
      "Read LP format model from file C:\\Users\\sicil\\AppData\\Local\\Temp\\tmp9qx54pw4.lp\n",
      "Reading time = 0.01 seconds\n",
      ": 82 rows, 87 columns, 330 nonzeros\n",
      "Read LP format model from file C:\\Users\\sicil\\AppData\\Local\\Temp\\tmpyhoh5kv_.lp\n",
      "Reading time = 0.01 seconds\n",
      ": 82 rows, 87 columns, 330 nonzeros\n",
      "Read LP format model from file C:\\Users\\sicil\\AppData\\Local\\Temp\\tmpnr_7y111.lp\n",
      "Reading time = 0.01 seconds\n",
      ": 82 rows, 87 columns, 330 nonzeros\n",
      "Read LP format model from file C:\\Users\\sicil\\AppData\\Local\\Temp\\tmp5hanefuf.lp\n",
      "Reading time = 0.01 seconds\n",
      ": 82 rows, 87 columns, 330 nonzeros\n",
      "Read LP format model from file C:\\Users\\sicil\\AppData\\Local\\Temp\\tmp9jtpvk1f.lp\n",
      "Reading time = 0.01 seconds\n",
      ": 82 rows, 87 columns, 330 nonzeros\n",
      "Read LP format model from file C:\\Users\\sicil\\AppData\\Local\\Temp\\tmpey170ca5.lp\n",
      "Reading time = 0.01 seconds\n",
      ": 82 rows, 87 columns, 330 nonzeros\n",
      "Read LP format model from file C:\\Users\\sicil\\AppData\\Local\\Temp\\tmpshpcdb3p.lp\n",
      "Reading time = 0.01 seconds\n",
      ": 82 rows, 87 columns, 330 nonzeros\n",
      "Read LP format model from file C:\\Users\\sicil\\AppData\\Local\\Temp\\tmp_0s59fqp.lp\n",
      "Reading time = 0.01 seconds\n",
      ": 82 rows, 87 columns, 330 nonzeros\n",
      "Read LP format model from file C:\\Users\\sicil\\AppData\\Local\\Temp\\tmppdqq4o3m.lp\n",
      "Reading time = 0.01 seconds\n",
      ": 82 rows, 87 columns, 330 nonzeros\n",
      "Read LP format model from file C:\\Users\\sicil\\AppData\\Local\\Temp\\tmptaz53l4m.lp\n",
      "Reading time = 0.01 seconds\n",
      ": 82 rows, 87 columns, 330 nonzeros\n",
      "Read LP format model from file C:\\Users\\sicil\\AppData\\Local\\Temp\\tmpc212692u.lp\n",
      "Reading time = 0.01 seconds\n",
      ": 82 rows, 87 columns, 330 nonzeros\n",
      "Read LP format model from file C:\\Users\\sicil\\AppData\\Local\\Temp\\tmp1_wmz9to.lp\n",
      "Reading time = 0.01 seconds\n",
      ": 82 rows, 87 columns, 330 nonzeros\n"
     ]
    }
   ],
   "source": [
    "for model_file in glob(gluco_json):\n",
    "    model_name = model_file.split('/')[-1]\n",
    "    if 'model' not in model_name:\n",
    "        continue\n",
    "    print(model_name)\n",
    "    model= load_json_model(model_file)\n",
    "    if 'NADPHM' in model.reactions:\n",
    "        model.remove_reactions(['NADPHM'])\n",
    "    # media = ['EX_lac__L_c', 'EX_pyr_c', 'EX_octa_c', 'EX_gln__L_c', 'EX_acetone_c', 'EX_bhb_c',\n",
    "    #          'EX_glu__L_c', 'EX_ser__L_c', 'EX_cys__L_c', 'EX_gly_c', 'EX_ala__L_c', 'EX_so3_c',\n",
    "    #         'EX_etoh_c', 'EX_fru_c']\n",
    "    media = ['EX_glc__D_c']\n",
    "    for met in media:\n",
    "        if met in model.reactions:\n",
    "            model.reactions.get_by_id(met).lower_bound = -1000.\n",
    "\n",
    "    rxns = [i.id for i in model.reactions]\n",
    "    # removed blocke reactions because it included ['PEPCKm', 'PCm', 'PYRt2m', 'ADK1', 'PEPtm', 'EX_h2o_c', 'EX_pi_c']\n",
    "    # blocked = cobra.flux_analysis.find_blocked_reactions(model)\n",
    "    # print(blocked)\n",
    "    # model.remove_reactions(blocked)\n",
    "\n",
    "    solved_fluxes = minspan(model, cores=3, verbose=False, timelimit=60)\n",
    "    \n",
    "    df = pd.DataFrame(solved_fluxes.copy(), index=[i.id for i in model.reactions])\n",
    "    df = df/df.abs().max()\n",
    "    for col in range(len(df.columns)):\n",
    "        column=df.iloc[:,col]\n",
    "        vals = column.values\n",
    "        min_val = min([abs(i) for i in vals if i != 0])\n",
    "        corr_fac=1/min_val\n",
    "        # print(corr_fac)\n",
    "        vals=vals*abs(corr_fac)\n",
    "        df['Norm'+ str(col)]=vals\n",
    "    csv_dir = os.path.join(minspan_dir,\"gluco_shortcut_csv.csv\")\n",
    "    df.to_csv(csv_dir)\n",
    "    # csv_minspan_dir = os.path.join(minspan_dir,\"liver_csv_minspan.csv\")\n",
    "## WHere it's stored\n",
    "csv_minspan_dir = os.path.join(minspan_dir,\"gluco_shortcut_csv.csv\")"
   ]
  },
  {
   "cell_type": "code",
   "execution_count": null,
   "metadata": {},
   "outputs": [],
   "source": [
    "for model_file in glob(gluco_json):\n",
    "    model_name = model_file.split('/')[-1]\n",
    "    if 'model' not in model_name:\n",
    "        continue\n",
    "    print(model_name)\n",
    "    model= load_json_model(model_file)\n",
    "    if 'NADPHM' in model.reactions:\n",
    "        model.remove_reactions(['NADPHM'])\n",
    "    # media = ['EX_lac__L_c', 'EX_pyr_c', 'EX_octa_c', 'EX_gln__L_c', 'EX_acetone_c', 'EX_bhb_c',\n",
    "    #          'EX_glu__L_c', 'EX_ser__L_c', 'EX_cys__L_c', 'EX_gly_c', 'EX_ala__L_c', 'EX_so3_c',\n",
    "    #         'EX_etoh_c', 'EX_fru_c']\n",
    "    media = ['EX_glc__D_c']\n",
    "    for met in media:\n",
    "        if met in model.reactions:\n",
    "            model.reactions.get_by_id(met).lower_bound = -1000.\n",
    "\n",
    "    rxns = [i.id for i in model.reactions]\n",
    "    # removed blocke reactions because it included ['PEPCKm', 'PCm', 'PYRt2m', 'ADK1', 'PEPtm', 'EX_h2o_c', 'EX_pi_c']\n",
    "    # blocked = cobra.flux_analysis.find_blocked_reactions(model)\n",
    "    # print(blocked)\n",
    "    # model.remove_reactions(blocked)\n",
    "\n",
    "    solved_fluxes = minspan(model, cores=3, verbose=False, timelimit=60)\n",
    "    \n",
    "    df = pd.DataFrame(solved_fluxes.copy(), index=[i.id for i in model.reactions])\n",
    "    df = df/df.abs().max()\n",
    "    for col in range(len(df.columns)):\n",
    "        column=df.iloc[:,col]\n",
    "        vals = column.values\n",
    "        min_val = min([abs(i) for i in vals if i != 0])\n",
    "        corr_fac=1/min_val\n",
    "        # print(corr_fac)\n",
    "        vals=vals*abs(corr_fac)\n",
    "        df['Norm'+ str(col)]=vals\n",
    "    csv_dir = os.path.join(minspan_dir,\"gluco_csv.csv\")\n",
    "    df.to_csv(csv_dir)\n",
    "    # csv_minspan_dir = os.path.join(minspan_dir,\"liver_csv_minspan.csv\")\n",
    "## WHere it's stored\n",
    "csv_minspan_dir = os.path.join(minspan_dir,\"gluco_csv.csv\")"
   ]
  },
  {
   "cell_type": "code",
   "execution_count": null,
   "metadata": {},
   "outputs": [],
   "source": [
    "#Mass balance check\n",
    "for r in gluco.reactions:\n",
    "    print(r.id,  r.check_mass_balance())"
   ]
  },
  {
   "cell_type": "code",
   "execution_count": null,
   "metadata": {},
   "outputs": [],
   "source": [
    "gluco.metabolites.h_c.charge= 1\n",
    "gluco.metabolites.h_m.charge= 1\n",
    "# trial.metabolites.h_e.charge= 1\n",
    "gluco.metabolites.pi_c.charge= -2\n",
    "gluco.metabolites.pi_m.charge= -2"
   ]
  },
  {
   "cell_type": "code",
   "execution_count": null,
   "metadata": {},
   "outputs": [],
   "source": [
    "#Mass balance check\n",
    "for r in trial.reactions:\n",
    "    print(r.id,  r.check_mass_balance())"
   ]
  },
  {
   "cell_type": "code",
   "execution_count": null,
   "metadata": {},
   "outputs": [],
   "source": [
    "# making dataframe \n",
    "## WHere it's stored\n",
    "csv_minspan_dir = os.path.join(minspan_dir,\"gluco_csv.csv\")\n",
    "df = pd.read_csv(csv_minspan_dir,index_col=0) \n",
    "df"
   ]
  },
  {
   "cell_type": "code",
   "execution_count": null,
   "metadata": {},
   "outputs": [],
   "source": [
    "import escher\n",
    "from escher import Builder"
   ]
  },
  {
   "cell_type": "code",
   "execution_count": null,
   "metadata": {},
   "outputs": [],
   "source": [
    "initial_minspan_data = {\n",
    "    reaction: flux\n",
    "    for reaction, flux in df.iloc[:,5].iteritems()}"
   ]
  },
  {
   "cell_type": "code",
   "execution_count": null,
   "metadata": {},
   "outputs": [],
   "source": [
    "# New instance to prevent modifications to the existing maps\n",
    "escher_builder = Builder(\n",
    "    model=trial,\n",
    "    map_json=os.path.join(\n",
    "        maps_dir,\"Gluconeogenesis.json\"),\n",
    "    reaction_data=initial_minspan_data)\n",
    "\n",
    "# Display map in notebook\n",
    "escher_builder"
   ]
  },
  {
   "cell_type": "markdown",
   "metadata": {},
   "source": [
    "### Making Df of metabolites and reactions, exporting them, and importing to form MASS model"
   ]
  },
  {
   "cell_type": "code",
   "execution_count": null,
   "metadata": {},
   "outputs": [],
   "source": [
    "from cobra_dict import metabolite_to_dict as metabolite_to_dict\n",
    "from cobra_dict import reaction_to_dict as reaction_to_dict"
   ]
  },
  {
   "cell_type": "code",
   "execution_count": null,
   "metadata": {},
   "outputs": [],
   "source": [
    "met_df=pd.DataFrame()\n",
    "for met in gluco.metabolites:\n",
    "    cobra_met= gluco.metabolites.get_by_id(met.id)\n",
    "    m=metabolite_to_dict(cobra_met)\n",
    "    df_2=pd.DataFrame.from_dict(m,orient='index')\n",
    "    df_2=df_2.T\n",
    "    met_df=met_df.append(df_2)\n",
    "met_df=met_df.set_index('id')\n",
    "met_df"
   ]
  },
  {
   "cell_type": "code",
   "execution_count": null,
   "metadata": {},
   "outputs": [],
   "source": [
    "csv_met_cobra = os.path.join(data_dir,\"gluco_cobra_met.csv\")\n",
    "met_df.to_csv(csv_met_cobra)"
   ]
  },
  {
   "cell_type": "code",
   "execution_count": null,
   "metadata": {},
   "outputs": [],
   "source": [
    "rxn_df=pd.DataFrame()\n",
    "for rxn in gluco.reactions:\n",
    "    cobra_rxn= gluco.reactions.get_by_id(rxn.id)\n",
    "    r=reaction_to_dict(cobra_rxn)\n",
    "#     print(r)\n",
    "    df=pd.DataFrame.from_dict(r,orient='index')\n",
    "    df=df.T\n",
    "    rxn_df=rxn_df.append(df)\n",
    "rxn_df=rxn_df.set_index('id')\n",
    "# rxn_df"
   ]
  },
  {
   "cell_type": "code",
   "execution_count": null,
   "metadata": {},
   "outputs": [],
   "source": [
    "json_rxn_cobra = os.path.join(data_dir,\"gluco_cobra_rxn.json\")\n",
    "rxn_df.to_json(json_rxn_cobra,orient=\"index\")"
   ]
  },
  {
   "cell_type": "markdown",
   "metadata": {},
   "source": [
    "## Making MASS model of glycolysis"
   ]
  },
  {
   "cell_type": "code",
   "execution_count": null,
   "metadata": {},
   "outputs": [],
   "source": [
    "liver= MassModel(\"Core_Model\", array_type='DataFrame', dtype=np.int64)"
   ]
  },
  {
   "cell_type": "markdown",
   "metadata": {},
   "source": [
    "#### Add the pathway metabolites and their information to a new MASS model from COBRA model"
   ]
  },
  {
   "cell_type": "code",
   "execution_count": null,
   "metadata": {},
   "outputs": [],
   "source": [
    "# making dataframe of metabolites\n",
    "import json\n",
    "met_csv_df = pd.read_csv(csv_met_cobra,index_col=\"id\")\n",
    "mass_metabolite_info=met_csv_df.to_dict(orient='index')\n",
    "\n",
    "# Loading reaction data as JSON file to maintain data types as dictionaries \n",
    "\n",
    "with open(json_rxn_cobra) as json_file:\n",
    "    mass_rxn_data = json.load(json_file)"
   ]
  },
  {
   "cell_type": "code",
   "execution_count": null,
   "metadata": {},
   "outputs": [],
   "source": [
    "#  Add all the remaining metabolites involved in the pathway\n",
    "for met_id, info in mass_metabolite_info.items():\n",
    "    met = MassMetabolite(met_id, name=info['name'], formula=info['formula'], \n",
    "                           charge=info['charge'], compartment=info['compartment'])\n",
    "    liver.add_metabolites(met)"
   ]
  },
  {
   "cell_type": "code",
   "execution_count": null,
   "metadata": {},
   "outputs": [],
   "source": [
    "for reaction, info in mass_rxn_data.items():\n",
    "    reaction_obj = MassReaction(reaction)\n",
    "    reaction_obj.id = reaction\n",
    "    reaction= reaction_obj.id\n",
    "    reaction_obj.lower_bound = info['lower_bound']\n",
    "    reaction_obj.upper_bound = info['upper_bound']\n",
    "    reaction_obj.name = info['name']\n",
    "    liver.add_reactions(reaction_obj)\n",
    "    temp=info['metabolites']\n",
    "    reaction_obj.add_metabolites(temp)\n",
    "    # print(reaction)"
   ]
  },
  {
   "cell_type": "code",
   "execution_count": null,
   "metadata": {},
   "outputs": [],
   "source": [
    "liver.reactions.PGK.reverse_stoichiometry(inplace=True)\n",
    "liver.reactions.PGM.reverse_stoichiometry(inplace=True)"
   ]
  },
  {
   "cell_type": "markdown",
   "metadata": {},
   "source": [
    "## Setting initial conditions"
   ]
  },
  {
   "cell_type": "code",
   "execution_count": null,
   "metadata": {},
   "outputs": [],
   "source": [
    "import csv\n",
    "import openpyxl"
   ]
  },
  {
   "cell_type": "code",
   "execution_count": null,
   "metadata": {},
   "outputs": [],
   "source": [
    "#Function to load data from the excel sheet\n",
    "def load_data(filepath, sheet_name):\n",
    "    \"\"\"Load Liver data from an excel sheet\"\"\"\n",
    "    df = pd.read_excel(engine='openpyxl',\n",
    "        io=filepath,\n",
    "        sheet_name=sheet_name,\n",
    "        index_col=0)\n",
    "    return df"
   ]
  },
  {
   "cell_type": "code",
   "execution_count": null,
   "metadata": {},
   "outputs": [],
   "source": [
    "#Compare Results\n",
    "excel_ic = os.path.join(data_dir,\"Concentrations.xlsx\")\n",
    "# ic_df = pd.read_csv(csv_ic)\n",
    "# ic_df.set_index()\n",
    "ic_info_all = load_data(\n",
    "    filepath=excel_ic,\n",
    "    sheet_name=\"Concentrations\")\n",
    "ic_info_all.reset_index(level='ID', col_level=1, inplace=True)\n",
    "ic_info_all"
   ]
  },
  {
   "cell_type": "code",
   "execution_count": null,
   "metadata": {},
   "outputs": [],
   "source": [
    "conc_df =pd.DataFrame(ic_info_all.loc[:,[\"ID\",\"Concentration (M)\"]])\n",
    "conc_df.set_index('ID',drop=True,inplace=True)\n",
    "conc_df"
   ]
  },
  {
   "cell_type": "code",
   "execution_count": null,
   "metadata": {},
   "outputs": [],
   "source": [
    "ic_info= pd.DataFrame()\n",
    "# ic_info.append"
   ]
  },
  {
   "cell_type": "code",
   "execution_count": null,
   "metadata": {},
   "outputs": [],
   "source": [
    "print(\"Initial Conditions\\n------------------\")\n",
    "\n",
    "for reaction in liver.reactions:\n",
    "    #Setting inital condition of metabolties from HEPATOKIN  #M \n",
    "    for met in reaction.metabolites:\n",
    "        if met.id in conc_df.index:\n",
    "            mid=met.id\n",
    "            metabolite = reaction.metabolites\n",
    "            ic_value = conc_df.loc[mid,'Concentration (M)']\n",
    "            row = [mid,ic_value]\n",
    "            # column = [ic_value]\n",
    "            ic_info.append(row)\n",
    "            met.ic =  ic_value            \n",
    "for metabolite, ic_value in liver.initial_conditions.items():\n",
    "    print(\"{0}: {1}\".format(metabolite, ic_value))"
   ]
  },
  {
   "cell_type": "code",
   "execution_count": null,
   "metadata": {},
   "outputs": [],
   "source": [
    "ic_info"
   ]
  },
  {
   "cell_type": "markdown",
   "metadata": {},
   "source": [
    "### Getting Standard and Physiological Gibbs energies of reactions to get Keq of reactions"
   ]
  },
  {
   "cell_type": "code",
   "execution_count": null,
   "metadata": {},
   "outputs": [],
   "source": [
    "met_list = []\n",
    "liver.boundary_conditions\n",
    "for reaction in liver.boundary_conditions:\n",
    "    print(reaction)"
   ]
  },
  {
   "cell_type": "code",
   "execution_count": null,
   "metadata": {},
   "outputs": [],
   "source": [
    "# for reaction in liver.boundary:\n",
    "#     excluded_reactions.append(reaction.id)\n",
    "#     reaction.Keq=1    # Setting Keq\n",
    "#     print(reaction,reaction.Keq)"
   ]
  },
  {
   "cell_type": "code",
   "execution_count": null,
   "metadata": {},
   "outputs": [],
   "source": [
    "# Reactions that we don't want to get Keq from equilibrator [exchanges and psuedoreactions] SET THESE MANUALLY\n",
    "# Setting Keq and kf for boundary reactions\n",
    "print(\"Boundary Reactions and Values\\n-----------------------------\")\n",
    "excluded_reactions=[\"ATPM\", \"NADHM\",\"PYRt2m\",\"PEPtm\"]\n",
    "\n",
    "for reaction in liver.boundary:\n",
    "    excluded_reactions.append(reaction.id)\n",
    "    reaction.Keq=1    # Setting Keq\n",
    "    reaction.kf=1e6     # Setting kf\n",
    "    #Setting boundary condition metabolties from ic of metabolite from HEPATOKIN   \n",
    "    for met in reaction.reactants:\n",
    "        if met.id in conc_df.index:\n",
    "            mid=met.id\n",
    "            boundary_met = reaction.boundary_metabolite\n",
    "            bcvalue = conc_df.loc[mid,'Concentration (M)']\n",
    "            liver.boundary_conditions[boundary_met] =  bcvalue\n",
    "            bc_value = liver.boundary_conditions.get(boundary_met)\n",
    "            print(\"{0}\\n{1}: {2}\\n\".format(reaction, boundary_met, bc_value))"
   ]
  },
  {
   "cell_type": "code",
   "execution_count": null,
   "metadata": {},
   "outputs": [],
   "source": [
    "reaction_str= []\n",
    "cc = ComponentContribution()\n",
    "# optional: changing the aqueous environment parameters\n",
    "cc.p_h = Q_(7.4)\n",
    "cc.p_mg = Q_(3.31)\n",
    "cc.ionic_strength = Q_(\"0.144M\")\n",
    "cc.temperature = Q_(\"310.15K\")\n",
    "R = 0.00831446261815324 #R = 0.00831446261815324 kJ/mol\n",
    "from numpy import *\n",
    "Keq_df=pd.DataFrame(columns=[\"Reaction\",\"Keq\"])\n",
    "# Keq_df"
   ]
  },
  {
   "cell_type": "code",
   "execution_count": null,
   "metadata": {},
   "outputs": [],
   "source": [
    "# Getting Keq from equilibrator by forming a reaction string that it can parse through\n",
    "for reaction in liver.reactions:\n",
    "    if reaction.id not in excluded_reactions:\n",
    "        reactants = []\n",
    "        #forming reaction string \n",
    "        for met in reaction.reactants:\n",
    "            id_coeff= reaction.get_coefficient(met)\n",
    "            new_id = met.id.rpartition(\"_\" + str(met.compartment))[0] #removing compartment lettes, for eg \"_c\"\n",
    "            if id_coeff == 1 or id_coeff == -1:\n",
    "                new_id = \"bigg.metabolite:\" + new_id\n",
    "            else:\n",
    "                new_id = str(id_coeff) + \" bigg.metabolite:\" + new_id\n",
    "\n",
    "            reactants.append(new_id)   \n",
    "        reactants_string= \" + \".join(reactants)\n",
    "        reactants_string = str(reactants_string + \" = \")\n",
    "\n",
    "        # Forming product string\n",
    "        products = []\n",
    "        for met in reaction.products:\n",
    "            new_id = met.id.rpartition(\"_\" + str(met.compartment))[0] # removing compartment lettes, for eg \"_c\"\n",
    "            new_id = \"bigg.metabolite:\" + new_id\n",
    "            products.append(new_id)   \n",
    "        products_string= \" + \".join(products)\n",
    "\n",
    "        #final reaction to parse\n",
    "        reaction_to_parse = reactants_string + products_string         \n",
    "        # print(reaction_to_parse)\n",
    "        rxn_parsed = cc.parse_reaction_formula(reaction_to_parse)\n",
    "        print(reaction.id)\n",
    "\n",
    "        #Getting Gibbs energies\n",
    "        dG0_prime = cc.standard_dg_prime(rxn_parsed)\n",
    "    #         print(f\"ΔG'° = {dG0_prime}\")\n",
    "        dGm_prime = cc.physiological_dg_prime(rxn_parsed)\n",
    "        dG_prime_value_in_kj_per_mol = dGm_prime.value.m_as(\"kJ/mol\")\n",
    "        dG0prime_value_in_kj_per_mol = dG0_prime.value.m_as(\"kJ/mol\")\n",
    "    #     print(f\"ΔG'm = {dG_prime_value_in_kj_per_mol}\")\n",
    "        delG = dG_prime_value_in_kj_per_mol\n",
    "\n",
    "        # Calculating Keq from delG\n",
    "        a = exp(-delG/ (R*310.15)) \n",
    "        reaction.Keq = a\n",
    "        print(f\"Keq = {a}\")\n",
    "#         list_keq=[reaction,a]\n",
    "#         rxn_keq=pd.DataFrame(list_keq)\n",
    "        df = pd.DataFrame([[reaction,a]], columns=[\"Reaction\",\"Keq\"])\n",
    "        Keq_df.append(df)\n",
    "\n",
    "# Keq_df    "
   ]
  },
  {
   "cell_type": "code",
   "execution_count": null,
   "metadata": {},
   "outputs": [],
   "source": [
    "liver.reactions.NADHM.Keq=float(\"inf\")\n",
    "liver.reactions.ATPM.Keq=float(\"inf\")\n",
    "liver.reactions.PEPtm.Keq=1\n",
    "liver.reactions.PYRt2m.Keq=1"
   ]
  },
  {
   "cell_type": "code",
   "execution_count": null,
   "metadata": {},
   "outputs": [],
   "source": [
    "print(\"Equilibrium Constants\\n---------------------\")\n",
    "for reaction in liver.reactions:\n",
    "    print(\"{0}: {1}\".format(reaction.Keq_str, reaction.Keq))"
   ]
  },
  {
   "cell_type": "markdown",
   "metadata": {},
   "source": [
    "##  Set Fluxes"
   ]
  },
  {
   "cell_type": "code",
   "execution_count": null,
   "metadata": {},
   "outputs": [],
   "source": [
    "flux_solution"
   ]
  },
  {
   "cell_type": "markdown",
   "metadata": {},
   "source": [
    "### Getting minspan paths from file to form fluxes"
   ]
  },
  {
   "cell_type": "code",
   "execution_count": null,
   "metadata": {},
   "outputs": [],
   "source": []
  },
  {
   "cell_type": "markdown",
   "metadata": {},
   "source": [
    "#### Getting fluxes from FBA"
   ]
  },
  {
   "cell_type": "code",
   "execution_count": null,
   "metadata": {},
   "outputs": [],
   "source": [
    "reaction_list=[]\n",
    "for reaction in liver.reactions:\n",
    "    reaction_list.append(reaction.id)\n"
   ]
  },
  {
   "cell_type": "code",
   "execution_count": null,
   "metadata": {},
   "outputs": [],
   "source": [
    "for reaction, flux in flux_solution[reaction_list].iteritems():\n",
    "    reaction = liver.reactions.get_by_id(reaction)\n",
    "    reaction.steady_state_flux = flux \n",
    "#     * 1278.605 / 1000 # mmol/gdW*hr --> mmol/L * hr ---> mol/L*hr\n",
    "    print(\"{0}: {1}\".format(reaction.flux_symbol_str,\n",
    "                            reaction.steady_state_flux))"
   ]
  },
  {
   "cell_type": "markdown",
   "metadata": {},
   "source": [
    "# work on this function"
   ]
  },
  {
   "cell_type": "code",
   "execution_count": null,
   "metadata": {},
   "outputs": [],
   "source": [
    "# minspan_paths = [\n",
    "#     [1, 1, 1, 1, 1, 2, 2, 2, 2, 2, 2, 0, 0, 0, 2, 2, 0, 1, 0, 2, 0],\n",
    "#     [0, 0, 0, 0, 0, 0, 0, 0, 0, 0, -1, 0, 0, 1, -1, 0, 1, 0, 0, 2, 0],\n",
    "#     [0, 0, 0, 0, 0, 0, 0, 0, 0, 0, 0, 1, 0, 0, 0, 0, 0, 0, 1, 0, 0]]"
   ]
  },
  {
   "cell_type": "code",
   "execution_count": null,
   "metadata": {},
   "outputs": [],
   "source": [
    "# def compute_steady_state_fluxes(\n",
    "#     self, pathways, independent_fluxes, update_reactions=False\n",
    "# ):"
   ]
  },
  {
   "cell_type": "code",
   "execution_count": null,
   "metadata": {},
   "outputs": [],
   "source": [
    "# initial_minspan_data = {\n",
    "#     reaction: flux\n",
    "#     for reaction, flux in df.iloc[:,5].iteritems()}\n",
    "\n",
    "# df.iloc[:,5].values"
   ]
  },
  {
   "cell_type": "code",
   "execution_count": null,
   "metadata": {},
   "outputs": [],
   "source": [
    "# minspan_paths = [\n",
    "# list(df.iloc[:,5].values)]\n",
    "# liver.compute_steady_state_fluxes(\n",
    "#     pathways=minspan_paths,\n",
    "#     independent_fluxes={\n",
    "#         # SK_glc__D_c: 1.12,\n",
    "#         # NADHM: .2 * 1.12,\n",
    "#         # DM_amp_c: 0.014\n",
    "#         },\n",
    "#     update_reactions=True)"
   ]
  },
  {
   "cell_type": "code",
   "execution_count": null,
   "metadata": {},
   "outputs": [],
   "source": [
    "# making dataframe of reactions\n",
    "\n",
    "minspans = pd.read_csv(csv_minspan_dir,index_col=0) "
   ]
  },
  {
   "cell_type": "code",
   "execution_count": null,
   "metadata": {},
   "outputs": [],
   "source": [
    "minspans"
   ]
  },
  {
   "cell_type": "markdown",
   "metadata": {},
   "source": [
    "## Set H2O/H Constants"
   ]
  },
  {
   "cell_type": "code",
   "execution_count": null,
   "metadata": {},
   "outputs": [],
   "source": [
    "# Set concentrations of hydrogen, water as fixed\n",
    "# Assume hydrogen in all compartments are fixed \n",
    "for metabolite in [\n",
    "    \"h_c\",\n",
    "#     'h_e',\n",
    "'h_m',\n",
    "#     'h2o_r','h2o_e',\n",
    "    \"h2o_c\",\n",
    "#     \"glc__D_e\", \"pi_e\",\n",
    "'pi_m',\n",
    "    'pi_c'\n",
    "                  ]:\n",
    "    metabolite = liver.metabolites.get_by_id(metabolite)\n",
    "    metabolite.fixed = True"
   ]
  },
  {
   "cell_type": "code",
   "execution_count": null,
   "metadata": {},
   "outputs": [],
   "source": [
    "for metabolite in [\n",
    "    'h_m',\n",
    "\"h_c\", \n",
    "#     'h_e',\n",
    "\"h2o_c\",\n",
    "#     'h2o_r','h2o_e' \n",
    "]:\n",
    "    metabolite = liver.metabolites.get_by_id(metabolite)\n",
    "    metabolite.ic = 1 #M"
   ]
  },
  {
   "cell_type": "code",
   "execution_count": null,
   "metadata": {},
   "outputs": [],
   "source": [
    "#Formulate QP minimization list for concentrations\n",
    "conc_solver = ConcSolver(\n",
    "    liver, \n",
    "    excluded_metabolites=[\n",
    "    \"h_c\",\n",
    "#         'h_e',\n",
    " 'h_m',\n",
    "#     'h2o_r','h2o_e',\n",
    "        \"h2o_c\",\n",
    "#     \"pi_e\",\n",
    "#     \"glc__D_e\", \"lac__L_e\",\n",
    "#     \"pyr_e\"\n",
    "    ], \n",
    "    excluded_reactions=[\n",
    "        # \"Ht\", \"H2Ot\", \"H2Oter\",'PIter','PIt',\n",
    "#     'G6Pter','GLCter','GLCt1',\n",
    "'PYRt2m','PEPtm',\n",
    "    # 'L_LACt2r','PYRt2'\n",
    "    ],\n",
    "\n",
    "    constraint_buffer=1)\n",
    "\n",
    "conc_solver.setup_feasible_qp_problem(\n",
    "fixed_conc_bounds=list(liver.fixed))\n",
    "# fixed_Keq_bounds=liver.reactions.list_attr(\"Keq_str\")\n",
    "    \n",
    "#assumption: provide uncertainity to allow for a variance for the Keqs rather than staying fixed\n",
    "#conc_solver.setup_feasible_qp_problem(Keq_percent_deviation=0.1)\n",
    "\n",
    "conc_solution = conc_solver.optimize()\n",
    "conc_solution"
   ]
  },
  {
   "cell_type": "code",
   "execution_count": null,
   "metadata": {},
   "outputs": [],
   "source": [
    "conc_solution.concentrations"
   ]
  },
  {
   "cell_type": "code",
   "execution_count": null,
   "metadata": {},
   "outputs": [],
   "source": [
    "conc_df.index"
   ]
  },
  {
   "cell_type": "code",
   "execution_count": null,
   "metadata": {},
   "outputs": [],
   "source": [
    "conc_comparison_fig, ax = plt.subplots(nrows=1, ncols=1,\n",
    "                                       figsize=(5, 5))\n",
    "\n",
    "plot_comparison(\n",
    "    x=conc_df[\"Concentration (M)\"], y=conc_solution,\n",
    "    compare=\"concentrations\",\n",
    "    observable=[mid for mid in conc_df.index], ax=ax,\n",
    "    legend=\"right outside\", plot_function=\"loglog\", \n",
    "    xlim=(1e-6,0.02), ylim=(1e-6,1e-1),\n",
    "    xy_line=True,\n",
    "    xy_legend=\"best\", xlabel=\"Initial [mol/L]\", ylabel=\"Adjusted [mol/L]\")\n",
    "\n",
    "conc_comparison_fig.tight_layout()\n",
    "update_model_with_concentration_solution(\n",
    "    liver, conc_solution, concentrations=True, inplace=True);"
   ]
  },
  {
   "cell_type": "code",
   "execution_count": null,
   "metadata": {},
   "outputs": [],
   "source": [
    "# Keq_data = pd.read_csv(\"./data/analysis_data/equilibrium_constants.csv\", index_col=0)\n",
    "\n",
    "# Keq_data_comparison_fig, ax = plt.subplots(nrows=1, ncols=1, figsize=(5, 5))\n",
    "# plot_comparison(\n",
    "#     x=Keq_data[\"Initial\"], y=Keq_data[\"Adjusted\"], ax=ax,\n",
    "#     title=\"Equilibrium Constants comparison\",\n",
    "#     legend=\"right outside\", plot_function=\"loglog\",\n",
    "#     xlim=(1e-5, 1e5), ylim=(1e-5, 1e5), \n",
    "#     xy_line=True,\n",
    "#     xy_legend=\"best\", xlabel=\"Initial\", ylabel=\"Adjusted\")\n",
    "\n",
    "# Keq_data_comparison_fig.tight_layout()"
   ]
  },
  {
   "cell_type": "code",
   "execution_count": null,
   "metadata": {},
   "outputs": [],
   "source": [
    "Boundary= [\n",
    "    \"ATPM\",\n",
    "    \n",
    "#     'EX_nad_c',\n",
    "    # \"EX_lac__L_c\"\n",
    "]\n",
    "for x in Boundary:\n",
    "    a=liver.reactions.get_by_id(x)\n",
    "    a.kf=1e6"
   ]
  },
  {
   "cell_type": "code",
   "execution_count": null,
   "metadata": {},
   "outputs": [],
   "source": [
    " liver.steady_state_fluxes.items()"
   ]
  },
  {
   "cell_type": "code",
   "execution_count": null,
   "metadata": {},
   "outputs": [],
   "source": [
    "liver.calculate_PERCs(fluxes={\n",
    "                r: v for r, v in liver.steady_state_fluxes.items()\n",
    "                if not (r.boundary  \n",
    "#                         or r== liver.reactions.GLCter or r== glycogenolysis.reactions.PIter\n",
    "#                                or r== glycogenolysis.reactions.G6Pter or r== glycogenolysis.reactions.PIt or \n",
    "#                                 r== glycogenolysis.reactions.PYRt2m or \n",
    "#                                 r== glycogenolysis.reactions.L_LACt2r or \n",
    "#                                 r== glycogenolysis.reactions.PYRt2 or \n",
    "#                                 r== glycogenolysis.reactions.PEPtm or r== glycogenolysis.reactions.GLCt1 \n",
    "#                                 or r== glycogenolysis.reactions.Ht\n",
    "                       )\n",
    "},\n",
    "                      update_reactions=True)\n",
    "print(percs)                      \n",
    "\n",
    "print(\"Forward Rate Constants\\n----------------------\")\n",
    "for reaction in liver.reactions:\n",
    "    print(\"{0}: {1:.6f}\".format(reaction.kf_str, reaction.kf))"
   ]
  },
  {
   "cell_type": "code",
   "execution_count": null,
   "metadata": {},
   "outputs": [],
   "source": [
    "#Function to add underscore in front of metabolite identifiers which start with a number\n",
    "## fix this only after getting Keq from equlibrator because bigg doesn't have _13dpg for example\n",
    "def prefix_number_id(id_str):\n",
    "    \"\"\"Prefix identifiers that start with numbers.\"\"\"\n",
    "    if re.match(r\"^\\d\", id_str):\n",
    "        id_str = \"_\" + id_str\n",
    "    return id_str"
   ]
  },
  {
   "cell_type": "code",
   "execution_count": null,
   "metadata": {},
   "outputs": [],
   "source": [
    "#Loop to edit the names using \"prefix_number_id\" function defined earlier\n",
    "for metabolite in liver.metabolites:\n",
    "    new_met_id = prefix_number_id(metabolite.id)\n",
    "    metabolite.id = new_met_id\n",
    "liver.repair()"
   ]
  },
  {
   "cell_type": "code",
   "execution_count": null,
   "metadata": {},
   "outputs": [],
   "source": [
    "qcqa_model(liver, parameters=True, concentrations=True,\n",
    "           fluxes=True, superfluous=True, elemental=True)"
   ]
  },
  {
   "cell_type": "code",
   "execution_count": null,
   "metadata": {},
   "outputs": [],
   "source": [
    "# Setup simulation object\n",
    "simG=Simulation(liver, verbose=True)\n",
    "# Simulate from 0 to 1000 with 10001 points in the output\n",
    "conc_sol, flux_sol = simG.simulate(liver, time=(0, 1e8))\n",
    "# Quickly render and display time profiles\n",
    "conc_sol.view_time_profile()"
   ]
  },
  {
   "cell_type": "code",
   "execution_count": null,
   "metadata": {},
   "outputs": [],
   "source": [
    "#function to set x label and y label\n",
    "def set_x_label(xlabel):\n",
    "    if xlabel==None:\n",
    "        xlabel=\"Time\"\n",
    "    else:\n",
    "        xlabel=xlabel\n",
    "    return xlabel\n",
    "        \n",
    "def set_y_label(ylabel):        \n",
    "    if ylabel==None:\n",
    "        ylabel=\"Concentrations\"\n",
    "    else:\n",
    "        ylabel=ylabel\n",
    "    return ylabel\n"
   ]
  },
  {
   "cell_type": "code",
   "execution_count": null,
   "metadata": {},
   "outputs": [],
   "source": [
    "#function to make plot typelinear log\n",
    "def set_plot_type(plot_type):\n",
    "    if plot_type == None:\n",
    "        x_plot_type = 'log'\n",
    "        y_plot_type = 'log'\n",
    "    elif plot_type == \"logx\":\n",
    "        x_plot_type = 'log'\n",
    "        y_plot_type = 'linear'\n",
    "    elif plot_type == \"logy\":\n",
    "        x_plot_type = 'linear'\n",
    "        y_plot_type = 'log'\n",
    "    elif plot_type == \"linear\":\n",
    "        x_plot_type = 'linear'\n",
    "        y_plot_type = 'linear'\n",
    "    elif plot_type == \"logxlogy\":\n",
    "        x_plot_type = 'log'\n",
    "        y_plot_type = 'log'\n",
    "    return x_plot_type,y_plot_type\n"
   ]
  },
  {
   "cell_type": "code",
   "execution_count": null,
   "metadata": {},
   "outputs": [],
   "source": [
    "def view_all_conc_sol(conc_sol,\n",
    "#                       dynamic=True\n",
    "                      xlim=None,ylim=None,plot_type=None,xlabel=None,ylabel=None,width=None,height=None):\n",
    "    \"\"\"Generate an interactable time profile which can zoom into the plot with interactive tooltip\"\"\"\n",
    "    #Shift click to click multiple\n",
    "    \n",
    "    data=conc_sol.to_frame()\n",
    "    data = data.reset_index().melt('Time', var_name='Metabolites', value_name='Concentrations')\n",
    "    \n",
    "    # Setting X limit and Y limit\n",
    "    def set_ylim(ylim):\n",
    "        if ylim == None:\n",
    "            conc=data['Concentrations']\n",
    "            ylim_max=max(conc)\n",
    "            ylim=[1e-5,ylim_max]\n",
    "        else:\n",
    "            ylim=ylim\n",
    "        return ylim\n",
    "    \n",
    "    def set_xlim(xlim):\n",
    "        if xlim == None:\n",
    "            xlim_max=data['Time'].iloc[-1]\n",
    "            xlim=[1e-5,xlim_max]\n",
    "\n",
    "        else:\n",
    "            xlim=xlim\n",
    "        return xlim\n",
    "    xlim=set_xlim(xlim)\n",
    "    ylim=set_ylim(ylim)\n",
    "        \n",
    "       \n",
    "    # Setting type of plot\n",
    "    x_plot_type=set_plot_type(plot_type)[0]\n",
    "    y_plot_type=set_plot_type(plot_type)[1]\n",
    "        \n",
    "    # Setting x label and y label\n",
    "    xlabel=set_x_label(xlabel)\n",
    "    ylabel=set_y_label(ylabel)\n",
    "    # Setting width and height\n",
    "    if width==None:\n",
    "        width=500\n",
    "    else:\n",
    "        width=width\n",
    "        \n",
    "    if height==None:\n",
    "        height=300\n",
    "    else:\n",
    "        height=height\n",
    "    \n",
    "    alt.data_transformers.disable_max_rows()\n",
    "    selection = alt.selection_multi(fields=['Metabolites'])\n",
    "    color = alt.condition(selection,\n",
    "                          alt.Color('Metabolites:N', legend=None),\n",
    "                          alt.value('lightgray'))\n",
    "\n",
    "    line = alt.Chart(data).mark_line(clip=True).encode(alt.X('Time:Q',\n",
    "                                                             title=xlabel,\n",
    "                                                             scale=alt.Scale(type = x_plot_type,\n",
    "                                                                             padding = 10,\n",
    "                                                                             domain = xlim,\n",
    "#                   zero=True,\n",
    "                              ),\n",
    "              axis=alt.Axis(tickCount=5)),\n",
    "        alt.Y('Concentrations:Q',\n",
    "              title=ylabel,\n",
    "              scale=alt.Scale(type=y_plot_type,\n",
    "                              padding = 10,\n",
    "                              domain = ylim,\n",
    "#                   zero=True, \n",
    "                             ),\n",
    "               axis=alt.Axis(grid=False,\n",
    "                             tickCount=5)),\n",
    "        color=color,\n",
    "        tooltip= [\"Metabolites\"]+[\"Time\"]+[\"Concentrations\"]\n",
    "    ).properties(width=width, height=height).interactive()\n",
    "\n",
    "    \n",
    "    \n",
    "#         if dynamic == False:\n",
    "#             A = alt.layer(line)\n",
    "#         else:\n",
    "    legend = alt.Chart(data).mark_point().encode(\n",
    "        y=alt.Y('Metabolites:N', axis=alt.Axis(orient='right')),\n",
    "        color=color\n",
    "    ).add_selection(\n",
    "        selection\n",
    "    )\n",
    "    A= line | legend\n",
    "    return A"
   ]
  },
  {
   "cell_type": "code",
   "execution_count": null,
   "metadata": {},
   "outputs": [],
   "source": [
    "view_all_conc_sol(conc_sol,plot_type='logxlogy')"
   ]
  },
  {
   "cell_type": "code",
   "execution_count": null,
   "metadata": {},
   "outputs": [],
   "source": []
  }
 ],
 "metadata": {
  "kernelspec": {
   "display_name": "Python 3 (ipykernel)",
   "language": "python",
   "name": "python3"
  },
  "language_info": {
   "codemirror_mode": {
    "name": "ipython",
    "version": 3
   },
   "file_extension": ".py",
   "mimetype": "text/x-python",
   "name": "python",
   "nbconvert_exporter": "python",
   "pygments_lexer": "ipython3",
   "version": "3.8.12"
  }
 },
 "nbformat": 4,
 "nbformat_minor": 4
}
