{
 "cells": [
  {
   "cell_type": "markdown",
   "metadata": {},
   "source": [
    "# Liver Model Construction: Notebook"
   ]
  },
  {
   "cell_type": "code",
   "execution_count": 2,
   "metadata": {},
   "outputs": [
    {
     "name": "stdout",
     "output_type": "stream",
     "text": [
      "MASSpy version: 0.1.6\n"
     ]
    }
   ],
   "source": [
    "import os\n",
    "import re\n",
    "import warnings\n",
    "from cobra.io import *\n",
    "from cobra.io.json import *\n",
    "import escher\n",
    "import mass\n",
    "import numpy as np\n",
    "import pandas as pd\n",
    "import equilibrator_api\n",
    "from equilibrator_api import ComponentContribution, Q_\n",
    "import sympy as sym\n",
    "from cobra import Model, Reaction, Metabolite\n",
    "import cobra.test\n",
    "from os.path import join\n",
    "from mass.util import qcqa\n",
    "from mass.util import qcqa_model\n",
    "from cobra import DictList\n",
    "from mass import (\n",
    "    MassConfiguration, MassMetabolite, MassModel,\n",
    "    MassReaction, Simulation, UnitDefinition)\n",
    "from mass.io.json import save_json_model as save_json_mass_model\n",
    "from mass.visualization import plot_comparison, plot_time_profile\n",
    "from mass.visualization import (\n",
    "    plot_ensemble_phase_portrait, plot_ensemble_time_profile)\n",
    "mass_config = MassConfiguration()\n",
    "mass_config.irreversible_Keq = float(\"inf\")\n",
    "print(\"MASSpy version: {0}\".format(mass.__version__))\n",
    "from six import iteritems\n",
    "import matplotlib.pyplot as plt\n",
    "from mass.thermo import (\n",
    "    ConcSolver, sample_concentrations,\n",
    "    update_model_with_concentration_solution)\n",
    "from cobra.io.json import *\n",
    "import cobra_dict as c_d\n",
    "import csv\n",
    "import altair as alt\n",
    "from minspan.minspan import minspan,nnz\n",
    "# from minspan import minspan,nnz"
   ]
  },
  {
   "cell_type": "code",
   "execution_count": 2,
   "metadata": {},
   "outputs": [
    {
     "name": "stdout",
     "output_type": "stream",
     "text": [
      "3.8.12 (default, Oct 12 2021, 03:01:40) [MSC v.1916 64 bit (AMD64)]\n"
     ]
    }
   ],
   "source": [
    "import sys\n",
    "# from minspan import minspan,nnz\n",
    "print(sys.version)"
   ]
  },
  {
   "cell_type": "code",
   "execution_count": 3,
   "metadata": {},
   "outputs": [],
   "source": [
    "maps_dir = os.path.abspath(\"maps\")\n",
    "data_dir = os.path.abspath(\"data\")\n",
    "dir = os.path.abspath(\"\")\n",
    "model_dir = os.path.abspath(\"models\")\n",
    "minspan_dir= os.path.abspath(\"minspans_csv\")\n",
    "# extra_dir=os.path.abspath(\"..\")\n",
    "# minspan_dir"
   ]
  },
  {
   "cell_type": "markdown",
   "metadata": {},
   "source": [
    "### Getting reactions and metabolite data from RECON 3D"
   ]
  },
  {
   "cell_type": "code",
   "execution_count": 4,
   "metadata": {},
   "outputs": [],
   "source": [
    "# making dataframe of metabolites\n",
    "\n",
    "csv_met = os.path.join(data_dir,\"glycolysis_gluconeogenesis_met_df.csv\")\n",
    "met_csv_df = pd.read_csv(csv_met,index_col=\"id\")\n",
    "metabolite_info=met_csv_df.to_dict(orient='index')\n",
    "\n",
    "\n",
    "\n",
    "# making dataframe of reactions\n",
    "csv_rxn = os.path.join(data_dir,\"glycolysis_gluconeogenesis_reaction_df.csv\")\n",
    "rxn_csv_df = pd.read_csv(csv_rxn,index_col=\"id\") \n",
    "reaction_info = rxn_csv_df.to_dict(orient='index')"
   ]
  },
  {
   "cell_type": "markdown",
   "metadata": {},
   "source": [
    "### Loading cobra model"
   ]
  },
  {
   "cell_type": "code",
   "execution_count": 5,
   "metadata": {},
   "outputs": [
    {
     "name": "stdout",
     "output_type": "stream",
     "text": [
      "Set parameter Username\n",
      "Academic license - for non-commercial use only - expires 2022-03-01\n"
     ]
    }
   ],
   "source": [
    "# Initiate empty model\n",
    "trial= cobra.Model()"
   ]
  },
  {
   "cell_type": "code",
   "execution_count": 6,
   "metadata": {},
   "outputs": [],
   "source": [
    "#  Add all the remaining metabolites involved in the pathway\n",
    "for met_id, info in metabolite_info.items():\n",
    "    met = cobra.Metabolite(met_id, name=info['name'], formula=info['formula'], \n",
    "                           charge=info['charge'], compartment=info['compartment'])\n",
    "    trial.add_metabolites(met)"
   ]
  },
  {
   "cell_type": "code",
   "execution_count": null,
   "metadata": {},
   "outputs": [],
   "source": []
  },
  {
   "cell_type": "code",
   "execution_count": 7,
   "metadata": {},
   "outputs": [],
   "source": [
    "# Loading reaction data as JSON file to maintain data types as dictionaries \n",
    "rxn_json = os.path.join(data_dir,\"glycolysis_gluconeogenesis_reaction_df.json\")\n",
    "with open(rxn_json) as json_file:\n",
    "    rxn_data = json.load(json_file)"
   ]
  },
  {
   "cell_type": "code",
   "execution_count": null,
   "metadata": {},
   "outputs": [],
   "source": [
    "# rxn_data"
   ]
  },
  {
   "cell_type": "code",
   "execution_count": 8,
   "metadata": {},
   "outputs": [
    {
     "name": "stdout",
     "output_type": "stream",
     "text": [
      "HEX1\n",
      "PGI\n",
      "FBP\n",
      "PFK\n",
      "FBA\n",
      "TPI\n",
      "GAPD\n",
      "PGK\n",
      "PGM\n",
      "ENO\n",
      "PEPCKm\n",
      "PYK\n",
      "PCm\n",
      "LDH_L\n",
      "PYRt2m\n",
      "ADK1\n",
      "ATPM\n"
     ]
    }
   ],
   "source": [
    "for reaction, info in rxn_data.items():\n",
    "    reaction_obj = cobra.Reaction(reaction)\n",
    "    reaction_obj.id=reaction\n",
    "    reaction= reaction_obj.id\n",
    "    reaction_obj.lower_bound = info['lower_bound']\n",
    "    reaction_obj.upper_bound = info['upper_bound']\n",
    "    reaction_obj.name = info['name']\n",
    "    trial.add_reaction(reaction_obj)\n",
    "    temp=info['metabolites']\n",
    "    reaction_obj.add_metabolites(temp)\n",
    "    print(reaction)"
   ]
  },
  {
   "cell_type": "code",
   "execution_count": 9,
   "metadata": {},
   "outputs": [
    {
     "data": {
      "text/html": [
       "\n",
       "        <table>\n",
       "            <tr>\n",
       "                <td><strong>Reaction identifier</strong></td><td>HEX1</td>\n",
       "            </tr><tr>\n",
       "                <td><strong>Name</strong></td><td>Hexokinase (D-glucose:ATP)</td>\n",
       "            </tr><tr>\n",
       "                <td><strong>Memory address</strong></td>\n",
       "                <td>0x024948f5d970</td>\n",
       "            </tr><tr>\n",
       "                <td><strong>Stoichiometry</strong></td>\n",
       "                <td>\n",
       "                    <p style='text-align:right'>atp_c + glc__D_c --> adp_c + g6p_c + h_c</p>\n",
       "                    <p style='text-align:right'>ATP C10H12N5O13P3 + D-Glucose --> ADP C10H12N5O10P2 + D-Glucose 6-phosphate + H+</p>\n",
       "                </td>\n",
       "            </tr><tr>\n",
       "                <td><strong>GPR</strong></td><td></td>\n",
       "            </tr><tr>\n",
       "                <td><strong>Lower bound</strong></td><td>0.0</td>\n",
       "            </tr><tr>\n",
       "                <td><strong>Upper bound</strong></td><td>1000.0</td>\n",
       "            </tr>\n",
       "        </table>\n",
       "        "
      ],
      "text/plain": [
       "<Reaction HEX1 at 0x24948f5d970>"
      ]
     },
     "execution_count": 9,
     "metadata": {},
     "output_type": "execute_result"
    }
   ],
   "source": [
    "trial.reactions.HEX1"
   ]
  },
  {
   "cell_type": "code",
   "execution_count": 10,
   "metadata": {},
   "outputs": [],
   "source": [
    "#adding DM_NADH \n",
    "nadhm = {'nadh_c': -1, 'h_c': 1, 'nad_c': 1}\n",
    "rxn = cobra.Reaction('DM_nadh')\n",
    "trial.add_reaction(rxn)\n",
    "rxn.add_metabolites(nadhm)\n",
    "\n",
    "\n",
    "\n",
    "\n",
    "peptm = {'pep_m': -1, 'pi_c': -1, 'pi_m': 1, 'pep_c':1}\n",
    "rxn2 = cobra.Reaction('PEPtm')\n",
    "trial.add_reaction(rxn2)\n",
    "rxn2.add_metabolites(peptm)\n",
    "\n",
    "\n",
    "\n",
    "g6pase = {'g6p_c': -1, 'h2o_c': -1, 'pi_c': 1, 'glc__D_c':1}\n",
    "rxn3 = cobra.Reaction('G6PP')\n",
    "trial.add_reaction(rxn3)\n",
    "rxn3.add_metabolites(g6pase)\n",
    "\n",
    "\n",
    "## add PEPtm and g6paseb\n"
   ]
  },
  {
   "cell_type": "code",
   "execution_count": 11,
   "metadata": {},
   "outputs": [
    {
     "data": {
      "text/html": [
       "\n",
       "        <table>\n",
       "            <tr>\n",
       "                <td><strong>Reaction identifier</strong></td><td>DM_nadh</td>\n",
       "            </tr><tr>\n",
       "                <td><strong>Name</strong></td><td></td>\n",
       "            </tr><tr>\n",
       "                <td><strong>Memory address</strong></td>\n",
       "                <td>0x024948f8fac0</td>\n",
       "            </tr><tr>\n",
       "                <td><strong>Stoichiometry</strong></td>\n",
       "                <td>\n",
       "                    <p style='text-align:right'>nadh_c --> h_c + nad_c</p>\n",
       "                    <p style='text-align:right'>Nicotinamide adenine dinucleotide - reduced --> H+ + Nicotinamide adenine dinucleotide</p>\n",
       "                </td>\n",
       "            </tr><tr>\n",
       "                <td><strong>GPR</strong></td><td></td>\n",
       "            </tr><tr>\n",
       "                <td><strong>Lower bound</strong></td><td>0.0</td>\n",
       "            </tr><tr>\n",
       "                <td><strong>Upper bound</strong></td><td>1000.0</td>\n",
       "            </tr>\n",
       "        </table>\n",
       "        "
      ],
      "text/plain": [
       "<Reaction DM_nadh at 0x24948f8fac0>"
      ]
     },
     "execution_count": 11,
     "metadata": {},
     "output_type": "execute_result"
    }
   ],
   "source": [
    "trial.reactions.DM_nadh"
   ]
  },
  {
   "cell_type": "code",
   "execution_count": 12,
   "metadata": {},
   "outputs": [
    {
     "name": "stdout",
     "output_type": "stream",
     "text": [
      "HEX1 {'charge': -1.0}\n",
      "PGI {}\n",
      "FBP {'charge': 2.0}\n",
      "PFK {'charge': -1.0}\n",
      "FBA {}\n",
      "TPI {}\n",
      "GAPD {'charge': -3.0}\n",
      "PGK {}\n",
      "PGM {}\n",
      "ENO {}\n",
      "PEPCKm {}\n",
      "PYK {'charge': 1.0}\n",
      "PCm {'charge': 1.0}\n",
      "LDH_L {'charge': -1.0}\n",
      "PYRt2m {}\n",
      "ADK1 {}\n",
      "ATPM {'charge': 1.0}\n",
      "DM_nadh {'charge': 1}\n",
      "PEPtm {}\n",
      "G6PP {'charge': 2}\n"
     ]
    }
   ],
   "source": [
    "#Mass balance check\n",
    "for r in trial.reactions:\n",
    "    print(r.id,  r.check_mass_balance())"
   ]
  },
  {
   "cell_type": "code",
   "execution_count": 13,
   "metadata": {},
   "outputs": [],
   "source": [
    "trial.metabolites.h_c.charge= 1\n",
    "trial.metabolites.h_m.charge= 1\n",
    "# trial.metabolites.h_e.charge= 1\n",
    "trial.metabolites.pi_c.charge= -2\n",
    "trial.metabolites.pi_m.charge= -2"
   ]
  },
  {
   "cell_type": "code",
   "execution_count": 14,
   "metadata": {},
   "outputs": [
    {
     "name": "stdout",
     "output_type": "stream",
     "text": [
      "HEX1 {}\n",
      "PGI {}\n",
      "FBP {}\n",
      "PFK {}\n",
      "FBA {}\n",
      "TPI {}\n",
      "GAPD {}\n",
      "PGK {}\n",
      "PGM {}\n",
      "ENO {}\n",
      "PEPCKm {}\n",
      "PYK {}\n",
      "PCm {}\n",
      "LDH_L {}\n",
      "PYRt2m {}\n",
      "ADK1 {}\n",
      "ATPM {}\n",
      "DM_nadh {'charge': 2}\n",
      "PEPtm {}\n",
      "G6PP {}\n"
     ]
    }
   ],
   "source": [
    "#Mass balance check\n",
    "for r in trial.reactions:\n",
    "    print(r.id,  r.check_mass_balance())"
   ]
  },
  {
   "cell_type": "code",
   "execution_count": 15,
   "metadata": {},
   "outputs": [],
   "source": [
    "for met in ['glc__D_c', 'pyr_c', 'h2o_c', 'h_c', 'pi_c','lac__L_c']:\n",
    "    rxn = cobra.Reaction('EX_%s' % met)\n",
    "    trial.add_reaction(rxn)\n",
    "    rxn.add_metabolites({met: -1})\n",
    "    if met == 'glc__D_c':\n",
    "        rxn.lower_bound = -1 # by convention negative exchange flux = uptake\n",
    "    elif met == 'pyr_c':\n",
    "        rxn.lower_bound = 0\n",
    "    else:\n",
    "        rxn.lower_bound = -1000"
   ]
  },
  {
   "cell_type": "code",
   "execution_count": 16,
   "metadata": {},
   "outputs": [],
   "source": [
    "# solved_fluxes = minspan(trial, cores=3, verbose=False, timelimit=60)\n",
    "# from model_dir import minspan\n",
    "# df = pd.DataFrame(solved_fluxes.copy(), index=[i.id for i in trial.reactions])\n",
    "# df = df/df.abs().max()\n",
    "# csv = os.path.join(data_dir,\"minspan_trial 1\")\n",
    "# df.to_csv(csv  % model_name)"
   ]
  },
  {
   "cell_type": "code",
   "execution_count": null,
   "metadata": {},
   "outputs": [],
   "source": []
  },
  {
   "cell_type": "code",
   "execution_count": 44,
   "metadata": {},
   "outputs": [
    {
     "data": {
      "text/plain": [
       "HEX1           1.0\n",
       "PGI            1.0\n",
       "FBP            0.0\n",
       "PFK            1.0\n",
       "FBA            1.0\n",
       "TPI            1.0\n",
       "GAPD           2.0\n",
       "PGK           -2.0\n",
       "PGM           -2.0\n",
       "ENO            2.0\n",
       "PEPCKm         0.0\n",
       "PYK            2.0\n",
       "PCm            0.0\n",
       "LDH_L          0.0\n",
       "PYRt2m         0.0\n",
       "ADK1           0.0\n",
       "ATPM           2.0\n",
       "DM_nadh        2.0\n",
       "PEPtm          0.0\n",
       "G6PP           0.0\n",
       "EX_glc__D_c   -1.0\n",
       "EX_pyr_c       2.0\n",
       "EX_h2o_c       0.0\n",
       "EX_h_c         6.0\n",
       "EX_pi_c        0.0\n",
       "EX_lac__L_c    0.0\n",
       "Name: fluxes, dtype: float64"
      ]
     },
     "execution_count": 44,
     "metadata": {},
     "output_type": "execute_result"
    }
   ],
   "source": [
    "trial.objective = 'ATPM'\n",
    "flux_solution = trial.optimize()\n",
    "flux_solution.fluxes"
   ]
  },
  {
   "cell_type": "code",
   "execution_count": 1,
   "metadata": {},
   "outputs": [
    {
     "ename": "NameError",
     "evalue": "name 'escher' is not defined",
     "output_type": "error",
     "traceback": [
      "\u001b[1;31m---------------------------------------------------------------------------\u001b[0m",
      "\u001b[1;31mNameError\u001b[0m                                 Traceback (most recent call last)",
      "\u001b[1;32m~\\AppData\\Local\\Temp/ipykernel_30016/1775295579.py\u001b[0m in \u001b[0;36m<module>\u001b[1;34m\u001b[0m\n\u001b[0;32m      1\u001b[0m \u001b[1;31m#View all the reactions that we need build\u001b[0m\u001b[1;33m\u001b[0m\u001b[1;33m\u001b[0m\u001b[1;33m\u001b[0m\u001b[0m\n\u001b[1;32m----> 2\u001b[1;33m escher_builder = escher.Builder(\n\u001b[0m\u001b[0;32m      3\u001b[0m     \u001b[0mmodel\u001b[0m\u001b[1;33m=\u001b[0m\u001b[0mtrial\u001b[0m\u001b[1;33m,\u001b[0m\u001b[1;33m\u001b[0m\u001b[1;33m\u001b[0m\u001b[0m\n\u001b[0;32m      4\u001b[0m     map_json=os.path.join(\n\u001b[0;32m      5\u001b[0m         maps_dir,\"Glycolysis_Gluconeogenesis.json\"),highlight_missing=True)\n",
      "\u001b[1;31mNameError\u001b[0m: name 'escher' is not defined"
     ]
    }
   ],
   "source": [
    "#View all the reactions that we need build\n",
    "escher_builder = escher.Builder(\n",
    "    model=trial,\n",
    "    map_json=os.path.join(\n",
    "        maps_dir,\"Glycolysis_Gluconeogenesis.json\"),highlight_missing=True)\n",
    "\n",
    "escher_builder"
   ]
  },
  {
   "cell_type": "code",
   "execution_count": 19,
   "metadata": {},
   "outputs": [],
   "source": [
    "from cobra.io import json\n",
    "import cobra.test\n",
    "import os\n",
    "from os.path import join\n",
    "from glob import glob\n",
    "\n"
   ]
  },
  {
   "cell_type": "code",
   "execution_count": 20,
   "metadata": {},
   "outputs": [],
   "source": [
    "\n",
    "# gly_gluco_json = os.path.join(model_dir,\"gly_gluco_json.json\")\n",
    "# cobra.io.save_json_model(trial, gly_gluco_json )"
   ]
  },
  {
   "cell_type": "code",
   "execution_count": 21,
   "metadata": {},
   "outputs": [],
   "source": [
    "gly_gluco_json = os.path.join(model_dir,\"glycolysis_gluconeogenesis.json\")\n",
    "json.save_json_model(model=trial, filename=gly_gluco_json)\n",
    "\n",
    "\n"
   ]
  },
  {
   "cell_type": "code",
   "execution_count": null,
   "metadata": {},
   "outputs": [],
   "source": [
    "# import cplex as cplex\n",
    "# import gurobipy as gurobi"
   ]
  },
  {
   "cell_type": "code",
   "execution_count": null,
   "metadata": {},
   "outputs": [],
   "source": [
    "# trial.solver.add(\"gurobi\")\n",
    "# trial.solver='cplex'\n",
    "# cobra.util.solver.qp_solvers = ['cplex', 'gurobi']\n",
    "# trial.solver"
   ]
  },
  {
   "cell_type": "code",
   "execution_count": 46,
   "metadata": {},
   "outputs": [
    {
     "name": "stdout",
     "output_type": "stream",
     "text": [
      "c:\\Users\\sicil\\LiverModel\\models\\glycolysis_gluconeogenesis.json\n",
      "Read LP format model from file C:\\Users\\sicil\\AppData\\Local\\Temp\\tmpues5kae8.lp\n",
      "Reading time = 0.01 seconds\n",
      ": 31 rows, 52 columns, 174 nonzeros\n",
      "Read LP format model from file C:\\Users\\sicil\\AppData\\Local\\Temp\\tmpkt54gh_t.lp\n",
      "Reading time = 0.01 seconds\n",
      ": 83 rows, 78 columns, 318 nonzeros\n",
      "Read LP format model from file C:\\Users\\sicil\\AppData\\Local\\Temp\\tmpu8tuon9g.lp\n",
      "Reading time = 0.01 seconds\n",
      ": 83 rows, 78 columns, 318 nonzeros\n",
      "Read LP format model from file C:\\Users\\sicil\\AppData\\Local\\Temp\\tmp7fo_h3r2.lp\n",
      "Reading time = 0.02 seconds\n",
      ": 83 rows, 78 columns, 318 nonzeros\n",
      "Read LP format model from file C:\\Users\\sicil\\AppData\\Local\\Temp\\tmpxmvat6si.lp\n",
      "Reading time = 0.01 seconds\n",
      ": 83 rows, 78 columns, 318 nonzeros\n",
      "Read LP format model from file C:\\Users\\sicil\\AppData\\Local\\Temp\\tmpo_vb7gm4.lp\n",
      "Reading time = 0.01 seconds\n",
      ": 83 rows, 78 columns, 318 nonzeros\n",
      "Read LP format model from file C:\\Users\\sicil\\AppData\\Local\\Temp\\tmpukz_r2_g.lp\n",
      "Reading time = 0.01 seconds\n",
      ": 83 rows, 78 columns, 318 nonzeros\n",
      "Read LP format model from file C:\\Users\\sicil\\AppData\\Local\\Temp\\tmpqfi4n296.lp\n",
      "Reading time = 0.01 seconds\n",
      ": 83 rows, 78 columns, 318 nonzeros\n",
      "Read LP format model from file C:\\Users\\sicil\\AppData\\Local\\Temp\\tmpjzfogiv5.lp\n",
      "Reading time = 0.02 seconds\n",
      ": 83 rows, 78 columns, 318 nonzeros\n"
     ]
    }
   ],
   "source": [
    "for model_file in glob(gly_gluco_json):\n",
    "    model_name = model_file.split('/')[-1]\n",
    "    if 'model' not in model_name:\n",
    "        continue\n",
    "    print(model_name)\n",
    "    model= load_json_model(model_file)\n",
    "    if 'NADPHM' in model.reactions:\n",
    "        model.remove_reactions(['NADPHM'])\n",
    "    # media = ['EX_lac__L_c', 'EX_pyr_c', 'EX_octa_c', 'EX_gln__L_c', 'EX_acetone_c', 'EX_bhb_c',\n",
    "    #          'EX_glu__L_c', 'EX_ser__L_c', 'EX_cys__L_c', 'EX_gly_c', 'EX_ala__L_c', 'EX_so3_c',\n",
    "    #         'EX_etoh_c', 'EX_fru_c']\n",
    "    media = ['EX_glc__D_c']\n",
    "    for met in media:\n",
    "        if met in model.reactions:\n",
    "            model.reactions.get_by_id(met).lower_bound = -1000.\n",
    "\n",
    "    rxns = [i.id for i in model.reactions]\n",
    "    #removed blocke reactions because it included ['PEPCKm', 'PCm', 'PYRt2m', 'ADK1', 'PEPtm', 'EX_h2o_c', 'EX_pi_c']\n",
    "    # blocked = cobra.flux_analysis.find_blocked_reactions(model)\n",
    "    # print(blocked)\n",
    "    # model.remove_reactions(blocked)\n",
    "\n",
    "    solved_fluxes = minspan(model, cores=3, verbose=False, timelimit=60)\n",
    "    \n",
    "    df = pd.DataFrame(solved_fluxes.copy(), index=[i.id for i in model.reactions])\n",
    "    df = df/df.abs().max()\n",
    "    csv_dir = os.path.join(minspan_dir,\"gly_gluco_csv.csv\")\n",
    "    df.to_csv(csv_dir)"
   ]
  },
  {
   "cell_type": "code",
   "execution_count": 22,
   "metadata": {},
   "outputs": [],
   "source": [
    "from cobra_dict import metabolite_to_dict as metabolite_to_dict\n",
    "from cobra_dict import reaction_to_dict as reaction_to_dict"
   ]
  },
  {
   "cell_type": "code",
   "execution_count": 23,
   "metadata": {},
   "outputs": [
    {
     "data": {
      "text/html": [
       "<div>\n",
       "<style scoped>\n",
       "    .dataframe tbody tr th:only-of-type {\n",
       "        vertical-align: middle;\n",
       "    }\n",
       "\n",
       "    .dataframe tbody tr th {\n",
       "        vertical-align: top;\n",
       "    }\n",
       "\n",
       "    .dataframe thead th {\n",
       "        text-align: right;\n",
       "    }\n",
       "</style>\n",
       "<table border=\"1\" class=\"dataframe\">\n",
       "  <thead>\n",
       "    <tr style=\"text-align: right;\">\n",
       "      <th></th>\n",
       "      <th>name</th>\n",
       "      <th>charge</th>\n",
       "      <th>formula</th>\n",
       "      <th>compartment</th>\n",
       "    </tr>\n",
       "    <tr>\n",
       "      <th>id</th>\n",
       "      <th></th>\n",
       "      <th></th>\n",
       "      <th></th>\n",
       "      <th></th>\n",
       "    </tr>\n",
       "  </thead>\n",
       "  <tbody>\n",
       "    <tr>\n",
       "      <th>glc__D_c</th>\n",
       "      <td>D-Glucose</td>\n",
       "      <td>0</td>\n",
       "      <td>C6H12O6</td>\n",
       "      <td>c</td>\n",
       "    </tr>\n",
       "    <tr>\n",
       "      <th>g6p_c</th>\n",
       "      <td>D-Glucose 6-phosphate</td>\n",
       "      <td>-2</td>\n",
       "      <td>C6H11O9P</td>\n",
       "      <td>c</td>\n",
       "    </tr>\n",
       "    <tr>\n",
       "      <th>adp_c</th>\n",
       "      <td>ADP C10H12N5O10P2</td>\n",
       "      <td>-3</td>\n",
       "      <td>C10H12N5O10P2</td>\n",
       "      <td>c</td>\n",
       "    </tr>\n",
       "    <tr>\n",
       "      <th>atp_c</th>\n",
       "      <td>ATP C10H12N5O13P3</td>\n",
       "      <td>-4</td>\n",
       "      <td>C10H12N5O13P3</td>\n",
       "      <td>c</td>\n",
       "    </tr>\n",
       "    <tr>\n",
       "      <th>h_c</th>\n",
       "      <td>H+</td>\n",
       "      <td>1</td>\n",
       "      <td>H</td>\n",
       "      <td>c</td>\n",
       "    </tr>\n",
       "    <tr>\n",
       "      <th>f6p_c</th>\n",
       "      <td>D-Fructose 6-phosphate</td>\n",
       "      <td>-2</td>\n",
       "      <td>C6H11O9P</td>\n",
       "      <td>c</td>\n",
       "    </tr>\n",
       "    <tr>\n",
       "      <th>h2o_c</th>\n",
       "      <td>H2O H2O</td>\n",
       "      <td>0</td>\n",
       "      <td>H2O</td>\n",
       "      <td>c</td>\n",
       "    </tr>\n",
       "    <tr>\n",
       "      <th>pi_c</th>\n",
       "      <td>Phosphate</td>\n",
       "      <td>-2</td>\n",
       "      <td>HO4P</td>\n",
       "      <td>c</td>\n",
       "    </tr>\n",
       "    <tr>\n",
       "      <th>fdp_c</th>\n",
       "      <td>D-Fructose 1,6-bisphosphate</td>\n",
       "      <td>-4</td>\n",
       "      <td>C6H10O12P2</td>\n",
       "      <td>c</td>\n",
       "    </tr>\n",
       "    <tr>\n",
       "      <th>dhap_c</th>\n",
       "      <td>Dihydroxyacetone phosphate</td>\n",
       "      <td>-2</td>\n",
       "      <td>C3H5O6P</td>\n",
       "      <td>c</td>\n",
       "    </tr>\n",
       "    <tr>\n",
       "      <th>g3p_c</th>\n",
       "      <td>Glyceraldehyde 3-phosphate</td>\n",
       "      <td>-2</td>\n",
       "      <td>C3H5O6P</td>\n",
       "      <td>c</td>\n",
       "    </tr>\n",
       "    <tr>\n",
       "      <th>nad_c</th>\n",
       "      <td>Nicotinamide adenine dinucleotide</td>\n",
       "      <td>-1</td>\n",
       "      <td>C21H26N7O14P2</td>\n",
       "      <td>c</td>\n",
       "    </tr>\n",
       "    <tr>\n",
       "      <th>nadh_c</th>\n",
       "      <td>Nicotinamide adenine dinucleotide - reduced</td>\n",
       "      <td>-2</td>\n",
       "      <td>C21H27N7O14P2</td>\n",
       "      <td>c</td>\n",
       "    </tr>\n",
       "    <tr>\n",
       "      <th>_13dpg_c</th>\n",
       "      <td>3-Phospho-D-glyceroyl phosphate</td>\n",
       "      <td>-4</td>\n",
       "      <td>C3H4O10P2</td>\n",
       "      <td>c</td>\n",
       "    </tr>\n",
       "    <tr>\n",
       "      <th>_3pg_c</th>\n",
       "      <td>3-Phospho-D-glycerate</td>\n",
       "      <td>-3</td>\n",
       "      <td>C3H4O7P</td>\n",
       "      <td>c</td>\n",
       "    </tr>\n",
       "    <tr>\n",
       "      <th>_2pg_c</th>\n",
       "      <td>D-Glycerate 2-phosphate</td>\n",
       "      <td>-3</td>\n",
       "      <td>C3H4O7P</td>\n",
       "      <td>c</td>\n",
       "    </tr>\n",
       "    <tr>\n",
       "      <th>pep_c</th>\n",
       "      <td>Phosphoenolpyruvate</td>\n",
       "      <td>-3</td>\n",
       "      <td>C3H2O6P</td>\n",
       "      <td>c</td>\n",
       "    </tr>\n",
       "    <tr>\n",
       "      <th>pyr_c</th>\n",
       "      <td>Pyruvate</td>\n",
       "      <td>-1</td>\n",
       "      <td>C3H3O3</td>\n",
       "      <td>c</td>\n",
       "    </tr>\n",
       "    <tr>\n",
       "      <th>h_m</th>\n",
       "      <td>H+</td>\n",
       "      <td>1</td>\n",
       "      <td>H</td>\n",
       "      <td>m</td>\n",
       "    </tr>\n",
       "    <tr>\n",
       "      <th>pyr_m</th>\n",
       "      <td>Pyruvate</td>\n",
       "      <td>-1</td>\n",
       "      <td>C3H3O3</td>\n",
       "      <td>m</td>\n",
       "    </tr>\n",
       "    <tr>\n",
       "      <th>hco3_m</th>\n",
       "      <td>Bicarbonate</td>\n",
       "      <td>-1</td>\n",
       "      <td>CHO3</td>\n",
       "      <td>m</td>\n",
       "    </tr>\n",
       "    <tr>\n",
       "      <th>pi_m</th>\n",
       "      <td>Phosphate</td>\n",
       "      <td>-2</td>\n",
       "      <td>HO4P</td>\n",
       "      <td>m</td>\n",
       "    </tr>\n",
       "    <tr>\n",
       "      <th>atp_m</th>\n",
       "      <td>ATP C10H12N5O13P3</td>\n",
       "      <td>-4</td>\n",
       "      <td>C10H12N5O13P3</td>\n",
       "      <td>m</td>\n",
       "    </tr>\n",
       "    <tr>\n",
       "      <th>adp_m</th>\n",
       "      <td>ADP C10H12N5O10P2</td>\n",
       "      <td>-3</td>\n",
       "      <td>C10H12N5O10P2</td>\n",
       "      <td>m</td>\n",
       "    </tr>\n",
       "    <tr>\n",
       "      <th>oaa_m</th>\n",
       "      <td>Oxaloacetate</td>\n",
       "      <td>-2</td>\n",
       "      <td>C4H2O5</td>\n",
       "      <td>m</td>\n",
       "    </tr>\n",
       "    <tr>\n",
       "      <th>gtp_m</th>\n",
       "      <td>GTP C10H12N5O14P3</td>\n",
       "      <td>-4</td>\n",
       "      <td>C10H12N5O14P3</td>\n",
       "      <td>m</td>\n",
       "    </tr>\n",
       "    <tr>\n",
       "      <th>co2_m</th>\n",
       "      <td>CO2 CO2</td>\n",
       "      <td>0</td>\n",
       "      <td>CO2</td>\n",
       "      <td>m</td>\n",
       "    </tr>\n",
       "    <tr>\n",
       "      <th>gdp_m</th>\n",
       "      <td>GDP C10H12N5O11P2</td>\n",
       "      <td>-3</td>\n",
       "      <td>C10H12N5O11P2</td>\n",
       "      <td>m</td>\n",
       "    </tr>\n",
       "    <tr>\n",
       "      <th>pep_m</th>\n",
       "      <td>Phosphoenolpyruvate</td>\n",
       "      <td>-3</td>\n",
       "      <td>C3H2O6P</td>\n",
       "      <td>m</td>\n",
       "    </tr>\n",
       "    <tr>\n",
       "      <th>lac__L_c</th>\n",
       "      <td>L-Lactate</td>\n",
       "      <td>-1</td>\n",
       "      <td>C3H5O3</td>\n",
       "      <td>c</td>\n",
       "    </tr>\n",
       "    <tr>\n",
       "      <th>amp_c</th>\n",
       "      <td>AMP C10H12N5O7P</td>\n",
       "      <td>-2</td>\n",
       "      <td>C10H12N5O7P</td>\n",
       "      <td>c</td>\n",
       "    </tr>\n",
       "  </tbody>\n",
       "</table>\n",
       "</div>"
      ],
      "text/plain": [
       "                                                 name charge        formula  \\\n",
       "id                                                                            \n",
       "glc__D_c                                    D-Glucose      0        C6H12O6   \n",
       "g6p_c                           D-Glucose 6-phosphate     -2       C6H11O9P   \n",
       "adp_c                               ADP C10H12N5O10P2     -3  C10H12N5O10P2   \n",
       "atp_c                               ATP C10H12N5O13P3     -4  C10H12N5O13P3   \n",
       "h_c                                                H+      1              H   \n",
       "f6p_c                          D-Fructose 6-phosphate     -2       C6H11O9P   \n",
       "h2o_c                                         H2O H2O      0            H2O   \n",
       "pi_c                                        Phosphate     -2           HO4P   \n",
       "fdp_c                     D-Fructose 1,6-bisphosphate     -4     C6H10O12P2   \n",
       "dhap_c                     Dihydroxyacetone phosphate     -2        C3H5O6P   \n",
       "g3p_c                      Glyceraldehyde 3-phosphate     -2        C3H5O6P   \n",
       "nad_c               Nicotinamide adenine dinucleotide     -1  C21H26N7O14P2   \n",
       "nadh_c    Nicotinamide adenine dinucleotide - reduced     -2  C21H27N7O14P2   \n",
       "_13dpg_c              3-Phospho-D-glyceroyl phosphate     -4      C3H4O10P2   \n",
       "_3pg_c                          3-Phospho-D-glycerate     -3        C3H4O7P   \n",
       "_2pg_c                        D-Glycerate 2-phosphate     -3        C3H4O7P   \n",
       "pep_c                             Phosphoenolpyruvate     -3        C3H2O6P   \n",
       "pyr_c                                        Pyruvate     -1         C3H3O3   \n",
       "h_m                                                H+      1              H   \n",
       "pyr_m                                        Pyruvate     -1         C3H3O3   \n",
       "hco3_m                                    Bicarbonate     -1           CHO3   \n",
       "pi_m                                        Phosphate     -2           HO4P   \n",
       "atp_m                               ATP C10H12N5O13P3     -4  C10H12N5O13P3   \n",
       "adp_m                               ADP C10H12N5O10P2     -3  C10H12N5O10P2   \n",
       "oaa_m                                    Oxaloacetate     -2         C4H2O5   \n",
       "gtp_m                               GTP C10H12N5O14P3     -4  C10H12N5O14P3   \n",
       "co2_m                                         CO2 CO2      0            CO2   \n",
       "gdp_m                               GDP C10H12N5O11P2     -3  C10H12N5O11P2   \n",
       "pep_m                             Phosphoenolpyruvate     -3        C3H2O6P   \n",
       "lac__L_c                                    L-Lactate     -1         C3H5O3   \n",
       "amp_c                                 AMP C10H12N5O7P     -2    C10H12N5O7P   \n",
       "\n",
       "         compartment  \n",
       "id                    \n",
       "glc__D_c           c  \n",
       "g6p_c              c  \n",
       "adp_c              c  \n",
       "atp_c              c  \n",
       "h_c                c  \n",
       "f6p_c              c  \n",
       "h2o_c              c  \n",
       "pi_c               c  \n",
       "fdp_c              c  \n",
       "dhap_c             c  \n",
       "g3p_c              c  \n",
       "nad_c              c  \n",
       "nadh_c             c  \n",
       "_13dpg_c           c  \n",
       "_3pg_c             c  \n",
       "_2pg_c             c  \n",
       "pep_c              c  \n",
       "pyr_c              c  \n",
       "h_m                m  \n",
       "pyr_m              m  \n",
       "hco3_m             m  \n",
       "pi_m               m  \n",
       "atp_m              m  \n",
       "adp_m              m  \n",
       "oaa_m              m  \n",
       "gtp_m              m  \n",
       "co2_m              m  \n",
       "gdp_m              m  \n",
       "pep_m              m  \n",
       "lac__L_c           c  \n",
       "amp_c              c  "
      ]
     },
     "execution_count": 23,
     "metadata": {},
     "output_type": "execute_result"
    }
   ],
   "source": [
    "met_df=pd.DataFrame()\n",
    "for met in trial.metabolites:\n",
    "    cobra_met= trial.metabolites.get_by_id(met.id)\n",
    "    m=metabolite_to_dict(cobra_met)\n",
    "    df_2=pd.DataFrame.from_dict(m,orient='index')\n",
    "    df_2=df_2.T\n",
    "    met_df=met_df.append(df_2)\n",
    "\n",
    "met_df=met_df.set_index('id')\n",
    "met_df"
   ]
  },
  {
   "cell_type": "code",
   "execution_count": 24,
   "metadata": {},
   "outputs": [],
   "source": [
    "csv_met_cobra = os.path.join(data_dir,\"gly_gluco_cobra_met.csv\")\n",
    "met_df.to_csv(csv_met_cobra)"
   ]
  },
  {
   "cell_type": "code",
   "execution_count": 25,
   "metadata": {},
   "outputs": [
    {
     "data": {
      "text/html": [
       "<div>\n",
       "<style scoped>\n",
       "    .dataframe tbody tr th:only-of-type {\n",
       "        vertical-align: middle;\n",
       "    }\n",
       "\n",
       "    .dataframe tbody tr th {\n",
       "        vertical-align: top;\n",
       "    }\n",
       "\n",
       "    .dataframe thead th {\n",
       "        text-align: right;\n",
       "    }\n",
       "</style>\n",
       "<table border=\"1\" class=\"dataframe\">\n",
       "  <thead>\n",
       "    <tr style=\"text-align: right;\">\n",
       "      <th></th>\n",
       "      <th>name</th>\n",
       "      <th>metabolites</th>\n",
       "      <th>lower_bound</th>\n",
       "      <th>upper_bound</th>\n",
       "      <th>gene_reaction_rule</th>\n",
       "      <th>objective_coefficient</th>\n",
       "    </tr>\n",
       "    <tr>\n",
       "      <th>id</th>\n",
       "      <th></th>\n",
       "      <th></th>\n",
       "      <th></th>\n",
       "      <th></th>\n",
       "      <th></th>\n",
       "      <th></th>\n",
       "    </tr>\n",
       "  </thead>\n",
       "  <tbody>\n",
       "    <tr>\n",
       "      <th>HEX1</th>\n",
       "      <td>Hexokinase (D-glucose:ATP)</td>\n",
       "      <td>{'adp_c': 1.0, 'atp_c': -1.0, 'g6p_c': 1.0, 'g...</td>\n",
       "      <td>0.0</td>\n",
       "      <td>1000.0</td>\n",
       "      <td></td>\n",
       "      <td>NaN</td>\n",
       "    </tr>\n",
       "    <tr>\n",
       "      <th>PGI</th>\n",
       "      <td>Glucose-6-phosphate isomerase</td>\n",
       "      <td>{'f6p_c': 1.0, 'g6p_c': -1.0}</td>\n",
       "      <td>-1000.0</td>\n",
       "      <td>1000.0</td>\n",
       "      <td></td>\n",
       "      <td>NaN</td>\n",
       "    </tr>\n",
       "    <tr>\n",
       "      <th>FBP</th>\n",
       "      <td>Fructose-bisphosphatase</td>\n",
       "      <td>{'f6p_c': 1.0, 'fdp_c': -1.0, 'h2o_c': -1.0, '...</td>\n",
       "      <td>0.0</td>\n",
       "      <td>1000.0</td>\n",
       "      <td></td>\n",
       "      <td>NaN</td>\n",
       "    </tr>\n",
       "    <tr>\n",
       "      <th>PFK</th>\n",
       "      <td>Phosphofructokinase</td>\n",
       "      <td>{'adp_c': 1.0, 'atp_c': -1.0, 'f6p_c': -1.0, '...</td>\n",
       "      <td>0.0</td>\n",
       "      <td>1000.0</td>\n",
       "      <td></td>\n",
       "      <td>NaN</td>\n",
       "    </tr>\n",
       "    <tr>\n",
       "      <th>FBA</th>\n",
       "      <td>Fructose-bisphosphate aldolase</td>\n",
       "      <td>{'dhap_c': 1.0, 'fdp_c': -1.0, 'g3p_c': 1.0}</td>\n",
       "      <td>-1000.0</td>\n",
       "      <td>1000.0</td>\n",
       "      <td></td>\n",
       "      <td>NaN</td>\n",
       "    </tr>\n",
       "    <tr>\n",
       "      <th>TPI</th>\n",
       "      <td>Triose-phosphate isomerase</td>\n",
       "      <td>{'dhap_c': -1.0, 'g3p_c': 1.0}</td>\n",
       "      <td>-1000.0</td>\n",
       "      <td>1000.0</td>\n",
       "      <td></td>\n",
       "      <td>NaN</td>\n",
       "    </tr>\n",
       "    <tr>\n",
       "      <th>GAPD</th>\n",
       "      <td>Glyceraldehyde-3-phosphate dehydrogenase</td>\n",
       "      <td>{'_13dpg_c': 1.0, 'g3p_c': -1.0, 'h_c': 1.0, '...</td>\n",
       "      <td>-1000.0</td>\n",
       "      <td>1000.0</td>\n",
       "      <td></td>\n",
       "      <td>NaN</td>\n",
       "    </tr>\n",
       "    <tr>\n",
       "      <th>PGK</th>\n",
       "      <td>Phosphoglycerate kinase</td>\n",
       "      <td>{'_13dpg_c': 1.0, '_3pg_c': -1.0, 'adp_c': 1.0...</td>\n",
       "      <td>-1000.0</td>\n",
       "      <td>1000.0</td>\n",
       "      <td></td>\n",
       "      <td>NaN</td>\n",
       "    </tr>\n",
       "    <tr>\n",
       "      <th>PGM</th>\n",
       "      <td>Phosphoglycerate mutase</td>\n",
       "      <td>{'_2pg_c': -1.0, '_3pg_c': 1.0}</td>\n",
       "      <td>-1000.0</td>\n",
       "      <td>1000.0</td>\n",
       "      <td></td>\n",
       "      <td>NaN</td>\n",
       "    </tr>\n",
       "    <tr>\n",
       "      <th>ENO</th>\n",
       "      <td>Enolase</td>\n",
       "      <td>{'_2pg_c': -1.0, 'h2o_c': 1.0, 'pep_c': 1.0}</td>\n",
       "      <td>-1000.0</td>\n",
       "      <td>1000.0</td>\n",
       "      <td></td>\n",
       "      <td>NaN</td>\n",
       "    </tr>\n",
       "    <tr>\n",
       "      <th>PEPCKm</th>\n",
       "      <td>Phosphoenolpyruvate carboxykinase (GTP)</td>\n",
       "      <td>{'co2_m': 1.0, 'gdp_m': 1.0, 'gtp_m': -1.0, 'o...</td>\n",
       "      <td>0.0</td>\n",
       "      <td>1000.0</td>\n",
       "      <td></td>\n",
       "      <td>NaN</td>\n",
       "    </tr>\n",
       "    <tr>\n",
       "      <th>PYK</th>\n",
       "      <td>Pyruvate kinase</td>\n",
       "      <td>{'adp_c': -1.0, 'atp_c': 1.0, 'h_c': -1.0, 'pe...</td>\n",
       "      <td>0.0</td>\n",
       "      <td>1000.0</td>\n",
       "      <td></td>\n",
       "      <td>NaN</td>\n",
       "    </tr>\n",
       "    <tr>\n",
       "      <th>PCm</th>\n",
       "      <td>Pyruvate carboxylase</td>\n",
       "      <td>{'adp_m': 1.0, 'atp_m': -1.0, 'h_m': 1.0, 'hco...</td>\n",
       "      <td>0.0</td>\n",
       "      <td>1000.0</td>\n",
       "      <td></td>\n",
       "      <td>NaN</td>\n",
       "    </tr>\n",
       "    <tr>\n",
       "      <th>LDH_L</th>\n",
       "      <td>L-lactate dehydrogenase</td>\n",
       "      <td>{'h_c': 1.0, 'lac__L_c': -1.0, 'nad_c': -1.0, ...</td>\n",
       "      <td>-1000.0</td>\n",
       "      <td>1000.0</td>\n",
       "      <td></td>\n",
       "      <td>NaN</td>\n",
       "    </tr>\n",
       "    <tr>\n",
       "      <th>PYRt2m</th>\n",
       "      <td>Pyruvate mitochondrial transport via proton sy...</td>\n",
       "      <td>{'h_c': -1.0, 'h_m': 1.0, 'pyr_c': -1.0, 'pyr_...</td>\n",
       "      <td>0.0</td>\n",
       "      <td>1000.0</td>\n",
       "      <td></td>\n",
       "      <td>NaN</td>\n",
       "    </tr>\n",
       "    <tr>\n",
       "      <th>ADK1</th>\n",
       "      <td>Adenylate kinase</td>\n",
       "      <td>{'adp_c': 2.0, 'amp_c': -1.0, 'atp_c': -1.0}</td>\n",
       "      <td>-1000.0</td>\n",
       "      <td>1000.0</td>\n",
       "      <td></td>\n",
       "      <td>NaN</td>\n",
       "    </tr>\n",
       "    <tr>\n",
       "      <th>ATPM</th>\n",
       "      <td>ATP maintenance requirement</td>\n",
       "      <td>{'adp_c': 1.0, 'atp_c': -1.0, 'h2o_c': -1.0, '...</td>\n",
       "      <td>0.0</td>\n",
       "      <td>1000.0</td>\n",
       "      <td></td>\n",
       "      <td>1.0</td>\n",
       "    </tr>\n",
       "    <tr>\n",
       "      <th>DM_nadh</th>\n",
       "      <td></td>\n",
       "      <td>{'h_c': 1, 'nad_c': 1, 'nadh_c': -1}</td>\n",
       "      <td>0.0</td>\n",
       "      <td>1000.0</td>\n",
       "      <td></td>\n",
       "      <td>NaN</td>\n",
       "    </tr>\n",
       "    <tr>\n",
       "      <th>PEPtm</th>\n",
       "      <td></td>\n",
       "      <td>{'pep_c': 1, 'pep_m': -1, 'pi_c': -1, 'pi_m': 1}</td>\n",
       "      <td>0.0</td>\n",
       "      <td>1000.0</td>\n",
       "      <td></td>\n",
       "      <td>NaN</td>\n",
       "    </tr>\n",
       "    <tr>\n",
       "      <th>G6PP</th>\n",
       "      <td></td>\n",
       "      <td>{'g6p_c': -1, 'glc__D_c': 1, 'h2o_c': -1, 'pi_...</td>\n",
       "      <td>0.0</td>\n",
       "      <td>1000.0</td>\n",
       "      <td></td>\n",
       "      <td>NaN</td>\n",
       "    </tr>\n",
       "    <tr>\n",
       "      <th>EX_glc__D_c</th>\n",
       "      <td></td>\n",
       "      <td>{'glc__D_c': -1}</td>\n",
       "      <td>-1</td>\n",
       "      <td>1000.0</td>\n",
       "      <td></td>\n",
       "      <td>NaN</td>\n",
       "    </tr>\n",
       "    <tr>\n",
       "      <th>EX_pyr_c</th>\n",
       "      <td></td>\n",
       "      <td>{'pyr_c': -1}</td>\n",
       "      <td>0</td>\n",
       "      <td>1000.0</td>\n",
       "      <td></td>\n",
       "      <td>NaN</td>\n",
       "    </tr>\n",
       "    <tr>\n",
       "      <th>EX_h2o_c</th>\n",
       "      <td></td>\n",
       "      <td>{'h2o_c': -1}</td>\n",
       "      <td>-1000</td>\n",
       "      <td>1000.0</td>\n",
       "      <td></td>\n",
       "      <td>NaN</td>\n",
       "    </tr>\n",
       "    <tr>\n",
       "      <th>EX_h_c</th>\n",
       "      <td></td>\n",
       "      <td>{'h_c': -1}</td>\n",
       "      <td>-1000</td>\n",
       "      <td>1000.0</td>\n",
       "      <td></td>\n",
       "      <td>NaN</td>\n",
       "    </tr>\n",
       "    <tr>\n",
       "      <th>EX_pi_c</th>\n",
       "      <td></td>\n",
       "      <td>{'pi_c': -1}</td>\n",
       "      <td>-1000</td>\n",
       "      <td>1000.0</td>\n",
       "      <td></td>\n",
       "      <td>NaN</td>\n",
       "    </tr>\n",
       "    <tr>\n",
       "      <th>EX_lac__L_c</th>\n",
       "      <td></td>\n",
       "      <td>{'lac__L_c': -1}</td>\n",
       "      <td>-1000</td>\n",
       "      <td>1000.0</td>\n",
       "      <td></td>\n",
       "      <td>NaN</td>\n",
       "    </tr>\n",
       "  </tbody>\n",
       "</table>\n",
       "</div>"
      ],
      "text/plain": [
       "                                                          name  \\\n",
       "id                                                               \n",
       "HEX1                                Hexokinase (D-glucose:ATP)   \n",
       "PGI                              Glucose-6-phosphate isomerase   \n",
       "FBP                                    Fructose-bisphosphatase   \n",
       "PFK                                        Phosphofructokinase   \n",
       "FBA                             Fructose-bisphosphate aldolase   \n",
       "TPI                                 Triose-phosphate isomerase   \n",
       "GAPD                  Glyceraldehyde-3-phosphate dehydrogenase   \n",
       "PGK                                    Phosphoglycerate kinase   \n",
       "PGM                                    Phosphoglycerate mutase   \n",
       "ENO                                                    Enolase   \n",
       "PEPCKm                 Phosphoenolpyruvate carboxykinase (GTP)   \n",
       "PYK                                            Pyruvate kinase   \n",
       "PCm                                       Pyruvate carboxylase   \n",
       "LDH_L                                  L-lactate dehydrogenase   \n",
       "PYRt2m       Pyruvate mitochondrial transport via proton sy...   \n",
       "ADK1                                          Adenylate kinase   \n",
       "ATPM                               ATP maintenance requirement   \n",
       "DM_nadh                                                          \n",
       "PEPtm                                                            \n",
       "G6PP                                                             \n",
       "EX_glc__D_c                                                      \n",
       "EX_pyr_c                                                         \n",
       "EX_h2o_c                                                         \n",
       "EX_h_c                                                           \n",
       "EX_pi_c                                                          \n",
       "EX_lac__L_c                                                      \n",
       "\n",
       "                                                   metabolites lower_bound  \\\n",
       "id                                                                           \n",
       "HEX1         {'adp_c': 1.0, 'atp_c': -1.0, 'g6p_c': 1.0, 'g...         0.0   \n",
       "PGI                              {'f6p_c': 1.0, 'g6p_c': -1.0}     -1000.0   \n",
       "FBP          {'f6p_c': 1.0, 'fdp_c': -1.0, 'h2o_c': -1.0, '...         0.0   \n",
       "PFK          {'adp_c': 1.0, 'atp_c': -1.0, 'f6p_c': -1.0, '...         0.0   \n",
       "FBA               {'dhap_c': 1.0, 'fdp_c': -1.0, 'g3p_c': 1.0}     -1000.0   \n",
       "TPI                             {'dhap_c': -1.0, 'g3p_c': 1.0}     -1000.0   \n",
       "GAPD         {'_13dpg_c': 1.0, 'g3p_c': -1.0, 'h_c': 1.0, '...     -1000.0   \n",
       "PGK          {'_13dpg_c': 1.0, '_3pg_c': -1.0, 'adp_c': 1.0...     -1000.0   \n",
       "PGM                            {'_2pg_c': -1.0, '_3pg_c': 1.0}     -1000.0   \n",
       "ENO               {'_2pg_c': -1.0, 'h2o_c': 1.0, 'pep_c': 1.0}     -1000.0   \n",
       "PEPCKm       {'co2_m': 1.0, 'gdp_m': 1.0, 'gtp_m': -1.0, 'o...         0.0   \n",
       "PYK          {'adp_c': -1.0, 'atp_c': 1.0, 'h_c': -1.0, 'pe...         0.0   \n",
       "PCm          {'adp_m': 1.0, 'atp_m': -1.0, 'h_m': 1.0, 'hco...         0.0   \n",
       "LDH_L        {'h_c': 1.0, 'lac__L_c': -1.0, 'nad_c': -1.0, ...     -1000.0   \n",
       "PYRt2m       {'h_c': -1.0, 'h_m': 1.0, 'pyr_c': -1.0, 'pyr_...         0.0   \n",
       "ADK1              {'adp_c': 2.0, 'amp_c': -1.0, 'atp_c': -1.0}     -1000.0   \n",
       "ATPM         {'adp_c': 1.0, 'atp_c': -1.0, 'h2o_c': -1.0, '...         0.0   \n",
       "DM_nadh                   {'h_c': 1, 'nad_c': 1, 'nadh_c': -1}         0.0   \n",
       "PEPtm         {'pep_c': 1, 'pep_m': -1, 'pi_c': -1, 'pi_m': 1}         0.0   \n",
       "G6PP         {'g6p_c': -1, 'glc__D_c': 1, 'h2o_c': -1, 'pi_...         0.0   \n",
       "EX_glc__D_c                                   {'glc__D_c': -1}          -1   \n",
       "EX_pyr_c                                         {'pyr_c': -1}           0   \n",
       "EX_h2o_c                                         {'h2o_c': -1}       -1000   \n",
       "EX_h_c                                             {'h_c': -1}       -1000   \n",
       "EX_pi_c                                           {'pi_c': -1}       -1000   \n",
       "EX_lac__L_c                                   {'lac__L_c': -1}       -1000   \n",
       "\n",
       "            upper_bound gene_reaction_rule objective_coefficient  \n",
       "id                                                                \n",
       "HEX1             1000.0                                      NaN  \n",
       "PGI              1000.0                                      NaN  \n",
       "FBP              1000.0                                      NaN  \n",
       "PFK              1000.0                                      NaN  \n",
       "FBA              1000.0                                      NaN  \n",
       "TPI              1000.0                                      NaN  \n",
       "GAPD             1000.0                                      NaN  \n",
       "PGK              1000.0                                      NaN  \n",
       "PGM              1000.0                                      NaN  \n",
       "ENO              1000.0                                      NaN  \n",
       "PEPCKm           1000.0                                      NaN  \n",
       "PYK              1000.0                                      NaN  \n",
       "PCm              1000.0                                      NaN  \n",
       "LDH_L            1000.0                                      NaN  \n",
       "PYRt2m           1000.0                                      NaN  \n",
       "ADK1             1000.0                                      NaN  \n",
       "ATPM             1000.0                                      1.0  \n",
       "DM_nadh          1000.0                                      NaN  \n",
       "PEPtm            1000.0                                      NaN  \n",
       "G6PP             1000.0                                      NaN  \n",
       "EX_glc__D_c      1000.0                                      NaN  \n",
       "EX_pyr_c         1000.0                                      NaN  \n",
       "EX_h2o_c         1000.0                                      NaN  \n",
       "EX_h_c           1000.0                                      NaN  \n",
       "EX_pi_c          1000.0                                      NaN  \n",
       "EX_lac__L_c      1000.0                                      NaN  "
      ]
     },
     "execution_count": 25,
     "metadata": {},
     "output_type": "execute_result"
    }
   ],
   "source": [
    "rxn_df=pd.DataFrame()\n",
    "for rxn in trial.reactions:\n",
    "    cobra_rxn= trial.reactions.get_by_id(rxn.id)\n",
    "    r=reaction_to_dict(cobra_rxn)\n",
    "#     print(r)\n",
    "    df=pd.DataFrame.from_dict(r,orient='index')\n",
    "    df=df.T\n",
    "    rxn_df=rxn_df.append(df)\n",
    "\n",
    "rxn_df=rxn_df.set_index('id')\n",
    "rxn_df"
   ]
  },
  {
   "cell_type": "code",
   "execution_count": 33,
   "metadata": {},
   "outputs": [
    {
     "data": {
      "text/plain": [
       "'c:\\\\Users\\\\sicil\\\\LiverModel\\\\data\\\\gly_gluco_cobra_rxn.json'"
      ]
     },
     "execution_count": 33,
     "metadata": {},
     "output_type": "execute_result"
    }
   ],
   "source": [
    "json_rxn_cobra = os.path.join(data_dir,\"gly_gluco_cobra_rxn.json\")\n",
    "rxn_df.to_json(json_rxn_cobra\n",
    ",orient=\"index\"\n",
    ")\n",
    "json_rxn_cobra"
   ]
  },
  {
   "cell_type": "markdown",
   "metadata": {},
   "source": [
    "## Making MASS model of glycolysis"
   ]
  },
  {
   "cell_type": "code",
   "execution_count": 27,
   "metadata": {},
   "outputs": [],
   "source": [
    "liver= MassModel(\"Core_Model\", array_type='DataFrame', dtype=np.int64)"
   ]
  },
  {
   "cell_type": "markdown",
   "metadata": {},
   "source": [
    "#### Add the pathway metabolites and their information to a new MASS model from COBRA model"
   ]
  },
  {
   "cell_type": "code",
   "execution_count": 34,
   "metadata": {},
   "outputs": [],
   "source": [
    "import json\n",
    "## make excluded list for reactions not needed in cc\n",
    "# make a string split for 13dpg etc"
   ]
  },
  {
   "cell_type": "code",
   "execution_count": 35,
   "metadata": {},
   "outputs": [],
   "source": [
    "# making dataframe of metabolites\n",
    "\n",
    "met_csv_df = pd.read_csv(csv_met_cobra,index_col=\"id\")\n",
    "mass_metabolite_info=met_csv_df.to_dict(orient='index')\n",
    "\n",
    "# Loading reaction data as JSON file to maintain data types as dictionaries \n",
    "\n",
    "with open(json_rxn_cobra) as json_file:\n",
    "    mass_rxn_data = json.load(json_file)\n",
    "\n",
    "# making dataframe of reactions\n",
    "# csv_rxn = os.path.join(data_dir,\"glycolysis_gluconeogenesis_reaction_df.csv\")\n",
    "# rxn_csv_df = pd.read_csv(csv_rxn,index_col=\"id\") \n",
    "# reaction_info = rxn_csv_df.to_dict(orient='index')"
   ]
  },
  {
   "cell_type": "code",
   "execution_count": null,
   "metadata": {},
   "outputs": [],
   "source": []
  },
  {
   "cell_type": "code",
   "execution_count": 36,
   "metadata": {},
   "outputs": [],
   "source": [
    "#  Add all the remaining metabolites involved in the pathway\n",
    "for met_id, info in mass_metabolite_info.items():\n",
    "    met = MassMetabolite(met_id, name=info['name'], formula=info['formula'], \n",
    "                           charge=info['charge'], compartment=info['compartment'])\n",
    "    liver.add_metabolites(met)"
   ]
  },
  {
   "cell_type": "code",
   "execution_count": 37,
   "metadata": {},
   "outputs": [
    {
     "name": "stdout",
     "output_type": "stream",
     "text": [
      "HEX1\n",
      "PGI\n",
      "FBP\n",
      "PFK\n",
      "FBA\n",
      "TPI\n",
      "GAPD\n",
      "PGK\n",
      "PGM\n",
      "ENO\n",
      "PEPCKm\n",
      "PYK\n",
      "PCm\n",
      "LDH_L\n",
      "PYRt2m\n",
      "ADK1\n",
      "ATPM\n",
      "DM_nadh\n",
      "PEPtm\n",
      "G6PP\n",
      "EX_glc__D_c\n",
      "EX_pyr_c\n",
      "EX_h2o_c\n",
      "EX_h_c\n",
      "EX_pi_c\n",
      "EX_lac__L_c\n"
     ]
    }
   ],
   "source": [
    "for reaction, info in mass_rxn_data.items():\n",
    "    reaction_obj = MassReaction(reaction)\n",
    "    reaction_obj.id = reaction\n",
    "    reaction= reaction_obj.id\n",
    "    reaction_obj.lower_bound = info['lower_bound']\n",
    "    reaction_obj.upper_bound = info['upper_bound']\n",
    "    reaction_obj.name = info['name']\n",
    "#     if reaction_obj.id != \"DM_nadh\" or reaction_obj.id != 'ATPM':\n",
    "    liver.add_reactions(reaction_obj)\n",
    "    temp=info['metabolites']\n",
    "    reaction_obj.add_metabolites(temp)\n",
    "    print(reaction)"
   ]
  },
  {
   "cell_type": "code",
   "execution_count": 38,
   "metadata": {},
   "outputs": [
    {
     "data": {
      "text/plain": [
       "0.0"
      ]
     },
     "execution_count": 38,
     "metadata": {},
     "output_type": "execute_result"
    }
   ],
   "source": [
    "trial.reactions.HEX1.lower_bound"
   ]
  },
  {
   "cell_type": "code",
   "execution_count": 39,
   "metadata": {},
   "outputs": [
    {
     "data": {
      "text/html": [
       "\n",
       "            <table>\n",
       "                <tr>\n",
       "                    <td><strong>Reaction identifier</strong></td>\n",
       "                    <td>PGM</td>\n",
       "                </tr><tr>\n",
       "                    <td><strong>Name</strong></td>\n",
       "                    <td>Phosphoglycerate mutase</td>\n",
       "                </tr><tr>\n",
       "                    <td><strong>Memory address</strong></td>\n",
       "                    <td>0x024920fc5e50</td>\n",
       "                </tr><tr>\n",
       "                    <td><strong>Subsystem</strong></td>\n",
       "                    <td></td>\n",
       "                </tr><tr>\n",
       "                    <td><strong>Kinetic Reversibility</strong></td>\n",
       "                    <td>True</td>\n",
       "                </tr><tr>\n",
       "                    <td><strong>Stoichiometry</strong></td>\n",
       "                    <td>\n",
       "                        <p style='text-align:right'>_3pg_c <=> _2pg_c</p>\n",
       "                        <p style='text-align:right'>3-Phospho-D-glycerate <=> D-Glycerate 2-phosphate</p>\n",
       "                    </td>\n",
       "                </tr><tr>\n",
       "                    <td><strong>GPR</strong></td><td></td>\n",
       "                </tr><tr>\n",
       "                    <td><strong>Bounds</strong></td><td>(-1000.0, 1000.0)</td>\n",
       "                </tr>\n",
       "            </table>\n",
       "        "
      ],
      "text/plain": [
       "<MassReaction PGM at 0x24920fc5e50>"
      ]
     },
     "execution_count": 39,
     "metadata": {},
     "output_type": "execute_result"
    }
   ],
   "source": [
    "liver.reactions.PGK.reverse_stoichiometry(inplace=True)\n",
    "liver.reactions.PGM.reverse_stoichiometry(inplace=True)\n",
    "# liver.reactions.PGM"
   ]
  },
  {
   "cell_type": "code",
   "execution_count": 40,
   "metadata": {},
   "outputs": [
    {
     "data": {
      "text/html": [
       "\n",
       "            <table>\n",
       "                <tr>\n",
       "                    <td><strong>Reaction identifier</strong></td>\n",
       "                    <td>PFK</td>\n",
       "                </tr><tr>\n",
       "                    <td><strong>Name</strong></td>\n",
       "                    <td>Phosphofructokinase</td>\n",
       "                </tr><tr>\n",
       "                    <td><strong>Memory address</strong></td>\n",
       "                    <td>0x024949cb9e50</td>\n",
       "                </tr><tr>\n",
       "                    <td><strong>Subsystem</strong></td>\n",
       "                    <td></td>\n",
       "                </tr><tr>\n",
       "                    <td><strong>Kinetic Reversibility</strong></td>\n",
       "                    <td>True</td>\n",
       "                </tr><tr>\n",
       "                    <td><strong>Stoichiometry</strong></td>\n",
       "                    <td>\n",
       "                        <p style='text-align:right'>atp_c + f6p_c <=> adp_c + fdp_c + h_c</p>\n",
       "                        <p style='text-align:right'>ATP C10H12N5O13P3 + D-Fructose 6-phosphate <=> ADP C10H12N5O10P2 + D-Fructose 1,6-bisphosphate + H+</p>\n",
       "                    </td>\n",
       "                </tr><tr>\n",
       "                    <td><strong>GPR</strong></td><td></td>\n",
       "                </tr><tr>\n",
       "                    <td><strong>Bounds</strong></td><td>(0.0, 1000.0)</td>\n",
       "                </tr>\n",
       "            </table>\n",
       "        "
      ],
      "text/plain": [
       "<MassReaction PFK at 0x24949cb9e50>"
      ]
     },
     "execution_count": 40,
     "metadata": {},
     "output_type": "execute_result"
    }
   ],
   "source": [
    "liver.reactions.PFK"
   ]
  },
  {
   "cell_type": "markdown",
   "metadata": {},
   "source": [
    "### Getting Standard and Physiological Gibbs energies of reactions"
   ]
  },
  {
   "cell_type": "code",
   "execution_count": 41,
   "metadata": {},
   "outputs": [
    {
     "data": {
      "text/html": [
       "<div>\n",
       "<style scoped>\n",
       "    .dataframe tbody tr th:only-of-type {\n",
       "        vertical-align: middle;\n",
       "    }\n",
       "\n",
       "    .dataframe tbody tr th {\n",
       "        vertical-align: top;\n",
       "    }\n",
       "\n",
       "    .dataframe thead th {\n",
       "        text-align: right;\n",
       "    }\n",
       "</style>\n",
       "<table border=\"1\" class=\"dataframe\">\n",
       "  <thead>\n",
       "    <tr style=\"text-align: right;\">\n",
       "      <th></th>\n",
       "      <th>Reaction</th>\n",
       "      <th>Keq</th>\n",
       "    </tr>\n",
       "  </thead>\n",
       "  <tbody>\n",
       "  </tbody>\n",
       "</table>\n",
       "</div>"
      ],
      "text/plain": [
       "Empty DataFrame\n",
       "Columns: [Reaction, Keq]\n",
       "Index: []"
      ]
     },
     "execution_count": 41,
     "metadata": {},
     "output_type": "execute_result"
    }
   ],
   "source": [
    "reaction_str= []\n",
    "\n",
    "cc = ComponentContribution()\n",
    "\n",
    "# optional: changing the aqueous environment parameters\n",
    "cc.p_h = Q_(7.4)\n",
    "cc.p_mg = Q_(3.31)\n",
    "cc.ionic_strength = Q_(\"0.144M\")\n",
    "cc.temperature = Q_(\"310.15K\")\n",
    "R = 0.00831446261815324 #R = 0.00831446261815324 kJ/mol\n",
    "from numpy import exp as exp\n",
    "Keq_df=pd.DataFrame(columns=[\"Reaction\",\"Keq\"])\n",
    "Keq_df"
   ]
  },
  {
   "cell_type": "code",
   "execution_count": 42,
   "metadata": {},
   "outputs": [
    {
     "name": "stdout",
     "output_type": "stream",
     "text": [
      "HEX1\n",
      "Keq = 4959.419292148073\n",
      "PGI\n",
      "Keq = 0.34798040939490554\n",
      "FBP\n",
      "Keq = 115004.76795942851\n",
      "PFK\n",
      "Keq = 1454.9063091036724\n",
      "FBA\n",
      "Keq = 0.1620181301040788\n",
      "TPI\n",
      "Keq = 0.11365701527311964\n"
     ]
    },
    {
     "ename": "ParseException",
     "evalue": "bigg.metabolite:_13dpg was not found in the compound cache",
     "output_type": "error",
     "traceback": [
      "\u001b[1;31m---------------------------------------------------------------------------\u001b[0m",
      "\u001b[1;31mParseException\u001b[0m                            Traceback (most recent call last)",
      "\u001b[1;32m~\\AppData\\Local\\Temp/ipykernel_4716/1791587723.py\u001b[0m in \u001b[0;36m<module>\u001b[1;34m\u001b[0m\n\u001b[0;32m     26\u001b[0m         \u001b[0mproducts_string\u001b[0m\u001b[1;33m=\u001b[0m \u001b[1;34m' + '\u001b[0m\u001b[1;33m.\u001b[0m\u001b[0mjoin\u001b[0m\u001b[1;33m(\u001b[0m\u001b[0mproducts\u001b[0m\u001b[1;33m)\u001b[0m\u001b[1;33m\u001b[0m\u001b[1;33m\u001b[0m\u001b[0m\n\u001b[0;32m     27\u001b[0m         \u001b[0mreaction_to_parse\u001b[0m \u001b[1;33m=\u001b[0m \u001b[0mreactants_string\u001b[0m \u001b[1;33m+\u001b[0m \u001b[0mproducts_string\u001b[0m\u001b[1;33m\u001b[0m\u001b[1;33m\u001b[0m\u001b[0m\n\u001b[1;32m---> 28\u001b[1;33m         \u001b[0mrxn_parsed\u001b[0m \u001b[1;33m=\u001b[0m \u001b[0mcc\u001b[0m\u001b[1;33m.\u001b[0m\u001b[0mparse_reaction_formula\u001b[0m\u001b[1;33m(\u001b[0m\u001b[0mreaction_to_parse\u001b[0m\u001b[1;33m)\u001b[0m\u001b[1;33m\u001b[0m\u001b[1;33m\u001b[0m\u001b[0m\n\u001b[0m\u001b[0;32m     29\u001b[0m \u001b[1;33m\u001b[0m\u001b[0m\n\u001b[0;32m     30\u001b[0m         \u001b[0mprint\u001b[0m\u001b[1;33m(\u001b[0m\u001b[0mrxn_name\u001b[0m\u001b[1;33m)\u001b[0m\u001b[1;33m\u001b[0m\u001b[1;33m\u001b[0m\u001b[0m\n",
      "\u001b[1;32m~\\miniconda3\\envs\\massliver\\lib\\site-packages\\equilibrator_api\\component_contribution.py\u001b[0m in \u001b[0;36mparse_reaction_formula\u001b[1;34m(self, formula)\u001b[0m\n\u001b[0;32m    321\u001b[0m         \u001b[0mrxn\u001b[0m \u001b[1;33m:\u001b[0m \u001b[0mReaction\u001b[0m\u001b[1;33m\u001b[0m\u001b[1;33m\u001b[0m\u001b[0m\n\u001b[0;32m    322\u001b[0m         \"\"\"\n\u001b[1;32m--> 323\u001b[1;33m         \u001b[1;32mreturn\u001b[0m \u001b[0mPhasedReaction\u001b[0m\u001b[1;33m.\u001b[0m\u001b[0mparse_formula\u001b[0m\u001b[1;33m(\u001b[0m\u001b[0mself\u001b[0m\u001b[1;33m.\u001b[0m\u001b[0mccache\u001b[0m\u001b[1;33m.\u001b[0m\u001b[0mget_compound\u001b[0m\u001b[1;33m,\u001b[0m \u001b[0mformula\u001b[0m\u001b[1;33m)\u001b[0m\u001b[1;33m\u001b[0m\u001b[1;33m\u001b[0m\u001b[0m\n\u001b[0m\u001b[0;32m    324\u001b[0m \u001b[1;33m\u001b[0m\u001b[0m\n\u001b[0;32m    325\u001b[0m     \u001b[1;32mdef\u001b[0m \u001b[0msearch_reaction\u001b[0m\u001b[1;33m(\u001b[0m\u001b[0mself\u001b[0m\u001b[1;33m,\u001b[0m \u001b[0mformula\u001b[0m\u001b[1;33m:\u001b[0m \u001b[0mstr\u001b[0m\u001b[1;33m)\u001b[0m \u001b[1;33m->\u001b[0m \u001b[0mPhasedReaction\u001b[0m\u001b[1;33m:\u001b[0m\u001b[1;33m\u001b[0m\u001b[1;33m\u001b[0m\u001b[0m\n",
      "\u001b[1;32m~\\miniconda3\\envs\\massliver\\lib\\site-packages\\equilibrator_cache\\reaction.py\u001b[0m in \u001b[0;36mparse_formula\u001b[1;34m(cls, str_to_compound, formula, rid)\u001b[0m\n\u001b[0;32m    278\u001b[0m         \u001b[0msparse_reaction\u001b[0m \u001b[1;33m=\u001b[0m \u001b[1;33m{\u001b[0m\u001b[1;33m}\u001b[0m\u001b[1;33m\u001b[0m\u001b[1;33m\u001b[0m\u001b[0m\n\u001b[0;32m    279\u001b[0m         \u001b[0mleft_dict\u001b[0m \u001b[1;33m=\u001b[0m \u001b[0mReaction\u001b[0m\u001b[1;33m.\u001b[0m\u001b[0mparse_formula_side\u001b[0m\u001b[1;33m(\u001b[0m\u001b[0mleft\u001b[0m\u001b[1;33m,\u001b[0m \u001b[0mstr_to_compound\u001b[0m\u001b[1;33m)\u001b[0m\u001b[1;33m\u001b[0m\u001b[1;33m\u001b[0m\u001b[0m\n\u001b[1;32m--> 280\u001b[1;33m         \u001b[0mright_dict\u001b[0m \u001b[1;33m=\u001b[0m \u001b[0mReaction\u001b[0m\u001b[1;33m.\u001b[0m\u001b[0mparse_formula_side\u001b[0m\u001b[1;33m(\u001b[0m\u001b[0mright\u001b[0m\u001b[1;33m,\u001b[0m \u001b[0mstr_to_compound\u001b[0m\u001b[1;33m)\u001b[0m\u001b[1;33m\u001b[0m\u001b[1;33m\u001b[0m\u001b[0m\n\u001b[0m\u001b[0;32m    281\u001b[0m         \u001b[1;32mfor\u001b[0m \u001b[0mcid\u001b[0m\u001b[1;33m,\u001b[0m \u001b[0mcount\u001b[0m \u001b[1;32min\u001b[0m \u001b[0mleft_dict\u001b[0m\u001b[1;33m.\u001b[0m\u001b[0mitems\u001b[0m\u001b[1;33m(\u001b[0m\u001b[1;33m)\u001b[0m\u001b[1;33m:\u001b[0m\u001b[1;33m\u001b[0m\u001b[1;33m\u001b[0m\u001b[0m\n\u001b[0;32m    282\u001b[0m             \u001b[0msparse_reaction\u001b[0m\u001b[1;33m[\u001b[0m\u001b[0mcid\u001b[0m\u001b[1;33m]\u001b[0m \u001b[1;33m=\u001b[0m \u001b[0msparse_reaction\u001b[0m\u001b[1;33m.\u001b[0m\u001b[0mget\u001b[0m\u001b[1;33m(\u001b[0m\u001b[0mcid\u001b[0m\u001b[1;33m,\u001b[0m \u001b[1;36m0\u001b[0m\u001b[1;33m)\u001b[0m \u001b[1;33m-\u001b[0m \u001b[0mcount\u001b[0m\u001b[1;33m\u001b[0m\u001b[1;33m\u001b[0m\u001b[0m\n",
      "\u001b[1;32m~\\miniconda3\\envs\\massliver\\lib\\site-packages\\equilibrator_cache\\reaction.py\u001b[0m in \u001b[0;36mparse_formula_side\u001b[1;34m(s, str_to_compound)\u001b[0m\n\u001b[0;32m    219\u001b[0m \u001b[1;33m\u001b[0m\u001b[0m\n\u001b[0;32m    220\u001b[0m             \u001b[1;32mif\u001b[0m \u001b[0mcompound\u001b[0m \u001b[1;32mis\u001b[0m \u001b[1;32mNone\u001b[0m\u001b[1;33m:\u001b[0m\u001b[1;33m\u001b[0m\u001b[1;33m\u001b[0m\u001b[0m\n\u001b[1;32m--> 221\u001b[1;33m                 raise ParseException(\n\u001b[0m\u001b[0;32m    222\u001b[0m                     \u001b[1;34mf\"{member} was not found in the compound cache\"\u001b[0m\u001b[1;33m\u001b[0m\u001b[1;33m\u001b[0m\u001b[0m\n\u001b[0;32m    223\u001b[0m                 )\n",
      "\u001b[1;31mParseException\u001b[0m: bigg.metabolite:_13dpg was not found in the compound cache"
     ]
    }
   ],
   "source": [
    "\n",
    "\n",
    "for reaction in liver.reactions:\n",
    "    rxn_name = reaction.id        \n",
    "    if rxn_name != \"ATPM\":\n",
    "        reaction_str = reaction.reaction.split(\" <=> \")\n",
    "        reactants = reaction_str[0]\n",
    "        reactants = reactants.split(\" + \")\n",
    "\n",
    "        for i in range(len(reactants)):\n",
    "            string = reactants[i]\n",
    "            l = len(string)\n",
    "            reactants[i] = string[:l-2]\n",
    "            reactants[i]= \"bigg.metabolite:\" + reactants[i]\n",
    "        reactants_string= \" + \".join(reactants)\n",
    "        reactants_string = str(reactants_string + \" = \")   \n",
    "\n",
    "\n",
    "\n",
    "        products = reaction_str[1]\n",
    "        products = products.split(\" + \")\n",
    "\n",
    "        for i in range(len(products)):\n",
    "            string = products[i]\n",
    "            l = len(string)\n",
    "            products[i] = string[:l-2]            \n",
    "            products[i]= \"bigg.metabolite:\" + products[i]\n",
    "        products_string= ' + '.join(products)\n",
    "        reaction_to_parse = reactants_string + products_string         \n",
    "        rxn_parsed = cc.parse_reaction_formula(reaction_to_parse)\n",
    "\n",
    "        print(rxn_name)\n",
    "        dG0_prime = cc.standard_dg_prime(rxn_parsed)\n",
    "    #         print(f\"ΔG'° = {dG0_prime}\")\n",
    "\n",
    "        dGm_prime = cc.physiological_dg_prime(rxn_parsed)\n",
    "        dG_prime_value_in_kj_per_mol = dGm_prime.value.m_as(\"kJ/mol\")\n",
    "        dG0prime_value_in_kj_per_mol = dG0_prime.value.m_as(\"kJ/mol\")\n",
    "    #     print(f\"ΔG'm = {dG_prime_value_in_kj_per_mol}\")\n",
    "        delG = dG_prime_value_in_kj_per_mol\n",
    "        a = exp( -delG/ (R*310.15)) \n",
    "        reaction.Keq = a\n",
    "        print(f\"Keq = {a}\")\n",
    "#         list_keq=[reaction,a]\n",
    "#         rxn_keq=pd.DataFrame(list_keq)\n",
    "        df = pd.DataFrame([[reaction,a]], columns=[\"Reaction\",\"Keq\"])\n",
    "        Keq_df.append(df)\n",
    "    else:\n",
    "        reaction.Keq=float(\"inf\")\n",
    "# Keq_df    "
   ]
  },
  {
   "cell_type": "code",
   "execution_count": null,
   "metadata": {},
   "outputs": [],
   "source": [
    "# Keq"
   ]
  },
  {
   "cell_type": "code",
   "execution_count": null,
   "metadata": {},
   "outputs": [],
   "source": [
    "#adding DM_NADH \n",
    "nadhm = {'nadh_c': -1, 'h_c': 1, 'nad_c': 1}\n",
    "rxn = mass.MassReaction('DM_nadh')\n",
    "liver.add_reaction(rxn)\n",
    "rxn.add_metabolites(nadhm)\n"
   ]
  },
  {
   "cell_type": "code",
   "execution_count": null,
   "metadata": {},
   "outputs": [],
   "source": [
    "liver.reactions.DM_nadh.Keq=float(\"inf\")"
   ]
  },
  {
   "cell_type": "code",
   "execution_count": null,
   "metadata": {},
   "outputs": [],
   "source": [
    "# atpm = {'atp_c': -1,'h2o_c': -1,\n",
    "#     'adp_c': 1,'h_c': 1,'pi_c': 1}\n",
    "# rxn_2 = mass.MassReaction(\"ATPM\")\n",
    "# liver.add_reaction(rxn_2)\n",
    "# rxn.add_metabolites(atpm)\n"
   ]
  },
  {
   "cell_type": "code",
   "execution_count": null,
   "metadata": {},
   "outputs": [],
   "source": [
    "# liver.add_reactions([ATPM, DM_nadh])\n",
    "# ATPM.Keq"
   ]
  },
  {
   "cell_type": "code",
   "execution_count": null,
   "metadata": {},
   "outputs": [],
   "source": [
    "for met in [\n",
    "#     'co2_m', 'gdp_m', 'gtp_m', 'pi_m', 'hco3_m','h_m','atp_c','atp_m'\n",
    "    'glc__D_c','h_c','h2o_c','pi_c','pyr_c','lac__L_c'\n",
    "#     ,'nadh_c', 'nad_c'\n",
    "\n",
    "\n",
    "           ]:\n",
    "    rxn = MassReaction('EX_%s' % met)\n",
    "    liver.add_reaction(rxn)\n",
    "    rxn.add_metabolites({met: -1})\n",
    "    if met == 'glc__D_c':\n",
    "        rxn.lower_bound = -1 # negative exchange flux = uptake\n",
    "    elif met == 'pyr_c':\n",
    "        rxn.lower_bound = 0\n",
    "    else:\n",
    "        rxn.lower_bound = -1000"
   ]
  },
  {
   "cell_type": "markdown",
   "metadata": {},
   "source": [
    "##  Set Fluxes"
   ]
  },
  {
   "cell_type": "code",
   "execution_count": null,
   "metadata": {},
   "outputs": [],
   "source": [
    "reaction_list=[]\n",
    "for reaction in trial.reactions:\n",
    "    r_id = reaction.id\n",
    "    reaction_list.append(r_id)\n",
    "# reaction_list.append('DM_nadh')\n",
    "reaction_list"
   ]
  },
  {
   "cell_type": "code",
   "execution_count": null,
   "metadata": {},
   "outputs": [],
   "source": [
    "# making dataframe of reactions\n",
    "\n",
    "csv_minspan_dir = os.path.join(minspan_dir,\"liver_csv_minspan.csv\")\n",
    "minspan_df = pd.read_csv(csv_minspan_dir,index_col=\"rxn\") "
   ]
  },
  {
   "cell_type": "code",
   "execution_count": null,
   "metadata": {},
   "outputs": [],
   "source": [
    "# minspan_df."
   ]
  },
  {
   "cell_type": "code",
   "execution_count": null,
   "metadata": {},
   "outputs": [],
   "source": [
    "# solved_fluxes = minspan(liver, cores=3, verbose=False, timelimit=60)\n",
    "\n",
    "# df = pd.DataFrame(solved_fluxes.copy(), index=[i.id for i in model.reactions])\n",
    "# df = df/df.abs().max()\n",
    "# csv = os.path.join(data_dir,\"minspan_trial 1\")\n",
    "# df.to_csv(csv  % model_name)"
   ]
  },
  {
   "cell_type": "code",
   "execution_count": null,
   "metadata": {},
   "outputs": [],
   "source": [
    "for reaction, flux in flux_solution[reaction_list].iteritems():\n",
    "    reaction = liver.reactions.get_by_id(reaction)\n",
    "    reaction.steady_state_flux = flux \n",
    "#     * 1278.605 / 1000 # mmol/gdW*hr --> mmol/L * hr ---> mol/L*hr\n",
    "    print(\"{0}: {1}\".format(reaction.flux_symbol_str,\n",
    "                            reaction.steady_state_flux))"
   ]
  },
  {
   "cell_type": "code",
   "execution_count": null,
   "metadata": {},
   "outputs": [],
   "source": [
    "liver.metabolites.h_c.charge= 1\n",
    "# liver.metabolites.h_e.charge= 1\n",
    "liver.metabolites.pi_c.charge= -2"
   ]
  },
  {
   "cell_type": "code",
   "execution_count": null,
   "metadata": {},
   "outputs": [],
   "source": [
    "#Function to add underscore in front of metabolite identifiers which start with a number\n",
    "## fix this only after getting Keq from equlibrator because bigg doesn't have _13dpg for example\n",
    "def prefix_number_id(id_str):\n",
    "    \"\"\"Prefix identifiers that start with numbers.\"\"\"\n",
    "    if re.match(r\"^\\d\", id_str):\n",
    "        id_str = \"_\" + id_str\n",
    "    return id_str"
   ]
  },
  {
   "cell_type": "code",
   "execution_count": null,
   "metadata": {},
   "outputs": [],
   "source": [
    "#Loop to edit the names using \"prefix_number_id\" function defined earlier\n",
    "for metabolite in liver.metabolites:\n",
    "    new_met_id = prefix_number_id(metabolite.id)\n",
    "    metabolite.id = new_met_id\n",
    "liver.repair()"
   ]
  },
  {
   "cell_type": "markdown",
   "metadata": {},
   "source": [
    "## Setting initial conditions"
   ]
  },
  {
   "cell_type": "code",
   "execution_count": null,
   "metadata": {},
   "outputs": [],
   "source": [
    "import csv\n",
    "csv_ic = os.path.join(data_dir,\"Concentrations_Glycolysis.csv\")\n",
    "# opening the CSV file\n",
    "with open(csv_ic, mode ='r')as file:\n",
    "   \n",
    "  # reading the CSV file\n",
    "    csvFile = csv.reader(file)\n",
    "\n",
    "      # displaying the contents of the CSV file\n",
    "    for name, value in csvFile:\n",
    "        met_id = liver.metabolites.get_by_id(name)\n",
    "        met_id.ic = float(value) #M\n",
    "        print(met_id, \":\", met_id.ic)\n",
    "        print(name,value)"
   ]
  },
  {
   "cell_type": "markdown",
   "metadata": {},
   "source": [
    "## Set H2O/H Constants"
   ]
  },
  {
   "cell_type": "code",
   "execution_count": null,
   "metadata": {},
   "outputs": [],
   "source": [
    "# Set concentrations of hydrogen, water as fixed\n",
    "# Assume hydrogen in all compartments are fixed \n",
    "for metabolite in [\n",
    "    \"h_c\",\n",
    "#     'h_e','h_m',\n",
    "#     'h2o_r','h2o_e',\n",
    "    \"h2o_c\",\n",
    "#     \"glc__D_e\", \"pi_e\",'pi_m',\n",
    "    'pi_c'\n",
    "                  ]:\n",
    "    metabolite = liver.metabolites.get_by_id(metabolite)\n",
    "    metabolite.fixed = True"
   ]
  },
  {
   "cell_type": "code",
   "execution_count": null,
   "metadata": {},
   "outputs": [],
   "source": [
    "for metabolite in [\n",
    "#     'h_m',\n",
    "\"h_c\", \n",
    "#     'h_e',\n",
    "\"h2o_c\",\n",
    "#     'h2o_r','h2o_e' \n",
    "]:\n",
    "    metabolite = liver.metabolites.get_by_id(metabolite)\n",
    "    metabolite.ic = 1 #M"
   ]
  },
  {
   "cell_type": "code",
   "execution_count": null,
   "metadata": {},
   "outputs": [],
   "source": [
    "for metabolite in liver.metabolites:\n",
    "    print(\"{0}: {1}\".format(metabolite.id, metabolite.ic))"
   ]
  },
  {
   "cell_type": "code",
   "execution_count": null,
   "metadata": {},
   "outputs": [],
   "source": [
    "#Formulate QP minimization list for concentrations\n",
    "conc_solver = ConcSolver(\n",
    "    liver, \n",
    "    excluded_metabolites=[\n",
    "    \"h_c\",\n",
    "#         'h_e', 'h_m',\n",
    "#     'h2o_r','h2o_e',\n",
    "        \"h2o_c\",\n",
    "#     \"pi_e\",\n",
    "#     \"glc__D_e\", \"lac__L_e\",\n",
    "#     \"pyr_e\"\n",
    "    ], \n",
    "#     excluded_reactions=[\"Ht\", \"H2Ot\", \"H2Oter\",'PIter','PIt',\n",
    "#     'G6Pter','GLCter','GLCt1','PYRt2m','PEPtm',\n",
    "#     'L_LACt2r','PYRt2'],\n",
    "\n",
    "    constraint_buffer=1)\n",
    "\n",
    "conc_solver.setup_feasible_qp_problem(\n",
    "fixed_conc_bounds=list(liver.fixed))\n",
    "# fixed_Keq_bounds=liver.reactions.list_attr(\"Keq_str\")\n",
    "    \n",
    "#assumption: provide uncertainity to allow for a variance for the Keqs rather than staying fixed\n",
    "#conc_solver.setup_feasible_qp_problem(Keq_percent_deviation=0.1)\n",
    "\n",
    "conc_solution = conc_solver.optimize()\n",
    "conc_solution"
   ]
  },
  {
   "cell_type": "code",
   "execution_count": null,
   "metadata": {},
   "outputs": [],
   "source": [
    "#Function to load data from the excel sheet\n",
    "def load_data(filepath, sheet_name):\n",
    "    \"\"\"Load Liver data from an excel sheet\"\"\"\n",
    "    df = pd.read_excel(engine='openpyxl',\n",
    "        io=filepath,\n",
    "        sheet_name=sheet_name,\n",
    "        index_col=0)\n",
    "    return df"
   ]
  },
  {
   "cell_type": "code",
   "execution_count": null,
   "metadata": {},
   "outputs": [],
   "source": [
    "#Compare Results\n",
    "csv_ic = os.path.join(data_dir,\"Concentrations_Glycolysis.xlsx\")\n",
    "# ic_df = pd.read_csv(csv_ic)\n",
    "# ic_df.set_index()\n",
    "ic_info = load_data(\n",
    "    filepath=csv_ic,\n",
    "    sheet_name=\"Concentrations\")"
   ]
  },
  {
   "cell_type": "code",
   "execution_count": null,
   "metadata": {},
   "outputs": [],
   "source": [
    "conc_solution.Keqs"
   ]
  },
  {
   "cell_type": "code",
   "execution_count": null,
   "metadata": {},
   "outputs": [],
   "source": [
    "liver.parameters"
   ]
  },
  {
   "cell_type": "code",
   "execution_count": null,
   "metadata": {},
   "outputs": [],
   "source": []
  },
  {
   "cell_type": "code",
   "execution_count": null,
   "metadata": {},
   "outputs": [],
   "source": [
    "conc_comparison_fig, ax = plt.subplots(nrows=1, ncols=1,\n",
    "                                       figsize=(5, 5))\n",
    "\n",
    "plot_comparison(\n",
    "    x=ic_info[\"Concentrations in M\"], y=conc_solution,\n",
    "    compare=\"concentrations\",\n",
    "    observable=[mid for mid in ic_info.index], ax=ax,\n",
    "    legend=\"right outside\", plot_function=\"loglog\",\n",
    "    xlim=(1e-6,0.02), ylim=(1e-6,1e-1),\n",
    "    xy_line=True,\n",
    "    xy_legend=\"best\", xlabel=\"Initial [mol/L]\", ylabel=\"Adjusted [mol/L]\")\n",
    "\n",
    "conc_comparison_fig.tight_layout()\n",
    "update_model_with_concentration_solution(\n",
    "    liver, conc_solution, concentrations=True, inplace=True);"
   ]
  },
  {
   "cell_type": "code",
   "execution_count": null,
   "metadata": {},
   "outputs": [],
   "source": [
    "# Keq_data = pd.read_csv(\"./data/analysis_data/equilibrium_constants.csv\", index_col=0)\n",
    "\n",
    "# Keq_data_comparison_fig, ax = plt.subplots(nrows=1, ncols=1, figsize=(5, 5))\n",
    "# plot_comparison(\n",
    "#     x=Keq_data[\"Initial\"], y=Keq_data[\"Adjusted\"], ax=ax,\n",
    "#     title=\"Equilibrium Constants comparison\",\n",
    "#     legend=\"right outside\", plot_function=\"loglog\",\n",
    "#     xlim=(1e-5, 1e5), ylim=(1e-5, 1e5), \n",
    "#     xy_line=True,\n",
    "#     xy_legend=\"best\", xlabel=\"Initial\", ylabel=\"Adjusted\")\n",
    "\n",
    "# Keq_data_comparison_fig.tight_layout()"
   ]
  },
  {
   "cell_type": "code",
   "execution_count": null,
   "metadata": {},
   "outputs": [],
   "source": [
    "liver.reactions.EX_glc__D_c.Keq = 1\n",
    "liver.reactions.EX_h_c.Keq = 1 \n",
    "liver.reactions.EX_h2o_c.Keq = 1 \n",
    "liver.reactions.EX_pi_c.Keq = 1 \n",
    "liver.reactions.EX_pyr_c.Keq = 1 \n",
    "liver.reactions.EX_lac__L_c.Keq = 1 \n",
    "# liver.reactions.EX_nadh_c.Keq = 1 \n",
    "# liver.reactions.EX_nad_c.Keq = 1 "
   ]
  },
  {
   "cell_type": "code",
   "execution_count": null,
   "metadata": {},
   "outputs": [],
   "source": [
    "liver.boundary_conditions['glc__D_b']=0.010482807 ##M ## initial condition of the metabolite in the model\n",
    "liver.boundary_conditions['h2o_b']=1 ##M\n",
    "liver.boundary_conditions['h_b']=0.0064 ##M\n",
    "liver.boundary_conditions['pi_b']=0.010482807 ##M\n",
    "liver.boundary_conditions['pyr_b']=0.00048 ##M\n",
    "liver.boundary_conditions['nadh_b']=4.63542E-06\n",
    "liver.boundary_conditions['nad_b']=0.00182531\n",
    "liver.boundary_conditions['lac__L_b']=0.003261838"
   ]
  },
  {
   "cell_type": "code",
   "execution_count": null,
   "metadata": {},
   "outputs": [],
   "source": [
    "Boundary= [\n",
    "             \"EX_glc__D_c\", \n",
    "            \"EX_h_c\", \n",
    "            \"EX_h2o_c\",\n",
    "            'EX_pyr_c',\n",
    "            'EX_pi_c',\n",
    "    \"ATPM\",\n",
    "    \n",
    "#     'EX_nad_c',\n",
    "    \"EX_lac__L_c\"\n",
    "]\n",
    "for x in Boundary:\n",
    "    a=liver.reactions.get_by_id(x)\n",
    "    a.kf=1e6"
   ]
  },
  {
   "cell_type": "code",
   "execution_count": null,
   "metadata": {},
   "outputs": [],
   "source": [
    "liver.calculate_PERCs(fluxes={\n",
    "                r: v for r, v in liver.steady_state_fluxes.items()\n",
    "                if not (r.boundary  \n",
    "#                         or r== liver.reactions.GLCter or r== glycogenolysis.reactions.PIter\n",
    "#                                or r== glycogenolysis.reactions.G6Pter or r== glycogenolysis.reactions.PIt or \n",
    "#                                 r== glycogenolysis.reactions.PYRt2m or \n",
    "#                                 r== glycogenolysis.reactions.L_LACt2r or \n",
    "#                                 r== glycogenolysis.reactions.PYRt2 or \n",
    "#                                 r== glycogenolysis.reactions.PEPtm or r== glycogenolysis.reactions.GLCt1 \n",
    "#                                 or r== glycogenolysis.reactions.Ht\n",
    "                       )\n",
    "},\n",
    "                      update_reactions=True)\n",
    "\n",
    "print(\"Forward Rate Constants\\n----------------------\")\n",
    "for reaction in liver.reactions:\n",
    "    print(\"{0}: {1:.6f}\".format(reaction.kf_str, reaction.kf))"
   ]
  },
  {
   "cell_type": "code",
   "execution_count": null,
   "metadata": {},
   "outputs": [],
   "source": [
    "qcqa_model(liver, parameters=True, concentrations=True,\n",
    "           fluxes=True, superfluous=True, elemental=True)"
   ]
  },
  {
   "cell_type": "code",
   "execution_count": null,
   "metadata": {},
   "outputs": [],
   "source": [
    "# Setup simulation object\n",
    "simG=Simulation(liver, verbose=True)\n",
    "# Simulate from 0 to 1000 with 10001 points in the output\n",
    "conc_sol, flux_sol = simG.simulate(liver, time=(0, 1e8))\n",
    "# Quickly render and display time profiles\n",
    "conc_sol.view_time_profile()"
   ]
  },
  {
   "cell_type": "code",
   "execution_count": null,
   "metadata": {},
   "outputs": [],
   "source": [
    "#function to set x label and y label\n",
    "def set_x_label(xlabel):\n",
    "    if xlabel==None:\n",
    "        xlabel=\"Time\"\n",
    "    else:\n",
    "        xlabel=xlabel\n",
    "    return xlabel\n",
    "        \n",
    "def set_y_label(ylabel):        \n",
    "    if ylabel==None:\n",
    "        ylabel=\"Concentrations\"\n",
    "    else:\n",
    "        ylabel=ylabel\n",
    "    return ylabel\n"
   ]
  },
  {
   "cell_type": "code",
   "execution_count": null,
   "metadata": {},
   "outputs": [],
   "source": [
    "#function to make plot typelinear log\n",
    "def set_plot_type(plot_type):\n",
    "    if plot_type == None:\n",
    "        x_plot_type = 'log'\n",
    "        y_plot_type = 'log'\n",
    "    elif plot_type == \"logx\":\n",
    "        x_plot_type = 'log'\n",
    "        y_plot_type = 'linear'\n",
    "    elif plot_type == \"logy\":\n",
    "        x_plot_type = 'linear'\n",
    "        y_plot_type = 'log'\n",
    "    elif plot_type == \"linear\":\n",
    "        x_plot_type = 'linear'\n",
    "        y_plot_type = 'linear'\n",
    "    elif plot_type == \"logxlogy\":\n",
    "        x_plot_type = 'log'\n",
    "        y_plot_type = 'log'\n",
    "    return x_plot_type,y_plot_type\n"
   ]
  },
  {
   "cell_type": "code",
   "execution_count": null,
   "metadata": {},
   "outputs": [],
   "source": [
    "def view_all_conc_sol(conc_sol,\n",
    "#                       dynamic=True\n",
    "                      xlim=None,ylim=None,plot_type=None,xlabel=None,ylabel=None,width=None,height=None):\n",
    "    \"\"\"Generate an interactable time profile which can zoom into the plot with interactive tooltip\"\"\"\n",
    "    #Shift click to click multiple\n",
    "    \n",
    "    data=conc_sol.to_frame()\n",
    "    data = data.reset_index().melt('Time', var_name='Metabolites', value_name='Concentrations')\n",
    "    \n",
    "    # Setting X limit and Y limit\n",
    "    def set_ylim(ylim):\n",
    "        if ylim == None:\n",
    "            conc=data['Concentrations']\n",
    "            ylim_max=max(conc)\n",
    "            ylim=[1e-5,ylim_max]\n",
    "        else:\n",
    "            ylim=ylim\n",
    "        return ylim\n",
    "    \n",
    "    def set_xlim(xlim):\n",
    "        if xlim == None:\n",
    "            xlim_max=data['Time'].iloc[-1]\n",
    "            xlim=[1e-5,xlim_max]\n",
    "\n",
    "        else:\n",
    "            xlim=xlim\n",
    "        return xlim\n",
    "    xlim=set_xlim(xlim)\n",
    "    ylim=set_ylim(ylim)\n",
    "        \n",
    "       \n",
    "    # Setting type of plot\n",
    "    x_plot_type=set_plot_type(plot_type)[0]\n",
    "    y_plot_type=set_plot_type(plot_type)[1]\n",
    "        \n",
    "    # Setting x label and y label\n",
    "    xlabel=set_x_label(xlabel)\n",
    "    ylabel=set_y_label(ylabel)\n",
    "    # Setting width and height\n",
    "    if width==None:\n",
    "        width=500\n",
    "    else:\n",
    "        width=width\n",
    "        \n",
    "    if height==None:\n",
    "        height=300\n",
    "    else:\n",
    "        height=height\n",
    "    \n",
    "    alt.data_transformers.disable_max_rows()\n",
    "    selection = alt.selection_multi(fields=['Metabolites'])\n",
    "    color = alt.condition(selection,\n",
    "                          alt.Color('Metabolites:N', legend=None),\n",
    "                          alt.value('lightgray'))\n",
    "\n",
    "    line = alt.Chart(data).mark_line(clip=True).encode(alt.X('Time:Q',\n",
    "                                                             title=xlabel,\n",
    "                                                             scale=alt.Scale(type = x_plot_type,\n",
    "                                                                             padding = 10,\n",
    "                                                                             domain = xlim,\n",
    "#                   zero=True,\n",
    "                              ),\n",
    "              axis=alt.Axis(tickCount=5)),\n",
    "        alt.Y('Concentrations:Q',\n",
    "              title=ylabel,\n",
    "              scale=alt.Scale(type=y_plot_type,\n",
    "                              padding = 10,\n",
    "                              domain = ylim,\n",
    "#                   zero=True, \n",
    "                             ),\n",
    "               axis=alt.Axis(grid=False,\n",
    "                             tickCount=5)),\n",
    "        color=color,\n",
    "        tooltip= [\"Metabolites\"]+[\"Time\"]+[\"Concentrations\"]\n",
    "    ).properties(width=width, height=height).interactive()\n",
    "\n",
    "    \n",
    "    \n",
    "#         if dynamic == False:\n",
    "#             A = alt.layer(line)\n",
    "#         else:\n",
    "    legend = alt.Chart(data).mark_point().encode(\n",
    "        y=alt.Y('Metabolites:N', axis=alt.Axis(orient='right')),\n",
    "        color=color\n",
    "    ).add_selection(\n",
    "        selection\n",
    "    )\n",
    "    A= line | legend\n",
    "    return A"
   ]
  },
  {
   "cell_type": "code",
   "execution_count": null,
   "metadata": {},
   "outputs": [],
   "source": [
    "view_all_conc_sol(conc_sol,plot_type='logxlogy')"
   ]
  },
  {
   "cell_type": "code",
   "execution_count": null,
   "metadata": {},
   "outputs": [],
   "source": []
  }
 ],
 "metadata": {
  "kernelspec": {
   "display_name": "Python 3",
   "language": "python",
   "name": "python3"
  },
  "language_info": {
   "codemirror_mode": {
    "name": "ipython",
    "version": 3
   },
   "file_extension": ".py",
   "mimetype": "text/x-python",
   "name": "python",
   "nbconvert_exporter": "python",
   "pygments_lexer": "ipython3",
   "version": "3.8.12"
  }
 },
 "nbformat": 4,
 "nbformat_minor": 4
}
