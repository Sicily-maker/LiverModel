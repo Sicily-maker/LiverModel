{
 "cells": [
  {
   "cell_type": "markdown",
   "metadata": {},
   "source": [
    "# Liver Model Construction: Notebook"
   ]
  },
  {
   "cell_type": "code",
   "execution_count": 1,
   "metadata": {},
   "outputs": [
    {
     "name": "stdout",
     "output_type": "stream",
     "text": [
      "MASSpy version: 0.1.6\n"
     ]
    }
   ],
   "source": [
    "import os\n",
    "import re\n",
    "import warnings\n",
    "from cobra.io import *\n",
    "from cobra.io.json import *\n",
    "import escher\n",
    "import mass\n",
    "import numpy as np\n",
    "import pandas as pd\n",
    "import equilibrator_api\n",
    "from equilibrator_api import ComponentContribution, Q_\n",
    "import sympy as sym\n",
    "from cobra import Model, Reaction, Metabolite\n",
    "import cobra.test\n",
    "from os.path import join\n",
    "from mass.util import qcqa\n",
    "from mass.util import qcqa_model\n",
    "from cobra import DictList\n",
    "from mass import (\n",
    "    MassConfiguration, MassMetabolite, MassModel,\n",
    "    MassReaction, Simulation, UnitDefinition)\n",
    "from mass.io.json import save_json_model as save_json_mass_model\n",
    "from mass.visualization import plot_comparison, plot_time_profile\n",
    "from mass.visualization import (\n",
    "    plot_ensemble_phase_portrait, plot_ensemble_time_profile)\n",
    "mass_config = MassConfiguration()\n",
    "mass_config.irreversible_Keq = float(\"inf\")\n",
    "print(\"MASSpy version: {0}\".format(mass.__version__))\n",
    "from six import iteritems\n",
    "import matplotlib.pyplot as plt\n",
    "from mass.thermo import (\n",
    "    ConcSolver, sample_concentrations,\n",
    "    update_model_with_concentration_solution)\n",
    "from cobra.io.json import *\n",
    "import cobra_dict as c_d\n",
    "import csv\n",
    "import altair as alt\n",
    "from minspan.minspan import minspan,nnz\n",
    "from cobra.io.json import load_json_model\n",
    "# from minspan import minspan,nnz"
   ]
  },
  {
   "cell_type": "code",
   "execution_count": 2,
   "metadata": {},
   "outputs": [
    {
     "name": "stdout",
     "output_type": "stream",
     "text": [
      "3.8.12 (default, Oct 12 2021, 03:01:40) [MSC v.1916 64 bit (AMD64)]\n"
     ]
    }
   ],
   "source": [
    "import sys\n",
    "# from minspan import minspan,nnz\n",
    "print(sys.version)"
   ]
  },
  {
   "cell_type": "code",
   "execution_count": 3,
   "metadata": {},
   "outputs": [],
   "source": [
    "maps_dir = os.path.abspath(\"maps\")\n",
    "data_dir = os.path.abspath(\"data\")\n",
    "dir = os.path.abspath(\"\")\n",
    "model_dir = os.path.abspath(\"models\")\n",
    "minspan_dir= os.path.abspath(\"minspans_csv\")\n",
    "# extra_dir=os.path.abspath(\"..\")\n",
    "# minspan_dir"
   ]
  },
  {
   "cell_type": "code",
   "execution_count": null,
   "metadata": {},
   "outputs": [],
   "source": []
  },
  {
   "cell_type": "markdown",
   "metadata": {},
   "source": [
    "### Getting reactions and metabolite data from RECON 3D"
   ]
  },
  {
   "cell_type": "code",
   "execution_count": 4,
   "metadata": {},
   "outputs": [],
   "source": [
    "# making dataframe of metabolites\n",
    "\n",
    "csv_met = os.path.join(data_dir,\"core_met_df.csv\")\n",
    "met_csv_df = pd.read_csv(csv_met,index_col=\"id\")\n",
    "metabolite_info=met_csv_df.to_dict(orient='index')\n",
    "\n",
    "\n",
    "\n",
    "# making dataframe of reactions\n",
    "csv_rxn = os.path.join(data_dir,\"core_reaction_df.csv\")\n",
    "rxn_csv_df = pd.read_csv(csv_rxn,index_col=\"id\") \n",
    "reaction_info = rxn_csv_df.to_dict(orient='index')"
   ]
  },
  {
   "cell_type": "markdown",
   "metadata": {},
   "source": [
    "### Loading cobra model"
   ]
  },
  {
   "cell_type": "code",
   "execution_count": 5,
   "metadata": {},
   "outputs": [
    {
     "name": "stdout",
     "output_type": "stream",
     "text": [
      "Set parameter Username\n",
      "Academic license - for non-commercial use only - expires 2022-03-01\n"
     ]
    }
   ],
   "source": [
    "# Initiate empty model\n",
    "trial= cobra.Model()"
   ]
  },
  {
   "cell_type": "code",
   "execution_count": 6,
   "metadata": {},
   "outputs": [],
   "source": [
    "#  Add all the remaining metabolites involved in the pathway\n",
    "for met_id, info in metabolite_info.items():\n",
    "    met = cobra.Metabolite(met_id, name=info['name'], formula=info['formula'], \n",
    "                           charge=info['charge'], compartment=info['compartment'])\n",
    "    trial.add_metabolites(met)"
   ]
  },
  {
   "cell_type": "code",
   "execution_count": null,
   "metadata": {},
   "outputs": [],
   "source": []
  },
  {
   "cell_type": "code",
   "execution_count": 7,
   "metadata": {},
   "outputs": [],
   "source": [
    "# Loading reaction data as JSON file to maintain data types as dictionaries \n",
    "rxn_json = os.path.join(data_dir,\"core_reaction_df.json\")\n",
    "with open(rxn_json) as json_file:\n",
    "    rxn_data = json.load(json_file)"
   ]
  },
  {
   "cell_type": "code",
   "execution_count": 8,
   "metadata": {},
   "outputs": [],
   "source": [
    "# rxn_data"
   ]
  },
  {
   "cell_type": "code",
   "execution_count": 9,
   "metadata": {},
   "outputs": [
    {
     "name": "stdout",
     "output_type": "stream",
     "text": [
      "NADH2_u10mi\n",
      "FADH2ETC\n",
      "CYOR_u10mi\n",
      "CYOOm2i\n",
      "ATPS4mi\n",
      "Htmi\n",
      "CSm\n",
      "ACONTm\n",
      "ICDHxm\n",
      "AKGDm\n",
      "SUCOASm\n",
      "SUCD1m\n",
      "FUMm\n",
      "MDHm\n",
      "PDHm\n",
      "PCm\n",
      "PEPCKm\n",
      "FBP\n",
      "MALtm\n",
      "MDH\n",
      "PEPCK_re\n",
      "HCO3Em\n",
      "ATPtm\n",
      "AKGMALtm\n",
      "ASPTA\n",
      "ASPTAm\n",
      "PYRt2m\n",
      "ASPGLUm\n",
      "O2tm\n",
      "H2Otm\n",
      "CO2tm\n",
      "NDPK1m\n",
      "NDPK1\n",
      "ATPM\n",
      "HEX1\n",
      "PGI\n",
      "PFK\n",
      "FBA\n",
      "TPI\n",
      "GAPD\n",
      "PGK\n",
      "PGM\n",
      "ENO\n",
      "PYK\n",
      "LDH_L\n",
      "G6PDH2r\n",
      "PGL\n",
      "GND\n",
      "RPI\n",
      "RPE\n",
      "TKT1\n",
      "TKT2\n",
      "TALA\n",
      "SPODM\n",
      "GTHPi\n",
      "GTHOr\n"
     ]
    }
   ],
   "source": [
    "for reaction, info in rxn_data.items():\n",
    "    reaction_obj = cobra.Reaction(reaction)\n",
    "    reaction_obj.id=reaction\n",
    "    reaction= reaction_obj.id\n",
    "    reaction_obj.lower_bound = info['lower_bound']\n",
    "    reaction_obj.upper_bound = info['upper_bound']\n",
    "    reaction_obj.name = info['name']\n",
    "    trial.add_reaction(reaction_obj)\n",
    "    temp=info['metabolites']\n",
    "    reaction_obj.add_metabolites(temp)\n",
    "    print(reaction)"
   ]
  },
  {
   "cell_type": "code",
   "execution_count": 10,
   "metadata": {},
   "outputs": [
    {
     "data": {
      "text/html": [
       "\n",
       "        <table>\n",
       "            <tr>\n",
       "                <td><strong>Reaction identifier</strong></td><td>HEX1</td>\n",
       "            </tr><tr>\n",
       "                <td><strong>Name</strong></td><td>Hexokinase (D-glucose:ATP)</td>\n",
       "            </tr><tr>\n",
       "                <td><strong>Memory address</strong></td>\n",
       "                <td>0x02562a2cfcd0</td>\n",
       "            </tr><tr>\n",
       "                <td><strong>Stoichiometry</strong></td>\n",
       "                <td>\n",
       "                    <p style='text-align:right'>atp_c + glc__D_c --> adp_c + g6p_c + h_c</p>\n",
       "                    <p style='text-align:right'>ATP C10H12N5O13P3 + D-Glucose --> ADP C10H12N5O10P2 + D-Glucose 6-phosphate + H+</p>\n",
       "                </td>\n",
       "            </tr><tr>\n",
       "                <td><strong>GPR</strong></td><td></td>\n",
       "            </tr><tr>\n",
       "                <td><strong>Lower bound</strong></td><td>0.0</td>\n",
       "            </tr><tr>\n",
       "                <td><strong>Upper bound</strong></td><td>1000.0</td>\n",
       "            </tr>\n",
       "        </table>\n",
       "        "
      ],
      "text/plain": [
       "<Reaction HEX1 at 0x2562a2cfcd0>"
      ]
     },
     "execution_count": 10,
     "metadata": {},
     "output_type": "execute_result"
    }
   ],
   "source": [
    "trial.reactions.HEX1"
   ]
  },
  {
   "cell_type": "code",
   "execution_count": 11,
   "metadata": {},
   "outputs": [],
   "source": [
    "#adding DM_NADH \n",
    "nadhm = {'nadh_c': -1, 'h_c': 1, 'nad_c': 1}\n",
    "rxn = cobra.Reaction('DM_nadh')\n",
    "trial.add_reaction(rxn)\n",
    "rxn.add_metabolites(nadhm)\n",
    "\n",
    "\n",
    "\n",
    "\n",
    "peptm = {'pep_m': -1, 'pi_c': -1, 'pi_m': 1, 'pep_c':1}\n",
    "rxn2 = cobra.Reaction('PEPtm')\n",
    "trial.add_reaction(rxn2)\n",
    "rxn2.add_metabolites(peptm)\n",
    "\n",
    "\n",
    "\n",
    "g6pase = {'g6p_c': -1, 'h2o_c': -1, 'pi_c': 1, 'glc__D_c':1}\n",
    "rxn3 = cobra.Reaction('G6PP')\n",
    "trial.add_reaction(rxn3)\n",
    "rxn3.add_metabolites(g6pase)\n",
    "\n",
    "htm = {'h_c': -1,  'h_m': 1}\n",
    "rxn4 = cobra.Reaction('Htm')\n",
    "trial.add_reaction(rxn4)\n",
    "rxn4.add_metabolites(htm)\n",
    "\n",
    "pitm = {'h_i': -1,'pi_c': -1,  'h_m': 1,  'pi_m': 1}\n",
    "rxn5 = cobra.Reaction('PItm')\n",
    "trial.add_reaction(rxn5)\n",
    "rxn5.add_metabolites(pitm)\n",
    "# \n",
    "# nadph_c --> h_c + nadp_c\n",
    "nadphm = {'nadph_c': -1, 'h_c': 1,  'nadp_c': 1}\n",
    "rxn6 = cobra.Reaction('NADPHM')\n",
    "trial.add_reaction(rxn6)\n",
    "rxn6.add_metabolites(nadphm)\n",
    "\n",
    "## add PEPtm and g6paseb ['Htm', 'PItm',  'NADPHM',\n",
    "\n",
    "#  'PEPtm',\n",
    "#  'EX_co2_c',\n",
    "#  'EX_o2_c',\n",
    "#  'EX_h_c',\n",
    "#  'EX_h2o_c',\n",
    "#  'EX_pi_c',\n",
    "#  'EX_glc__D_c',\n",
    "#  'EX_lac__L_c',\n",
    "\n",
    "#  'EX_r5p_c',\n",
    "#  'EX_o2s_c']\n"
   ]
  },
  {
   "cell_type": "code",
   "execution_count": 12,
   "metadata": {},
   "outputs": [],
   "source": [
    "trial.reactions.G6PP.lower_bound=0"
   ]
  },
  {
   "cell_type": "code",
   "execution_count": 13,
   "metadata": {},
   "outputs": [
    {
     "name": "stdout",
     "output_type": "stream",
     "text": [
      "NADH2_u10mi {'charge': 1.0}\n",
      "FADH2ETC {}\n",
      "CYOR_u10mi {'charge': -2.0}\n",
      "CYOOm2i {'charge': 4.0}\n",
      "ATPS4mi {'charge': -1.0}\n",
      "Htmi {}\n",
      "CSm {'charge': -1.0}\n",
      "ACONTm {}\n",
      "ICDHxm {}\n",
      "AKGDm {}\n",
      "SUCOASm {'charge': 2.0}\n",
      "SUCD1m {}\n",
      "FUMm {}\n",
      "MDHm {'charge': -1.0}\n",
      "PDHm {}\n",
      "PCm {'charge': 1.0}\n",
      "PEPCKm {}\n",
      "FBP {'charge': 2.0}\n",
      "MALtm {}\n",
      "MDH {'charge': -1.0}\n",
      "PEPCK_re {}\n",
      "HCO3Em {'charge': -1.0}\n",
      "ATPtm {}\n",
      "AKGMALtm {}\n",
      "ASPTA {}\n",
      "ASPTAm {}\n",
      "PYRt2m {}\n",
      "ASPGLUm {}\n",
      "O2tm {}\n",
      "H2Otm {}\n",
      "CO2tm {}\n",
      "NDPK1m {}\n",
      "NDPK1 {}\n",
      "ATPM {'charge': 1.0}\n",
      "HEX1 {'charge': -1.0}\n",
      "PGI {}\n",
      "PFK {'charge': -1.0}\n",
      "FBA {}\n",
      "TPI {}\n",
      "GAPD {'charge': -3.0}\n",
      "PGK {}\n",
      "PGM {}\n",
      "ENO {}\n",
      "PYK {'charge': 1.0}\n",
      "LDH_L {'charge': -1.0}\n",
      "G6PDH2r {'charge': -1.0}\n",
      "PGL {'charge': -1.0}\n",
      "GND {}\n",
      "RPI {}\n",
      "RPE {}\n",
      "TKT1 {}\n",
      "TKT2 {}\n",
      "TALA {}\n",
      "SPODM {'charge': 2.0}\n",
      "GTHPi {}\n",
      "GTHOr {'charge': 1.0}\n",
      "DM_nadh {'charge': 1}\n",
      "PEPtm {}\n",
      "G6PP {'charge': 2}\n",
      "Htm {}\n",
      "PItm {}\n",
      "NADPHM {'charge': 1}\n"
     ]
    }
   ],
   "source": [
    "#Mass balance check\n",
    "for r in trial.reactions:\n",
    "    print(r.id,  r.check_mass_balance())"
   ]
  },
  {
   "cell_type": "code",
   "execution_count": 14,
   "metadata": {},
   "outputs": [],
   "source": [
    "trial.metabolites.h_c.charge= 1\n",
    "trial.metabolites.h_m.charge= 1\n",
    "# trial.metabolites.h_e.charge= 1\n",
    "trial.metabolites.pi_c.charge= -2\n",
    "trial.metabolites.pi_m.charge= -2"
   ]
  },
  {
   "cell_type": "code",
   "execution_count": 15,
   "metadata": {},
   "outputs": [
    {
     "name": "stdout",
     "output_type": "stream",
     "text": [
      "NADH2_u10mi {'charge': -4.0}\n",
      "FADH2ETC {}\n",
      "CYOR_u10mi {'charge': -4.0}\n",
      "CYOOm2i {'charge': -4.0}\n",
      "ATPS4mi {'charge': 4.0}\n",
      "Htmi {'charge': 1.0}\n",
      "CSm {}\n",
      "ACONTm {}\n",
      "ICDHxm {}\n",
      "AKGDm {}\n",
      "SUCOASm {}\n",
      "SUCD1m {}\n",
      "FUMm {}\n",
      "MDHm {}\n",
      "PDHm {}\n",
      "PCm {}\n",
      "PEPCKm {}\n",
      "FBP {}\n",
      "MALtm {}\n",
      "MDH {}\n",
      "PEPCK_re {}\n",
      "HCO3Em {}\n",
      "ATPtm {}\n",
      "AKGMALtm {}\n",
      "ASPTA {}\n",
      "ASPTAm {}\n",
      "PYRt2m {}\n",
      "ASPGLUm {}\n",
      "O2tm {}\n",
      "H2Otm {}\n",
      "CO2tm {}\n",
      "NDPK1m {}\n",
      "NDPK1 {}\n",
      "ATPM {}\n",
      "HEX1 {}\n",
      "PGI {}\n",
      "PFK {}\n",
      "FBA {}\n",
      "TPI {}\n",
      "GAPD {}\n",
      "PGK {}\n",
      "PGM {}\n",
      "ENO {}\n",
      "PYK {}\n",
      "LDH_L {}\n",
      "G6PDH2r {}\n",
      "PGL {}\n",
      "GND {}\n",
      "RPI {}\n",
      "RPE {}\n",
      "TKT1 {}\n",
      "TKT2 {}\n",
      "TALA {}\n",
      "SPODM {}\n",
      "GTHPi {}\n",
      "GTHOr {}\n",
      "DM_nadh {'charge': 2}\n",
      "PEPtm {}\n",
      "G6PP {}\n",
      "Htm {}\n",
      "PItm {'charge': 1}\n",
      "NADPHM {'charge': 2}\n"
     ]
    }
   ],
   "source": [
    "#Mass balance check\n",
    "for r in trial.reactions:\n",
    "    print(r.id,  r.check_mass_balance())"
   ]
  },
  {
   "cell_type": "code",
   "execution_count": 16,
   "metadata": {},
   "outputs": [],
   "source": [
    "for met in ['glc__D_c', 'pyr_c', 'h2o_c', 'h_c', 'pi_c','lac__L_c','co2_c','o2_c','o2s_c','r5p_c']:\n",
    "    # DOUBLE CHECK PYRUVATE EXCHANGE\n",
    "    rxn = cobra.Reaction('EX_%s' % met)\n",
    "    trial.add_reaction(rxn)\n",
    "    rxn.add_metabolites({met: -1})\n",
    "    if met == 'glc__D_c':\n",
    "        rxn.lower_bound = -1 # by convention negative exchange flux = uptake\n",
    "    elif met == 'pyr_c':\n",
    "        rxn.lower_bound = -1000\n",
    "    else:\n",
    "        rxn.lower_bound = -1000"
   ]
  },
  {
   "cell_type": "code",
   "execution_count": 17,
   "metadata": {},
   "outputs": [],
   "source": [
    "# solved_fluxes = minspan(trial, cores=3, verbose=False, timelimit=60)\n",
    "# from model_dir import minspan\n",
    "# df = pd.DataFrame(solved_fluxes.copy(), index=[i.id for i in trial.reactions])\n",
    "# df = df/df.abs().max()\n",
    "# csv = os.path.join(data_dir,\"minspan_trial 1\")\n",
    "# df.to_csv(csv  % model_name)"
   ]
  },
  {
   "cell_type": "code",
   "execution_count": 18,
   "metadata": {},
   "outputs": [
    {
     "data": {
      "text/plain": [
       "72"
      ]
     },
     "execution_count": 18,
     "metadata": {},
     "output_type": "execute_result"
    }
   ],
   "source": [
    "len(trial.reactions)"
   ]
  },
  {
   "cell_type": "code",
   "execution_count": 19,
   "metadata": {},
   "outputs": [
    {
     "data": {
      "text/html": [
       "<strong><em>Optimal</em> solution with objective value 1000.000</strong><br><div>\n",
       "<style scoped>\n",
       "    .dataframe tbody tr th:only-of-type {\n",
       "        vertical-align: middle;\n",
       "    }\n",
       "\n",
       "    .dataframe tbody tr th {\n",
       "        vertical-align: top;\n",
       "    }\n",
       "\n",
       "    .dataframe thead th {\n",
       "        text-align: right;\n",
       "    }\n",
       "</style>\n",
       "<table border=\"1\" class=\"dataframe\">\n",
       "  <thead>\n",
       "    <tr style=\"text-align: right;\">\n",
       "      <th></th>\n",
       "      <th>fluxes</th>\n",
       "      <th>reduced_costs</th>\n",
       "    </tr>\n",
       "  </thead>\n",
       "  <tbody>\n",
       "    <tr>\n",
       "      <th>NADH2_u10mi</th>\n",
       "      <td>333.333333</td>\n",
       "      <td>0.0</td>\n",
       "    </tr>\n",
       "    <tr>\n",
       "      <th>FADH2ETC</th>\n",
       "      <td>83.333333</td>\n",
       "      <td>0.0</td>\n",
       "    </tr>\n",
       "    <tr>\n",
       "      <th>CYOR_u10mi</th>\n",
       "      <td>416.666667</td>\n",
       "      <td>0.0</td>\n",
       "    </tr>\n",
       "    <tr>\n",
       "      <th>CYOOm2i</th>\n",
       "      <td>208.333333</td>\n",
       "      <td>0.0</td>\n",
       "    </tr>\n",
       "    <tr>\n",
       "      <th>ATPS4mi</th>\n",
       "      <td>750.000000</td>\n",
       "      <td>0.0</td>\n",
       "    </tr>\n",
       "    <tr>\n",
       "      <th>...</th>\n",
       "      <td>...</td>\n",
       "      <td>...</td>\n",
       "    </tr>\n",
       "    <tr>\n",
       "      <th>EX_lac__L_c</th>\n",
       "      <td>0.000000</td>\n",
       "      <td>-0.0</td>\n",
       "    </tr>\n",
       "    <tr>\n",
       "      <th>EX_co2_c</th>\n",
       "      <td>416.666667</td>\n",
       "      <td>0.0</td>\n",
       "    </tr>\n",
       "    <tr>\n",
       "      <th>EX_o2_c</th>\n",
       "      <td>0.000000</td>\n",
       "      <td>-0.0</td>\n",
       "    </tr>\n",
       "    <tr>\n",
       "      <th>EX_o2s_c</th>\n",
       "      <td>-416.666667</td>\n",
       "      <td>-0.0</td>\n",
       "    </tr>\n",
       "    <tr>\n",
       "      <th>EX_r5p_c</th>\n",
       "      <td>-83.333333</td>\n",
       "      <td>-0.0</td>\n",
       "    </tr>\n",
       "  </tbody>\n",
       "</table>\n",
       "<p>72 rows × 2 columns</p>\n",
       "</div>"
      ],
      "text/plain": [
       "<Solution 1000.000 at 0x2562a3137f0>"
      ]
     },
     "execution_count": 19,
     "metadata": {},
     "output_type": "execute_result"
    }
   ],
   "source": [
    "trial.objective = 'ATPM'\n",
    "flux_solution = trial.optimize()\n",
    "flux_solution"
   ]
  },
  {
   "cell_type": "code",
   "execution_count": 20,
   "metadata": {},
   "outputs": [],
   "source": [
    "#View all the reactions that we need build\n",
    "# escher_builder = escher.Builder(\n",
    "#     model=trial,\n",
    "#     map_json=os.path.join(\n",
    "#         maps_dir,\"Glycolysis_Gluconeogenesis.json\"),highlight_missing=True)\n",
    "## try this (below)\n",
    "# The reactions and metabolites to be added in this exercise\n",
    "# builder = escher.Builder(map_json='%s/gly_ppp_tca_etc_map.json'% resource_dir)\n",
    "# builder\n",
    "# escher_builder\n",
    "\n",
    "\n"
   ]
  },
  {
   "cell_type": "code",
   "execution_count": 21,
   "metadata": {},
   "outputs": [],
   "source": [
    "from cobra.io import json\n",
    "import cobra.test\n",
    "import os\n",
    "from os.path import join\n",
    "from glob import glob\n",
    "\n"
   ]
  },
  {
   "cell_type": "code",
   "execution_count": 22,
   "metadata": {},
   "outputs": [],
   "source": [
    "\n",
    "# gly_gluco_json = os.path.join(model_dir,\"gly_gluco_json.json\")\n",
    "# cobra.io.save_json_model(trial, gly_gluco_json )"
   ]
  },
  {
   "cell_type": "code",
   "execution_count": 23,
   "metadata": {},
   "outputs": [],
   "source": [
    "core_json = os.path.join(model_dir,\"core_liver.json\")\n",
    "json.save_json_model(model=trial, filename=core_json)"
   ]
  },
  {
   "cell_type": "code",
   "execution_count": 24,
   "metadata": {},
   "outputs": [],
   "source": [
    "# import cplex as cplex\n",
    "# import gurobipy as gurobi"
   ]
  },
  {
   "cell_type": "code",
   "execution_count": 25,
   "metadata": {},
   "outputs": [],
   "source": [
    "# trial.solver.add(\"gurobi\")\n",
    "# trial.solver='cplex'\n",
    "# cobra.util.solver.qp_solvers = ['cplex', 'gurobi']\n",
    "# trial.solver"
   ]
  },
  {
   "cell_type": "code",
   "execution_count": 26,
   "metadata": {},
   "outputs": [
    {
     "name": "stdout",
     "output_type": "stream",
     "text": [
      "c:\\Users\\sicil\\LiverModel\\models\\core_liver.json\n",
      "Read LP format model from file C:\\Users\\sicil\\AppData\\Local\\Temp\\tmpqn8vy6rk.lp\n",
      "Reading time = 0.01 seconds\n",
      ": 74 rows, 142 columns, 528 nonzeros\n",
      "Read LP format model from file C:\\Users\\sicil\\AppData\\Local\\Temp\\tmprco0wcdn.lp\n",
      "Reading time = 0.01 seconds\n",
      ": 216 rows, 213 columns, 922 nonzeros\n",
      "Read LP format model from file C:\\Users\\sicil\\AppData\\Local\\Temp\\tmpo4gsjjyk.lp\n",
      "Reading time = 0.01 seconds\n",
      ": 216 rows, 213 columns, 922 nonzeros\n",
      "Read LP format model from file C:\\Users\\sicil\\AppData\\Local\\Temp\\tmpkrmx1130.lp\n",
      "Reading time = 0.01 seconds\n",
      ": 216 rows, 213 columns, 922 nonzeros\n",
      "Read LP format model from file C:\\Users\\sicil\\AppData\\Local\\Temp\\tmpr04vtao1.lp\n",
      "Reading time = 0.01 seconds\n",
      ": 216 rows, 213 columns, 922 nonzeros\n",
      "Read LP format model from file C:\\Users\\sicil\\AppData\\Local\\Temp\\tmpxtdidgb7.lp\n",
      "Reading time = 0.01 seconds\n",
      ": 216 rows, 213 columns, 922 nonzeros\n",
      "Read LP format model from file C:\\Users\\sicil\\AppData\\Local\\Temp\\tmpnrdy35_a.lp\n",
      "Reading time = 0.01 seconds\n",
      ": 216 rows, 213 columns, 922 nonzeros\n",
      "Read LP format model from file C:\\Users\\sicil\\AppData\\Local\\Temp\\tmpwk6ikprn.lp\n",
      "Reading time = 0.01 seconds\n",
      ": 216 rows, 213 columns, 922 nonzeros\n",
      "Read LP format model from file C:\\Users\\sicil\\AppData\\Local\\Temp\\tmpmsn49339.lp\n",
      "Reading time = 0.01 seconds\n",
      ": 216 rows, 213 columns, 922 nonzeros\n",
      "Read LP format model from file C:\\Users\\sicil\\AppData\\Local\\Temp\\tmpl4jxwstg.lp\n",
      "Reading time = 0.01 seconds\n",
      ": 216 rows, 213 columns, 922 nonzeros\n",
      "Read LP format model from file C:\\Users\\sicil\\AppData\\Local\\Temp\\tmp5d5i9o5t.lp\n",
      "Reading time = 0.01 seconds\n",
      ": 216 rows, 213 columns, 922 nonzeros\n",
      "Read LP format model from file C:\\Users\\sicil\\AppData\\Local\\Temp\\tmpbqw4dt3u.lp\n",
      "Reading time = 0.02 seconds\n",
      ": 216 rows, 213 columns, 922 nonzeros\n",
      "Read LP format model from file C:\\Users\\sicil\\AppData\\Local\\Temp\\tmp7vdpeeli.lp\n",
      "Reading time = 0.01 seconds\n",
      ": 216 rows, 213 columns, 922 nonzeros\n",
      "Read LP format model from file C:\\Users\\sicil\\AppData\\Local\\Temp\\tmpqgwtuu2y.lp\n",
      "Reading time = 0.01 seconds\n",
      ": 216 rows, 213 columns, 922 nonzeros\n",
      "Read LP format model from file C:\\Users\\sicil\\AppData\\Local\\Temp\\tmp9lg0dmml.lp\n",
      "Reading time = 0.01 seconds\n",
      ": 216 rows, 213 columns, 922 nonzeros\n",
      "Read LP format model from file C:\\Users\\sicil\\AppData\\Local\\Temp\\tmpr0cvgpqj.lp\n",
      "Reading time = 0.01 seconds\n",
      ": 216 rows, 213 columns, 922 nonzeros\n",
      "Read LP format model from file C:\\Users\\sicil\\AppData\\Local\\Temp\\tmpf5m0664j.lp\n",
      "Reading time = 0.01 seconds\n",
      ": 216 rows, 213 columns, 922 nonzeros\n",
      "Read LP format model from file C:\\Users\\sicil\\AppData\\Local\\Temp\\tmpf2jflrt3.lp\n",
      "Reading time = 0.01 seconds\n",
      ": 216 rows, 213 columns, 922 nonzeros\n",
      "Read LP format model from file C:\\Users\\sicil\\AppData\\Local\\Temp\\tmpxx987z2h.lp\n",
      "Reading time = 0.01 seconds\n",
      ": 216 rows, 213 columns, 922 nonzeros\n",
      "Read LP format model from file C:\\Users\\sicil\\AppData\\Local\\Temp\\tmp2bn3b6p5.lp\n",
      "Reading time = 0.01 seconds\n",
      ": 216 rows, 213 columns, 922 nonzeros\n",
      "Read LP format model from file C:\\Users\\sicil\\AppData\\Local\\Temp\\tmpkdddyg7c.lp\n",
      "Reading time = 0.01 seconds\n",
      ": 216 rows, 213 columns, 922 nonzeros\n",
      "Read LP format model from file C:\\Users\\sicil\\AppData\\Local\\Temp\\tmp0os51_gz.lp\n",
      "Reading time = 0.01 seconds\n",
      ": 216 rows, 213 columns, 922 nonzeros\n",
      "Read LP format model from file C:\\Users\\sicil\\AppData\\Local\\Temp\\tmpg8aoe7i3.lp\n",
      "Reading time = 0.01 seconds\n",
      ": 216 rows, 213 columns, 922 nonzeros\n"
     ]
    }
   ],
   "source": [
    "for model_file in glob(core_json):\n",
    "    model_name = model_file.split('/')[-1]\n",
    "    if 'model' not in model_name:\n",
    "        continue\n",
    "    print(model_name)\n",
    "    model= load_json_model(model_file)\n",
    "    if 'NADPHM' in model.reactions:\n",
    "        model.remove_reactions(['NADPHM'])\n",
    "    # media = ['EX_lac__L_c', 'EX_pyr_c', 'EX_octa_c', 'EX_gln__L_c', 'EX_acetone_c', 'EX_bhb_c',\n",
    "    #          'EX_glu__L_c', 'EX_ser__L_c', 'EX_cys__L_c', 'EX_gly_c', 'EX_ala__L_c', 'EX_so3_c',\n",
    "    #         'EX_etoh_c', 'EX_fru_c']\n",
    "    media = ['EX_glc__D_c']\n",
    "    for met in media:\n",
    "        if met in model.reactions:\n",
    "            model.reactions.get_by_id(met).lower_bound = -1000.\n",
    "\n",
    "    rxns = [i.id for i in model.reactions]\n",
    "    #removed blocke reactions because it included ['PEPCKm', 'PCm', 'PYRt2m', 'ADK1', 'PEPtm', 'EX_h2o_c', 'EX_pi_c']\n",
    "    # blocked = cobra.flux_analysis.find_blocked_reactions(model)\n",
    "    # print(blocked)\n",
    "    # model.remove_reactions(blocked)\n",
    "\n",
    "    solved_fluxes = minspan(model, cores=3, verbose=False, timelimit=60)\n",
    "    \n",
    "    df = pd.DataFrame(solved_fluxes.copy(), index=[i.id for i in model.reactions])\n",
    "    df = df/df.abs().max()\n",
    "    for col in range(len(df.columns)):\n",
    "        column=df.iloc[:,col]\n",
    "        vals = column.values\n",
    "        min_val = min([abs(i) for i in vals if i != 0])\n",
    "        corr_fac=1/min_val\n",
    "        # print(corr_fac)\n",
    "        vals=vals*abs(corr_fac)\n",
    "        df['Norm'+ str(col)]=vals\n",
    "    ### normalise each column by the min  qty in the column\n",
    "    csv_dir = os.path.join(minspan_dir,\"core_csv.csv\")\n",
    "    df.to_csv(csv_dir)"
   ]
  },
  {
   "cell_type": "code",
   "execution_count": null,
   "metadata": {},
   "outputs": [],
   "source": [
    "from cobra_dict import metabolite_to_dict as metabolite_to_dict\n",
    "from cobra_dict import reaction_to_dict as reaction_to_dict"
   ]
  },
  {
   "cell_type": "code",
   "execution_count": null,
   "metadata": {},
   "outputs": [],
   "source": [
    "met_df=pd.DataFrame()\n",
    "for met in trial.metabolites:\n",
    "    cobra_met= trial.metabolites.get_by_id(met.id)\n",
    "    m=metabolite_to_dict(cobra_met)\n",
    "    df_2=pd.DataFrame.from_dict(m,orient='index')\n",
    "    df_2=df_2.T\n",
    "    met_df=met_df.append(df_2)\n",
    "\n",
    "met_df=met_df.set_index('id')\n",
    "met_df"
   ]
  },
  {
   "cell_type": "code",
   "execution_count": null,
   "metadata": {},
   "outputs": [],
   "source": [
    "csv_met_cobra = os.path.join(data_dir,\"core_cobra_met.csv\")\n",
    "met_df.to_csv(csv_met_cobra)"
   ]
  },
  {
   "cell_type": "code",
   "execution_count": null,
   "metadata": {},
   "outputs": [],
   "source": [
    "rxn_df=pd.DataFrame()\n",
    "for rxn in trial.reactions:\n",
    "    cobra_rxn= trial.reactions.get_by_id(rxn.id)\n",
    "    r=reaction_to_dict(cobra_rxn)\n",
    "#     print(r)\n",
    "    df=pd.DataFrame.from_dict(r,orient='index')\n",
    "    df=df.T\n",
    "    rxn_df=rxn_df.append(df)\n",
    "\n",
    "rxn_df=rxn_df.set_index('id')\n",
    "rxn_df"
   ]
  },
  {
   "cell_type": "code",
   "execution_count": null,
   "metadata": {},
   "outputs": [],
   "source": [
    "json_rxn_cobra = os.path.join(data_dir,\"core_cobra_rxn.json\")\n",
    "rxn_df.to_json(json_rxn_cobra\n",
    ",orient=\"index\"\n",
    ")\n",
    "json_rxn_cobra"
   ]
  },
  {
   "cell_type": "markdown",
   "metadata": {},
   "source": [
    "## Making MASS model of glycolysis"
   ]
  },
  {
   "cell_type": "code",
   "execution_count": null,
   "metadata": {},
   "outputs": [],
   "source": [
    "liver= MassModel(\"Core_Model\", array_type='DataFrame', dtype=np.int64)"
   ]
  },
  {
   "cell_type": "markdown",
   "metadata": {},
   "source": [
    "#### Add the pathway metabolites and their information to a new MASS model from COBRA model"
   ]
  },
  {
   "cell_type": "code",
   "execution_count": null,
   "metadata": {},
   "outputs": [],
   "source": [
    "import json\n",
    "## make excluded list for reactions not needed in cc\n",
    "# make a string split for 13dpg etc"
   ]
  },
  {
   "cell_type": "code",
   "execution_count": null,
   "metadata": {},
   "outputs": [],
   "source": [
    "# making dataframe of metabolites\n",
    "\n",
    "met_csv_df = pd.read_csv(csv_met_cobra,index_col=\"id\")\n",
    "mass_metabolite_info=met_csv_df.to_dict(orient='index')\n",
    "\n",
    "# Loading reaction data as JSON file to maintain data types as dictionaries \n",
    "\n",
    "with open(json_rxn_cobra) as json_file:\n",
    "    mass_rxn_data = json.load(json_file)\n",
    "\n",
    "# making dataframe of reactions\n",
    "# csv_rxn = os.path.join(data_dir,\"glycolysis_gluconeogenesis_reaction_df.csv\")\n",
    "# rxn_csv_df = pd.read_csv(csv_rxn,index_col=\"id\") \n",
    "# reaction_info = rxn_csv_df.to_dict(orient='index')"
   ]
  },
  {
   "cell_type": "code",
   "execution_count": null,
   "metadata": {},
   "outputs": [],
   "source": []
  },
  {
   "cell_type": "code",
   "execution_count": null,
   "metadata": {},
   "outputs": [],
   "source": [
    "#  Add all the remaining metabolites involved in the pathway\n",
    "for met_id, info in mass_metabolite_info.items():\n",
    "    met = MassMetabolite(met_id, name=info['name'], formula=info['formula'], \n",
    "                           charge=info['charge'], compartment=info['compartment'])\n",
    "    liver.add_metabolites(met)"
   ]
  },
  {
   "cell_type": "code",
   "execution_count": null,
   "metadata": {},
   "outputs": [],
   "source": [
    "for reaction, info in mass_rxn_data.items():\n",
    "    reaction_obj = MassReaction(reaction)\n",
    "    reaction_obj.id = reaction\n",
    "    reaction= reaction_obj.id\n",
    "    reaction_obj.lower_bound = info['lower_bound']\n",
    "    reaction_obj.upper_bound = info['upper_bound']\n",
    "    reaction_obj.name = info['name']\n",
    "#     if reaction_obj.id != \"DM_nadh\" or reaction_obj.id != 'ATPM':\n",
    "    liver.add_reactions(reaction_obj)\n",
    "    temp=info['metabolites']\n",
    "    reaction_obj.add_metabolites(temp)\n",
    "    # print(reaction)"
   ]
  },
  {
   "cell_type": "code",
   "execution_count": null,
   "metadata": {},
   "outputs": [],
   "source": [
    "trial.reactions.HEX1.lower_bound"
   ]
  },
  {
   "cell_type": "code",
   "execution_count": null,
   "metadata": {},
   "outputs": [],
   "source": [
    "liver.reactions.PGK.reverse_stoichiometry(inplace=True)\n",
    "liver.reactions.PGM.reverse_stoichiometry(inplace=True)\n",
    "# liver.reactions.PGM"
   ]
  },
  {
   "cell_type": "code",
   "execution_count": null,
   "metadata": {},
   "outputs": [],
   "source": [
    "liver.reactions.PFK"
   ]
  },
  {
   "cell_type": "markdown",
   "metadata": {},
   "source": [
    "### Getting Standard and Physiological Gibbs energies of reactions"
   ]
  },
  {
   "cell_type": "code",
   "execution_count": null,
   "metadata": {},
   "outputs": [],
   "source": [
    "reaction_str= []\n",
    "\n",
    "cc = ComponentContribution()\n",
    "\n",
    "# optional: changing the aqueous environment parameters\n",
    "cc.p_h = Q_(7.4)\n",
    "cc.p_mg = Q_(3.31)\n",
    "cc.ionic_strength = Q_(\"0.144M\")\n",
    "cc.temperature = Q_(\"310.15K\")\n",
    "R = 0.00831446261815324 #R = 0.00831446261815324 kJ/mol\n",
    "from numpy import exp as exp\n",
    "Keq_df=pd.DataFrame(columns=[\"Reaction\",\"Keq\"])\n",
    "Keq_df"
   ]
  },
  {
   "cell_type": "code",
   "execution_count": null,
   "metadata": {},
   "outputs": [],
   "source": [
    "## change DM_nadh to NADHM\n",
    "# use the reactions.reactants and reactions.products\n",
    "# affects reversibility\n",
    "excluded_reactions=[\"ATPM\", \"DM_nadh\"]\n",
    "for reaction in liver.reactions:\n",
    "    rxn_name = reaction.id        \n",
    "    if rxn_name not in excluded_reactions:\n",
    "        reaction_str = reaction.reaction.split(\" <=> \")\n",
    "        reactants = reaction_str[0]\n",
    "        reactants = reactants.split(\" + \")\n",
    "\n",
    "        for i in range(len(reactants)):\n",
    "            string = reactants[i]\n",
    "            l = len(string)\n",
    "            reactants[i] = string[:l-2]\n",
    "            reactants[i]= \"bigg.metabolite:\" + reactants[i]\n",
    "        reactants_string= \" + \".join(reactants)\n",
    "        reactants_string = str(reactants_string + \" = \")   \n",
    "\n",
    "\n",
    "\n",
    "        products = reaction_str[1]\n",
    "        products = products.split(\" + \")\n",
    "\n",
    "        for i in range(len(products)):\n",
    "            string = products[i]\n",
    "            l = len(string)\n",
    "            products[i] = string[:l-2]            \n",
    "            products[i]= \"bigg.metabolite:\" + products[i]\n",
    "        products_string= ' + '.join(products)\n",
    "        reaction_to_parse = reactants_string + products_string         \n",
    "        rxn_parsed = cc.parse_reaction_formula(reaction_to_parse)\n",
    "\n",
    "        print(rxn_name)\n",
    "        dG0_prime = cc.standard_dg_prime(rxn_parsed)\n",
    "    #         print(f\"ΔG'° = {dG0_prime}\")\n",
    "\n",
    "        dGm_prime = cc.physiological_dg_prime(rxn_parsed)\n",
    "        dG_prime_value_in_kj_per_mol = dGm_prime.value.m_as(\"kJ/mol\")\n",
    "        dG0prime_value_in_kj_per_mol = dG0_prime.value.m_as(\"kJ/mol\")\n",
    "    #     print(f\"ΔG'm = {dG_prime_value_in_kj_per_mol}\")\n",
    "        delG = dG_prime_value_in_kj_per_mol\n",
    "        a = exp( -delG/ (R*310.15)) \n",
    "        reaction.Keq = a\n",
    "        print(f\"Keq = {a}\")\n",
    "#         list_keq=[reaction,a]\n",
    "#         rxn_keq=pd.DataFrame(list_keq)\n",
    "        df = pd.DataFrame([[reaction,a]], columns=[\"Reaction\",\"Keq\"])\n",
    "        Keq_df.append(df)\n",
    "    else:\n",
    "        reaction.Keq=float(\"inf\")\n",
    "# Keq_df    "
   ]
  },
  {
   "cell_type": "code",
   "execution_count": null,
   "metadata": {},
   "outputs": [],
   "source": [
    "# Keq"
   ]
  },
  {
   "cell_type": "code",
   "execution_count": null,
   "metadata": {},
   "outputs": [],
   "source": [
    "#adding DM_NADH \n",
    "# nadhm = {'nadh_c': -1, 'h_c': 1, 'nad_c': 1}\n",
    "# rxn = mass.MassReaction('DM_nadh')\n",
    "# liver.add_reaction(rxn)\n",
    "# rxn.add_metabolites(nadhm)\n"
   ]
  },
  {
   "cell_type": "code",
   "execution_count": null,
   "metadata": {},
   "outputs": [],
   "source": [
    "liver.reactions.DM_nadh.Keq=float(\"inf\")"
   ]
  },
  {
   "cell_type": "code",
   "execution_count": null,
   "metadata": {},
   "outputs": [],
   "source": [
    "# atpm = {'atp_c': -1,'h2o_c': -1,\n",
    "#     'adp_c': 1,'h_c': 1,'pi_c': 1}\n",
    "# rxn_2 = mass.MassReaction(\"ATPM\")\n",
    "# liver.add_reaction(rxn_2)\n",
    "# rxn.add_metabolites(atpm)\n"
   ]
  },
  {
   "cell_type": "code",
   "execution_count": null,
   "metadata": {},
   "outputs": [],
   "source": [
    "# liver.add_reactions([ATPM, DM_nadh])\n",
    "# ATPM.Keq"
   ]
  },
  {
   "cell_type": "code",
   "execution_count": null,
   "metadata": {},
   "outputs": [],
   "source": [
    "for met in [\n",
    "#     'co2_m', 'gdp_m', 'gtp_m', 'pi_m', 'hco3_m','h_m','atp_c','atp_m'\n",
    "    'glc__D_c','h_c','h2o_c','pi_c','pyr_c','lac__L_c'\n",
    "#     ,'nadh_c', 'nad_c'\n",
    "\n",
    "\n",
    "           ]:\n",
    "    rxn = MassReaction('EX_%s' % met)\n",
    "    liver.add_reaction(rxn)\n",
    "    rxn.add_metabolites({met: -1})\n",
    "    if met == 'glc__D_c':\n",
    "        rxn.lower_bound = -1 # negative exchange flux = uptake\n",
    "    elif met == 'pyr_c':\n",
    "        rxn.lower_bound = 0\n",
    "    else:\n",
    "        rxn.lower_bound = -1000"
   ]
  },
  {
   "cell_type": "markdown",
   "metadata": {},
   "source": [
    "##  Set Fluxes"
   ]
  },
  {
   "cell_type": "code",
   "execution_count": null,
   "metadata": {},
   "outputs": [],
   "source": [
    "reaction_list=[]\n",
    "for reaction in trial.reactions:\n",
    "    r_id = reaction.id\n",
    "    reaction_list.append(r_id)\n",
    "# reaction_list.append('DM_nadh')\n",
    "reaction_list"
   ]
  },
  {
   "cell_type": "code",
   "execution_count": null,
   "metadata": {},
   "outputs": [],
   "source": [
    "# making dataframe of reactions\n",
    "\n",
    "csv_minspan_dir = os.path.join(minspan_dir,\"liver_csv_minspan.csv\")\n",
    "minspan_df = pd.read_csv(csv_minspan_dir,index_col=\"rxn\") "
   ]
  },
  {
   "cell_type": "code",
   "execution_count": null,
   "metadata": {},
   "outputs": [],
   "source": [
    "# minspan_df."
   ]
  },
  {
   "cell_type": "code",
   "execution_count": null,
   "metadata": {},
   "outputs": [],
   "source": [
    "# solved_fluxes = minspan(liver, cores=3, verbose=False, timelimit=60)\n",
    "\n",
    "# df = pd.DataFrame(solved_fluxes.copy(), index=[i.id for i in model.reactions])\n",
    "# df = df/df.abs().max()\n",
    "# csv = os.path.join(data_dir,\"minspan_trial 1\")\n",
    "# df.to_csv(csv  % model_name)"
   ]
  },
  {
   "cell_type": "code",
   "execution_count": null,
   "metadata": {},
   "outputs": [],
   "source": [
    "for reaction, flux in flux_solution[reaction_list].iteritems():\n",
    "    reaction = liver.reactions.get_by_id(reaction)\n",
    "    reaction.steady_state_flux = flux \n",
    "#     * 1278.605 / 1000 # mmol/gdW*hr --> mmol/L * hr ---> mol/L*hr\n",
    "    print(\"{0}: {1}\".format(reaction.flux_symbol_str,\n",
    "                            reaction.steady_state_flux))"
   ]
  },
  {
   "cell_type": "code",
   "execution_count": null,
   "metadata": {},
   "outputs": [],
   "source": [
    "liver.metabolites.h_c.charge= 1\n",
    "# liver.metabolites.h_e.charge= 1\n",
    "liver.metabolites.pi_c.charge= -2"
   ]
  },
  {
   "cell_type": "code",
   "execution_count": null,
   "metadata": {},
   "outputs": [],
   "source": [
    "#Function to add underscore in front of metabolite identifiers which start with a number\n",
    "## fix this only after getting Keq from equlibrator because bigg doesn't have _13dpg for example\n",
    "def prefix_number_id(id_str):\n",
    "    \"\"\"Prefix identifiers that start with numbers.\"\"\"\n",
    "    if re.match(r\"^\\d\", id_str):\n",
    "        id_str = \"_\" + id_str\n",
    "    return id_str"
   ]
  },
  {
   "cell_type": "code",
   "execution_count": null,
   "metadata": {},
   "outputs": [],
   "source": [
    "#Loop to edit the names using \"prefix_number_id\" function defined earlier\n",
    "for metabolite in liver.metabolites:\n",
    "    new_met_id = prefix_number_id(metabolite.id)\n",
    "    metabolite.id = new_met_id\n",
    "liver.repair()"
   ]
  },
  {
   "cell_type": "markdown",
   "metadata": {},
   "source": [
    "## Setting initial conditions"
   ]
  },
  {
   "cell_type": "code",
   "execution_count": null,
   "metadata": {},
   "outputs": [],
   "source": [
    "import csv\n",
    "csv_ic = os.path.join(data_dir,\"Concentrations_Glycolysis.csv\")\n",
    "# opening the CSV file\n",
    "with open(csv_ic, mode ='r')as file:\n",
    "   \n",
    "  # reading the CSV file\n",
    "    csvFile = csv.reader(file)\n",
    "\n",
    "      # displaying the contents of the CSV file\n",
    "    for name, value in csvFile:\n",
    "        met_id = liver.metabolites.get_by_id(name)\n",
    "        met_id.ic = float(value) #M\n",
    "        print(met_id, \":\", met_id.ic)\n",
    "        print(name,value)"
   ]
  },
  {
   "cell_type": "markdown",
   "metadata": {},
   "source": [
    "## Set H2O/H Constants"
   ]
  },
  {
   "cell_type": "code",
   "execution_count": null,
   "metadata": {},
   "outputs": [],
   "source": [
    "# Set concentrations of hydrogen, water as fixed\n",
    "# Assume hydrogen in all compartments are fixed \n",
    "for metabolite in [\n",
    "    \"h_c\",\n",
    "#     'h_e','h_m',\n",
    "#     'h2o_r','h2o_e',\n",
    "    \"h2o_c\",\n",
    "#     \"glc__D_e\", \"pi_e\",'pi_m',\n",
    "    'pi_c'\n",
    "                  ]:\n",
    "    metabolite = liver.metabolites.get_by_id(metabolite)\n",
    "    metabolite.fixed = True"
   ]
  },
  {
   "cell_type": "code",
   "execution_count": null,
   "metadata": {},
   "outputs": [],
   "source": [
    "for metabolite in [\n",
    "#     'h_m',\n",
    "\"h_c\", \n",
    "#     'h_e',\n",
    "\"h2o_c\",\n",
    "#     'h2o_r','h2o_e' \n",
    "]:\n",
    "    metabolite = liver.metabolites.get_by_id(metabolite)\n",
    "    metabolite.ic = 1 #M"
   ]
  },
  {
   "cell_type": "code",
   "execution_count": null,
   "metadata": {},
   "outputs": [],
   "source": [
    "for metabolite in liver.metabolites:\n",
    "    print(\"{0}: {1}\".format(metabolite.id, metabolite.ic))"
   ]
  },
  {
   "cell_type": "code",
   "execution_count": null,
   "metadata": {},
   "outputs": [],
   "source": [
    "#Formulate QP minimization list for concentrations\n",
    "conc_solver = ConcSolver(\n",
    "    liver, \n",
    "    excluded_metabolites=[\n",
    "    \"h_c\",\n",
    "#         'h_e', 'h_m',\n",
    "#     'h2o_r','h2o_e',\n",
    "        \"h2o_c\",\n",
    "#     \"pi_e\",\n",
    "#     \"glc__D_e\", \"lac__L_e\",\n",
    "#     \"pyr_e\"\n",
    "    ], \n",
    "#     excluded_reactions=[\"Ht\", \"H2Ot\", \"H2Oter\",'PIter','PIt',\n",
    "#     'G6Pter','GLCter','GLCt1','PYRt2m','PEPtm',\n",
    "#     'L_LACt2r','PYRt2'],\n",
    "\n",
    "    constraint_buffer=1)\n",
    "\n",
    "conc_solver.setup_feasible_qp_problem(\n",
    "fixed_conc_bounds=list(liver.fixed))\n",
    "# fixed_Keq_bounds=liver.reactions.list_attr(\"Keq_str\")\n",
    "    \n",
    "#assumption: provide uncertainity to allow for a variance for the Keqs rather than staying fixed\n",
    "#conc_solver.setup_feasible_qp_problem(Keq_percent_deviation=0.1)\n",
    "\n",
    "conc_solution = conc_solver.optimize()\n",
    "conc_solution"
   ]
  },
  {
   "cell_type": "code",
   "execution_count": null,
   "metadata": {},
   "outputs": [],
   "source": [
    "#Function to load data from the excel sheet\n",
    "def load_data(filepath, sheet_name):\n",
    "    \"\"\"Load Liver data from an excel sheet\"\"\"\n",
    "    df = pd.read_excel(engine='openpyxl',\n",
    "        io=filepath,\n",
    "        sheet_name=sheet_name,\n",
    "        index_col=0)\n",
    "    return df"
   ]
  },
  {
   "cell_type": "code",
   "execution_count": null,
   "metadata": {},
   "outputs": [],
   "source": [
    "#Compare Results\n",
    "csv_ic = os.path.join(data_dir,\"Concentrations_Glycolysis.xlsx\")\n",
    "# ic_df = pd.read_csv(csv_ic)\n",
    "# ic_df.set_index()\n",
    "ic_info = load_data(\n",
    "    filepath=csv_ic,\n",
    "    sheet_name=\"Concentrations\")"
   ]
  },
  {
   "cell_type": "code",
   "execution_count": null,
   "metadata": {},
   "outputs": [],
   "source": [
    "conc_solution.Keqs"
   ]
  },
  {
   "cell_type": "code",
   "execution_count": null,
   "metadata": {},
   "outputs": [],
   "source": [
    "liver.parameters"
   ]
  },
  {
   "cell_type": "code",
   "execution_count": null,
   "metadata": {},
   "outputs": [],
   "source": []
  },
  {
   "cell_type": "code",
   "execution_count": null,
   "metadata": {},
   "outputs": [],
   "source": [
    "conc_comparison_fig, ax = plt.subplots(nrows=1, ncols=1,\n",
    "                                       figsize=(5, 5))\n",
    "\n",
    "plot_comparison(\n",
    "    x=ic_info[\"Concentrations in M\"], y=conc_solution,\n",
    "    compare=\"concentrations\",\n",
    "    observable=[mid for mid in ic_info.index], ax=ax,\n",
    "    legend=\"right outside\", plot_function=\"loglog\",\n",
    "    xlim=(1e-6,0.02), ylim=(1e-6,1e-1),\n",
    "    xy_line=True,\n",
    "    xy_legend=\"best\", xlabel=\"Initial [mol/L]\", ylabel=\"Adjusted [mol/L]\")\n",
    "\n",
    "conc_comparison_fig.tight_layout()\n",
    "update_model_with_concentration_solution(\n",
    "    liver, conc_solution, concentrations=True, inplace=True);"
   ]
  },
  {
   "cell_type": "code",
   "execution_count": null,
   "metadata": {},
   "outputs": [],
   "source": [
    "# Keq_data = pd.read_csv(\"./data/analysis_data/equilibrium_constants.csv\", index_col=0)\n",
    "\n",
    "# Keq_data_comparison_fig, ax = plt.subplots(nrows=1, ncols=1, figsize=(5, 5))\n",
    "# plot_comparison(\n",
    "#     x=Keq_data[\"Initial\"], y=Keq_data[\"Adjusted\"], ax=ax,\n",
    "#     title=\"Equilibrium Constants comparison\",\n",
    "#     legend=\"right outside\", plot_function=\"loglog\",\n",
    "#     xlim=(1e-5, 1e5), ylim=(1e-5, 1e5), \n",
    "#     xy_line=True,\n",
    "#     xy_legend=\"best\", xlabel=\"Initial\", ylabel=\"Adjusted\")\n",
    "\n",
    "# Keq_data_comparison_fig.tight_layout()"
   ]
  },
  {
   "cell_type": "code",
   "execution_count": null,
   "metadata": {},
   "outputs": [],
   "source": [
    "liver.reactions.EX_glc__D_c.Keq = 1\n",
    "liver.reactions.EX_h_c.Keq = 1 \n",
    "liver.reactions.EX_h2o_c.Keq = 1 \n",
    "liver.reactions.EX_pi_c.Keq = 1 \n",
    "liver.reactions.EX_pyr_c.Keq = 1 \n",
    "liver.reactions.EX_lac__L_c.Keq = 1 \n",
    "# liver.reactions.EX_nadh_c.Keq = 1 \n",
    "# liver.reactions.EX_nad_c.Keq = 1 "
   ]
  },
  {
   "cell_type": "code",
   "execution_count": null,
   "metadata": {},
   "outputs": [],
   "source": [
    "liver.boundary_conditions['glc__D_b']=0.010482807 ##M ## initial condition of the metabolite in the model\n",
    "liver.boundary_conditions['h2o_b']=1 ##M\n",
    "liver.boundary_conditions['h_b']=0.0064 ##M\n",
    "liver.boundary_conditions['pi_b']=0.010482807 ##M\n",
    "liver.boundary_conditions['pyr_b']=0.00048 ##M\n",
    "liver.boundary_conditions['nadh_b']=4.63542E-06\n",
    "liver.boundary_conditions['nad_b']=0.00182531\n",
    "liver.boundary_conditions['lac__L_b']=0.003261838"
   ]
  },
  {
   "cell_type": "code",
   "execution_count": null,
   "metadata": {},
   "outputs": [],
   "source": [
    "Boundary= [\n",
    "             \"EX_glc__D_c\", \n",
    "            \"EX_h_c\", \n",
    "            \"EX_h2o_c\",\n",
    "            'EX_pyr_c',\n",
    "            'EX_pi_c',\n",
    "    \"ATPM\",\n",
    "    \n",
    "#     'EX_nad_c',\n",
    "    \"EX_lac__L_c\"\n",
    "]\n",
    "for x in Boundary:\n",
    "    a=liver.reactions.get_by_id(x)\n",
    "    a.kf=1e6"
   ]
  },
  {
   "cell_type": "code",
   "execution_count": null,
   "metadata": {},
   "outputs": [],
   "source": [
    "liver.calculate_PERCs(fluxes={\n",
    "                r: v for r, v in liver.steady_state_fluxes.items()\n",
    "                if not (r.boundary  \n",
    "#                         or r== liver.reactions.GLCter or r== glycogenolysis.reactions.PIter\n",
    "#                                or r== glycogenolysis.reactions.G6Pter or r== glycogenolysis.reactions.PIt or \n",
    "#                                 r== glycogenolysis.reactions.PYRt2m or \n",
    "#                                 r== glycogenolysis.reactions.L_LACt2r or \n",
    "#                                 r== glycogenolysis.reactions.PYRt2 or \n",
    "#                                 r== glycogenolysis.reactions.PEPtm or r== glycogenolysis.reactions.GLCt1 \n",
    "#                                 or r== glycogenolysis.reactions.Ht\n",
    "                       )\n",
    "},\n",
    "                      update_reactions=True)\n",
    "\n",
    "print(\"Forward Rate Constants\\n----------------------\")\n",
    "for reaction in liver.reactions:\n",
    "    print(\"{0}: {1:.6f}\".format(reaction.kf_str, reaction.kf))"
   ]
  },
  {
   "cell_type": "code",
   "execution_count": null,
   "metadata": {},
   "outputs": [],
   "source": [
    "qcqa_model(liver, parameters=True, concentrations=True,\n",
    "           fluxes=True, superfluous=True, elemental=True)"
   ]
  },
  {
   "cell_type": "code",
   "execution_count": null,
   "metadata": {},
   "outputs": [],
   "source": [
    "# Setup simulation object\n",
    "simG=Simulation(liver, verbose=True)\n",
    "# Simulate from 0 to 1000 with 10001 points in the output\n",
    "conc_sol, flux_sol = simG.simulate(liver, time=(0, 1e8))\n",
    "# Quickly render and display time profiles\n",
    "conc_sol.view_time_profile()"
   ]
  },
  {
   "cell_type": "code",
   "execution_count": null,
   "metadata": {},
   "outputs": [],
   "source": [
    "#function to set x label and y label\n",
    "def set_x_label(xlabel):\n",
    "    if xlabel==None:\n",
    "        xlabel=\"Time\"\n",
    "    else:\n",
    "        xlabel=xlabel\n",
    "    return xlabel\n",
    "        \n",
    "def set_y_label(ylabel):        \n",
    "    if ylabel==None:\n",
    "        ylabel=\"Concentrations\"\n",
    "    else:\n",
    "        ylabel=ylabel\n",
    "    return ylabel\n"
   ]
  },
  {
   "cell_type": "code",
   "execution_count": null,
   "metadata": {},
   "outputs": [],
   "source": [
    "#function to make plot typelinear log\n",
    "def set_plot_type(plot_type):\n",
    "    if plot_type == None:\n",
    "        x_plot_type = 'log'\n",
    "        y_plot_type = 'log'\n",
    "    elif plot_type == \"logx\":\n",
    "        x_plot_type = 'log'\n",
    "        y_plot_type = 'linear'\n",
    "    elif plot_type == \"logy\":\n",
    "        x_plot_type = 'linear'\n",
    "        y_plot_type = 'log'\n",
    "    elif plot_type == \"linear\":\n",
    "        x_plot_type = 'linear'\n",
    "        y_plot_type = 'linear'\n",
    "    elif plot_type == \"logxlogy\":\n",
    "        x_plot_type = 'log'\n",
    "        y_plot_type = 'log'\n",
    "    return x_plot_type,y_plot_type\n"
   ]
  },
  {
   "cell_type": "code",
   "execution_count": null,
   "metadata": {},
   "outputs": [],
   "source": [
    "def view_all_conc_sol(conc_sol,\n",
    "#                       dynamic=True\n",
    "                      xlim=None,ylim=None,plot_type=None,xlabel=None,ylabel=None,width=None,height=None):\n",
    "    \"\"\"Generate an interactable time profile which can zoom into the plot with interactive tooltip\"\"\"\n",
    "    #Shift click to click multiple\n",
    "    \n",
    "    data=conc_sol.to_frame()\n",
    "    data = data.reset_index().melt('Time', var_name='Metabolites', value_name='Concentrations')\n",
    "    \n",
    "    # Setting X limit and Y limit\n",
    "    def set_ylim(ylim):\n",
    "        if ylim == None:\n",
    "            conc=data['Concentrations']\n",
    "            ylim_max=max(conc)\n",
    "            ylim=[1e-5,ylim_max]\n",
    "        else:\n",
    "            ylim=ylim\n",
    "        return ylim\n",
    "    \n",
    "    def set_xlim(xlim):\n",
    "        if xlim == None:\n",
    "            xlim_max=data['Time'].iloc[-1]\n",
    "            xlim=[1e-5,xlim_max]\n",
    "\n",
    "        else:\n",
    "            xlim=xlim\n",
    "        return xlim\n",
    "    xlim=set_xlim(xlim)\n",
    "    ylim=set_ylim(ylim)\n",
    "        \n",
    "       \n",
    "    # Setting type of plot\n",
    "    x_plot_type=set_plot_type(plot_type)[0]\n",
    "    y_plot_type=set_plot_type(plot_type)[1]\n",
    "        \n",
    "    # Setting x label and y label\n",
    "    xlabel=set_x_label(xlabel)\n",
    "    ylabel=set_y_label(ylabel)\n",
    "    # Setting width and height\n",
    "    if width==None:\n",
    "        width=500\n",
    "    else:\n",
    "        width=width\n",
    "        \n",
    "    if height==None:\n",
    "        height=300\n",
    "    else:\n",
    "        height=height\n",
    "    \n",
    "    alt.data_transformers.disable_max_rows()\n",
    "    selection = alt.selection_multi(fields=['Metabolites'])\n",
    "    color = alt.condition(selection,\n",
    "                          alt.Color('Metabolites:N', legend=None),\n",
    "                          alt.value('lightgray'))\n",
    "\n",
    "    line = alt.Chart(data).mark_line(clip=True).encode(alt.X('Time:Q',\n",
    "                                                             title=xlabel,\n",
    "                                                             scale=alt.Scale(type = x_plot_type,\n",
    "                                                                             padding = 10,\n",
    "                                                                             domain = xlim,\n",
    "#                   zero=True,\n",
    "                              ),\n",
    "              axis=alt.Axis(tickCount=5)),\n",
    "        alt.Y('Concentrations:Q',\n",
    "              title=ylabel,\n",
    "              scale=alt.Scale(type=y_plot_type,\n",
    "                              padding = 10,\n",
    "                              domain = ylim,\n",
    "#                   zero=True, \n",
    "                             ),\n",
    "               axis=alt.Axis(grid=False,\n",
    "                             tickCount=5)),\n",
    "        color=color,\n",
    "        tooltip= [\"Metabolites\"]+[\"Time\"]+[\"Concentrations\"]\n",
    "    ).properties(width=width, height=height).interactive()\n",
    "\n",
    "    \n",
    "    \n",
    "#         if dynamic == False:\n",
    "#             A = alt.layer(line)\n",
    "#         else:\n",
    "    legend = alt.Chart(data).mark_point().encode(\n",
    "        y=alt.Y('Metabolites:N', axis=alt.Axis(orient='right')),\n",
    "        color=color\n",
    "    ).add_selection(\n",
    "        selection\n",
    "    )\n",
    "    A= line | legend\n",
    "    return A"
   ]
  },
  {
   "cell_type": "code",
   "execution_count": null,
   "metadata": {},
   "outputs": [],
   "source": [
    "view_all_conc_sol(conc_sol,plot_type='logxlogy')"
   ]
  },
  {
   "cell_type": "code",
   "execution_count": null,
   "metadata": {},
   "outputs": [],
   "source": []
  }
 ],
 "metadata": {
  "kernelspec": {
   "display_name": "Python 3",
   "language": "python",
   "name": "python3"
  },
  "language_info": {
   "codemirror_mode": {
    "name": "ipython",
    "version": 3
   },
   "file_extension": ".py",
   "mimetype": "text/x-python",
   "name": "python",
   "nbconvert_exporter": "python",
   "pygments_lexer": "ipython3",
   "version": "3.8.12"
  }
 },
 "nbformat": 4,
 "nbformat_minor": 4
}
