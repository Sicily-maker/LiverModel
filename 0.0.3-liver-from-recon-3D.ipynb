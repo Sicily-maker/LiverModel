{
 "cells": [
  {
   "cell_type": "markdown",
   "metadata": {},
   "source": [
    "# Liver Model Construction: Notebook"
   ]
  },
  {
   "cell_type": "code",
   "execution_count": 13,
   "metadata": {},
   "outputs": [
    {
     "name": "stdout",
     "output_type": "stream",
     "text": [
      "MASSpy version: 0.1.5\n"
     ]
    }
   ],
   "source": [
    "import os\n",
    "import re\n",
    "import warnings\n",
    "from cobra.io.json import load_json_model as load_json_cobra_model\n",
    "import escher\n",
    "import mass\n",
    "import numpy as np\n",
    "import pandas as pd\n",
    "import equilibrator_api\n",
    "from equilibrator_api import ComponentContribution, Q_\n",
    "import sympy as sym\n",
    "from cobra import Model, Reaction, Metabolite\n",
    "import cobra.test\n",
    "from os.path import join\n",
    "from mass.util import qcqa\n",
    "from mass.util import qcqa_model\n",
    "from cobra import DictList\n",
    "from mass import (\n",
    "    MassConfiguration, MassMetabolite, MassModel,\n",
    "    MassReaction, Simulation, UnitDefinition)\n",
    "from mass.io.json import save_json_model as save_json_mass_model\n",
    "from mass.visualization import plot_comparison, plot_time_profile\n",
    "from mass.visualization import (\n",
    "    plot_ensemble_phase_portrait, plot_ensemble_time_profile)\n",
    "mass_config = MassConfiguration()\n",
    "mass_config.irreversible_Keq = float(\"inf\")\n",
    "print(\"MASSpy version: {0}\".format(mass.__version__))\n",
    "from six import iteritems\n",
    "import matplotlib.pyplot as plt\n",
    "from mass.thermo import (\n",
    "    ConcSolver, sample_concentrations,\n",
    "    update_model_with_concentration_solution)\n",
    "from cobra.io.json import *\n",
    "import cobra_dict as c_d\n",
    "import csv\n",
    "import altair as alt"
   ]
  },
  {
   "cell_type": "code",
   "execution_count": 14,
   "metadata": {},
   "outputs": [
    {
     "name": "stdout",
     "output_type": "stream",
     "text": [
      "3.8.12 (default, Oct 12 2021, 03:01:40) [MSC v.1916 64 bit (AMD64)]\n"
     ]
    }
   ],
   "source": [
    "import sys\n",
    "print(sys.version)"
   ]
  },
  {
   "cell_type": "code",
   "execution_count": 15,
   "metadata": {},
   "outputs": [],
   "source": [
    "maps_dir = os.path.abspath(\"maps\")\n",
    "data_dir = os.path.abspath(\"data\")\n",
    "dir = os.path.abspath(\"\")\n",
    "# model_dir = os.path.abspath(\"../massters_model\")\n",
    "# extra_dir=os.path.abspath(\"..\")\n"
   ]
  },
  {
   "cell_type": "markdown",
   "metadata": {},
   "source": [
    "### Getting reactions and metabolite data from RECON 3D"
   ]
  },
  {
   "cell_type": "code",
   "execution_count": 16,
   "metadata": {},
   "outputs": [],
   "source": [
    "# making dataframe of metabolites\n",
    "\n",
    "csv_met = os.path.join(data_dir,\"met_df\")\n",
    "met_csv_df = pd.read_csv(csv_met,index_col=\"id\")\n",
    "metabolite_info=met_csv_df.to_dict(orient='index')\n",
    "\n",
    "\n",
    "\n",
    "# making dataframe of reactions\n",
    "csv_rxn = os.path.join(data_dir,\"reaction_df\")\n",
    "rxn_csv_df = pd.read_csv(csv_rxn,index_col=\"id\") \n",
    "reaction_info = rxn_csv_df.to_dict(orient='index')"
   ]
  },
  {
   "cell_type": "markdown",
   "metadata": {},
   "source": [
    "### Loading cobra model"
   ]
  },
  {
   "cell_type": "code",
   "execution_count": 6,
   "metadata": {},
   "outputs": [],
   "source": [
    "# Initiate empty model\n",
    "trial= cobra.Model()"
   ]
  },
  {
   "cell_type": "code",
   "execution_count": 7,
   "metadata": {},
   "outputs": [],
   "source": [
    "#  Add all the remaining metabolites involved in the pathway\n",
    "for met_id, info in metabolite_info.items():\n",
    "    met = cobra.Metabolite(met_id, name=info['name'], formula=info['formula'], \n",
    "                           charge=info['charge'], compartment=info['compartment'])\n",
    "    trial.add_metabolites(met)"
   ]
  },
  {
   "cell_type": "code",
   "execution_count": 9,
   "metadata": {},
   "outputs": [],
   "source": [
    "# Loading reaction data as JSON file to maintain data types as dictionaries \n",
    "rxn_json = os.path.join(data_dir,\"reaction_json\")\n",
    "with open(rxn_json) as json_file:\n",
    "    rxn_data = json.load(json_file)"
   ]
  },
  {
   "cell_type": "code",
   "execution_count": 10,
   "metadata": {},
   "outputs": [
    {
     "name": "stdout",
     "output_type": "stream",
     "text": [
      "HEX1\n",
      "PGI\n",
      "FBP\n",
      "PFK\n",
      "FBA\n",
      "TPI\n",
      "GAPD\n",
      "PGK\n",
      "PGM\n",
      "ENO\n",
      "PYK\n",
      "LDH_L\n",
      "ATPM\n"
     ]
    }
   ],
   "source": [
    "for reaction, info in rxn_data.items():\n",
    "    reaction_obj = cobra.Reaction(reaction)\n",
    "    reaction_obj.id=reaction\n",
    "    reaction= reaction_obj.id\n",
    "    reaction_obj.lower_bound = info['lower_bound']\n",
    "    reaction_obj.upper_bound = info['upper_bound']\n",
    "    reaction_obj.name = info['name']\n",
    "    trial.add_reaction(reaction_obj)\n",
    "    temp=info['metabolites']\n",
    "    reaction_obj.add_metabolites(temp)\n",
    "    print(reaction)"
   ]
  },
  {
   "cell_type": "code",
   "execution_count": 11,
   "metadata": {},
   "outputs": [],
   "source": [
    "#adding DM_NADH \n",
    "nadhm = {'nadh_c': -1, 'h_c': 1, 'nad_c': 1}\n",
    "rxn = cobra.Reaction('DM_nadh')\n",
    "trial.add_reaction(rxn)\n",
    "rxn.add_metabolites(nadhm)\n",
    "# atpm = {'atp_c': -1,'h2o_c': -1,\n",
    "#     'adp_c': 1,'h_c': 1,'pi_c': 1}\n",
    "# rxn_2 = cobra.Reaction(\"ATPM\")\n",
    "# trial.add_reaction(rxn_2)\n",
    "# rxn.add_metabolites(atpm)\n",
    "\n",
    "\n",
    "\n",
    "# # add ATPM and NADHM\n",
    "# atpm = {'atp_c': -1, 'h2o_c': -1, 'adp_c': 1, 'h_c': 1, 'pi_c': 1}\n",
    "# rxn = cobra.Reaction('ATPM')\n",
    "# model.add_reaction(rxn)\n",
    "# rxn.add_metabolites(atpm)\n",
    "\n",
    "# nadhm = {'nadh_c': -1, 'h_c': 1, 'nad_c': 1}\n",
    "# rxn = cobra.Reaction('DM_nadh')\n",
    "# model.add_reaction(rxn)\n",
    "# rxn.add_metabolites(nadhm)"
   ]
  },
  {
   "cell_type": "code",
   "execution_count": 12,
   "metadata": {},
   "outputs": [
    {
     "name": "stdout",
     "output_type": "stream",
     "text": [
      "HEX1 {'charge': -1.0}\n",
      "PGI {}\n",
      "FBP {'charge': 2.0}\n",
      "PFK {'charge': -1.0}\n",
      "FBA {}\n",
      "TPI {}\n",
      "GAPD {'charge': -3.0}\n",
      "PGK {}\n",
      "PGM {}\n",
      "ENO {}\n",
      "PYK {'charge': 1.0}\n",
      "LDH_L {'charge': -1.0}\n",
      "ATPM {'charge': 1.0}\n",
      "DM_nadh {'charge': 1}\n"
     ]
    }
   ],
   "source": [
    "#Mass balance check\n",
    "for r in trial.reactions:\n",
    "    print(r.id,  r.check_mass_balance())"
   ]
  },
  {
   "cell_type": "code",
   "execution_count": 13,
   "metadata": {},
   "outputs": [],
   "source": [
    "trial.metabolites.h_c.charge= 1\n",
    "# trial.metabolites.h_e.charge= 1\n",
    "trial.metabolites.pi_c.charge= -2"
   ]
  },
  {
   "cell_type": "code",
   "execution_count": 14,
   "metadata": {},
   "outputs": [
    {
     "name": "stdout",
     "output_type": "stream",
     "text": [
      "HEX1 {}\n",
      "PGI {}\n",
      "FBP {}\n",
      "PFK {}\n",
      "FBA {}\n",
      "TPI {}\n",
      "GAPD {}\n",
      "PGK {}\n",
      "PGM {}\n",
      "ENO {}\n",
      "PYK {}\n",
      "LDH_L {}\n",
      "ATPM {}\n",
      "DM_nadh {'charge': 2}\n"
     ]
    }
   ],
   "source": [
    "#Mass balance check\n",
    "for r in trial.reactions:\n",
    "    print(r.id,  r.check_mass_balance())"
   ]
  },
  {
   "cell_type": "code",
   "execution_count": 15,
   "metadata": {},
   "outputs": [],
   "source": [
    "for met in ['glc__D_c', 'pyr_c', 'h2o_c', 'h_c', 'pi_c','lac__L_c']:\n",
    "    rxn = cobra.Reaction('EX_%s' % met)\n",
    "    trial.add_reaction(rxn)\n",
    "    rxn.add_metabolites({met: -1})\n",
    "    if met == 'glc__D_c':\n",
    "        rxn.lower_bound = -1 # by convention negative exchange flux = uptake\n",
    "    elif met == 'pyr_c':\n",
    "        rxn.lower_bound = 0\n",
    "    else:\n",
    "        rxn.lower_bound = -1000"
   ]
  },
  {
   "cell_type": "code",
   "execution_count": 14,
   "metadata": {},
   "outputs": [],
   "source": [
    "# solved_fluxes = minspan(trial, cores=3, verbose=False, timelimit=60)\n",
    "\n",
    "# df = pd.DataFrame(solved_fluxes.copy(), index=[i.id for i in trial.reactions])\n",
    "# df = df/df.abs().max()\n",
    "# csv = os.path.join(data_dir,\"minspan_trial 1\")\n",
    "# df.to_csv(csv  % model_name)"
   ]
  },
  {
   "cell_type": "code",
   "execution_count": null,
   "metadata": {},
   "outputs": [],
   "source": []
  },
  {
   "cell_type": "code",
   "execution_count": 12,
   "metadata": {},
   "outputs": [
    {
     "ename": "NameError",
     "evalue": "name 'trial' is not defined",
     "output_type": "error",
     "traceback": [
      "\u001b[1;31m---------------------------------------------------------------------------\u001b[0m",
      "\u001b[1;31mNameError\u001b[0m                                 Traceback (most recent call last)",
      "\u001b[1;32m~\\AppData\\Local\\Temp/ipykernel_14184/187287744.py\u001b[0m in \u001b[0;36m<module>\u001b[1;34m\u001b[0m\n\u001b[1;32m----> 1\u001b[1;33m \u001b[0mtrial\u001b[0m\u001b[1;33m.\u001b[0m\u001b[0mobjective\u001b[0m \u001b[1;33m=\u001b[0m \u001b[1;34m'ATPM'\u001b[0m\u001b[1;33m\u001b[0m\u001b[1;33m\u001b[0m\u001b[0m\n\u001b[0m\u001b[0;32m      2\u001b[0m \u001b[0mflux_solution\u001b[0m \u001b[1;33m=\u001b[0m \u001b[0mtrial\u001b[0m\u001b[1;33m.\u001b[0m\u001b[0moptimize\u001b[0m\u001b[1;33m(\u001b[0m\u001b[1;33m)\u001b[0m\u001b[1;33m\u001b[0m\u001b[1;33m\u001b[0m\u001b[0m\n\u001b[0;32m      3\u001b[0m \u001b[0mflux_solution\u001b[0m\u001b[1;33m\u001b[0m\u001b[1;33m\u001b[0m\u001b[0m\n",
      "\u001b[1;31mNameError\u001b[0m: name 'trial' is not defined"
     ]
    }
   ],
   "source": [
    "trial.objective = 'ATPM'\n",
    "flux_solution = trial.optimize()\n",
    "flux_solution"
   ]
  },
  {
   "cell_type": "code",
   "execution_count": 10,
   "metadata": {},
   "outputs": [],
   "source": [
    "from cobra.io import json\n",
    "import cobra.test\n",
    "import os\n",
    "from os.path import join\n"
   ]
  },
  {
   "cell_type": "code",
   "execution_count": 11,
   "metadata": {},
   "outputs": [
    {
     "ename": "NameError",
     "evalue": "name 'trial' is not defined",
     "output_type": "error",
     "traceback": [
      "\u001b[1;31m---------------------------------------------------------------------------\u001b[0m",
      "\u001b[1;31mNameError\u001b[0m                                 Traceback (most recent call last)",
      "\u001b[1;32m~\\AppData\\Local\\Temp/ipykernel_14184/2245234479.py\u001b[0m in \u001b[0;36m<module>\u001b[1;34m\u001b[0m\n\u001b[0;32m      1\u001b[0m \u001b[0mtrial_json\u001b[0m \u001b[1;33m=\u001b[0m \u001b[0mos\u001b[0m\u001b[1;33m.\u001b[0m\u001b[0mpath\u001b[0m\u001b[1;33m.\u001b[0m\u001b[0mjoin\u001b[0m\u001b[1;33m(\u001b[0m\u001b[0mdir\u001b[0m\u001b[1;33m,\u001b[0m\u001b[1;34m\"trial_json\"\u001b[0m\u001b[1;33m)\u001b[0m\u001b[1;33m\u001b[0m\u001b[1;33m\u001b[0m\u001b[0m\n\u001b[1;32m----> 2\u001b[1;33m \u001b[0mcobra\u001b[0m\u001b[1;33m.\u001b[0m\u001b[0mio\u001b[0m\u001b[1;33m.\u001b[0m\u001b[0msave_json_model\u001b[0m\u001b[1;33m(\u001b[0m\u001b[0mtrial\u001b[0m\u001b[1;33m,\u001b[0m \u001b[0mtrial_json\u001b[0m \u001b[1;33m)\u001b[0m\u001b[1;33m\u001b[0m\u001b[1;33m\u001b[0m\u001b[0m\n\u001b[0m",
      "\u001b[1;31mNameError\u001b[0m: name 'trial' is not defined"
     ]
    }
   ],
   "source": [
    "\n",
    "trial_json = os.path.join(dir,\"trial_json\")\n",
    "cobra.io.save_json_model(trial, trial_json )"
   ]
  },
  {
   "cell_type": "code",
   "execution_count": 4,
   "metadata": {},
   "outputs": [],
   "source": [
    "from minspan import minspan,nnz"
   ]
  },
  {
   "cell_type": "code",
   "execution_count": null,
   "metadata": {},
   "outputs": [],
   "source": []
  },
  {
   "cell_type": "code",
   "execution_count": null,
   "metadata": {},
   "outputs": [],
   "source": []
  },
  {
   "cell_type": "markdown",
   "metadata": {},
   "source": [
    "## Making MASS model of glycolysis"
   ]
  },
  {
   "cell_type": "code",
   "execution_count": 16,
   "metadata": {},
   "outputs": [],
   "source": [
    "liver= MassModel(\"Core_Model\", array_type='DataFrame', dtype=np.int64)"
   ]
  },
  {
   "cell_type": "markdown",
   "metadata": {},
   "source": [
    "#### Add the pathway metabolites and their information to a new MASS model"
   ]
  },
  {
   "cell_type": "code",
   "execution_count": 17,
   "metadata": {},
   "outputs": [],
   "source": [
    "#  Add all the remaining metabolites involved in the pathway\n",
    "for met_id, info in metabolite_info.items():\n",
    "    met = MassMetabolite(met_id, name=info['name'], formula=info['formula'], \n",
    "                           charge=info['charge'], compartment=info['compartment'])\n",
    "    liver.add_metabolites(met)"
   ]
  },
  {
   "cell_type": "code",
   "execution_count": 18,
   "metadata": {},
   "outputs": [
    {
     "name": "stdout",
     "output_type": "stream",
     "text": [
      "HEX1\n",
      "PGI\n",
      "FBP\n",
      "PFK\n",
      "FBA\n",
      "TPI\n",
      "GAPD\n",
      "PGK\n",
      "PGM\n",
      "ENO\n",
      "PYK\n",
      "LDH_L\n",
      "ATPM\n"
     ]
    }
   ],
   "source": [
    "for reaction, info in rxn_data.items():\n",
    "    reaction_obj = MassReaction(reaction)\n",
    "    reaction_obj.id = reaction\n",
    "    reaction= reaction_obj.id\n",
    "    reaction_obj.lower_bound = info['lower_bound']\n",
    "    reaction_obj.upper_bound = info['upper_bound']\n",
    "    reaction_obj.name = info['name']\n",
    "#     if reaction_obj.id != \"DM_nadh\" or reaction_obj.id != 'ATPM':\n",
    "    liver.add_reactions(reaction_obj)\n",
    "    temp=info['metabolites']\n",
    "    reaction_obj.add_metabolites(temp)\n",
    "    print(reaction)"
   ]
  },
  {
   "cell_type": "code",
   "execution_count": 19,
   "metadata": {},
   "outputs": [
    {
     "data": {
      "text/html": [
       "\n",
       "            <table>\n",
       "                <tr>\n",
       "                    <td><strong>Reaction identifier</strong></td>\n",
       "                    <td>PGM</td>\n",
       "                </tr><tr>\n",
       "                    <td><strong>Name</strong></td>\n",
       "                    <td>Phosphoglycerate mutase</td>\n",
       "                </tr><tr>\n",
       "                    <td><strong>Memory address</strong></td>\n",
       "                    <td>0x07efe06f9c990</td>\n",
       "                </tr><tr>\n",
       "                    <td><strong>Subsystem</strong></td>\n",
       "                    <td></td>\n",
       "                </tr><tr>\n",
       "                    <td><strong>Kinetic Reversibility</strong></td>\n",
       "                    <td>True</td>\n",
       "                </tr><tr>\n",
       "                    <td><strong>Stoichiometry</strong></td>\n",
       "                    <td>\n",
       "                        <p style='text-align:right'>3pg_c <=> 2pg_c</p>\n",
       "                        <p style='text-align:right'>3-Phospho-D-glycerate <=> D-Glycerate 2-phosphate</p>\n",
       "                    </td>\n",
       "                </tr><tr>\n",
       "                    <td><strong>GPR</strong></td><td></td>\n",
       "                </tr><tr>\n",
       "                    <td><strong>Bounds</strong></td><td>(-1000.0, 1000.0)</td>\n",
       "                </tr>\n",
       "            </table>\n",
       "        "
      ],
      "text/plain": [
       "<MassReaction PGM at 0x7efe06f9c990>"
      ]
     },
     "execution_count": 19,
     "metadata": {},
     "output_type": "execute_result"
    }
   ],
   "source": [
    "liver.reactions.PGK.reverse_stoichiometry(inplace=True)\n",
    "liver.reactions.PGM.reverse_stoichiometry(inplace=True)\n",
    "# liver.reactions.PGM"
   ]
  },
  {
   "cell_type": "markdown",
   "metadata": {},
   "source": [
    "### Getting Standard and Physiological Gibbs energies of reactions"
   ]
  },
  {
   "cell_type": "code",
   "execution_count": 20,
   "metadata": {},
   "outputs": [
    {
     "data": {
      "text/html": [
       "<div>\n",
       "<style scoped>\n",
       "    .dataframe tbody tr th:only-of-type {\n",
       "        vertical-align: middle;\n",
       "    }\n",
       "\n",
       "    .dataframe tbody tr th {\n",
       "        vertical-align: top;\n",
       "    }\n",
       "\n",
       "    .dataframe thead th {\n",
       "        text-align: right;\n",
       "    }\n",
       "</style>\n",
       "<table border=\"1\" class=\"dataframe\">\n",
       "  <thead>\n",
       "    <tr style=\"text-align: right;\">\n",
       "      <th></th>\n",
       "      <th>Reaction</th>\n",
       "      <th>Keq</th>\n",
       "    </tr>\n",
       "  </thead>\n",
       "  <tbody>\n",
       "  </tbody>\n",
       "</table>\n",
       "</div>"
      ],
      "text/plain": [
       "Empty DataFrame\n",
       "Columns: [Reaction, Keq]\n",
       "Index: []"
      ]
     },
     "execution_count": 20,
     "metadata": {},
     "output_type": "execute_result"
    }
   ],
   "source": [
    "reaction_str= []\n",
    "\n",
    "cc = ComponentContribution()\n",
    "\n",
    "# optional: changing the aqueous environment parameters\n",
    "cc.p_h = Q_(7.4)\n",
    "cc.p_mg = Q_(3.31)\n",
    "cc.ionic_strength = Q_(\"0.144M\")\n",
    "cc.temperature = Q_(\"310.15K\")\n",
    "R = 0.00831446261815324 #R = 0.00831446261815324 kJ/mol\n",
    "from numpy import exp as exp\n",
    "Keq_df=pd.DataFrame(columns=[\"Reaction\",\"Keq\"])\n",
    "Keq_df"
   ]
  },
  {
   "cell_type": "code",
   "execution_count": 21,
   "metadata": {},
   "outputs": [
    {
     "name": "stdout",
     "output_type": "stream",
     "text": [
      "HEX1\n",
      "Keq = 4959.419292148073\n",
      "PGI\n",
      "Keq = 0.34798040939490554\n",
      "FBP\n",
      "Keq = 115004.76795942851\n",
      "PFK\n",
      "Keq = 1454.9063091036724\n",
      "FBA\n",
      "Keq = 0.1620181301040788\n",
      "TPI\n",
      "Keq = 0.11365701527311964\n",
      "GAPD\n",
      "Keq = 0.0006723795415727605\n",
      "PGK\n",
      "Keq = 1943.5298920087905\n",
      "PGM\n",
      "Keq = 0.17239894103513229\n",
      "ENO\n",
      "Keq = 4.332330471156045\n",
      "PYK\n",
      "Keq = 10333.2896179346\n",
      "LDH_L\n",
      "Keq = 0.00013815091719569572\n"
     ]
    }
   ],
   "source": [
    "\n",
    "\n",
    "for reaction in liver.reactions:\n",
    "    rxn_name = reaction.id        \n",
    "    if rxn_name != \"ATPM\":\n",
    "        reaction_str = reaction.reaction.split(\" <=> \")\n",
    "        reactants = reaction_str[0]\n",
    "        reactants = reactants.split(\" + \")\n",
    "\n",
    "        for i in range(len(reactants)):\n",
    "            string = reactants[i]\n",
    "            l = len(string)\n",
    "            reactants[i] = string[:l-2]\n",
    "            reactants[i]= \"bigg.metabolite:\" + reactants[i]\n",
    "        reactants_string= \" + \".join(reactants)\n",
    "        reactants_string = str(reactants_string + \" = \")   \n",
    "\n",
    "\n",
    "\n",
    "        products = reaction_str[1]\n",
    "        products = products.split(\" + \")\n",
    "\n",
    "        for i in range(len(products)):\n",
    "            string = products[i]\n",
    "            l = len(string)\n",
    "            products[i] = string[:l-2]            \n",
    "            products[i]= \"bigg.metabolite:\" + products[i]\n",
    "        products_string= ' + '.join(products)\n",
    "        reaction_to_parse = reactants_string + products_string         \n",
    "        rxn_parsed = cc.parse_reaction_formula(reaction_to_parse)\n",
    "\n",
    "        print(rxn_name)\n",
    "        dG0_prime = cc.standard_dg_prime(rxn_parsed)\n",
    "    #         print(f\"ΔG'° = {dG0_prime}\")\n",
    "\n",
    "        dGm_prime = cc.physiological_dg_prime(rxn_parsed)\n",
    "        dG_prime_value_in_kj_per_mol = dGm_prime.value.m_as(\"kJ/mol\")\n",
    "        dG0prime_value_in_kj_per_mol = dG0_prime.value.m_as(\"kJ/mol\")\n",
    "    #     print(f\"ΔG'm = {dG_prime_value_in_kj_per_mol}\")\n",
    "        delG = dG_prime_value_in_kj_per_mol\n",
    "        a = exp( -delG/ (R*310.15)) \n",
    "        reaction.Keq = a\n",
    "        print(f\"Keq = {a}\")\n",
    "#         list_keq=[reaction,a]\n",
    "#         rxn_keq=pd.DataFrame(list_keq)\n",
    "        df = pd.DataFrame([[reaction,a]], columns=[\"Reaction\",\"Keq\"])\n",
    "        Keq_df.append(df)\n",
    "    else:\n",
    "        reaction.Keq=float(\"inf\")\n",
    "# Keq_df    "
   ]
  },
  {
   "cell_type": "code",
   "execution_count": 22,
   "metadata": {},
   "outputs": [],
   "source": [
    "# Keq"
   ]
  },
  {
   "cell_type": "code",
   "execution_count": 23,
   "metadata": {},
   "outputs": [],
   "source": [
    "#adding DM_NADH \n",
    "nadhm = {'nadh_c': -1, 'h_c': 1, 'nad_c': 1}\n",
    "rxn = mass.MassReaction('DM_nadh')\n",
    "liver.add_reaction(rxn)\n",
    "rxn.add_metabolites(nadhm)\n"
   ]
  },
  {
   "cell_type": "code",
   "execution_count": 24,
   "metadata": {},
   "outputs": [],
   "source": [
    "liver.reactions.DM_nadh.Keq=float(\"inf\")"
   ]
  },
  {
   "cell_type": "code",
   "execution_count": 25,
   "metadata": {},
   "outputs": [],
   "source": [
    "# atpm = {'atp_c': -1,'h2o_c': -1,\n",
    "#     'adp_c': 1,'h_c': 1,'pi_c': 1}\n",
    "# rxn_2 = mass.MassReaction(\"ATPM\")\n",
    "# liver.add_reaction(rxn_2)\n",
    "# rxn.add_metabolites(atpm)\n"
   ]
  },
  {
   "cell_type": "code",
   "execution_count": 26,
   "metadata": {},
   "outputs": [],
   "source": [
    "# ATPM = MassReaction(\n",
    "#     \"ATPM\",\n",
    "#     name=\"ATP maintenance requirement\",\n",
    "#     subsystem=\"Pseudoreaction\",\n",
    "#     reversible=False)\n",
    "# ATPM.add_metabolites({\n",
    "#     'atp_c': -1,\n",
    "#     'h2o_c': -1,\n",
    "#     'adp_c': 1,\n",
    "#     'h_c': 1,\n",
    "#     'pi_c': 1})\n",
    "# DM_nadh = MassReaction(\n",
    "#     \"DM_nadh\",\n",
    "#     name=\"Demand NADH\",\n",
    "#     subsystem=\"Pseudoreaction\",\n",
    "#     reversible=False)\n",
    "# DM_nadh.add_metabolites({\n",
    "#     'nadh_c': -1,\n",
    "#     'nad_c': 1,\n",
    "#     'h_c': 1})"
   ]
  },
  {
   "cell_type": "code",
   "execution_count": 27,
   "metadata": {},
   "outputs": [],
   "source": [
    "# liver.add_reactions([ATPM, DM_nadh])\n",
    "# ATPM.Keq"
   ]
  },
  {
   "cell_type": "code",
   "execution_count": 28,
   "metadata": {},
   "outputs": [],
   "source": [
    "for met in [\n",
    "#     'co2_m', 'gdp_m', 'gtp_m', 'pi_m', 'hco3_m','h_m','atp_c','atp_m'\n",
    "    'glc__D_c','h_c','h2o_c','pi_c','pyr_c','lac__L_c'\n",
    "#     ,'nadh_c', 'nad_c'\n",
    "\n",
    "\n",
    "           ]:\n",
    "    rxn = MassReaction('EX_%s' % met)\n",
    "    liver.add_reaction(rxn)\n",
    "    rxn.add_metabolites({met: -1})\n",
    "    if met == 'glc__D_c':\n",
    "        rxn.lower_bound = -1 # negative exchange flux = uptake\n",
    "    elif met == 'pyr_c':\n",
    "        rxn.lower_bound = 0\n",
    "    else:\n",
    "        rxn.lower_bound = -1000"
   ]
  },
  {
   "cell_type": "markdown",
   "metadata": {},
   "source": [
    "##  Set Fluxes"
   ]
  },
  {
   "cell_type": "code",
   "execution_count": 29,
   "metadata": {},
   "outputs": [
    {
     "data": {
      "text/plain": [
       "['HEX1',\n",
       " 'PGI',\n",
       " 'FBP',\n",
       " 'PFK',\n",
       " 'FBA',\n",
       " 'TPI',\n",
       " 'GAPD',\n",
       " 'PGK',\n",
       " 'PGM',\n",
       " 'ENO',\n",
       " 'PYK',\n",
       " 'LDH_L',\n",
       " 'ATPM',\n",
       " 'DM_nadh',\n",
       " 'EX_glc__D_c',\n",
       " 'EX_pyr_c',\n",
       " 'EX_h2o_c',\n",
       " 'EX_h_c',\n",
       " 'EX_pi_c',\n",
       " 'EX_lac__L_c']"
      ]
     },
     "execution_count": 29,
     "metadata": {},
     "output_type": "execute_result"
    }
   ],
   "source": [
    "reaction_list=[]\n",
    "for reaction in trial.reactions:\n",
    "    r_id = reaction.id\n",
    "    reaction_list.append(r_id)\n",
    "# reaction_list.append('DM_nadh')\n",
    "reaction_list"
   ]
  },
  {
   "cell_type": "code",
   "execution_count": 30,
   "metadata": {},
   "outputs": [],
   "source": [
    "from minspan import minspan"
   ]
  },
  {
   "cell_type": "code",
   "execution_count": 31,
   "metadata": {},
   "outputs": [],
   "source": [
    "# solved_fluxes = minspan(liver, cores=3, verbose=False, timelimit=60)\n",
    "\n",
    "# df = pd.DataFrame(solved_fluxes.copy(), index=[i.id for i in model.reactions])\n",
    "# df = df/df.abs().max()\n",
    "# csv = os.path.join(data_dir,\"minspan_trial 1\")\n",
    "# df.to_csv(csv  % model_name)"
   ]
  },
  {
   "cell_type": "code",
   "execution_count": 32,
   "metadata": {},
   "outputs": [
    {
     "name": "stdout",
     "output_type": "stream",
     "text": [
      "v_HEX1: 1.0\n",
      "v_PGI: 1.0\n",
      "v_FBP: 0.0\n",
      "v_PFK: 1.0\n",
      "v_FBA: 1.0\n",
      "v_TPI: 1.0\n",
      "v_GAPD: 2.0\n",
      "v_PGK: -2.0\n",
      "v_PGM: -2.0\n",
      "v_ENO: 2.0\n",
      "v_PYK: 2.0\n",
      "v_LDH_L: 0.0\n",
      "v_ATPM: 2.0\n",
      "v_DM_nadh: 2.0\n",
      "v_EX_glc__D_c: -1.0\n",
      "v_EX_pyr_c: 2.0\n",
      "v_EX_h2o_c: 0.0\n",
      "v_EX_h_c: 6.0\n",
      "v_EX_pi_c: 0.0\n",
      "v_EX_lac__L_c: -0.0\n"
     ]
    }
   ],
   "source": [
    "for reaction, flux in flux_solution[reaction_list].iteritems():\n",
    "    reaction = liver.reactions.get_by_id(reaction)\n",
    "    reaction.steady_state_flux = flux \n",
    "#     * 1278.605 / 1000 # mmol/gdW*hr --> mmol/L * hr ---> mol/L*hr\n",
    "    print(\"{0}: {1}\".format(reaction.flux_symbol_str,\n",
    "                            reaction.steady_state_flux))"
   ]
  },
  {
   "cell_type": "code",
   "execution_count": 33,
   "metadata": {},
   "outputs": [],
   "source": [
    "liver.metabolites.h_c.charge= 1\n",
    "# liver.metabolites.h_e.charge= 1\n",
    "liver.metabolites.pi_c.charge= -2"
   ]
  },
  {
   "cell_type": "code",
   "execution_count": 34,
   "metadata": {},
   "outputs": [],
   "source": [
    "#Function to add underscore in front of metabolite identifiers which start with a number\n",
    "## fix this only after getting Keq from equlibrator because bigg doesn't have _13dpg for example\n",
    "def prefix_number_id(id_str):\n",
    "    \"\"\"Prefix identifiers that start with numbers.\"\"\"\n",
    "    if re.match(r\"^\\d\", id_str):\n",
    "        id_str = \"_\" + id_str\n",
    "    return id_str"
   ]
  },
  {
   "cell_type": "code",
   "execution_count": 35,
   "metadata": {},
   "outputs": [],
   "source": [
    "#Loop to edit the names using \"prefix_number_id\" function defined earlier\n",
    "for metabolite in liver.metabolites:\n",
    "    new_met_id = prefix_number_id(metabolite.id)\n",
    "    metabolite.id = new_met_id\n",
    "liver.repair()"
   ]
  },
  {
   "cell_type": "markdown",
   "metadata": {},
   "source": [
    "## Setting initial conditions"
   ]
  },
  {
   "cell_type": "code",
   "execution_count": 38,
   "metadata": {},
   "outputs": [
    {
     "name": "stdout",
     "output_type": "stream",
     "text": [
      "g6p_c : 0.00014\n",
      "g6p_c 0.00014\n",
      "glc__D_c : 0.010482807\n",
      "glc__D_c 0.010482807\n",
      "f6p_c : 0.000127138\n",
      "f6p_c 0.000127138\n",
      "fdp_c : 5.15e-05\n",
      "fdp_c 5.15E-05\n",
      "g3p_c : 8.78e-06\n",
      "g3p_c 8.78E-06\n",
      "dhap_c : 0.000176897\n",
      "dhap_c 0.000176897\n",
      "_3pg_c : 0.00052063\n",
      "_3pg_c 0.00052063\n",
      "_2pg_c : 0.000110561\n",
      "_2pg_c 0.000110561\n",
      "pep_c : 0.00031\n",
      "pep_c 0.00031\n",
      "pyr_c : 0.00048\n",
      "pyr_c 0.00048\n",
      "atp_c : 0.004727146\n",
      "atp_c 0.004727146\n",
      "adp_c : 0.001994952\n",
      "adp_c 0.001994952\n",
      "nad_c : 0.00182531\n",
      "nad_c 0.00182531\n",
      "nadh_c : 4.64e-06\n",
      "nadh_c 4.64E-06\n",
      "pi_c : 0.0064\n",
      "pi_c 0.0064\n",
      "lac__L_c : 0.003261838\n",
      "lac__L_c 0.003261838\n"
     ]
    }
   ],
   "source": [
    "import csv\n",
    "csv_ic = os.path.join(data_dir,\"Concentrations_Glycolysis.csv\")\n",
    "# opening the CSV file\n",
    "with open(csv_ic, mode ='r')as file:\n",
    "   \n",
    "  # reading the CSV file\n",
    "    csvFile = csv.reader(file)\n",
    "\n",
    "      # displaying the contents of the CSV file\n",
    "    for name, value in csvFile:\n",
    "        met_id = liver.metabolites.get_by_id(name)\n",
    "        met_id.ic = float(value) #M\n",
    "        print(met_id, \":\", met_id.ic)\n",
    "        print(name,value)"
   ]
  },
  {
   "cell_type": "markdown",
   "metadata": {},
   "source": [
    "## Set H2O/H Constants"
   ]
  },
  {
   "cell_type": "code",
   "execution_count": 39,
   "metadata": {},
   "outputs": [],
   "source": [
    "# Set concentrations of hydrogen, water as fixed\n",
    "# Assume hydrogen in all compartments are fixed \n",
    "for metabolite in [\n",
    "    \"h_c\",\n",
    "#     'h_e','h_m',\n",
    "#     'h2o_r','h2o_e',\n",
    "    \"h2o_c\",\n",
    "#     \"glc__D_e\", \"pi_e\",'pi_m',\n",
    "    'pi_c'\n",
    "                  ]:\n",
    "    metabolite = liver.metabolites.get_by_id(metabolite)\n",
    "    metabolite.fixed = True"
   ]
  },
  {
   "cell_type": "code",
   "execution_count": 40,
   "metadata": {},
   "outputs": [],
   "source": [
    "for metabolite in [\n",
    "#     'h_m',\n",
    "\"h_c\", \n",
    "#     'h_e',\n",
    "\"h2o_c\",\n",
    "#     'h2o_r','h2o_e' \n",
    "]:\n",
    "    metabolite = liver.metabolites.get_by_id(metabolite)\n",
    "    metabolite.ic = 1 #M"
   ]
  },
  {
   "cell_type": "code",
   "execution_count": 41,
   "metadata": {},
   "outputs": [
    {
     "name": "stdout",
     "output_type": "stream",
     "text": [
      "glc__D_c: 0.010482807\n",
      "g6p_c: 0.00014\n",
      "adp_c: 0.001994952\n",
      "atp_c: 0.004727146\n",
      "h_c: 1\n",
      "f6p_c: 0.000127138\n",
      "h2o_c: 1\n",
      "pi_c: 0.0064\n",
      "fdp_c: 5.15e-05\n",
      "dhap_c: 0.000176897\n",
      "g3p_c: 8.78e-06\n",
      "nad_c: 0.00182531\n",
      "nadh_c: 4.64e-06\n",
      "_13dpg_c: None\n",
      "_3pg_c: 0.00052063\n",
      "_2pg_c: 0.000110561\n",
      "pep_c: 0.00031\n",
      "pyr_c: 0.00048\n",
      "lac__L_c: 0.003261838\n"
     ]
    }
   ],
   "source": [
    "for metabolite in liver.metabolites:\n",
    "    print(\"{0}: {1}\".format(metabolite.id, metabolite.ic))"
   ]
  },
  {
   "cell_type": "code",
   "execution_count": 42,
   "metadata": {},
   "outputs": [
    {
     "name": "stderr",
     "output_type": "stream",
     "text": [
      "\u001b[93mWARNING:\u001b[0m \u001b[93mMissing concentrations for the following: ['_13dpg_c']\u001b[0m\n",
      "WARNING:mass.thermo.conc_solver:Missing concentrations for the following: ['_13dpg_c']\n",
      "\u001b[93mWARNING:\u001b[0m \u001b[93mNo Keq variables or reaction constraints created for the following reactions not defined as equilibrium reactions but with steady state fluxes of 0.:\n",
      "['FBP', 'LDH_L']\u001b[0m\n",
      "WARNING:mass.thermo.conc_solver:No Keq variables or reaction constraints created for the following reactions not defined as equilibrium reactions but with steady state fluxes of 0.:\n",
      "['FBP', 'LDH_L']\n"
     ]
    },
    {
     "data": {
      "text/html": [
       "<strong><em>Optimal</em> solution with objective value 0.000</strong><br><div>\n",
       "<style scoped>\n",
       "    .dataframe tbody tr th:only-of-type {\n",
       "        vertical-align: middle;\n",
       "    }\n",
       "\n",
       "    .dataframe tbody tr th {\n",
       "        vertical-align: top;\n",
       "    }\n",
       "\n",
       "    .dataframe thead th {\n",
       "        text-align: right;\n",
       "    }\n",
       "</style>\n",
       "<table border=\"1\" class=\"dataframe\">\n",
       "  <thead>\n",
       "    <tr style=\"text-align: right;\">\n",
       "      <th></th>\n",
       "      <th>variables</th>\n",
       "      <th>reduced_costs</th>\n",
       "    </tr>\n",
       "  </thead>\n",
       "  <tbody>\n",
       "    <tr>\n",
       "      <th>glc__D_c</th>\n",
       "      <td>0.010483</td>\n",
       "      <td>0.0</td>\n",
       "    </tr>\n",
       "    <tr>\n",
       "      <th>g6p_c</th>\n",
       "      <td>0.000269</td>\n",
       "      <td>0.0</td>\n",
       "    </tr>\n",
       "    <tr>\n",
       "      <th>adp_c</th>\n",
       "      <td>0.001995</td>\n",
       "      <td>0.0</td>\n",
       "    </tr>\n",
       "    <tr>\n",
       "      <th>atp_c</th>\n",
       "      <td>0.004727</td>\n",
       "      <td>0.0</td>\n",
       "    </tr>\n",
       "    <tr>\n",
       "      <th>f6p_c</th>\n",
       "      <td>0.000066</td>\n",
       "      <td>0.0</td>\n",
       "    </tr>\n",
       "    <tr>\n",
       "      <th>...</th>\n",
       "      <td>...</td>\n",
       "      <td>...</td>\n",
       "    </tr>\n",
       "    <tr>\n",
       "      <th>Keq_GAPD</th>\n",
       "      <td>0.000672</td>\n",
       "      <td>0.0</td>\n",
       "    </tr>\n",
       "    <tr>\n",
       "      <th>Keq_PGK</th>\n",
       "      <td>1943.529892</td>\n",
       "      <td>0.0</td>\n",
       "    </tr>\n",
       "    <tr>\n",
       "      <th>Keq_PGM</th>\n",
       "      <td>0.137497</td>\n",
       "      <td>0.0</td>\n",
       "    </tr>\n",
       "    <tr>\n",
       "      <th>Keq_ENO</th>\n",
       "      <td>4.850112</td>\n",
       "      <td>0.0</td>\n",
       "    </tr>\n",
       "    <tr>\n",
       "      <th>Keq_PYK</th>\n",
       "      <td>10333.289618</td>\n",
       "      <td>0.0</td>\n",
       "    </tr>\n",
       "  </tbody>\n",
       "</table>\n",
       "<p>27 rows × 2 columns</p>\n",
       "</div>"
      ],
      "text/plain": [
       "<Solution 0.000 at 0x7efe03c59310>"
      ]
     },
     "execution_count": 42,
     "metadata": {},
     "output_type": "execute_result"
    }
   ],
   "source": [
    "#Formulate QP minimization list for concentrations\n",
    "conc_solver = ConcSolver(\n",
    "    liver, \n",
    "    excluded_metabolites=[\n",
    "    \"h_c\",\n",
    "#         'h_e', 'h_m',\n",
    "#     'h2o_r','h2o_e',\n",
    "        \"h2o_c\",\n",
    "#     \"pi_e\",\n",
    "#     \"glc__D_e\", \"lac__L_e\",\n",
    "#     \"pyr_e\"\n",
    "    ], \n",
    "#     excluded_reactions=[\"Ht\", \"H2Ot\", \"H2Oter\",'PIter','PIt',\n",
    "#     'G6Pter','GLCter','GLCt1','PYRt2m','PEPtm',\n",
    "#     'L_LACt2r','PYRt2'],\n",
    "\n",
    "    constraint_buffer=1)\n",
    "\n",
    "conc_solver.setup_feasible_qp_problem(\n",
    "fixed_conc_bounds=list(liver.fixed))\n",
    "# fixed_Keq_bounds=liver.reactions.list_attr(\"Keq_str\")\n",
    "    \n",
    "#assumption: provide uncertainity to allow for a variance for the Keqs rather than staying fixed\n",
    "#conc_solver.setup_feasible_qp_problem(Keq_percent_deviation=0.1)\n",
    "\n",
    "conc_solution = conc_solver.optimize()\n",
    "conc_solution"
   ]
  },
  {
   "cell_type": "code",
   "execution_count": 43,
   "metadata": {},
   "outputs": [],
   "source": [
    "#Function to load data from the excel sheet\n",
    "def load_data(filepath, sheet_name):\n",
    "    \"\"\"Load Liver data from an excel sheet\"\"\"\n",
    "    df = pd.read_excel(engine='openpyxl',\n",
    "        io=filepath,\n",
    "        sheet_name=sheet_name,\n",
    "        index_col=0)\n",
    "    return df"
   ]
  },
  {
   "cell_type": "code",
   "execution_count": 44,
   "metadata": {},
   "outputs": [],
   "source": [
    "#Compare Results\n",
    "csv_ic = os.path.join(data_dir,\"Concentrations_Glycolysis.xlsx\")\n",
    "# ic_df = pd.read_csv(csv_ic)\n",
    "# ic_df.set_index()\n",
    "ic_info = load_data(\n",
    "    filepath=csv_ic,\n",
    "    sheet_name=\"Concentrations\")"
   ]
  },
  {
   "cell_type": "code",
   "execution_count": 45,
   "metadata": {},
   "outputs": [
    {
     "data": {
      "text/plain": [
       "Keq_HEX1     4959.419292\n",
       "Keq_PGI         0.668627\n",
       "Keq_PFK      1454.906309\n",
       "Keq_FBA         0.162018\n",
       "Keq_TPI         0.120343\n",
       "Keq_GAPD        0.000672\n",
       "Keq_PGK      1943.529892\n",
       "Keq_PGM         0.137497\n",
       "Keq_ENO         4.850112\n",
       "Keq_PYK     10333.289618\n",
       "Name: Keqs, dtype: float64"
      ]
     },
     "execution_count": 45,
     "metadata": {},
     "output_type": "execute_result"
    }
   ],
   "source": [
    "conc_solution.Keqs"
   ]
  },
  {
   "cell_type": "code",
   "execution_count": 46,
   "metadata": {},
   "outputs": [
    {
     "data": {
      "text/plain": [
       "{'kf': {},\n",
       " 'Keq': {'Keq_HEX1': 4959.419292148073,\n",
       "  'Keq_PGI': 0.34798040939490554,\n",
       "  'Keq_FBP': 115004.76795942851,\n",
       "  'Keq_PFK': 1454.9063091036724,\n",
       "  'Keq_FBA': 0.1620181301040788,\n",
       "  'Keq_TPI': 0.11365701527311964,\n",
       "  'Keq_GAPD': 0.0006723795415727605,\n",
       "  'Keq_PGK': 1943.5298920087905,\n",
       "  'Keq_PGM': 0.17239894103513229,\n",
       "  'Keq_ENO': 4.332330471156045,\n",
       "  'Keq_PYK': 10333.2896179346,\n",
       "  'Keq_LDH_L': 0.00013815091719569572,\n",
       "  'Keq_ATPM': inf,\n",
       "  'Keq_DM_nadh': inf},\n",
       " 'kr': {},\n",
       " 'v': {'v_HEX1': 1.0,\n",
       "  'v_PGI': 1.0,\n",
       "  'v_FBP': 0.0,\n",
       "  'v_PFK': 1.0,\n",
       "  'v_FBA': 1.0,\n",
       "  'v_TPI': 1.0,\n",
       "  'v_GAPD': 2.0,\n",
       "  'v_PGK': -2.0,\n",
       "  'v_PGM': -2.0,\n",
       "  'v_ENO': 2.0,\n",
       "  'v_PYK': 2.0,\n",
       "  'v_LDH_L': 0.0,\n",
       "  'v_ATPM': 2.0,\n",
       "  'v_DM_nadh': 2.0,\n",
       "  'v_EX_glc__D_c': -1.0,\n",
       "  'v_EX_h_c': 6.0,\n",
       "  'v_EX_h2o_c': 0.0,\n",
       "  'v_EX_pi_c': 0.0,\n",
       "  'v_EX_pyr_c': 2.0,\n",
       "  'v_EX_lac__L_c': -0.0},\n",
       " 'Custom': {},\n",
       " 'Boundary': {}}"
      ]
     },
     "execution_count": 46,
     "metadata": {},
     "output_type": "execute_result"
    }
   ],
   "source": [
    "liver.parameters"
   ]
  },
  {
   "cell_type": "code",
   "execution_count": null,
   "metadata": {},
   "outputs": [],
   "source": []
  },
  {
   "cell_type": "code",
   "execution_count": 47,
   "metadata": {},
   "outputs": [
    {
     "data": {
      "image/png": "[encoded data removed]",
      "text/plain": [
       "<Figure size 360x360 with 1 Axes>"
      ]
     },
     "metadata": {
      "needs_background": "light"
     },
     "output_type": "display_data"
    }
   ],
   "source": [
    "conc_comparison_fig, ax = plt.subplots(nrows=1, ncols=1,\n",
    "                                       figsize=(5, 5))\n",
    "\n",
    "plot_comparison(\n",
    "    x=ic_info[\"Concentrations in M\"], y=conc_solution,\n",
    "    compare=\"concentrations\",\n",
    "    observable=[mid for mid in ic_info.index], ax=ax,\n",
    "    legend=\"right outside\", plot_function=\"loglog\",\n",
    "    xlim=(1e-6,0.02), ylim=(1e-6,1e-1),\n",
    "    xy_line=True,\n",
    "    xy_legend=\"best\", xlabel=\"Initial [mol/L]\", ylabel=\"Adjusted [mol/L]\")\n",
    "\n",
    "conc_comparison_fig.tight_layout()\n",
    "update_model_with_concentration_solution(\n",
    "    liver, conc_solution, concentrations=True, inplace=True);"
   ]
  },
  {
   "cell_type": "code",
   "execution_count": 48,
   "metadata": {},
   "outputs": [],
   "source": [
    "# Keq_data = pd.read_csv(\"./data/analysis_data/equilibrium_constants.csv\", index_col=0)\n",
    "\n",
    "# Keq_data_comparison_fig, ax = plt.subplots(nrows=1, ncols=1, figsize=(5, 5))\n",
    "# plot_comparison(\n",
    "#     x=Keq_data[\"Initial\"], y=Keq_data[\"Adjusted\"], ax=ax,\n",
    "#     title=\"Equilibrium Constants comparison\",\n",
    "#     legend=\"right outside\", plot_function=\"loglog\",\n",
    "#     xlim=(1e-5, 1e5), ylim=(1e-5, 1e5), \n",
    "#     xy_line=True,\n",
    "#     xy_legend=\"best\", xlabel=\"Initial\", ylabel=\"Adjusted\")\n",
    "\n",
    "# Keq_data_comparison_fig.tight_layout()"
   ]
  },
  {
   "cell_type": "code",
   "execution_count": 59,
   "metadata": {},
   "outputs": [],
   "source": [
    "liver.reactions.EX_glc__D_c.Keq = 1\n",
    "liver.reactions.EX_h_c.Keq = 1 \n",
    "liver.reactions.EX_h2o_c.Keq = 1 \n",
    "liver.reactions.EX_pi_c.Keq = 1 \n",
    "liver.reactions.EX_pyr_c.Keq = 1 \n",
    "liver.reactions.EX_lac__L_c.Keq = 1 \n",
    "# liver.reactions.EX_nadh_c.Keq = 1 \n",
    "# liver.reactions.EX_nad_c.Keq = 1 "
   ]
  },
  {
   "cell_type": "code",
   "execution_count": 56,
   "metadata": {},
   "outputs": [],
   "source": [
    "liver.boundary_conditions['glc__D_b']=0.010482807 ##M ## initial condition of the metabolite in the model\n",
    "liver.boundary_conditions['h2o_b']=1 ##M\n",
    "liver.boundary_conditions['h_b']=0.0064 ##M\n",
    "liver.boundary_conditions['pi_b']=0.010482807 ##M\n",
    "liver.boundary_conditions['pyr_b']=0.00048 ##M\n",
    "liver.boundary_conditions['nadh_b']=4.63542E-06\n",
    "liver.boundary_conditions['nad_b']=0.00182531\n",
    "liver.boundary_conditions['lac__L_b']=0.003261838"
   ]
  },
  {
   "cell_type": "code",
   "execution_count": 51,
   "metadata": {},
   "outputs": [],
   "source": [
    "Boundary= [\n",
    "             \"EX_glc__D_c\", \n",
    "            \"EX_h_c\", \n",
    "            \"EX_h2o_c\",\n",
    "            'EX_pyr_c',\n",
    "            'EX_pi_c',\n",
    "    \"ATPM\",\n",
    "    \n",
    "#     'EX_nad_c',\n",
    "    \"EX_lac__L_c\"\n",
    "]\n",
    "for x in Boundary:\n",
    "    a=liver.reactions.get_by_id(x)\n",
    "    a.kf=1e6"
   ]
  },
  {
   "cell_type": "code",
   "execution_count": 52,
   "metadata": {},
   "outputs": [
    {
     "name": "stdout",
     "output_type": "stream",
     "text": [
      "Forward Rate Constants\n",
      "----------------------\n",
      "kf_HEX1: 20180.147787\n",
      "kf_PGI: 5880.889782\n",
      "kf_FBP: 100000.000000\n",
      "kf_PFK: 3197810.159310\n",
      "kf_FBA: 19421.090807\n",
      "kf_TPI: 8446.086453\n",
      "kf_GAPD: 32662020847.812099\n",
      "kf_PGK: 2000727181.352774\n",
      "kf_PGM: 2803.163593\n",
      "kf_ENO: 20387.120284\n",
      "kf_PYK: 3621918.881906\n",
      "kf_LDH_L: 100000.000000\n",
      "kf_ATPM: 423.088265\n",
      "kf_DM_nadh: 431034.482759\n",
      "kf_EX_glc__D_c: 1000000.000000\n",
      "kf_EX_h_c: 1000000.000000\n",
      "kf_EX_h2o_c: 1000000.000000\n",
      "kf_EX_pi_c: 1000000.000000\n",
      "kf_EX_pyr_c: 1000000.000000\n",
      "kf_EX_lac__L_c: 1000000.000000\n"
     ]
    }
   ],
   "source": [
    "liver.calculate_PERCs(fluxes={\n",
    "                r: v for r, v in liver.steady_state_fluxes.items()\n",
    "                if not (r.boundary  \n",
    "#                         or r== liver.reactions.GLCter or r== glycogenolysis.reactions.PIter\n",
    "#                                or r== glycogenolysis.reactions.G6Pter or r== glycogenolysis.reactions.PIt or \n",
    "#                                 r== glycogenolysis.reactions.PYRt2m or \n",
    "#                                 r== glycogenolysis.reactions.L_LACt2r or \n",
    "#                                 r== glycogenolysis.reactions.PYRt2 or \n",
    "#                                 r== glycogenolysis.reactions.PEPtm or r== glycogenolysis.reactions.GLCt1 \n",
    "#                                 or r== glycogenolysis.reactions.Ht\n",
    "                       )\n",
    "},\n",
    "                      update_reactions=True)\n",
    "\n",
    "print(\"Forward Rate Constants\\n----------------------\")\n",
    "for reaction in liver.reactions:\n",
    "    print(\"{0}: {1:.6f}\".format(reaction.kf_str, reaction.kf))"
   ]
  },
  {
   "cell_type": "code",
   "execution_count": 60,
   "metadata": {},
   "outputs": [
    {
     "name": "stdout",
     "output_type": "stream",
     "text": [
      "╒══════════════════════════════════════════════╕\n",
      "│ MODEL ID: Core_Model                         │\n",
      "│ SIMULATABLE: True                            │\n",
      "│ PARAMETERS NUMERICALY CONSISTENT: True       │\n",
      "╞══════════════════════════════════════════════╡\n",
      "│ ============================================ │\n",
      "│             CONSISTENCY CHECKS               │\n",
      "│ ============================================ │\n",
      "│ Elemental                                    │\n",
      "│ ----------------------                       │\n",
      "│ DM_nadh: {charge: 2.0}                       │\n",
      "│ ============================================ │\n",
      "╘══════════════════════════════════════════════╛\n"
     ]
    }
   ],
   "source": [
    "qcqa_model(liver, parameters=True, concentrations=True,\n",
    "           fluxes=True, superfluous=True, elemental=True)"
   ]
  },
  {
   "cell_type": "code",
   "execution_count": 61,
   "metadata": {},
   "outputs": [
    {
     "ename": "MassSimulationError",
     "evalue": "Could not load MassModel 'Core_Model': Cannot load SBML Model 'Core_Model' into RoadRunner due to error:\nline 103: (10301 [Error]) The value of the 'id' field on every instance of the following type of object in a model must be unique: <model>, <functionDefinition>, <compartmentType>, <compartment>, <speciesType>, <species>, <reaction>, <speciesReference>, <modifierSpeciesReference>, <event>, and model-wide <parameter>s. Note that <unitDefinition> and parameters defined inside a reaction are treated separately. \nReference: L3V1 Section 3.3\n   The <parameter> id 'lac__L_c' conflicts with the previously defined <species> id 'lac__L_c' at line 27.\n\n Make sure the model can be exported to a valid SBML model using the 'validate_model_to_SBML' method in the SBML submodule to ensure there are no SBML compliance issues with the model.",
     "output_type": "error",
     "traceback": [
      "\u001b[0;31m---------------------------------------------------------------------------\u001b[0m",
      "\u001b[0;31mMassSimulationError\u001b[0m                       Traceback (most recent call last)",
      "\u001b[0;32m/usr/local/lib/python3.7/site-packages/mass/simulation/simulation.py\u001b[0m in \u001b[0;36m__init__\u001b[0;34m(self, reference_model, id, name, verbose, **kwargs)\u001b[0m\n\u001b[1;32m    187\u001b[0m             rr = _load_model_into_roadrunner(reference_model, rr=None,\n\u001b[0;32m--> 188\u001b[0;31m                                              verbose=verbose, **_SBML_KWARGS)\n\u001b[0m\u001b[1;32m    189\u001b[0m         \u001b[0;32mexcept\u001b[0m \u001b[0mMassSimulationError\u001b[0m \u001b[0;32mas\u001b[0m \u001b[0me\u001b[0m\u001b[0;34m:\u001b[0m\u001b[0;34m\u001b[0m\u001b[0;34m\u001b[0m\u001b[0m\n",
      "\u001b[0;32m/usr/local/lib/python3.7/site-packages/mass/simulation/simulation.py\u001b[0m in \u001b[0;36m_load_model_into_roadrunner\u001b[0;34m(mass_model, rr, verbose, **kwargs)\u001b[0m\n\u001b[1;32m   1394\u001b[0m                        \"issues with the model.\")\n\u001b[0;32m-> 1395\u001b[0;31m         \u001b[0;32mraise\u001b[0m \u001b[0mMassSimulationError\u001b[0m\u001b[0;34m(\u001b[0m\u001b[0mmsg\u001b[0m\u001b[0;34m)\u001b[0m\u001b[0;34m\u001b[0m\u001b[0;34m\u001b[0m\u001b[0m\n\u001b[0m\u001b[1;32m   1396\u001b[0m \u001b[0;34m\u001b[0m\u001b[0m\n",
      "\u001b[0;31mMassSimulationError\u001b[0m: Cannot load SBML Model 'Core_Model' into RoadRunner due to error:\nline 103: (10301 [Error]) The value of the 'id' field on every instance of the following type of object in a model must be unique: <model>, <functionDefinition>, <compartmentType>, <compartment>, <speciesType>, <species>, <reaction>, <speciesReference>, <modifierSpeciesReference>, <event>, and model-wide <parameter>s. Note that <unitDefinition> and parameters defined inside a reaction are treated separately. \nReference: L3V1 Section 3.3\n   The <parameter> id 'lac__L_c' conflicts with the previously defined <species> id 'lac__L_c' at line 27.\n\n Make sure the model can be exported to a valid SBML model using the 'validate_model_to_SBML' method in the SBML submodule to ensure there are no SBML compliance issues with the model.",
      "\nDuring handling of the above exception, another exception occurred:\n",
      "\u001b[0;31mMassSimulationError\u001b[0m                       Traceback (most recent call last)",
      "\u001b[0;32m<ipython-input-61-f7782b96c52d>\u001b[0m in \u001b[0;36m<module>\u001b[0;34m\u001b[0m\n\u001b[1;32m      1\u001b[0m \u001b[0;31m# Setup simulation object\u001b[0m\u001b[0;34m\u001b[0m\u001b[0;34m\u001b[0m\u001b[0;34m\u001b[0m\u001b[0m\n\u001b[0;32m----> 2\u001b[0;31m \u001b[0msimG\u001b[0m\u001b[0;34m=\u001b[0m\u001b[0mSimulation\u001b[0m\u001b[0;34m(\u001b[0m\u001b[0mliver\u001b[0m\u001b[0;34m,\u001b[0m \u001b[0mverbose\u001b[0m\u001b[0;34m=\u001b[0m\u001b[0;32mTrue\u001b[0m\u001b[0;34m)\u001b[0m\u001b[0;34m\u001b[0m\u001b[0;34m\u001b[0m\u001b[0m\n\u001b[0m\u001b[1;32m      3\u001b[0m \u001b[0;31m# Simulate from 0 to 1000 with 10001 points in the output\u001b[0m\u001b[0;34m\u001b[0m\u001b[0;34m\u001b[0m\u001b[0;34m\u001b[0m\u001b[0m\n\u001b[1;32m      4\u001b[0m \u001b[0mconc_sol\u001b[0m\u001b[0;34m,\u001b[0m \u001b[0mflux_sol\u001b[0m \u001b[0;34m=\u001b[0m \u001b[0msimG\u001b[0m\u001b[0;34m.\u001b[0m\u001b[0msimulate\u001b[0m\u001b[0;34m(\u001b[0m\u001b[0mliver\u001b[0m\u001b[0;34m,\u001b[0m \u001b[0mtime\u001b[0m\u001b[0;34m=\u001b[0m\u001b[0;34m(\u001b[0m\u001b[0;36m0\u001b[0m\u001b[0;34m,\u001b[0m \u001b[0;36m1e8\u001b[0m\u001b[0;34m)\u001b[0m\u001b[0;34m)\u001b[0m\u001b[0;34m\u001b[0m\u001b[0;34m\u001b[0m\u001b[0m\n\u001b[1;32m      5\u001b[0m \u001b[0;31m# Quickly render and display time profiles\u001b[0m\u001b[0;34m\u001b[0m\u001b[0;34m\u001b[0m\u001b[0;34m\u001b[0m\u001b[0m\n",
      "\u001b[0;32m/usr/local/lib/python3.7/site-packages/mass/simulation/simulation.py\u001b[0m in \u001b[0;36m__init__\u001b[0;34m(self, reference_model, id, name, verbose, **kwargs)\u001b[0m\n\u001b[1;32m    192\u001b[0m             \u001b[0;32mif\u001b[0m \u001b[0mverbose\u001b[0m\u001b[0;34m:\u001b[0m\u001b[0;34m\u001b[0m\u001b[0;34m\u001b[0m\u001b[0m\n\u001b[1;32m    193\u001b[0m                 \u001b[0mmsg\u001b[0m \u001b[0;34m+=\u001b[0m \u001b[0;34m\": \"\u001b[0m \u001b[0;34m+\u001b[0m \u001b[0mstr\u001b[0m\u001b[0;34m(\u001b[0m\u001b[0me\u001b[0m\u001b[0;34m)\u001b[0m\u001b[0;34m\u001b[0m\u001b[0;34m\u001b[0m\u001b[0m\n\u001b[0;32m--> 194\u001b[0;31m             \u001b[0;32mraise\u001b[0m \u001b[0mMassSimulationError\u001b[0m\u001b[0;34m(\u001b[0m\u001b[0mmsg\u001b[0m\u001b[0;34m)\u001b[0m\u001b[0;34m\u001b[0m\u001b[0;34m\u001b[0m\u001b[0m\n\u001b[0m\u001b[1;32m    195\u001b[0m \u001b[0;34m\u001b[0m\u001b[0m\n\u001b[1;32m    196\u001b[0m         \u001b[0;31m# Initialize Simulation\u001b[0m\u001b[0;34m\u001b[0m\u001b[0;34m\u001b[0m\u001b[0;34m\u001b[0m\u001b[0m\n",
      "\u001b[0;31mMassSimulationError\u001b[0m: Could not load MassModel 'Core_Model': Cannot load SBML Model 'Core_Model' into RoadRunner due to error:\nline 103: (10301 [Error]) The value of the 'id' field on every instance of the following type of object in a model must be unique: <model>, <functionDefinition>, <compartmentType>, <compartment>, <speciesType>, <species>, <reaction>, <speciesReference>, <modifierSpeciesReference>, <event>, and model-wide <parameter>s. Note that <unitDefinition> and parameters defined inside a reaction are treated separately. \nReference: L3V1 Section 3.3\n   The <parameter> id 'lac__L_c' conflicts with the previously defined <species> id 'lac__L_c' at line 27.\n\n Make sure the model can be exported to a valid SBML model using the 'validate_model_to_SBML' method in the SBML submodule to ensure there are no SBML compliance issues with the model."
     ]
    }
   ],
   "source": [
    "# Setup simulation object\n",
    "simG=Simulation(liver, verbose=True)\n",
    "# Simulate from 0 to 1000 with 10001 points in the output\n",
    "conc_sol, flux_sol = simG.simulate(liver, time=(0, 1e8))\n",
    "# Quickly render and display time profiles\n",
    "conc_sol.view_time_profile()"
   ]
  },
  {
   "cell_type": "code",
   "execution_count": null,
   "metadata": {},
   "outputs": [],
   "source": [
    "#function to set x label and y label\n",
    "def set_x_label(xlabel):\n",
    "    if xlabel==None:\n",
    "        xlabel=\"Time\"\n",
    "    else:\n",
    "        xlabel=xlabel\n",
    "    return xlabel\n",
    "        \n",
    "def set_y_label(ylabel):        \n",
    "    if ylabel==None:\n",
    "        ylabel=\"Concentrations\"\n",
    "    else:\n",
    "        ylabel=ylabel\n",
    "    return ylabel\n"
   ]
  },
  {
   "cell_type": "code",
   "execution_count": null,
   "metadata": {},
   "outputs": [],
   "source": [
    "#function to make plot typelinear log\n",
    "def set_plot_type(plot_type):\n",
    "    if plot_type == None:\n",
    "        x_plot_type = 'log'\n",
    "        y_plot_type = 'log'\n",
    "    elif plot_type == \"logx\":\n",
    "        x_plot_type = 'log'\n",
    "        y_plot_type = 'linear'\n",
    "    elif plot_type == \"logy\":\n",
    "        x_plot_type = 'linear'\n",
    "        y_plot_type = 'log'\n",
    "    elif plot_type == \"linear\":\n",
    "        x_plot_type = 'linear'\n",
    "        y_plot_type = 'linear'\n",
    "    elif plot_type == \"logxlogy\":\n",
    "        x_plot_type = 'log'\n",
    "        y_plot_type = 'log'\n",
    "    return x_plot_type,y_plot_type\n"
   ]
  },
  {
   "cell_type": "code",
   "execution_count": null,
   "metadata": {},
   "outputs": [],
   "source": [
    "def view_all_conc_sol(conc_sol,\n",
    "#                       dynamic=True\n",
    "                      xlim=None,ylim=None,plot_type=None,xlabel=None,ylabel=None,width=None,height=None):\n",
    "    \"\"\"Generate an interactable time profile which can zoom into the plot with interactive tooltip\"\"\"\n",
    "    #Shift click to click multiple\n",
    "    \n",
    "    data=conc_sol.to_frame()\n",
    "    data = data.reset_index().melt('Time', var_name='Metabolites', value_name='Concentrations')\n",
    "    \n",
    "    # Setting X limit and Y limit\n",
    "    def set_ylim(ylim):\n",
    "        if ylim == None:\n",
    "            conc=data['Concentrations']\n",
    "            ylim_max=max(conc)\n",
    "            ylim=[1e-5,ylim_max]\n",
    "        else:\n",
    "            ylim=ylim\n",
    "        return ylim\n",
    "    \n",
    "    def set_xlim(xlim):\n",
    "        if xlim == None:\n",
    "            xlim_max=data['Time'].iloc[-1]\n",
    "            xlim=[1e-5,xlim_max]\n",
    "\n",
    "        else:\n",
    "            xlim=xlim\n",
    "        return xlim\n",
    "    xlim=set_xlim(xlim)\n",
    "    ylim=set_ylim(ylim)\n",
    "        \n",
    "       \n",
    "    # Setting type of plot\n",
    "    x_plot_type=set_plot_type(plot_type)[0]\n",
    "    y_plot_type=set_plot_type(plot_type)[1]\n",
    "        \n",
    "    # Setting x label and y label\n",
    "    xlabel=set_x_label(xlabel)\n",
    "    ylabel=set_y_label(ylabel)\n",
    "    # Setting width and height\n",
    "    if width==None:\n",
    "        width=500\n",
    "    else:\n",
    "        width=width\n",
    "        \n",
    "    if height==None:\n",
    "        height=300\n",
    "    else:\n",
    "        height=height\n",
    "    \n",
    "    alt.data_transformers.disable_max_rows()\n",
    "    selection = alt.selection_multi(fields=['Metabolites'])\n",
    "    color = alt.condition(selection,\n",
    "                          alt.Color('Metabolites:N', legend=None),\n",
    "                          alt.value('lightgray'))\n",
    "\n",
    "    line = alt.Chart(data).mark_line(clip=True).encode(alt.X('Time:Q',\n",
    "                                                             title=xlabel,\n",
    "                                                             scale=alt.Scale(type = x_plot_type,\n",
    "                                                                             padding = 10,\n",
    "                                                                             domain = xlim,\n",
    "#                   zero=True,\n",
    "                              ),\n",
    "              axis=alt.Axis(tickCount=5)),\n",
    "        alt.Y('Concentrations:Q',\n",
    "              title=ylabel,\n",
    "              scale=alt.Scale(type=y_plot_type,\n",
    "                              padding = 10,\n",
    "                              domain = ylim,\n",
    "#                   zero=True, \n",
    "                             ),\n",
    "               axis=alt.Axis(grid=False,\n",
    "                             tickCount=5)),\n",
    "        color=color,\n",
    "        tooltip= [\"Metabolites\"]+[\"Time\"]+[\"Concentrations\"]\n",
    "    ).properties(width=width, height=height).interactive()\n",
    "\n",
    "    \n",
    "    \n",
    "#         if dynamic == False:\n",
    "#             A = alt.layer(line)\n",
    "#         else:\n",
    "    legend = alt.Chart(data).mark_point().encode(\n",
    "        y=alt.Y('Metabolites:N', axis=alt.Axis(orient='right')),\n",
    "        color=color\n",
    "    ).add_selection(\n",
    "        selection\n",
    "    )\n",
    "    A= line | legend\n",
    "    return A"
   ]
  },
  {
   "cell_type": "code",
   "execution_count": 55,
   "metadata": {},
   "outputs": [
    {
     "ename": "NameError",
     "evalue": "name 'view_all_conc_sol' is not defined",
     "output_type": "error",
     "traceback": [
      "\u001b[0;31m---------------------------------------------------------------------------\u001b[0m",
      "\u001b[0;31mNameError\u001b[0m                                 Traceback (most recent call last)",
      "\u001b[0;32m<ipython-input-55-72810565cba8>\u001b[0m in \u001b[0;36m<module>\u001b[0;34m\u001b[0m\n\u001b[0;32m----> 1\u001b[0;31m \u001b[0mview_all_conc_sol\u001b[0m\u001b[0;34m(\u001b[0m\u001b[0mconc_sol\u001b[0m\u001b[0;34m,\u001b[0m\u001b[0mplot_type\u001b[0m\u001b[0;34m=\u001b[0m\u001b[0;34m'logxlogy'\u001b[0m\u001b[0;34m)\u001b[0m\u001b[0;34m\u001b[0m\u001b[0;34m\u001b[0m\u001b[0m\n\u001b[0m",
      "\u001b[0;31mNameError\u001b[0m: name 'view_all_conc_sol' is not defined"
     ]
    }
   ],
   "source": [
    "view_all_conc_sol(conc_sol,plot_type='logxlogy')"
   ]
  },
  {
   "cell_type": "code",
   "execution_count": null,
   "metadata": {},
   "outputs": [],
   "source": []
  }
 ],
 "metadata": {
  "kernelspec": {
   "display_name": "Python 3",
   "language": "python",
   "name": "python3"
  },
  "language_info": {
   "codemirror_mode": {
    "name": "ipython",
    "version": 3
   },
   "file_extension": ".py",
   "mimetype": "text/x-python",
   "name": "python",
   "nbconvert_exporter": "python",
   "pygments_lexer": "ipython3",
   "version": "3.8.12"
  }
 },
 "nbformat": 4,
 "nbformat_minor": 4
}
