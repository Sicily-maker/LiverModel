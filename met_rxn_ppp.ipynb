{
 "cells": [
  {
   "cell_type": "markdown",
   "metadata": {},
   "source": [
    "## extracting from recon3d"
   ]
  },
  {
   "cell_type": "code",
   "execution_count": 1,
   "metadata": {},
   "outputs": [
    {
     "name": "stdout",
     "output_type": "stream",
     "text": [
      "MASSpy version: 0.1.6\n"
     ]
    }
   ],
   "source": [
    "import os\n",
    "import re\n",
    "import warnings\n",
    "from cobra.io.json import load_json_model as load_json_cobra_model\n",
    "import escher\n",
    "import mass\n",
    "import numpy as np\n",
    "import pandas as pd\n",
    "import equilibrator_api\n",
    "from equilibrator_api import ComponentContribution, Q_\n",
    "import sympy as sym\n",
    "from cobra import Model, Reaction, Metabolite\n",
    "import cobra.test\n",
    "from os.path import join\n",
    "from mass.util import qcqa\n",
    "from mass.util import qcqa_model\n",
    "from cobra import DictList\n",
    "from mass import (\n",
    "    MassConfiguration, MassMetabolite, MassModel,\n",
    "    MassReaction, Simulation, UnitDefinition)\n",
    "from mass.io.json import save_json_model as save_json_mass_model\n",
    "from mass.visualization import plot_comparison, plot_time_profile\n",
    "from mass.visualization import (\n",
    "    plot_ensemble_phase_portrait, plot_ensemble_time_profile)\n",
    "mass_config = MassConfiguration()\n",
    "mass_config.irreversible_Keq = float(\"inf\")\n",
    "print(\"MASSpy version: {0}\".format(mass.__version__))\n",
    "from six import iteritems\n",
    "import matplotlib.pyplot as plt\n",
    "from mass.thermo import (\n",
    "    ConcSolver, sample_concentrations,\n",
    "    update_model_with_concentration_solution)\n",
    "from cobra.io.json import *\n",
    "import cobra_dict as c_d\n",
    "import csv\n"
   ]
  },
  {
   "cell_type": "code",
   "execution_count": 2,
   "metadata": {},
   "outputs": [
    {
     "name": "stdout",
     "output_type": "stream",
     "text": [
      "Set parameter Username\n",
      "Academic license - for non-commercial use only - expires 2022-04-30\n"
     ]
    }
   ],
   "source": [
    "#load Recon3D\n",
    "model_dir = os.path.abspath(\"models\")\n",
    "data_dir = os.path.abspath(\"data\")\n",
    "# model_dir\n",
    "R3D=load_json_cobra_model(filename=os.path.join(model_dir,\"Recon3D.json\"))\n",
    "glycolysis_ppp_tca_etc= load_json_cobra_model(filename=os.path.join(model_dir,\"glycolysis_ppp_tca_etc_model.json\"))\n",
    "\n"
   ]
  },
  {
   "cell_type": "code",
   "execution_count": 3,
   "metadata": {},
   "outputs": [],
   "source": [
    "_REQUIRED_REACTION_ATTRIBUTES = [\n",
    "    \"id\",\n",
    "    \"name\",\n",
    "    \"metabolites\",\n",
    "    \"lower_bound\",\n",
    "    \"upper_bound\",\n",
    "#     \"gene_reaction_rule\",\n",
    "]\n",
    "\n",
    "_REQUIRED_METABOLITE_ATTRIBUTES = [\"id\", \"name\", \"charge\",\"formula\", \"compartment\"]\n",
    "_ORDERED_OPTIONAL_METABOLITE_KEYS = [\n",
    "   \n",
    "    \"_bound\",\n",
    "    \"notes\",\n",
    "    \"annotation\",\n",
    "]\n"
   ]
  },
  {
   "cell_type": "code",
   "execution_count": 4,
   "metadata": {},
   "outputs": [],
   "source": [
    "from cobra_dict import metabolite_to_dict as metabolite_to_dict\n",
    "from cobra_dict import reaction_to_dict as reaction_to_dict"
   ]
  },
  {
   "cell_type": "code",
   "execution_count": 5,
   "metadata": {},
   "outputs": [],
   "source": [
    "ppp= ['G6PDH2r',\n",
    "'G6PDH2r',\n",
    "'GND',\n",
    "'RPE',\n",
    "'RPI',\n",
    "'TKT1',\n",
    "'TKT2',\n",
    "] \n"
   ]
  },
  {
   "cell_type": "code",
   "execution_count": 6,
   "metadata": {},
   "outputs": [
    {
     "data": {
      "text/plain": [
       "6"
      ]
     },
     "execution_count": 6,
     "metadata": {},
     "output_type": "execute_result"
    }
   ],
   "source": [
    "reaction_list=[]\n",
    "for rid in glycolysis_ppp_tca_etc.reactions:\n",
    "    if rid.id in ppp:\n",
    "        reaction_list.append(rid.id)\n",
    "len(reaction_list)"
   ]
  },
  {
   "cell_type": "code",
   "execution_count": 7,
   "metadata": {},
   "outputs": [
    {
     "data": {
      "text/plain": [
       "22"
      ]
     },
     "execution_count": 7,
     "metadata": {},
     "output_type": "execute_result"
    }
   ],
   "source": [
    "metabolite_list=[]\n",
    "for reaction in reaction_list:\n",
    "    rxn = glycolysis_ppp_tca_etc.reactions.get_by_id(reaction)\n",
    "    for met in rxn.metabolites:\n",
    "        metabolite_list.append(met.id)\n",
    "len(metabolite_list)"
   ]
  },
  {
   "cell_type": "code",
   "execution_count": 8,
   "metadata": {},
   "outputs": [
    {
     "data": {
      "text/html": [
       "<div>\n",
       "<style scoped>\n",
       "    .dataframe tbody tr th:only-of-type {\n",
       "        vertical-align: middle;\n",
       "    }\n",
       "\n",
       "    .dataframe tbody tr th {\n",
       "        vertical-align: top;\n",
       "    }\n",
       "\n",
       "    .dataframe thead th {\n",
       "        text-align: right;\n",
       "    }\n",
       "</style>\n",
       "<table border=\"1\" class=\"dataframe\">\n",
       "  <thead>\n",
       "    <tr style=\"text-align: right;\">\n",
       "      <th></th>\n",
       "      <th>name</th>\n",
       "      <th>charge</th>\n",
       "      <th>formula</th>\n",
       "      <th>compartment</th>\n",
       "    </tr>\n",
       "    <tr>\n",
       "      <th>id</th>\n",
       "      <th></th>\n",
       "      <th></th>\n",
       "      <th></th>\n",
       "      <th></th>\n",
       "    </tr>\n",
       "  </thead>\n",
       "  <tbody>\n",
       "    <tr>\n",
       "      <th>6pgl_c</th>\n",
       "      <td>6-phospho-D-glucono-1,5-lactone</td>\n",
       "      <td>-2</td>\n",
       "      <td>C6H9O9P</td>\n",
       "      <td>c</td>\n",
       "    </tr>\n",
       "    <tr>\n",
       "      <th>g6p_c</th>\n",
       "      <td>D-Glucose 6-phosphate</td>\n",
       "      <td>-2</td>\n",
       "      <td>C6H11O9P</td>\n",
       "      <td>c</td>\n",
       "    </tr>\n",
       "    <tr>\n",
       "      <th>h_c</th>\n",
       "      <td>H+</td>\n",
       "      <td>0</td>\n",
       "      <td>H</td>\n",
       "      <td>c</td>\n",
       "    </tr>\n",
       "    <tr>\n",
       "      <th>nadp_c</th>\n",
       "      <td>Nicotinamide adenine dinucleotide phosphate</td>\n",
       "      <td>-3</td>\n",
       "      <td>C21H25N7O17P3</td>\n",
       "      <td>c</td>\n",
       "    </tr>\n",
       "    <tr>\n",
       "      <th>nadph_c</th>\n",
       "      <td>Nicotinamide adenine dinucleotide phosphate - ...</td>\n",
       "      <td>-4</td>\n",
       "      <td>C21H26N7O17P3</td>\n",
       "      <td>c</td>\n",
       "    </tr>\n",
       "    <tr>\n",
       "      <th>6pgc_c</th>\n",
       "      <td>6-Phospho-D-gluconate</td>\n",
       "      <td>-3</td>\n",
       "      <td>C6H10O10P</td>\n",
       "      <td>c</td>\n",
       "    </tr>\n",
       "    <tr>\n",
       "      <th>co2_c</th>\n",
       "      <td>CO2 CO2</td>\n",
       "      <td>0</td>\n",
       "      <td>CO2</td>\n",
       "      <td>c</td>\n",
       "    </tr>\n",
       "    <tr>\n",
       "      <th>nadp_c</th>\n",
       "      <td>Nicotinamide adenine dinucleotide phosphate</td>\n",
       "      <td>-3</td>\n",
       "      <td>C21H25N7O17P3</td>\n",
       "      <td>c</td>\n",
       "    </tr>\n",
       "    <tr>\n",
       "      <th>nadph_c</th>\n",
       "      <td>Nicotinamide adenine dinucleotide phosphate - ...</td>\n",
       "      <td>-4</td>\n",
       "      <td>C21H26N7O17P3</td>\n",
       "      <td>c</td>\n",
       "    </tr>\n",
       "    <tr>\n",
       "      <th>ru5p__D_c</th>\n",
       "      <td>D-Ribulose 5-phosphate</td>\n",
       "      <td>-2</td>\n",
       "      <td>C5H9O8P</td>\n",
       "      <td>c</td>\n",
       "    </tr>\n",
       "    <tr>\n",
       "      <th>r5p_c</th>\n",
       "      <td>Alpha-D-Ribose 5-phosphate</td>\n",
       "      <td>-2</td>\n",
       "      <td>C5H9O8P</td>\n",
       "      <td>c</td>\n",
       "    </tr>\n",
       "    <tr>\n",
       "      <th>ru5p__D_c</th>\n",
       "      <td>D-Ribulose 5-phosphate</td>\n",
       "      <td>-2</td>\n",
       "      <td>C5H9O8P</td>\n",
       "      <td>c</td>\n",
       "    </tr>\n",
       "    <tr>\n",
       "      <th>ru5p__D_c</th>\n",
       "      <td>D-Ribulose 5-phosphate</td>\n",
       "      <td>-2</td>\n",
       "      <td>C5H9O8P</td>\n",
       "      <td>c</td>\n",
       "    </tr>\n",
       "    <tr>\n",
       "      <th>xu5p__D_c</th>\n",
       "      <td>D-Xylulose 5-phosphate</td>\n",
       "      <td>-2</td>\n",
       "      <td>C5H9O8P</td>\n",
       "      <td>c</td>\n",
       "    </tr>\n",
       "    <tr>\n",
       "      <th>g3p_c</th>\n",
       "      <td>Glyceraldehyde 3-phosphate</td>\n",
       "      <td>-2</td>\n",
       "      <td>C3H5O6P</td>\n",
       "      <td>c</td>\n",
       "    </tr>\n",
       "    <tr>\n",
       "      <th>r5p_c</th>\n",
       "      <td>Alpha-D-Ribose 5-phosphate</td>\n",
       "      <td>-2</td>\n",
       "      <td>C5H9O8P</td>\n",
       "      <td>c</td>\n",
       "    </tr>\n",
       "    <tr>\n",
       "      <th>s7p_c</th>\n",
       "      <td>Sedoheptulose 7-phosphate</td>\n",
       "      <td>-2</td>\n",
       "      <td>C7H13O10P</td>\n",
       "      <td>c</td>\n",
       "    </tr>\n",
       "    <tr>\n",
       "      <th>xu5p__D_c</th>\n",
       "      <td>D-Xylulose 5-phosphate</td>\n",
       "      <td>-2</td>\n",
       "      <td>C5H9O8P</td>\n",
       "      <td>c</td>\n",
       "    </tr>\n",
       "    <tr>\n",
       "      <th>e4p_c</th>\n",
       "      <td>D-Erythrose 4-phosphate</td>\n",
       "      <td>-2</td>\n",
       "      <td>C4H7O7P</td>\n",
       "      <td>c</td>\n",
       "    </tr>\n",
       "    <tr>\n",
       "      <th>f6p_c</th>\n",
       "      <td>D-Fructose 6-phosphate</td>\n",
       "      <td>-2</td>\n",
       "      <td>C6H11O9P</td>\n",
       "      <td>c</td>\n",
       "    </tr>\n",
       "    <tr>\n",
       "      <th>g3p_c</th>\n",
       "      <td>Glyceraldehyde 3-phosphate</td>\n",
       "      <td>-2</td>\n",
       "      <td>C3H5O6P</td>\n",
       "      <td>c</td>\n",
       "    </tr>\n",
       "    <tr>\n",
       "      <th>xu5p__D_c</th>\n",
       "      <td>D-Xylulose 5-phosphate</td>\n",
       "      <td>-2</td>\n",
       "      <td>C5H9O8P</td>\n",
       "      <td>c</td>\n",
       "    </tr>\n",
       "  </tbody>\n",
       "</table>\n",
       "</div>"
      ],
      "text/plain": [
       "                                                        name charge  \\\n",
       "id                                                                    \n",
       "6pgl_c                       6-phospho-D-glucono-1,5-lactone     -2   \n",
       "g6p_c                                  D-Glucose 6-phosphate     -2   \n",
       "h_c                                                       H+      0   \n",
       "nadp_c           Nicotinamide adenine dinucleotide phosphate     -3   \n",
       "nadph_c    Nicotinamide adenine dinucleotide phosphate - ...     -4   \n",
       "6pgc_c                                 6-Phospho-D-gluconate     -3   \n",
       "co2_c                                                CO2 CO2      0   \n",
       "nadp_c           Nicotinamide adenine dinucleotide phosphate     -3   \n",
       "nadph_c    Nicotinamide adenine dinucleotide phosphate - ...     -4   \n",
       "ru5p__D_c                             D-Ribulose 5-phosphate     -2   \n",
       "r5p_c                             Alpha-D-Ribose 5-phosphate     -2   \n",
       "ru5p__D_c                             D-Ribulose 5-phosphate     -2   \n",
       "ru5p__D_c                             D-Ribulose 5-phosphate     -2   \n",
       "xu5p__D_c                             D-Xylulose 5-phosphate     -2   \n",
       "g3p_c                             Glyceraldehyde 3-phosphate     -2   \n",
       "r5p_c                             Alpha-D-Ribose 5-phosphate     -2   \n",
       "s7p_c                              Sedoheptulose 7-phosphate     -2   \n",
       "xu5p__D_c                             D-Xylulose 5-phosphate     -2   \n",
       "e4p_c                                D-Erythrose 4-phosphate     -2   \n",
       "f6p_c                                 D-Fructose 6-phosphate     -2   \n",
       "g3p_c                             Glyceraldehyde 3-phosphate     -2   \n",
       "xu5p__D_c                             D-Xylulose 5-phosphate     -2   \n",
       "\n",
       "                 formula compartment  \n",
       "id                                    \n",
       "6pgl_c           C6H9O9P           c  \n",
       "g6p_c           C6H11O9P           c  \n",
       "h_c                    H           c  \n",
       "nadp_c     C21H25N7O17P3           c  \n",
       "nadph_c    C21H26N7O17P3           c  \n",
       "6pgc_c         C6H10O10P           c  \n",
       "co2_c                CO2           c  \n",
       "nadp_c     C21H25N7O17P3           c  \n",
       "nadph_c    C21H26N7O17P3           c  \n",
       "ru5p__D_c        C5H9O8P           c  \n",
       "r5p_c            C5H9O8P           c  \n",
       "ru5p__D_c        C5H9O8P           c  \n",
       "ru5p__D_c        C5H9O8P           c  \n",
       "xu5p__D_c        C5H9O8P           c  \n",
       "g3p_c            C3H5O6P           c  \n",
       "r5p_c            C5H9O8P           c  \n",
       "s7p_c          C7H13O10P           c  \n",
       "xu5p__D_c        C5H9O8P           c  \n",
       "e4p_c            C4H7O7P           c  \n",
       "f6p_c           C6H11O9P           c  \n",
       "g3p_c            C3H5O6P           c  \n",
       "xu5p__D_c        C5H9O8P           c  "
      ]
     },
     "execution_count": 8,
     "metadata": {},
     "output_type": "execute_result"
    }
   ],
   "source": [
    "met_df=pd.DataFrame()\n",
    "for met in metabolite_list:\n",
    "    r3d_met= R3D.metabolites.get_by_id(met)\n",
    "    m=metabolite_to_dict(r3d_met)\n",
    "    df_2=pd.DataFrame.from_dict(m,orient='index')\n",
    "    df_2=df_2.T\n",
    "    met_df=met_df.append(df_2)\n",
    "\n",
    "met_df=met_df.set_index('id')\n",
    "met_df"
   ]
  },
  {
   "cell_type": "code",
   "execution_count": 9,
   "metadata": {},
   "outputs": [],
   "source": [
    "csv_met = os.path.join(data_dir,\"ppp_met_df.csv\")\n",
    "met_df.to_csv(csv_met)"
   ]
  },
  {
   "cell_type": "code",
   "execution_count": 10,
   "metadata": {},
   "outputs": [
    {
     "data": {
      "text/plain": [
       "[]"
      ]
     },
     "execution_count": 10,
     "metadata": {},
     "output_type": "execute_result"
    }
   ],
   "source": [
    "rxn_df=pd.DataFrame()\n",
    "reactions_not_in_r3d=[]\n",
    "for rxn in reaction_list:\n",
    "    if rxn in R3D.reactions:\n",
    "        r3d_rxn= R3D.reactions.get_by_id(rxn)\n",
    "        r=reaction_to_dict(r3d_rxn)\n",
    "    #     print(r)\n",
    "        df=pd.DataFrame.from_dict(r,orient='index')\n",
    "        df=df.T\n",
    "        rxn_df=rxn_df.append(df)\n",
    "    else:\n",
    "        reactions_not_in_r3d.append(rxn)\n",
    "\n",
    "rxn_df=rxn_df.set_index('id')\n",
    "rxn_df\n",
    "reactions_not_in_r3d"
   ]
  },
  {
   "cell_type": "code",
   "execution_count": 11,
   "metadata": {},
   "outputs": [],
   "source": [
    "csv_rxn = os.path.join(data_dir,\"ppp_reaction_df.csv\")\n",
    "rxn_df.to_csv(csv_rxn)"
   ]
  },
  {
   "cell_type": "code",
   "execution_count": 12,
   "metadata": {},
   "outputs": [],
   "source": [
    "json_rxn = os.path.join(data_dir,\"ppp_reaction_df.json\")\n",
    "rxn_df.to_json(json_rxn\n",
    ",orient=\"index\"\n",
    ")   "
   ]
  },
  {
   "cell_type": "code",
   "execution_count": null,
   "metadata": {},
   "outputs": [],
   "source": []
  }
 ],
 "metadata": {
  "interpreter": {
   "hash": "47617ef91c57040f324d0d309b22e5ef5668d4be6a46473e64f0486748e04983"
  },
  "kernelspec": {
   "display_name": "Python 3.8.12 64-bit ('massliver': conda)",
   "language": "python",
   "name": "python3"
  },
  "language_info": {
   "codemirror_mode": {
    "name": "ipython",
    "version": 3
   },
   "file_extension": ".py",
   "mimetype": "text/x-python",
   "name": "python",
   "nbconvert_exporter": "python",
   "pygments_lexer": "ipython3",
   "version": "3.8.12"
  },
  "orig_nbformat": 4
 },
 "nbformat": 4,
 "nbformat_minor": 2
}
