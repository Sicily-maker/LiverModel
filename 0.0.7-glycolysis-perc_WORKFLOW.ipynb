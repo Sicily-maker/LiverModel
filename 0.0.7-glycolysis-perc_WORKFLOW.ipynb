{
 "cells": [
  {
   "cell_type": "markdown",
   "metadata": {},
   "source": [
    "# Liver Model Construction: Notebook"
   ]
  },
  {
   "cell_type": "code",
   "execution_count": 1,
   "metadata": {},
   "outputs": [
    {
     "name": "stdout",
     "output_type": "stream",
     "text": [
      "MASSpy version: 0.1.6\n"
     ]
    }
   ],
   "source": [
    "import os\n",
    "import re\n",
    "import warnings\n",
    "# from cobra.io import *\n",
    "from cobra.io.json import load_json_model as load_json_cobra_model\n",
    "import escher\n",
    "import mass\n",
    "import numpy as np\n",
    "import pandas as pd\n",
    "import equilibrator_api\n",
    "from equilibrator_api import ComponentContribution, Q_\n",
    "import sympy as sym\n",
    "from cobra import Model, Reaction, Metabolite\n",
    "import cobra.test\n",
    "from os.path import join\n",
    "from mass.util import qcqa\n",
    "from mass.util import qcqa_model\n",
    "from cobra import DictList\n",
    "from mass import (\n",
    "    MassConfiguration, MassMetabolite, MassModel,\n",
    "    MassReaction, Simulation, UnitDefinition)\n",
    "from mass.io.json import save_json_model as save_json_mass_model\n",
    "from mass.visualization import plot_comparison, plot_time_profile\n",
    "from mass.visualization import (\n",
    "    plot_ensemble_phase_portrait, plot_ensemble_time_profile)\n",
    "mass_config = MassConfiguration()\n",
    "mass_config.irreversible_Keq = float(\"inf\")\n",
    "print(\"MASSpy version: {0}\".format(mass.__version__))\n",
    "from six import iteritems\n",
    "import matplotlib.pyplot as plt\n",
    "from mass.thermo import (\n",
    "    ConcSolver, sample_concentrations,\n",
    "    update_model_with_concentration_solution)\n",
    "# from cobra.io.json import *\n",
    "import cobra_dict as c_d\n",
    "import csv\n",
    "import altair as alt\n",
    "from minspan.minspan import minspan,nnz\n",
    "# from minspan import minspan,nnz"
   ]
  },
  {
   "cell_type": "code",
   "execution_count": 2,
   "metadata": {},
   "outputs": [
    {
     "name": "stdout",
     "output_type": "stream",
     "text": [
      "3.8.12 (default, Oct 12 2021, 03:01:40) [MSC v.1916 64 bit (AMD64)]\n"
     ]
    }
   ],
   "source": [
    "import sys\n",
    "# from minspan import minspan,nnz\n",
    "print(sys.version)"
   ]
  },
  {
   "cell_type": "code",
   "execution_count": 3,
   "metadata": {},
   "outputs": [
    {
     "data": {
      "text/plain": [
       "type"
      ]
     },
     "execution_count": 3,
     "metadata": {},
     "output_type": "execute_result"
    }
   ],
   "source": [
    "type(dict)"
   ]
  },
  {
   "cell_type": "code",
   "execution_count": 4,
   "metadata": {},
   "outputs": [],
   "source": [
    "maps_dir = os.path.abspath(\"maps\")\n",
    "data_dir = os.path.abspath(\"data\")\n",
    "dir = os.path.abspath(\"\")\n",
    "model_dir = os.path.abspath(\"models\")\n",
    "minspan_dir= os.path.abspath(\"minspans_csv\")\n",
    "# extra_dir=os.path.abspath(\"..\")\n",
    "# minspan_dir"
   ]
  },
  {
   "cell_type": "markdown",
   "metadata": {},
   "source": [
    "### Getting reactions and metabolite data from RECON 3D"
   ]
  },
  {
   "cell_type": "code",
   "execution_count": 5,
   "metadata": {},
   "outputs": [],
   "source": [
    "# making dataframe of metabolites\n",
    "\n",
    "csv_met = os.path.join(data_dir,\"gly_met_df.csv\")\n",
    "met_csv_df = pd.read_csv(csv_met,index_col=\"id\")\n",
    "metabolite_info=met_csv_df.to_dict(orient='index')\n"
   ]
  },
  {
   "cell_type": "markdown",
   "metadata": {},
   "source": [
    "### Loading cobra model"
   ]
  },
  {
   "cell_type": "code",
   "execution_count": 6,
   "metadata": {},
   "outputs": [
    {
     "name": "stdout",
     "output_type": "stream",
     "text": [
      "Set parameter Username\n",
      "Academic license - for non-commercial use only - expires 2023-07-02\n"
     ]
    }
   ],
   "source": [
    "# Initiate empty model\n",
    "trial= cobra.Model()"
   ]
  },
  {
   "cell_type": "code",
   "execution_count": 7,
   "metadata": {},
   "outputs": [],
   "source": [
    "#  Add all the remaining metabolites involved in the pathway\n",
    "for met_id, info in metabolite_info.items():\n",
    "    met = cobra.Metabolite(met_id, name=info['name'], formula=info['formula'], \n",
    "                           charge=info['charge'], compartment=info['compartment'])\n",
    "    trial.add_metabolites(met)"
   ]
  },
  {
   "cell_type": "code",
   "execution_count": 8,
   "metadata": {},
   "outputs": [],
   "source": [
    "import json"
   ]
  },
  {
   "cell_type": "code",
   "execution_count": 9,
   "metadata": {},
   "outputs": [],
   "source": [
    "# Loading reaction data as JSON file to maintain data types as dictionaries \n",
    "rxn_json = os.path.join(data_dir,\"gly_reaction_df.json\")\n",
    "with open(rxn_json) as json_file:\n",
    "    rxn_data = json.load(json_file)"
   ]
  },
  {
   "cell_type": "code",
   "execution_count": 10,
   "metadata": {},
   "outputs": [
    {
     "name": "stdout",
     "output_type": "stream",
     "text": [
      "HEX1\n",
      "PGI\n",
      "FBP\n",
      "PFK\n",
      "FBA\n",
      "TPI\n",
      "GAPD\n",
      "PGK\n",
      "PGM\n",
      "ENO\n",
      "PYK\n",
      "LDH_L\n",
      "ATPM\n"
     ]
    }
   ],
   "source": [
    "for reaction, info in rxn_data.items():\n",
    "    reaction_obj = cobra.Reaction(reaction)\n",
    "    reaction_obj.id=reaction\n",
    "    reaction= reaction_obj.id\n",
    "    reaction_obj.lower_bound = info['lower_bound']\n",
    "    reaction_obj.upper_bound = info['upper_bound']\n",
    "    reaction_obj.name = info['name']\n",
    "    trial.add_reaction(reaction_obj)\n",
    "    temp=info['metabolites']\n",
    "    reaction_obj.add_metabolites(temp)\n",
    "    print(reaction)"
   ]
  },
  {
   "cell_type": "code",
   "execution_count": 11,
   "metadata": {},
   "outputs": [],
   "source": [
    "nadhm = {'nadh_c': -1, 'h_c': 1, 'nad_c': 1}\n",
    "rxn = cobra.Reaction('NADHM')\n",
    "trial.add_reaction(rxn)\n",
    "rxn.add_metabolites(nadhm)"
   ]
  },
  {
   "cell_type": "code",
   "execution_count": 12,
   "metadata": {},
   "outputs": [
    {
     "name": "stdout",
     "output_type": "stream",
     "text": [
      "HEX1 {'charge': -1.0}\n",
      "PGI {}\n",
      "FBP {'charge': 2.0}\n",
      "PFK {'charge': -1.0}\n",
      "FBA {}\n",
      "TPI {}\n",
      "GAPD {'charge': -3.0}\n",
      "PGK {}\n",
      "PGM {}\n",
      "ENO {}\n",
      "PYK {'charge': 1.0}\n",
      "LDH_L {'charge': -1.0}\n",
      "ATPM {'charge': 1.0}\n",
      "NADHM {'charge': 1}\n"
     ]
    }
   ],
   "source": [
    "#Mass balance check\n",
    "for r in trial.reactions:\n",
    "    print(r.id,  r.check_mass_balance())"
   ]
  },
  {
   "cell_type": "code",
   "execution_count": 13,
   "metadata": {},
   "outputs": [],
   "source": [
    "trial.metabolites.h_c.charge= 1\n",
    "# trial.metabolites.h_e.charge= 1\n",
    "trial.metabolites.pi_c.charge= -2"
   ]
  },
  {
   "cell_type": "code",
   "execution_count": 14,
   "metadata": {},
   "outputs": [
    {
     "name": "stdout",
     "output_type": "stream",
     "text": [
      "HEX1 {}\n",
      "PGI {}\n",
      "FBP {}\n",
      "PFK {}\n",
      "FBA {}\n",
      "TPI {}\n",
      "GAPD {}\n",
      "PGK {}\n",
      "PGM {}\n",
      "ENO {}\n",
      "PYK {}\n",
      "LDH_L {}\n",
      "ATPM {}\n",
      "NADHM {'charge': 2}\n"
     ]
    }
   ],
   "source": [
    "#Mass balance check\n",
    "for r in trial.reactions:\n",
    "    print(r.id,  r.check_mass_balance())"
   ]
  },
  {
   "cell_type": "code",
   "execution_count": 15,
   "metadata": {},
   "outputs": [],
   "source": [
    "for met in ['glc__D_c', 'h2o_c', 'h_c', 'pi_c','lac__L_c', \"pyr_c\"]:\n",
    "    rxn = cobra.Reaction('EX_%s' % met)\n",
    "    trial.add_reaction(rxn)\n",
    "    rxn.add_metabolites({met: -1})\n",
    "    if met == 'glc__D_c':\n",
    "        rxn.lower_bound = -0.00104480 \n",
    "        # by convention negative exchange flux = uptake\n",
    "        # https://reader.elsevier.com/reader/sd/pii/S0306987799909581?token=41F1F439A88E2255F03BDDC4FC2EEF12EF4CE079DA368A4C45F0838E164FDA3C50D17264DCA8970E4152B30CBE36A5B1&originRegion=us-east-1&originCreation=20220420180454\n",
    "    elif met == 'pyr_c':\n",
    "        rxn.lower_bound = 0\n",
    "    else:\n",
    "        rxn.lower_bound = -1000"
   ]
  },
  {
   "cell_type": "code",
   "execution_count": 16,
   "metadata": {},
   "outputs": [
    {
     "name": "stdout",
     "output_type": "stream",
     "text": [
      "HEX1: atp_c + glc__D_c --> adp_c + g6p_c + h_c\n",
      "PGI: g6p_c <=> f6p_c\n",
      "FBP: fdp_c + h2o_c --> f6p_c + pi_c\n",
      "PFK: atp_c + f6p_c --> adp_c + fdp_c + h_c\n",
      "FBA: fdp_c <=> dhap_c + g3p_c\n",
      "TPI: dhap_c <=> g3p_c\n",
      "GAPD: g3p_c + nad_c + pi_c <=> 13dpg_c + h_c + nadh_c\n",
      "PGK: 3pg_c + atp_c <=> 13dpg_c + adp_c\n",
      "PGM: 2pg_c <=> 3pg_c\n",
      "ENO: 2pg_c <=> h2o_c + pep_c\n",
      "PYK: adp_c + h_c + pep_c --> atp_c + pyr_c\n",
      "LDH_L: lac__L_c + nad_c <=> h_c + nadh_c + pyr_c\n",
      "ATPM: atp_c + h2o_c --> adp_c + h_c + pi_c\n",
      "NADHM: nadh_c --> h_c + nad_c\n",
      "EX_glc__D_c: glc__D_c <=> \n",
      "EX_h2o_c: h2o_c <=> \n",
      "EX_h_c: h_c <=> \n",
      "EX_pi_c: pi_c <=> \n",
      "EX_lac__L_c: lac__L_c <=> \n",
      "EX_pyr_c: pyr_c --> \n"
     ]
    }
   ],
   "source": [
    "for reaction in trial.reactions:\n",
    "    print(reaction)"
   ]
  },
  {
   "cell_type": "code",
   "execution_count": 17,
   "metadata": {},
   "outputs": [
    {
     "data": {
      "text/html": [
       "<strong><em>Optimal</em> solution with objective value 0.002</strong><br><div>\n",
       "<style scoped>\n",
       "    .dataframe tbody tr th:only-of-type {\n",
       "        vertical-align: middle;\n",
       "    }\n",
       "\n",
       "    .dataframe tbody tr th {\n",
       "        vertical-align: top;\n",
       "    }\n",
       "\n",
       "    .dataframe thead th {\n",
       "        text-align: right;\n",
       "    }\n",
       "</style>\n",
       "<table border=\"1\" class=\"dataframe\">\n",
       "  <thead>\n",
       "    <tr style=\"text-align: right;\">\n",
       "      <th></th>\n",
       "      <th>fluxes</th>\n",
       "      <th>reduced_costs</th>\n",
       "    </tr>\n",
       "  </thead>\n",
       "  <tbody>\n",
       "    <tr>\n",
       "      <th>HEX1</th>\n",
       "      <td>0.001045</td>\n",
       "      <td>0.0</td>\n",
       "    </tr>\n",
       "    <tr>\n",
       "      <th>PGI</th>\n",
       "      <td>0.001045</td>\n",
       "      <td>0.0</td>\n",
       "    </tr>\n",
       "    <tr>\n",
       "      <th>FBP</th>\n",
       "      <td>0.000000</td>\n",
       "      <td>-2.0</td>\n",
       "    </tr>\n",
       "    <tr>\n",
       "      <th>PFK</th>\n",
       "      <td>0.001045</td>\n",
       "      <td>0.0</td>\n",
       "    </tr>\n",
       "    <tr>\n",
       "      <th>FBA</th>\n",
       "      <td>0.001045</td>\n",
       "      <td>0.0</td>\n",
       "    </tr>\n",
       "    <tr>\n",
       "      <th>...</th>\n",
       "      <td>...</td>\n",
       "      <td>...</td>\n",
       "    </tr>\n",
       "    <tr>\n",
       "      <th>EX_h2o_c</th>\n",
       "      <td>0.000000</td>\n",
       "      <td>-0.0</td>\n",
       "    </tr>\n",
       "    <tr>\n",
       "      <th>EX_h_c</th>\n",
       "      <td>0.002090</td>\n",
       "      <td>0.0</td>\n",
       "    </tr>\n",
       "    <tr>\n",
       "      <th>EX_pi_c</th>\n",
       "      <td>0.000000</td>\n",
       "      <td>0.0</td>\n",
       "    </tr>\n",
       "    <tr>\n",
       "      <th>EX_lac__L_c</th>\n",
       "      <td>0.002090</td>\n",
       "      <td>0.0</td>\n",
       "    </tr>\n",
       "    <tr>\n",
       "      <th>EX_pyr_c</th>\n",
       "      <td>0.000000</td>\n",
       "      <td>0.0</td>\n",
       "    </tr>\n",
       "  </tbody>\n",
       "</table>\n",
       "<p>20 rows × 2 columns</p>\n",
       "</div>"
      ],
      "text/plain": [
       "<Solution 0.002 at 0x26e47db0fd0>"
      ]
     },
     "execution_count": 17,
     "metadata": {},
     "output_type": "execute_result"
    }
   ],
   "source": [
    "trial.objective = 'ATPM'\n",
    "flux_solution = trial.optimize()\n",
    "flux_solution"
   ]
  },
  {
   "cell_type": "code",
   "execution_count": 26,
   "metadata": {},
   "outputs": [
    {
     "data": {
      "application/vnd.jupyter.widget-view+json": {
       "model_id": "43e2b57b887b4426a18b1c3ecb4f5baa",
       "version_major": 2,
       "version_minor": 0
      },
      "text/plain": [
       "Builder(reaction_data={'HEX1': 0.0010448, 'PGI': 0.0010448, 'FBP': 0.0, 'PFK': 0.0010448, 'FBA': 0.0010448, 'T…"
      ]
     },
     "metadata": {},
     "output_type": "display_data"
    }
   ],
   "source": [
    "#Escher FBA: shows the solutions on the map\n",
    "initial_flux_data = {\n",
    "    reaction: flux\n",
    "    for reaction, flux in flux_solution.fluxes.items()}\n",
    "\n",
    "#view all the reactions that we need build\n",
    "escher_builder = escher.Builder(\n",
    "    model=trial,\n",
    "    map_json=os.path.join(\n",
    "        maps_dir,\"Glycolysis.json\")\n",
    "    , reaction_data=initial_flux_data)\n",
    "\n",
    "# Display map in notebook\n",
    "escher_builder"
   ]
  },
  {
   "cell_type": "code",
   "execution_count": 19,
   "metadata": {},
   "outputs": [],
   "source": [
    "from cobra_dict import metabolite_to_dict as metabolite_to_dict\n",
    "from cobra_dict import reaction_to_dict as reaction_to_dict"
   ]
  },
  {
   "cell_type": "code",
   "execution_count": 20,
   "metadata": {},
   "outputs": [],
   "source": [
    "met_df=pd.DataFrame()\n",
    "for met in trial.metabolites:\n",
    "    cobra_met= trial.metabolites.get_by_id(met.id)\n",
    "    m=metabolite_to_dict(cobra_met)\n",
    "    df_2=pd.DataFrame.from_dict(m,orient='index')\n",
    "    df_2=df_2.T\n",
    "    # met_df=met_df.append(df_2)\n",
    "    met_df = pd.concat([met_df, df_2])\n",
    "met_df=met_df.set_index('id')"
   ]
  },
  {
   "cell_type": "code",
   "execution_count": 21,
   "metadata": {},
   "outputs": [
    {
     "data": {
      "text/html": [
       "<div>\n",
       "<style scoped>\n",
       "    .dataframe tbody tr th:only-of-type {\n",
       "        vertical-align: middle;\n",
       "    }\n",
       "\n",
       "    .dataframe tbody tr th {\n",
       "        vertical-align: top;\n",
       "    }\n",
       "\n",
       "    .dataframe thead th {\n",
       "        text-align: right;\n",
       "    }\n",
       "</style>\n",
       "<table border=\"1\" class=\"dataframe\">\n",
       "  <thead>\n",
       "    <tr style=\"text-align: right;\">\n",
       "      <th></th>\n",
       "      <th>name</th>\n",
       "      <th>charge</th>\n",
       "      <th>formula</th>\n",
       "      <th>compartment</th>\n",
       "    </tr>\n",
       "    <tr>\n",
       "      <th>id</th>\n",
       "      <th></th>\n",
       "      <th></th>\n",
       "      <th></th>\n",
       "      <th></th>\n",
       "    </tr>\n",
       "  </thead>\n",
       "  <tbody>\n",
       "    <tr>\n",
       "      <th>adp_c</th>\n",
       "      <td>ADP C10H12N5O10P2</td>\n",
       "      <td>-3</td>\n",
       "      <td>C10H12N5O10P2</td>\n",
       "      <td>c</td>\n",
       "    </tr>\n",
       "    <tr>\n",
       "      <th>atp_c</th>\n",
       "      <td>ATP C10H12N5O13P3</td>\n",
       "      <td>-4</td>\n",
       "      <td>C10H12N5O13P3</td>\n",
       "      <td>c</td>\n",
       "    </tr>\n",
       "    <tr>\n",
       "      <th>g6p_c</th>\n",
       "      <td>D-Glucose 6-phosphate</td>\n",
       "      <td>-2</td>\n",
       "      <td>C6H11O9P</td>\n",
       "      <td>c</td>\n",
       "    </tr>\n",
       "    <tr>\n",
       "      <th>glc__D_c</th>\n",
       "      <td>D-Glucose</td>\n",
       "      <td>0</td>\n",
       "      <td>C6H12O6</td>\n",
       "      <td>c</td>\n",
       "    </tr>\n",
       "    <tr>\n",
       "      <th>h_c</th>\n",
       "      <td>H+</td>\n",
       "      <td>1</td>\n",
       "      <td>H</td>\n",
       "      <td>c</td>\n",
       "    </tr>\n",
       "    <tr>\n",
       "      <th>f6p_c</th>\n",
       "      <td>D-Fructose 6-phosphate</td>\n",
       "      <td>-2</td>\n",
       "      <td>C6H11O9P</td>\n",
       "      <td>c</td>\n",
       "    </tr>\n",
       "    <tr>\n",
       "      <th>fdp_c</th>\n",
       "      <td>D-Fructose 1,6-bisphosphate</td>\n",
       "      <td>-4</td>\n",
       "      <td>C6H10O12P2</td>\n",
       "      <td>c</td>\n",
       "    </tr>\n",
       "    <tr>\n",
       "      <th>h2o_c</th>\n",
       "      <td>H2O H2O</td>\n",
       "      <td>0</td>\n",
       "      <td>H2O</td>\n",
       "      <td>c</td>\n",
       "    </tr>\n",
       "    <tr>\n",
       "      <th>pi_c</th>\n",
       "      <td>Phosphate</td>\n",
       "      <td>-2</td>\n",
       "      <td>HO4P</td>\n",
       "      <td>c</td>\n",
       "    </tr>\n",
       "    <tr>\n",
       "      <th>dhap_c</th>\n",
       "      <td>Dihydroxyacetone phosphate</td>\n",
       "      <td>-2</td>\n",
       "      <td>C3H5O6P</td>\n",
       "      <td>c</td>\n",
       "    </tr>\n",
       "    <tr>\n",
       "      <th>g3p_c</th>\n",
       "      <td>Glyceraldehyde 3-phosphate</td>\n",
       "      <td>-2</td>\n",
       "      <td>C3H5O6P</td>\n",
       "      <td>c</td>\n",
       "    </tr>\n",
       "    <tr>\n",
       "      <th>13dpg_c</th>\n",
       "      <td>3-Phospho-D-glyceroyl phosphate</td>\n",
       "      <td>-4</td>\n",
       "      <td>C3H4O10P2</td>\n",
       "      <td>c</td>\n",
       "    </tr>\n",
       "    <tr>\n",
       "      <th>nad_c</th>\n",
       "      <td>Nicotinamide adenine dinucleotide</td>\n",
       "      <td>-1</td>\n",
       "      <td>C21H26N7O14P2</td>\n",
       "      <td>c</td>\n",
       "    </tr>\n",
       "    <tr>\n",
       "      <th>nadh_c</th>\n",
       "      <td>Nicotinamide adenine dinucleotide - reduced</td>\n",
       "      <td>-2</td>\n",
       "      <td>C21H27N7O14P2</td>\n",
       "      <td>c</td>\n",
       "    </tr>\n",
       "    <tr>\n",
       "      <th>3pg_c</th>\n",
       "      <td>3-Phospho-D-glycerate</td>\n",
       "      <td>-3</td>\n",
       "      <td>C3H4O7P</td>\n",
       "      <td>c</td>\n",
       "    </tr>\n",
       "    <tr>\n",
       "      <th>2pg_c</th>\n",
       "      <td>D-Glycerate 2-phosphate</td>\n",
       "      <td>-3</td>\n",
       "      <td>C3H4O7P</td>\n",
       "      <td>c</td>\n",
       "    </tr>\n",
       "    <tr>\n",
       "      <th>pep_c</th>\n",
       "      <td>Phosphoenolpyruvate</td>\n",
       "      <td>-3</td>\n",
       "      <td>C3H2O6P</td>\n",
       "      <td>c</td>\n",
       "    </tr>\n",
       "    <tr>\n",
       "      <th>pyr_c</th>\n",
       "      <td>Pyruvate</td>\n",
       "      <td>-1</td>\n",
       "      <td>C3H3O3</td>\n",
       "      <td>c</td>\n",
       "    </tr>\n",
       "    <tr>\n",
       "      <th>lac__L_c</th>\n",
       "      <td>L-Lactate</td>\n",
       "      <td>-1</td>\n",
       "      <td>C3H5O3</td>\n",
       "      <td>c</td>\n",
       "    </tr>\n",
       "  </tbody>\n",
       "</table>\n",
       "</div>"
      ],
      "text/plain": [
       "                                                 name charge        formula  \\\n",
       "id                                                                            \n",
       "adp_c                               ADP C10H12N5O10P2     -3  C10H12N5O10P2   \n",
       "atp_c                               ATP C10H12N5O13P3     -4  C10H12N5O13P3   \n",
       "g6p_c                           D-Glucose 6-phosphate     -2       C6H11O9P   \n",
       "glc__D_c                                    D-Glucose      0        C6H12O6   \n",
       "h_c                                                H+      1              H   \n",
       "f6p_c                          D-Fructose 6-phosphate     -2       C6H11O9P   \n",
       "fdp_c                     D-Fructose 1,6-bisphosphate     -4     C6H10O12P2   \n",
       "h2o_c                                         H2O H2O      0            H2O   \n",
       "pi_c                                        Phosphate     -2           HO4P   \n",
       "dhap_c                     Dihydroxyacetone phosphate     -2        C3H5O6P   \n",
       "g3p_c                      Glyceraldehyde 3-phosphate     -2        C3H5O6P   \n",
       "13dpg_c               3-Phospho-D-glyceroyl phosphate     -4      C3H4O10P2   \n",
       "nad_c               Nicotinamide adenine dinucleotide     -1  C21H26N7O14P2   \n",
       "nadh_c    Nicotinamide adenine dinucleotide - reduced     -2  C21H27N7O14P2   \n",
       "3pg_c                           3-Phospho-D-glycerate     -3        C3H4O7P   \n",
       "2pg_c                         D-Glycerate 2-phosphate     -3        C3H4O7P   \n",
       "pep_c                             Phosphoenolpyruvate     -3        C3H2O6P   \n",
       "pyr_c                                        Pyruvate     -1         C3H3O3   \n",
       "lac__L_c                                    L-Lactate     -1         C3H5O3   \n",
       "\n",
       "         compartment  \n",
       "id                    \n",
       "adp_c              c  \n",
       "atp_c              c  \n",
       "g6p_c              c  \n",
       "glc__D_c           c  \n",
       "h_c                c  \n",
       "f6p_c              c  \n",
       "fdp_c              c  \n",
       "h2o_c              c  \n",
       "pi_c               c  \n",
       "dhap_c             c  \n",
       "g3p_c              c  \n",
       "13dpg_c            c  \n",
       "nad_c              c  \n",
       "nadh_c             c  \n",
       "3pg_c              c  \n",
       "2pg_c              c  \n",
       "pep_c              c  \n",
       "pyr_c              c  \n",
       "lac__L_c           c  "
      ]
     },
     "execution_count": 21,
     "metadata": {},
     "output_type": "execute_result"
    }
   ],
   "source": [
    "met_df"
   ]
  },
  {
   "cell_type": "code",
   "execution_count": 22,
   "metadata": {},
   "outputs": [],
   "source": [
    "csv_met_cobra = os.path.join(data_dir,\"gly_cobra_met.csv\")\n",
    "met_df.to_csv(csv_met_cobra)"
   ]
  },
  {
   "cell_type": "code",
   "execution_count": 23,
   "metadata": {},
   "outputs": [],
   "source": [
    "rxn_df=pd.DataFrame()\n",
    "for rxn in trial.reactions:\n",
    "    cobra_rxn= trial.reactions.get_by_id(rxn.id)\n",
    "    r=reaction_to_dict(cobra_rxn)\n",
    "#     print(r)\n",
    "    df=pd.DataFrame.from_dict(r,orient='index')\n",
    "    df=df.T\n",
    "    # rxn_df=rxn_df.append(df)\n",
    "    rxn_df = pd.concat([rxn_df, df])\n",
    "\n",
    "rxn_df=rxn_df.set_index('id')"
   ]
  },
  {
   "cell_type": "code",
   "execution_count": 24,
   "metadata": {},
   "outputs": [
    {
     "data": {
      "text/html": [
       "<div>\n",
       "<style scoped>\n",
       "    .dataframe tbody tr th:only-of-type {\n",
       "        vertical-align: middle;\n",
       "    }\n",
       "\n",
       "    .dataframe tbody tr th {\n",
       "        vertical-align: top;\n",
       "    }\n",
       "\n",
       "    .dataframe thead th {\n",
       "        text-align: right;\n",
       "    }\n",
       "</style>\n",
       "<table border=\"1\" class=\"dataframe\">\n",
       "  <thead>\n",
       "    <tr style=\"text-align: right;\">\n",
       "      <th></th>\n",
       "      <th>name</th>\n",
       "      <th>metabolites</th>\n",
       "      <th>lower_bound</th>\n",
       "      <th>upper_bound</th>\n",
       "      <th>gene_reaction_rule</th>\n",
       "      <th>objective_coefficient</th>\n",
       "    </tr>\n",
       "    <tr>\n",
       "      <th>id</th>\n",
       "      <th></th>\n",
       "      <th></th>\n",
       "      <th></th>\n",
       "      <th></th>\n",
       "      <th></th>\n",
       "      <th></th>\n",
       "    </tr>\n",
       "  </thead>\n",
       "  <tbody>\n",
       "    <tr>\n",
       "      <th>HEX1</th>\n",
       "      <td>Hexokinase (D-glucose:ATP)</td>\n",
       "      <td>{'adp_c': 1.0, 'atp_c': -1.0, 'g6p_c': 1.0, 'g...</td>\n",
       "      <td>0.0</td>\n",
       "      <td>1000.0</td>\n",
       "      <td></td>\n",
       "      <td>NaN</td>\n",
       "    </tr>\n",
       "    <tr>\n",
       "      <th>PGI</th>\n",
       "      <td>Glucose-6-phosphate isomerase</td>\n",
       "      <td>{'f6p_c': 1.0, 'g6p_c': -1.0}</td>\n",
       "      <td>-1000.0</td>\n",
       "      <td>1000.0</td>\n",
       "      <td></td>\n",
       "      <td>NaN</td>\n",
       "    </tr>\n",
       "    <tr>\n",
       "      <th>FBP</th>\n",
       "      <td>Fructose-bisphosphatase</td>\n",
       "      <td>{'f6p_c': 1.0, 'fdp_c': -1.0, 'h2o_c': -1.0, '...</td>\n",
       "      <td>0.0</td>\n",
       "      <td>1000.0</td>\n",
       "      <td></td>\n",
       "      <td>NaN</td>\n",
       "    </tr>\n",
       "    <tr>\n",
       "      <th>PFK</th>\n",
       "      <td>Phosphofructokinase</td>\n",
       "      <td>{'adp_c': 1.0, 'atp_c': -1.0, 'f6p_c': -1.0, '...</td>\n",
       "      <td>0.0</td>\n",
       "      <td>1000.0</td>\n",
       "      <td></td>\n",
       "      <td>NaN</td>\n",
       "    </tr>\n",
       "    <tr>\n",
       "      <th>FBA</th>\n",
       "      <td>Fructose-bisphosphate aldolase</td>\n",
       "      <td>{'dhap_c': 1.0, 'fdp_c': -1.0, 'g3p_c': 1.0}</td>\n",
       "      <td>-1000.0</td>\n",
       "      <td>1000.0</td>\n",
       "      <td></td>\n",
       "      <td>NaN</td>\n",
       "    </tr>\n",
       "    <tr>\n",
       "      <th>TPI</th>\n",
       "      <td>Triose-phosphate isomerase</td>\n",
       "      <td>{'dhap_c': -1.0, 'g3p_c': 1.0}</td>\n",
       "      <td>-1000.0</td>\n",
       "      <td>1000.0</td>\n",
       "      <td></td>\n",
       "      <td>NaN</td>\n",
       "    </tr>\n",
       "    <tr>\n",
       "      <th>GAPD</th>\n",
       "      <td>Glyceraldehyde-3-phosphate dehydrogenase</td>\n",
       "      <td>{'13dpg_c': 1.0, 'g3p_c': -1.0, 'h_c': 1.0, 'n...</td>\n",
       "      <td>-1000.0</td>\n",
       "      <td>1000.0</td>\n",
       "      <td></td>\n",
       "      <td>NaN</td>\n",
       "    </tr>\n",
       "    <tr>\n",
       "      <th>PGK</th>\n",
       "      <td>Phosphoglycerate kinase</td>\n",
       "      <td>{'13dpg_c': 1.0, '3pg_c': -1.0, 'adp_c': 1.0, ...</td>\n",
       "      <td>-1000.0</td>\n",
       "      <td>1000.0</td>\n",
       "      <td></td>\n",
       "      <td>NaN</td>\n",
       "    </tr>\n",
       "    <tr>\n",
       "      <th>PGM</th>\n",
       "      <td>Phosphoglycerate mutase</td>\n",
       "      <td>{'2pg_c': -1.0, '3pg_c': 1.0}</td>\n",
       "      <td>-1000.0</td>\n",
       "      <td>1000.0</td>\n",
       "      <td></td>\n",
       "      <td>NaN</td>\n",
       "    </tr>\n",
       "    <tr>\n",
       "      <th>ENO</th>\n",
       "      <td>Enolase</td>\n",
       "      <td>{'2pg_c': -1.0, 'h2o_c': 1.0, 'pep_c': 1.0}</td>\n",
       "      <td>-1000.0</td>\n",
       "      <td>1000.0</td>\n",
       "      <td></td>\n",
       "      <td>NaN</td>\n",
       "    </tr>\n",
       "    <tr>\n",
       "      <th>PYK</th>\n",
       "      <td>Pyruvate kinase</td>\n",
       "      <td>{'adp_c': -1.0, 'atp_c': 1.0, 'h_c': -1.0, 'pe...</td>\n",
       "      <td>0.0</td>\n",
       "      <td>1000.0</td>\n",
       "      <td></td>\n",
       "      <td>NaN</td>\n",
       "    </tr>\n",
       "    <tr>\n",
       "      <th>LDH_L</th>\n",
       "      <td>L-lactate dehydrogenase</td>\n",
       "      <td>{'h_c': 1.0, 'lac__L_c': -1.0, 'nad_c': -1.0, ...</td>\n",
       "      <td>-1000.0</td>\n",
       "      <td>1000.0</td>\n",
       "      <td></td>\n",
       "      <td>NaN</td>\n",
       "    </tr>\n",
       "    <tr>\n",
       "      <th>ATPM</th>\n",
       "      <td>ATP maintenance requirement</td>\n",
       "      <td>{'adp_c': 1.0, 'atp_c': -1.0, 'h2o_c': -1.0, '...</td>\n",
       "      <td>0.0</td>\n",
       "      <td>1000.0</td>\n",
       "      <td></td>\n",
       "      <td>1.0</td>\n",
       "    </tr>\n",
       "    <tr>\n",
       "      <th>NADHM</th>\n",
       "      <td></td>\n",
       "      <td>{'h_c': 1, 'nad_c': 1, 'nadh_c': -1}</td>\n",
       "      <td>0.0</td>\n",
       "      <td>1000.0</td>\n",
       "      <td></td>\n",
       "      <td>NaN</td>\n",
       "    </tr>\n",
       "    <tr>\n",
       "      <th>EX_glc__D_c</th>\n",
       "      <td></td>\n",
       "      <td>{'glc__D_c': -1}</td>\n",
       "      <td>-0.001045</td>\n",
       "      <td>1000.0</td>\n",
       "      <td></td>\n",
       "      <td>NaN</td>\n",
       "    </tr>\n",
       "    <tr>\n",
       "      <th>EX_h2o_c</th>\n",
       "      <td></td>\n",
       "      <td>{'h2o_c': -1}</td>\n",
       "      <td>-1000</td>\n",
       "      <td>1000.0</td>\n",
       "      <td></td>\n",
       "      <td>NaN</td>\n",
       "    </tr>\n",
       "    <tr>\n",
       "      <th>EX_h_c</th>\n",
       "      <td></td>\n",
       "      <td>{'h_c': -1}</td>\n",
       "      <td>-1000</td>\n",
       "      <td>1000.0</td>\n",
       "      <td></td>\n",
       "      <td>NaN</td>\n",
       "    </tr>\n",
       "    <tr>\n",
       "      <th>EX_pi_c</th>\n",
       "      <td></td>\n",
       "      <td>{'pi_c': -1}</td>\n",
       "      <td>-1000</td>\n",
       "      <td>1000.0</td>\n",
       "      <td></td>\n",
       "      <td>NaN</td>\n",
       "    </tr>\n",
       "    <tr>\n",
       "      <th>EX_lac__L_c</th>\n",
       "      <td></td>\n",
       "      <td>{'lac__L_c': -1}</td>\n",
       "      <td>-1000</td>\n",
       "      <td>1000.0</td>\n",
       "      <td></td>\n",
       "      <td>NaN</td>\n",
       "    </tr>\n",
       "    <tr>\n",
       "      <th>EX_pyr_c</th>\n",
       "      <td></td>\n",
       "      <td>{'pyr_c': -1}</td>\n",
       "      <td>0</td>\n",
       "      <td>1000.0</td>\n",
       "      <td></td>\n",
       "      <td>NaN</td>\n",
       "    </tr>\n",
       "  </tbody>\n",
       "</table>\n",
       "</div>"
      ],
      "text/plain": [
       "                                                 name  \\\n",
       "id                                                      \n",
       "HEX1                       Hexokinase (D-glucose:ATP)   \n",
       "PGI                     Glucose-6-phosphate isomerase   \n",
       "FBP                           Fructose-bisphosphatase   \n",
       "PFK                               Phosphofructokinase   \n",
       "FBA                    Fructose-bisphosphate aldolase   \n",
       "TPI                        Triose-phosphate isomerase   \n",
       "GAPD         Glyceraldehyde-3-phosphate dehydrogenase   \n",
       "PGK                           Phosphoglycerate kinase   \n",
       "PGM                           Phosphoglycerate mutase   \n",
       "ENO                                           Enolase   \n",
       "PYK                                   Pyruvate kinase   \n",
       "LDH_L                         L-lactate dehydrogenase   \n",
       "ATPM                      ATP maintenance requirement   \n",
       "NADHM                                                   \n",
       "EX_glc__D_c                                             \n",
       "EX_h2o_c                                                \n",
       "EX_h_c                                                  \n",
       "EX_pi_c                                                 \n",
       "EX_lac__L_c                                             \n",
       "EX_pyr_c                                                \n",
       "\n",
       "                                                   metabolites lower_bound  \\\n",
       "id                                                                           \n",
       "HEX1         {'adp_c': 1.0, 'atp_c': -1.0, 'g6p_c': 1.0, 'g...         0.0   \n",
       "PGI                              {'f6p_c': 1.0, 'g6p_c': -1.0}     -1000.0   \n",
       "FBP          {'f6p_c': 1.0, 'fdp_c': -1.0, 'h2o_c': -1.0, '...         0.0   \n",
       "PFK          {'adp_c': 1.0, 'atp_c': -1.0, 'f6p_c': -1.0, '...         0.0   \n",
       "FBA               {'dhap_c': 1.0, 'fdp_c': -1.0, 'g3p_c': 1.0}     -1000.0   \n",
       "TPI                             {'dhap_c': -1.0, 'g3p_c': 1.0}     -1000.0   \n",
       "GAPD         {'13dpg_c': 1.0, 'g3p_c': -1.0, 'h_c': 1.0, 'n...     -1000.0   \n",
       "PGK          {'13dpg_c': 1.0, '3pg_c': -1.0, 'adp_c': 1.0, ...     -1000.0   \n",
       "PGM                              {'2pg_c': -1.0, '3pg_c': 1.0}     -1000.0   \n",
       "ENO                {'2pg_c': -1.0, 'h2o_c': 1.0, 'pep_c': 1.0}     -1000.0   \n",
       "PYK          {'adp_c': -1.0, 'atp_c': 1.0, 'h_c': -1.0, 'pe...         0.0   \n",
       "LDH_L        {'h_c': 1.0, 'lac__L_c': -1.0, 'nad_c': -1.0, ...     -1000.0   \n",
       "ATPM         {'adp_c': 1.0, 'atp_c': -1.0, 'h2o_c': -1.0, '...         0.0   \n",
       "NADHM                     {'h_c': 1, 'nad_c': 1, 'nadh_c': -1}         0.0   \n",
       "EX_glc__D_c                                   {'glc__D_c': -1}   -0.001045   \n",
       "EX_h2o_c                                         {'h2o_c': -1}       -1000   \n",
       "EX_h_c                                             {'h_c': -1}       -1000   \n",
       "EX_pi_c                                           {'pi_c': -1}       -1000   \n",
       "EX_lac__L_c                                   {'lac__L_c': -1}       -1000   \n",
       "EX_pyr_c                                         {'pyr_c': -1}           0   \n",
       "\n",
       "            upper_bound gene_reaction_rule objective_coefficient  \n",
       "id                                                                \n",
       "HEX1             1000.0                                      NaN  \n",
       "PGI              1000.0                                      NaN  \n",
       "FBP              1000.0                                      NaN  \n",
       "PFK              1000.0                                      NaN  \n",
       "FBA              1000.0                                      NaN  \n",
       "TPI              1000.0                                      NaN  \n",
       "GAPD             1000.0                                      NaN  \n",
       "PGK              1000.0                                      NaN  \n",
       "PGM              1000.0                                      NaN  \n",
       "ENO              1000.0                                      NaN  \n",
       "PYK              1000.0                                      NaN  \n",
       "LDH_L            1000.0                                      NaN  \n",
       "ATPM             1000.0                                      1.0  \n",
       "NADHM            1000.0                                      NaN  \n",
       "EX_glc__D_c      1000.0                                      NaN  \n",
       "EX_h2o_c         1000.0                                      NaN  \n",
       "EX_h_c           1000.0                                      NaN  \n",
       "EX_pi_c          1000.0                                      NaN  \n",
       "EX_lac__L_c      1000.0                                      NaN  \n",
       "EX_pyr_c         1000.0                                      NaN  "
      ]
     },
     "execution_count": 24,
     "metadata": {},
     "output_type": "execute_result"
    }
   ],
   "source": [
    "rxn_df"
   ]
  },
  {
   "cell_type": "code",
   "execution_count": 25,
   "metadata": {},
   "outputs": [],
   "source": [
    "json_rxn_cobra = os.path.join(data_dir,\"gly_cobra_rxn.json\")\n",
    "rxn_df.to_json(json_rxn_cobra\n",
    ",orient=\"index\")"
   ]
  },
  {
   "cell_type": "markdown",
   "metadata": {},
   "source": [
    "## Making MASS model of glycolysis"
   ]
  },
  {
   "cell_type": "code",
   "execution_count": null,
   "metadata": {},
   "outputs": [],
   "source": [
    "liver= MassModel(\"Core_Model\", array_type='DataFrame', dtype=np.int64)"
   ]
  },
  {
   "cell_type": "markdown",
   "metadata": {},
   "source": [
    "#### Add the pathway metabolites and their information to a new MASS model"
   ]
  },
  {
   "cell_type": "code",
   "execution_count": null,
   "metadata": {},
   "outputs": [],
   "source": [
    "import json"
   ]
  },
  {
   "cell_type": "code",
   "execution_count": null,
   "metadata": {},
   "outputs": [],
   "source": [
    "met_csv_df = pd.read_csv(csv_met_cobra,index_col=\"id\")\n",
    "mass_metabolite_info=met_csv_df.to_dict(orient='index')\n",
    "\n",
    "# Loading reaction data as JSON file to maintain data types as dictionaries \n",
    "\n",
    "with open(json_rxn_cobra) as json_file:\n",
    "    mass_rxn_data = json.load(json_file)"
   ]
  },
  {
   "cell_type": "code",
   "execution_count": null,
   "metadata": {},
   "outputs": [],
   "source": [
    "for met_id, info in mass_metabolite_info.items():\n",
    "    met = MassMetabolite(met_id, name=info['name'], formula=info['formula'], \n",
    "                           charge=info['charge'], compartment=info['compartment'])\n",
    "    liver.add_metabolites(met)"
   ]
  },
  {
   "cell_type": "code",
   "execution_count": null,
   "metadata": {},
   "outputs": [],
   "source": [
    "for reaction, info in mass_rxn_data.items():\n",
    "    reaction_obj = MassReaction(reaction)\n",
    "    reaction_obj.id = reaction\n",
    "    reaction= reaction_obj.id\n",
    "    reaction_obj.lower_bound = info['lower_bound']\n",
    "    reaction_obj.upper_bound = info['upper_bound']\n",
    "    reaction_obj.name = info['name']\n",
    "#     if reaction_obj.id != \"DM_nadh\" or reaction_obj.id != 'ATPM':\n",
    "    liver.add_reactions(reaction_obj)\n",
    "    temp=info['metabolites']\n",
    "    reaction_obj.add_metabolites(temp)\n",
    "    # print(reaction)"
   ]
  },
  {
   "cell_type": "code",
   "execution_count": null,
   "metadata": {},
   "outputs": [],
   "source": [
    "liver.reactions.PGK.reverse_stoichiometry(inplace=True)\n",
    "liver.reactions.PGM.reverse_stoichiometry(inplace=True)\n",
    "# liver.reactions.PGM"
   ]
  },
  {
   "cell_type": "markdown",
   "metadata": {},
   "source": [
    "##  Set Fluxes"
   ]
  },
  {
   "cell_type": "code",
   "execution_count": null,
   "metadata": {},
   "outputs": [],
   "source": [
    "fluxes_mass = flux_solution.to_frame()\n",
    "fluxes_mass"
   ]
  },
  {
   "cell_type": "code",
   "execution_count": null,
   "metadata": {},
   "outputs": [],
   "source": [
    "no_flux =[]\n",
    "for r in liver.reactions:\n",
    "    if r.id in fluxes_mass.index:\n",
    "        flux =  fluxes_mass.loc[r.id,\"fluxes\"]\n",
    "        # reaction = liver.reactions.get_by_id\n",
    "        r.steady_state_flux = flux\n",
    "        print(r.id, r.steady_state_flux)\n",
    "        \n",
    "    else:\n",
    "        no_flux.append(r.id)\n",
    "\n",
    "no_flux"
   ]
  },
  {
   "cell_type": "markdown",
   "metadata": {},
   "source": [
    "## Setting initial conditions"
   ]
  },
  {
   "cell_type": "code",
   "execution_count": null,
   "metadata": {},
   "outputs": [],
   "source": [
    "import csv\n",
    "import openpyxl"
   ]
  },
  {
   "cell_type": "code",
   "execution_count": null,
   "metadata": {},
   "outputs": [],
   "source": [
    "#Function to load data from the excel sheet\n",
    "def load_data(filepath, sheet_name):\n",
    "    \"\"\"Load Liver data from an excel sheet\"\"\"\n",
    "    df = pd.read_excel(engine='openpyxl',\n",
    "        io=filepath,\n",
    "        sheet_name=sheet_name,\n",
    "        index_col=0)\n",
    "    return df"
   ]
  },
  {
   "cell_type": "code",
   "execution_count": null,
   "metadata": {},
   "outputs": [],
   "source": [
    "#Compare Results\n",
    "excel_ic = os.path.join(data_dir,\"Concentrations2.xlsx\")\n",
    "ic_info_all = load_data(\n",
    "    filepath=excel_ic,\n",
    "    sheet_name=\"Concentrations\")\n",
    "ic_info_all.reset_index(level='ID', col_level=1, inplace=True)"
   ]
  },
  {
   "cell_type": "code",
   "execution_count": null,
   "metadata": {},
   "outputs": [],
   "source": [
    "conc_df =pd.DataFrame(ic_info_all.loc[:,[\"ID\",\"Concentration (M)\"]])\n",
    "conc_df.set_index('ID',drop=True,inplace=True)"
   ]
  },
  {
   "cell_type": "code",
   "execution_count": null,
   "metadata": {},
   "outputs": [],
   "source": [
    "print(\"Initial Conditions\\n------------------\")\n",
    "\n",
    "for met in liver.metabolites:\n",
    "    #Setting inital condition of metabolties from HEPATOKIN  #M \n",
    "    if met.id in conc_df.index:\n",
    "        mid=met.id\n",
    "        # print(mid)\n",
    "        # metabolite = reaction.metabolites\n",
    "        ic_value = conc_df.loc[mid,'Concentration (M)']\n",
    "        # print(mid,ic_value)\n",
    "        met.ic =  (ic_value)            \n",
    "for metabolite, ic_value in liver.initial_conditions.items():\n",
    "    print(\"{0}: {1}\".format(metabolite, ic_value))"
   ]
  },
  {
   "cell_type": "markdown",
   "metadata": {},
   "source": [
    "### Getting Standard and Physiological Gibbs energies of reactions"
   ]
  },
  {
   "cell_type": "code",
   "execution_count": null,
   "metadata": {},
   "outputs": [],
   "source": [
    "reaction_str= []\n",
    "\n",
    "cc = ComponentContribution()\n",
    "\n",
    "# optional: changing the aqueous environment parameters\n",
    "cc.p_h = Q_(7.4)\n",
    "cc.p_mg = Q_(3.31)\n",
    "cc.ionic_strength = Q_(\"0.144M\")\n",
    "cc.temperature = Q_(\"310.15K\")\n",
    "R = 0.00831446261815324 #R = 0.00831446261815324 kJ/mol\n",
    "from numpy import exp as exp\n"
   ]
  },
  {
   "cell_type": "code",
   "execution_count": null,
   "metadata": {},
   "outputs": [],
   "source": [
    "# Reactions that we don't want to get Keq from equilibrator [exchanges and psuedoreactions] SET THESE MANUALLY\n",
    "# Setting Keq and kf for boundary reactions\n",
    "\n",
    "excluded_reactions=[\"ATPM\", \n",
    "# \"NADHM\",\n",
    "]"
   ]
  },
  {
   "cell_type": "code",
   "execution_count": null,
   "metadata": {},
   "outputs": [],
   "source": [
    "print(\"Boundary Reactions and Values\\n-----------------------------\")\n",
    "for reaction in liver.boundary:\n",
    "    excluded_reactions.append(reaction.id)\n",
    "    reaction.Keq=1    # Setting Keq\n",
    "    reaction.kf=1e6     # Setting kf\n",
    "    #Setting boundary condition metabolties from ic of metabolite from HEPATOKIN   \n",
    "    for met in reaction.reactants:\n",
    "        if met.id in conc_df.index:\n",
    "            mid=met.id\n",
    "            boundary_met = reaction.boundary_metabolite\n",
    "            bcvalue = conc_df.loc[mid,'Concentration (M)']\n",
    "            liver.boundary_conditions[boundary_met] =  bcvalue\n",
    "            bc_value = liver.boundary_conditions.get(boundary_met)\n",
    "            print(\"{0}\\n{1}: {2}\\n\".format(reaction, boundary_met, bc_value))\n",
    "\n",
    "# Trying to set these as 1e6 becasue the inf might be messing with the solver\n",
    "liver.reactions.ATPM.Keq=1e6\n",
    "liver.reactions.NADHM.Keq=1e6"
   ]
  },
  {
   "cell_type": "code",
   "execution_count": null,
   "metadata": {},
   "outputs": [],
   "source": [
    "# Getting Keq from equilibrator by forming a reaction string that it can parse through\n",
    "for reaction in liver.reactions:\n",
    "    if reaction.id not in excluded_reactions:\n",
    "        reactants = []\n",
    "        #forming reaction string \n",
    "        for met in reaction.reactants:\n",
    "            id_coeff= reaction.get_coefficient(met)\n",
    "            new_id = met.id.rpartition(\"_\" + str(met.compartment))[0] #removing compartment lettes, for eg \"_c\"\n",
    "            if id_coeff == 1 or id_coeff == -1:\n",
    "                new_id = \"bigg.metabolite:\" + new_id\n",
    "            else:\n",
    "                new_id = str(id_coeff) + \" bigg.metabolite:\" + new_id\n",
    "\n",
    "            reactants.append(new_id)   \n",
    "        reactants_string= \" + \".join(reactants)\n",
    "        reactants_string = str(reactants_string + \" = \")\n",
    "\n",
    "        # Forming product string\n",
    "        products = []\n",
    "        for met in reaction.products:\n",
    "            new_id = met.id.rpartition(\"_\" + str(met.compartment))[0] # removing compartment lettes, for eg \"_c\"\n",
    "            new_id = \"bigg.metabolite:\" + new_id\n",
    "            products.append(new_id)   \n",
    "        products_string= \" + \".join(products)\n",
    "\n",
    "        #final reaction to parse\n",
    "        reaction_to_parse = reactants_string + products_string         \n",
    "        rxn_parsed = cc.parse_reaction_formula(reaction_to_parse)\n",
    "        print(reaction.id)\n",
    "\n",
    "        #Getting Gibbs energies\n",
    "        dG0_prime = cc.standard_dg_prime(rxn_parsed)\n",
    "        dGm_prime = cc.physiological_dg_prime(rxn_parsed)\n",
    "        dG_prime_value_in_kj_per_mol = dGm_prime.value.m_as(\"kJ/mol\")\n",
    "        dG0prime_value_in_kj_per_mol = dG0_prime.value.m_as(\"kJ/mol\")\n",
    "        delG = dG_prime_value_in_kj_per_mol\n",
    "\n",
    "        # Calculating Keq from delG\n",
    "        a = exp(-delG/ (R*310.15)) \n",
    "        reaction.Keq = a\n",
    "        print(f\"Keq = {a}\")    "
   ]
  },
  {
   "cell_type": "code",
   "execution_count": null,
   "metadata": {},
   "outputs": [],
   "source": [
    "liver.reactions.NADHM"
   ]
  },
  {
   "cell_type": "code",
   "execution_count": null,
   "metadata": {},
   "outputs": [],
   "source": [
    "liver.metabolites.h_c.charge= 1\n",
    "# liver.metabolites.h_e.charge= 1\n",
    "liver.metabolites.pi_c.charge= -2"
   ]
  },
  {
   "cell_type": "code",
   "execution_count": null,
   "metadata": {},
   "outputs": [],
   "source": [
    "metabolite_ids = [m.id for m in liver.metabolites]\n",
    "misbalance= pd.DataFrame(\n",
    "    liver.S.dot(np.array(list(liver.steady_state_fluxes.values()))),\n",
    "    index=metabolite_ids,\n",
    "    columns=[r\"$\\textbf{Sv}_{\\mathrm{stst}}$\"])\n",
    "misbalance.T"
   ]
  },
  {
   "cell_type": "markdown",
   "metadata": {},
   "source": [
    "## Setting initial conditions"
   ]
  },
  {
   "cell_type": "code",
   "execution_count": null,
   "metadata": {},
   "outputs": [],
   "source": [
    "# import csv\n",
    "# csv_ic = os.path.join(data_dir,\"Concentrations_Glycolysis.csv\")\n",
    "# # opening the CSV file\n",
    "# with open(csv_ic, mode ='r')as file:\n",
    "   \n",
    "#   # reading the CSV file\n",
    "#     csvFile = csv.reader(file)\n",
    "\n",
    "#       # displaying the contents of the CSV file\n",
    "#     for name, value in csvFile:\n",
    "#         met_id = liver.metabolites.get_by_id(name)\n",
    "#         met_id.ic = float(value) #M\n",
    "#         print(met_id, \":\", met_id.ic)"
   ]
  },
  {
   "cell_type": "markdown",
   "metadata": {},
   "source": [
    "## Set H2O/H Constants"
   ]
  },
  {
   "cell_type": "code",
   "execution_count": null,
   "metadata": {},
   "outputs": [],
   "source": [
    "# Set concentrations of hydrogen, water as fixed\n",
    "# Assume hydrogen in all compartments are fixed \n",
    "for metabolite in [\n",
    "    \"h_c\",\n",
    "#     'h_e','h_m',\n",
    "#     'h2o_r','h2o_e',\n",
    "    \"h2o_c\",\n",
    "#     \"glc__D_e\", \"pi_e\",'pi_m',\n",
    "    'pi_c'\n",
    "                  ]:\n",
    "    metabolite = liver.metabolites.get_by_id(metabolite)\n",
    "    metabolite.fixed = True"
   ]
  },
  {
   "cell_type": "code",
   "execution_count": null,
   "metadata": {},
   "outputs": [],
   "source": [
    "for metabolite in [\n",
    "#     'h_m',\n",
    "\"h_c\", \n",
    "#     'h_e',\n",
    "\"h2o_c\",\n",
    "#     'h2o_r','h2o_e' \n",
    "]:\n",
    "    metabolite = liver.metabolites.get_by_id(metabolite)\n",
    "    metabolite.ic = 1 #M"
   ]
  },
  {
   "cell_type": "code",
   "execution_count": null,
   "metadata": {},
   "outputs": [],
   "source": [
    "for metabolite in liver.metabolites:\n",
    "    print(\"{0}: {1}\".format(metabolite.id, metabolite.ic))"
   ]
  },
  {
   "cell_type": "code",
   "execution_count": null,
   "metadata": {},
   "outputs": [],
   "source": [
    "#Formulate QP minimization list for concentrations\n",
    "conc_solver = ConcSolver(\n",
    "    liver, \n",
    "    excluded_metabolites=[\n",
    "    \"h_c\",\n",
    "#         'h_e', 'h_m',\n",
    "#     'h2o_r','h2o_e',\n",
    "        \"h2o_c\",\n",
    "#     \"pi_e\",\n",
    "#     \"glc__D_e\", \"lac__L_e\",\n",
    "#     \"pyr_e\"\n",
    "    ], \n",
    "#     excluded_reactions=[\"Ht\", \"H2Ot\", \"H2Oter\",'PIter','PIt',\n",
    "#     'G6Pter','GLCter','GLCt1','PYRt2m','PEPtm',\n",
    "#     'L_LACt2r','PYRt2'],\n",
    "\n",
    "    constraint_buffer=1)\n",
    "\n",
    "conc_solver.setup_feasible_qp_problem(\n",
    "fixed_conc_bounds=list(liver.fixed))\n",
    "# fixed_Keq_bounds=liver.reactions.list_attr(\"Keq_str\")\n",
    "    \n",
    "#assumption: provide uncertainity to allow for a variance for the Keqs rather than staying fixed\n",
    "conc_solver.setup_feasible_qp_problem(Keq_percent_deviation=0.1)\n",
    "\n",
    "conc_solution = conc_solver.optimize()\n",
    "conc_solution"
   ]
  },
  {
   "cell_type": "code",
   "execution_count": null,
   "metadata": {},
   "outputs": [],
   "source": [
    "#Function to load data from the excel sheet\n",
    "def load_data(filepath, sheet_name):\n",
    "    \"\"\"Load Liver data from an excel sheet\"\"\"\n",
    "    df = pd.read_excel(engine='openpyxl',\n",
    "        io=filepath,\n",
    "        sheet_name=sheet_name,\n",
    "        index_col=0)\n",
    "    return df"
   ]
  },
  {
   "cell_type": "code",
   "execution_count": null,
   "metadata": {},
   "outputs": [],
   "source": [
    "#Compare Results\n",
    "csv_ic = os.path.join(data_dir,\"Concentrations_Glycolysis.xlsx\")\n",
    "# ic_df = pd.read_csv(csv_ic)\n",
    "# ic_df.set_index()\n",
    "ic_info = load_data(\n",
    "    filepath=csv_ic,\n",
    "    sheet_name=\"Concentrations\")"
   ]
  },
  {
   "cell_type": "code",
   "execution_count": null,
   "metadata": {},
   "outputs": [],
   "source": [
    "conc_comparison_fig, ax = plt.subplots(nrows=1, ncols=1,\n",
    "                                       figsize=(5, 5))\n",
    "\n",
    "plot_comparison(\n",
    "    x=ic_info[\"Concentrations in M\"], y=conc_solution,\n",
    "    compare=\"concentrations\",\n",
    "    observable=[mid for mid in ic_info.index], ax=ax,\n",
    "    legend=\"right outside\", plot_function=\"loglog\",\n",
    "    xlim=(1e-6,0.02), ylim=(1e-6,1e-1),\n",
    "    xy_line=True,\n",
    "    xy_legend=\"best\", xlabel=\"Initial [mol/L]\", ylabel=\"Adjusted [mol/L]\")\n",
    "\n",
    "conc_comparison_fig.tight_layout()\n",
    "update_model_with_concentration_solution(\n",
    "    liver, conc_solution, concentrations=True, inplace=True);"
   ]
  },
  {
   "cell_type": "code",
   "execution_count": null,
   "metadata": {},
   "outputs": [],
   "source": [
    "update_model_with_concentration_solution(\n",
    "    liver, conc_solution, concentrations=True, inplace=True)"
   ]
  },
  {
   "cell_type": "code",
   "execution_count": null,
   "metadata": {},
   "outputs": [],
   "source": [
    "seed = int(1)\n",
    "n_models = 5000"
   ]
  },
  {
   "cell_type": "code",
   "execution_count": null,
   "metadata": {},
   "outputs": [],
   "source": [
    "conc_solver.setup_sampling_problem(\n",
    "    fixed_conc_bounds=list(liver.fixed),\n",
    "    # fixed_Keq_bounds=liver.reactions.list_attr(\"Keq_str\")\n",
    "    )\n",
    "for variable in conc_solver.variables:\n",
    "    try:\n",
    "        met = liver.metabolites.get_by_id(variable.name)\n",
    "        variable.lb, variable.ub = np.log([met.ic / 10, met.ic * 10])\n",
    "    except:\n",
    "        pass\n",
    "conc_samples = sample_concentrations(conc_solver, n=n_models,  processes=4, seed=seed)\n",
    "conc_samples.head()\n"
   ]
  },
  {
   "cell_type": "code",
   "execution_count": null,
   "metadata": {},
   "outputs": [],
   "source": [
    "percs_df = pd.DataFrame()\n",
    "\n",
    "percs = liver.calculate_PERCs(\n",
    "    fluxes={\n",
    "        r: v for r, v in liver.steady_state_fluxes.items()\n",
    "        if not r.boundary},\n",
    "    update_reactions=True)\n",
    "\n",
    "percs_df = pd.DataFrame.from_dict(percs, orient='index', columns = [\"OG\"])\n",
    "percs_df"
   ]
  },
  {
   "cell_type": "code",
   "execution_count": null,
   "metadata": {},
   "outputs": [],
   "source": [
    "models_for_ensemble = []\n",
    "for idx, conc_sample in conc_samples.iterrows():\n",
    "    # Make copy of new model\n",
    "    new_model = liver.copy()\n",
    "    new_model.id += \"_C{0:d}\".format(idx)\n",
    "    # Get concentration sample and update model with sample\n",
    "    new_model.update_initial_conditions(conc_sample.to_dict())\n",
    "\n",
    "    # Determine imbalances in the reduced network\n",
    "    fluxes = np.array(list(new_model.steady_state_fluxes.values()))\n",
    "    imbalanced_metabolites = new_model.S.dot(fluxes)\n",
    "\n",
    "    # Iterate through metabolites\n",
    "    for mid, imbalance in imbalanced_metabolites.iteritems():\n",
    "        # Ignore balanced metabolites\n",
    "        if imbalance == 0:\n",
    "            continue\n",
    "        # Get metabolite object\n",
    "        met = new_model.metabolites.get_by_id(mid)\n",
    "\n",
    "        # Add boundary reactions for imbalanced metabolites\n",
    "        boundary_type = \"sink\"    \n",
    "        # Add boundary reaction with imbalance as flux value\n",
    "        boundary_reaction = new_model.add_boundary(\n",
    "            mid, boundary_type, boundary_condition=met.ic)\n",
    "\n",
    "        boundary_reaction.Keq = 1\n",
    "        if imbalance < 0:\n",
    "            boundary_reaction.reverse_stoichiometry(inplace=True)\n",
    "            imbalance = -imbalance\n",
    "\n",
    "        boundary_reaction.kf = imbalance / met.ic\n",
    "        boundary_reaction.steady_state_flux = imbalance\n",
    "        # try:\n",
    "            # Update PERCs\n",
    "        percs = new_model.calculate_PERCs(\n",
    "            fluxes={\n",
    "                r: v for r, v in new_model.steady_state_fluxes.items()\n",
    "                if not r.boundary},\n",
    "            update_reactions=True)\n",
    "    df_p = pd.DataFrame.from_dict(percs, orient='index')\n",
    "    df_p.columns = [(\"No.\"+ str(idx))]\n",
    "    percs_df = pd.merge(percs_df, df_p, how='inner', left_index=True, right_index=True)\n",
    "        # except:\n",
    "        #     print(\"Negative PERCs for {0}\".format(new_model.id))\n",
    "\n",
    "        #     df_p = pd.DataFrame.from_dict(percs, orient='index')\n",
    "        #     df_p.columns = [(\"No.\"+ str(idx))]\n",
    "        #     percs_df = pd.merge(percs_df, df_p, how='inner', left_index=True, right_index=True)\n",
    "        #     percs_df = pd.join([percs_df, df_p])\n",
    "            \n",
    "            # continue\n",
    "\n",
    "\n",
    "\n",
    "        \n",
    "    models_for_ensemble.append(new_model)\n",
    "print(\"Number of models in ensemble: {0:d}\".format(\n",
    "    len(models_for_ensemble)))"
   ]
  },
  {
   "cell_type": "markdown",
   "metadata": {},
   "source": [
    "### FOrming Percs Dataframe"
   ]
  },
  {
   "cell_type": "code",
   "execution_count": null,
   "metadata": {},
   "outputs": [],
   "source": [
    "percs_df.index.names = ['RXN']\n",
    "percs_df"
   ]
  },
  {
   "cell_type": "code",
   "execution_count": null,
   "metadata": {},
   "outputs": [],
   "source": [
    "csv_percs = os.path.join(data_dir,\"percs_df.csv\")\n",
    "percs_df.to_csv(csv_percs)"
   ]
  },
  {
   "cell_type": "markdown",
   "metadata": {},
   "source": [
    "Log transforming it"
   ]
  },
  {
   "cell_type": "code",
   "execution_count": null,
   "metadata": {},
   "outputs": [],
   "source": [
    "data_log = np.log(percs_df)\n",
    "data_log"
   ]
  },
  {
   "cell_type": "code",
   "execution_count": null,
   "metadata": {},
   "outputs": [],
   "source": [
    "from scipy import stats\n",
    "from sklearn import cluster, metrics, decomposition # these will be useful\n",
    "import seaborn as sns\n",
    "import sklearn"
   ]
  },
  {
   "cell_type": "code",
   "execution_count": null,
   "metadata": {},
   "outputs": [],
   "source": [
    "from sklearn.decomposition import PCA\n",
    "import matplotlib.cm as cm\n",
    "\n",
    "def PCA_cluster_plot(data, cluster_labels, ax = None):\n",
    "    \"\"\"\n",
    "    Parameters:\n",
    "        data: the pd.DataFrame of gene expression data\n",
    "        cluster_labels: a pd.Series with a cluster label\n",
    "            for each column of data\n",
    "        ax: if None, draw a new figure. else, populate these axes.\n",
    "    Returns:\n",
    "        ax: the plt.axes object of a PCA plot labeled by cluster\n",
    "    \"\"\"\n",
    "    \n",
    "    # check for bad input\n",
    "    if isinstance(cluster_labels, pd.Series):\n",
    "        if not(cluster_labels.index.equals(data.columns)):\n",
    "            raise ValueError('cluster_labels.index doesn\\'t match data.columns')\n",
    "    else:\n",
    "        raise TypeError('cluster_labels isn\\'t a pd.Series')\n",
    "    \n",
    "    # compute PCA, save as dataframe with condition labels\n",
    "    # data_norm = stats.zscore(data, axis=1)\n",
    "    data_norm = sklearn.preprocessing.normalize(percs_df,norm='l2')\n",
    "    data_pc = PCA().fit_transform(data_norm.T)\n",
    "    data_pc = pd.DataFrame(data_pc, index = data.columns)\n",
    "    \n",
    "    # get the unique clusters (supports naming if desired)\n",
    "    unique_clusters = np.sort(cluster_labels.unique())\n",
    "    \n",
    "    # prepare a long list of colors\n",
    "    colors = ['tab:blue','tab:orange','tab:green','tab:red','tab:purple',\n",
    "              'tab:brown','tab:pink','tab:gray','tab:olive', 'tab:cyan',\n",
    "              'black', 'salmon', 'chocolate', 'orange', 'gold', 'lawngreen',\n",
    "              'turquoise', 'steelblue', 'navy', 'violet', 'deeppink',\n",
    "              'firebrick', 'sandybrown','olivedrab','darkgreen', 'aqua',\n",
    "              'slategray', 'blue', 'fuschia', 'pink']\n",
    "    \n",
    "    # this code only runs if you have a ton of labels\n",
    "    while len(colors) < len(cluster_labels.unique()):\n",
    "        colors = colors + colors\n",
    "    \n",
    "    # make the plot\n",
    "    if ax is None:\n",
    "        fig, ax = plt.subplots()\n",
    "    ax.set_xlabel('PC1', fontsize = 16)\n",
    "    ax.set_ylabel('PC2', fontsize = 16)\n",
    "    \n",
    "    # iterate through each cluster label\n",
    "    for clust, color in zip(unique_clusters, colors):\n",
    "        \n",
    "        # get the samples of this cluster\n",
    "        samples = cluster_labels.index[cluster_labels == clust]\n",
    "        \n",
    "        # add to plot\n",
    "        ax.scatter(data_pc.loc[samples, 0],\n",
    "                   data_pc.loc[samples, 1],\n",
    "                   label = clust, color = color)\n",
    "    \n",
    "    # add legend\n",
    "    ax.legend(bbox_to_anchor = (1,1))\n",
    "    \n",
    "    return ax"
   ]
  },
  {
   "cell_type": "code",
   "execution_count": null,
   "metadata": {},
   "outputs": [],
   "source": [
    "k10_clusters = cluster.KMeans(n_clusters =8, random_state = 1)\n",
    "\n",
    "# compute the clusters\n",
    "# use the transpose of the data to get samples instead of genes\n",
    "k10_clusters = k10_clusters.fit(data_log.T)\n",
    "\n",
    "# label the output with condition names\n",
    "k10_labels = pd.Series(k10_clusters.labels_, index = data_log.columns)"
   ]
  },
  {
   "cell_type": "code",
   "execution_count": null,
   "metadata": {},
   "outputs": [],
   "source": [
    "# ANSWER    \n",
    "\n",
    "ax = PCA_cluster_plot(data_log, k10_labels)"
   ]
  },
  {
   "cell_type": "markdown",
   "metadata": {},
   "source": [
    "#### Creating elbow method to find optimal k clusters"
   ]
  },
  {
   "cell_type": "code",
   "execution_count": null,
   "metadata": {},
   "outputs": [],
   "source": [
    "# create a DataFrame to store all the clusters\n",
    "k_range = range(2, 51)\n",
    "elbow_df = pd.DataFrame(index = percs_df.columns, \n",
    "                        columns = k_range)\n",
    "\n",
    "# compute the clusters at each k\n",
    "for k in k_range:\n",
    "    \n",
    "    # repeat code from problem 1.2.1\n",
    "    k_clusters = cluster.KMeans(n_clusters = k, random_state = 1)\n",
    "    k_clusters = k_clusters.fit(percs_df.T)\n",
    "    \n",
    "    # store in DataFrame\n",
    "    elbow_df[k] = k_clusters.labels_"
   ]
  },
  {
   "cell_type": "code",
   "execution_count": null,
   "metadata": {},
   "outputs": [],
   "source": [
    "# compute the silhouette scores\n",
    "k_silhouette = pd.Series(index = k_range, dtype=float)\n",
    "\n",
    "for k in k_range:\n",
    "    k_silhouette[k] = metrics.silhouette_score(percs_df.T, elbow_df[k])\n",
    "    \n",
    "# plot\n",
    "fig, ax = plt.subplots()\n",
    "ax.plot(k_range, k_silhouette)"
   ]
  },
  {
   "cell_type": "code",
   "execution_count": null,
   "metadata": {},
   "outputs": [],
   "source": [
    "# output, look at plot, and pick the best k\n",
    "# I think it is k = 9\n",
    "# so I'll draw it on now\n",
    "best_k = 9\n",
    "ax.scatter(best_k, k_silhouette[best_k], color = 'r', s = 50)\n",
    "ax.set_xlabel('K')\n",
    "ax.set_ylabel('Silhouette Score')\n",
    "\n",
    "print('Optimal K =', best_k)"
   ]
  },
  {
   "cell_type": "markdown",
   "metadata": {},
   "source": [
    "try with more sample size,\n",
    "possibly could smooth out above graph,\n",
    "could export percs df as csv so i dont have to rerun it\n"
   ]
  },
  {
   "cell_type": "code",
   "execution_count": null,
   "metadata": {},
   "outputs": [],
   "source": [
    "mean_silhouette = pd.Series(index = k_range, dtype=float)\n",
    "\n",
    "# increase this number to make the curve smoother\n",
    "# requires a lot of time to run\n",
    "num_repeats = 10\n",
    "\n",
    "for k in k_range:\n",
    "    k_scs = []\n",
    "    for i in range(num_repeats):\n",
    "        # DO NOT specify a random state so we intentionally \n",
    "        # get different results\n",
    "        k_clusters = cluster.KMeans(n_clusters = k)\n",
    "        k_clusters = k_clusters.fit(percs_df.T)\n",
    "        \n",
    "        # add this silhouette score\n",
    "        k_scs += [metrics.silhouette_score(percs_df.T, k_clusters.labels_)]\n",
    "    \n",
    "    # take the mean silhouette score\n",
    "    mean_silhouette[k] = np.mean(k_scs)"
   ]
  },
  {
   "cell_type": "code",
   "execution_count": null,
   "metadata": {},
   "outputs": [],
   "source": [
    "X = percs_df\n",
    "distorsions = []\n",
    "for k in range(2, 20):\n",
    "    kmeans = cluster.KMeans(n_clusters=k)\n",
    "    kmeans.fit(X)\n",
    "    distorsions.append(kmeans.inertia_)\n",
    "\n",
    "fig = plt.figure(figsize=(15, 5))\n",
    "plt.plot(range(2, 20), distorsions)\n",
    "plt.grid(True)\n",
    "plt.title('Elbow curve')"
   ]
  },
  {
   "cell_type": "code",
   "execution_count": null,
   "metadata": {},
   "outputs": [],
   "source": [
    "fig, ax = plt.subplots()\n",
    "ax.plot(k_range, mean_silhouette)\n",
    "ax.set_xlabel('K')\n",
    "ax.set_ylabel('Mean Silhouette Score')\n",
    "\n",
    "# this reduces our k slightly\n",
    "best_k = 9\n",
    "ax.scatter(best_k, mean_silhouette[best_k], color = 'r', s = 50)"
   ]
  },
  {
   "cell_type": "code",
   "execution_count": null,
   "metadata": {},
   "outputs": [],
   "source": [
    "import sklearn"
   ]
  },
  {
   "cell_type": "code",
   "execution_count": null,
   "metadata": {},
   "outputs": [],
   "source": [
    "# normalize the data\n",
    "# data_norm = pd.DataFrame(stats.zscore(data_log, axis = 1), \n",
    "                        #  columns = data_log.columns, index = data_log.index)\n",
    "\n",
    "data_norm = sklearn.preprocessing.normalize(percs_df,norm='l2')\n",
    "data_norm= pd.DataFrame(data_norm)"
   ]
  },
  {
   "cell_type": "code",
   "execution_count": null,
   "metadata": {},
   "outputs": [],
   "source": [
    "data_norm = data_norm.T\n",
    "data_norm.columns = [data_log.index]\n",
    "# data_norm"
   ]
  },
  {
   "cell_type": "code",
   "execution_count": null,
   "metadata": {},
   "outputs": [],
   "source": [
    "data_vis = data_norm.melt()\n",
    "data_vis.columns = [\"RXN\", \"val\"]\n",
    "# data_vis"
   ]
  },
  {
   "cell_type": "markdown",
   "metadata": {},
   "source": [
    "Overlaps of PERC values"
   ]
  },
  {
   "cell_type": "code",
   "execution_count": null,
   "metadata": {},
   "outputs": [],
   "source": [
    "data_vis"
   ]
  },
  {
   "cell_type": "code",
   "execution_count": null,
   "metadata": {},
   "outputs": [],
   "source": [
    "fig = alt.Chart(data_vis).mark_circle(size= 100).encode(\n",
    "    alt.X(\"RXN\", axis=alt.Axis( tickCount=5), scale=alt.Scale(type='log')),\n",
    "    alt.Y('val',axis=alt.Axis( tickCount=5), \n",
    "    scale=alt.Scale(type='log')), \n",
    "\n",
    "    alt.Color('RXN', scale=alt.Scale(scheme='turbo')), \n",
    "    tooltip=['RXN', \"val\"]\n",
    ").properties(\n",
    "    width=400,\n",
    "    height=400).interactive()\n",
    "fig"
   ]
  },
  {
   "cell_type": "code",
   "execution_count": null,
   "metadata": {},
   "outputs": [],
   "source": [
    "data_log\n",
    "data_norm_log = data_log.T\n",
    "data_norm_log.columns = [data_log.index]\n",
    "data_norm_log"
   ]
  },
  {
   "cell_type": "code",
   "execution_count": null,
   "metadata": {},
   "outputs": [],
   "source": [
    "data_vis_log = data_norm_log.melt()\n",
    "data_vis_log.columns = [\"RXN\", \"val\"]\n",
    "data_vis_log"
   ]
  },
  {
   "cell_type": "code",
   "execution_count": null,
   "metadata": {},
   "outputs": [],
   "source": [
    "# Violin Plot of log transofmred data \n",
    "alt.Chart(data_vis_log).transform_density(\n",
    "    'val',\n",
    "    as_=['Value_column', 'density'],\n",
    "    # extent=[-0.1, 0.1],\n",
    "    groupby=['RXN']\n",
    ").mark_area(orient='horizontal').encode(\n",
    "    y=alt.Y(\n",
    "        'Value_column:Q', scale=alt.Scale(type='log'),\n",
    "                axis=alt.Axis(\n",
    "            # labels=False, \n",
    "            # values=[0],\n",
    "        grid=False,\n",
    "         ticks=True)\n",
    "        ),\n",
    "    color='RXN:N',\n",
    "    x=alt.X(\n",
    "        'density:Q',\n",
    "        stack='center',\n",
    "        impute=None,\n",
    "        title=None,\n",
    "        axis=alt.Axis(labels=False, values=[0],grid=False, ticks=True),\n",
    "    ),\n",
    "    tooltip=['RXN:N', \"Value_column:Q\"], \n",
    "    column=alt.Column(\n",
    "        'RXN:N',\n",
    "        header=alt.Header(\n",
    "            titleOrient='bottom',\n",
    "            labelOrient='bottom',\n",
    "            labelPadding=0,\n",
    "        ),\n",
    "    )\n",
    ").properties(\n",
    "    width=50\n",
    ").configure_facet(\n",
    "    spacing=0\n",
    ").configure_view(\n",
    "    stroke=None\n",
    ").interactive()"
   ]
  },
  {
   "cell_type": "code",
   "execution_count": null,
   "metadata": {},
   "outputs": [],
   "source": [
    "# Violin Plot of percs distribution without log tranforming\n",
    "alt.Chart(data_vis).transform_density(\n",
    "    'val',\n",
    "    as_=['Value_column', 'density'],     extent=[-0.1, 0.5],\n",
    "    groupby=['RXN']\n",
    "    ).mark_area(orient='horizontal').encode(\n",
    "    y=alt.Y('Value_column:Q',axis=alt.Axis(grid=False,ticks=True)),\n",
    "    color='RXN:N',\n",
    "    x=alt.X('density:Q', stack='center',impute=None,\n",
    "        title=None,\n",
    "        axis=alt.Axis(labels=False, values=[0],grid=False, ticks=True)),\n",
    "        tooltip=['RXN:N', \"Value_column:Q\"], \n",
    "    column=alt.Column(\n",
    "        'RXN:N',header=alt.Header(\n",
    "            titleOrient='bottom',\n",
    "            labelOrient='bottom',\n",
    "            labelPadding=0))\n",
    ").properties(\n",
    "    width=50).configure_facet(spacing=0).configure_view(stroke=None).interactive()"
   ]
  },
  {
   "cell_type": "markdown",
   "metadata": {},
   "source": [
    "Make a violin plot for above^\n",
    "\n",
    "could also log base 10 transform above df and then seeing dsitrubution\n"
   ]
  },
  {
   "cell_type": "code",
   "execution_count": null,
   "metadata": {},
   "outputs": [],
   "source": [
    "pca = decomposition.PCA().fit(data_norm)\n",
    "\n",
    "# get the two important matrices & label them in pandas\n",
    "pc_genes = pd.DataFrame(pca.components_,\n",
    "                        columns = data_norm.columns)\n",
    "pc_samples = pd.DataFrame(pca.transform(data_norm),\n",
    "                          index = data_norm.index)\n",
    "\n",
    "# get the explained variance, which will be useful later\n",
    "exp_var = pca.explained_variance_ratio_"
   ]
  },
  {
   "cell_type": "code",
   "execution_count": null,
   "metadata": {},
   "outputs": [],
   "source": [
    "PC_values = np.arange(pca.n_components_) + 1\n",
    "plt.plot(PC_values, pca.explained_variance_ratio_, 'o-', linewidth=2, color='blue')\n",
    "plt.title('Scree Plot')\n",
    "plt.xlabel('Principal Component')\n",
    "plt.ylabel('Variance Explained')\n",
    "plt.show()"
   ]
  },
  {
   "cell_type": "code",
   "execution_count": null,
   "metadata": {},
   "outputs": [],
   "source": [
    "# get the cumulative variance\n",
    "cum_var = exp_var.cumsum()"
   ]
  },
  {
   "cell_type": "code",
   "execution_count": null,
   "metadata": {},
   "outputs": [],
   "source": [
    "plt.plot(PC_values, cum_var, 'o-', linewidth=2, color='blue')\n",
    "plt.title('Scree Plot')\n",
    "plt.xlabel('Principal Component')\n",
    "plt.ylabel('Cumultaive Variance Explained')\n",
    "plt.show()"
   ]
  },
  {
   "cell_type": "code",
   "execution_count": null,
   "metadata": {},
   "outputs": [],
   "source": [
    "# find the number of components\n",
    "index_80 = sum(cum_var <= 0.8)\n",
    "\n",
    "# indices are zero-indexed, so the total number is one more than this\n",
    "print('Components to capture 80% of variance: ', index_80+1)\n",
    "\n",
    "# add a zero at the start so the plot extends all the way down\n",
    "cum_var_plot = [0] + list(cum_var)\n",
    "\n",
    "# plot\n",
    "fig, ax = plt.subplots()\n",
    "ax.plot(range(len(cum_var_plot)), cum_var_plot, label = 'Cumulative Variance')\n",
    "\n",
    "# add some lines to illustrate the question\n",
    "ax.axhline(0.8, color = 'k', linestyle = '--', label = '80% Variance')\n",
    "ax.axvline(index_80+1, color = 'g', linestyle = '--', label = str(index_80+1)+ ' components')\n",
    "\n",
    "# limit the y axes\n",
    "ax.set_ylim([0, 1])\n",
    "\n",
    "# axes labels and legend\n",
    "ax.set_xlabel('Number of Components', fontsize = 16)\n",
    "ax.set_ylabel('Cumulative Variance Explained', fontsize = 14)\n",
    "_ = ax.legend(fontsize = 12)"
   ]
  },
  {
   "cell_type": "code",
   "execution_count": null,
   "metadata": {},
   "outputs": [],
   "source": [
    "pca_red = decomposition.PCA(n_components = 4).fit(data_norm)\n",
    "scores_pca = pca_red.transform(data_norm)"
   ]
  },
  {
   "cell_type": "markdown",
   "metadata": {},
   "source": [
    "k means clustering with PCA"
   ]
  },
  {
   "cell_type": "code",
   "execution_count": null,
   "metadata": {},
   "outputs": [],
   "source": [
    "kmeans = cluster.KMeans(n_clusters = 9, init = 'k-means++', random_state = 42)\n",
    "kmeans = kmeans.fit(scores_pca)"
   ]
  },
  {
   "cell_type": "code",
   "execution_count": null,
   "metadata": {},
   "outputs": [],
   "source": [
    "df_segm_pca_kmeans = pd.concat([data_norm, pd.DataFrame(scores_pca)], axis =1)\n",
    "df_segm_pca_kmeans.columns.values[-4:] = [\"Component 1\", \"Component 2\", \"Component 3\", \"Component 4\"]\n",
    "\n",
    "df_segm_pca_kmeans[\"segment kmeansPCA\"] = kmeans.labels_\n"
   ]
  },
  {
   "cell_type": "code",
   "execution_count": null,
   "metadata": {},
   "outputs": [],
   "source": [
    "df_segm_pca_kmeans[\"Segment\"] =  df_segm_pca_kmeans[\"segment kmeansPCA\"].map({0:'1st', \n",
    "1:\"2nd\",\n",
    "2: \"3rd\",\n",
    "3: \"4th\",\n",
    "4:\"5th\",\n",
    "5:\"6th\",\n",
    "6:\"7th\",\n",
    "7:\"8th\",\n",
    "8:\"9th\",\n",
    "9:\"10th\",\n",
    "10:\"11th\"})"
   ]
  },
  {
   "cell_type": "code",
   "execution_count": null,
   "metadata": {},
   "outputs": [],
   "source": [
    "x_axis = df_segm_pca_kmeans[\"Component 2\"]\n",
    "y_axis = df_segm_pca_kmeans[\"Component 1\"]"
   ]
  },
  {
   "cell_type": "code",
   "execution_count": null,
   "metadata": {},
   "outputs": [],
   "source": [
    "plt.figure(figsize= (10,8))\n",
    "sns.scatterplot(x_axis, y_axis, hue = df_segm_pca_kmeans[\"Segment\"], \n",
    "# palette = ['g', 'r', 'c', 'm',]\n",
    ")\n",
    "plt.title(\"CLusters by PCA components\")\n",
    "plt.show()"
   ]
  },
  {
   "cell_type": "markdown",
   "metadata": {},
   "source": [
    "look at eigenvalues, how many evals are needed for this much variance\n",
    "\n",
    "Scree plot\n",
    "\n",
    "\n",
    "keep the number of PCA componenets bewteen 3 and 5 tops\n",
    "incerase samples, drive down the componenets\n",
    "\n",
    "after the PCA--> elbow plot\n",
    "k emans clustering--> elbow plot\n",
    "\n"
   ]
  },
  {
   "cell_type": "code",
   "execution_count": null,
   "metadata": {},
   "outputs": [],
   "source": [
    "from sklearn.preprocessing import StandardScaler"
   ]
  },
  {
   "cell_type": "code",
   "execution_count": null,
   "metadata": {},
   "outputs": [],
   "source": [
    "df_st =  StandardScaler().fit_transform(percs_df.T)  \n",
    "pd.DataFrame(df_st, columns=percs_df.T.columns).head(2)"
   ]
  },
  {
   "cell_type": "code",
   "execution_count": null,
   "metadata": {},
   "outputs": [],
   "source": [
    "pca_out = PCA().fit(df_st)\n",
    "pca_out.explained_variance_ratio_\n",
    "np.cumsum(pca_out.explained_variance_ratio_)\n",
    "loadings = pca_out.components_\n",
    "num_pc = pca_out.n_features_\n",
    "pc_list = [\"PC\"+str(i) for i in list(range(1, num_pc+1))]\n",
    "loadings_df = pd.DataFrame.from_dict(dict(zip(pc_list, loadings)))\n",
    "loadings_df['variable'] = percs_df.T.columns.values\n",
    "loadings_df = loadings_df.set_index('variable')\n",
    "loadings_df"
   ]
  },
  {
   "cell_type": "code",
   "execution_count": null,
   "metadata": {},
   "outputs": [],
   "source": [
    "import seaborn as sns\n",
    "import matplotlib.pyplot as plt"
   ]
  },
  {
   "cell_type": "markdown",
   "metadata": {},
   "source": [
    "Generated correlation matrix plot for loadings"
   ]
  },
  {
   "cell_type": "code",
   "execution_count": null,
   "metadata": {},
   "outputs": [],
   "source": [
    "plt.figure(figsize= (10,10))\n",
    "ax = sns.heatmap(loadings_df, annot=True, cmap='Spectral')\n",
    "\n",
    "plt.show()"
   ]
  },
  {
   "cell_type": "markdown",
   "metadata": {},
   "source": [
    "Next steps:\n",
    "possibly removing NADHM, add sinks and sources\n",
    "see differences bw PC 2/3\n",
    "\n",
    "change conc flexbilties\n",
    "variation, see convergence\n",
    "\n",
    "potentially see sample sizes, and \n",
    "make sure fluxes and conc units align (b4 presnetnig)\n",
    "\n",
    "\n"
   ]
  },
  {
   "cell_type": "code",
   "execution_count": null,
   "metadata": {},
   "outputs": [],
   "source": []
  },
  {
   "cell_type": "code",
   "execution_count": null,
   "metadata": {},
   "outputs": [],
   "source": [
    "liver.reactions.PGK"
   ]
  },
  {
   "cell_type": "code",
   "execution_count": null,
   "metadata": {},
   "outputs": [],
   "source": [
    "import seaborn as sns\n",
    "import matplotlib.pyplot as plt\n",
    "ax = sns.heatmap(loadings_df, annot=True, cmap='Spectral')\n",
    "plt.show()"
   ]
  },
  {
   "cell_type": "code",
   "execution_count": null,
   "metadata": {},
   "outputs": [],
   "source": [
    "# ANSWER\n",
    "pc1 = pc_genes.loc[0].to_frame('weight')\n",
    "pc2 = pc_genes.loc[1].to_frame('weight')\n",
    "\n",
    "# need the absolute values to sort by\n",
    "pc1['abs_weight'] = pc1.weight.abs()\n",
    "pc2['abs_weight'] = pc2.weight.abs()\n",
    "\n",
    "# sort and keep only the top 5\n",
    "pc1 = pc1.sort_values('abs_weight', ascending = False).iloc[0:5]\n",
    "pc2 = pc2.sort_values('abs_weight', ascending = False).iloc[0:5]\n",
    "\n",
    "# concatenate the gene table info\n",
    "# pc1 = pd.concat([pc1, gene_table.loc[pc1.index]], axis = 1)\n",
    "# pc2 = pd.concat([pc2, gene_table.loc[pc2.index]], axis = 1)\n",
    "fig, ax = plt.subplots(figsize = (10, 10))\n",
    "\n",
    "# scatter the sample loadings\n",
    "ax.scatter(pc_samples[0], pc_samples[1])\n",
    "\n",
    "# add the labels, use the exp_var\n",
    "ax.set_xlabel('PC1 (%.1f%%)'%(exp_var[0]*100), fontsize = 18)\n",
    "ax.set_ylabel('PC2 (%.1f%%)'%(exp_var[1]*100), fontsize = 18)\n",
    "\n",
    "# add the arrows\n",
    "# begin by getting the genes from 1.3.1\n",
    "# arrows_to_make = pc1.index.append(pc2.index)\n",
    "\n",
    "# # this would get crowded, so remove specific genes that overlap\n",
    "# arrows_to_make = arrows_to_make.drop(['b3361','b3519', 'b0948', 'b3411'])\n",
    "\n",
    "# arrow length variable extends arrows to help in interpreting the plot\n",
    "# text_scale determines how far text labels are from arrow tips (1 = on top of them)\n",
    "arrow_length = 500\n",
    "text_scale = 1.3\n",
    "\n",
    "# the place the arrows start is up to you, so you can move it out of the way\n",
    "start1 = 25\n",
    "start2 = 40\n",
    "\n",
    "# loop through each gene and add its arrow\n",
    "# for g in arrows_to_make:\n",
    "#     # directions in PC1 and 2\n",
    "#     g_weight_pc1 = pc_genes.loc[0, g]\n",
    "#     g_weight_pc2 = pc_genes.loc[1, g]\n",
    "    \n",
    "#     # lengthen arrow by a constant factor\n",
    "#     g_weight_pc1 = g_weight_pc1 * arrow_length\n",
    "#     g_weight_pc2 = g_weight_pc2 * arrow_length\n",
    "    \n",
    "#     # add the arrow\n",
    "#     ax.arrow(start1, start2, g_weight_pc1, g_weight_pc2, head_width = 2)\n",
    "    \n",
    "#     # add the gene's name to the plot\n",
    "#     g_name = gene_table.gene_name[g]\n",
    "#     ax.text(start1 + (text_scale * g_weight_pc1),\n",
    "#             start2 + (text_scale * g_weight_pc2), \n",
    "#             g_name)"
   ]
  },
  {
   "cell_type": "markdown",
   "metadata": {},
   "source": [
    "looking for correlation, \n",
    "larger- negatively\n",
    "smaller- positively\n",
    "90- indepenedt\n",
    "so therefore looking at how much weight each perc has\n",
    "can we see if specific percs \n",
    "is there a specific perc(s) that can be attributed to a specific component\n",
    "look at atatching loadings on PC1, theire wieghts\n",
    "\n",
    "\n",
    "Set-up plots, to identify what the dots are \n",
    "make moseouver using altair\n",
    "3d--> plotly\n",
    "\n",
    "make something to pull up omcponenets?\n",
    "\n",
    "colour the points absed on subsystem\n",
    "\n",
    "increase the number of sample points"
   ]
  },
  {
   "cell_type": "markdown",
   "metadata": {},
   "source": [
    "### Next Steps:\n",
    "1) looking at overlaps of Perc values\n",
    "2) "
   ]
  },
  {
   "cell_type": "markdown",
   "metadata": {},
   "source": [
    "1) Plot a 45 deg line on above graph, make a line for 0,0\n"
   ]
  },
  {
   "cell_type": "code",
   "execution_count": null,
   "metadata": {},
   "outputs": [],
   "source": [
    "liver.reactions.EX_glc__D_c.Keq = 1\n",
    "liver.reactions.EX_h_c.Keq = 1 \n",
    "liver.reactions.EX_h2o_c.Keq = 1 \n",
    "liver.reactions.EX_pi_c.Keq = 1 \n",
    "liver.reactions.EX_pyr_c.Keq = 1 \n",
    "liver.reactions.EX_lac__L_c.Keq = 1 \n",
    "# liver.reactions.EX_nadh_c.Keq = 1 \n",
    "# liver.reactions.EX_nad_c.Keq = 1 "
   ]
  },
  {
   "cell_type": "code",
   "execution_count": null,
   "metadata": {},
   "outputs": [],
   "source": [
    "liver.boundary_conditions['glc__D_b']=0.010482807 ##M ## initial condition of the metabolite in the model\n",
    "liver.boundary_conditions['h2o_b']=1 ##M\n",
    "liver.boundary_conditions['h_b']=0.0064 ##M\n",
    "liver.boundary_conditions['pi_b']=0.010482807 ##M\n",
    "liver.boundary_conditions['pyr_b']=0.00048 ##M\n",
    "liver.boundary_conditions['nadh_b']=4.63542E-06\n",
    "liver.boundary_conditions['nad_b']=0.00182531\n",
    "liver.boundary_conditions['lac__L_b']=0.003261838"
   ]
  },
  {
   "cell_type": "code",
   "execution_count": null,
   "metadata": {},
   "outputs": [],
   "source": [
    "Boundary= [\n",
    "             \"EX_glc__D_c\", \n",
    "            \"EX_h_c\", \n",
    "            \"EX_h2o_c\",\n",
    "            'EX_pyr_c',\n",
    "            'EX_pi_c',\n",
    "    \"ATPM\",\n",
    "    \n",
    "#     'EX_nad_c',\n",
    "    \"EX_lac__L_c\"\n",
    "]\n",
    "for x in Boundary:\n",
    "    a=liver.reactions.get_by_id(x)\n",
    "    a.kf=1e6"
   ]
  },
  {
   "cell_type": "code",
   "execution_count": null,
   "metadata": {},
   "outputs": [],
   "source": [
    "liver.calculate_PERCs(fluxes={\n",
    "                r: v for r, v in liver.steady_state_fluxes.items()\n",
    "                if not (r.boundary  \n",
    "#                         or r== liver.reactions.GLCter or r== glycogenolysis.reactions.PIter\n",
    "#                                or r== glycogenolysis.reactions.G6Pter or r== glycogenolysis.reactions.PIt or \n",
    "#                                 r== glycogenolysis.reactions.PYRt2m or \n",
    "#                                 r== glycogenolysis.reactions.L_LACt2r or \n",
    "#                                 r== glycogenolysis.reactions.PYRt2 or \n",
    "#                                 r== glycogenolysis.reactions.PEPtm or r== glycogenolysis.reactions.GLCt1 \n",
    "#                                 or r== glycogenolysis.reactions.Ht\n",
    "                       )\n",
    "},\n",
    "                      update_reactions=True)\n",
    "\n",
    "print(\"Forward Rate Constants\\n----------------------\")\n",
    "for reaction in liver.reactions:\n",
    "    print(\"{0}: {1:.6f}\".format(reaction.kf_str, reaction.kf))"
   ]
  },
  {
   "cell_type": "code",
   "execution_count": null,
   "metadata": {},
   "outputs": [],
   "source": []
  },
  {
   "cell_type": "code",
   "execution_count": null,
   "metadata": {},
   "outputs": [],
   "source": [
    "#Function to add underscore in front of metabolite identifiers which start with a number\n",
    "## fix this only after getting Keq from equlibrator because bigg doesn't have _13dpg for example\n",
    "def prefix_number_id(id_str):\n",
    "    \"\"\"Prefix identifiers that start with numbers.\"\"\"\n",
    "    if re.match(r\"^\\d\", id_str):\n",
    "        id_str = \"_\" + id_str\n",
    "    return id_str"
   ]
  },
  {
   "cell_type": "code",
   "execution_count": null,
   "metadata": {},
   "outputs": [],
   "source": [
    "#Loop to edit the names using \"prefix_number_id\" function defined earlier\n",
    "for metabolite in liver.metabolites:\n",
    "    new_met_id = prefix_number_id(metabolite.id)\n",
    "    metabolite.id = new_met_id\n",
    "liver.repair()"
   ]
  },
  {
   "cell_type": "code",
   "execution_count": null,
   "metadata": {},
   "outputs": [],
   "source": [
    "qcqa_model(liver, parameters=True, concentrations=True,\n",
    "           fluxes=True, superfluous=True, elemental=True)"
   ]
  },
  {
   "cell_type": "code",
   "execution_count": null,
   "metadata": {},
   "outputs": [],
   "source": [
    "# Setup simulation object\n",
    "simG=Simulation(liver, verbose=True)\n",
    "# Simulate from 0 to 1000 with 10001 points in the output\n",
    "conc_sol, flux_sol = simG.simulate(liver, time=(0, 1e8))\n",
    "# Quickly render and display time profiles\n",
    "conc_sol.view_time_profile()"
   ]
  },
  {
   "cell_type": "code",
   "execution_count": null,
   "metadata": {},
   "outputs": [],
   "source": [
    "json_save = os.path.join(model_dir,liver.id + \".json\")\n",
    "json.save_json_model(model=liver, filename=json_save)"
   ]
  },
  {
   "cell_type": "code",
   "execution_count": null,
   "metadata": {},
   "outputs": [],
   "source": []
  }
 ],
 "metadata": {
  "interpreter": {
   "hash": "dac1de4d04d521f2478106b8cf0804304a8a54afaab58ac4b602c07888c6e2cc"
  },
  "kernelspec": {
   "display_name": "Python 3.8.12 ('massliver')",
   "language": "python",
   "name": "python3"
  },
  "language_info": {
   "codemirror_mode": {
    "name": "ipython",
    "version": 3
   },
   "file_extension": ".py",
   "mimetype": "text/x-python",
   "name": "python",
   "nbconvert_exporter": "python",
   "pygments_lexer": "ipython3",
   "version": "3.8.12 (default, Oct 12 2021, 03:01:40) [MSC v.1916 64 bit (AMD64)]"
  }
 },
 "nbformat": 4,
 "nbformat_minor": 4
}
