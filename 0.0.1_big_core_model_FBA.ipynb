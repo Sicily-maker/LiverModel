{
 "cells": [
  {
   "cell_type": "markdown",
   "metadata": {},
   "source": [
    "# Liver Model Construction: Huge Core Model"
   ]
  },
  {
   "cell_type": "code",
   "execution_count": 1,
   "metadata": {},
   "outputs": [
    {
     "name": "stdout",
     "output_type": "stream",
     "text": [
      "MASSpy version: 0.1.6\n"
     ]
    }
   ],
   "source": [
    "import os\n",
    "import re\n",
    "import warnings\n",
    "from cobra.io import *\n",
    "from cobra.io.json import *\n",
    "import escher\n",
    "import mass\n",
    "import numpy as np\n",
    "import pandas as pd\n",
    "import equilibrator_api\n",
    "from equilibrator_api import ComponentContribution, Q_\n",
    "import sympy as sym\n",
    "from cobra import Model, Reaction, Metabolite\n",
    "import cobra.test\n",
    "from os.path import join\n",
    "from mass.util import qcqa, qcqa_model\n",
    "from cobra import DictList\n",
    "from mass import (\n",
    "    MassConfiguration, MassMetabolite, MassModel,\n",
    "    MassReaction, Simulation, UnitDefinition)\n",
    "from mass.io.json import save_json_model as save_json_mass_model\n",
    "from mass.visualization import plot_comparison, plot_time_profile, plot_ensemble_phase_portrait, plot_ensemble_time_profile\n",
    "mass_config = MassConfiguration()\n",
    "mass_config.irreversible_Keq = float(\"inf\")\n",
    "print(\"MASSpy version: {0}\".format(mass.__version__))\n",
    "from six import iteritems\n",
    "import matplotlib.pyplot as plt\n",
    "from mass.thermo import (\n",
    "    ConcSolver, sample_concentrations,\n",
    "    update_model_with_concentration_solution)\n",
    "# adding Folder_2 to the system path\n",
    "sys.path.insert(0, \"c:\\\\Users\\\\sicil\\\\LiverModel\")\n",
    "from cobra_dict import *\n",
    "import cobra_dict as c_d\n",
    "import csv\n",
    "import altair as alt\n",
    "from minspan.minspan import minspan,nnz\n",
    "import sys\n",
    "# from minspan import minspan,nnz"
   ]
  },
  {
   "cell_type": "code",
   "execution_count": 2,
   "metadata": {},
   "outputs": [
    {
     "data": {
      "text/plain": [
       "'0.1.6'"
      ]
     },
     "execution_count": 2,
     "metadata": {},
     "output_type": "execute_result"
    }
   ],
   "source": [
    "mass.__version__"
   ]
  },
  {
   "cell_type": "code",
   "execution_count": 3,
   "metadata": {},
   "outputs": [],
   "source": [
    "maps_dir = os.path.abspath(\"maps\")\n",
    "data_dir = os.path.abspath(\"data\")\n",
    "dir = os.path.abspath(\"\")\n",
    "model_dir = os.path.abspath(\"models\")\n",
    "minspan_dir= os.path.abspath(\"minspans_csv\")\n"
   ]
  },
  {
   "cell_type": "markdown",
   "metadata": {},
   "source": [
    "### Getting reactions and metabolite data from RECON 3D"
   ]
  },
  {
   "cell_type": "code",
   "execution_count": 4,
   "metadata": {},
   "outputs": [],
   "source": [
    "# making dataframe of metabolites\n",
    "\n",
    "csv_met = os.path.join(data_dir,\"big_core_met_df.csv\")\n",
    "met_csv_df = pd.read_csv(csv_met,index_col=\"id\")\n",
    "metabolite_info=met_csv_df.to_dict(orient='index')\n"
   ]
  },
  {
   "cell_type": "markdown",
   "metadata": {},
   "source": [
    "### Loading cobra model"
   ]
  },
  {
   "cell_type": "code",
   "execution_count": 5,
   "metadata": {},
   "outputs": [
    {
     "name": "stdout",
     "output_type": "stream",
     "text": [
      "Set parameter Username\n",
      "Academic license - for non-commercial use only - expires 2023-07-02\n"
     ]
    }
   ],
   "source": [
    "# Initiate empty model\n",
    "trial= cobra.Model()"
   ]
  },
  {
   "cell_type": "code",
   "execution_count": 6,
   "metadata": {},
   "outputs": [],
   "source": [
    "#  Add all the remaining metabolites involved in the pathway\n",
    "for met_id, info in metabolite_info.items():\n",
    "    met = cobra.Metabolite(met_id, name=info['name'], formula=info['formula'], \n",
    "                           charge=info['charge'], compartment=info['compartment'])\n",
    "    trial.add_metabolites(met)\n",
    "    "
   ]
  },
  {
   "cell_type": "code",
   "execution_count": 7,
   "metadata": {},
   "outputs": [],
   "source": [
    "# Loading reaction data as JSON file to maintain data types as dictionaries \n",
    "rxn_json = os.path.join(data_dir,\"big_core_reaction_df.json\")\n",
    "with open(rxn_json) as json_file:\n",
    "    rxn_data = json.load(json_file)"
   ]
  },
  {
   "cell_type": "code",
   "execution_count": 8,
   "metadata": {},
   "outputs": [],
   "source": [
    "for reaction, info in rxn_data.items():\n",
    "    reaction_obj = cobra.Reaction(reaction)\n",
    "    reaction_obj.id=reaction\n",
    "    reaction= reaction_obj.id\n",
    "    reaction_obj.lower_bound = info['lower_bound']\n",
    "    reaction_obj.upper_bound = info['upper_bound']\n",
    "    reaction_obj.name = info['name']\n",
    "    trial.add_reaction(reaction_obj)\n",
    "    temp=info['metabolites']\n",
    "    reaction_obj.add_metabolites(temp)\n",
    "    # print(reaction)"
   ]
  },
  {
   "cell_type": "code",
   "execution_count": 9,
   "metadata": {},
   "outputs": [
    {
     "name": "stdout",
     "output_type": "stream",
     "text": [
      "CSm {'charge': -1.0}\n",
      "ACONTm {}\n",
      "ICDHxm {}\n",
      "AKGDm {}\n",
      "SUCOASm {'charge': 2.0}\n",
      "SUCD1m {}\n",
      "FUMm {}\n",
      "MDHm {'charge': -1.0}\n",
      "NADH2_u10mi {'charge': 1.0}\n",
      "FADH2ETC {}\n",
      "CYOR_u10mi {'charge': -2.0}\n",
      "CYOOm2i {'charge': 4.0}\n",
      "ATPS4mi {'charge': -1.0}\n",
      "Htmi {}\n",
      "HEX1 {'charge': -1.0}\n",
      "PGI {}\n",
      "PFK {'charge': -1.0}\n",
      "FBA {}\n",
      "TPI {}\n",
      "GAPD {'charge': -3.0}\n",
      "PGK {}\n",
      "PGM {}\n",
      "ENO {}\n",
      "PYK {'charge': 1.0}\n",
      "ADK1 {}\n",
      "PDHm {}\n",
      "LDH_L {'charge': -1.0}\n",
      "G6PDH2r {'charge': -1.0}\n",
      "PGL {'charge': -1.0}\n",
      "GND {}\n",
      "RPI {}\n",
      "RPE {}\n",
      "TKT1 {}\n",
      "TKT2 {}\n",
      "TALA {}\n",
      "PCm {'charge': 1.0}\n",
      "PEPCKm {}\n",
      "FBP {'charge': 2.0}\n",
      "G6PPer {'charge': 2.0}\n",
      "G6Pter {}\n",
      "GLCter {}\n",
      "MALtm {}\n",
      "MDH {'charge': -1.0}\n",
      "PEPCK_re {}\n",
      "PGMT {}\n",
      "GALUi {'charge': 1.0}\n",
      "GLGNS1 {'charge': -3.0}\n",
      "GLBRAN {}\n",
      "GLPASE1 {'charge': -6.0}\n",
      "GLDBRAN {}\n",
      "GLPASE2 {}\n",
      "GGNG {'charge': -8.0}\n",
      "ACACT1m {}\n",
      "HMGCOASm {'charge': 1.0}\n",
      "HMGLm {}\n",
      "ADCim {'charge': 1.0}\n",
      "BDHm {'charge': -1.0}\n",
      "OCOAT1m {}\n",
      "NDPK1 {}\n",
      "NDPK1m {}\n",
      "NDPK2 {}\n",
      "HCO3Em {'charge': -1.0}\n",
      "ATPtm {}\n",
      "AKGMALtm {}\n",
      "ASPTA {}\n",
      "ASPTAm {}\n",
      "CITtam {}\n",
      "CITL {}\n",
      "ME2 {}\n",
      "ACS {}\n",
      "ARGN {}\n",
      "OCBTm {'charge': 1.0}\n",
      "ARGSS {'charge': -1.0}\n",
      "ARGSL {}\n",
      "CBPSam {}\n",
      "NH4tm {}\n",
      "GDHm {'charge': -1.0}\n",
      "GLNS {'charge': 1.0}\n",
      "GLUN {}\n",
      "ALATA_L {}\n",
      "CYSO {'charge': -2.0}\n",
      "3SALATAi {'charge': 1.0}\n",
      "3SPYRSP {'charge': -1.0}\n",
      "PGCD {'charge': -1.0}\n",
      "PSERT {}\n",
      "PSP_L {'charge': 2.0}\n",
      "GHMT2r {}\n",
      "ASNS1 {'charge': -1.0}\n",
      "GLYtm {}\n",
      "MLTHFtm {}\n",
      "THFtm {}\n",
      "KHK {'charge': -1.0}\n",
      "FBA2 {}\n",
      "TRIOK {'charge': -1.0}\n",
      "ALCD19y {'charge': 1.0}\n",
      "GLYK {'charge': -1.0}\n",
      "2AMACHYD {}\n",
      "SERHL {}\n",
      "ALCD2x {'charge': -1.0}\n",
      "ACALDtm {}\n",
      "ALDD2xm {'charge': -2.0}\n",
      "ACSm {}\n",
      "Htm {}\n",
      "O2tm {}\n",
      "H2Otr {}\n",
      "H2Otm {}\n",
      "PItm {}\n",
      "PItr {}\n",
      "CO2tm {}\n",
      "PPA {'charge': 3.0}\n",
      "HCO3E {'charge': -1.0}\n",
      "PEPtm {}\n",
      "PYRt2m {}\n",
      "ASPGLUm {}\n",
      "THD1m {}\n",
      "BHBtm {}\n",
      "ACETONEt2m {}\n",
      "ORNt4m {}\n",
      "FUMtm {}\n",
      "GLUt2m {}\n",
      "GLYCLm {}\n",
      "FACOAL80PROD {'charge': nan, 'C': -21, 'H': -31, 'N': -7, 'O': -15, 'P': -3, 'S': -1}\n",
      "GAPT {'charge': nan, 'C': 18, 'H': 25, 'N': 7, 'O': 10, 'P': 2, 'S': 1}\n",
      "AGPTAT {'charge': nan, 'C': 21, 'H': 32, 'N': 7, 'O': 16, 'P': 3, 'S': 1}\n",
      "LPIN {'charge': nan, 'H': -1, 'O': 3, 'P': 1}\n",
      "DGAT {'charge': nan, 'C': 21, 'H': 32, 'N': 7, 'O': 16, 'P': 3, 'S': 1}\n",
      "ACCOAC {'charge': 1.0}\n",
      "MCOATA {'charge': nan, 'C': -3, 'H': -1, 'O': -3}\n",
      "ACOATA {'charge': nan, 'C': -2, 'H': -2, 'O': -1}\n",
      "KAS14 {'charge': nan, 'C': 1, 'O': 2, 'H': -1}\n",
      "30AR40 {'charge': nan, 'H': -2}\n",
      "3HAD40 {'charge': nan, 'H': 2, 'O': 1}\n",
      "EAR40y {'charge': nan, 'H': -2}\n",
      "30AS60 {'charge': nan, 'C': 1, 'O': 2, 'H': -1}\n",
      "30AR60 {'charge': nan, 'H': -2}\n",
      "3HAD60 {'charge': nan, 'H': 2, 'O': 1}\n",
      "EAR60y {'charge': nan, 'H': -2}\n",
      "30AS80 {'charge': nan, 'C': 1, 'O': 2, 'H': -1}\n",
      "30AR80 {'charge': nan, 'H': -2}\n",
      "3HAD80 {'charge': nan, 'H': 2, 'O': 1}\n",
      "EAR80y {'charge': nan, 'H': -2}\n",
      "FA80ACPHi {'charge': nan, 'H': -1, 'O': -1}\n",
      "FACOAL80 {}\n",
      "C80CPT1 {}\n",
      "r2434 {}\n",
      "CRNtim {}\n",
      "r0636 {}\n",
      "COAtim {}\n",
      "ACOAD3fm {'charge': nan, 'C': -29, 'H': -44, 'N': -7, 'O': -17, 'P': -3, 'S': -1}\n",
      "ECOAH3m {'charge': nan, 'H': 2, 'O': 1}\n",
      "HACD3m {'charge': nan, 'H': -2}\n",
      "ACACT3rm {'charge': nan, 'C': -29, 'H': -44, 'N': -7, 'O': -18, 'P': -3, 'S': -1}\n",
      "ACOAD2fm {}\n",
      "ECOAH2m {'charge': nan, 'H': 42, 'O': 18, 'C': 27, 'N': 7, 'P': 3, 'S': 1}\n",
      "HACD2m {'charge': nan, 'H': -2}\n",
      "ACACT2rm {'charge': nan, 'C': -27, 'H': -40, 'N': -7, 'O': -18, 'P': -3, 'S': -1}\n",
      "ACOAD1fm {}\n",
      "ECOAH1m {}\n",
      "HACD1m {'charge': 1.0}\n",
      "ACACT1rm {}\n",
      "ATPM {'charge': 1.0}\n",
      "EX_h_c {'H': -1}\n",
      "EX_pyr_c {'charge': 1.0, 'C': -3, 'H': -3, 'O': -3}\n",
      "EX_h2o_c {'H': -2, 'O': -1}\n",
      "EX_pi_c {'H': -1, 'O': -4, 'P': -1}\n",
      "EX_glc__D_c {'C': -6, 'H': -12, 'O': -6}\n",
      "EX_lac__L_c {'charge': 1.0, 'C': -3, 'H': -5, 'O': -3}\n",
      "EX_co2_c {'C': -1, 'O': -2}\n",
      "EX_o2_c {'O': -2}\n",
      "EX_octa_prod_c {'charge': nan}\n",
      "EX_octa_cons_c {'charge': nan}\n",
      "EX_urea_c {'C': -1, 'H': -4, 'N': -2, 'O': -1}\n",
      "EX_gln__L_c {'C': -5, 'H': -10, 'N': -2, 'O': -3}\n",
      "EX_acetone_c {'C': -3, 'H': -6, 'O': -1}\n",
      "EX_bhb_c {'charge': 1.0, 'C': -4, 'H': -7, 'O': -3}\n",
      "EX_glu__L_c {'charge': 1.0, 'C': -5, 'H': -8, 'N': -1, 'O': -4}\n",
      "EX_ser__L_c {'C': -3, 'H': -7, 'N': -1, 'O': -3}\n",
      "EX_cys__L_c {'C': -3, 'H': -7, 'N': -1, 'O': -2, 'S': -1}\n",
      "EX_gly_c {'C': -2, 'H': -5, 'N': -1, 'O': -2}\n",
      "EX_glygn2_c {'C': -66, 'H': -111, 'O': -56, 'X': -1}\n",
      "EX_Tyr_ggn_c {'X': -1, 'O': -1, 'H': -1}\n",
      "EX_ala__L_c {'C': -3, 'H': -7, 'N': -1, 'O': -2}\n",
      "EX_nh4_c {'charge': -1.0, 'H': -4, 'N': -1}\n",
      "EX_so3_c {'charge': 2.0, 'O': -3, 'S': -1}\n",
      "EX_etoh_c {'C': -2, 'H': -6, 'O': -1}\n",
      "EX_glyc_3octa_c {'charge': nan}\n",
      "EX_fru_c {'C': -6, 'H': -12, 'O': -6}\n"
     ]
    }
   ],
   "source": [
    "#Mass balance check\n",
    "for r in trial.reactions:\n",
    "    print(r.id,  r.check_mass_balance())"
   ]
  },
  {
   "cell_type": "code",
   "execution_count": 10,
   "metadata": {},
   "outputs": [
    {
     "data": {
      "text/html": [
       "\n",
       "        <table>\n",
       "            <tr>\n",
       "                <td><strong>Metabolite identifier</strong></td><td>Tyr_ggn_c</td>\n",
       "            </tr><tr>\n",
       "                <td><strong>Name</strong></td><td>Tyr-194 of apo-glycogenin protein (primer for...</td>\n",
       "            </tr><tr>\n",
       "                <td><strong>Memory address</strong></td>\n",
       "                <td>0x028fc6877d60</td>\n",
       "            </tr><tr>\n",
       "                <td><strong>Formula</strong></td><td>XOH</td>\n",
       "            </tr><tr>\n",
       "                <td><strong>Compartment</strong></td><td>c</td>\n",
       "            </tr><tr>\n",
       "                <td><strong>In 3 reaction(s)</strong></td><td>\n",
       "                    GGNG, GLPASE2, EX_Tyr_ggn_c</td>\n",
       "            </tr>\n",
       "        </table>"
      ],
      "text/plain": [
       "<Metabolite Tyr_ggn_c at 0x28fc6877d60>"
      ]
     },
     "execution_count": 10,
     "metadata": {},
     "output_type": "execute_result"
    }
   ],
   "source": [
    "trial.metabolites.Tyr_ggn_c"
   ]
  },
  {
   "cell_type": "code",
   "execution_count": 11,
   "metadata": {},
   "outputs": [],
   "source": [
    "trial.metabolites.h_c.charge= 1\n",
    "trial.metabolites.h_m.charge= 1\n",
    "trial.metabolites.h_i.charge= 1\n",
    "trial.metabolites.pi_c.charge= -2\n",
    "trial.metabolites.pi_m.charge= -2"
   ]
  },
  {
   "cell_type": "code",
   "execution_count": 12,
   "metadata": {},
   "outputs": [
    {
     "name": "stdout",
     "output_type": "stream",
     "text": [
      "CSm {}\n",
      "ACONTm {}\n",
      "ICDHxm {}\n",
      "AKGDm {}\n",
      "SUCOASm {}\n",
      "SUCD1m {}\n",
      "FUMm {}\n",
      "MDHm {}\n",
      "NADH2_u10mi {}\n",
      "FADH2ETC {}\n",
      "CYOR_u10mi {}\n",
      "CYOOm2i {}\n",
      "ATPS4mi {}\n",
      "Htmi {}\n",
      "HEX1 {}\n",
      "PGI {}\n",
      "PFK {}\n",
      "FBA {}\n",
      "TPI {}\n",
      "GAPD {}\n",
      "PGK {}\n",
      "PGM {}\n",
      "ENO {}\n",
      "PYK {}\n",
      "ADK1 {}\n",
      "PDHm {}\n",
      "LDH_L {}\n",
      "G6PDH2r {}\n",
      "PGL {}\n",
      "GND {}\n",
      "RPI {}\n",
      "RPE {}\n",
      "TKT1 {}\n",
      "TKT2 {}\n",
      "TALA {}\n",
      "PCm {}\n",
      "PEPCKm {}\n",
      "FBP {}\n",
      "G6PPer {'charge': 2.0}\n",
      "G6Pter {}\n",
      "GLCter {}\n",
      "MALtm {}\n",
      "MDH {}\n",
      "PEPCK_re {}\n",
      "PGMT {}\n",
      "GALUi {}\n",
      "GLGNS1 {}\n",
      "GLBRAN {}\n",
      "GLPASE1 {}\n",
      "GLDBRAN {}\n",
      "GLPASE2 {}\n",
      "GGNG {}\n",
      "ACACT1m {}\n",
      "HMGCOASm {}\n",
      "HMGLm {}\n",
      "ADCim {}\n",
      "BDHm {}\n",
      "OCOAT1m {}\n",
      "NDPK1 {}\n",
      "NDPK1m {}\n",
      "NDPK2 {}\n",
      "HCO3Em {}\n",
      "ATPtm {}\n",
      "AKGMALtm {}\n",
      "ASPTA {}\n",
      "ASPTAm {}\n",
      "CITtam {}\n",
      "CITL {}\n",
      "ME2 {}\n",
      "ACS {}\n",
      "ARGN {}\n",
      "OCBTm {}\n",
      "ARGSS {}\n",
      "ARGSL {}\n",
      "CBPSam {}\n",
      "NH4tm {}\n",
      "GDHm {}\n",
      "GLNS {}\n",
      "GLUN {}\n",
      "ALATA_L {}\n",
      "CYSO {}\n",
      "3SALATAi {}\n",
      "3SPYRSP {}\n",
      "PGCD {}\n",
      "PSERT {}\n",
      "PSP_L {}\n",
      "GHMT2r {}\n",
      "ASNS1 {}\n",
      "GLYtm {}\n",
      "MLTHFtm {}\n",
      "THFtm {}\n",
      "KHK {}\n",
      "FBA2 {}\n",
      "TRIOK {}\n",
      "ALCD19y {}\n",
      "GLYK {}\n",
      "2AMACHYD {}\n",
      "SERHL {}\n",
      "ALCD2x {}\n",
      "ACALDtm {}\n",
      "ALDD2xm {}\n",
      "ACSm {}\n",
      "Htm {}\n",
      "O2tm {}\n",
      "H2Otr {}\n",
      "H2Otm {}\n",
      "PItm {}\n",
      "PItr {'charge': 2.0}\n",
      "CO2tm {}\n",
      "PPA {}\n",
      "HCO3E {}\n",
      "PEPtm {}\n",
      "PYRt2m {}\n",
      "ASPGLUm {}\n",
      "THD1m {}\n",
      "BHBtm {}\n",
      "ACETONEt2m {}\n",
      "ORNt4m {}\n",
      "FUMtm {}\n",
      "GLUt2m {}\n",
      "GLYCLm {}\n",
      "FACOAL80PROD {'charge': nan, 'C': -21, 'H': -31, 'N': -7, 'O': -15, 'P': -3, 'S': -1}\n",
      "GAPT {'charge': nan, 'C': 18, 'H': 25, 'N': 7, 'O': 10, 'P': 2, 'S': 1}\n",
      "AGPTAT {'charge': nan, 'C': 21, 'H': 32, 'N': 7, 'O': 16, 'P': 3, 'S': 1}\n",
      "LPIN {'charge': nan, 'H': -1, 'O': 3, 'P': 1}\n",
      "DGAT {'charge': nan, 'C': 21, 'H': 32, 'N': 7, 'O': 16, 'P': 3, 'S': 1}\n",
      "ACCOAC {}\n",
      "MCOATA {'charge': nan, 'C': -3, 'H': -1, 'O': -3}\n",
      "ACOATA {'charge': nan, 'C': -2, 'H': -2, 'O': -1}\n",
      "KAS14 {'charge': nan, 'C': 1, 'O': 2, 'H': -1}\n",
      "30AR40 {'charge': nan, 'H': -2}\n",
      "3HAD40 {'charge': nan, 'H': 2, 'O': 1}\n",
      "EAR40y {'charge': nan, 'H': -2}\n",
      "30AS60 {'charge': nan, 'C': 1, 'O': 2, 'H': -1}\n",
      "30AR60 {'charge': nan, 'H': -2}\n",
      "3HAD60 {'charge': nan, 'H': 2, 'O': 1}\n",
      "EAR60y {'charge': nan, 'H': -2}\n",
      "30AS80 {'charge': nan, 'C': 1, 'O': 2, 'H': -1}\n",
      "30AR80 {'charge': nan, 'H': -2}\n",
      "3HAD80 {'charge': nan, 'H': 2, 'O': 1}\n",
      "EAR80y {'charge': nan, 'H': -2}\n",
      "FA80ACPHi {'charge': nan, 'H': -1, 'O': -1}\n",
      "FACOAL80 {}\n",
      "C80CPT1 {}\n",
      "r2434 {}\n",
      "CRNtim {}\n",
      "r0636 {}\n",
      "COAtim {}\n",
      "ACOAD3fm {'charge': nan, 'C': -29, 'H': -44, 'N': -7, 'O': -17, 'P': -3, 'S': -1}\n",
      "ECOAH3m {'charge': nan, 'H': 2, 'O': 1}\n",
      "HACD3m {'charge': nan, 'H': -2}\n",
      "ACACT3rm {'charge': nan, 'C': -29, 'H': -44, 'N': -7, 'O': -18, 'P': -3, 'S': -1}\n",
      "ACOAD2fm {}\n",
      "ECOAH2m {'charge': nan, 'H': 42, 'O': 18, 'C': 27, 'N': 7, 'P': 3, 'S': 1}\n",
      "HACD2m {'charge': nan, 'H': -2}\n",
      "ACACT2rm {'charge': nan, 'C': -27, 'H': -40, 'N': -7, 'O': -18, 'P': -3, 'S': -1}\n",
      "ACOAD1fm {}\n",
      "ECOAH1m {}\n",
      "HACD1m {}\n",
      "ACACT1rm {}\n",
      "ATPM {}\n",
      "EX_h_c {'charge': -1, 'H': -1}\n",
      "EX_pyr_c {'charge': 1.0, 'C': -3, 'H': -3, 'O': -3}\n",
      "EX_h2o_c {'H': -2, 'O': -1}\n",
      "EX_pi_c {'charge': 2, 'H': -1, 'O': -4, 'P': -1}\n",
      "EX_glc__D_c {'C': -6, 'H': -12, 'O': -6}\n",
      "EX_lac__L_c {'charge': 1.0, 'C': -3, 'H': -5, 'O': -3}\n",
      "EX_co2_c {'C': -1, 'O': -2}\n",
      "EX_o2_c {'O': -2}\n",
      "EX_octa_prod_c {'charge': nan}\n",
      "EX_octa_cons_c {'charge': nan}\n",
      "EX_urea_c {'C': -1, 'H': -4, 'N': -2, 'O': -1}\n",
      "EX_gln__L_c {'C': -5, 'H': -10, 'N': -2, 'O': -3}\n",
      "EX_acetone_c {'C': -3, 'H': -6, 'O': -1}\n",
      "EX_bhb_c {'charge': 1.0, 'C': -4, 'H': -7, 'O': -3}\n",
      "EX_glu__L_c {'charge': 1.0, 'C': -5, 'H': -8, 'N': -1, 'O': -4}\n",
      "EX_ser__L_c {'C': -3, 'H': -7, 'N': -1, 'O': -3}\n",
      "EX_cys__L_c {'C': -3, 'H': -7, 'N': -1, 'O': -2, 'S': -1}\n",
      "EX_gly_c {'C': -2, 'H': -5, 'N': -1, 'O': -2}\n",
      "EX_glygn2_c {'C': -66, 'H': -111, 'O': -56, 'X': -1}\n",
      "EX_Tyr_ggn_c {'X': -1, 'O': -1, 'H': -1}\n",
      "EX_ala__L_c {'C': -3, 'H': -7, 'N': -1, 'O': -2}\n",
      "EX_nh4_c {'charge': -1.0, 'H': -4, 'N': -1}\n",
      "EX_so3_c {'charge': 2.0, 'O': -3, 'S': -1}\n",
      "EX_etoh_c {'C': -2, 'H': -6, 'O': -1}\n",
      "EX_glyc_3octa_c {'charge': nan}\n",
      "EX_fru_c {'C': -6, 'H': -12, 'O': -6}\n"
     ]
    }
   ],
   "source": [
    "for r in trial.reactions:\n",
    "    print(r.id,  r.check_mass_balance())"
   ]
  },
  {
   "cell_type": "code",
   "execution_count": 13,
   "metadata": {},
   "outputs": [
    {
     "data": {
      "text/html": [
       "<strong><em>Optimal</em> solution with objective value 28.000</strong><br><div>\n",
       "<style scoped>\n",
       "    .dataframe tbody tr th:only-of-type {\n",
       "        vertical-align: middle;\n",
       "    }\n",
       "\n",
       "    .dataframe tbody tr th {\n",
       "        vertical-align: top;\n",
       "    }\n",
       "\n",
       "    .dataframe thead th {\n",
       "        text-align: right;\n",
       "    }\n",
       "</style>\n",
       "<table border=\"1\" class=\"dataframe\">\n",
       "  <thead>\n",
       "    <tr style=\"text-align: right;\">\n",
       "      <th></th>\n",
       "      <th>fluxes</th>\n",
       "      <th>reduced_costs</th>\n",
       "    </tr>\n",
       "  </thead>\n",
       "  <tbody>\n",
       "    <tr>\n",
       "      <th>CSm</th>\n",
       "      <td>2.0</td>\n",
       "      <td>0.0</td>\n",
       "    </tr>\n",
       "    <tr>\n",
       "      <th>ACONTm</th>\n",
       "      <td>2.0</td>\n",
       "      <td>0.0</td>\n",
       "    </tr>\n",
       "    <tr>\n",
       "      <th>ICDHxm</th>\n",
       "      <td>2.0</td>\n",
       "      <td>0.0</td>\n",
       "    </tr>\n",
       "    <tr>\n",
       "      <th>AKGDm</th>\n",
       "      <td>2.0</td>\n",
       "      <td>0.0</td>\n",
       "    </tr>\n",
       "    <tr>\n",
       "      <th>SUCOASm</th>\n",
       "      <td>28.0</td>\n",
       "      <td>0.0</td>\n",
       "    </tr>\n",
       "    <tr>\n",
       "      <th>...</th>\n",
       "      <td>...</td>\n",
       "      <td>...</td>\n",
       "    </tr>\n",
       "    <tr>\n",
       "      <th>EX_nh4_c</th>\n",
       "      <td>0.0</td>\n",
       "      <td>0.0</td>\n",
       "    </tr>\n",
       "    <tr>\n",
       "      <th>EX_so3_c</th>\n",
       "      <td>0.0</td>\n",
       "      <td>0.0</td>\n",
       "    </tr>\n",
       "    <tr>\n",
       "      <th>EX_etoh_c</th>\n",
       "      <td>0.0</td>\n",
       "      <td>-5.0</td>\n",
       "    </tr>\n",
       "    <tr>\n",
       "      <th>EX_glyc_3octa_c</th>\n",
       "      <td>0.0</td>\n",
       "      <td>0.0</td>\n",
       "    </tr>\n",
       "    <tr>\n",
       "      <th>EX_fru_c</th>\n",
       "      <td>0.0</td>\n",
       "      <td>-56.0</td>\n",
       "    </tr>\n",
       "  </tbody>\n",
       "</table>\n",
       "<p>187 rows × 2 columns</p>\n",
       "</div>"
      ],
      "text/plain": [
       "<Solution 28.000 at 0x28f9f1ae520>"
      ]
     },
     "execution_count": 13,
     "metadata": {},
     "output_type": "execute_result"
    }
   ],
   "source": [
    "trial.objective = 'ATPS4mi'\n",
    "flux= trial.optimize()\n",
    "flux\n",
    "# df= flux.to_frame()\n",
    "# df.loc[\"EX_glc__D_c\"]\n",
    "# flux.loc[\"EX_glc__D_c\"]"
   ]
  },
  {
   "cell_type": "code",
   "execution_count": 14,
   "metadata": {},
   "outputs": [],
   "source": [
    "# trial.reactions.EX_glc__D_c.upper_bound = 57 # μmol substrate /gww.hep/min\n",
    "#             # https://link.springer.com/article/10.1007/s10439-006-9217-2/tables/2 \n",
    "\n",
    "# trial.reactions.EX_glc__D_c.lower_bound = -0.585\n",
    "# trial.reactions.EX_lac__L_c.upper_bound = 3.24 # μmol substrate /gww.hep/min\n",
    "# trial.reactions.EX_pyr_c.upper_bound = 3.24"
   ]
  },
  {
   "cell_type": "code",
   "execution_count": null,
   "metadata": {},
   "outputs": [],
   "source": []
  },
  {
   "cell_type": "code",
   "execution_count": 15,
   "metadata": {},
   "outputs": [],
   "source": [
    "#Function to load data from the excel sheet\n",
    "def load_data(filepath, sheet_name):\n",
    "    \"\"\"Load Liver data from an excel sheet\"\"\"\n",
    "    df = pd.read_excel(engine='openpyxl',\n",
    "        io=filepath,\n",
    "        sheet_name=sheet_name,\n",
    "        index_col=0)\n",
    "    return df"
   ]
  },
  {
   "cell_type": "code",
   "execution_count": 16,
   "metadata": {},
   "outputs": [
    {
     "data": {
      "text/html": [
       "<div>\n",
       "<style scoped>\n",
       "    .dataframe tbody tr th:only-of-type {\n",
       "        vertical-align: middle;\n",
       "    }\n",
       "\n",
       "    .dataframe tbody tr th {\n",
       "        vertical-align: top;\n",
       "    }\n",
       "\n",
       "    .dataframe thead th {\n",
       "        text-align: right;\n",
       "    }\n",
       "</style>\n",
       "<table border=\"1\" class=\"dataframe\">\n",
       "  <thead>\n",
       "    <tr style=\"text-align: right;\">\n",
       "      <th></th>\n",
       "      <th>val</th>\n",
       "    </tr>\n",
       "    <tr>\n",
       "      <th>met</th>\n",
       "      <th></th>\n",
       "    </tr>\n",
       "  </thead>\n",
       "  <tbody>\n",
       "    <tr>\n",
       "      <th>glygn2_c</th>\n",
       "      <td>-0.015600</td>\n",
       "    </tr>\n",
       "    <tr>\n",
       "      <th>ala__L_c</th>\n",
       "      <td>-0.096667</td>\n",
       "    </tr>\n",
       "    <tr>\n",
       "      <th>nh4_c</th>\n",
       "      <td>-0.090533</td>\n",
       "    </tr>\n",
       "    <tr>\n",
       "      <th>gly_c</th>\n",
       "      <td>-0.015827</td>\n",
       "    </tr>\n",
       "    <tr>\n",
       "      <th>gln__L_c</th>\n",
       "      <td>-0.034667</td>\n",
       "    </tr>\n",
       "    <tr>\n",
       "      <th>ser__L_c</th>\n",
       "      <td>-0.009720</td>\n",
       "    </tr>\n",
       "    <tr>\n",
       "      <th>glc__D_c</th>\n",
       "      <td>-0.037452</td>\n",
       "    </tr>\n",
       "  </tbody>\n",
       "</table>\n",
       "</div>"
      ],
      "text/plain": [
       "               val\n",
       "met               \n",
       "glygn2_c -0.015600\n",
       "ala__L_c -0.096667\n",
       "nh4_c    -0.090533\n",
       "gly_c    -0.015827\n",
       "gln__L_c -0.034667\n",
       "ser__L_c -0.009720\n",
       "glc__D_c -0.037452"
      ]
     },
     "execution_count": 16,
     "metadata": {},
     "output_type": "execute_result"
    }
   ],
   "source": [
    "#Compare Results\n",
    "excel_ic = os.path.join(data_dir,\"Fluxes_Data.xlsx\")\n",
    "# ic_df = pd.read_csv(csv_ic)\n",
    "# ic_df.set_index()\n",
    "fluxes = load_data(\n",
    "    filepath=excel_ic,\n",
    "    sheet_name=\"Model_data\"\n",
    "    )\n",
    "# ic_info_all.reset_index(level='ID', col_level=1, inplace=True)\n",
    "fluxes"
   ]
  },
  {
   "cell_type": "code",
   "execution_count": 17,
   "metadata": {},
   "outputs": [
    {
     "data": {
      "text/plain": [
       "Index(['glygn2_c', 'ala__L_c', 'nh4_c', 'gly_c', 'gln__L_c', 'ser__L_c',\n",
       "       'glc__D_c'],\n",
       "      dtype='object', name='met')"
      ]
     },
     "execution_count": 17,
     "metadata": {},
     "output_type": "execute_result"
    }
   ],
   "source": [
    "fluxes.index"
   ]
  },
  {
   "cell_type": "code",
   "execution_count": 18,
   "metadata": {},
   "outputs": [],
   "source": [
    "# conc_df =pd.DataFrame(ic_info_all.loc[:,[\"ID\",\"Concentration (M)\"]])\n",
    "# conc_df.set_index('ID',drop=True,inplace=True)\n",
    "# conc_df"
   ]
  },
  {
   "cell_type": "code",
   "execution_count": 19,
   "metadata": {},
   "outputs": [
    {
     "name": "stdout",
     "output_type": "stream",
     "text": [
      "Setting Experimental fluxes\n",
      "------------------\n",
      "EX_glc__D_c -0.0374517 0.0374517\n",
      "EX_gln__L_c -0.0346666666666667 0.0346666666666667\n",
      "EX_ser__L_c -0.00972 0.00972\n",
      "EX_gly_c -0.015826666666666666 0.015826666666666666\n",
      "EX_glygn2_c -0.015600000000000001 0.015600000000000001\n",
      "EX_ala__L_c -0.09666666666666666 0.09666666666666666\n",
      "EX_nh4_c -0.09053333333333334 0.09053333333333334\n"
     ]
    }
   ],
   "source": [
    "print(\"Setting Experimental fluxes\\n------------------\")\n",
    "\n",
    "for reaction in trial.reactions:\n",
    "    #Setting inital condition of metabolties from HEPATOKIN  #M \n",
    "    if 'EX_' in reaction.id:\n",
    "        for met in reaction.metabolites:\n",
    "            # print(met)\n",
    "            if met.id in fluxes.index:\n",
    "                mid=met.id\n",
    "                # print(mid)\n",
    "                flux = fluxes.loc[mid,'val']\n",
    "                # print(flux)\n",
    "            #     row = [mid,ic_value]\n",
    "            #     # column = [ic_value]\n",
    "            #     # conc_df.append(row)\n",
    "                reaction.lower_bound =  flux       \n",
    "                reaction.upper_bound =  -flux     #mol/L*hr = M/hr\n",
    "                \n",
    "                print(reaction.id, reaction.lower_bound, reaction.upper_bound)       \n",
    "# for metabolite, ic_value in liver.initial_conditions.items():\n",
    "#     print(\"{0}: {1}\".format(metabolite, ic_value))"
   ]
  },
  {
   "cell_type": "code",
   "execution_count": 20,
   "metadata": {},
   "outputs": [
    {
     "name": "stdout",
     "output_type": "stream",
     "text": [
      "EX_h_c -1000.0 1000.0\n",
      "EX_pyr_c 0.0 1000.0\n",
      "EX_h2o_c -1000.0 1000.0\n",
      "EX_pi_c -1000.0 1000.0\n",
      "EX_glc__D_c -0.0374517 0.0374517\n",
      "EX_lac__L_c 0.0 1000.0\n",
      "EX_co2_c 0.0 1000.0\n",
      "EX_o2_c -1000.0 1000.0\n",
      "EX_octa_prod_c 0.0 1000.0\n",
      "EX_octa_cons_c 0.0 0.0\n",
      "EX_urea_c 0.0 1000.0\n",
      "EX_gln__L_c -0.0346666666666667 0.0346666666666667\n",
      "EX_acetone_c 0.0 1000.0\n",
      "EX_bhb_c 0.0 1000.0\n",
      "EX_glu__L_c 0.0 1000.0\n",
      "EX_ser__L_c -0.00972 0.00972\n",
      "EX_cys__L_c 0.0 1000.0\n",
      "EX_gly_c -0.015826666666666666 0.015826666666666666\n",
      "EX_glygn2_c -0.015600000000000001 0.015600000000000001\n",
      "EX_Tyr_ggn_c -1000.0 1000.0\n",
      "EX_ala__L_c -0.09666666666666666 0.09666666666666666\n",
      "EX_nh4_c -0.09053333333333334 0.09053333333333334\n",
      "EX_so3_c 0.0 1000.0\n",
      "EX_etoh_c 0.0 1000.0\n",
      "EX_glyc_3octa_c 0.0 1000.0\n",
      "EX_fru_c 0.0 1000.0\n"
     ]
    }
   ],
   "source": [
    "for r in trial.reactions:\n",
    "    if 'EX_' in r.id:\n",
    "    \n",
    "        print(r.id, r.lower_bound, r.upper_bound)\n",
    "#         # r.lower_bound = -1000\n",
    "#         if \"glc__D\" in r.id:\n",
    "#             r.lower_bound = -0.585 # by convention negative exchange flux = uptake\n",
    "#             r.upper_bound = 57\n",
    "#         elif 'lac__L' in r.id:\n",
    "#             r.upper_bound = 3.24\n",
    "#         elif 'glygn2' in r.id:\n",
    "#             r.upper_bound = 0.304 \n",
    "#         else:\n",
    "#             # r.upper_bound = 1000\n",
    "#             pass\n",
    "    # print(r.id, r.lower_bound, r.upper_bound)"
   ]
  },
  {
   "cell_type": "code",
   "execution_count": 21,
   "metadata": {},
   "outputs": [],
   "source": [
    "# futile_cycle_1 = trial.problem.Constraint(\n",
    "#     trial.reactions.PFK.flux_expression - trial.reactions.FBP.flux_expression,\n",
    "#     lb=-60,\n",
    "#     ub=60)\n",
    "# trial.add_cons_vars(futile_cycle_1)\n",
    "\n",
    "\n",
    "# futile_cycle_2 = trial.problem.Constraint(\n",
    "#     trial.reactions.HEX1.flux_expression - trial.reactions.G6PPer.flux_expression,\n",
    "#     lb=-1000,\n",
    "#     ub=1000)\n",
    "# trial.add_cons_vars(futile_cycle_2)\n",
    "\n",
    "# # try doubling the two above because of the 2:1 ratio\n",
    "# futile_cycle_3 = trial.problem.Constraint(\n",
    "#     trial.reactions.PYK.flux_expression - trial.reactions.PCm.flux_expression,\n",
    "#     lb=-20,\n",
    "#     ub=20)\n",
    "# trial.add_cons_vars(futile_cycle_3)"
   ]
  },
  {
   "cell_type": "code",
   "execution_count": 22,
   "metadata": {},
   "outputs": [
    {
     "data": {
      "text/html": [
       "<strong><em>Optimal</em> solution with objective value -0.046</strong><br><div>\n",
       "<style scoped>\n",
       "    .dataframe tbody tr th:only-of-type {\n",
       "        vertical-align: middle;\n",
       "    }\n",
       "\n",
       "    .dataframe tbody tr th {\n",
       "        vertical-align: top;\n",
       "    }\n",
       "\n",
       "    .dataframe thead th {\n",
       "        text-align: right;\n",
       "    }\n",
       "</style>\n",
       "<table border=\"1\" class=\"dataframe\">\n",
       "  <thead>\n",
       "    <tr style=\"text-align: right;\">\n",
       "      <th></th>\n",
       "      <th>fluxes</th>\n",
       "      <th>reduced_costs</th>\n",
       "    </tr>\n",
       "  </thead>\n",
       "  <tbody>\n",
       "    <tr>\n",
       "      <th>CSm</th>\n",
       "      <td>0.029033</td>\n",
       "      <td>0.000000e+00</td>\n",
       "    </tr>\n",
       "    <tr>\n",
       "      <th>ACONTm</th>\n",
       "      <td>0.029033</td>\n",
       "      <td>0.000000e+00</td>\n",
       "    </tr>\n",
       "    <tr>\n",
       "      <th>ICDHxm</th>\n",
       "      <td>0.029033</td>\n",
       "      <td>1.734723e-18</td>\n",
       "    </tr>\n",
       "    <tr>\n",
       "      <th>AKGDm</th>\n",
       "      <td>0.063700</td>\n",
       "      <td>1.734723e-18</td>\n",
       "    </tr>\n",
       "    <tr>\n",
       "      <th>SUCOASm</th>\n",
       "      <td>-0.063700</td>\n",
       "      <td>0.000000e+00</td>\n",
       "    </tr>\n",
       "    <tr>\n",
       "      <th>...</th>\n",
       "      <td>...</td>\n",
       "      <td>...</td>\n",
       "    </tr>\n",
       "    <tr>\n",
       "      <th>EX_nh4_c</th>\n",
       "      <td>0.090533</td>\n",
       "      <td>-1.143889e-02</td>\n",
       "    </tr>\n",
       "    <tr>\n",
       "      <th>EX_so3_c</th>\n",
       "      <td>0.000000</td>\n",
       "      <td>0.000000e+00</td>\n",
       "    </tr>\n",
       "    <tr>\n",
       "      <th>EX_etoh_c</th>\n",
       "      <td>0.000000</td>\n",
       "      <td>1.204094e-02</td>\n",
       "    </tr>\n",
       "    <tr>\n",
       "      <th>EX_glyc_3octa_c</th>\n",
       "      <td>0.000000</td>\n",
       "      <td>0.000000e+00</td>\n",
       "    </tr>\n",
       "    <tr>\n",
       "      <th>EX_fru_c</th>\n",
       "      <td>0.000000</td>\n",
       "      <td>1.637568e-01</td>\n",
       "    </tr>\n",
       "  </tbody>\n",
       "</table>\n",
       "<p>187 rows × 2 columns</p>\n",
       "</div>"
      ],
      "text/plain": [
       "<Solution -0.046 at 0x28fc6fdf130>"
      ]
     },
     "execution_count": 22,
     "metadata": {},
     "output_type": "execute_result"
    }
   ],
   "source": [
    "dual_objective = trial.problem.Objective(\n",
    "    +trial.reactions.EX_glc__D_c.flux_expression-\n",
    "    trial.reactions.EX_glygn2_c.flux_expression,\n",
    "    direction='min')\n",
    "trial.objective = dual_objective\n",
    "solution = trial.optimize(objective_sense='maximise')\n",
    "# try adding ratios of glycogen to glucose in objective function\n",
    "# try making the flux reactons of PGI, GLUT2, \n",
    "solution"
   ]
  },
  {
   "cell_type": "code",
   "execution_count": 23,
   "metadata": {},
   "outputs": [
    {
     "data": {
      "application/vnd.jupyter.widget-view+json": {
       "model_id": "ece0bd213bd845ec9079492ff739b3f4",
       "version_major": 2,
       "version_minor": 0
      },
      "text/plain": [
       "Builder(reaction_data={'CSm': 0.029032896247240612, 'ACONTm': 0.029032896247240612, 'ICDHxm': 0.02903289624724…"
      ]
     },
     "metadata": {},
     "output_type": "display_data"
    }
   ],
   "source": [
    "# #Escher FBA: shows the solutions on the map\n",
    "initial_flux_data = {\n",
    "    reaction: flux\n",
    "    for reaction, flux in solution.fluxes.items()}\n",
    "\n",
    "\n",
    "#view all the reactions that we need build\n",
    "escher_builder = escher.Builder(\n",
    "    # model=trial,\n",
    "    map_json=os.path.join(\n",
    "        maps_dir,\"core_map_v23.json\")\n",
    "        # ,highlight_missing=True\n",
    "    , reaction_data=initial_flux_data\n",
    "    )\n",
    "\n",
    "# Display map in notebook\n",
    "escher_builder"
   ]
  },
  {
   "cell_type": "code",
   "execution_count": 24,
   "metadata": {},
   "outputs": [],
   "source": [
    "from cobra.util.solver import linear_reaction_coefficients\n",
    "from cobra.io import json"
   ]
  },
  {
   "cell_type": "markdown",
   "metadata": {},
   "source": []
  },
  {
   "cell_type": "code",
   "execution_count": 25,
   "metadata": {},
   "outputs": [
    {
     "data": {
      "text/plain": [
       "{<Reaction EX_glc__D_c at 0x28fc6a04eb0>: 1.0,\n",
       " <Reaction EX_glygn2_c at 0x28fc6a13b80>: -1.0}"
      ]
     },
     "execution_count": 25,
     "metadata": {},
     "output_type": "execute_result"
    }
   ],
   "source": [
    "linear_reaction_coefficients(trial)"
   ]
  },
  {
   "cell_type": "markdown",
   "metadata": {},
   "source": [
    "## Solution Space (sampling)"
   ]
  },
  {
   "cell_type": "markdown",
   "metadata": {},
   "source": [
    "\n",
    "\n",
    "\n",
    "sampling 4 different flux states and seeing overlap in distributions"
   ]
  },
  {
   "cell_type": "code",
   "execution_count": 26,
   "metadata": {},
   "outputs": [
    {
     "name": "stdout",
     "output_type": "stream",
     "text": [
      "Read LP format model from file C:\\Users\\sicil\\AppData\\Local\\Temp\\tmp6kit_djf.lp\n",
      "Reading time = 0.01 seconds\n",
      ": 179 rows, 374 columns, 1420 nonzeros\n",
      "Read LP format model from file C:\\Users\\sicil\\AppData\\Local\\Temp\\tmplusb9p5c.lp\n",
      "Reading time = 0.01 seconds\n",
      ": 179 rows, 374 columns, 1420 nonzeros\n"
     ]
    }
   ],
   "source": [
    "combined =trial.copy()\n",
    "dual_objective = combined.problem.Objective(\n",
    "    +combined.reactions.EX_glc__D_c.flux_expression+\n",
    "    combined.reactions.EX_glygn2_c.flux_expression,\n",
    "    direction='min')\n",
    "combined.objective = dual_objective\n",
    "flux_solution = trial.optimize(objective_sense='minimise')\n",
    "# flux_solution = combined.optimize()\n",
    "# co = combined.problem.Constraint(combined.reactions.EX_glc__D.flux_expression, lb=0)\n",
    "# combined.add_cons_vars([co])\n",
    "\n",
    "\n",
    "data_1 = cobra.sampling.sample(combined, 5000, method = \"optgp\", processes = 4)\n"
   ]
  },
  {
   "cell_type": "code",
   "execution_count": 27,
   "metadata": {},
   "outputs": [
    {
     "name": "stdout",
     "output_type": "stream",
     "text": [
      "Read LP format model from file C:\\Users\\sicil\\AppData\\Local\\Temp\\tmpkuhkhinw.lp\n",
      "Reading time = 0.01 seconds\n",
      ": 179 rows, 374 columns, 1420 nonzeros\n",
      "Read LP format model from file C:\\Users\\sicil\\AppData\\Local\\Temp\\tmptz_6zn03.lp\n",
      "Reading time = 0.01 seconds\n",
      ": 179 rows, 374 columns, 1420 nonzeros\n"
     ]
    }
   ],
   "source": [
    "combined =trial.copy()\n",
    "dual_objective = combined.problem.Objective(\n",
    "    +combined.reactions.EX_glc__D_c.flux_expression+\n",
    "    combined.reactions.EX_glygn2_c.flux_expression,\n",
    "    direction='max')\n",
    "combined.objective = dual_objective\n",
    "flux_solution = trial.optimize(objective_sense='minimise')\n",
    "# flux_solution = combined.optimize()\n",
    "# co = combined.problem.Constraint(combined.reactions.EX_glc__D.flux_expression, lb=0)\n",
    "# combined.add_cons_vars([co])\n",
    "\n",
    "\n",
    "data_2 = cobra.sampling.sample(combined, 5000, method = \"optgp\", processes = 4)"
   ]
  },
  {
   "cell_type": "code",
   "execution_count": 28,
   "metadata": {},
   "outputs": [
    {
     "name": "stdout",
     "output_type": "stream",
     "text": [
      "Read LP format model from file C:\\Users\\sicil\\AppData\\Local\\Temp\\tmpvr7y9_py.lp\n",
      "Reading time = 0.01 seconds\n",
      ": 179 rows, 374 columns, 1420 nonzeros\n",
      "Read LP format model from file C:\\Users\\sicil\\AppData\\Local\\Temp\\tmpfrhmu2x4.lp\n",
      "Reading time = 0.01 seconds\n",
      ": 179 rows, 374 columns, 1420 nonzeros\n"
     ]
    }
   ],
   "source": [
    "combined =trial.copy()\n",
    "dual_objective = combined.problem.Objective(\n",
    "    +combined.reactions.EX_glc__D_c.flux_expression-\n",
    "    combined.reactions.EX_glygn2_c.flux_expression,\n",
    "    direction='min')\n",
    "combined.objective = dual_objective\n",
    "flux_solution = trial.optimize(objective_sense='minimise')\n",
    "# flux_solution = combined.optimize()\n",
    "# co = combined.problem.Constraint(combined.reactions.EX_glc__D.flux_expression, lb=0)\n",
    "# combined.add_cons_vars([co])\n",
    "\n",
    "\n",
    "data_3 = cobra.sampling.sample(combined, 5000, method = \"optgp\", processes = 4)\n"
   ]
  },
  {
   "cell_type": "code",
   "execution_count": 29,
   "metadata": {},
   "outputs": [
    {
     "name": "stdout",
     "output_type": "stream",
     "text": [
      "Read LP format model from file C:\\Users\\sicil\\AppData\\Local\\Temp\\tmpvbqpw_lm.lp\n",
      "Reading time = 0.01 seconds\n",
      ": 179 rows, 374 columns, 1420 nonzeros\n",
      "Read LP format model from file C:\\Users\\sicil\\AppData\\Local\\Temp\\tmpm1x7_9gp.lp\n",
      "Reading time = 0.01 seconds\n",
      ": 179 rows, 374 columns, 1420 nonzeros\n"
     ]
    }
   ],
   "source": [
    "combined =trial.copy()\n",
    "dual_objective = combined.problem.Objective(\n",
    "    +combined.reactions.EX_glc__D_c.flux_expression-\n",
    "    combined.reactions.EX_glygn2_c.flux_expression,\n",
    "    direction='max')\n",
    "combined.objective = dual_objective\n",
    "flux_solution = trial.optimize(objective_sense='minimise')\n",
    "# flux_solution = combined.optimize()\n",
    "# co = combined.problem.Constraint(combined.reactions.EX_glc__D.flux_expression, lb=0)\n",
    "# combined.add_cons_vars([co])\n",
    "\n",
    "\n",
    "data_4 = cobra.sampling.sample(combined, 5000, method = \"optgp\", processes = 4)\n"
   ]
  },
  {
   "cell_type": "code",
   "execution_count": 30,
   "metadata": {},
   "outputs": [
    {
     "data": {
      "text/html": [
       "<div>\n",
       "<style scoped>\n",
       "    .dataframe tbody tr th:only-of-type {\n",
       "        vertical-align: middle;\n",
       "    }\n",
       "\n",
       "    .dataframe tbody tr th {\n",
       "        vertical-align: top;\n",
       "    }\n",
       "\n",
       "    .dataframe thead th {\n",
       "        text-align: right;\n",
       "    }\n",
       "</style>\n",
       "<table border=\"1\" class=\"dataframe\">\n",
       "  <thead>\n",
       "    <tr style=\"text-align: right;\">\n",
       "      <th></th>\n",
       "      <th>mean</th>\n",
       "      <th>stdev</th>\n",
       "    </tr>\n",
       "    <tr>\n",
       "      <th>reaction</th>\n",
       "      <th></th>\n",
       "      <th></th>\n",
       "    </tr>\n",
       "  </thead>\n",
       "  <tbody>\n",
       "    <tr>\n",
       "      <th>CSm</th>\n",
       "      <td>0.253582</td>\n",
       "      <td>0.058548</td>\n",
       "    </tr>\n",
       "    <tr>\n",
       "      <th>ACONTm</th>\n",
       "      <td>0.212640</td>\n",
       "      <td>0.059249</td>\n",
       "    </tr>\n",
       "    <tr>\n",
       "      <th>ICDHxm</th>\n",
       "      <td>0.212640</td>\n",
       "      <td>0.059249</td>\n",
       "    </tr>\n",
       "    <tr>\n",
       "      <th>AKGDm</th>\n",
       "      <td>0.213855</td>\n",
       "      <td>0.062586</td>\n",
       "    </tr>\n",
       "    <tr>\n",
       "      <th>SUCOASm</th>\n",
       "      <td>0.149192</td>\n",
       "      <td>0.317822</td>\n",
       "    </tr>\n",
       "    <tr>\n",
       "      <th>...</th>\n",
       "      <td>...</td>\n",
       "      <td>...</td>\n",
       "    </tr>\n",
       "    <tr>\n",
       "      <th>EX_nh4_c</th>\n",
       "      <td>0.008528</td>\n",
       "      <td>0.031488</td>\n",
       "    </tr>\n",
       "    <tr>\n",
       "      <th>EX_so3_c</th>\n",
       "      <td>0.000000</td>\n",
       "      <td>0.000000</td>\n",
       "    </tr>\n",
       "    <tr>\n",
       "      <th>EX_etoh_c</th>\n",
       "      <td>0.000000</td>\n",
       "      <td>0.000000</td>\n",
       "    </tr>\n",
       "    <tr>\n",
       "      <th>EX_glyc_3octa_c</th>\n",
       "      <td>0.000000</td>\n",
       "      <td>0.000000</td>\n",
       "    </tr>\n",
       "    <tr>\n",
       "      <th>EX_fru_c</th>\n",
       "      <td>0.000000</td>\n",
       "      <td>0.000000</td>\n",
       "    </tr>\n",
       "  </tbody>\n",
       "</table>\n",
       "<p>187 rows × 2 columns</p>\n",
       "</div>"
      ],
      "text/plain": [
       "                     mean     stdev\n",
       "reaction                           \n",
       "CSm              0.253582  0.058548\n",
       "ACONTm           0.212640  0.059249\n",
       "ICDHxm           0.212640  0.059249\n",
       "AKGDm            0.213855  0.062586\n",
       "SUCOASm          0.149192  0.317822\n",
       "...                   ...       ...\n",
       "EX_nh4_c         0.008528  0.031488\n",
       "EX_so3_c         0.000000  0.000000\n",
       "EX_etoh_c        0.000000  0.000000\n",
       "EX_glyc_3octa_c  0.000000  0.000000\n",
       "EX_fru_c         0.000000  0.000000\n",
       "\n",
       "[187 rows x 2 columns]"
      ]
     },
     "execution_count": 30,
     "metadata": {},
     "output_type": "execute_result"
    }
   ],
   "source": [
    "# df\n",
    "mean_flux_1 = pd.DataFrame( columns =[\"reaction\",\"mean\", \"stdev\"])\n",
    "# means =[]\n",
    "# std=[]\n",
    "for i in data_1.columns:\n",
    "    mean = data_1[i].mean()\n",
    "    # print(index)\n",
    "    # means.append(index)\n",
    "    std = data_1[i].std()\n",
    "    mean_flux_1.loc[len(mean_flux_1.index)] = [i, mean, std]\n",
    "# mean_flux[\"Mean_gluco\"] = means\n",
    "# mean_flux[\"ST_dev_gluco\"] = std\n",
    "mean_flux = mean_flux_1.set_index(\"reaction\")\n",
    "mean_flux"
   ]
  },
  {
   "cell_type": "code",
   "execution_count": 31,
   "metadata": {},
   "outputs": [],
   "source": [
    "x_position = mean_flux.loc[\"PFK\", \"mean\"]"
   ]
  },
  {
   "cell_type": "code",
   "execution_count": 32,
   "metadata": {},
   "outputs": [],
   "source": [
    "# importing libraries\n",
    "import matplotlib.pyplot as plt\n",
    "import seaborn as sns"
   ]
  },
  {
   "cell_type": "code",
   "execution_count": 33,
   "metadata": {},
   "outputs": [
    {
     "data": {
      "image/png": "[encoded data removed]",
      "text/plain": [
       "<Figure size 432x288 with 1 Axes>"
      ]
     },
     "metadata": {
      "needs_background": "light"
     },
     "output_type": "display_data"
    }
   ],
   "source": [
    "plt.hist(data_1['PFK'], \n",
    "         alpha=0.25, # the transaparency parameter\n",
    "         label='state_1_PFK')\n",
    "plt.axvline(x_position)\n",
    "  \n",
    "plt.hist(data_2['PFK'], \n",
    "         alpha=0.25, # the transaparency parameter\n",
    "         label='state_2_PFK')\n",
    "\n",
    "plt.hist(data_3['PFK'], \n",
    "         alpha=0.25, # the transaparency parameter\n",
    "         label='state_3_PFK')        \n",
    "\n",
    "plt.hist(data_4['PFK'], \n",
    "         alpha=0.25, # the transaparency parameter\n",
    "         label='state_4_PFK')        \n",
    "  \n",
    "plt.legend(loc='upper right')\n",
    "plt.title('Overlapping with both alpha=0.5')\n",
    "plt.show()"
   ]
  },
  {
   "cell_type": "code",
   "execution_count": 39,
   "metadata": {},
   "outputs": [
    {
     "data": {
      "image/png": "[encoded data removed]",
      "text/plain": [
       "<Figure size 432x288 with 1 Axes>"
      ]
     },
     "metadata": {
      "needs_background": "light"
     },
     "output_type": "display_data"
    },
    {
     "data": {
      "image/png": "[encoded data removed]",
      "text/plain": [
       "<Figure size 432x288 with 1 Axes>"
      ]
     },
     "metadata": {
      "needs_background": "light"
     },
     "output_type": "display_data"
    },
    {
     "data": {
      "image/png": "[encoded data removed]",
      "text/plain": [
       "<Figure size 432x288 with 1 Axes>"
      ]
     },
     "metadata": {
      "needs_background": "light"
     },
     "output_type": "display_data"
    },
    {
     "data": {
      "image/png": "[encoded data removed]",
      "text/plain": [
       "<Figure size 432x288 with 1 Axes>"
      ]
     },
     "metadata": {
      "needs_background": "light"
     },
     "output_type": "display_data"
    },
    {
     "data": {
      "image/png": "[encoded data removed]",
      "text/plain": [
       "<Figure size 432x288 with 1 Axes>"
      ]
     },
     "metadata": {
      "needs_background": "light"
     },
     "output_type": "display_data"
    },
    {
     "data": {
      "image/png": "[encoded data removed]",
      "text/plain": [
       "<Figure size 432x288 with 1 Axes>"
      ]
     },
     "metadata": {
      "needs_background": "light"
     },
     "output_type": "display_data"
    }
   ],
   "source": [
    "list_rxn =['PFK', 'FBP', \"PGI\", \"HEX1\", \"EX_glc__D_c\", \"EX_glygn2_c\"]\n",
    "#  GAPDH, ENO, FBA, PGI, PGMT\n",
    "for i in list_rxn:\n",
    "    plt.hist(data_1[i], \n",
    "         alpha=0.25, # the transaparency parameter\n",
    "         label='state_1')\n",
    "#     x_position = mean_flux.loc[i, \"mean\"]\n",
    "  \n",
    "    plt.hist(data_2[i], \n",
    "            alpha=0.25, # the transaparency parameter\n",
    "            label='state_2')\n",
    "    x_position = mean_flux.loc[i, \"mean\"]\n",
    "\n",
    "    plt.hist(data_3[i], \n",
    "            alpha=0.25, # the transaparency parameter\n",
    "            label='state_3')     \n",
    "    x_position = mean_flux.loc[i, \"mean\"]\n",
    "\n",
    "    plt.hist(data_4[i], \n",
    "            alpha=0.25, # the transaparency parameter\n",
    "            label='state_4')        \n",
    "    \n",
    "    plt.legend(loc='upper right')\n",
    "    plt.title('Overlapping histograms of '+str(i))\n",
    "    plt.show()"
   ]
  },
  {
   "cell_type": "code",
   "execution_count": 35,
   "metadata": {},
   "outputs": [
    {
     "ename": "NameError",
     "evalue": "name 'df' is not defined",
     "output_type": "error",
     "traceback": [
      "\u001b[1;31m---------------------------------------------------------------------------\u001b[0m",
      "\u001b[1;31mNameError\u001b[0m                                 Traceback (most recent call last)",
      "\u001b[1;32m~\\AppData\\Local\\Temp\\ipykernel_16484\\2834488163.py\u001b[0m in \u001b[0;36m<module>\u001b[1;34m\u001b[0m\n\u001b[0;32m      1\u001b[0m \u001b[0mfig\u001b[0m\u001b[1;33m,\u001b[0m \u001b[0maxes\u001b[0m \u001b[1;33m=\u001b[0m \u001b[0mplt\u001b[0m\u001b[1;33m.\u001b[0m\u001b[0msubplots\u001b[0m\u001b[1;33m(\u001b[0m\u001b[1;36m1\u001b[0m\u001b[1;33m,\u001b[0m \u001b[1;36m2\u001b[0m\u001b[1;33m,\u001b[0m \u001b[0mfigsize\u001b[0m\u001b[1;33m=\u001b[0m\u001b[1;33m(\u001b[0m\u001b[1;36m10\u001b[0m\u001b[1;33m,\u001b[0m \u001b[1;36m5\u001b[0m\u001b[1;33m)\u001b[0m\u001b[1;33m,\u001b[0m \u001b[0msharey\u001b[0m\u001b[1;33m=\u001b[0m\u001b[1;32mTrue\u001b[0m\u001b[1;33m)\u001b[0m\u001b[1;33m\u001b[0m\u001b[1;33m\u001b[0m\u001b[0m\n\u001b[0;32m      2\u001b[0m \u001b[0max\u001b[0m \u001b[1;33m=\u001b[0m \u001b[0maxes\u001b[0m\u001b[1;33m[\u001b[0m\u001b[1;36m0\u001b[0m\u001b[1;33m]\u001b[0m\u001b[1;33m\u001b[0m\u001b[1;33m\u001b[0m\u001b[0m\n\u001b[1;32m----> 3\u001b[1;33m \u001b[0mdf\u001b[0m\u001b[1;33m[\u001b[0m\u001b[1;34m'GLGNS1'\u001b[0m\u001b[1;33m]\u001b[0m\u001b[1;33m.\u001b[0m\u001b[0mhist\u001b[0m\u001b[1;33m(\u001b[0m\u001b[0max\u001b[0m\u001b[1;33m=\u001b[0m\u001b[0max\u001b[0m\u001b[1;33m)\u001b[0m\u001b[1;33m\u001b[0m\u001b[1;33m\u001b[0m\u001b[0m\n\u001b[0m\u001b[0;32m      4\u001b[0m \u001b[0max\u001b[0m\u001b[1;33m.\u001b[0m\u001b[0mset_xlabel\u001b[0m\u001b[1;33m(\u001b[0m\u001b[1;34m'GLGNS1 flux'\u001b[0m\u001b[1;33m)\u001b[0m\u001b[1;33m\u001b[0m\u001b[1;33m\u001b[0m\u001b[0m\n\u001b[0;32m      5\u001b[0m \u001b[0max\u001b[0m\u001b[1;33m.\u001b[0m\u001b[0mset_ylabel\u001b[0m\u001b[1;33m(\u001b[0m\u001b[1;34m'Number of solutions'\u001b[0m\u001b[1;33m)\u001b[0m\u001b[1;33m\u001b[0m\u001b[1;33m\u001b[0m\u001b[0m\n",
      "\u001b[1;31mNameError\u001b[0m: name 'df' is not defined"
     ]
    },
    {
     "data": {
      "image/png": "[encoded data removed]",
      "text/plain": [
       "<Figure size 720x360 with 2 Axes>"
      ]
     },
     "metadata": {
      "needs_background": "light"
     },
     "output_type": "display_data"
    }
   ],
   "source": [
    "fig, axes = plt.subplots(1, 2, figsize=(10, 5), sharey=True)\n",
    "ax = axes[0]\n",
    "df['GLGNS1'].hist(ax=ax)\n",
    "ax.set_xlabel('GLGNS1 flux')\n",
    "ax.set_ylabel('Number of solutions')\n",
    "\n",
    "ax = axes[1]\n",
    "ax = df['GLPASE1'].hist(ax=ax)\n",
    "ax.set_xlabel('GLPASE1 flux')"
   ]
  },
  {
   "cell_type": "code",
   "execution_count": null,
   "metadata": {},
   "outputs": [],
   "source": [
    "# df\n",
    "mean_flux = pd.DataFrame( columns =[\"reaction\",\"mean\", \"stdev\"])\n",
    "# means =[]\n",
    "# std=[]\n",
    "for i in df.columns:\n",
    "    mean = df[i].mean()\n",
    "    # print(index)\n",
    "    # means.append(index)\n",
    "    std = df[i].std()\n",
    "    mean_flux.loc[len(mean_flux.index)] = [i, mean, std]\n",
    "# mean_flux[\"Mean_gluco\"] = means\n",
    "# mean_flux[\"ST_dev_gluco\"] = std\n",
    "mean_flux"
   ]
  },
  {
   "cell_type": "code",
   "execution_count": null,
   "metadata": {},
   "outputs": [],
   "source": [
    "from tqdm import tqdm\n",
    "from scipy.integrate import solve_ivp"
   ]
  },
  {
   "cell_type": "markdown",
   "metadata": {},
   "source": [
    "# dFBA analysis"
   ]
  },
  {
   "cell_type": "code",
   "execution_count": null,
   "metadata": {},
   "outputs": [],
   "source": [
    "def add_dynamic_bounds(trial, y):\n",
    "    \"\"\"Use external concentrations to bound the uptake flux of glucose.\"\"\"\n",
    "    atpm, glucose = y  # expand the boundary species\n",
    "    glucose_max_import = -10 * glucose / (5 + glucose)\n",
    "    trial.reactions.EX_glc__D_c.lower_bound = glucose_max_import\n",
    "\n",
    "\n",
    "def dynamic_system(t, y):\n",
    "    \"\"\"Calculate the time derivative of external species.\"\"\"\n",
    "\n",
    "    atpm, glucose = y  # expand the boundary species\n",
    "\n",
    "    # Calculate the specific exchanges fluxes at the given external concentrations.\n",
    "    with trial:\n",
    "        add_dynamic_bounds(trial, y)\n",
    "\n",
    "        cobra.util.add_lp_feasibility(trial)\n",
    "        feasibility = cobra.util.fix_objective_as_constraint(trial)\n",
    "        lex_constraints = cobra.util.add_lexicographic_constraints(\n",
    "            trial, ['EX_glygn2_c', 'EX_glc__D_c'], ['max', 'max'])\n",
    "# try max and mim \n",
    "    # Since the calculated fluxes are specific rates, we multiply them by the\n",
    "    # biomass concentration to get the bulk exchange rates.\n",
    "    fluxes = lex_constraints.values\n",
    "    # fluxes *= atpm\n",
    "\n",
    "    # This implementation is **not** efficient, so I display the current\n",
    "    # simulation time using a progress bar.\n",
    "    if dynamic_system.pbar is not None:\n",
    "        dynamic_system.pbar.update(1)\n",
    "        dynamic_system.pbar.set_description('t = {:.3f}'.format(t))\n",
    "\n",
    "    return fluxes\n",
    "\n",
    "dynamic_system.pbar = None\n",
    "\n",
    "\n",
    "def infeasible_event(t, y):\n",
    "    \"\"\"\n",
    "    Determine solution feasibility.\n",
    "\n",
    "    Avoiding infeasible solutions is handled by solve_ivp's built-in event detection.\n",
    "    This function re-solves the LP to determine whether or not the solution is feasible\n",
    "    (and if not, how far it is from feasibility). When the sign of this function changes\n",
    "    from -epsilon to positive, we know the solution is no longer feasible.\n",
    "\n",
    "    \"\"\"\n",
    "\n",
    "    with trial:\n",
    "\n",
    "        add_dynamic_bounds(trial, y)\n",
    "\n",
    "        cobra.util.add_lp_feasibility(trial)\n",
    "        feasibility = cobra.util.fix_objective_as_constraint(trial)\n",
    "\n",
    "    return feasibility - infeasible_event.epsilon\n",
    "\n",
    "infeasible_event.epsilon = 1E-6\n",
    "infeasible_event.direction = 1\n",
    "infeasible_event.terminal = True"
   ]
  },
  {
   "cell_type": "code",
   "execution_count": null,
   "metadata": {},
   "outputs": [],
   "source": [
    "ts = np.linspace(0, 15, 100)  # Desired integration resolution and interval\n",
    "y0 = [0.1, 10]\n",
    "\n",
    "with tqdm() as pbar:\n",
    "    dynamic_system.pbar = pbar\n",
    "\n",
    "    sol = solve_ivp(\n",
    "        fun=dynamic_system,\n",
    "        events=[infeasible_event],\n",
    "        t_span=(ts.min(), ts.max()),\n",
    "        y0=y0,\n",
    "        t_eval=ts,\n",
    "        rtol=1e-6,\n",
    "        atol=1e-8,\n",
    "        method='BDF'\n",
    "    )"
   ]
  },
  {
   "cell_type": "code",
   "execution_count": null,
   "metadata": {},
   "outputs": [],
   "source": [
    "ax = plt.subplot(111)\n",
    "ax.plot(sol.t, sol.y.T[:, 0])\n",
    "ax2 = plt.twinx(ax)\n",
    "ax2.plot(sol.t, sol.y.T[:, 1], color='r')\n",
    "\n",
    "ax.set_ylabel('Glycogen', color='b')\n",
    "ax2.set_ylabel('Glucose', color='r')"
   ]
  },
  {
   "cell_type": "code",
   "execution_count": null,
   "metadata": {},
   "outputs": [],
   "source": []
  },
  {
   "cell_type": "markdown",
   "metadata": {},
   "source": [
    "### Making Df of metabolites and reactions, exporting them, and importing to form MASS model"
   ]
  },
  {
   "cell_type": "code",
   "execution_count": null,
   "metadata": {},
   "outputs": [],
   "source": [
    "from cobra_dict import metabolite_to_dict as metabolite_to_dict\n",
    "from cobra_dict import reaction_to_dict as reaction_to_dict"
   ]
  },
  {
   "cell_type": "code",
   "execution_count": null,
   "metadata": {},
   "outputs": [],
   "source": [
    "met_df=pd.DataFrame()\n",
    "for met in trial.metabolites:\n",
    "    cobra_met= trial.metabolites.get_by_id(met.id)\n",
    "    m=metabolite_to_dict(cobra_met)\n",
    "    df_2=pd.DataFrame.from_dict(m,orient='index')\n",
    "    df_2=df_2.T\n",
    "    met_df=pd.concat([met_df, df_2])\n",
    "met_df=met_df.set_index('id')\n",
    "met_df"
   ]
  },
  {
   "cell_type": "code",
   "execution_count": null,
   "metadata": {},
   "outputs": [],
   "source": [
    "csv_met_cobra = os.path.join(data_dir,\"core_cobra_met.csv\")\n",
    "met_df.to_csv(csv_met_cobra)"
   ]
  },
  {
   "cell_type": "code",
   "execution_count": null,
   "metadata": {},
   "outputs": [],
   "source": [
    "rxn_df=pd.DataFrame()\n",
    "for rxn in trial.reactions:\n",
    "    cobra_rxn= trial.reactions.get_by_id(rxn.id)\n",
    "    r=reaction_to_dict(cobra_rxn)\n",
    "#     print(r)\n",
    "    df=pd.DataFrame.from_dict(r,orient='index')\n",
    "    df=df.T\n",
    "    rxn_df= pd.concat([rxn_df, df])\n",
    "rxn_df=rxn_df.set_index('id')\n",
    "# rxn_df"
   ]
  },
  {
   "cell_type": "code",
   "execution_count": null,
   "metadata": {},
   "outputs": [],
   "source": [
    "json_rxn_cobra = os.path.join(data_dir,\"core_cobra_rxn.json\")\n",
    "rxn_df.to_json(json_rxn_cobra,orient=\"index\")"
   ]
  },
  {
   "cell_type": "markdown",
   "metadata": {},
   "source": [
    "## Making MASS model of glycolysis"
   ]
  },
  {
   "cell_type": "code",
   "execution_count": null,
   "metadata": {},
   "outputs": [],
   "source": [
    "liver= MassModel(\"Core_Model\", array_type='DataFrame', dtype=np.int64)"
   ]
  },
  {
   "cell_type": "markdown",
   "metadata": {},
   "source": [
    "#### Add the pathway metabolites and their information to a new MASS model from COBRA model"
   ]
  },
  {
   "cell_type": "code",
   "execution_count": null,
   "metadata": {},
   "outputs": [],
   "source": [
    "# making dataframe of metabolites\n",
    "import json\n",
    "met_csv_df = pd.read_csv(csv_met_cobra,index_col=\"id\")\n",
    "mass_metabolite_info=met_csv_df.to_dict(orient='index')\n",
    "\n",
    "# Loading reaction data as JSON file to maintain data types as dictionaries \n",
    "\n",
    "with open(json_rxn_cobra) as json_file:\n",
    "    mass_rxn_data = json.load(json_file)"
   ]
  },
  {
   "cell_type": "code",
   "execution_count": null,
   "metadata": {},
   "outputs": [],
   "source": [
    "#  Add all the remaining metabolites involved in the pathway\n",
    "for met_id, info in mass_metabolite_info.items():\n",
    "    met = MassMetabolite(met_id, name=info['name'], formula=info['formula'], \n",
    "                           charge=info['charge'], compartment=info['compartment'])\n",
    "    # print(met.compartment)\n",
    "    liver.add_metabolites(met)"
   ]
  },
  {
   "cell_type": "code",
   "execution_count": null,
   "metadata": {},
   "outputs": [],
   "source": [
    "for reaction, info in mass_rxn_data.items():\n",
    "    reaction_obj = MassReaction(reaction)\n",
    "    reaction_obj.id = reaction\n",
    "    reaction= reaction_obj.id\n",
    "    reaction_obj.lower_bound = info['lower_bound']\n",
    "    reaction_obj.upper_bound = info['upper_bound']\n",
    "    reaction_obj.name = info['name']\n",
    "    liver.add_reactions(reaction_obj)\n",
    "    temp=info['metabolites']\n",
    "    reaction_obj.add_metabolites(temp)\n",
    "    # print(reaction)"
   ]
  },
  {
   "cell_type": "code",
   "execution_count": null,
   "metadata": {},
   "outputs": [],
   "source": [
    "liver.reactions.PGK.reverse_stoichiometry(inplace=True)\n",
    "liver.reactions.PGM.reverse_stoichiometry(inplace=True)"
   ]
  },
  {
   "cell_type": "markdown",
   "metadata": {},
   "source": [
    "## Setting initial conditions"
   ]
  },
  {
   "cell_type": "code",
   "execution_count": null,
   "metadata": {},
   "outputs": [],
   "source": [
    "import csv\n",
    "import openpyxl"
   ]
  },
  {
   "cell_type": "code",
   "execution_count": null,
   "metadata": {},
   "outputs": [],
   "source": [
    "#Function to load data from the excel sheet\n",
    "def load_data(filepath, sheet_name):\n",
    "    \"\"\"Load Liver data from an excel sheet\"\"\"\n",
    "    df = pd.read_excel(engine='openpyxl',\n",
    "        io=filepath,\n",
    "        sheet_name=sheet_name,\n",
    "        index_col=0)\n",
    "    return df"
   ]
  },
  {
   "cell_type": "code",
   "execution_count": null,
   "metadata": {},
   "outputs": [],
   "source": [
    "#Compare Results\n",
    "excel_ic = os.path.join(data_dir,\"Concentrations2.xlsx\")\n",
    "# ic_df = pd.read_csv(csv_ic)\n",
    "# ic_df.set_index()\n",
    "ic_info_all = load_data(\n",
    "    filepath=excel_ic,\n",
    "    sheet_name=\"Concentrations\")\n",
    "ic_info_all.reset_index(level='ID', col_level=1, inplace=True)\n",
    "ic_info_all"
   ]
  },
  {
   "cell_type": "code",
   "execution_count": null,
   "metadata": {},
   "outputs": [],
   "source": [
    "conc_df =pd.DataFrame(ic_info_all.loc[:,[\"ID\",\"Concentration (M)\"]])\n",
    "conc_df.set_index('ID',drop=True,inplace=True)\n",
    "conc_df"
   ]
  },
  {
   "cell_type": "code",
   "execution_count": null,
   "metadata": {},
   "outputs": [],
   "source": [
    "# new_index= []\n",
    "# for i in conc_df.index:\n",
    "#     base = conc_df.index.get_loc(i)\n",
    "#     # print(base)\n",
    "#     # l = len(i)\n",
    "#     # new = i[:l-2]\n",
    "#     # new_index.append(new)\n",
    "#     # print(new)\n",
    "#     # conc_df.index.get_loc(base) = new\n",
    "#     # new_id = i.rpartition(\"_\" + str(met.compartment))[0]\n",
    "\n",
    "# conc_df= conc_df.reset_index(drop=True)\n",
    "# conc_df[\"ID\"] = new_index\n",
    "# conc_df.set_index('ID',drop=True,inplace=True)\n",
    "# conc_df"
   ]
  },
  {
   "cell_type": "code",
   "execution_count": null,
   "metadata": {},
   "outputs": [],
   "source": [
    "print(\"Initial Conditions\\n------------------\")\n",
    "\n",
    "for reaction in liver.reactions:\n",
    "    #Setting inital condition of metabolties from HEPATOKIN  #M \n",
    "    for met in reaction.metabolites:\n",
    "        if met.id in conc_df.index:\n",
    "            mid=met.id\n",
    "            metabolite = reaction.metabolites\n",
    "            ic_value = conc_df.loc[mid,'Concentration (M)']\n",
    "            # print(ic_value)\n",
    "            # row = [mid,ic_value]\n",
    "            # column = [ic_value]\n",
    "            # conc_df.append(row)\n",
    "            met.ic =  ic_value    \n",
    "                    \n",
    "for metabolite, ic_value in liver.initial_conditions.items():\n",
    "    print(\"{0}: {1}\".format(metabolite, ic_value))"
   ]
  },
  {
   "cell_type": "code",
   "execution_count": null,
   "metadata": {},
   "outputs": [],
   "source": [
    "for i in liver.metabolites:\n",
    "    print(i.compartment)"
   ]
  },
  {
   "cell_type": "markdown",
   "metadata": {},
   "source": [
    "### Getting Standard and Physiological Gibbs energies of reactions to get Keq of reactions"
   ]
  },
  {
   "cell_type": "code",
   "execution_count": null,
   "metadata": {},
   "outputs": [],
   "source": [
    "met_list = []\n",
    "liver.boundary_conditions\n",
    "for reaction in liver.boundary_conditions:\n",
    "    print(reaction)"
   ]
  },
  {
   "cell_type": "code",
   "execution_count": null,
   "metadata": {},
   "outputs": [],
   "source": [
    "excluded_reactions=[\"ATPM\", \"NADHM\",\"PYRt2m\",\"PEPtm\"]\n"
   ]
  },
  {
   "cell_type": "code",
   "execution_count": null,
   "metadata": {},
   "outputs": [],
   "source": [
    "for reaction in liver.boundary:\n",
    "    excluded_reactions.append(reaction.id)\n",
    "    reaction.Keq=1    # Setting Keq\n",
    "    print(reaction,reaction.Keq)"
   ]
  },
  {
   "cell_type": "code",
   "execution_count": null,
   "metadata": {},
   "outputs": [],
   "source": [
    "for i in liver.metabolites:\n",
    "    print(i,i.compartment)\n",
    "    # i.compartment = \"cytosol\""
   ]
  },
  {
   "cell_type": "code",
   "execution_count": null,
   "metadata": {},
   "outputs": [],
   "source": [
    "occoa_prod_c nan\n",
    "octa_prod_c nan\n",
    "glyc3p_1octa_c nan\n",
    "glyc3p_2octa_c nan\n",
    "glyc_2octa_c nan\n",
    "glyc_3octa_c nan\n",
    "ACP_c nan\n",
    "malACP_c nan\n",
    "acACP_c nan\n",
    "actACP_c nan\n",
    "3haACP_c nan\n",
    "but2eACP_c nan\n",
    "butACP_c nan\n",
    "3ohexACP_c nan\n",
    "3hhexACP_c nan\n",
    "thex2eACP_c nan\n",
    "hexACP_c nan\n",
    "3ooctACP_c nan\n",
    "3hoctACP_c nan\n",
    "toct2eACP_c nan\n",
    "oc2coa_m nan\n",
    "3hocoa_m nan\n",
    "3oocoa_m nan\n",
    "hxcoa_m m\n",
    "hx2coa_m m\n",
    "3hhcoa_m nan\n",
    "3ohcoa_m nan\n",
    "btcoa_m m\n",
    "b2coa_m m\n",
    "3hbcoa_m m\n",
    "octa_cons_c nan\n"
   ]
  },
  {
   "cell_type": "code",
   "execution_count": null,
   "metadata": {},
   "outputs": [],
   "source": [
    "# Reactions that we don't want to get Keq from equilibrator [exchanges and psuedoreactions] SET THESE MANUALLY\n",
    "# Setting Keq and kf for boundary reactions\n",
    "print(\"Boundary Reactions and Values\\n-----------------------------\")\n",
    "\n",
    "for reaction in liver.boundary:\n",
    "    excluded_reactions.append(reaction.id)\n",
    "    reaction.Keq=1    # Setting Keq\n",
    "    reaction.kf=1e6     # Setting kf\n",
    "    #Setting boundary condition metabolties from ic of metabolite from HEPATOKIN   \n",
    "    for met in reaction.reactants:\n",
    "        if met.id in conc_df.index:\n",
    "            mid=met.id\n",
    "            boundary_met = reaction.boundary_metabolite\n",
    "            bcvalue = conc_df.loc[mid,'Concentration (M)']\n",
    "            liver.boundary_conditions[boundary_met] =  bcvalue\n",
    "            bc_value = liver.boundary_conditions.get(boundary_met)\n",
    "            print(\"{0}\\n{1}: {2}\\n\".format(reaction, boundary_met, bc_value))"
   ]
  },
  {
   "cell_type": "code",
   "execution_count": null,
   "metadata": {},
   "outputs": [],
   "source": [
    "reaction_str= []\n",
    "cc = ComponentContribution()\n",
    "# optional: changing the aqueous environment parameters\n",
    "cc.p_h = Q_(7.4)\n",
    "cc.p_mg = Q_(3.31)\n",
    "cc.ionic_strength = Q_(\"0.144M\")\n",
    "cc.temperature = Q_(\"310.15K\")\n",
    "R = 0.00831446261815324 #R = 0.00831446261815324 kJ/mol\n",
    "from numpy import *\n",
    "Keq_df=pd.DataFrame(columns=[\"Reaction\",\"Keq\"])\n",
    "# Keq_df"
   ]
  },
  {
   "cell_type": "code",
   "execution_count": null,
   "metadata": {},
   "outputs": [],
   "source": [
    "# Getting Keq from equilibrator by forming a reaction string that it can parse through\n",
    "for reaction in liver.reactions:\n",
    "    if reaction.id not in excluded_reactions:\n",
    "        reactants = []\n",
    "        #forming reaction string \n",
    "        for met in reaction.reactants:\n",
    "            id_coeff= reaction.get_coefficient(met)\n",
    "            new_id = met.id\n",
    "            new_id = met.id.rpartition(\"_\" + str(met.compartment))[0] #removing compartment lettes, for eg \"_c\"\n",
    "            if id_coeff == 1 or id_coeff == -1:\n",
    "                new_id = \"bigg.metabolite:\" + new_id\n",
    "            else:\n",
    "                new_id = str(id_coeff) + \" bigg.metabolite:\" + new_id\n",
    "\n",
    "            reactants.append(new_id)   \n",
    "        reactants_string= \" + \".join(reactants)\n",
    "        reactants_string = str(reactants_string + \" = \")\n",
    "\n",
    "        # Forming product string\n",
    "        products = []\n",
    "        for met in reaction.products:\n",
    "            new_id = met.id\n",
    "            new_id = met.id.rpartition(\"_\" + str(met.compartment))[0] # removing compartment lettes, for eg \"_c\"\n",
    "            new_id = \"bigg.metabolite:\" + new_id\n",
    "            products.append(new_id)   \n",
    "        products_string= \" + \".join(products)\n",
    "\n",
    "        #final reaction to parse\n",
    "        reaction_to_parse = reactants_string + products_string         \n",
    "        # print(reaction_to_parse)\n",
    "        rxn_parsed = cc.parse_reaction_formula(reaction_to_parse)\n",
    "        print(reaction.id)\n",
    "\n",
    "        #Getting Gibbs energies\n",
    "        dG0_prime = cc.standard_dg_prime(rxn_parsed)\n",
    "    #         print(f\"ΔG'° = {dG0_prime}\")\n",
    "        dGm_prime = cc.physiological_dg_prime(rxn_parsed)\n",
    "        dG_prime_value_in_kj_per_mol = dGm_prime.value.m_as(\"kJ/mol\")\n",
    "        dG0prime_value_in_kj_per_mol = dG0_prime.value.m_as(\"kJ/mol\")\n",
    "    #     print(f\"ΔG'm = {dG_prime_value_in_kj_per_mol}\")\n",
    "        delG = dG_prime_value_in_kj_per_mol\n",
    "\n",
    "        # Calculating Keq from delG\n",
    "        a = exp(-delG/ (R*310.15)) \n",
    "        reaction.Keq = a\n",
    "        print(f\"Keq = {a}\")\n",
    "#         list_keq=[reaction,a]\n",
    "#         rxn_keq=pd.DataFrame(list_keq)\n",
    "        # df = pd.DataFrame([[reaction,a]], columns=[\"Reaction\",\"Keq\"])\n",
    "        # Keq_df.append(df)\n",
    "\n",
    "# Keq_df    "
   ]
  },
  {
   "cell_type": "code",
   "execution_count": null,
   "metadata": {},
   "outputs": [],
   "source": [
    "liver.reactions.NADHM.Keq=1e6\n",
    "liver.reactions.ATPM.Keq=1e6\n",
    "# liver.reactions.PEPtm.Keq=1\n",
    "# liver.reactions.PYRt2m.Keq=1"
   ]
  },
  {
   "cell_type": "code",
   "execution_count": null,
   "metadata": {},
   "outputs": [],
   "source": [
    "print(\"Equilibrium Constants\\n---------------------\")\n",
    "for reaction in liver.reactions:\n",
    "    print(\"{0}: {1}\".format(reaction.Keq_str, reaction.Keq))"
   ]
  },
  {
   "cell_type": "markdown",
   "metadata": {},
   "source": [
    "##  Set Fluxes"
   ]
  },
  {
   "cell_type": "code",
   "execution_count": null,
   "metadata": {},
   "outputs": [],
   "source": [
    "flux_solution"
   ]
  },
  {
   "cell_type": "code",
   "execution_count": null,
   "metadata": {},
   "outputs": [],
   "source": [
    "flux_solution"
   ]
  },
  {
   "cell_type": "code",
   "execution_count": null,
   "metadata": {},
   "outputs": [],
   "source": [
    "reaction_list=[]\n",
    "for reaction in liver.reactions:\n",
    "    reaction_list.append(reaction.id)\n"
   ]
  },
  {
   "cell_type": "code",
   "execution_count": null,
   "metadata": {},
   "outputs": [],
   "source": [
    "mean_flux"
   ]
  },
  {
   "cell_type": "code",
   "execution_count": null,
   "metadata": {},
   "outputs": [],
   "source": [
    "# mean_flux = mean_flux.T\n",
    "fluxes_mean = mean_flux.drop([\"stdev\"], axis =1)\n",
    "# fluxes_mean\n",
    "fluxes_mean.columns = [''] * len(fluxes_mean.columns)\n",
    "fluxes_mean"
   ]
  },
  {
   "cell_type": "code",
   "execution_count": null,
   "metadata": {},
   "outputs": [],
   "source": [
    "for reaction, flux in fluxes_mean.itertuples():\n",
    "    # print(flux)\n",
    "    reaction = liver.reactions.get_by_id(reaction)\n",
    "    reaction.steady_state_flux = flux * 1278.605 / 1000 # mmol/gdW*hr --> mmol/L * hr ---> mol/L*hr\n",
    "    print(\"{0}: {1}\".format(reaction.flux_symbol_str,\n",
    "                            reaction.steady_state_flux))"
   ]
  },
  {
   "cell_type": "markdown",
   "metadata": {},
   "source": [
    "## Set H2O/H Constants"
   ]
  },
  {
   "cell_type": "code",
   "execution_count": null,
   "metadata": {},
   "outputs": [],
   "source": [
    "# Set concentrations of hydrogen, water as fixed\n",
    "# Assume hydrogen in all compartments are fixed \n",
    "for metabolite in [\n",
    "    \"h\",\n",
    "#     'h_e',\n",
    "# 'h_m',\n",
    "#     'h2o_r','h2o_e',\n",
    "    \"h2o\",\n",
    "#     \"glc__D_e\", \"pi_e\",\n",
    "# 'pi_m',\n",
    "    'pi'\n",
    "                  ]:\n",
    "    metabolite = liver.metabolites.get_by_id(metabolite)\n",
    "    metabolite.fixed = True"
   ]
  },
  {
   "cell_type": "code",
   "execution_count": null,
   "metadata": {},
   "outputs": [],
   "source": [
    "for metabolite in [\n",
    "    'h',\n",
    "# \"h_c\", \n",
    "#     'h_e',\n",
    "\"h2o\",\n",
    "#     'h2o_r','h2o_e' \n",
    "]:\n",
    "    metabolite = liver.metabolites.get_by_id(metabolite)\n",
    "    metabolite.ic = 1 #M"
   ]
  },
  {
   "cell_type": "code",
   "execution_count": null,
   "metadata": {},
   "outputs": [],
   "source": [
    "seed = int(4)\n",
    "n_models = 5000"
   ]
  },
  {
   "cell_type": "code",
   "execution_count": null,
   "metadata": {},
   "outputs": [],
   "source": [
    "conc_solver.setup_sampling_problem(\n",
    "    fixed_conc_bounds=list(liver.fixed),\n",
    "    fixed_Keq_bounds=liver.reactions.list_attr(\"Keq_str\"))\n",
    "for variable in conc_solver.variables:\n",
    "    try:\n",
    "        met = liver.metabolites.get_by_id(variable.name)\n",
    "        variable.lb, variable.ub = np.log([met.ic / 10, met.ic * 10])\n",
    "    except:\n",
    "        pass\n",
    "conc_samples = sample_concentrations(conc_solver, n=n_models,  processes=4, seed=seed)\n",
    "conc_samples.head()\n"
   ]
  },
  {
   "cell_type": "code",
   "execution_count": null,
   "metadata": {},
   "outputs": [],
   "source": [
    "type(conc_samples)"
   ]
  },
  {
   "cell_type": "code",
   "execution_count": null,
   "metadata": {},
   "outputs": [],
   "source": [
    "mean_conc = pd.DataFrame(index = conc_samples.columns)\n",
    "means =[]\n",
    "std=[]\n",
    "for i in conc_samples.columns:\n",
    "    index = conc_samples[i].mean()\n",
    "    # print(index)\n",
    "    means.append(index)\n",
    "    std.append(conc_samples[i].std())\n",
    "mean_conc[\"Mean\"] = means\n",
    "mean_conc[\"ST_dev\"] = std\n",
    "mean_conc"
   ]
  },
  {
   "cell_type": "code",
   "execution_count": null,
   "metadata": {},
   "outputs": [],
   "source": [
    "print(\"Initial Conditions\\n------------------\")\n",
    "\n",
    "for reaction in liver.reactions:\n",
    "    #Setting inital condition of metabolties from HEPATOKIN  #M \n",
    "    for met in reaction.metabolites:\n",
    "        if met.id in mean_conc.index:\n",
    "            mid=met.id\n",
    "            metabolite = reaction.metabolites\n",
    "            ic_value = mean_conc.loc[mid,'Mean']\n",
    "            row = [mid,ic_value]\n",
    "            # column = [ic_value]\n",
    "            # conc_df.append(row)\n",
    "            met.ic =  ic_value            \n",
    "for metabolite, ic_value in liver.initial_conditions.items():\n",
    "    print(\"{0}: {1}\".format(metabolite, ic_value))"
   ]
  },
  {
   "cell_type": "code",
   "execution_count": null,
   "metadata": {},
   "outputs": [],
   "source": [
    "# Keq_data = pd.read_csv(\"./data/analysis_data/equilibrium_constants.csv\", index_col=0)\n",
    "\n",
    "# Keq_data_comparison_fig, ax = plt.subplots(nrows=1, ncols=1, figsize=(5, 5))\n",
    "# plot_comparison(\n",
    "#     x=Keq_data[\"Initial\"], y=Keq_data[\"Adjusted\"], ax=ax,\n",
    "#     title=\"Equilibrium Constants comparison\",\n",
    "#     legend=\"right outside\", plot_function=\"loglog\",\n",
    "#     xlim=(1e-5, 1e5), ylim=(1e-5, 1e5), \n",
    "#     xy_line=True,\n",
    "#     xy_legend=\"best\", xlabel=\"Initial\", ylabel=\"Adjusted\")\n",
    "\n",
    "# Keq_data_comparison_fig.tight_layout()"
   ]
  },
  {
   "cell_type": "code",
   "execution_count": null,
   "metadata": {},
   "outputs": [],
   "source": [
    "Boundary= [\n",
    "    \"ATPM\",\n",
    "    \n",
    "#     'EX_nad_c',\n",
    "    # \"EX_lac__L_c\"\n",
    "]\n",
    "for x in Boundary:\n",
    "    a=liver.reactions.get_by_id(x)\n",
    "    a.kf=1e6"
   ]
  },
  {
   "cell_type": "code",
   "execution_count": null,
   "metadata": {},
   "outputs": [],
   "source": []
  },
  {
   "cell_type": "code",
   "execution_count": null,
   "metadata": {},
   "outputs": [],
   "source": [
    "#Formulate QP minimization list for concentrations\n",
    "conc_solver = ConcSolver(\n",
    "    liver, \n",
    "    excluded_metabolites=[\n",
    "    \"h\",'h2o',\n",
    "    \n",
    "#         'h_e',\n",
    "#  'h_m',\n",
    "#     'h2o_r','h2o_e',\n",
    "        'pi',\n",
    "    # 'pi_c',\n",
    "#     \"pi_e\",\n",
    "\"glc__D\",\n",
    "#     \"glc__D_e\", \"lac__L_e\",\n",
    "#     \"pyr_e\"\n",
    "    ], \n",
    "    excluded_reactions=[\n",
    "        # \"Ht\", \"H2Ot\", \"H2Oter\",'PIter','PIt',\n",
    "#     'G6Pter','GLCter','GLCt1',\n",
    "'PYRt2m','PEPtm',\n",
    "'NADHM','ATPM',\n",
    "'CO2tm', 'ATPtm', 'Htm','PIt2m'\n",
    "    # 'L_LACt2r','PYRt2'\n",
    "    ],\n",
    "\n",
    "    constraint_buffer=1)\n",
    "\n",
    "conc_solver.setup_feasible_qp_problem(\n",
    "fixed_conc_bounds=list(liver.fixed))\n",
    "# fixed_Keq_bounds=liver.reactions.list_attr(\"Keq_str\")\n",
    "    \n",
    "#assumption: provide uncertainity to allow for a variance for the Keqs rather than staying fixed\n",
    "#conc_solver.setup_feasible_qp_problem(Keq_percent_deviation=0.1)\n",
    "\n",
    "conc_solution = conc_solver.optimize()\n",
    "conc_solution"
   ]
  },
  {
   "cell_type": "code",
   "execution_count": null,
   "metadata": {},
   "outputs": [],
   "source": [
    "conc_comparison_fig, ax = plt.subplots(nrows=1, ncols=1,\n",
    "                                       figsize=(5, 5))\n",
    "\n",
    "plot_comparison(\n",
    "    x=conc_df[\"Concentration (M)\"], y=conc_solution,\n",
    "    compare=\"concentrations\",\n",
    "    observable=[mid for mid in conc_df.index], ax=ax,\n",
    "    legend=\"right outside\", plot_function=\"loglog\", \n",
    "    xlim=(1e-6,0.02), ylim=(1e-6,1e-1),\n",
    "    xy_line=True,\n",
    "    xy_legend=\"best\", xlabel=\"Initial [mol/L]\", ylabel=\"Adjusted [mol/L]\")\n",
    "\n",
    "conc_comparison_fig.tight_layout()\n",
    "update_model_with_concentration_solution(\n",
    "    liver, conc_solution, concentrations=True, inplace=True)"
   ]
  },
  {
   "cell_type": "code",
   "execution_count": null,
   "metadata": {},
   "outputs": [],
   "source": [
    "liver.calculate_PERCs(fluxes={\n",
    "                r: v for r, v in liver.steady_state_fluxes.items()\n",
    "                if not (r.boundary  \n",
    "                       )\n",
    "}, update_reactions=True)\n",
    "# print(percs)                      \n",
    "\n",
    "print(\"Forward Rate Constants\\n----------------------\")\n",
    "for reaction in liver.reactions:\n",
    "    print(\"{0}: {1:.6f}\".format(reaction.kf_str, reaction.kf))"
   ]
  },
  {
   "cell_type": "code",
   "execution_count": null,
   "metadata": {},
   "outputs": [],
   "source": [
    "#Function to add underscore in front of metabolite identifiers which start with a number\n",
    "## fix this only after getting Keq from equlibrator because bigg doesn't have _13dpg for example\n",
    "def prefix_number_id(id_str):\n",
    "    \"\"\"Prefix identifiers that start with numbers.\"\"\"\n",
    "    if re.match(r\"^\\d\", id_str):\n",
    "        id_str = \"_\" + id_str\n",
    "    return id_str"
   ]
  },
  {
   "cell_type": "code",
   "execution_count": null,
   "metadata": {},
   "outputs": [],
   "source": [
    "#Loop to edit the names using \"prefix_number_id\" function defined earlier\n",
    "for metabolite in liver.metabolites:\n",
    "    new_met_id = prefix_number_id(metabolite.id)\n",
    "    metabolite.id = new_met_id\n",
    "liver.repair()"
   ]
  },
  {
   "cell_type": "code",
   "execution_count": null,
   "metadata": {},
   "outputs": [],
   "source": [
    "qcqa_model(liver, parameters=True, concentrations=True,\n",
    "           fluxes=True, superfluous=True, elemental=True)"
   ]
  },
  {
   "cell_type": "code",
   "execution_count": null,
   "metadata": {},
   "outputs": [],
   "source": [
    "conc_solution.concentrations"
   ]
  },
  {
   "cell_type": "code",
   "execution_count": null,
   "metadata": {},
   "outputs": [],
   "source": [
    "liver.boundary_conditions['co2_b']=0.657953 ##M\n",
    "liver.boundary_conditions['gdp_b']=0.657953 ##M\n",
    "liver.boundary_conditions['gtp_b']=1.519864 ##M\n",
    "liver.boundary_conditions['h2o_b']=1 ##M\n",
    "liver.boundary_conditions['h_b']=1 ##M\n",
    "liver.boundary_conditions['hco3_b']=0.001827 ##M"
   ]
  },
  {
   "cell_type": "code",
   "execution_count": null,
   "metadata": {},
   "outputs": [],
   "source": [
    "# Setup simulation object\n",
    "simG=Simulation(liver, verbose=True)\n",
    "# Simulate from 0 to 1000 with 10001 points in the output\n",
    "conc_sol, flux_sol = simG.simulate(liver, time=(0, 1e8))\n",
    "# Quickly render and display time profiles\n",
    "conc_sol.view_time_profile()"
   ]
  },
  {
   "cell_type": "code",
   "execution_count": null,
   "metadata": {},
   "outputs": [],
   "source": [
    "# Loading reaction data as JSON file to maintain data types as dictionaries \n",
    "model_json = os.path.join(model_dir,\"Gly_Gluco_no_cmpt.json\")\n",
    "json.save_json_model(mass_model=liver, filename=model_json)"
   ]
  },
  {
   "cell_type": "code",
   "execution_count": null,
   "metadata": {},
   "outputs": [],
   "source": []
  },
  {
   "cell_type": "code",
   "execution_count": null,
   "metadata": {},
   "outputs": [],
   "source": []
  },
  {
   "cell_type": "code",
   "execution_count": null,
   "metadata": {},
   "outputs": [],
   "source": []
  }
 ],
 "metadata": {
  "interpreter": {
   "hash": "dac1de4d04d521f2478106b8cf0804304a8a54afaab58ac4b602c07888c6e2cc"
  },
  "kernelspec": {
   "display_name": "Python 3.8.12 ('massliver')",
   "language": "python",
   "name": "python3"
  },
  "language_info": {
   "codemirror_mode": {
    "name": "ipython",
    "version": 3
   },
   "file_extension": ".py",
   "mimetype": "text/x-python",
   "name": "python",
   "nbconvert_exporter": "python",
   "pygments_lexer": "ipython3",
   "version": "3.8.12"
  },
  "orig_nbformat": 4
 },
 "nbformat": 4,
 "nbformat_minor": 2
}
