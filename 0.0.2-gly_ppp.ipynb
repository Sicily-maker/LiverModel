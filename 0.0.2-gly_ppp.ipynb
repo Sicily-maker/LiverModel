{
 "cells": [
  {
   "cell_type": "markdown",
   "metadata": {},
   "source": [
    "# Liver Model Construction: Notebook"
   ]
  },
  {
   "cell_type": "code",
   "execution_count": 1,
   "metadata": {},
   "outputs": [
    {
     "name": "stdout",
     "output_type": "stream",
     "text": [
      "MASSpy version: 0.1.6\n"
     ]
    }
   ],
   "source": [
    "import os\n",
    "import re\n",
    "import warnings\n",
    "from cobra.io import *\n",
    "from cobra.io.json import *\n",
    "import escher\n",
    "import mass\n",
    "import numpy as np\n",
    "import pandas as pd\n",
    "import equilibrator_api\n",
    "from equilibrator_api import ComponentContribution, Q_\n",
    "import sympy as sym\n",
    "from cobra import Model, Reaction, Metabolite\n",
    "import cobra.test\n",
    "from os.path import join\n",
    "from mass.util import qcqa, qcqa_model\n",
    "from cobra import DictList\n",
    "from mass import (\n",
    "    MassConfiguration, MassMetabolite, MassModel,\n",
    "    MassReaction, Simulation, UnitDefinition)\n",
    "from mass.io.json import save_json_model as save_json_mass_model\n",
    "from mass.visualization import plot_comparison, plot_time_profile, plot_ensemble_phase_portrait, plot_ensemble_time_profile\n",
    "mass_config = MassConfiguration()\n",
    "mass_config.irreversible_Keq = float(\"inf\")\n",
    "print(\"MASSpy version: {0}\".format(mass.__version__))\n",
    "from six import iteritems\n",
    "import matplotlib.pyplot as plt\n",
    "from mass.thermo import (\n",
    "    ConcSolver, sample_concentrations,\n",
    "    update_model_with_concentration_solution)\n",
    "import cobra_dict as c_d\n",
    "import csv\n",
    "import altair as alt\n",
    "from minspan.minspan import minspan,nnz\n",
    "import sys\n",
    "# from minspan import minspan,nnz"
   ]
  },
  {
   "cell_type": "code",
   "execution_count": 2,
   "metadata": {},
   "outputs": [
    {
     "name": "stdout",
     "output_type": "stream",
     "text": [
      "3.8.12 (default, Oct 12 2021, 03:01:40) [MSC v.1916 64 bit (AMD64)]\n"
     ]
    }
   ],
   "source": [
    "print(sys.version)"
   ]
  },
  {
   "cell_type": "code",
   "execution_count": 3,
   "metadata": {},
   "outputs": [],
   "source": [
    "maps_dir = os.path.abspath(\"maps\")\n",
    "data_dir = os.path.abspath(\"data\")\n",
    "dir = os.path.abspath(\"\")\n",
    "model_dir = os.path.abspath(\"models\")\n",
    "minspan_dir= os.path.abspath(\"minspans_csv\")\n"
   ]
  },
  {
   "cell_type": "markdown",
   "metadata": {},
   "source": [
    "### Getting reactions and metabolite data from RECON 3D"
   ]
  },
  {
   "cell_type": "code",
   "execution_count": 4,
   "metadata": {},
   "outputs": [],
   "source": [
    "# making dataframe of metabolites\n",
    "\n",
    "csv_met = os.path.join(data_dir,\"gly_met_df.csv\")\n",
    "met_csv_df = pd.read_csv(csv_met,index_col=\"id\")\n",
    "metabolite_info=met_csv_df.to_dict(orient='index')\n",
    "\n",
    "\n",
    "\n",
    "# making dataframe of reactions\n",
    "csv_rxn = os.path.join(data_dir,\"gly_reaction_df.csv\")\n",
    "rxn_csv_df = pd.read_csv(csv_rxn,index_col=\"id\") \n",
    "reaction_info = rxn_csv_df.to_dict(orient='index')"
   ]
  },
  {
   "cell_type": "markdown",
   "metadata": {},
   "source": [
    "### Loading cobra model"
   ]
  },
  {
   "cell_type": "code",
   "execution_count": 5,
   "metadata": {},
   "outputs": [
    {
     "name": "stdout",
     "output_type": "stream",
     "text": [
      "Set parameter Username\n",
      "Academic license - for non-commercial use only - expires 2022-04-30\n"
     ]
    }
   ],
   "source": [
    "# Initiate empty model\n",
    "trial= cobra.Model()"
   ]
  },
  {
   "cell_type": "code",
   "execution_count": 6,
   "metadata": {},
   "outputs": [],
   "source": [
    "#  Add all the remaining metabolites involved in the pathway\n",
    "for met_id, info in metabolite_info.items():\n",
    "    met = cobra.Metabolite(met_id, name=info['name'], formula=info['formula'], \n",
    "                           charge=info['charge'], compartment=info['compartment'])\n",
    "    trial.add_metabolites(met)"
   ]
  },
  {
   "cell_type": "code",
   "execution_count": 7,
   "metadata": {},
   "outputs": [],
   "source": [
    "# Loading reaction data as JSON file to maintain data types as dictionaries \n",
    "rxn_json = os.path.join(data_dir,\"gly_reaction_df.json\")\n",
    "with open(rxn_json) as json_file:\n",
    "    rxn_data = json.load(json_file)"
   ]
  },
  {
   "cell_type": "code",
   "execution_count": 8,
   "metadata": {},
   "outputs": [],
   "source": [
    "for reaction, info in rxn_data.items():\n",
    "    reaction_obj = cobra.Reaction(reaction)\n",
    "    reaction_obj.id=reaction\n",
    "    reaction= reaction_obj.id\n",
    "    reaction_obj.lower_bound = info['lower_bound']\n",
    "    reaction_obj.upper_bound = info['upper_bound']\n",
    "    reaction_obj.name = info['name']\n",
    "    trial.add_reaction(reaction_obj)\n",
    "    temp=info['metabolites']\n",
    "    reaction_obj.add_metabolites(temp)\n",
    "    # print(reaction)"
   ]
  },
  {
   "cell_type": "markdown",
   "metadata": {},
   "source": [
    "### Adding PPP"
   ]
  },
  {
   "cell_type": "code",
   "execution_count": 9,
   "metadata": {},
   "outputs": [],
   "source": [
    "# making dataframe of metabolites\n",
    "\n",
    "csv_met = os.path.join(data_dir,\"ppp_met_df.csv\")\n",
    "met_csv_df = pd.read_csv(csv_met,index_col=\"id\")\n",
    "metabolite_info=met_csv_df.to_dict(orient='index')\n",
    "\n",
    "\n",
    "\n",
    "# making dataframe of reactions\n",
    "csv_rxn = os.path.join(data_dir,\"ppp_reaction_df.csv\")\n",
    "rxn_csv_df = pd.read_csv(csv_rxn,index_col=\"id\") \n",
    "reaction_info = rxn_csv_df.to_dict(orient='index')"
   ]
  },
  {
   "cell_type": "code",
   "execution_count": 10,
   "metadata": {},
   "outputs": [],
   "source": [
    "#  Add all the remaining metabolites involved in the pathway\n",
    "for met_id, info in metabolite_info.items():\n",
    "    met = cobra.Metabolite(met_id, name=info['name'], formula=info['formula'], \n",
    "                           charge=info['charge'], compartment=info['compartment'])\n",
    "    trial.add_metabolites(met)"
   ]
  },
  {
   "cell_type": "code",
   "execution_count": 11,
   "metadata": {},
   "outputs": [],
   "source": [
    "# Loading reaction data as JSON file to maintain data types as dictionaries \n",
    "rxn_json = os.path.join(data_dir,\"ppp_reaction_df.json\")\n",
    "with open(rxn_json) as json_file:\n",
    "    rxn_data = json.load(json_file)"
   ]
  },
  {
   "cell_type": "code",
   "execution_count": 12,
   "metadata": {},
   "outputs": [],
   "source": [
    "for reaction, info in rxn_data.items():\n",
    "    reaction_obj = cobra.Reaction(reaction)\n",
    "    reaction_obj.id=reaction\n",
    "    reaction= reaction_obj.id\n",
    "    reaction_obj.lower_bound = info['lower_bound']\n",
    "    reaction_obj.upper_bound = info['upper_bound']\n",
    "    reaction_obj.name = info['name']\n",
    "    trial.add_reaction(reaction_obj)\n",
    "    temp=info['metabolites']\n",
    "    reaction_obj.add_metabolites(temp)\n",
    "    # print(reaction)"
   ]
  },
  {
   "cell_type": "code",
   "execution_count": 13,
   "metadata": {},
   "outputs": [],
   "source": [
    "# g6pase = {'g6p_c': -1, 'h2o_c': -1, 'pi_c': 1, 'glc__D_c':1}\n",
    "# rxn3 = cobra.Reaction('G6PP')\n",
    "# trial.add_reaction(rxn3)\n",
    "# rxn3.add_metabolites(g6pase)\n",
    "# trial.reactions.G6PP.lower_bound=0"
   ]
  },
  {
   "cell_type": "code",
   "execution_count": 14,
   "metadata": {},
   "outputs": [],
   "source": [
    "# #adding DM_NADH \n",
    "# nadhm = {'nadh_c': -1, 'h_c': 1, 'nad_c': 1}\n",
    "# rxn = cobra.Reaction('DM_nadh')\n",
    "# trial.add_reaction(rxn)\n",
    "# rxn.add_metabolites(nadhm)\n",
    "\n",
    "\n",
    "\n",
    "\n",
    "# peptm = {'pep_m': -1, 'pi_c': -1, 'pi_m': 1, 'pep_c':1}\n",
    "# rxn2 = cobra.Reaction('PEPtm')\n",
    "# rxn2.lower_bound=0\n",
    "# trial.add_reaction(rxn2)\n",
    "# rxn2.add_metabolites(peptm)\n",
    "\n",
    "\n",
    "\n",
    "# g6pase = {'g6p_c': -1, 'h2o_c': -1, 'pi_c': 1, 'glc__D_c':1}\n",
    "# rxn3 = cobra.Reaction('G6PP')\n",
    "# trial.add_reaction(rxn3)\n",
    "# rxn3.add_metabolites(g6pase)\n",
    "\n",
    "# htm = {'h_c': -1,  'h_m': 1}\n",
    "# rxn4 = cobra.Reaction('Htm')\n",
    "# trial.add_reaction(rxn4)\n",
    "# rxn4.add_metabolites(htm)\n",
    "\n",
    "# pitm = {'h_i': -1,'pi_c': -1,  'h_m': 1,  'pi_m': 1}\n",
    "# rxn5 = cobra.Reaction('PItm')\n",
    "# trial.add_reaction(rxn5)\n",
    "# rxn5.lower_bound=0\n",
    "# rxn5.add_metabolites(pitm)\n",
    "# # \n",
    "# nadph_c --> h_c + nadp_c\n",
    "nadphm = {'nadph_c': -1, 'h_c': 1,  'nadp_c': 1}\n",
    "rxn6 = cobra.Reaction('NADPHM')\n",
    "trial.add_reaction(rxn6)\n",
    "rxn6.lower_bound=0\n",
    "rxn6.add_metabolites(nadphm)\n"
   ]
  },
  {
   "cell_type": "code",
   "execution_count": 15,
   "metadata": {},
   "outputs": [
    {
     "name": "stdout",
     "output_type": "stream",
     "text": [
      "HEX1 {'charge': -1.0}\n",
      "PGI {}\n",
      "FBP {'charge': 2.0}\n",
      "PFK {'charge': -1.0}\n",
      "FBA {}\n",
      "TPI {}\n",
      "GAPD {'charge': -3.0}\n",
      "PGK {}\n",
      "PGM {}\n",
      "ENO {}\n",
      "PYK {'charge': 1.0}\n",
      "LDH_L {'charge': -1.0}\n",
      "ADK1 {}\n",
      "ATPM {'charge': 1.0}\n",
      "G6PDH2r {'charge': -1.0}\n",
      "TALA {}\n",
      "PGL {'charge': -1.0}\n",
      "GND {}\n",
      "RPE {}\n",
      "RPI {}\n",
      "TKT1 {}\n",
      "TKT2 {}\n",
      "GTHOr {'charge': 1.0}\n",
      "GTHPi {}\n",
      "SPODM {'charge': 2.0}\n",
      "NADPHM {'charge': 1}\n"
     ]
    }
   ],
   "source": [
    "#Mass balance check\n",
    "for r in trial.reactions:\n",
    "    print(r.id,  r.check_mass_balance())"
   ]
  },
  {
   "cell_type": "code",
   "execution_count": 16,
   "metadata": {},
   "outputs": [
    {
     "data": {
      "application/vnd.jupyter.widget-view+json": {
       "model_id": "232e33a5bc9749b088ce29792e420822",
       "version_major": 2,
       "version_minor": 0
      },
      "text/plain": [
       "Builder(highlight_missing=True)"
      ]
     },
     "metadata": {},
     "output_type": "display_data"
    }
   ],
   "source": [
    "escher_builder = escher.Builder(\n",
    "    model=trial,\n",
    "    map_json=os.path.join(\n",
    "        maps_dir,\"gly_ppp_tca.json\"),highlight_missing=True)\n",
    "escher_builder"
   ]
  },
  {
   "cell_type": "code",
   "execution_count": 17,
   "metadata": {},
   "outputs": [],
   "source": [
    "\n",
    "\n",
    "# # Iterate through metabolites\n",
    "# for mid, imbalance in imbalanced_metabolites.iteritems():\n",
    "#     # Ignore balanced metabolites\n",
    "#     if imbalance == 0:\n",
    "#         continue\n",
    "#     # Get metabolite object\n",
    "#     met = new_model.metabolites.get_by_id(mid)\n",
    "\n",
    "#     # Add boundary reactions for imbalanced metabolites\n",
    "#     boundary_type = \"sink\"    \n",
    "#     # Add boundary reaction with imbalance as flux value\n",
    "#     boundary_reaction = new_model.add_boundary(\n",
    "#         mid, boundary_type, boundary_condition=met.ic)\n",
    "\n",
    "#     boundary_reaction.Keq = 1\n",
    "#     if imbalance < 0:\n",
    "#         boundary_reaction.reverse_stoichiometry(inplace=True)\n",
    "#         imbalance = -imbalance"
   ]
  },
  {
   "cell_type": "code",
   "execution_count": 18,
   "metadata": {},
   "outputs": [],
   "source": [
    "for met in ['glc__D_c',\n",
    "#  'pyr_c', \n",
    "'h2o_c', 'h_c', 'pi_c',\n",
    "'lac__L_c',\n",
    "# 'o2_c','co2_c',\n",
    "# 'hco3_m', 'gtp_m',\n",
    "\n",
    "#  'gdp_m',\n",
    "# 'co2_m' ,\n",
    "# 'h_m',\n",
    "# 'pi_m', \n",
    "    'amp_c',\n",
    "    # seems to be very important (adp_m)\n",
    "    # 'adp_m',\n",
    "    # 'atp_m',\n",
    "'co2_c',\n",
    "'o2_c','o2s_c',\n",
    "# 'r5p_c'\n",
    "]:\n",
    "    # DOUBLE CHECK PYRUVATE EXCHANGE\n",
    "    rxn = cobra.Reaction('EX_%s' % met)\n",
    "    \n",
    "    trial.add_reaction(rxn)\n",
    "    rxn.add_metabolites({met: -1})\n",
    "    if met == 'glc__D_c':\n",
    "        rxn.lower_bound = -1 # by convention negative exchange flux = uptake\n",
    "    elif met == 'r5p_c' or met == 'lac__L_c':\n",
    "        rxn.lower_bound = 0\n",
    "    else:\n",
    "        rxn.lower_bound = -1000"
   ]
  },
  {
   "cell_type": "code",
   "execution_count": 19,
   "metadata": {},
   "outputs": [],
   "source": [
    "trial.metabolites.h_c.charge= 1\n",
    "# trial.metabolites.h_m.charge= 1\n",
    "# trial.metabolites.h_i.charge= 1\n",
    "trial.metabolites.pi_c.charge= -2\n",
    "# trial.metabolites.pi_m.charge= -2"
   ]
  },
  {
   "cell_type": "code",
   "execution_count": 20,
   "metadata": {},
   "outputs": [
    {
     "data": {
      "application/vnd.jupyter.widget-view+json": {
       "model_id": "65e5023dd94647d19d89919428b13a32",
       "version_major": 2,
       "version_minor": 0
      },
      "text/plain": [
       "Builder(highlight_missing=True)"
      ]
     },
     "metadata": {},
     "output_type": "display_data"
    }
   ],
   "source": [
    "#View all the reactions that we need build\n",
    "escher_builder = escher.Builder(\n",
    "    model=trial,\n",
    "    map_json=os.path.join(\n",
    "        maps_dir,\"gly_ppp_tca.json\"),highlight_missing=True)\n",
    "escher_builder"
   ]
  },
  {
   "cell_type": "code",
   "execution_count": 21,
   "metadata": {},
   "outputs": [
    {
     "data": {
      "text/html": [
       "<strong><em>Optimal</em> solution with objective value 2.000</strong><br><div>\n",
       "<style scoped>\n",
       "    .dataframe tbody tr th:only-of-type {\n",
       "        vertical-align: middle;\n",
       "    }\n",
       "\n",
       "    .dataframe tbody tr th {\n",
       "        vertical-align: top;\n",
       "    }\n",
       "\n",
       "    .dataframe thead th {\n",
       "        text-align: right;\n",
       "    }\n",
       "</style>\n",
       "<table border=\"1\" class=\"dataframe\">\n",
       "  <thead>\n",
       "    <tr style=\"text-align: right;\">\n",
       "      <th></th>\n",
       "      <th>fluxes</th>\n",
       "      <th>reduced_costs</th>\n",
       "    </tr>\n",
       "  </thead>\n",
       "  <tbody>\n",
       "    <tr>\n",
       "      <th>HEX1</th>\n",
       "      <td>1.0</td>\n",
       "      <td>0.0</td>\n",
       "    </tr>\n",
       "    <tr>\n",
       "      <th>PGI</th>\n",
       "      <td>1.0</td>\n",
       "      <td>0.0</td>\n",
       "    </tr>\n",
       "    <tr>\n",
       "      <th>FBP</th>\n",
       "      <td>0.0</td>\n",
       "      <td>-2.0</td>\n",
       "    </tr>\n",
       "    <tr>\n",
       "      <th>PFK</th>\n",
       "      <td>1.0</td>\n",
       "      <td>0.0</td>\n",
       "    </tr>\n",
       "    <tr>\n",
       "      <th>FBA</th>\n",
       "      <td>1.0</td>\n",
       "      <td>0.0</td>\n",
       "    </tr>\n",
       "    <tr>\n",
       "      <th>...</th>\n",
       "      <td>...</td>\n",
       "      <td>...</td>\n",
       "    </tr>\n",
       "    <tr>\n",
       "      <th>EX_lac__L_c</th>\n",
       "      <td>2.0</td>\n",
       "      <td>0.0</td>\n",
       "    </tr>\n",
       "    <tr>\n",
       "      <th>EX_amp_c</th>\n",
       "      <td>0.0</td>\n",
       "      <td>-0.0</td>\n",
       "    </tr>\n",
       "    <tr>\n",
       "      <th>EX_co2_c</th>\n",
       "      <td>0.0</td>\n",
       "      <td>-0.0</td>\n",
       "    </tr>\n",
       "    <tr>\n",
       "      <th>EX_o2_c</th>\n",
       "      <td>0.0</td>\n",
       "      <td>-0.0</td>\n",
       "    </tr>\n",
       "    <tr>\n",
       "      <th>EX_o2s_c</th>\n",
       "      <td>0.0</td>\n",
       "      <td>-0.0</td>\n",
       "    </tr>\n",
       "  </tbody>\n",
       "</table>\n",
       "<p>35 rows × 2 columns</p>\n",
       "</div>"
      ],
      "text/plain": [
       "<Solution 2.000 at 0x28742c48d00>"
      ]
     },
     "execution_count": 21,
     "metadata": {},
     "output_type": "execute_result"
    }
   ],
   "source": [
    "trial.objective = 'ATPM'\n",
    "flux_solution = trial.optimize()\n",
    "flux_solution"
   ]
  },
  {
   "cell_type": "code",
   "execution_count": 22,
   "metadata": {},
   "outputs": [],
   "source": [
    "#View all the reactions that we need build\n",
    "# escher_builder = escher.Builder(\n",
    "#     model=trial,\n",
    "#     map_json=os.path.join(\n",
    "#         maps_dir,\"gly_ppp_tca.json\"),highlight_missing=True)\n",
    "\n",
    "# escher_builder"
   ]
  },
  {
   "cell_type": "code",
   "execution_count": 23,
   "metadata": {},
   "outputs": [
    {
     "data": {
      "application/vnd.jupyter.widget-view+json": {
       "model_id": "0677fbf917c74b8987f53178c6c29b33",
       "version_major": 2,
       "version_minor": 0
      },
      "text/plain": [
       "Builder(reaction_data={'HEX1': 1.0, 'PGI': 1.0, 'FBP': 0.0, 'PFK': 1.0, 'FBA': 1.0, 'TPI': 1.0, 'GAPD': 2.0, '…"
      ]
     },
     "metadata": {},
     "output_type": "display_data"
    }
   ],
   "source": [
    "#Escher FBA: shows the solutions on the map\n",
    "initial_flux_data = {\n",
    "    reaction: flux\n",
    "    for reaction, flux in flux_solution.fluxes.items()}\n",
    "\n",
    "#view all the reactions that we need build\n",
    "escher_builder = escher.Builder(\n",
    "    model=trial,\n",
    "    map_json=os.path.join(\n",
    "        maps_dir,\"gly_ppp_tca.json\")\n",
    "    , reaction_data=initial_flux_data)\n",
    "\n",
    "# Display map in notebook\n",
    "escher_builder"
   ]
  },
  {
   "cell_type": "code",
   "execution_count": 24,
   "metadata": {},
   "outputs": [],
   "source": [
    "from cobra.io.json import load_json_model as load_json_cobra_model\n",
    "from cobra.io import json\n",
    "import cobra.test\n",
    "import os\n",
    "from os.path import join\n",
    "from glob import glob\n",
    "# import cplex as cplex\n",
    "# import gurobipy as gurobi"
   ]
  },
  {
   "cell_type": "code",
   "execution_count": 25,
   "metadata": {},
   "outputs": [],
   "source": [
    "# glycolysis_ppp_tca_etc= load_json_cobra_model(filename=os.path.join(model_dir,\"glycolysis_ppp_tca_etc_model.json\"))\n",
    "# R3D=load_json_cobra_model(filename=os.path.join(model_dir,\"Recon3D.json\"))"
   ]
  },
  {
   "cell_type": "code",
   "execution_count": 26,
   "metadata": {},
   "outputs": [],
   "source": [
    "core_json = os.path.join(model_dir,\"gly_ppp.json\")\n",
    "json.save_json_model(model=trial, filename=core_json)"
   ]
  },
  {
   "cell_type": "code",
   "execution_count": 27,
   "metadata": {},
   "outputs": [
    {
     "name": "stdout",
     "output_type": "stream",
     "text": [
      "c:\\Users\\sicil\\LiverModel\\models\\gly_ppp.json\n",
      "Read LP format model from file C:\\Users\\sicil\\AppData\\Local\\Temp\\tmpc4e5xcpf.lp\n",
      "Reading time = 0.00 seconds\n",
      ": 35 rows, 68 columns, 212 nonzeros\n",
      "Read LP format model from file C:\\Users\\sicil\\AppData\\Local\\Temp\\tmpa916ydlv.lp\n",
      "Reading time = 0.01 seconds\n",
      ": 103 rows, 102 columns, 405 nonzeros\n",
      "Read LP format model from file C:\\Users\\sicil\\AppData\\Local\\Temp\\tmpfstraalt.lp\n",
      "Reading time = 0.01 seconds\n",
      ": 103 rows, 102 columns, 405 nonzeros\n",
      "Read LP format model from file C:\\Users\\sicil\\AppData\\Local\\Temp\\tmp_pne936a.lp\n",
      "Reading time = 0.01 seconds\n",
      ": 103 rows, 102 columns, 405 nonzeros\n",
      "Read LP format model from file C:\\Users\\sicil\\AppData\\Local\\Temp\\tmpqcl1vxyu.lp\n",
      "Reading time = 0.00 seconds\n",
      ": 103 rows, 102 columns, 405 nonzeros\n",
      "Read LP format model from file C:\\Users\\sicil\\AppData\\Local\\Temp\\tmpk7144n9w.lp\n",
      "Reading time = 0.00 seconds\n",
      ": 103 rows, 102 columns, 405 nonzeros\n",
      "Read LP format model from file C:\\Users\\sicil\\AppData\\Local\\Temp\\tmppk9e6e92.lp\n",
      "Reading time = 0.01 seconds\n",
      ": 103 rows, 102 columns, 405 nonzeros\n"
     ]
    }
   ],
   "source": [
    "for model_file in glob(core_json):\n",
    "    model_name = model_file.split('/')[-1]\n",
    "    if 'model' not in model_name:\n",
    "        continue\n",
    "    print(model_name)\n",
    "    model= load_json_model(model_file)\n",
    "    if 'NADPHM' in model.reactions:\n",
    "        model.remove_reactions(['NADPHM'])\n",
    "    # media = ['EX_lac__L_c', 'EX_pyr_c', 'EX_octa_c', 'EX_gln__L_c', 'EX_acetone_c', 'EX_bhb_c',\n",
    "    #          'EX_glu__L_c', 'EX_ser__L_c', 'EX_cys__L_c', 'EX_gly_c', 'EX_ala__L_c', 'EX_so3_c',\n",
    "    #         'EX_etoh_c', 'EX_fru_c']\n",
    "    media = ['EX_glc__D_c']\n",
    "    for met in media:\n",
    "        if met in model.reactions:\n",
    "            model.reactions.get_by_id(met).lower_bound = -1000.\n",
    "\n",
    "    rxns = [i.id for i in model.reactions]\n",
    "    #removed blocke reactions because it included ['PEPCKm', 'PCm', 'PYRt2m', 'ADK1', 'PEPtm', 'EX_h2o_c', 'EX_pi_c']\n",
    "    # blocked = cobra.flux_analysis.find_blocked_reactions(model)\n",
    "    # print(blocked)\n",
    "    # model.remove_reactions(blocked)\n",
    "\n",
    "    solved_fluxes = minspan(model, cores=3, verbose=False, timelimit=60)\n",
    "    \n",
    "    df = pd.DataFrame(solved_fluxes.copy(), index=[i.id for i in model.reactions])\n",
    "    df = df/df.abs().max()\n",
    "    for col in range(len(df.columns)):\n",
    "        column=df.iloc[:,col]\n",
    "        vals = column.values\n",
    "        min_val = min([abs(i) for i in vals if i != 0])\n",
    "        corr_fac=1/min_val\n",
    "        # print(corr_fac)\n",
    "        vals=vals*abs(corr_fac)\n",
    "        df['Norm'+ str(col)]=vals\n",
    "    ### normalise each column by the min  qty in the column\n",
    "    csv_dir = os.path.join(minspan_dir,\"gly_ppp_csv.csv\")\n",
    "    df.to_csv(csv_dir)"
   ]
  },
  {
   "cell_type": "code",
   "execution_count": 28,
   "metadata": {},
   "outputs": [],
   "source": [
    "## WHere it's stored\n",
    "csv_minspan_dir = os.path.join(minspan_dir,\"gly_ppp_csv.csv\")"
   ]
  },
  {
   "cell_type": "code",
   "execution_count": 29,
   "metadata": {},
   "outputs": [
    {
     "data": {
      "text/html": [
       "<div>\n",
       "<style scoped>\n",
       "    .dataframe tbody tr th:only-of-type {\n",
       "        vertical-align: middle;\n",
       "    }\n",
       "\n",
       "    .dataframe tbody tr th {\n",
       "        vertical-align: top;\n",
       "    }\n",
       "\n",
       "    .dataframe thead th {\n",
       "        text-align: right;\n",
       "    }\n",
       "</style>\n",
       "<table border=\"1\" class=\"dataframe\">\n",
       "  <thead>\n",
       "    <tr style=\"text-align: right;\">\n",
       "      <th></th>\n",
       "      <th>0</th>\n",
       "      <th>1</th>\n",
       "      <th>2</th>\n",
       "      <th>Norm0</th>\n",
       "      <th>Norm1</th>\n",
       "      <th>Norm2</th>\n",
       "    </tr>\n",
       "  </thead>\n",
       "  <tbody>\n",
       "    <tr>\n",
       "      <th>HEX1</th>\n",
       "      <td>0.5</td>\n",
       "      <td>0.083333</td>\n",
       "      <td>0.333333</td>\n",
       "      <td>1.0</td>\n",
       "      <td>1.0</td>\n",
       "      <td>1.0</td>\n",
       "    </tr>\n",
       "    <tr>\n",
       "      <th>PGI</th>\n",
       "      <td>0.5</td>\n",
       "      <td>-0.166667</td>\n",
       "      <td>0.333333</td>\n",
       "      <td>1.0</td>\n",
       "      <td>-2.0</td>\n",
       "      <td>1.0</td>\n",
       "    </tr>\n",
       "    <tr>\n",
       "      <th>FBP</th>\n",
       "      <td>0.0</td>\n",
       "      <td>0.000000</td>\n",
       "      <td>0.666667</td>\n",
       "      <td>0.0</td>\n",
       "      <td>0.0</td>\n",
       "      <td>2.0</td>\n",
       "    </tr>\n",
       "    <tr>\n",
       "      <th>PFK</th>\n",
       "      <td>0.5</td>\n",
       "      <td>0.000000</td>\n",
       "      <td>1.000000</td>\n",
       "      <td>1.0</td>\n",
       "      <td>0.0</td>\n",
       "      <td>3.0</td>\n",
       "    </tr>\n",
       "    <tr>\n",
       "      <th>FBA</th>\n",
       "      <td>0.5</td>\n",
       "      <td>0.000000</td>\n",
       "      <td>0.333333</td>\n",
       "      <td>1.0</td>\n",
       "      <td>0.0</td>\n",
       "      <td>1.0</td>\n",
       "    </tr>\n",
       "    <tr>\n",
       "      <th>TPI</th>\n",
       "      <td>0.5</td>\n",
       "      <td>0.000000</td>\n",
       "      <td>0.333333</td>\n",
       "      <td>1.0</td>\n",
       "      <td>0.0</td>\n",
       "      <td>1.0</td>\n",
       "    </tr>\n",
       "    <tr>\n",
       "      <th>GAPD</th>\n",
       "      <td>1.0</td>\n",
       "      <td>0.083333</td>\n",
       "      <td>0.666667</td>\n",
       "      <td>2.0</td>\n",
       "      <td>1.0</td>\n",
       "      <td>2.0</td>\n",
       "    </tr>\n",
       "    <tr>\n",
       "      <th>PGK</th>\n",
       "      <td>-1.0</td>\n",
       "      <td>-0.083333</td>\n",
       "      <td>-0.666667</td>\n",
       "      <td>-2.0</td>\n",
       "      <td>-1.0</td>\n",
       "      <td>-2.0</td>\n",
       "    </tr>\n",
       "    <tr>\n",
       "      <th>PGM</th>\n",
       "      <td>-1.0</td>\n",
       "      <td>-0.083333</td>\n",
       "      <td>-0.666667</td>\n",
       "      <td>-2.0</td>\n",
       "      <td>-1.0</td>\n",
       "      <td>-2.0</td>\n",
       "    </tr>\n",
       "    <tr>\n",
       "      <th>ENO</th>\n",
       "      <td>1.0</td>\n",
       "      <td>0.083333</td>\n",
       "      <td>0.666667</td>\n",
       "      <td>2.0</td>\n",
       "      <td>1.0</td>\n",
       "      <td>2.0</td>\n",
       "    </tr>\n",
       "    <tr>\n",
       "      <th>PYK</th>\n",
       "      <td>1.0</td>\n",
       "      <td>0.083333</td>\n",
       "      <td>0.666667</td>\n",
       "      <td>2.0</td>\n",
       "      <td>1.0</td>\n",
       "      <td>2.0</td>\n",
       "    </tr>\n",
       "    <tr>\n",
       "      <th>LDH_L</th>\n",
       "      <td>-1.0</td>\n",
       "      <td>-0.083333</td>\n",
       "      <td>-0.666667</td>\n",
       "      <td>-2.0</td>\n",
       "      <td>-1.0</td>\n",
       "      <td>-2.0</td>\n",
       "    </tr>\n",
       "    <tr>\n",
       "      <th>ADK1</th>\n",
       "      <td>0.0</td>\n",
       "      <td>0.000000</td>\n",
       "      <td>0.000000</td>\n",
       "      <td>0.0</td>\n",
       "      <td>0.0</td>\n",
       "      <td>0.0</td>\n",
       "    </tr>\n",
       "    <tr>\n",
       "      <th>ATPM</th>\n",
       "      <td>1.0</td>\n",
       "      <td>0.083333</td>\n",
       "      <td>0.000000</td>\n",
       "      <td>2.0</td>\n",
       "      <td>1.0</td>\n",
       "      <td>0.0</td>\n",
       "    </tr>\n",
       "    <tr>\n",
       "      <th>G6PDH2r</th>\n",
       "      <td>0.0</td>\n",
       "      <td>0.250000</td>\n",
       "      <td>0.000000</td>\n",
       "      <td>0.0</td>\n",
       "      <td>3.0</td>\n",
       "      <td>0.0</td>\n",
       "    </tr>\n",
       "    <tr>\n",
       "      <th>TALA</th>\n",
       "      <td>0.0</td>\n",
       "      <td>0.083333</td>\n",
       "      <td>0.000000</td>\n",
       "      <td>0.0</td>\n",
       "      <td>1.0</td>\n",
       "      <td>0.0</td>\n",
       "    </tr>\n",
       "    <tr>\n",
       "      <th>PGL</th>\n",
       "      <td>0.0</td>\n",
       "      <td>0.250000</td>\n",
       "      <td>0.000000</td>\n",
       "      <td>0.0</td>\n",
       "      <td>3.0</td>\n",
       "      <td>0.0</td>\n",
       "    </tr>\n",
       "    <tr>\n",
       "      <th>GND</th>\n",
       "      <td>0.0</td>\n",
       "      <td>0.250000</td>\n",
       "      <td>0.000000</td>\n",
       "      <td>0.0</td>\n",
       "      <td>3.0</td>\n",
       "      <td>0.0</td>\n",
       "    </tr>\n",
       "    <tr>\n",
       "      <th>RPE</th>\n",
       "      <td>0.0</td>\n",
       "      <td>0.166667</td>\n",
       "      <td>0.000000</td>\n",
       "      <td>0.0</td>\n",
       "      <td>2.0</td>\n",
       "      <td>0.0</td>\n",
       "    </tr>\n",
       "    <tr>\n",
       "      <th>RPI</th>\n",
       "      <td>0.0</td>\n",
       "      <td>-0.083333</td>\n",
       "      <td>0.000000</td>\n",
       "      <td>0.0</td>\n",
       "      <td>-1.0</td>\n",
       "      <td>0.0</td>\n",
       "    </tr>\n",
       "    <tr>\n",
       "      <th>TKT1</th>\n",
       "      <td>0.0</td>\n",
       "      <td>0.083333</td>\n",
       "      <td>0.000000</td>\n",
       "      <td>0.0</td>\n",
       "      <td>1.0</td>\n",
       "      <td>0.0</td>\n",
       "    </tr>\n",
       "    <tr>\n",
       "      <th>TKT2</th>\n",
       "      <td>0.0</td>\n",
       "      <td>0.083333</td>\n",
       "      <td>0.000000</td>\n",
       "      <td>0.0</td>\n",
       "      <td>1.0</td>\n",
       "      <td>0.0</td>\n",
       "    </tr>\n",
       "    <tr>\n",
       "      <th>GTHOr</th>\n",
       "      <td>0.0</td>\n",
       "      <td>0.500000</td>\n",
       "      <td>0.000000</td>\n",
       "      <td>0.0</td>\n",
       "      <td>6.0</td>\n",
       "      <td>0.0</td>\n",
       "    </tr>\n",
       "    <tr>\n",
       "      <th>GTHPi</th>\n",
       "      <td>0.0</td>\n",
       "      <td>0.500000</td>\n",
       "      <td>0.000000</td>\n",
       "      <td>0.0</td>\n",
       "      <td>6.0</td>\n",
       "      <td>0.0</td>\n",
       "    </tr>\n",
       "    <tr>\n",
       "      <th>SPODM</th>\n",
       "      <td>0.0</td>\n",
       "      <td>0.500000</td>\n",
       "      <td>0.000000</td>\n",
       "      <td>0.0</td>\n",
       "      <td>6.0</td>\n",
       "      <td>0.0</td>\n",
       "    </tr>\n",
       "    <tr>\n",
       "      <th>EX_glc__D_c</th>\n",
       "      <td>-0.5</td>\n",
       "      <td>-0.083333</td>\n",
       "      <td>-0.333333</td>\n",
       "      <td>-1.0</td>\n",
       "      <td>-1.0</td>\n",
       "      <td>-1.0</td>\n",
       "    </tr>\n",
       "    <tr>\n",
       "      <th>EX_h2o_c</th>\n",
       "      <td>0.0</td>\n",
       "      <td>0.750000</td>\n",
       "      <td>0.000000</td>\n",
       "      <td>0.0</td>\n",
       "      <td>9.0</td>\n",
       "      <td>0.0</td>\n",
       "    </tr>\n",
       "    <tr>\n",
       "      <th>EX_h_c</th>\n",
       "      <td>1.0</td>\n",
       "      <td>-0.916667</td>\n",
       "      <td>0.666667</td>\n",
       "      <td>2.0</td>\n",
       "      <td>-11.0</td>\n",
       "      <td>2.0</td>\n",
       "    </tr>\n",
       "    <tr>\n",
       "      <th>EX_pi_c</th>\n",
       "      <td>0.0</td>\n",
       "      <td>0.000000</td>\n",
       "      <td>0.000000</td>\n",
       "      <td>0.0</td>\n",
       "      <td>0.0</td>\n",
       "      <td>0.0</td>\n",
       "    </tr>\n",
       "    <tr>\n",
       "      <th>EX_lac__L_c</th>\n",
       "      <td>1.0</td>\n",
       "      <td>0.083333</td>\n",
       "      <td>0.666667</td>\n",
       "      <td>2.0</td>\n",
       "      <td>1.0</td>\n",
       "      <td>2.0</td>\n",
       "    </tr>\n",
       "    <tr>\n",
       "      <th>EX_amp_c</th>\n",
       "      <td>0.0</td>\n",
       "      <td>0.000000</td>\n",
       "      <td>0.000000</td>\n",
       "      <td>0.0</td>\n",
       "      <td>0.0</td>\n",
       "      <td>0.0</td>\n",
       "    </tr>\n",
       "    <tr>\n",
       "      <th>EX_co2_c</th>\n",
       "      <td>0.0</td>\n",
       "      <td>0.250000</td>\n",
       "      <td>0.000000</td>\n",
       "      <td>0.0</td>\n",
       "      <td>3.0</td>\n",
       "      <td>0.0</td>\n",
       "    </tr>\n",
       "    <tr>\n",
       "      <th>EX_o2_c</th>\n",
       "      <td>0.0</td>\n",
       "      <td>0.500000</td>\n",
       "      <td>0.000000</td>\n",
       "      <td>0.0</td>\n",
       "      <td>6.0</td>\n",
       "      <td>0.0</td>\n",
       "    </tr>\n",
       "    <tr>\n",
       "      <th>EX_o2s_c</th>\n",
       "      <td>0.0</td>\n",
       "      <td>-1.000000</td>\n",
       "      <td>0.000000</td>\n",
       "      <td>0.0</td>\n",
       "      <td>-12.0</td>\n",
       "      <td>0.0</td>\n",
       "    </tr>\n",
       "  </tbody>\n",
       "</table>\n",
       "</div>"
      ],
      "text/plain": [
       "               0         1         2  Norm0  Norm1  Norm2\n",
       "HEX1         0.5  0.083333  0.333333    1.0    1.0    1.0\n",
       "PGI          0.5 -0.166667  0.333333    1.0   -2.0    1.0\n",
       "FBP          0.0  0.000000  0.666667    0.0    0.0    2.0\n",
       "PFK          0.5  0.000000  1.000000    1.0    0.0    3.0\n",
       "FBA          0.5  0.000000  0.333333    1.0    0.0    1.0\n",
       "TPI          0.5  0.000000  0.333333    1.0    0.0    1.0\n",
       "GAPD         1.0  0.083333  0.666667    2.0    1.0    2.0\n",
       "PGK         -1.0 -0.083333 -0.666667   -2.0   -1.0   -2.0\n",
       "PGM         -1.0 -0.083333 -0.666667   -2.0   -1.0   -2.0\n",
       "ENO          1.0  0.083333  0.666667    2.0    1.0    2.0\n",
       "PYK          1.0  0.083333  0.666667    2.0    1.0    2.0\n",
       "LDH_L       -1.0 -0.083333 -0.666667   -2.0   -1.0   -2.0\n",
       "ADK1         0.0  0.000000  0.000000    0.0    0.0    0.0\n",
       "ATPM         1.0  0.083333  0.000000    2.0    1.0    0.0\n",
       "G6PDH2r      0.0  0.250000  0.000000    0.0    3.0    0.0\n",
       "TALA         0.0  0.083333  0.000000    0.0    1.0    0.0\n",
       "PGL          0.0  0.250000  0.000000    0.0    3.0    0.0\n",
       "GND          0.0  0.250000  0.000000    0.0    3.0    0.0\n",
       "RPE          0.0  0.166667  0.000000    0.0    2.0    0.0\n",
       "RPI          0.0 -0.083333  0.000000    0.0   -1.0    0.0\n",
       "TKT1         0.0  0.083333  0.000000    0.0    1.0    0.0\n",
       "TKT2         0.0  0.083333  0.000000    0.0    1.0    0.0\n",
       "GTHOr        0.0  0.500000  0.000000    0.0    6.0    0.0\n",
       "GTHPi        0.0  0.500000  0.000000    0.0    6.0    0.0\n",
       "SPODM        0.0  0.500000  0.000000    0.0    6.0    0.0\n",
       "EX_glc__D_c -0.5 -0.083333 -0.333333   -1.0   -1.0   -1.0\n",
       "EX_h2o_c     0.0  0.750000  0.000000    0.0    9.0    0.0\n",
       "EX_h_c       1.0 -0.916667  0.666667    2.0  -11.0    2.0\n",
       "EX_pi_c      0.0  0.000000  0.000000    0.0    0.0    0.0\n",
       "EX_lac__L_c  1.0  0.083333  0.666667    2.0    1.0    2.0\n",
       "EX_amp_c     0.0  0.000000  0.000000    0.0    0.0    0.0\n",
       "EX_co2_c     0.0  0.250000  0.000000    0.0    3.0    0.0\n",
       "EX_o2_c      0.0  0.500000  0.000000    0.0    6.0    0.0\n",
       "EX_o2s_c     0.0 -1.000000  0.000000    0.0  -12.0    0.0"
      ]
     },
     "execution_count": 29,
     "metadata": {},
     "output_type": "execute_result"
    }
   ],
   "source": [
    "## WHere it's stored\n",
    "csv_minspan_dir = os.path.join(minspan_dir,\"gly_ppp_csv.csv\")\n",
    "df = pd.read_csv(csv_minspan_dir,index_col=0) \n",
    "df"
   ]
  },
  {
   "cell_type": "code",
   "execution_count": 34,
   "metadata": {},
   "outputs": [],
   "source": [
    "import escher\n",
    "from escher import Builder"
   ]
  },
  {
   "cell_type": "code",
   "execution_count": 33,
   "metadata": {},
   "outputs": [],
   "source": [
    "initial_minspan_data = {\n",
    "    reaction: flux\n",
    "    for reaction, flux in df.iloc[:,4].iteritems()}"
   ]
  },
  {
   "cell_type": "code",
   "execution_count": 35,
   "metadata": {},
   "outputs": [
    {
     "data": {
      "application/vnd.jupyter.widget-view+json": {
       "model_id": "730288b5d4db447aae512c4f296fe896",
       "version_major": 2,
       "version_minor": 0
      },
      "text/plain": [
       "Builder(reaction_data={'HEX1': 1.0, 'PGI': -2.0, 'FBP': 0.0, 'PFK': 0.0, 'FBA': 0.0, 'TPI': 0.0, 'GAPD': 1.0, …"
      ]
     },
     "metadata": {},
     "output_type": "display_data"
    }
   ],
   "source": [
    "# New instance to prevent modifications to the existing maps\n",
    "escher_builder = Builder(\n",
    "    model=trial,\n",
    "    map_json=os.path.join(\n",
    "        maps_dir,\"gly_ppp_tca.json\"),\n",
    "    reaction_data=initial_minspan_data)\n",
    "\n",
    "# Display map in notebook\n",
    "escher_builder"
   ]
  },
  {
   "cell_type": "code",
   "execution_count": 36,
   "metadata": {},
   "outputs": [],
   "source": [
    "from cobra_dict import metabolite_to_dict as metabolite_to_dict\n",
    "from cobra_dict import reaction_to_dict as reaction_to_dict"
   ]
  },
  {
   "cell_type": "code",
   "execution_count": 37,
   "metadata": {},
   "outputs": [],
   "source": [
    "met_df=pd.DataFrame()\n",
    "for met in trial.metabolites:\n",
    "    cobra_met= trial.metabolites.get_by_id(met.id)\n",
    "    m=metabolite_to_dict(cobra_met)\n",
    "    df_2=pd.DataFrame.from_dict(m,orient='index')\n",
    "    df_2=df_2.T\n",
    "    met_df=met_df.append(df_2)\n",
    "\n",
    "met_df=met_df.set_index('id')"
   ]
  },
  {
   "cell_type": "code",
   "execution_count": 38,
   "metadata": {},
   "outputs": [],
   "source": [
    "csv_met_cobra = os.path.join(data_dir,\"gly_ppp_cobra_met.csv\")\n",
    "met_df.to_csv(csv_met_cobra)"
   ]
  },
  {
   "cell_type": "code",
   "execution_count": 39,
   "metadata": {},
   "outputs": [],
   "source": [
    "rxn_df=pd.DataFrame()\n",
    "for rxn in trial.reactions:\n",
    "    cobra_rxn= trial.reactions.get_by_id(rxn.id)\n",
    "    r=reaction_to_dict(cobra_rxn)\n",
    "#     print(r)\n",
    "    df=pd.DataFrame.from_dict(r,orient='index')\n",
    "    df=df.T\n",
    "    rxn_df=rxn_df.append(df)\n",
    "\n",
    "rxn_df=rxn_df.set_index('id')"
   ]
  },
  {
   "cell_type": "code",
   "execution_count": 40,
   "metadata": {},
   "outputs": [],
   "source": [
    "json_rxn_cobra = os.path.join(data_dir,\"gly_ppp_cobra_rxn.json\")\n",
    "rxn_df.to_json(json_rxn_cobra\n",
    ",orient=\"index\")"
   ]
  },
  {
   "cell_type": "markdown",
   "metadata": {},
   "source": [
    "## Making MASS model of glycolysis"
   ]
  },
  {
   "cell_type": "code",
   "execution_count": 41,
   "metadata": {},
   "outputs": [],
   "source": [
    "liver= MassModel(\"Core_Model\", array_type='DataFrame', dtype=np.int64)"
   ]
  },
  {
   "cell_type": "markdown",
   "metadata": {},
   "source": [
    "#### Add the pathway metabolites and their information to a new MASS model from COBRA model"
   ]
  },
  {
   "cell_type": "code",
   "execution_count": 42,
   "metadata": {},
   "outputs": [],
   "source": [
    "import json"
   ]
  },
  {
   "cell_type": "code",
   "execution_count": 44,
   "metadata": {},
   "outputs": [],
   "source": [
    "# making dataframe of metabolites\n",
    "\n",
    "met_csv_df = pd.read_csv(csv_met_cobra,index_col=\"id\")\n",
    "mass_metabolite_info=met_csv_df.to_dict(orient='index')\n",
    "\n",
    "# Loading reaction data as JSON file to maintain data types as dictionaries \n",
    "\n",
    "with open(json_rxn_cobra) as json_file:\n",
    "    mass_rxn_data = json.load(json_file)\n"
   ]
  },
  {
   "cell_type": "code",
   "execution_count": 45,
   "metadata": {},
   "outputs": [],
   "source": [
    "#  Add all the remaining metabolites involved in the pathway\n",
    "for met_id, info in mass_metabolite_info.items():\n",
    "    met = MassMetabolite(met_id, name=info['name'], formula=info['formula'], \n",
    "                           charge=info['charge'], compartment=info['compartment'])\n",
    "    liver.add_metabolites(met)"
   ]
  },
  {
   "cell_type": "code",
   "execution_count": 46,
   "metadata": {},
   "outputs": [],
   "source": [
    "for reaction, info in mass_rxn_data.items():\n",
    "    reaction_obj = MassReaction(reaction)\n",
    "    reaction_obj.id = reaction\n",
    "    reaction= reaction_obj.id\n",
    "    reaction_obj.lower_bound = info['lower_bound']\n",
    "    reaction_obj.upper_bound = info['upper_bound']\n",
    "    reaction_obj.name = info['name']\n",
    "#     if reaction_obj.id != \"DM_nadh\" or reaction_obj.id != 'ATPM':\n",
    "    liver.add_reactions(reaction_obj)\n",
    "    temp=info['metabolites']\n",
    "    reaction_obj.add_metabolites(temp)\n",
    "    # print(reaction)"
   ]
  },
  {
   "cell_type": "markdown",
   "metadata": {},
   "source": [
    "## Setting initial conditions"
   ]
  },
  {
   "cell_type": "code",
   "execution_count": 47,
   "metadata": {},
   "outputs": [],
   "source": [
    "import csv\n",
    "import openpyxl"
   ]
  },
  {
   "cell_type": "code",
   "execution_count": 48,
   "metadata": {},
   "outputs": [],
   "source": [
    "#Function to load data from the excel sheet\n",
    "def load_data(filepath, sheet_name):\n",
    "    \"\"\"Load Liver data from an excel sheet\"\"\"\n",
    "    df = pd.read_excel(engine='openpyxl',\n",
    "        io=filepath,\n",
    "        sheet_name=sheet_name,\n",
    "        index_col=0)\n",
    "    return df"
   ]
  },
  {
   "cell_type": "code",
   "execution_count": 49,
   "metadata": {},
   "outputs": [],
   "source": [
    "#Compare Results\n",
    "excel_ic = os.path.join(data_dir,\"Concentrations2.xlsx\")\n",
    "ic_info_all = load_data(\n",
    "    filepath=excel_ic,\n",
    "    sheet_name=\"Concentrations\")\n",
    "ic_info_all.reset_index(level='ID', col_level=1, inplace=True)"
   ]
  },
  {
   "cell_type": "code",
   "execution_count": 50,
   "metadata": {},
   "outputs": [],
   "source": [
    "conc_df =pd.DataFrame(ic_info_all.loc[:,[\"ID\",\"Concentration (M)\"]])\n",
    "conc_df.set_index('ID',drop=True,inplace=True)"
   ]
  },
  {
   "cell_type": "code",
   "execution_count": 51,
   "metadata": {},
   "outputs": [],
   "source": [
    "# conc_df.loc['udp_c','Concentration (M)']"
   ]
  },
  {
   "cell_type": "code",
   "execution_count": 52,
   "metadata": {},
   "outputs": [
    {
     "name": "stdout",
     "output_type": "stream",
     "text": [
      "Initial Conditions\n",
      "------------------\n",
      "adp_c 0.00199495195\n",
      "atp_c 0.004727145980000001\n",
      "g6p_c 0.00014000000000000001\n",
      "glc__D_c 0.01048280703\n",
      "f6p_c 0.00012713765\n",
      "g6p_c 0.00014000000000000001\n",
      "f6p_c 0.00012713765\n",
      "fdp_c 5.1470825e-05\n",
      "pi_c 0.0064\n",
      "adp_c 0.00199495195\n",
      "atp_c 0.004727145980000001\n",
      "f6p_c 0.00012713765\n",
      "fdp_c 5.1470825e-05\n",
      "dhap_c 0.00017689737\n",
      "fdp_c 5.1470825e-05\n",
      "g3p_c 8.783869999999999e-06\n",
      "dhap_c 0.00017689737\n",
      "g3p_c 8.783869999999999e-06\n",
      "13dpg_c 2.43e-07\n",
      "g3p_c 8.783869999999999e-06\n",
      "nad_c 0.00182530972\n",
      "nadh_c 4.63542e-06\n",
      "pi_c 0.0064\n",
      "13dpg_c 2.43e-07\n",
      "3pg_c 0.000520630485\n",
      "adp_c 0.00199495195\n",
      "atp_c 0.004727145980000001\n",
      "2pg_c 0.000110560855\n",
      "3pg_c 0.000520630485\n",
      "2pg_c 0.000110560855\n",
      "pep_c 0.00031\n",
      "adp_c 0.00199495195\n",
      "atp_c 0.004727145980000001\n",
      "pep_c 0.00031\n",
      "pyr_c 0.00047999999999999996\n",
      "lac__L_c 0.00326183772\n",
      "nad_c 0.00182530972\n",
      "nadh_c 4.63542e-06\n",
      "pyr_c 0.00047999999999999996\n",
      "adp_c 0.00199495195\n",
      "amp_c 0.000365\n",
      "atp_c 0.004727145980000001\n",
      "adp_c 0.00199495195\n",
      "atp_c 0.004727145980000001\n",
      "pi_c 0.0064\n",
      "g6p_c 0.00014000000000000001\n",
      "nadp_c 0.000475236185\n",
      "e4p_c 7.019735e-06\n",
      "f6p_c 0.00012713765\n",
      "g3p_c 8.783869999999999e-06\n",
      "s7p_c 8.189693e-05\n",
      "nadp_c 0.000475236185\n",
      "ru5p__D_c 2.8429935e-05\n",
      "ru5p__D_c 2.8429935e-05\n",
      "xu5p__D_c 4.27034e-05\n",
      "r5p_c 7.72171e-06\n",
      "ru5p__D_c 2.8429935e-05\n",
      "g3p_c 8.783869999999999e-06\n",
      "r5p_c 7.72171e-06\n",
      "s7p_c 8.189693e-05\n",
      "xu5p__D_c 4.27034e-05\n",
      "e4p_c 7.019735e-06\n",
      "f6p_c 0.00012713765\n",
      "g3p_c 8.783869999999999e-06\n",
      "xu5p__D_c 4.27034e-05\n",
      "nadp_c 0.000475236185\n",
      "nadp_c 0.000475236185\n",
      "glc__D_c 0.01048280703\n",
      "pi_c 0.0064\n",
      "lac__L_c 0.00326183772\n",
      "amp_c 0.000365\n",
      "adp_c: 0\n",
      "atp_c: 0\n",
      "g6p_c: 0\n",
      "glc__D_c: 0\n",
      "f6p_c: 0\n",
      "fdp_c: 0\n",
      "pi_c: 0\n",
      "dhap_c: 0\n",
      "g3p_c: 0\n",
      "13dpg_c: 0\n",
      "nad_c: 0\n",
      "nadh_c: 0\n",
      "3pg_c: 0\n",
      "2pg_c: 0\n",
      "pep_c: 0\n",
      "pyr_c: 0\n",
      "lac__L_c: 0\n",
      "amp_c: 0\n",
      "nadp_c: 0\n",
      "e4p_c: 0\n",
      "s7p_c: 0\n",
      "ru5p__D_c: 0\n",
      "xu5p__D_c: 0\n",
      "r5p_c: 0\n"
     ]
    }
   ],
   "source": [
    "print(\"Initial Conditions\\n------------------\")\n",
    "\n",
    "for reaction in liver.reactions:\n",
    "    #Setting inital condition of metabolties from HEPATOKIN  #M \n",
    "    for met in reaction.metabolites:\n",
    "        if met.id in conc_df.index:\n",
    "            mid=met.id\n",
    "            # print(mid)\n",
    "            metabolite = reaction.metabolites\n",
    "            ic_value = conc_df.loc[mid,'Concentration (M)']\n",
    "            print(mid,ic_value)\n",
    "            # row = [mid,ic_value]\n",
    "            # column = [ic_value]\n",
    "            met.ic =  int(ic_value)            \n",
    "for metabolite, ic_value in liver.initial_conditions.items():\n",
    "    print(\"{0}: {1}\".format(metabolite, ic_value))"
   ]
  },
  {
   "cell_type": "code",
   "execution_count": null,
   "metadata": {},
   "outputs": [],
   "source": [
    "liver.reactions.PGK.reverse_stoichiometry(inplace=True)\n",
    "liver.reactions.PGM.reverse_stoichiometry(inplace=True)\n",
    "# liver.reactions.PGM"
   ]
  },
  {
   "cell_type": "markdown",
   "metadata": {},
   "source": [
    "### Getting Standard and Physiological Gibbs energies of reactions"
   ]
  },
  {
   "cell_type": "code",
   "execution_count": null,
   "metadata": {},
   "outputs": [],
   "source": [
    "# Reactions that we don't want to get Keq from equilibrator [exchanges and psuedoreactions] SET THESE MANUALLY\n",
    "# Setting Keq and kf for boundary reactions\n",
    "print(\"Boundary Reactions and Values\\n-----------------------------\")\n",
    "excluded_reactions=[\"ATPM\", \n",
    "# \"NADHM\",\n",
    "#transport reactions\n",
    "'NADPHM', \"PYRt2m\",\"PEPtm\", 'Htmi','MALtm', 'ATPtm', 'AKGMALtm','O2tm','H2Otm',  'CO2tm', 'PItm' ,'Htm',\n",
    "# these two reactions below cause issues in equilibrator\n",
    "'CYOR_u10mi' , 'CYOOm2i']\n",
    "\n",
    "# for reaction in excluded_reactions:\n",
    "#     rxn=liver.reactions.get_by_id(reaction)\n",
    "#     rxn.Keq=1    # Setting Keq\n",
    "#     rxn.kf=1e6     # Setting kf\n",
    "\n",
    "for rxn in liver.reactions:\n",
    "    if rxn.id in excluded_reactions:\n",
    "        rxn.Keq=1    # Setting Keq\n",
    "        rxn.kf=1e6     # Setting kf\n",
    "\n",
    "for reaction in liver.boundary:\n",
    "    excluded_reactions.append(reaction.id)\n",
    "    reaction.Keq=1    # Setting Keq\n",
    "    reaction.kf=1e6     # Setting kf\n",
    "    #Setting boundary condition metabolties from ic of metabolite from HEPATOKIN   \n",
    "    for met in reaction.reactants:\n",
    "        if met.id in conc_df.index:\n",
    "            mid=met.id\n",
    "            boundary_met = reaction.boundary_metabolite\n",
    "            bcvalue = conc_df.loc[mid,'Concentration (M)']\n",
    "            liver.boundary_conditions[boundary_met] =  bcvalue\n",
    "            bc_value = liver.boundary_conditions.get(boundary_met)\n",
    "            print(\"{0}\\n{1}: {2}\\n\".format(reaction, boundary_met, bc_value))\n",
    "\n",
    "# Trying to set these as 1e6 becasue the inf might be messing with the solver\n",
    "liver.reactions.ATPM.Keq=1e6\n",
    "liver.reactions.NADPHM.Keq=1e6"
   ]
  },
  {
   "cell_type": "code",
   "execution_count": null,
   "metadata": {},
   "outputs": [],
   "source": [
    "reaction_str= []\n",
    "cc = ComponentContribution()\n",
    "# optional: changing the aqueous environment parameters\n",
    "cc.p_h = Q_(7.4)\n",
    "cc.p_mg = Q_(3.31)\n",
    "cc.ionic_strength = Q_(\"0.144M\")\n",
    "cc.temperature = Q_(\"310.15K\")\n",
    "R = 0.00831446261815324 #R = 0.00831446261815324 kJ/mol\n",
    "from numpy import exp "
   ]
  },
  {
   "cell_type": "code",
   "execution_count": null,
   "metadata": {},
   "outputs": [],
   "source": [
    "# Getting Keq from equilibrator by forming a reaction string that it can parse through\n",
    "for reaction in liver.reactions:\n",
    "    if reaction.id not in excluded_reactions:\n",
    "        reactants = []\n",
    "        #forming reaction string \n",
    "        for met in reaction.reactants:\n",
    "            id_coeff= reaction.get_coefficient(met)\n",
    "            new_id = met.id.rpartition(\"_\" + str(met.compartment))[0] #removing compartment lettes, for eg \"_c\"\n",
    "            if id_coeff == 1 or id_coeff == -1:\n",
    "                new_id = \"bigg.metabolite:\" + new_id\n",
    "            else:\n",
    "                new_id = str(id_coeff) + \" bigg.metabolite:\" + new_id\n",
    "\n",
    "            reactants.append(new_id)   \n",
    "        reactants_string= \" + \".join(reactants)\n",
    "        reactants_string = str(reactants_string + \" = \")\n",
    "\n",
    "        # Forming product string\n",
    "        products = []\n",
    "        for met in reaction.products:\n",
    "            new_id = met.id.rpartition(\"_\" + str(met.compartment))[0] # removing compartment lettes, for eg \"_c\"\n",
    "            new_id = \"bigg.metabolite:\" + new_id\n",
    "            products.append(new_id)   \n",
    "        products_string= \" + \".join(products)\n",
    "\n",
    "        #final reaction to parse\n",
    "        reaction_to_parse = reactants_string + products_string         \n",
    "        rxn_parsed = cc.parse_reaction_formula(reaction_to_parse)\n",
    "        print(reaction.id)\n",
    "\n",
    "        #Getting Gibbs energies\n",
    "        dG0_prime = cc.standard_dg_prime(rxn_parsed)\n",
    "        dGm_prime = cc.physiological_dg_prime(rxn_parsed)\n",
    "        dG_prime_value_in_kj_per_mol = dGm_prime.value.m_as(\"kJ/mol\")\n",
    "        dG0prime_value_in_kj_per_mol = dG0_prime.value.m_as(\"kJ/mol\")\n",
    "        delG = dG_prime_value_in_kj_per_mol\n",
    "\n",
    "        # Calculating Keq from delG\n",
    "        a = exp(-delG/ (R*310.15)) \n",
    "        reaction.Keq = a\n",
    "        print(f\"Keq = {a}\")    "
   ]
  },
  {
   "cell_type": "code",
   "execution_count": null,
   "metadata": {},
   "outputs": [],
   "source": [
    "# liver.reactions.CYOR_u10mi"
   ]
  },
  {
   "cell_type": "code",
   "execution_count": null,
   "metadata": {},
   "outputs": [],
   "source": [
    "# # these two reactions below cause issues in equilibrator\n",
    "# weird_reactions = ['CYOR_u10mi' , 'CYOOm2i']\n",
    "# for reaction in liver.reactions:\n",
    "#     if reaction.id == 'CYOR_u10mi':\n",
    "#         reaction_to_parse =  (\"2 bigg.metabolite:h + 2 kegg:C00125 + chebi:CHEBI:64183 = 2 kegg:C00126 + kegg:C11378 + 4 bigg.metabolite:h\")\n",
    "      \n",
    "\n",
    "#         rxn_parsed = cc.parse_reaction_formula(reaction_to_parse)\n",
    "#         print(reaction.id)\n",
    "\n",
    "#         #Getting Gibbs energies\n",
    "#         dG0_prime = cc.standard_dg_prime(rxn_parsed)\n",
    "#         print(f\"ΔG'° = {dG0_prime}\")\n",
    "#         dGm_prime = cc.physiological_dg_prime(rxn_parsed)\n",
    "#         dG_prime_value_in_kj_per_mol = dGm_prime.value.m_as(\"kJ/mol\")\n",
    "#         dG0prime_value_in_kj_per_mol = dG0_prime.value.m_as(\"kJ/mol\")\n",
    "#     #     print(f\"ΔG'm = {dG_prime_value_in_kj_per_mol}\")\n",
    "#         delG = dG_prime_value_in_kj_per_mol\n",
    "\n",
    "#         # Calculating Keq from delG\n",
    "#         a = exp(-delG/ (R*310.15)) \n",
    "#         reaction.Keq = a\n",
    "#         print(f\"Keq = {a}\")\n",
    "# #         list_keq=[reaction,a]\n",
    "# #         rxn_keq=pd.DataFrame(list_keq)\n",
    "\n",
    "        "
   ]
  },
  {
   "cell_type": "code",
   "execution_count": null,
   "metadata": {},
   "outputs": [],
   "source": [
    "print(\"Equilibrium Constants\\n---------------------\")\n",
    "for reaction in liver.reactions:\n",
    "    print(\"{0}: {1}\".format(reaction.Keq_str, reaction.Keq))"
   ]
  },
  {
   "cell_type": "markdown",
   "metadata": {},
   "source": [
    "##  Set Fluxes"
   ]
  },
  {
   "cell_type": "code",
   "execution_count": null,
   "metadata": {},
   "outputs": [],
   "source": [
    "# liver.metabolites.o2s_c"
   ]
  },
  {
   "cell_type": "code",
   "execution_count": null,
   "metadata": {},
   "outputs": [],
   "source": [
    "## WHere it's stored\n",
    "csv_minspan_dir = os.path.join(minspan_dir,\"gly_ppp_csv.csv\")\n",
    "df = pd.read_csv(csv_minspan_dir,index_col=0) \n",
    "df"
   ]
  },
  {
   "cell_type": "code",
   "execution_count": null,
   "metadata": {},
   "outputs": [],
   "source": [
    "import escher\n",
    "from escher import Builder"
   ]
  },
  {
   "cell_type": "code",
   "execution_count": null,
   "metadata": {},
   "outputs": [],
   "source": [
    "initial_minspan_data = {\n",
    "    reaction: flux\n",
    "    for reaction, flux in df.iloc[:,5].iteritems()}"
   ]
  },
  {
   "cell_type": "code",
   "execution_count": null,
   "metadata": {},
   "outputs": [],
   "source": [
    "# New instance to prevent modifications to the existing maps\n",
    "escher_builder = Builder(\n",
    "    model=trial,\n",
    "    map_json=os.path.join(\n",
    "        maps_dir,\"gly_ppp_tca.json\"),\n",
    "    reaction_data=initial_minspan_data)\n",
    "\n",
    "# Display map in notebook\n",
    "escher_builder"
   ]
  },
  {
   "cell_type": "code",
   "execution_count": null,
   "metadata": {},
   "outputs": [],
   "source": [
    "# independent_fluxes=[]\n",
    "#     0: PDHM #lactate to pyruvate to TCA cycle\n",
    "#     1: HEX1 # glycolysis\n",
    "#     2: # TCA again but 2 different reactions than 0 (PEPCK_re/MDH/) \n",
    "#     3: #TCA and ETC\n",
    "#     4: #glycolysis but with PFK/FBP loop\n",
    "#     5: #PPP\n",
    "#     6: #glycolysis with HEX1/G6PP loop\n",
    "#     7: #second half of PPP with upper part of glycolysis\n",
    "#     8: #TCA again with small differences (transfers maybe)\n",
    "#     9: # TCA with mitochondrial bypass\n",
    " "
   ]
  },
  {
   "cell_type": "code",
   "execution_count": null,
   "metadata": {},
   "outputs": [],
   "source": [
    "# making dataframe of reactions\n",
    "\n",
    "# csv_minspan_dir = os.path.join(minspan_dir,\"liver_csv_minspan.csv\")\n",
    "# minspan_df = pd.read_csv(csv_minspan_dir,index_col=\"rxn\") \n",
    "# minspan_df"
   ]
  },
  {
   "cell_type": "code",
   "execution_count": null,
   "metadata": {},
   "outputs": [],
   "source": [
    "reaction_list=[]\n",
    "for reaction in trial.reactions:\n",
    "    r_id = reaction.id\n",
    "    reaction_list.append(r_id)"
   ]
  },
  {
   "cell_type": "code",
   "execution_count": null,
   "metadata": {},
   "outputs": [],
   "source": [
    "for reaction, flux in flux_solution[reaction_list].iteritems():\n",
    "    reaction = liver.reactions.get_by_id(reaction)\n",
    "    reaction.steady_state_flux = flux    * 1278.605 / 1000 # mmol/gdW*hr --> mmol/L * hr ---> mol/L*hr\n",
    "    print(\"{0}: {1}\".format(reaction.flux_symbol_str,\n",
    "                            reaction.steady_state_flux))"
   ]
  },
  {
   "cell_type": "code",
   "execution_count": null,
   "metadata": {},
   "outputs": [],
   "source": [
    "liver.metabolites.h_c.charge= 1\n",
    "# liver.metabolites.h_i.charge= 1\n",
    "liver.metabolites.h_m.charge= 1\n",
    "# liver.metabolites.h_e.charge= 1\n",
    "liver.metabolites.pi_c.charge= -2\n",
    "liver.metabolites.pi_m.charge= -2"
   ]
  },
  {
   "cell_type": "markdown",
   "metadata": {},
   "source": [
    "## Set H2O/H Constants"
   ]
  },
  {
   "cell_type": "code",
   "execution_count": null,
   "metadata": {},
   "outputs": [],
   "source": [
    "# Set concentrations of hydrogen, water as fixed\n",
    "# Assume hydrogen in all compartments are fixed \n",
    "for metabolite in [\n",
    "    \"h_c\",\n",
    "    # 'h_i',\n",
    "     'h_m', \n",
    "    \n",
    "#     'h_e','h_m',\n",
    "#     'h2o_r','h2o_e',\n",
    "    \"h2o_c\",\n",
    "    # 'h2o_m', \n",
    "#     \"glc__D_e\", \"pi_e\",'pi_m',\n",
    "    'pi_c', 'pi_m'\n",
    "                  ]:\n",
    "    metabolite = liver.metabolites.get_by_id(metabolite)\n",
    "    metabolite.fixed = True"
   ]
  },
  {
   "cell_type": "code",
   "execution_count": null,
   "metadata": {},
   "outputs": [],
   "source": [
    "for metabolite in [\n",
    "#     'h_m',\n",
    "# 'h_i',\n",
    " 'h_m',\n",
    "\"h_c\", \n",
    "   # 'o2_m', \n",
    "   # 'o2_c', \n",
    "#     'h_e',\n",
    "\"h2o_c\",\n",
    "# 'h2o_m'\n",
    "#     'h2o_r','h2o_e' \n",
    "]:\n",
    "    metabolite = liver.metabolites.get_by_id(metabolite)\n",
    "    metabolite.ic = 1 #M"
   ]
  },
  {
   "cell_type": "code",
   "execution_count": null,
   "metadata": {},
   "outputs": [],
   "source": [
    "print(\"Initial Conditions\\n------------------\")\n",
    "\n",
    "for reaction in liver.reactions:\n",
    "    #Setting inital condition of metabolties from HEPATOKIN  #M \n",
    "    for met in reaction.metabolites:\n",
    "        if met.id in conc_df.index:\n",
    "            mid=met.id\n",
    "            # print(mid)\n",
    "            metabolite = reaction.metabolites\n",
    "            ic_value = conc_df.loc[mid,'Concentration (M)']\n",
    "            print(mid,ic_value)\n",
    "            # row = [mid,ic_value]\n",
    "            # column = [ic_value]\n",
    "            met.ic =  ic_value            \n",
    "for metabolite, ic_value in liver.initial_conditions.items():\n",
    "    print(\"{0}: {1}\".format(metabolite, ic_value))"
   ]
  },
  {
   "cell_type": "code",
   "execution_count": null,
   "metadata": {},
   "outputs": [],
   "source": [
    "#View all the reactions that we need build\n",
    "escher_builder = escher.Builder(\n",
    "    model=liver,\n",
    "    map_json=os.path.join(\n",
    "        maps_dir,\"gly_ppp_tca.json\"),highlight_missing=True)"
   ]
  },
  {
   "cell_type": "code",
   "execution_count": null,
   "metadata": {},
   "outputs": [],
   "source": [
    "#Formulate QP minimization list for concentrations\n",
    "conc_solver = ConcSolver(\n",
    "    liver, \n",
    "    excluded_metabolites=[\n",
    "    \"h_c\",\n",
    "    'h_i', 'h_m',\n",
    "    # 'o2_m', 'o2_c', \n",
    "#         'h_e', 'h_m',\n",
    "#     'h2o_r','h2o_e',\n",
    "        \"h2o_c\",'h2o_m',\n",
    "        \n",
    "#     \"pi_e\",\n",
    "    # \"glc__D_e\",\n",
    "#  \"lac__L_e\",\n",
    "#     \"pyr_e\"\n",
    "    ], \n",
    "    excluded_reactions=[\n",
    "        \n",
    "# 'NADPHM',\n",
    " \"PYRt2m\",\"PEPtm\", 'Htmi','MALtm', 'ATPtm', 'AKGMALtm','O2tm','H2Otm',  'CO2tm', 'PItm' ,'Htm'\n",
    "        \n",
    "        \n",
    "    #     \"Ht\", \"H2Ot\", \"H2Oter\",'PIter','PIt',\n",
    "    # 'G6Pter','GLCter','GLCt1','PYRt2m','PEPtm',\n",
    "    # 'L_LACt2r','PYRt2'\n",
    "    ],\n",
    "\n",
    "    constraint_buffer=1)\n",
    "\n",
    "conc_solver.setup_feasible_qp_problem(\n",
    "fixed_conc_bounds=list(liver.fixed))\n",
    "# fixed_Keq_bounds=liver.reactions.list_attr(\"Keq_str\")\n",
    "    \n",
    "#assumption: provide uncertainity to allow for a variance for the Keqs rather than staying fixed\n",
    "#conc_solver.setup_feasible_qp_problem(Keq_percent_deviation=0.1)\n",
    "\n",
    "conc_solution = conc_solver.optimize()\n",
    "conc_solution"
   ]
  },
  {
   "cell_type": "code",
   "execution_count": null,
   "metadata": {},
   "outputs": [],
   "source": [
    "conc_info=pd.DataFrame(columns=['met','conc'])\n",
    "for met in liver.metabolites:\n",
    "    conc_info.loc[len(conc_info.index)] = [met.id, met.ic]\n",
    "conc_info = conc_info.set_index('met')\n",
    "conc_info"
   ]
  },
  {
   "cell_type": "code",
   "execution_count": null,
   "metadata": {},
   "outputs": [],
   "source": [
    "keq_info=pd.DataFrame(columns=['reaction','Keq_H'])\n",
    "irreverisble=['PYK', 'HEX1', 'PFK', 'PYRt2m', 'ATPM', 'NADHM', 'PEPtm']\n",
    "for rxn in liver.reactions:\n",
    "    if rxn not in liver.boundary and rxn.id not in irreverisble:\n",
    "        keq_info.loc[len(keq_info.index)] = [(\n",
    "            \"Keq_\"+\n",
    "        rxn.id), rxn.Keq]\n",
    "keq_info = keq_info.set_index('reaction')\n",
    "keq_info"
   ]
  },
  {
   "cell_type": "code",
   "execution_count": null,
   "metadata": {},
   "outputs": [],
   "source": [
    "conc_comparison_fig, ax = plt.subplots(nrows=1, ncols=1,\n",
    "                                       figsize=(5, 5))\n",
    "\n",
    "plot_comparison(\n",
    "    x=conc_info['conc'], y=conc_solution,\n",
    "    compare=\"concentrations\",\n",
    "    observable=[mid for mid in conc_info.index], ax=ax,\n",
    "    legend=\"right outside\", plot_function=\"loglog\",\n",
    "    xlim=(1e-6,0.02), ylim=(1e-6,1e-1),\n",
    "    xy_line=True,\n",
    "    xy_legend=\"best\", xlabel=\"Initial [mol/L]\", ylabel=\"Adjusted [mol/L]\")\n",
    "\n",
    "conc_comparison_fig.tight_layout()\n"
   ]
  },
  {
   "cell_type": "code",
   "execution_count": null,
   "metadata": {},
   "outputs": [],
   "source": [
    "update_model_with_concentration_solution(\n",
    "    liver, conc_solution, concentrations=True, inplace=True)"
   ]
  },
  {
   "cell_type": "code",
   "execution_count": null,
   "metadata": {},
   "outputs": [],
   "source": []
  },
  {
   "cell_type": "code",
   "execution_count": null,
   "metadata": {},
   "outputs": [],
   "source": [
    "for k, v in conc_solution.Keqs.items():\n",
    "    keq_info.loc[k,\"Keq_cs\"]= v\n",
    "keq_info = keq_info.reset_index()\n",
    "keq_info"
   ]
  },
  {
   "cell_type": "code",
   "execution_count": null,
   "metadata": {},
   "outputs": [],
   "source": [
    "# scatter plot encodings shared by all marks\n",
    "plot = alt.Chart(keq_info).mark_circle(size=40).encode(\n",
    "    alt.X('Keq_H:Q', scale=alt.Scale(type ='log'),axis=alt.Axis(grid = False)),\n",
    "    alt.Y('Keq_cs:Q', scale=alt.Scale(type ='log'),axis=alt.Axis(grid = False)),\n",
    "    alt.Color('reaction:N',scale=alt.Scale(scheme='turbo')),\n",
    "    tooltip = 'reaction:N'\n",
    ").interactive()\n",
    "\n",
    "# rule = (\n",
    "#     alt.Chart().mark_rule(strokeDash=[12, 6], size=1).encode(x=1.150048e+05, y=1.150048e+05)\n",
    "# )\n",
    "plot\n",
    "# +rule"
   ]
  },
  {
   "cell_type": "code",
   "execution_count": null,
   "metadata": {},
   "outputs": [],
   "source": []
  },
  {
   "cell_type": "code",
   "execution_count": null,
   "metadata": {},
   "outputs": [],
   "source": []
  },
  {
   "cell_type": "code",
   "execution_count": null,
   "metadata": {},
   "outputs": [],
   "source": [
    "#View all the reactions that we need build\n",
    "escher_builder = escher.Builder(\n",
    "    model=liver,\n",
    "    map_json=os.path.join(\n",
    "        maps_dir,\"gly_ppp_tca.json\"),highlight_missing=True)\n",
    "\n",
    "escher_builder"
   ]
  },
  {
   "cell_type": "code",
   "execution_count": null,
   "metadata": {},
   "outputs": [],
   "source": [
    "liver.calculate_PERCs(fluxes={\n",
    "                r: v for r, v in liver.steady_state_fluxes.items()\n",
    "                if not (r.boundary  \n",
    "                or r== liver.reactions.PYRt2m\n",
    "                or r== liver.reactions.PEPtm\n",
    "                # or r== liver.reactions.Htmi\n",
    "                # or r== liver.reactions.MALtm\n",
    "                # or r== liver.reactions.ATPtm\n",
    "                # or r== liver.reactions.AKGMALtm\n",
    "                # or r== liver.reactions.O2tm\n",
    "                # or r== liver.reactions.H2Otm\n",
    "                # or r== liver.reactions.CO2tm\n",
    "                # or r== liver.reactions.PItm\n",
    "                or r== liver.reactions.Htm\n",
    "            \n",
    "                       )\n",
    "},\n",
    "                      update_reactions=True)\n",
    "\n",
    "print(\"Forward Rate Constants\\n----------------------\")\n",
    "for reaction in liver.reactions:\n",
    "    print(\"{0}: {1:.6f}\".format(reaction.kf_str, reaction.kf))"
   ]
  },
  {
   "cell_type": "code",
   "execution_count": null,
   "metadata": {},
   "outputs": [],
   "source": [
    "# conc_solution.concentrations.co2_c\n",
    "conc_solution.concentrations.hco3_m"
   ]
  },
  {
   "cell_type": "code",
   "execution_count": null,
   "metadata": {},
   "outputs": [],
   "source": [
    "liver.boundary_conditions['h2o_b']=1 ##M # from HEPATOKIN conc\n",
    "liver.boundary_conditions['h_b']=0.0064 ##M # from HEPATOKIN conc\n",
    "liver.boundary_conditions['co2_b']=9.999999999999996e-11# from conc_solver\n",
    "liver.boundary_conditions['o2s_b']=9.999999999999996e-11\n",
    "liver.boundary_conditions['o2_b']=1.0 # from conc_solver\n",
    "liver.boundary_conditions['gdp_b']=0.9331209144774273 # from conc_solver\n",
    "liver.boundary_conditions['gtp_b']=1.0716724751154323 # from conc_solver\n",
    "liver.boundary_conditions['hco3_b']=6.350548861722487e-05 # from conc_solver\n",
    "\n"
   ]
  },
  {
   "cell_type": "code",
   "execution_count": null,
   "metadata": {},
   "outputs": [],
   "source": []
  },
  {
   "cell_type": "code",
   "execution_count": null,
   "metadata": {},
   "outputs": [],
   "source": [
    "#Function to add underscore in front of metabolite identifiers which start with a number\n",
    "## fix this only after getting Keq from equlibrator because bigg doesn't have _13dpg for example\n",
    "def prefix_number_id(id_str):\n",
    "    \"\"\"Prefix identifiers that start with numbers.\"\"\"\n",
    "    if re.match(r\"^\\d\", id_str):\n",
    "        id_str = \"_\" + id_str\n",
    "    return id_str"
   ]
  },
  {
   "cell_type": "code",
   "execution_count": null,
   "metadata": {},
   "outputs": [],
   "source": [
    "#Loop to edit the names using \"prefix_number_id\" function defined earlier\n",
    "for metabolite in liver.metabolites:\n",
    "    new_met_id = prefix_number_id(metabolite.id)\n",
    "    metabolite.id = new_met_id\n",
    "liver.repair()"
   ]
  },
  {
   "cell_type": "code",
   "execution_count": null,
   "metadata": {},
   "outputs": [],
   "source": [
    "qcqa_model(liver, parameters=True, concentrations=True,\n",
    "           fluxes=True, superfluous=True, elemental=True)"
   ]
  },
  {
   "cell_type": "code",
   "execution_count": null,
   "metadata": {},
   "outputs": [],
   "source": [
    "from roadrunner import __version__\n",
    "__version__"
   ]
  },
  {
   "cell_type": "code",
   "execution_count": null,
   "metadata": {},
   "outputs": [],
   "source": [
    "# from mass.util.matrix import eig\n",
    "# from mass.util.matrix import jacobian"
   ]
  },
  {
   "cell_type": "code",
   "execution_count": null,
   "metadata": {},
   "outputs": [],
   "source": [
    "# jac= jacobian(liver)\n",
    "\n",
    "# jac"
   ]
  },
  {
   "cell_type": "code",
   "execution_count": null,
   "metadata": {},
   "outputs": [],
   "source": [
    "# eigen= eig(jac)\n",
    "# eigen"
   ]
  },
  {
   "cell_type": "code",
   "execution_count": null,
   "metadata": {},
   "outputs": [],
   "source": [
    "# eig(liver.stoichiometric_matrix, right=True)"
   ]
  },
  {
   "cell_type": "code",
   "execution_count": null,
   "metadata": {},
   "outputs": [],
   "source": [
    "# liver.update_S(array_type=\"DataFrame\", dtype=int)\n",
    "simG.integrator.max_iter"
   ]
  },
  {
   "cell_type": "code",
   "execution_count": null,
   "metadata": {},
   "outputs": [],
   "source": [
    "simG=Simulation(liver, verbose=True)\n",
    "# simG.integrator.minimum_time_step=1e-15\n",
    "# simG.integrator.maximum_time_step=1e1\n",
    "simG.integrator.maximum_num_steps=1e3\n",
    "# simG.integrator.initial_time_step=1e-12\n",
    "\n",
    "# conc_sol, flux_sol = simG.find_steady_state(liver, strategy=\"simulate\")\n",
    "# for metabolite, solution in conc_sol.items():\n",
    "#     print(\"{0}: {1}\".format(metabolite, solution))\n",
    "\n",
    "\n",
    "conc_sol, flux_sol = simG.find_steady_state(liver, strategy=\"simulate\")\n",
    "for metabolite, solution in conc_sol.items():\n",
    "    print(\"{0}: {1}\".format(metabolite, solution))"
   ]
  },
  {
   "cell_type": "code",
   "execution_count": null,
   "metadata": {},
   "outputs": [],
   "source": [
    "print(simG.integrator)"
   ]
  },
  {
   "cell_type": "code",
   "execution_count": null,
   "metadata": {},
   "outputs": [],
   "source": [
    "# Setup simulation object\n",
    "\n",
    "\n",
    "# simG.integrator.maximum_time_step= 1000\n",
    "# Simulate from 0 to 1000 with 10001 points in the output\n",
    "# simG.time_step\n",
    "conc_sol, flux_sol = simG.simulate(liver, time=(0, 1e3),interpolate=True)\n",
    "# Quickly render and display time profiles\n",
    "# conc_sol.view_time_profile()"
   ]
  },
  {
   "cell_type": "code",
   "execution_count": null,
   "metadata": {},
   "outputs": [],
   "source": []
  }
 ],
 "metadata": {
  "kernelspec": {
   "display_name": "massliver",
   "language": "python",
   "name": "python3"
  },
  "language_info": {
   "codemirror_mode": {
    "name": "ipython",
    "version": 3
   },
   "file_extension": ".py",
   "mimetype": "text/x-python",
   "name": "python",
   "nbconvert_exporter": "python",
   "pygments_lexer": "ipython3",
   "version": "3.8.12"
  },
  "vscode": {
   "interpreter": {
    "hash": "dac1de4d04d521f2478106b8cf0804304a8a54afaab58ac4b602c07888c6e2cc"
   }
  }
 },
 "nbformat": 4,
 "nbformat_minor": 4
}
