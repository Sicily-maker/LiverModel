{
 "cells": [
  {
   "cell_type": "markdown",
   "metadata": {},
   "source": [
    "## extracting from recon3d"
   ]
  },
  {
   "cell_type": "code",
   "execution_count": 1,
   "metadata": {},
   "outputs": [
    {
     "name": "stdout",
     "output_type": "stream",
     "text": [
      "MASSpy version: 0.1.6\n"
     ]
    }
   ],
   "source": [
    "import os\n",
    "import re\n",
    "import warnings\n",
    "from cobra.io.json import load_json_model as load_json_cobra_model\n",
    "import escher\n",
    "import mass\n",
    "import numpy as np\n",
    "import pandas as pd\n",
    "import equilibrator_api\n",
    "from equilibrator_api import ComponentContribution, Q_\n",
    "import sympy as sym\n",
    "from cobra import Model, Reaction, Metabolite\n",
    "import cobra.test\n",
    "from os.path import join\n",
    "from mass.util import qcqa\n",
    "from mass.util import qcqa_model\n",
    "from cobra import DictList\n",
    "from mass import (\n",
    "    MassConfiguration, MassMetabolite, MassModel,\n",
    "    MassReaction, Simulation, UnitDefinition)\n",
    "from mass.io.json import save_json_model as save_json_mass_model\n",
    "from mass.visualization import plot_comparison, plot_time_profile\n",
    "from mass.visualization import (\n",
    "    plot_ensemble_phase_portrait, plot_ensemble_time_profile)\n",
    "mass_config = MassConfiguration()\n",
    "mass_config.irreversible_Keq = float(\"inf\")\n",
    "print(\"MASSpy version: {0}\".format(mass.__version__))\n",
    "from six import iteritems\n",
    "import matplotlib.pyplot as plt\n",
    "from mass.thermo import (\n",
    "    ConcSolver, sample_concentrations,\n",
    "    update_model_with_concentration_solution)\n",
    "from cobra.io.json import *\n",
    "import cobra_dict as c_d\n",
    "import csv\n"
   ]
  },
  {
   "cell_type": "code",
   "execution_count": 2,
   "metadata": {},
   "outputs": [
    {
     "name": "stdout",
     "output_type": "stream",
     "text": [
      "Set parameter Username\n",
      "\n",
      "--------------------------------------------\n",
      "Warning: your license will expire in 13 days\n",
      "--------------------------------------------\n",
      "\n",
      "Academic license - for non-commercial use only - expires 2022-03-01\n"
     ]
    }
   ],
   "source": [
    "#load Recon3D\n",
    "model_dir = os.path.abspath(\"models\")\n",
    "data_dir = os.path.abspath(\"data\")\n",
    "# model_dir\n",
    "R3D=load_json_cobra_model(filename=os.path.join(model_dir,\"Recon3D.json\"))\n",
    "glycolysis_ppp_tca_etc= load_json_cobra_model(filename=os.path.join(model_dir,\"glycolysis_ppp_tca_etc_model.json\"))\n",
    "\n"
   ]
  },
  {
   "cell_type": "code",
   "execution_count": 3,
   "metadata": {},
   "outputs": [
    {
     "data": {
      "text/html": [
       "\n",
       "        <table>\n",
       "            <tr>\n",
       "                <td><strong>Reaction identifier</strong></td><td>NADPHM</td>\n",
       "            </tr><tr>\n",
       "                <td><strong>Name</strong></td><td></td>\n",
       "            </tr><tr>\n",
       "                <td><strong>Memory address</strong></td>\n",
       "                <td>0x02594da2d8e0</td>\n",
       "            </tr><tr>\n",
       "                <td><strong>Stoichiometry</strong></td>\n",
       "                <td>\n",
       "                    <p style='text-align:right'>nadph_c --> h_c + nadp_c</p>\n",
       "                    <p style='text-align:right'>Nicotinamide adenine dinucleotide phosphate - reduced --> H+ + Nicotinamide adenine dinucleotide phosphate</p>\n",
       "                </td>\n",
       "            </tr><tr>\n",
       "                <td><strong>GPR</strong></td><td></td>\n",
       "            </tr><tr>\n",
       "                <td><strong>Lower bound</strong></td><td>0.0</td>\n",
       "            </tr><tr>\n",
       "                <td><strong>Upper bound</strong></td><td>1000.0</td>\n",
       "            </tr>\n",
       "        </table>\n",
       "        "
      ],
      "text/plain": [
       "<Reaction NADPHM at 0x2594da2d8e0>"
      ]
     },
     "execution_count": 3,
     "metadata": {},
     "output_type": "execute_result"
    }
   ],
   "source": [
    "glycolysis_ppp_tca_etc.reactions.NADPHM"
   ]
  },
  {
   "cell_type": "code",
   "execution_count": 4,
   "metadata": {},
   "outputs": [],
   "source": [
    "_REQUIRED_REACTION_ATTRIBUTES = [\n",
    "    \"id\",\n",
    "    \"name\",\n",
    "    \"metabolites\",\n",
    "    \"lower_bound\",\n",
    "    \"upper_bound\",\n",
    "#     \"gene_reaction_rule\",\n",
    "]\n",
    "\n",
    "_REQUIRED_METABOLITE_ATTRIBUTES = [\"id\", \"name\", \"charge\",\"formula\", \"compartment\"]\n",
    "_ORDERED_OPTIONAL_METABOLITE_KEYS = [\n",
    "   \n",
    "    \"_bound\",\n",
    "    \"notes\",\n",
    "    \"annotation\",\n",
    "]\n"
   ]
  },
  {
   "cell_type": "code",
   "execution_count": 5,
   "metadata": {},
   "outputs": [],
   "source": [
    "# def metabolite_to_dict(metabolite):\n",
    "#     new_met = dict()\n",
    "#     for key in _REQUIRED_METABOLITE_ATTRIBUTES:\n",
    "#         new_met[key] = _fix_type(getattr(metabolite, key))\n",
    "#     return new_met\n",
    "from cobra_dict import metabolite_to_dict as metabolite_to_dict\n",
    "from cobra_dict import reaction_to_dict as reaction_to_dict"
   ]
  },
  {
   "cell_type": "code",
   "execution_count": 7,
   "metadata": {},
   "outputs": [
    {
     "data": {
      "text/plain": [
       "69"
      ]
     },
     "execution_count": 7,
     "metadata": {},
     "output_type": "execute_result"
    }
   ],
   "source": [
    "reaction_list=[]\n",
    "for rid in glycolysis_ppp_tca_etc.reactions:\n",
    "    reaction_list.append(rid.id)\n",
    "len(reaction_list)"
   ]
  },
  {
   "cell_type": "code",
   "execution_count": 9,
   "metadata": {},
   "outputs": [
    {
     "data": {
      "text/plain": [
       "74"
      ]
     },
     "execution_count": 9,
     "metadata": {},
     "output_type": "execute_result"
    }
   ],
   "source": [
    "metabolite_list=[]\n",
    "for mid in glycolysis_ppp_tca_etc.metabolites:\n",
    "    metabolite_list.append(mid.id)\n",
    "len(metabolite_list)"
   ]
  },
  {
   "cell_type": "code",
   "execution_count": 8,
   "metadata": {},
   "outputs": [],
   "source": [
    "#Function to add underscore in front of metabolite identifiers which start with a number\n",
    "def prefix_number_id(id_str):\n",
    "    \"\"\"Prefix identifiers that start with numbers.\"\"\"\n",
    "    if re.match(r\"^\\d\", id_str):\n",
    "        id_str = \"_\" + id_str\n",
    "    return id_str"
   ]
  },
  {
   "cell_type": "code",
   "execution_count": 9,
   "metadata": {},
   "outputs": [],
   "source": [
    "# #Loop to edit the names using \"prefix_number_id\" function defined earlier\n",
    "# for metabolite in glycolysis_ppp_tca_etc.metabolites:\n",
    "#     new_met_id = prefix_number_id(metabolite.id)\n",
    "#     metabolite.id = new_met_id\n",
    "# glycolysis_ppp_tca_etc.repair()"
   ]
  },
  {
   "cell_type": "code",
   "execution_count": 10,
   "metadata": {},
   "outputs": [
    {
     "data": {
      "text/html": [
       "<div>\n",
       "<style scoped>\n",
       "    .dataframe tbody tr th:only-of-type {\n",
       "        vertical-align: middle;\n",
       "    }\n",
       "\n",
       "    .dataframe tbody tr th {\n",
       "        vertical-align: top;\n",
       "    }\n",
       "\n",
       "    .dataframe thead th {\n",
       "        text-align: right;\n",
       "    }\n",
       "</style>\n",
       "<table border=\"1\" class=\"dataframe\">\n",
       "  <thead>\n",
       "    <tr style=\"text-align: right;\">\n",
       "      <th></th>\n",
       "      <th>name</th>\n",
       "      <th>charge</th>\n",
       "      <th>formula</th>\n",
       "      <th>compartment</th>\n",
       "    </tr>\n",
       "    <tr>\n",
       "      <th>id</th>\n",
       "      <th></th>\n",
       "      <th></th>\n",
       "      <th></th>\n",
       "      <th></th>\n",
       "    </tr>\n",
       "  </thead>\n",
       "  <tbody>\n",
       "    <tr>\n",
       "      <th>h_i</th>\n",
       "      <td>H+</td>\n",
       "      <td>0</td>\n",
       "      <td>H</td>\n",
       "      <td>i</td>\n",
       "    </tr>\n",
       "    <tr>\n",
       "      <th>h_m</th>\n",
       "      <td>H+</td>\n",
       "      <td>0</td>\n",
       "      <td>H</td>\n",
       "      <td>m</td>\n",
       "    </tr>\n",
       "    <tr>\n",
       "      <th>nad_m</th>\n",
       "      <td>Nicotinamide adenine dinucleotide</td>\n",
       "      <td>-1</td>\n",
       "      <td>C21H26N7O14P2</td>\n",
       "      <td>m</td>\n",
       "    </tr>\n",
       "    <tr>\n",
       "      <th>nadh_m</th>\n",
       "      <td>Nicotinamide adenine dinucleotide - reduced</td>\n",
       "      <td>-2</td>\n",
       "      <td>C21H27N7O14P2</td>\n",
       "      <td>m</td>\n",
       "    </tr>\n",
       "    <tr>\n",
       "      <th>q10_m</th>\n",
       "      <td>Ubiquinone-10</td>\n",
       "      <td>0</td>\n",
       "      <td>C59H90O4</td>\n",
       "      <td>m</td>\n",
       "    </tr>\n",
       "    <tr>\n",
       "      <th>...</th>\n",
       "      <td>...</td>\n",
       "      <td>...</td>\n",
       "      <td>...</td>\n",
       "      <td>...</td>\n",
       "    </tr>\n",
       "    <tr>\n",
       "      <th>e4p_c</th>\n",
       "      <td>D-Erythrose 4-phosphate</td>\n",
       "      <td>-2</td>\n",
       "      <td>C4H7O7P</td>\n",
       "      <td>c</td>\n",
       "    </tr>\n",
       "    <tr>\n",
       "      <th>h2o2_c</th>\n",
       "      <td>Hydrogen peroxide</td>\n",
       "      <td>0</td>\n",
       "      <td>H2O2</td>\n",
       "      <td>c</td>\n",
       "    </tr>\n",
       "    <tr>\n",
       "      <th>o2s_c</th>\n",
       "      <td>Superoxide anion</td>\n",
       "      <td>-1</td>\n",
       "      <td>O2</td>\n",
       "      <td>c</td>\n",
       "    </tr>\n",
       "    <tr>\n",
       "      <th>gthox_c</th>\n",
       "      <td>Oxidized glutathione</td>\n",
       "      <td>-2</td>\n",
       "      <td>C20H30N6O12S2</td>\n",
       "      <td>c</td>\n",
       "    </tr>\n",
       "    <tr>\n",
       "      <th>gthrd_c</th>\n",
       "      <td>Reduced glutathione</td>\n",
       "      <td>-1</td>\n",
       "      <td>C10H16N3O6S</td>\n",
       "      <td>c</td>\n",
       "    </tr>\n",
       "  </tbody>\n",
       "</table>\n",
       "<p>74 rows × 4 columns</p>\n",
       "</div>"
      ],
      "text/plain": [
       "                                                name charge        formula  \\\n",
       "id                                                                           \n",
       "h_i                                               H+      0              H   \n",
       "h_m                                               H+      0              H   \n",
       "nad_m              Nicotinamide adenine dinucleotide     -1  C21H26N7O14P2   \n",
       "nadh_m   Nicotinamide adenine dinucleotide - reduced     -2  C21H27N7O14P2   \n",
       "q10_m                                  Ubiquinone-10      0       C59H90O4   \n",
       "...                                              ...    ...            ...   \n",
       "e4p_c                        D-Erythrose 4-phosphate     -2        C4H7O7P   \n",
       "h2o2_c                             Hydrogen peroxide      0           H2O2   \n",
       "o2s_c                               Superoxide anion     -1             O2   \n",
       "gthox_c                         Oxidized glutathione     -2  C20H30N6O12S2   \n",
       "gthrd_c                          Reduced glutathione     -1    C10H16N3O6S   \n",
       "\n",
       "        compartment  \n",
       "id                   \n",
       "h_i               i  \n",
       "h_m               m  \n",
       "nad_m             m  \n",
       "nadh_m            m  \n",
       "q10_m             m  \n",
       "...             ...  \n",
       "e4p_c             c  \n",
       "h2o2_c            c  \n",
       "o2s_c             c  \n",
       "gthox_c           c  \n",
       "gthrd_c           c  \n",
       "\n",
       "[74 rows x 4 columns]"
      ]
     },
     "execution_count": 10,
     "metadata": {},
     "output_type": "execute_result"
    }
   ],
   "source": [
    "met_df=pd.DataFrame()\n",
    "for met in metabolite_list:\n",
    "    r3d_met= R3D.metabolites.get_by_id(met)\n",
    "    m=metabolite_to_dict(r3d_met)\n",
    "    df_2=pd.DataFrame.from_dict(m,orient='index')\n",
    "    df_2=df_2.T\n",
    "    met_df=met_df.append(df_2)\n",
    "\n",
    "met_df=met_df.set_index('id')\n",
    "met_df"
   ]
  },
  {
   "cell_type": "code",
   "execution_count": 19,
   "metadata": {},
   "outputs": [],
   "source": [
    "csv_met = os.path.join(data_dir,\"core_met_df.csv\")\n",
    "met_df.to_csv(csv_met)"
   ]
  },
  {
   "cell_type": "code",
   "execution_count": 12,
   "metadata": {},
   "outputs": [],
   "source": [
    "# reaction_list = ['HEX1',\n",
    "#                 'PGI',\n",
    "#                 'FBP',\n",
    "#                 'PFK',\n",
    "#                 'FBA',\n",
    "#                 'TPI',\n",
    "#                 'GAPD',\n",
    "#                 'PGK',\n",
    "#                 'PGM',\n",
    "#                 'ENO',\n",
    "#                 # 'PEPtm',\n",
    "#                 'PEPCKm',\n",
    "#                 'PYK',\n",
    "#                 'PCm',\n",
    "#                 'LDH_L',\n",
    "# #                 'G6Pter',\n",
    "# #                 'G6PPer',\n",
    "# #                 'GLCter',\n",
    "# #                 'GLCt1',\n",
    "#                 'PYRt2m', \n",
    "# #                 'H2Oter', \n",
    "# #                 'PIter', \n",
    "# #                 'H2Ot', \n",
    "# #                 'PIt', \n",
    "# #                 'Ht', \n",
    "# #                 'L_LACt2r', #lactose transport between lactate in cytosol and extracellular \n",
    "# #                  'PYRt2',\n",
    "#                 'ADK1',\n",
    "#                 'ATPM',\n",
    "# #                 'DM_nadh'\n",
    "#                 ]"
   ]
  },
  {
   "cell_type": "code",
   "execution_count": 16,
   "metadata": {},
   "outputs": [
    {
     "data": {
      "text/plain": [
       "['Htm',\n",
       " 'PItm',\n",
       " 'PEPtm',\n",
       " 'EX_co2_c',\n",
       " 'EX_o2_c',\n",
       " 'EX_h_c',\n",
       " 'EX_h2o_c',\n",
       " 'EX_pi_c',\n",
       " 'EX_glc__D_c',\n",
       " 'EX_lac__L_c',\n",
       " 'NADPHM',\n",
       " 'EX_r5p_c',\n",
       " 'EX_o2s_c']"
      ]
     },
     "execution_count": 16,
     "metadata": {},
     "output_type": "execute_result"
    }
   ],
   "source": [
    "rxn_df=pd.DataFrame()\n",
    "reactions_not_in_r3d=[]\n",
    "for rxn in reaction_list:\n",
    "    if rxn in R3D.reactions:\n",
    "        r3d_rxn= R3D.reactions.get_by_id(rxn)\n",
    "        r=reaction_to_dict(r3d_rxn)\n",
    "    #     print(r)\n",
    "        df=pd.DataFrame.from_dict(r,orient='index')\n",
    "        df=df.T\n",
    "        rxn_df=rxn_df.append(df)\n",
    "    else:\n",
    "        reactions_not_in_r3d.append(rxn)\n",
    "\n",
    "rxn_df=rxn_df.set_index('id')\n",
    "rxn_df\n",
    "reactions_not_in_r3d"
   ]
  },
  {
   "cell_type": "code",
   "execution_count": 17,
   "metadata": {},
   "outputs": [],
   "source": [
    "csv_rxn = os.path.join(data_dir,\"core_reaction_df.csv\")\n",
    "rxn_df.to_csv(csv_rxn)"
   ]
  },
  {
   "cell_type": "code",
   "execution_count": 18,
   "metadata": {},
   "outputs": [],
   "source": [
    "json_rxn = os.path.join(data_dir,\"core_reaction_df.json\")\n",
    "rxn_df.to_json(json_rxn\n",
    ",orient=\"index\"\n",
    ")   "
   ]
  }
 ],
 "metadata": {
  "interpreter": {
   "hash": "47617ef91c57040f324d0d309b22e5ef5668d4be6a46473e64f0486748e04983"
  },
  "kernelspec": {
   "display_name": "Python 3.8.12 64-bit ('massliver': conda)",
   "language": "python",
   "name": "python3"
  },
  "language_info": {
   "codemirror_mode": {
    "name": "ipython",
    "version": 3
   },
   "file_extension": ".py",
   "mimetype": "text/x-python",
   "name": "python",
   "nbconvert_exporter": "python",
   "pygments_lexer": "ipython3",
   "version": "3.8.12"
  },
  "orig_nbformat": 4
 },
 "nbformat": 4,
 "nbformat_minor": 2
}
