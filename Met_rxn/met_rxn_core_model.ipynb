{
 "cells": [
  {
   "cell_type": "markdown",
   "metadata": {},
   "source": [
    "## extracting from recon3d"
   ]
  },
  {
   "cell_type": "code",
   "execution_count": 1,
   "metadata": {},
   "outputs": [
    {
     "name": "stdout",
     "output_type": "stream",
     "text": [
      "MASSpy version: 0.1.6\n"
     ]
    }
   ],
   "source": [
    "import os\n",
    "import re\n",
    "import warnings\n",
    "from cobra.io.json import load_json_model as load_json_cobra_model\n",
    "import escher\n",
    "import mass\n",
    "import numpy as np\n",
    "import pandas as pd\n",
    "import equilibrator_api\n",
    "from equilibrator_api import ComponentContribution, Q_\n",
    "import sympy as sym\n",
    "from cobra import Model, Reaction, Metabolite\n",
    "import cobra.test\n",
    "from os.path import join\n",
    "from mass.util import qcqa\n",
    "from mass.util import qcqa_model\n",
    "from cobra import DictList\n",
    "from mass import (\n",
    "    MassConfiguration, MassMetabolite, MassModel,\n",
    "    MassReaction, Simulation, UnitDefinition)\n",
    "from mass.io.json import save_json_model as save_json_mass_model\n",
    "from mass.visualization import plot_comparison, plot_time_profile\n",
    "from mass.visualization import (\n",
    "    plot_ensemble_phase_portrait, plot_ensemble_time_profile)\n",
    "mass_config = MassConfiguration()\n",
    "mass_config.irreversible_Keq = float(\"inf\")\n",
    "print(\"MASSpy version: {0}\".format(mass.__version__))\n",
    "from six import iteritems\n",
    "import matplotlib.pyplot as plt\n",
    "from mass.thermo import (\n",
    "    ConcSolver, sample_concentrations,\n",
    "    update_model_with_concentration_solution)\n",
    "from cobra.io.json import *\n",
    "import cobra_dict as c_d\n",
    "import csv\n"
   ]
  },
  {
   "cell_type": "code",
   "execution_count": 2,
   "metadata": {},
   "outputs": [
    {
     "name": "stdout",
     "output_type": "stream",
     "text": [
      "Set parameter Username\n",
      "Academic license - for non-commercial use only - expires 2023-07-02\n"
     ]
    }
   ],
   "source": [
    "#load Recon3D\n",
    "model_dir = os.path.abspath(\"models\")\n",
    "data_dir = os.path.abspath(\"data\")\n",
    "# model_dir\n",
    "R3D=load_json_cobra_model(filename=os.path.join(model_dir,\"Recon3D.json\"))\n",
    "core= load_json_cobra_model(filename=os.path.join(model_dir,\"CoreModel.json\"))\n",
    "glycolysis_ppp_tca_etc= load_json_cobra_model(filename=os.path.join(model_dir,\"glycolysis_ppp_tca_etc_model.json\"))\n",
    "\n"
   ]
  },
  {
   "cell_type": "code",
   "execution_count": 3,
   "metadata": {},
   "outputs": [
    {
     "data": {
      "text/html": [
       "\n",
       "        <table>\n",
       "            <tr>\n",
       "                <td><strong>Reaction identifier</strong></td><td>NADPHM</td>\n",
       "            </tr><tr>\n",
       "                <td><strong>Name</strong></td><td></td>\n",
       "            </tr><tr>\n",
       "                <td><strong>Memory address</strong></td>\n",
       "                <td>0x013906cb52e0</td>\n",
       "            </tr><tr>\n",
       "                <td><strong>Stoichiometry</strong></td>\n",
       "                <td>\n",
       "                    <p style='text-align:right'>nadph_c --> h_c + nadp_c</p>\n",
       "                    <p style='text-align:right'>Nicotinamide adenine dinucleotide phosphate - reduced --> H+ + Nicotinamide adenine dinucleotide phosphate</p>\n",
       "                </td>\n",
       "            </tr><tr>\n",
       "                <td><strong>GPR</strong></td><td></td>\n",
       "            </tr><tr>\n",
       "                <td><strong>Lower bound</strong></td><td>0.0</td>\n",
       "            </tr><tr>\n",
       "                <td><strong>Upper bound</strong></td><td>1000.0</td>\n",
       "            </tr>\n",
       "        </table>\n",
       "        "
      ],
      "text/plain": [
       "<Reaction NADPHM at 0x13906cb52e0>"
      ]
     },
     "execution_count": 3,
     "metadata": {},
     "output_type": "execute_result"
    }
   ],
   "source": [
    "glycolysis_ppp_tca_etc.reactions.NADPHM"
   ]
  },
  {
   "cell_type": "code",
   "execution_count": 4,
   "metadata": {},
   "outputs": [],
   "source": [
    "_REQUIRED_REACTION_ATTRIBUTES = [\n",
    "    \"id\",\n",
    "    \"name\",\n",
    "    \"metabolites\",\n",
    "    \"lower_bound\",\n",
    "    \"upper_bound\",\n",
    "#     \"gene_reaction_rule\",\n",
    "]\n",
    "\n",
    "_REQUIRED_METABOLITE_ATTRIBUTES = [\"id\", \"name\", \"charge\",\"formula\", \"compartment\"]\n",
    "_ORDERED_OPTIONAL_METABOLITE_KEYS = [\n",
    "   \n",
    "    \"_bound\",\n",
    "    \"notes\",\n",
    "    \"annotation\",\n",
    "]\n"
   ]
  },
  {
   "cell_type": "code",
   "execution_count": 5,
   "metadata": {},
   "outputs": [],
   "source": [
    "# def metabolite_to_dict(metabolite):\n",
    "#     new_met = dict()\n",
    "#     for key in _REQUIRED_METABOLITE_ATTRIBUTES:\n",
    "#         new_met[key] = _fix_type(getattr(metabolite, key))\n",
    "#     return new_met\n",
    "from cobra_dict import metabolite_to_dict as metabolite_to_dict\n",
    "from cobra_dict import reaction_to_dict as reaction_to_dict"
   ]
  },
  {
   "cell_type": "code",
   "execution_count": 6,
   "metadata": {},
   "outputs": [],
   "source": [
    "reaction_list = []\n",
    "reaction_list = [\n",
    "                'PEPtm',\n",
    "                'PEPCKm',\n",
    "                'PYK',\n",
    "                'PCm',\n",
    "                'LDH_L',\n",
    "                \n",
    "                'PGMT',\n",
    "                \"GLPASE2\",\n",
    "                'GLDBRAN',\n",
    "                'GLBRAN',\n",
    "                \"GLPASE1\",\n",
    "                'GLGNS1',\n",
    "                'GGNG',\n",
    "                'GALUi',\n",
    "\n",
    "                'ADK1'\n",
    "                ]"
   ]
  },
  {
   "cell_type": "code",
   "execution_count": 7,
   "metadata": {},
   "outputs": [
    {
     "data": {
      "text/plain": [
       "['PEPtm',\n",
       " 'PEPCKm',\n",
       " 'PYK',\n",
       " 'PCm',\n",
       " 'LDH_L',\n",
       " 'PGMT',\n",
       " 'GLPASE2',\n",
       " 'GLDBRAN',\n",
       " 'GLBRAN',\n",
       " 'GLPASE1',\n",
       " 'GLGNS1',\n",
       " 'GGNG',\n",
       " 'GALUi',\n",
       " 'ADK1',\n",
       " 'NADH2_u10mi',\n",
       " 'FADH2ETC',\n",
       " 'CYOR_u10mi',\n",
       " 'CYOOm2i',\n",
       " 'ATPS4mi',\n",
       " 'Htmi',\n",
       " 'CSm',\n",
       " 'ACONTm',\n",
       " 'ICDHxm',\n",
       " 'AKGDm',\n",
       " 'SUCOASm',\n",
       " 'SUCD1m',\n",
       " 'FUMm',\n",
       " 'MDHm',\n",
       " 'PDHm',\n",
       " 'FBP',\n",
       " 'MALtm',\n",
       " 'MDH',\n",
       " 'PEPCK_re',\n",
       " 'HCO3Em',\n",
       " 'ATPtm',\n",
       " 'AKGMALtm',\n",
       " 'ASPTA',\n",
       " 'ASPTAm',\n",
       " 'PYRt2m',\n",
       " 'ASPGLUm',\n",
       " 'Htm',\n",
       " 'O2tm',\n",
       " 'H2Otm',\n",
       " 'PItm',\n",
       " 'CO2tm',\n",
       " 'EX_co2_c',\n",
       " 'EX_o2_c',\n",
       " 'EX_h_c',\n",
       " 'EX_h2o_c',\n",
       " 'EX_pi_c',\n",
       " 'NDPK1m',\n",
       " 'NDPK1',\n",
       " 'ATPM',\n",
       " 'HEX1',\n",
       " 'PGI',\n",
       " 'PFK',\n",
       " 'FBA',\n",
       " 'TPI',\n",
       " 'GAPD',\n",
       " 'PGK',\n",
       " 'PGM',\n",
       " 'ENO',\n",
       " 'EX_glc__D_c',\n",
       " 'EX_lac__L_c',\n",
       " 'G6PDH2r',\n",
       " 'PGL',\n",
       " 'GND',\n",
       " 'RPI',\n",
       " 'RPE',\n",
       " 'TKT1',\n",
       " 'TKT2',\n",
       " 'TALA',\n",
       " 'SPODM',\n",
       " 'GTHPi',\n",
       " 'GTHOr',\n",
       " 'NADPHM',\n",
       " 'EX_r5p_c',\n",
       " 'EX_o2s_c']"
      ]
     },
     "execution_count": 7,
     "metadata": {},
     "output_type": "execute_result"
    }
   ],
   "source": [
    "# reaction_list=[]\n",
    "for rid in glycolysis_ppp_tca_etc.reactions:\n",
    "    if rid.id not in reaction_list:\n",
    "        reaction_list.append(rid.id)\n",
    "reaction_list"
   ]
  },
  {
   "cell_type": "code",
   "execution_count": 8,
   "metadata": {},
   "outputs": [
    {
     "data": {
      "text/plain": [
       "['PEPtm',\n",
       " 'Htm',\n",
       " 'PItm',\n",
       " 'EX_co2_c',\n",
       " 'EX_o2_c',\n",
       " 'EX_h_c',\n",
       " 'EX_h2o_c',\n",
       " 'EX_pi_c',\n",
       " 'EX_glc__D_c',\n",
       " 'EX_lac__L_c',\n",
       " 'NADPHM',\n",
       " 'EX_r5p_c',\n",
       " 'EX_o2s_c']"
      ]
     },
     "execution_count": 8,
     "metadata": {},
     "output_type": "execute_result"
    }
   ],
   "source": [
    "metabolite_list=[]\n",
    "met_df=pd.DataFrame()\n",
    "rxn_df=pd.DataFrame()\n",
    "reactions_not_in_r3d=[]\n",
    "for rxn in reaction_list:\n",
    "    if rxn in R3D.reactions:\n",
    "        if rxn == \"DGAT\":\n",
    "            reaction = core.reactions.get_by_id(rxn)\n",
    "            r=reaction_to_dict(reaction)\n",
    "            reactions_not_in_r3d.append(rxn)\n",
    "            print(\"ahaha gochu\")\n",
    "        else:\n",
    "            reaction= R3D.reactions.get_by_id(rxn)\n",
    "            r=reaction_to_dict(reaction)    \n",
    "    elif rxn in core.reactions:\n",
    "        reaction = core.reactions.get_by_id(rxn)\n",
    "        r=reaction_to_dict(reaction)\n",
    "        reactions_not_in_r3d.append(rxn)\n",
    "    else:\n",
    "        reaction = glycolysis_ppp_tca_etc.reactions.get_by_id(rxn)\n",
    "        r=reaction_to_dict(reaction)\n",
    "        reactions_not_in_r3d.append(rxn)\n",
    "\n",
    "\n",
    "    df=pd.DataFrame.from_dict(r,orient='index')\n",
    "    df=df.T\n",
    "    rxn_df= pd.concat([rxn_df, df])\n",
    "    for met in reaction.metabolites:\n",
    "        if met.id not in metabolite_list:\n",
    "            if met.id in R3D.metabolites:\n",
    "                metabolite= R3D.metabolites.get_by_id(met.id)\n",
    "                m=metabolite_to_dict(metabolite)\n",
    "\n",
    "            else:\n",
    "                metabolite = core.metabolites.get_by_id(met.id)\n",
    "                m=metabolite_to_dict(metabolite)\n",
    "            # print(met.id)\n",
    "            metabolite_list.append(met.id)\n",
    "            df_2=pd.DataFrame.from_dict(m,orient='index')\n",
    "            df_2=df_2.T\n",
    "            met_df= pd.concat([met_df, df_2])\n",
    "\n",
    "\n",
    "rxn_df=rxn_df.set_index('id')\n",
    "met_df=met_df.set_index('id')\n",
    "rxn_df\n",
    "reactions_not_in_r3d"
   ]
  },
  {
   "cell_type": "code",
   "execution_count": 11,
   "metadata": {},
   "outputs": [
    {
     "data": {
      "text/plain": [
       "69"
      ]
     },
     "execution_count": 11,
     "metadata": {},
     "output_type": "execute_result"
    }
   ],
   "source": [
    "len(glycolysis_ppp_tca_etc.reactions)"
   ]
  },
  {
   "cell_type": "code",
   "execution_count": 12,
   "metadata": {},
   "outputs": [
    {
     "data": {
      "text/plain": [
       "78"
      ]
     },
     "execution_count": 12,
     "metadata": {},
     "output_type": "execute_result"
    }
   ],
   "source": [
    "len(rxn_df)"
   ]
  },
  {
   "cell_type": "code",
   "execution_count": 13,
   "metadata": {},
   "outputs": [
    {
     "data": {
      "text/html": [
       "<div>\n",
       "<style scoped>\n",
       "    .dataframe tbody tr th:only-of-type {\n",
       "        vertical-align: middle;\n",
       "    }\n",
       "\n",
       "    .dataframe tbody tr th {\n",
       "        vertical-align: top;\n",
       "    }\n",
       "\n",
       "    .dataframe thead th {\n",
       "        text-align: right;\n",
       "    }\n",
       "</style>\n",
       "<table border=\"1\" class=\"dataframe\">\n",
       "  <thead>\n",
       "    <tr style=\"text-align: right;\">\n",
       "      <th></th>\n",
       "      <th>name</th>\n",
       "      <th>charge</th>\n",
       "      <th>formula</th>\n",
       "      <th>compartment</th>\n",
       "    </tr>\n",
       "    <tr>\n",
       "      <th>id</th>\n",
       "      <th></th>\n",
       "      <th></th>\n",
       "      <th></th>\n",
       "      <th></th>\n",
       "    </tr>\n",
       "  </thead>\n",
       "  <tbody>\n",
       "    <tr>\n",
       "      <th>pep_c</th>\n",
       "      <td>Phosphoenolpyruvate</td>\n",
       "      <td>-3</td>\n",
       "      <td>C3H2O6P</td>\n",
       "      <td>c</td>\n",
       "    </tr>\n",
       "    <tr>\n",
       "      <th>pep_m</th>\n",
       "      <td>Phosphoenolpyruvate</td>\n",
       "      <td>-3</td>\n",
       "      <td>C3H2O6P</td>\n",
       "      <td>m</td>\n",
       "    </tr>\n",
       "    <tr>\n",
       "      <th>pi_c</th>\n",
       "      <td>Phosphate</td>\n",
       "      <td>0</td>\n",
       "      <td>HO4P</td>\n",
       "      <td>c</td>\n",
       "    </tr>\n",
       "    <tr>\n",
       "      <th>pi_m</th>\n",
       "      <td>Phosphate</td>\n",
       "      <td>0</td>\n",
       "      <td>HO4P</td>\n",
       "      <td>m</td>\n",
       "    </tr>\n",
       "    <tr>\n",
       "      <th>co2_m</th>\n",
       "      <td>CO2 CO2</td>\n",
       "      <td>0</td>\n",
       "      <td>CO2</td>\n",
       "      <td>m</td>\n",
       "    </tr>\n",
       "    <tr>\n",
       "      <th>...</th>\n",
       "      <td>...</td>\n",
       "      <td>...</td>\n",
       "      <td>...</td>\n",
       "      <td>...</td>\n",
       "    </tr>\n",
       "    <tr>\n",
       "      <th>e4p_c</th>\n",
       "      <td>D-Erythrose 4-phosphate</td>\n",
       "      <td>-2</td>\n",
       "      <td>C4H7O7P</td>\n",
       "      <td>c</td>\n",
       "    </tr>\n",
       "    <tr>\n",
       "      <th>h2o2_c</th>\n",
       "      <td>Hydrogen peroxide</td>\n",
       "      <td>0</td>\n",
       "      <td>H2O2</td>\n",
       "      <td>c</td>\n",
       "    </tr>\n",
       "    <tr>\n",
       "      <th>o2s_c</th>\n",
       "      <td>Superoxide anion</td>\n",
       "      <td>-1</td>\n",
       "      <td>O2</td>\n",
       "      <td>c</td>\n",
       "    </tr>\n",
       "    <tr>\n",
       "      <th>gthox_c</th>\n",
       "      <td>Oxidized glutathione</td>\n",
       "      <td>-2</td>\n",
       "      <td>C20H30N6O12S2</td>\n",
       "      <td>c</td>\n",
       "    </tr>\n",
       "    <tr>\n",
       "      <th>gthrd_c</th>\n",
       "      <td>Reduced glutathione</td>\n",
       "      <td>-1</td>\n",
       "      <td>C10H16N3O6S</td>\n",
       "      <td>c</td>\n",
       "    </tr>\n",
       "  </tbody>\n",
       "</table>\n",
       "<p>86 rows × 4 columns</p>\n",
       "</div>"
      ],
      "text/plain": [
       "                            name charge        formula compartment\n",
       "id                                                                \n",
       "pep_c        Phosphoenolpyruvate     -3        C3H2O6P           c\n",
       "pep_m        Phosphoenolpyruvate     -3        C3H2O6P           m\n",
       "pi_c                   Phosphate      0           HO4P           c\n",
       "pi_m                   Phosphate      0           HO4P           m\n",
       "co2_m                    CO2 CO2      0            CO2           m\n",
       "...                          ...    ...            ...         ...\n",
       "e4p_c    D-Erythrose 4-phosphate     -2        C4H7O7P           c\n",
       "h2o2_c         Hydrogen peroxide      0           H2O2           c\n",
       "o2s_c           Superoxide anion     -1             O2           c\n",
       "gthox_c     Oxidized glutathione     -2  C20H30N6O12S2           c\n",
       "gthrd_c      Reduced glutathione     -1    C10H16N3O6S           c\n",
       "\n",
       "[86 rows x 4 columns]"
      ]
     },
     "execution_count": 13,
     "metadata": {},
     "output_type": "execute_result"
    }
   ],
   "source": [
    "met_df"
   ]
  },
  {
   "cell_type": "code",
   "execution_count": 14,
   "metadata": {},
   "outputs": [
    {
     "data": {
      "text/plain": [
       "Index(['PEPtm', 'PEPCKm', 'PYK', 'PCm', 'LDH_L', 'PGMT', 'GLPASE2', 'GLDBRAN',\n",
       "       'GLBRAN', 'GLPASE1', 'GLGNS1', 'GGNG', 'GALUi', 'ADK1', 'NADH2_u10mi',\n",
       "       'FADH2ETC', 'CYOR_u10mi', 'CYOOm2i', 'ATPS4mi', 'Htmi', 'CSm', 'ACONTm',\n",
       "       'ICDHxm', 'AKGDm', 'SUCOASm', 'SUCD1m', 'FUMm', 'MDHm', 'PDHm', 'FBP',\n",
       "       'MALtm', 'MDH', 'PEPCK_re', 'HCO3Em', 'ATPtm', 'AKGMALtm', 'ASPTA',\n",
       "       'ASPTAm', 'PYRt2m', 'ASPGLUm', 'Htm', 'O2tm', 'H2Otm', 'PItm', 'CO2tm',\n",
       "       'EX_co2_c', 'EX_o2_c', 'EX_h_c', 'EX_h2o_c', 'EX_pi_c', 'NDPK1m',\n",
       "       'NDPK1', 'ATPM', 'HEX1', 'PGI', 'PFK', 'FBA', 'TPI', 'GAPD', 'PGK',\n",
       "       'PGM', 'ENO', 'EX_glc__D_c', 'EX_lac__L_c', 'G6PDH2r', 'PGL', 'GND',\n",
       "       'RPI', 'RPE', 'TKT1', 'TKT2', 'TALA', 'SPODM', 'GTHPi', 'GTHOr',\n",
       "       'NADPHM', 'EX_r5p_c', 'EX_o2s_c'],\n",
       "      dtype='object', name='id')"
      ]
     },
     "execution_count": 14,
     "metadata": {},
     "output_type": "execute_result"
    }
   ],
   "source": [
    "rxn_df.index"
   ]
  },
  {
   "cell_type": "code",
   "execution_count": 13,
   "metadata": {},
   "outputs": [],
   "source": [
    "# metabolite_list=[]\n",
    "# for mid in glycolysis_ppp_tca_etc.metabolites:\n",
    "#     metabolite_list.append(mid.id)\n",
    "# len(metabolite_list)"
   ]
  },
  {
   "cell_type": "code",
   "execution_count": 14,
   "metadata": {},
   "outputs": [],
   "source": [
    "# met_df=pd.DataFrame()\n",
    "# for met in metabolite_list:\n",
    "#     r3d_met= R3D.metabolites.get_by_id(met)\n",
    "#     m=metabolite_to_dict(r3d_met)\n",
    "#     df_2=pd.DataFrame.from_dict(m,orient='index')\n",
    "#     df_2=df_2.T\n",
    "#     met_df = pd.concat([df_2, met_df])\n",
    "\n",
    "# met_df=met_df.set_index('id')\n",
    "# met_df"
   ]
  },
  {
   "cell_type": "code",
   "execution_count": 15,
   "metadata": {},
   "outputs": [],
   "source": [
    "csv_met = os.path.join(data_dir,\"small_core_met_df.csv\")\n",
    "met_df.to_csv(csv_met)"
   ]
  },
  {
   "cell_type": "code",
   "execution_count": 16,
   "metadata": {},
   "outputs": [],
   "source": [
    "# rxn_df=pd.DataFrame()\n",
    "# reactions_not_in_r3d=[]\n",
    "# for rxn in reaction_list:\n",
    "#     if rxn in R3D.reactions:\n",
    "#         r3d_rxn= R3D.reactions.get_by_id(rxn)\n",
    "#         r=reaction_to_dict(r3d_rxn)\n",
    "#     #     print(r)\n",
    "\n",
    "#     elif rxn in core.reactions:\n",
    "#         reaction = core.reactions.get_by_id(rxn)\n",
    "#         r=reaction_to_dict(reaction)\n",
    "#         reactions_not_in_r3d.append(rxn)\n",
    "#     else:\n",
    "#         reaction = glycolysis_ppp_tca_etc.reactions.get_by_id(rxn)\n",
    "#         r=reaction_to_dict(reaction)\n",
    "#         reactions_not_in_r3d.append(rxn)\n",
    "\n",
    "        \n",
    "#     df=pd.DataFrame.from_dict(r,orient='index')\n",
    "#     df=df.T\n",
    "#     rxn_df = pd.concat([rxn_df,df ])\n",
    "\n",
    "# rxn_df=rxn_df.set_index('id')\n",
    "# rxn_df\n",
    "# reactions_not_in_r3d"
   ]
  },
  {
   "cell_type": "code",
   "execution_count": 17,
   "metadata": {},
   "outputs": [],
   "source": [
    "csv_rxn = os.path.join(data_dir,\"small_core_reaction_df.csv\")\n",
    "rxn_df.to_csv(csv_rxn)"
   ]
  },
  {
   "cell_type": "code",
   "execution_count": 18,
   "metadata": {},
   "outputs": [],
   "source": [
    "json_rxn = os.path.join(data_dir,\"small_core_reaction_df.json\")\n",
    "rxn_df.to_json(json_rxn\n",
    ",orient=\"index\"\n",
    ")   "
   ]
  },
  {
   "cell_type": "code",
   "execution_count": null,
   "metadata": {},
   "outputs": [],
   "source": []
  }
 ],
 "metadata": {
  "kernelspec": {
   "display_name": "Python 3.8.12 ('massliver')",
   "language": "python",
   "name": "python3"
  },
  "language_info": {
   "codemirror_mode": {
    "name": "ipython",
    "version": 3
   },
   "file_extension": ".py",
   "mimetype": "text/x-python",
   "name": "python",
   "nbconvert_exporter": "python",
   "pygments_lexer": "ipython3",
   "version": "3.8.12"
  },
  "orig_nbformat": 4,
  "vscode": {
   "interpreter": {
    "hash": "dac1de4d04d521f2478106b8cf0804304a8a54afaab58ac4b602c07888c6e2cc"
   }
  }
 },
 "nbformat": 4,
 "nbformat_minor": 2
}
